{
 "cells": [
  {
   "cell_type": "markdown",
   "metadata": {},
   "source": [
    "## 10.1. Pen & Paper: Backpropagation"
   ]
  },
  {
   "cell_type": "markdown",
   "metadata": {},
   "source": [
    "Perform a forward and backward pass to calculate the gradients for the weights $w_0, w_1, w_2, w_s$ in the following MLP. Each node represents one unit with a weight $w_i, i \\in \\{0, 1, 2\\}$ connecting it to the previous node. The connection from unit 0 to unit 2 is called a _skip connection_, which means unit 2 receives input from two sources and thus has an additional weight $w_s$. The weighted inputs are added before the nonlinearity is applied.\n",
    "\n",
    "**![There should be an image here. If you can't see it, you probably forgot to download the mlp.png!](mlp.png)**\n",
    "\n",
    "We assume that we want to solve a binary classification task, therefore the nonlinearity for unit 2 is the logistic function, so $h_2(a_2) = h_{\\text{logistic}}(a_2)$. The corresponding loss function is the cross-entropy $L = CE(\\hat{y}, y) = -y \\log \\hat{y} - (1 - y) \\log (1 - \\hat{y})$. The nonlinearities for units 0 and 1 are the hyperbolic tangent function: $h_0 = h_1 = h_{\\text{tanh}}$.\n",
    "\n",
    "We provide you with one evaluation step for the backward pass, because the derivation of the cross-entropy loss can take some time. Feel free to try it, but you have been warned! Otherwise simply use this (CE = Cross-Entropy):\n",
    "\n",
    "\\begin{equation}\n",
    "\\frac{\\partial CE}{\\partial \\hat{y}} \\frac{\\partial \\hat{y}}{a_2} = h_{\\text{logistic}}(a_2) - y\n",
    "\\end{equation}\n",
    "\n",
    "**Q 8.1.1: What difference does the skip connection make when propagating back the error?** "
   ]
  }
 ],
 "metadata": {
  "kernelspec": {
   "display_name": "Python 3",
   "language": "python",
   "name": "python3"
  },
  "language_info": {
   "codemirror_mode": {
    "name": "ipython",
    "version": 3
   },
   "file_extension": ".py",
   "mimetype": "text/x-python",
   "name": "python",
   "nbconvert_exporter": "python",
   "pygments_lexer": "ipython3",
   "version": "3.6.5"
  }
 },
 "nbformat": 4,
 "nbformat_minor": 1
}
