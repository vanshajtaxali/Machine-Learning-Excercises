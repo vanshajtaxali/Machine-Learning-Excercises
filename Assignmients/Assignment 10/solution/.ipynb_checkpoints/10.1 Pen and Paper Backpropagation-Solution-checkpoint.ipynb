{
 "cells": [
  {
   "cell_type": "markdown",
   "metadata": {},
   "source": [
    "## 10.1. Pen & Paper: Backpropagation"
   ]
  },
  {
   "cell_type": "markdown",
   "metadata": {},
   "source": [
    "Perform a forward and backward pass to calculate the gradients for the weights $w_0, w_1, w_2, w_s$ in the following MLP. Each node represents one unit with a weight $w_i, i \\in \\{0, 1, 2\\}$ connecting it to the previous node. The connection from unit 0 to unit 2 is called a _skip connection_, which means unit 2 receives input from two sources and thus has an additional weight $w_s$. The weighted inputs are added before the nonlinearity is applied.\n",
    "\n",
    "**![There should be an image here. If you can't see it, you probably forgot to download the mlp.png!](mlp.png)**\n",
    "\n",
    "We assume that we want to solve a binary classification task, therefore the nonlinearity for unit 2 is the logistic function, so $h_2(a_2) = h_{\\text{logistic}}(a_2)$. The corresponding loss function is the cross-entropy $L = CE(\\hat{y}, y) = -y \\log \\hat{y} - (1 - y) \\log (1 - \\hat{y})$. The nonlinearities for units 0 and 1 are the hyperbolic tangent function: $h_0 = h_1 = h_{\\text{tanh}}$.\n",
    "\n",
    "We provide you with one evaluation step for the backward pass, because the derivation of the cross-entropy loss can take some time. Feel free to try it, but you have been warned! Otherwise simply use this (CE = Cross-Entropy):\n",
    "\n",
    "\\begin{equation}\n",
    "\\frac{\\partial CE}{\\partial \\hat{y}} \\frac{\\partial \\hat{y}}{a_2} = h_{\\text{logistic}}(a_2) - y\n",
    "\\end{equation}\n",
    "\n",
    "**Q 8.1.1: What difference does the skip connection make when propagating back the error?** \n",
    "\n",
    "** Answer: ** Regarding the backpropagation, the third layer receives input from two sources, therefore the gradient flows as well from the third to the first layer in the backward pass. The result is an additional term in the corresponding equations.\n",
    "\n",
    "Regarding the effectiveness of training, this helps to reduce the [vanishing gradient problem](https://en.wikipedia.org/wiki/Vanishing_gradient_problem). If we have many layers in our network, the magnitude of gradients can shrink towards the first layers to a point where they are basically not trained. Skip connections help bypass this by propagating the gradient uninterrupted from the last layers. With increasingly deep networks, the are applied quite often in modern architectures."
   ]
  },
  {
   "cell_type": "markdown",
   "metadata": {},
   "source": [
    "<img src='bp_solution.png'>"
   ]
  },
  {
   "cell_type": "code",
   "execution_count": 1,
   "metadata": {},
   "outputs": [
    {
     "data": {
      "application/vnd.jupyter.widget-view+json": {
       "model_id": "23cde9babeba4956befd907fb3ccdc4c",
       "version_major": 2,
       "version_minor": 0
      },
      "text/plain": [
       "HTML(value='\\n<svg width=\"1000px\" height=0><defs><clipPath id=\"mask\">\\n<rect x=0 y=0 width=\\'1000px\\' height=\\…"
      ]
     },
     "metadata": {},
     "output_type": "display_data"
    },
    {
     "data": {
      "application/vnd.jupyter.widget-view+json": {
       "model_id": "c5ae171b8a414c17823d9d9a9b087c3d",
       "version_major": 2,
       "version_minor": 0
      },
      "text/plain": [
       "Box(children=(Button(description='Previous', style=ButtonStyle()), Button(description='Next', style=ButtonStyl…"
      ]
     },
     "metadata": {},
     "output_type": "display_data"
    }
   ],
   "source": [
    "# This is for the exercise session in order to show the steps successively\n",
    "\n",
    "import ipywidgets as widgets\n",
    "from IPython.display import display, display_html\n",
    "\n",
    "i = 0\n",
    "\n",
    "html_pre = \"\"\"\n",
    "<svg width=\"1000px\" height=0><defs><clipPath id=\"mask\">\n",
    "\"\"\"\n",
    "html_post = \"\"\"\n",
    "</clipPath></defs></svg>\n",
    "<style>\n",
    "img {\n",
    "    display: block;\n",
    "    margin: 0 auto;\n",
    "}\n",
    ".bp {\n",
    "    width: 1000px;\n",
    "    -webkit-clip-path: circle(#mask);\n",
    "    clip-path: url(#mask);\n",
    "}\n",
    "</style>\n",
    "<img src='mlp.png' text-align='center'>\n",
    "<img src=\"bp_solution.png\" class=bp />\n",
    "\"\"\"\n",
    "\n",
    "fp = [390, 320, 250, 180, 110, 0]\n",
    "bp = [100, 170, 170, 240, 310, 310, 380, 450]\n",
    "\n",
    "def get_state(i):\n",
    "    path = \"<rect x=0 y=0 width='1000px' height='50' />\"\n",
    "    if i >= 14:\n",
    "        path = \"<rect x=0 y=0 width='1000px' height='500' />\"\n",
    "    else:\n",
    "        # Forward pass\n",
    "        path += \"<rect x=0 y={:d} width='28%' height='500' />\".format(fp[min(i, len(fp) - 1)])\n",
    "        # Backward pass\n",
    "        if i >= len(fp):\n",
    "            path += \"<rect x=0 y=0 width='72%' height='{:d}' />\".format(bp[min(i - len(fp), len(bp) - 1)])\n",
    "        # Weights\n",
    "        if i >= 8:\n",
    "            path += \"<rect x='62%' y=0 width='1000px' height='240' />\"\n",
    "        if i >= 11:\n",
    "            path += \"<rect x='70%' y=0 width='1000px' height='330' />\"\n",
    "\n",
    "\n",
    "    return html_pre + path + html_post\n",
    "\n",
    "image = widgets.HTML(value=get_state(i))\n",
    "\n",
    "def show_image(btn):\n",
    "    global i\n",
    "    if btn.description == 'Previous':\n",
    "        i = max(0, i - 1) \n",
    "    if btn.description == 'Next':\n",
    "        i = min(14, i + 1)\n",
    "    image.value = get_state(i)\n",
    "        \n",
    "prev_btn = widgets.Button(description='Previous')\n",
    "next_btn = widgets.Button(description='Next')\n",
    "prev_btn.on_click(show_image)\n",
    "next_btn.on_click(show_image)\n",
    "\n",
    "display(image)\n",
    "box_layout = widgets.Layout(display='flex',\n",
    "                    flex_flow='row',\n",
    "                    align_items='stretch',\n",
    "                    justify_content='center',\n",
    "                    width='1000px')\n",
    "box = widgets.Box(children=[prev_btn, next_btn], layout=box_layout)\n",
    "display(box)\n"
   ]
  },
  {
   "cell_type": "markdown",
   "metadata": {},
   "source": [
    "### Bonus: Derivation of the Cross-Entropy gradient\n",
    "\n",
    "We're interested in the gradient $\\frac{\\partial L}{\\partial \\hat{y}} \\frac{\\partial \\hat{y}}{\\partial a_2}$.\n",
    "\n",
    "Let's start with the loss:\n",
    "\n",
    "\\begin{eqnarray}\n",
    "L &=& -y \\log \\hat{y} - (1 - y) \\log (1 - \\hat{y}) \\\\\n",
    "\\frac{\\partial L}{\\partial \\hat{y}} &=& -y \\cdot \\frac{1}{\\hat{y}} + (1 - y) \\cdot \\frac{1}{1 - \\hat{y}}\n",
    "\\end{eqnarray}\n",
    "\n",
    "Now we turn to the logistic function:\n",
    "\\begin{eqnarray}\n",
    "\\hat{y} = h_{\\text{logistic}}(a_2) = \\frac{1}{1 + e^{-a_2}} = \\frac{e^{a_2}}{1 + e^{a_2}}\n",
    "\\end{eqnarray}\n",
    "\n",
    "The last reformulation will make it easier to get a nice derivative of the logistic function. It's mostly refactoring after applying the quotient rule:\n",
    "\n",
    "\\begin{eqnarray}\n",
    "\\frac{\\partial \\hat{y}}{\\partial a_2} &=& \\frac{e^{a_2} (1 + e) - e^{a_2} e^{a_2}}{(1 + e^{a_2})^2} = \\frac{e^{a_2}}{(1 + e^{a_2})^2} \\\\\n",
    "&=&  \\frac{e^{a_2}}{(1 + e^{a_2})}  \\frac{1}{(1 + e^{a_2})} \\\\\n",
    "&=& h_{\\text{logistic}}(a_2) \\cdot \\left( \\frac{1 + e^{a_2} - e^{a_2}}{1 + e^{a_2}} \\right) = h_{\\text{logistic}}(a_2) \\left(1 - h_{\\text{logistic}}(a_2)\\right)\n",
    "\\end{eqnarray}\n",
    "\n",
    "With these two partials at hand, we can combine them to our desired gradient:\n",
    "\n",
    "\\begin{eqnarray}\n",
    "\\frac{\\partial L}{\\partial \\hat{y}} \\frac{\\partial \\hat{y}}{\\partial a_2} &=& \\left( -y \\cdot \\frac{1}{\\hat{y}} + (1 - y) \\cdot \\frac{1}{1 - \\hat{y}} \\right) h_{\\text{logistic}}(a_2) \\left(1 - h_{\\text{logistic}}(a_2)\\right) \\\\\n",
    "&=&  -y \\cdot \\frac{ h_{\\text{logistic}}(a_2) \\left(1 - h_{\\text{logistic}}(a_2)\\right)}{\\hat{y}} + (1 - y) \\cdot \\frac{ h_{\\text{logistic}}(a_2) \\left(1 - h_{\\text{logistic}}(a_2)\\right)}{1 - \\hat{y}} \\\\\n",
    "&=& -y \\cdot (1 - h_{\\text{logistic}}(a_2)) + (1 - y) \\cdot h_{\\text{logistic}}(a_2) \\\\\n",
    "&=& -y + y \\cdot h_{\\text{logistic}}(a_2) + h_{\\text{logistic}}(a_2) - y \\cdot h_{\\text{logistic}}(a_2) \\\\\n",
    "&=& h_{\\text{logistic}}(a_2) - y\n",
    "\\end{eqnarray}"
   ]
  }
 ],
 "metadata": {
  "kernelspec": {
   "display_name": "Python 3",
   "language": "python",
   "name": "python3"
  },
  "language_info": {
   "codemirror_mode": {
    "name": "ipython",
    "version": 3
   },
   "file_extension": ".py",
   "mimetype": "text/x-python",
   "name": "python",
   "nbconvert_exporter": "python",
   "pygments_lexer": "ipython3",
   "version": "3.7.0"
  },
  "widgets": {
   "application/vnd.jupyter.widget-state+json": {
    "state": {
     "0005e0c174994d37878dda0f148cb1ec": {
      "model_module": "jupyter-js-widgets",
      "model_module_version": "~2.1.4",
      "model_name": "LayoutModel",
      "state": {
       "_model_module_version": "~2.1.4",
       "_view_module_version": "~2.1.4"
      }
     },
     "005bb4afe63648cb9b931b48bd47b804": {
      "model_module": "jupyter-js-widgets",
      "model_module_version": "~2.1.4",
      "model_name": "LayoutModel",
      "state": {
       "_model_module_version": "~2.1.4",
       "_view_module_version": "~2.1.4"
      }
     },
     "0093a3c8d27243a085d3a08ef1b83c3c": {
      "model_module": "jupyter-js-widgets",
      "model_module_version": "~2.1.4",
      "model_name": "ButtonModel",
      "state": {
       "_model_module_version": "~2.1.4",
       "_view_module_version": "~2.1.4",
       "description": "Previous",
       "layout": "IPY_MODEL_ab23d7227cce43208668673b7b398d9e",
       "style": "IPY_MODEL_b3011ec243c143f5ab4192ab88d4e3d1"
      }
     },
     "009eaf031fb3416ebab181eda2d67d4e": {
      "model_module": "jupyter-js-widgets",
      "model_module_version": "~2.1.4",
      "model_name": "ButtonStyleModel",
      "state": {
       "_model_module_version": "~2.1.4",
       "_view_module_version": "~2.1.4"
      }
     },
     "00a8fcb8c8a44816b3c99c5104597ae2": {
      "model_module": "jupyter-js-widgets",
      "model_module_version": "~2.1.4",
      "model_name": "LayoutModel",
      "state": {
       "_model_module_version": "~2.1.4",
       "_view_module_version": "~2.1.4"
      }
     },
     "00b426fee338478e88559eb22fe70578": {
      "model_module": "jupyter-js-widgets",
      "model_module_version": "~2.1.4",
      "model_name": "ButtonModel",
      "state": {
       "_model_module_version": "~2.1.4",
       "_view_module_version": "~2.1.4",
       "description": "Previous",
       "icon": "check",
       "layout": "IPY_MODEL_3c0328656be54e82ad248a914a6b647f",
       "style": "IPY_MODEL_a7eb063cd89942d98577d5fc9416110f",
       "tooltip": "Click me"
      }
     },
     "00b8a92fef504ccc9316c08ed4b541a2": {
      "model_module": "jupyter-js-widgets",
      "model_module_version": "~2.1.4",
      "model_name": "ButtonModel",
      "state": {
       "_model_module_version": "~2.1.4",
       "_view_module_version": "~2.1.4",
       "description": "Previous",
       "icon": "check",
       "layout": "IPY_MODEL_cc323a3f56184501bf325a60d4683a49",
       "style": "IPY_MODEL_6975224f673b4602b1d029442345e606",
       "tooltip": "Click me"
      }
     },
     "01059d78ca5f4d118a34bbd7f2a17379": {
      "model_module": "jupyter-js-widgets",
      "model_module_version": "~2.1.4",
      "model_name": "ButtonStyleModel",
      "state": {
       "_model_module_version": "~2.1.4",
       "_view_module_version": "~2.1.4"
      }
     },
     "0126161f2a20486ea562244f4f402c56": {
      "model_module": "jupyter-js-widgets",
      "model_module_version": "~2.1.4",
      "model_name": "ButtonStyleModel",
      "state": {
       "_model_module_version": "~2.1.4",
       "_view_module_version": "~2.1.4"
      }
     },
     "0136276c34474328929f81bda518a211": {
      "model_module": "jupyter-js-widgets",
      "model_module_version": "~2.1.4",
      "model_name": "HTMLModel",
      "state": {
       "_model_module_version": "~2.1.4",
       "_view_module_version": "~2.1.4",
       "layout": "IPY_MODEL_903a4f36ab424d3ea1d9621555443293",
       "value": "\n<svg width=\"100%\" height=0><defs><clipPath id=\"mask\">\n<rect x=0 y=0 width='100%' height='50' /><rect x=0 y=0 width='28%' height='500' /><rect x=0 y=0 width='72%' height='310' /><rect x='62%' y=0 width='100%' height='240' /><rect x='70%' y=0 width='100%' height='330' />\n</clipPath></defs></svg>\n<style>\nimg {\n    display: block;\n    margin: 0 auto;\n}\n.bp {\n    width: 100%;\n    -webkit-clip-path: circle(#mask);\n    clip-path: url(#mask);\n}\n</style>\n<img src=\"bp_solution.png\" class=bp />\n"
      }
     },
     "01399b5aae9049b1aa6e48c017a26f4d": {
      "model_module": "jupyter-js-widgets",
      "model_module_version": "~2.1.4",
      "model_name": "LayoutModel",
      "state": {
       "_model_module_version": "~2.1.4",
       "_view_module_version": "~2.1.4"
      }
     },
     "013ac1547e4b4ff68ddc6b42091e127f": {
      "model_module": "jupyter-js-widgets",
      "model_module_version": "~2.1.4",
      "model_name": "ButtonModel",
      "state": {
       "_model_module_version": "~2.1.4",
       "_view_module_version": "~2.1.4",
       "description": "Previous",
       "layout": "IPY_MODEL_22fa1d6efda64a888716854d0b2d94c0",
       "style": "IPY_MODEL_7d8541fc63704c1588247e07169c1de0"
      }
     },
     "016879c498f84eeb81656039f9e70630": {
      "model_module": "jupyter-js-widgets",
      "model_module_version": "~2.1.4",
      "model_name": "ButtonStyleModel",
      "state": {
       "_model_module_version": "~2.1.4",
       "_view_module_version": "~2.1.4"
      }
     },
     "0173e35d02844418b37ef715cc83d3fc": {
      "model_module": "jupyter-js-widgets",
      "model_module_version": "~2.1.4",
      "model_name": "ButtonStyleModel",
      "state": {
       "_model_module_version": "~2.1.4",
       "_view_module_version": "~2.1.4"
      }
     },
     "01821c70e9c740258b11c06046116d5c": {
      "model_module": "jupyter-js-widgets",
      "model_module_version": "~2.1.4",
      "model_name": "LayoutModel",
      "state": {
       "_model_module_version": "~2.1.4",
       "_view_module_version": "~2.1.4"
      }
     },
     "0185debf3ca34f9b978ababcb75e3839": {
      "model_module": "jupyter-js-widgets",
      "model_module_version": "~2.1.4",
      "model_name": "ButtonStyleModel",
      "state": {
       "_model_module_version": "~2.1.4",
       "_view_module_version": "~2.1.4"
      }
     },
     "01b90d91fdf44afd9ccdfc2df607294e": {
      "model_module": "jupyter-js-widgets",
      "model_module_version": "~2.1.4",
      "model_name": "ButtonStyleModel",
      "state": {
       "_model_module_version": "~2.1.4",
       "_view_module_version": "~2.1.4"
      }
     },
     "01c77841e59f48479d36df1724827c91": {
      "model_module": "jupyter-js-widgets",
      "model_module_version": "~2.1.4",
      "model_name": "HTMLModel",
      "state": {
       "_model_module_version": "~2.1.4",
       "_view_module_version": "~2.1.4",
       "layout": "IPY_MODEL_9d30497780364e1eaedccedec1e21838",
       "value": "\n<svg width=\"100%\" height=0>\n   <defs>\n    <clipPath id=\"mask\">\n      <rect x=0 y=0 width=\"50%\" height=\"700\">\n    </clipPath>\n  </defs>\n</svg>\n<style>\n.bp {\n    width: 100%;\n    -webkit-clip-path: circle(#mask);\n    clip-path: url(#mask);\n}\n</style>\n<img src=\"bp_solution.png\" class=bp>\n"
      }
     },
     "01d027e6423b46348cee751807092a64": {
      "model_module": "jupyter-js-widgets",
      "model_module_version": "~2.1.4",
      "model_name": "LayoutModel",
      "state": {
       "_model_module_version": "~2.1.4",
       "_view_module_version": "~2.1.4"
      }
     },
     "01f513ff83614e3ea8d430e8a948d46e": {
      "model_module": "jupyter-js-widgets",
      "model_module_version": "~2.1.4",
      "model_name": "ButtonStyleModel",
      "state": {
       "_model_module_version": "~2.1.4",
       "_view_module_version": "~2.1.4"
      }
     },
     "0205fc5479a44533b1f9d083a7fd1290": {
      "model_module": "jupyter-js-widgets",
      "model_module_version": "~2.1.4",
      "model_name": "ButtonStyleModel",
      "state": {
       "_model_module_version": "~2.1.4",
       "_view_module_version": "~2.1.4"
      }
     },
     "023b8c1e36144d95a3c46034bfb78d87": {
      "model_module": "jupyter-js-widgets",
      "model_module_version": "~2.1.4",
      "model_name": "ButtonModel",
      "state": {
       "_model_module_version": "~2.1.4",
       "_view_module_version": "~2.1.4",
       "description": "Previous",
       "icon": "check",
       "layout": "IPY_MODEL_6fe8fb40567c46f0b671a421b09fbc22",
       "style": "IPY_MODEL_fec80bc1f0cb4acc896152f7f7a3e5fe",
       "tooltip": "Click me"
      }
     },
     "0266beebaf5f4e1a9f6111cee59c8347": {
      "model_module": "jupyter-js-widgets",
      "model_module_version": "~2.1.4",
      "model_name": "HTMLModel",
      "state": {
       "_model_module_version": "~2.1.4",
       "_view_module_version": "~2.1.4",
       "layout": "IPY_MODEL_b2cd7c596a6b4e2c93f651d24d60455f",
       "value": "\n<svg width=\"100%\" height=0><defs><clipPath id=\"mask\">\n<rect x=0 y=0 width='100%' height='50' /><rect x=0 y=0 width='28%' height='500' /><rect x=0 y=0 width='72%' height='310' /><rect x='62%' y=0 width='100%' height='240' /><rect x='70%' y=0 width='100%' height='330' />\n</clipPath></defs></svg>\n<style>\n.bp {\n    width: 100%;\n    -webkit-clip-path: circle(#mask);\n    clip-path: url(#mask);\n}\n</style>\n<img src=\"bp_solution.png\" class=bp />\n"
      }
     },
     "02796512e67b4b89b5a9ba38f56ecfa3": {
      "model_module": "jupyter-js-widgets",
      "model_module_version": "~2.1.4",
      "model_name": "HTMLModel",
      "state": {
       "_model_module_version": "~2.1.4",
       "_view_module_version": "~2.1.4",
       "layout": "IPY_MODEL_868f0843573f4c40930fee8441cb90b4",
       "value": "\n<style>\nimg {\n    width: 100%\n    clip-path: circle(50px);\n}\n</style>\n<img src=\"bp_solution.png\">\n"
      }
     },
     "02a10bccb8434e82ae600e0daa87ab6f": {
      "model_module": "jupyter-js-widgets",
      "model_module_version": "~2.1.4",
      "model_name": "LayoutModel",
      "state": {
       "_model_module_version": "~2.1.4",
       "_view_module_version": "~2.1.4"
      }
     },
     "02a7d8e650494e169659a2f8be25f621": {
      "model_module": "jupyter-js-widgets",
      "model_module_version": "~2.1.4",
      "model_name": "ButtonModel",
      "state": {
       "_model_module_version": "~2.1.4",
       "_view_module_version": "~2.1.4",
       "description": "Next",
       "layout": "IPY_MODEL_7138201114bc40058122c700c1dfe432",
       "style": "IPY_MODEL_5135bc33ad274b498c187952732bad47"
      }
     },
     "02d93adb9ea14ca2b9ee0e12fd79f84b": {
      "model_module": "jupyter-js-widgets",
      "model_module_version": "~2.1.4",
      "model_name": "ButtonModel",
      "state": {
       "_model_module_version": "~2.1.4",
       "_view_module_version": "~2.1.4",
       "description": "Previous",
       "icon": "check",
       "layout": "IPY_MODEL_b661994ca4f149729de937f69fa6b0cc",
       "style": "IPY_MODEL_9f2800add88e4a1da311869f8b49fd2f",
       "tooltip": "Click me"
      }
     },
     "02de8dd92cae480db51abfd2a4de0e4e": {
      "model_module": "jupyter-js-widgets",
      "model_module_version": "~2.1.4",
      "model_name": "ButtonModel",
      "state": {
       "_model_module_version": "~2.1.4",
       "_view_module_version": "~2.1.4",
       "description": "Next",
       "icon": "check",
       "layout": "IPY_MODEL_d945088220cb4545818f5cbd9450f446",
       "style": "IPY_MODEL_28e8b205fe444a31a66c5697560ec49a",
       "tooltip": "Click me"
      }
     },
     "02e19ead070d48ed9b91cdde6cf1d91e": {
      "model_module": "jupyter-js-widgets",
      "model_module_version": "~2.1.4",
      "model_name": "HTMLModel",
      "state": {
       "_model_module_version": "~2.1.4",
       "_view_module_version": "~2.1.4",
       "layout": "IPY_MODEL_8fcc02d30c3f4e7b8e4eed32927f3aa4",
       "value": "\n<svg width=\"100%\" height=0><defs><clipPath id=\"mask\">\n<rect x=0 y=0 width='28%' height='500'><rect x=0 y=0 width='100%' height='50'>\n</clipPath></defs></svg>\n<style>\n.bp {\n    width: 100%;\n    -webkit-clip-path: circle(#mask);\n    clip-path: url(#mask);\n}\n</style>\n<img src=\"bp_solution.png\" class=bp>\n"
      }
     },
     "0305eeacb9f74667aea04cc31a144689": {
      "model_module": "jupyter-js-widgets",
      "model_module_version": "~2.1.4",
      "model_name": "ButtonModel",
      "state": {
       "_model_module_version": "~2.1.4",
       "_view_module_version": "~2.1.4",
       "description": "Next",
       "layout": "IPY_MODEL_1239b50b8ddd4dfe92afcab72a2b7723",
       "style": "IPY_MODEL_891e6be90e134e2cb6f974a660a69736"
      }
     },
     "03265edf636947ff9ff7638d76403efc": {
      "model_module": "jupyter-js-widgets",
      "model_module_version": "~2.1.4",
      "model_name": "LayoutModel",
      "state": {
       "_model_module_version": "~2.1.4",
       "_view_module_version": "~2.1.4"
      }
     },
     "0326f67c0308480f90d1030ce04fd786": {
      "model_module": "jupyter-js-widgets",
      "model_module_version": "~2.1.4",
      "model_name": "HTMLModel",
      "state": {
       "_model_module_version": "~2.1.4",
       "_view_module_version": "~2.1.4",
       "layout": "IPY_MODEL_c4c9c86519b247ed9a7cdf394ca41ed0",
       "value": "\n<svg width=\"100%\">\n   <defs>\n    <clipPath id=\"mask\">\n      <rect x=0 y=0 width=\"50%\" height=\"700\">\n    </clipPath>\n  </defs>\n</svg>\n<style>\n.bp {\n    width: 100%;\n    -webkit-clip-path: circle(#mask);\n    clip-path: url(#mask);\n}\n</style>\n<img src=\"bp_solution.png\" class=bp>\n"
      }
     },
     "0336b2fc56254508a2abc07606cce185": {
      "model_module": "jupyter-js-widgets",
      "model_module_version": "~2.1.4",
      "model_name": "ButtonModel",
      "state": {
       "_model_module_version": "~2.1.4",
       "_view_module_version": "~2.1.4",
       "description": "Previous",
       "icon": "check",
       "layout": "IPY_MODEL_f7d0eddfcf20498887a6ecd2e65d2b3a",
       "style": "IPY_MODEL_b4df70ef5ef4454c88069e658d8d88d6",
       "tooltip": "Click me"
      }
     },
     "037fde8d29f44f7eb01d5c03ad74f73f": {
      "model_module": "jupyter-js-widgets",
      "model_module_version": "~2.1.4",
      "model_name": "ButtonModel",
      "state": {
       "_model_module_version": "~2.1.4",
       "_view_module_version": "~2.1.4",
       "description": "Next",
       "icon": "check",
       "layout": "IPY_MODEL_b2a0eea5dc42412a83d4bbf5aa494587",
       "style": "IPY_MODEL_6b7abec968b44842a9c530e3a09df46c",
       "tooltip": "Click me"
      }
     },
     "03c9b4245cf24fe8a8a3a7af156ecfe2": {
      "model_module": "jupyter-js-widgets",
      "model_module_version": "~2.1.4",
      "model_name": "LayoutModel",
      "state": {
       "_model_module_version": "~2.1.4",
       "_view_module_version": "~2.1.4"
      }
     },
     "03daf70c98a24f5bb69ca12394e8a633": {
      "model_module": "jupyter-js-widgets",
      "model_module_version": "~2.1.4",
      "model_name": "HTMLModel",
      "state": {
       "_model_module_version": "~2.1.4",
       "_view_module_version": "~2.1.4",
       "layout": "IPY_MODEL_30598879acff4d49941a128ea530549d",
       "value": "\n<svg>\n   <defs>\n    <clipPath id=\"mask\">\n      <rect x=20 y=20 width=\"50\" height=100>\n    </clipPath>\n  </defs>\n</svg>\n<style>\n.bp {\n    width: 100%;\n    -webkit-clip-path: circle(50px);\n    clip-path: url(#mask);\n}\n</style>\n<img src=\"bp_solution.png\" class=bp>\n"
      }
     },
     "04335b3b964044aca6acd5f68047f238": {
      "model_module": "jupyter-js-widgets",
      "model_module_version": "~2.1.4",
      "model_name": "LayoutModel",
      "state": {
       "_model_module_version": "~2.1.4",
       "_view_module_version": "~2.1.4"
      }
     },
     "045fa66a398a4c649af81cc4f94edefe": {
      "model_module": "jupyter-js-widgets",
      "model_module_version": "~2.1.4",
      "model_name": "LayoutModel",
      "state": {
       "_model_module_version": "~2.1.4",
       "_view_module_version": "~2.1.4"
      }
     },
     "046a4ce8e9fe42d3989c7b87f9054cae": {
      "model_module": "jupyter-js-widgets",
      "model_module_version": "~2.1.4",
      "model_name": "LayoutModel",
      "state": {
       "_model_module_version": "~2.1.4",
       "_view_module_version": "~2.1.4"
      }
     },
     "046fba0eb84848eab4ed762a82035a7b": {
      "model_module": "jupyter-js-widgets",
      "model_module_version": "~2.1.4",
      "model_name": "LayoutModel",
      "state": {
       "_model_module_version": "~2.1.4",
       "_view_module_version": "~2.1.4"
      }
     },
     "047a7c88fb9843caabfa30eff98990ad": {
      "model_module": "jupyter-js-widgets",
      "model_module_version": "~2.1.4",
      "model_name": "LayoutModel",
      "state": {
       "_model_module_version": "~2.1.4",
       "_view_module_version": "~2.1.4"
      }
     },
     "047efc5e32604cf0b75e29d497780318": {
      "model_module": "jupyter-js-widgets",
      "model_module_version": "~2.1.4",
      "model_name": "ButtonStyleModel",
      "state": {
       "_model_module_version": "~2.1.4",
       "_view_module_version": "~2.1.4"
      }
     },
     "04e682abcd3c46699ae15239531911fb": {
      "model_module": "jupyter-js-widgets",
      "model_module_version": "~2.1.4",
      "model_name": "ButtonStyleModel",
      "state": {
       "_model_module_version": "~2.1.4",
       "_view_module_version": "~2.1.4"
      }
     },
     "05077c4eea5347529151d2e3b91aaf6a": {
      "model_module": "jupyter-js-widgets",
      "model_module_version": "~2.1.4",
      "model_name": "ButtonModel",
      "state": {
       "_model_module_version": "~2.1.4",
       "_view_module_version": "~2.1.4",
       "description": "Previous",
       "layout": "IPY_MODEL_120c9eba93ca46acb616a3f65cf8b330",
       "style": "IPY_MODEL_256685cabcd14c03810fa6b046a7b612"
      }
     },
     "0548e36fa02b420bb3d037cb12ca551e": {
      "model_module": "jupyter-js-widgets",
      "model_module_version": "~2.1.4",
      "model_name": "HTMLModel",
      "state": {
       "_model_module_version": "~2.1.4",
       "_view_module_version": "~2.1.4",
       "layout": "IPY_MODEL_84c07731fc184fcc93ce7ff5fb9d45ed",
       "value": "\n<svg width=\"100%\">\n   <defs>\n    <clipPath id=\"mask\">\n      <rect x=0 y=0 width=\"50%\" height=\"700\">\n    </clipPath>\n  </defs>\n</svg>\n<style>\n.bp {\n    width: 100%;\n    -webkit-clip-path: circle(#mask);\n    clip-path: url(#mask);\n}\n</style>\n<img src=\"bp_solution.png\" class=bp>\n"
      }
     },
     "0553f19b748945ce935cd046bece7daf": {
      "model_module": "jupyter-js-widgets",
      "model_module_version": "~2.1.4",
      "model_name": "LayoutModel",
      "state": {
       "_model_module_version": "~2.1.4",
       "_view_module_version": "~2.1.4"
      }
     },
     "0580febf5ddb40a398a4cfe3781ede28": {
      "model_module": "jupyter-js-widgets",
      "model_module_version": "~2.1.4",
      "model_name": "LayoutModel",
      "state": {
       "_model_module_version": "~2.1.4",
       "_view_module_version": "~2.1.4"
      }
     },
     "05aafc11aa074023b3cfcfcd41a32533": {
      "model_module": "jupyter-js-widgets",
      "model_module_version": "~2.1.4",
      "model_name": "ButtonStyleModel",
      "state": {
       "_model_module_version": "~2.1.4",
       "_view_module_version": "~2.1.4"
      }
     },
     "05c925a776204a348023f0e44ba32487": {
      "model_module": "jupyter-js-widgets",
      "model_module_version": "~2.1.4",
      "model_name": "ButtonStyleModel",
      "state": {
       "_model_module_version": "~2.1.4",
       "_view_module_version": "~2.1.4"
      }
     },
     "05d5807a800749e998a15ce5c6cd5abe": {
      "model_module": "jupyter-js-widgets",
      "model_module_version": "~2.1.4",
      "model_name": "ButtonModel",
      "state": {
       "_model_module_version": "~2.1.4",
       "_view_module_version": "~2.1.4",
       "description": "Previous",
       "layout": "IPY_MODEL_df0eff708d504bcca6f8bb00b4489659",
       "style": "IPY_MODEL_d07d80465cb4486b8b15b155d30939fc"
      }
     },
     "05d688849cb44ad097ca1ed93d2505a5": {
      "model_module": "jupyter-js-widgets",
      "model_module_version": "~2.1.4",
      "model_name": "ButtonStyleModel",
      "state": {
       "_model_module_version": "~2.1.4",
       "_view_module_version": "~2.1.4"
      }
     },
     "05f2f80199a84497a17b468a28808668": {
      "model_module": "jupyter-js-widgets",
      "model_module_version": "~2.1.4",
      "model_name": "HTMLModel",
      "state": {
       "_model_module_version": "~2.1.4",
       "_view_module_version": "~2.1.4",
       "layout": "IPY_MODEL_d98b6a1c92164ecdad06a74848f9d3da",
       "value": "\n<svg width=100%>\n   <defs>\n    <clipPath id=\"mask\">\n      <rect x=20 y=20 width=\"50%\" height=100%>\n    </clipPath>\n  </defs>\n</svg>\n<style>\n\n.bp {\n    width: 100%;\n    -webkit-clip-path: circle(#mask);\n    clip-path: url(#mask);\n}\n</style>\n<img src=\"bp_solution.png\" class=bp>\n"
      }
     },
     "0609ee3732344a42bf61acb79d1df86b": {
      "model_module": "jupyter-js-widgets",
      "model_module_version": "~2.1.4",
      "model_name": "HTMLModel",
      "state": {
       "_model_module_version": "~2.1.4",
       "_view_module_version": "~2.1.4",
       "layout": "IPY_MODEL_2d154e734edf4fcd81bb99a15d7fd561",
       "value": "<img src='bp_solution.png' width='100%' style='img{ clip_path: circle(100px)}'>"
      }
     },
     "060d31f5d62041eda50500a4d19e7eea": {
      "model_module": "jupyter-js-widgets",
      "model_module_version": "~2.1.4",
      "model_name": "ButtonModel",
      "state": {
       "_model_module_version": "~2.1.4",
       "_view_module_version": "~2.1.4",
       "description": "Next",
       "icon": "check",
       "layout": "IPY_MODEL_2ee0a5d012934c6586a60560be872572",
       "style": "IPY_MODEL_f107e368bb274dd49e40427464aa158c",
       "tooltip": "Click me"
      }
     },
     "06273d62141745e383fd15d70008a3a0": {
      "model_module": "jupyter-js-widgets",
      "model_module_version": "~2.1.4",
      "model_name": "LayoutModel",
      "state": {
       "_model_module_version": "~2.1.4",
       "_view_module_version": "~2.1.4"
      }
     },
     "063dcf46af3940b99c3000ae7832edcc": {
      "model_module": "jupyter-js-widgets",
      "model_module_version": "~2.1.4",
      "model_name": "LayoutModel",
      "state": {
       "_model_module_version": "~2.1.4",
       "_view_module_version": "~2.1.4"
      }
     },
     "06421768c95d46378d1d36116566904d": {
      "model_module": "jupyter-js-widgets",
      "model_module_version": "~2.1.4",
      "model_name": "ButtonModel",
      "state": {
       "_model_module_version": "~2.1.4",
       "_view_module_version": "~2.1.4",
       "description": "Next",
       "icon": "check",
       "layout": "IPY_MODEL_93ddd07c11c9447fa179cd514548f12d",
       "style": "IPY_MODEL_66ff53580b444deab2877b001521ee27",
       "tooltip": "Click me"
      }
     },
     "06528023e2a64d63883fbe22f10f1382": {
      "model_module": "jupyter-js-widgets",
      "model_module_version": "~2.1.4",
      "model_name": "HTMLModel",
      "state": {
       "_model_module_version": "~2.1.4",
       "_view_module_version": "~2.1.4",
       "layout": "IPY_MODEL_52f113bee92e421fa358ffaf6275ba0e",
       "value": "\n<svg width=\"100%\">\n   <defs>\n    <clipPath id=\"mask\">\n      <rect x=0 y=100 width=\"50%\" height=\"700\">\n    </clipPath>\n  </defs>\n</svg>\n<style>\n.bp {\n    width: 100%;\n    -webkit-clip-path: circle(#mask);\n    clip-path: url(#mask);\n}\n</style>\n<img src=\"bp_solution.png\" class=bp>\n"
      }
     },
     "066a5ebee4b74a22bb41103991820237": {
      "model_module": "jupyter-js-widgets",
      "model_module_version": "~2.1.4",
      "model_name": "ButtonModel",
      "state": {
       "_model_module_version": "~2.1.4",
       "_view_module_version": "~2.1.4",
       "description": "Next",
       "icon": "check",
       "layout": "IPY_MODEL_44980ff120dc4225851deb9a7d28e5a9",
       "style": "IPY_MODEL_c08bf151a2a44278964839b14b99a713",
       "tooltip": "Click me"
      }
     },
     "06c400315483473983512d29ff047d1c": {
      "model_module": "jupyter-js-widgets",
      "model_module_version": "~2.1.4",
      "model_name": "ButtonModel",
      "state": {
       "_model_module_version": "~2.1.4",
       "_view_module_version": "~2.1.4",
       "description": "Next",
       "icon": "check",
       "layout": "IPY_MODEL_1707d57386e54421a315bd06db35f8d8",
       "style": "IPY_MODEL_795e455db3ce44aa979f9f3012af39cc",
       "tooltip": "Click me"
      }
     },
     "072251c616864152a9abe6a635c95ead": {
      "model_module": "jupyter-js-widgets",
      "model_module_version": "~2.1.4",
      "model_name": "LayoutModel",
      "state": {
       "_model_module_version": "~2.1.4",
       "_view_module_version": "~2.1.4"
      }
     },
     "07c1a2aacf2d411083a471b54af53e1e": {
      "model_module": "jupyter-js-widgets",
      "model_module_version": "~2.1.4",
      "model_name": "ButtonModel",
      "state": {
       "_model_module_version": "~2.1.4",
       "_view_module_version": "~2.1.4",
       "description": "Next",
       "icon": "check",
       "layout": "IPY_MODEL_8ca50ef2b66d42fb9750d342e0a6dc1c",
       "style": "IPY_MODEL_830c8a7e8e934c8f8aa24d623e245a03",
       "tooltip": "Click me"
      }
     },
     "07fa83cbcfdd497495645de321124c98": {
      "model_module": "jupyter-js-widgets",
      "model_module_version": "~2.1.4",
      "model_name": "ButtonStyleModel",
      "state": {
       "_model_module_version": "~2.1.4",
       "_view_module_version": "~2.1.4"
      }
     },
     "07ffbfa53e8440f58cf48b5e7e15d64f": {
      "model_module": "jupyter-js-widgets",
      "model_module_version": "~2.1.4",
      "model_name": "ButtonStyleModel",
      "state": {
       "_model_module_version": "~2.1.4",
       "_view_module_version": "~2.1.4"
      }
     },
     "08108c1e4ba34857883164912acd51d2": {
      "model_module": "jupyter-js-widgets",
      "model_module_version": "~2.1.4",
      "model_name": "HTMLModel",
      "state": {
       "_model_module_version": "~2.1.4",
       "_view_module_version": "~2.1.4",
       "layout": "IPY_MODEL_0cdf2ceabf2c4c21bb70f612cb160137",
       "value": "<img src='bp_solution.png' width='100%'>"
      }
     },
     "08123b95347f4252a96254859176740b": {
      "model_module": "jupyter-js-widgets",
      "model_module_version": "~2.1.4",
      "model_name": "ButtonStyleModel",
      "state": {
       "_model_module_version": "~2.1.4",
       "_view_module_version": "~2.1.4"
      }
     },
     "0835d10aec604751bb7f2fc3bc26fda8": {
      "model_module": "jupyter-js-widgets",
      "model_module_version": "~2.1.4",
      "model_name": "ButtonModel",
      "state": {
       "_model_module_version": "~2.1.4",
       "_view_module_version": "~2.1.4",
       "description": "Previous",
       "icon": "check",
       "layout": "IPY_MODEL_f9f0c544e7d64c2c907e49e158f40a17",
       "style": "IPY_MODEL_984f5609fdcc4d3eb40335bda6ab2add",
       "tooltip": "Click me"
      }
     },
     "084936f20db64681b823c86c885ab2f8": {
      "model_module": "jupyter-js-widgets",
      "model_module_version": "~2.1.4",
      "model_name": "ButtonStyleModel",
      "state": {
       "_model_module_version": "~2.1.4",
       "_view_module_version": "~2.1.4"
      }
     },
     "0851e75c7cfe4be2a8aa4032e04c5870": {
      "model_module": "jupyter-js-widgets",
      "model_module_version": "~2.1.4",
      "model_name": "LayoutModel",
      "state": {
       "_model_module_version": "~2.1.4",
       "_view_module_version": "~2.1.4"
      }
     },
     "085e46f1aa2e4e6699852318ab482bf6": {
      "model_module": "jupyter-js-widgets",
      "model_module_version": "~2.1.4",
      "model_name": "LayoutModel",
      "state": {
       "_model_module_version": "~2.1.4",
       "_view_module_version": "~2.1.4"
      }
     },
     "086e3c4e1b254bc49360917ce16261cd": {
      "model_module": "jupyter-js-widgets",
      "model_module_version": "~2.1.4",
      "model_name": "ButtonModel",
      "state": {
       "_model_module_version": "~2.1.4",
       "_view_module_version": "~2.1.4",
       "description": "Previous",
       "icon": "check",
       "layout": "IPY_MODEL_0005e0c174994d37878dda0f148cb1ec",
       "style": "IPY_MODEL_6a214f2a5ba44d3ea9c24978f4f3768b",
       "tooltip": "Click me"
      }
     },
     "087fcc7d860b48859a94efe904a14d35": {
      "model_module": "jupyter-js-widgets",
      "model_module_version": "~2.1.4",
      "model_name": "ButtonStyleModel",
      "state": {
       "_model_module_version": "~2.1.4",
       "_view_module_version": "~2.1.4"
      }
     },
     "0885cabc32d6447192f7e941c5d49893": {
      "model_module": "jupyter-js-widgets",
      "model_module_version": "~2.1.4",
      "model_name": "LayoutModel",
      "state": {
       "_model_module_version": "~2.1.4",
       "_view_module_version": "~2.1.4"
      }
     },
     "0898e35c03a14b2f9bc3da628e49ac18": {
      "model_module": "jupyter-js-widgets",
      "model_module_version": "~2.1.4",
      "model_name": "IntSliderModel",
      "state": {
       "_model_module_version": "~2.1.4",
       "_view_module_version": "~2.1.4",
       "layout": "IPY_MODEL_d5746b95fc1747b3b81894e382a5101c",
       "style": "IPY_MODEL_fb337fe4dee0404a8f9015a954dfb2c7"
      }
     },
     "08c1dc60e361432799a4f4fbe77cbe46": {
      "model_module": "jupyter-js-widgets",
      "model_module_version": "~2.1.4",
      "model_name": "ButtonStyleModel",
      "state": {
       "_model_module_version": "~2.1.4",
       "_view_module_version": "~2.1.4"
      }
     },
     "08eaa335605740aa84558fe9d77e7570": {
      "model_module": "jupyter-js-widgets",
      "model_module_version": "~2.1.4",
      "model_name": "ButtonStyleModel",
      "state": {
       "_model_module_version": "~2.1.4",
       "_view_module_version": "~2.1.4"
      }
     },
     "08ef2764c0c24943a9d5556f97af3dde": {
      "model_module": "jupyter-js-widgets",
      "model_module_version": "~2.1.4",
      "model_name": "LayoutModel",
      "state": {
       "_model_module_version": "~2.1.4",
       "_view_module_version": "~2.1.4"
      }
     },
     "093c5f503edc469fbae3cba4a9e6c784": {
      "model_module": "jupyter-js-widgets",
      "model_module_version": "~2.1.4",
      "model_name": "ButtonModel",
      "state": {
       "_model_module_version": "~2.1.4",
       "_view_module_version": "~2.1.4",
       "description": "Previous",
       "layout": "IPY_MODEL_e3f8bdb7e73148428c0a69815b7d861e",
       "style": "IPY_MODEL_c3e0d0c9bba545d3a2c3d5c6347cde81"
      }
     },
     "0956236623504e72bb4b6ec4cdf36ad6": {
      "model_module": "jupyter-js-widgets",
      "model_module_version": "~2.1.4",
      "model_name": "LayoutModel",
      "state": {
       "_model_module_version": "~2.1.4",
       "_view_module_version": "~2.1.4"
      }
     },
     "097f86bf400246b0a35c5abc466f0a52": {
      "model_module": "jupyter-js-widgets",
      "model_module_version": "~2.1.4",
      "model_name": "LayoutModel",
      "state": {
       "_model_module_version": "~2.1.4",
       "_view_module_version": "~2.1.4"
      }
     },
     "0991f92d42ae4d6c81792d1674e1a37a": {
      "model_module": "jupyter-js-widgets",
      "model_module_version": "~2.1.4",
      "model_name": "LayoutModel",
      "state": {
       "_model_module_version": "~2.1.4",
       "_view_module_version": "~2.1.4"
      }
     },
     "09a604cafc5c448cbed8a00561cc7325": {
      "model_module": "jupyter-js-widgets",
      "model_module_version": "~2.1.4",
      "model_name": "ButtonModel",
      "state": {
       "_model_module_version": "~2.1.4",
       "_view_module_version": "~2.1.4",
       "description": "Next",
       "icon": "check",
       "layout": "IPY_MODEL_b8a5c0aa683a47fc9750d4ca0e4ec62c",
       "style": "IPY_MODEL_c1ed3be32e9d4f8da9c99ef9250089d0",
       "tooltip": "Click me"
      }
     },
     "09a7e77ed4104da4b9f21c207081f306": {
      "model_module": "jupyter-js-widgets",
      "model_module_version": "~2.1.4",
      "model_name": "ButtonStyleModel",
      "state": {
       "_model_module_version": "~2.1.4",
       "_view_module_version": "~2.1.4"
      }
     },
     "09acd99cb81e4c5897ee7b225b715b3f": {
      "model_module": "jupyter-js-widgets",
      "model_module_version": "~2.1.4",
      "model_name": "ButtonModel",
      "state": {
       "_model_module_version": "~2.1.4",
       "_view_module_version": "~2.1.4",
       "description": "Next",
       "icon": "check",
       "layout": "IPY_MODEL_d0983802e8f44158bfa59b78a7e9d225",
       "style": "IPY_MODEL_99946464aa234f7598ea9d1d00f52f91",
       "tooltip": "Click me"
      }
     },
     "09c195817c724da385f0145d1313c25b": {
      "model_module": "jupyter-js-widgets",
      "model_module_version": "~2.1.4",
      "model_name": "HTMLModel",
      "state": {
       "_model_module_version": "~2.1.4",
       "_view_module_version": "~2.1.4",
       "layout": "IPY_MODEL_d21ecbd8c1684855ad324b1ace457278",
       "value": "\n<svg width=\"100%\" height=0><defs><clipPath id=\"mask\">\n<rect x=0 y=0 width='28%' height='500'>\n</clipPath></defs></svg>\n<style>\n.bp {\n    width: 100%;\n    -webkit-clip-path: circle(#mask);\n    clip-path: url(#mask);\n}\n</style>\n<img src=\"bp_solution.png\" class=bp>\n"
      }
     },
     "09d29b0728fc4ea6902d5abf6a297f7f": {
      "model_module": "jupyter-js-widgets",
      "model_module_version": "~2.1.4",
      "model_name": "HTMLModel",
      "state": {
       "_model_module_version": "~2.1.4",
       "_view_module_version": "~2.1.4",
       "layout": "IPY_MODEL_42ec030484604051b92d7d464cb9c5ba",
       "value": "<img src='bp_solution.png' width='100%'>"
      }
     },
     "09e2c9fa1a8b4c768bbc6983e5115ae3": {
      "model_module": "jupyter-js-widgets",
      "model_module_version": "~2.1.4",
      "model_name": "LayoutModel",
      "state": {
       "_model_module_version": "~2.1.4",
       "_view_module_version": "~2.1.4"
      }
     },
     "09f236c110a14227aab978d201cb1f94": {
      "model_module": "jupyter-js-widgets",
      "model_module_version": "~2.1.4",
      "model_name": "LayoutModel",
      "state": {
       "_model_module_version": "~2.1.4",
       "_view_module_version": "~2.1.4"
      }
     },
     "09f94339f04d40f29db093c809d59387": {
      "model_module": "jupyter-js-widgets",
      "model_module_version": "~2.1.4",
      "model_name": "HTMLModel",
      "state": {
       "_model_module_version": "~2.1.4",
       "_view_module_version": "~2.1.4",
       "layout": "IPY_MODEL_e61a9ee7e60f402486d29622f253b2a6",
       "value": "<img src='bp_solution.png' width='100%'>"
      }
     },
     "0a477740d18b4813b3952718f043fb38": {
      "model_module": "jupyter-js-widgets",
      "model_module_version": "~2.1.4",
      "model_name": "LayoutModel",
      "state": {
       "_model_module_version": "~2.1.4",
       "_view_module_version": "~2.1.4"
      }
     },
     "0a7e70b4b9fb41afa985ffa32715799e": {
      "model_module": "jupyter-js-widgets",
      "model_module_version": "~2.1.4",
      "model_name": "ButtonStyleModel",
      "state": {
       "_model_module_version": "~2.1.4",
       "_view_module_version": "~2.1.4"
      }
     },
     "0adcc980cadb41dcb2268f8dc8b72092": {
      "model_module": "jupyter-js-widgets",
      "model_module_version": "~2.1.4",
      "model_name": "HTMLModel",
      "state": {
       "_model_module_version": "~2.1.4",
       "_view_module_version": "~2.1.4",
       "layout": "IPY_MODEL_01821c70e9c740258b11c06046116d5c",
       "value": "\n<svg width=\"100%\" height=0><defs><clipPath id=\"mask\">\n<rect x=0 y=50 width='28%' height='100'>\n</clipPath></defs></svg>\n<style>\n.bp {\n    width: 100%;\n    -webkit-clip-path: circle(#mask);\n    clip-path: url(#mask);\n}\n</style>\n<img src=\"bp_solution.png\" class=bp>\n"
      }
     },
     "0b182d5aa1904b509714fa8c24e7d076": {
      "model_module": "jupyter-js-widgets",
      "model_module_version": "~2.1.4",
      "model_name": "ButtonModel",
      "state": {
       "_model_module_version": "~2.1.4",
       "_view_module_version": "~2.1.4",
       "description": "Next",
       "icon": "check",
       "layout": "IPY_MODEL_3c70a4f8a2e24eb5947e7da6a31ec3d2",
       "style": "IPY_MODEL_0a7e70b4b9fb41afa985ffa32715799e",
       "tooltip": "Click me"
      }
     },
     "0b1ec3fc588c481298c4b104b0414a0d": {
      "model_module": "jupyter-js-widgets",
      "model_module_version": "~2.1.4",
      "model_name": "LayoutModel",
      "state": {
       "_model_module_version": "~2.1.4",
       "_view_module_version": "~2.1.4"
      }
     },
     "0b33271d2b4d4861965a94048bb2cb91": {
      "model_module": "jupyter-js-widgets",
      "model_module_version": "~2.1.4",
      "model_name": "ButtonStyleModel",
      "state": {
       "_model_module_version": "~2.1.4",
       "_view_module_version": "~2.1.4"
      }
     },
     "0b33303201e946d3a47301de63f86fb3": {
      "model_module": "jupyter-js-widgets",
      "model_module_version": "~2.1.4",
      "model_name": "LayoutModel",
      "state": {
       "_model_module_version": "~2.1.4",
       "_view_module_version": "~2.1.4"
      }
     },
     "0b75670200884de3a0b71557928d0af2": {
      "model_module": "jupyter-js-widgets",
      "model_module_version": "~2.1.4",
      "model_name": "LayoutModel",
      "state": {
       "_model_module_version": "~2.1.4",
       "_view_module_version": "~2.1.4"
      }
     },
     "0b7567118d0141569681c735555c03c5": {
      "model_module": "jupyter-js-widgets",
      "model_module_version": "~2.1.4",
      "model_name": "ButtonModel",
      "state": {
       "_model_module_version": "~2.1.4",
       "_view_module_version": "~2.1.4",
       "description": "Previous",
       "icon": "check",
       "layout": "IPY_MODEL_045fa66a398a4c649af81cc4f94edefe",
       "style": "IPY_MODEL_348f66fe1f664605a339fae11467d0ab",
       "tooltip": "Click me"
      }
     },
     "0b7cd7af51824516a73900f3fa539b46": {
      "model_module": "jupyter-js-widgets",
      "model_module_version": "~2.1.4",
      "model_name": "ButtonStyleModel",
      "state": {
       "_model_module_version": "~2.1.4",
       "_view_module_version": "~2.1.4"
      }
     },
     "0b804553548c4a2ea436e2bc2cc7c176": {
      "model_module": "jupyter-js-widgets",
      "model_module_version": "~2.1.4",
      "model_name": "ButtonStyleModel",
      "state": {
       "_model_module_version": "~2.1.4",
       "_view_module_version": "~2.1.4"
      }
     },
     "0b890535458e4b6986b651ef6f8a7e25": {
      "model_module": "jupyter-js-widgets",
      "model_module_version": "~2.1.4",
      "model_name": "LayoutModel",
      "state": {
       "_model_module_version": "~2.1.4",
       "_view_module_version": "~2.1.4"
      }
     },
     "0baa188051844be786e54a6466d0f0af": {
      "model_module": "jupyter-js-widgets",
      "model_module_version": "~2.1.4",
      "model_name": "ButtonStyleModel",
      "state": {
       "_model_module_version": "~2.1.4",
       "_view_module_version": "~2.1.4"
      }
     },
     "0be6bfab3fd24752b078b3829a48f1da": {
      "model_module": "jupyter-js-widgets",
      "model_module_version": "~2.1.4",
      "model_name": "ButtonModel",
      "state": {
       "_model_module_version": "~2.1.4",
       "_view_module_version": "~2.1.4",
       "description": "Next",
       "icon": "check",
       "layout": "IPY_MODEL_954b7b38fc5c4f5585b841e5689274fb",
       "style": "IPY_MODEL_1148c81b4e834ef0a430ef3dd589adc6",
       "tooltip": "Click me"
      }
     },
     "0c1be2b2176f4e45a6eb8fb926b02bb3": {
      "model_module": "jupyter-js-widgets",
      "model_module_version": "~2.1.4",
      "model_name": "LayoutModel",
      "state": {
       "_model_module_version": "~2.1.4",
       "_view_module_version": "~2.1.4"
      }
     },
     "0c38f3fdded84b78ac0334d6246a2bd2": {
      "model_module": "jupyter-js-widgets",
      "model_module_version": "~2.1.4",
      "model_name": "LayoutModel",
      "state": {
       "_model_module_version": "~2.1.4",
       "_view_module_version": "~2.1.4"
      }
     },
     "0c3e0b3fb9a3406fbe9f9639ef51493e": {
      "model_module": "jupyter-js-widgets",
      "model_module_version": "~2.1.4",
      "model_name": "HTMLModel",
      "state": {
       "_model_module_version": "~2.1.4",
       "_view_module_version": "~2.1.4",
       "layout": "IPY_MODEL_3973d49de26a43aa90ea268f958e0cc5",
       "value": "\n<svg width=\"100%\">\n   <defs>\n    <clipPath id=\"mask\">\n      <rect x=0 y=100 width=\"50%\" height=\"500\">\n    </clipPath>\n  </defs>\n</svg>\n<style>\n\n.bp {\n    width: 100%;\n    -webkit-clip-path: circle(#mask);\n    clip-path: url(#mask);\n}\n</style>\n<img src=\"bp_solution.png\" class=bp>\n"
      }
     },
     "0c46278726444a4083afdb5ca3c2a614": {
      "model_module": "jupyter-js-widgets",
      "model_module_version": "~2.1.4",
      "model_name": "ButtonModel",
      "state": {
       "_model_module_version": "~2.1.4",
       "_view_module_version": "~2.1.4",
       "description": "Previous",
       "layout": "IPY_MODEL_19fd6715d2064b1a85cbab3f16de491c",
       "style": "IPY_MODEL_1c861b8029ae42eea15df839e8f9245d"
      }
     },
     "0c4a02e6c14d4cdf933d070b64323cff": {
      "model_module": "jupyter-js-widgets",
      "model_module_version": "~2.1.4",
      "model_name": "LayoutModel",
      "state": {
       "_model_module_version": "~2.1.4",
       "_view_module_version": "~2.1.4"
      }
     },
     "0c5df3f8996148e48743091af38ac8cf": {
      "model_module": "jupyter-js-widgets",
      "model_module_version": "~2.1.4",
      "model_name": "ButtonStyleModel",
      "state": {
       "_model_module_version": "~2.1.4",
       "_view_module_version": "~2.1.4"
      }
     },
     "0c7b19b2c2324de29da4a1fd82b9a129": {
      "model_module": "jupyter-js-widgets",
      "model_module_version": "~2.1.4",
      "model_name": "HTMLModel",
      "state": {
       "_model_module_version": "~2.1.4",
       "_view_module_version": "~2.1.4",
       "layout": "IPY_MODEL_84ed4b12957d4bb9b40485e45546e59c",
       "value": "\n<svg>\n   <defs>\n    <clipPath id=\"mask\">\n      <rect x=20 y=20 width=\"50%\" height=100%>\n    </clipPath>\n  </defs>\n</svg>\n<style>\n\n.bp {\n    width: 100%;\n    -webkit-clip-path: circle($mask);\n    clip-path: url(#mask);\n}\n</style>\n<img src=\"bp_solution.png\" class=bp>\n"
      }
     },
     "0ca0d80dfaaa46e093f021a5101e66cc": {
      "model_module": "jupyter-js-widgets",
      "model_module_version": "~2.1.4",
      "model_name": "ButtonStyleModel",
      "state": {
       "_model_module_version": "~2.1.4",
       "_view_module_version": "~2.1.4"
      }
     },
     "0ca1c8bb455a41f6af860344dacdcba9": {
      "model_module": "jupyter-js-widgets",
      "model_module_version": "~2.1.4",
      "model_name": "ButtonStyleModel",
      "state": {
       "_model_module_version": "~2.1.4",
       "_view_module_version": "~2.1.4"
      }
     },
     "0ccd77837a3344258dc2189ce3b4c0db": {
      "model_module": "jupyter-js-widgets",
      "model_module_version": "~2.1.4",
      "model_name": "LayoutModel",
      "state": {
       "_model_module_version": "~2.1.4",
       "_view_module_version": "~2.1.4"
      }
     },
     "0cdf2ceabf2c4c21bb70f612cb160137": {
      "model_module": "jupyter-js-widgets",
      "model_module_version": "~2.1.4",
      "model_name": "LayoutModel",
      "state": {
       "_model_module_version": "~2.1.4",
       "_view_module_version": "~2.1.4"
      }
     },
     "0ce40abdaf02437b86fe9f32006471c5": {
      "model_module": "jupyter-js-widgets",
      "model_module_version": "~2.1.4",
      "model_name": "ButtonStyleModel",
      "state": {
       "_model_module_version": "~2.1.4",
       "_view_module_version": "~2.1.4"
      }
     },
     "0d2c926456b347f6ac50371eada3d169": {
      "model_module": "jupyter-js-widgets",
      "model_module_version": "~2.1.4",
      "model_name": "LayoutModel",
      "state": {
       "_model_module_version": "~2.1.4",
       "_view_module_version": "~2.1.4"
      }
     },
     "0d733d4a3f9b43f7a4b1d8a9ee58619e": {
      "model_module": "jupyter-js-widgets",
      "model_module_version": "~2.1.4",
      "model_name": "ButtonStyleModel",
      "state": {
       "_model_module_version": "~2.1.4",
       "_view_module_version": "~2.1.4"
      }
     },
     "0d7bebe1c2264f2c92e469b53c76f088": {
      "model_module": "jupyter-js-widgets",
      "model_module_version": "~2.1.4",
      "model_name": "HTMLModel",
      "state": {
       "_model_module_version": "~2.1.4",
       "_view_module_version": "~2.1.4",
       "layout": "IPY_MODEL_68595f4004704e808d649b0682439eeb",
       "value": "\n<svg width=\"100%\" height=0><defs><clipPath id=\"mask\">\n\n            <rect x=0 y=0 width=\"50%\" height=\"200\">\n</clipPath></defs></svg>\n<style>\n.bp {\n    width: 100%;\n    -webkit-clip-path: circle(#mask);\n    clip-path: url(#mask);\n}\n</style>\n<img src=\"bp_solution.png\" class=bp>\n"
      }
     },
     "0da5bc2f98b248b091d641052d190b1e": {
      "model_module": "jupyter-js-widgets",
      "model_module_version": "~2.1.4",
      "model_name": "HTMLModel",
      "state": {
       "_model_module_version": "~2.1.4",
       "_view_module_version": "~2.1.4",
       "layout": "IPY_MODEL_4d91c195ccc340bb9f9287d9e39f1f85",
       "value": "\n<svg width=\"100%\" height=0><defs><clipPath id=\"mask\">\n<rect x=0 y=300 width='28%' height='100'><rect x=0 y=0 width='28%' height='500'>\n</clipPath></defs></svg>\n<style>\n.bp {\n    width: 100%;\n    -webkit-clip-path: circle(#mask);\n    clip-path: url(#mask);\n}\n</style>\n<img src=\"bp_solution.png\" class=bp>\n"
      }
     },
     "0db23d9752a7488592a2a98fe86e59f5": {
      "model_module": "jupyter-js-widgets",
      "model_module_version": "~2.1.4",
      "model_name": "ButtonModel",
      "state": {
       "_model_module_version": "~2.1.4",
       "_view_module_version": "~2.1.4",
       "description": "Previous",
       "layout": "IPY_MODEL_217ae9bcc0cb4905a4dfe804ee2a00af",
       "style": "IPY_MODEL_7b3490ddf35e447b99e5717188040b99"
      }
     },
     "0dd027b38dd44158824fc5e3b3e6a0bf": {
      "model_module": "jupyter-js-widgets",
      "model_module_version": "~2.1.4",
      "model_name": "SliderStyleModel",
      "state": {
       "_model_module_version": "~2.1.4",
       "_view_module_version": "~2.1.4"
      }
     },
     "0de064a04f124be2b0ef093762390151": {
      "model_module": "jupyter-js-widgets",
      "model_module_version": "~2.1.4",
      "model_name": "ButtonModel",
      "state": {
       "_model_module_version": "~2.1.4",
       "_view_module_version": "~2.1.4",
       "description": "Next",
       "layout": "IPY_MODEL_b02fa45138244d569a28b1334e5b8f75",
       "style": "IPY_MODEL_8e2a07a5a103432fa5dc0380e0efbd53"
      }
     },
     "0e0aac726635453cb6d404e858b251bb": {
      "model_module": "jupyter-js-widgets",
      "model_module_version": "~2.1.4",
      "model_name": "ButtonModel",
      "state": {
       "_model_module_version": "~2.1.4",
       "_view_module_version": "~2.1.4",
       "description": "Previous",
       "layout": "IPY_MODEL_434edc26339345cca44598330843d405",
       "style": "IPY_MODEL_703c79350f60455994371892ee3527d5"
      }
     },
     "0e2ed1c7469f4377ba9db3b02337a600": {
      "model_module": "jupyter-js-widgets",
      "model_module_version": "~2.1.4",
      "model_name": "ButtonModel",
      "state": {
       "_model_module_version": "~2.1.4",
       "_view_module_version": "~2.1.4",
       "description": "Next",
       "layout": "IPY_MODEL_82dbd449aef54a76b79506e23eac61d3",
       "style": "IPY_MODEL_fbda0d391d484de48714cd6f227b1f38"
      }
     },
     "0e34a26351e641219b762d9706403cb0": {
      "model_module": "jupyter-js-widgets",
      "model_module_version": "~2.1.4",
      "model_name": "ButtonStyleModel",
      "state": {
       "_model_module_version": "~2.1.4",
       "_view_module_version": "~2.1.4"
      }
     },
     "0e4de1f62fe445c4948d589843fe3f3b": {
      "model_module": "jupyter-js-widgets",
      "model_module_version": "~2.1.4",
      "model_name": "LayoutModel",
      "state": {
       "_model_module_version": "~2.1.4",
       "_view_module_version": "~2.1.4"
      }
     },
     "0e5979534ed04975b04bae16d73f87d5": {
      "model_module": "jupyter-js-widgets",
      "model_module_version": "~2.1.4",
      "model_name": "LayoutModel",
      "state": {
       "_model_module_version": "~2.1.4",
       "_view_module_version": "~2.1.4"
      }
     },
     "0ee00e14dc71467eba10055bb664ecaa": {
      "model_module": "jupyter-js-widgets",
      "model_module_version": "~2.1.4",
      "model_name": "HTMLModel",
      "state": {
       "_model_module_version": "~2.1.4",
       "_view_module_version": "~2.1.4",
       "layout": "IPY_MODEL_f4dec9b3ce86492ba535241e8e68b331",
       "value": "\n<svg width=100% height=100%>\n   <defs>\n    <clipPath id=\"mask\">\n      <rect x=0 y=0 width=\"100%\" height=\"600\"\">\n    </clipPath>\n  </defs>\n</svg>\n<style>\n\n.bp {\n    width: 100%;\n    -webkit-clip-path: circle(#mask);\n    clip-path: url(#mask);\n}\n</style>\n<img src=\"bp_solution.png\" class=bp>\n"
      }
     },
     "0ee5b554c15e4615bf59f8262b3ced63": {
      "model_module": "jupyter-js-widgets",
      "model_module_version": "~2.1.4",
      "model_name": "LayoutModel",
      "state": {
       "_model_module_version": "~2.1.4",
       "_view_module_version": "~2.1.4",
       "align_items": "stretch",
       "display": "flex",
       "flex_flow": "row",
       "width": "100%"
      }
     },
     "0f17a360350847a19a8ab1dd2ec6cf78": {
      "model_module": "jupyter-js-widgets",
      "model_module_version": "~2.1.4",
      "model_name": "LayoutModel",
      "state": {
       "_model_module_version": "~2.1.4",
       "_view_module_version": "~2.1.4"
      }
     },
     "0f346841e3f14aa6856c2ed5263bf880": {
      "model_module": "jupyter-js-widgets",
      "model_module_version": "~2.1.4",
      "model_name": "HTMLModel",
      "state": {
       "_model_module_version": "~2.1.4",
       "_view_module_version": "~2.1.4",
       "layout": "IPY_MODEL_ba50b7f14eef49c281fc2d2ee96fc3d2"
      }
     },
     "0f8e0d937b83414e9d119faa4ef4917b": {
      "model_module": "jupyter-js-widgets",
      "model_module_version": "~2.1.4",
      "model_name": "HTMLModel",
      "state": {
       "_model_module_version": "~2.1.4",
       "_view_module_version": "~2.1.4",
       "layout": "IPY_MODEL_ab24c7c7f1a0458f9d30234c17f55d02",
       "value": "\n<svg width=\"100%\">\n   <defs>\n    <clipPath id=\"mask\">\n      <rect x=0 y=100 width=\"50%\" height=\"500\">\n    </clipPath>\n  </defs>\n</svg>\n<style>\n\n.bp {\n    width: 100%;\n    -webkit-clip-path: circle(#mask);\n    clip-path: url(#mask);\n}\n</style>\n<img src=\"bp_solution.png\" class=bp>\n"
      }
     },
     "0fa99b4142664f8486e31011a7db4425": {
      "model_module": "jupyter-js-widgets",
      "model_module_version": "~2.1.4",
      "model_name": "LayoutModel",
      "state": {
       "_model_module_version": "~2.1.4",
       "_view_module_version": "~2.1.4"
      }
     },
     "0ff642e5a0ae4942be037e8c139047b7": {
      "model_module": "jupyter-js-widgets",
      "model_module_version": "~2.1.4",
      "model_name": "LayoutModel",
      "state": {
       "_model_module_version": "~2.1.4",
       "_view_module_version": "~2.1.4"
      }
     },
     "1019f6f5053e40a3b136e28337c20646": {
      "model_module": "jupyter-js-widgets",
      "model_module_version": "~2.1.4",
      "model_name": "ButtonModel",
      "state": {
       "_model_module_version": "~2.1.4",
       "_view_module_version": "~2.1.4",
       "description": "Previous",
       "layout": "IPY_MODEL_7366839f4cea449e80efaa7c1e196b4b",
       "style": "IPY_MODEL_bd7140b93aba43da888be4ebf74a7463"
      }
     },
     "103ce6fcbd0442f7a43e2af9365a991e": {
      "model_module": "jupyter-js-widgets",
      "model_module_version": "~2.1.4",
      "model_name": "LayoutModel",
      "state": {
       "_model_module_version": "~2.1.4",
       "_view_module_version": "~2.1.4"
      }
     },
     "109239763359415bacbb860cf564bb01": {
      "model_module": "jupyter-js-widgets",
      "model_module_version": "~2.1.4",
      "model_name": "ButtonModel",
      "state": {
       "_model_module_version": "~2.1.4",
       "_view_module_version": "~2.1.4",
       "description": "Previous",
       "icon": "check",
       "layout": "IPY_MODEL_c004e2aa49554e358885320f6845528f",
       "style": "IPY_MODEL_9f8f5849d1544e58a997b1b123dea093",
       "tooltip": "Click me"
      }
     },
     "1092a58c280040afa38a6006b8ec2f2b": {
      "model_module": "jupyter-js-widgets",
      "model_module_version": "~2.1.4",
      "model_name": "ButtonStyleModel",
      "state": {
       "_model_module_version": "~2.1.4",
       "_view_module_version": "~2.1.4"
      }
     },
     "10c06c9057504287b06c8c4af73fc8be": {
      "model_module": "jupyter-js-widgets",
      "model_module_version": "~2.1.4",
      "model_name": "LayoutModel",
      "state": {
       "_model_module_version": "~2.1.4",
       "_view_module_version": "~2.1.4"
      }
     },
     "10dc30b0f4c24c2896c22bba5c866c76": {
      "model_module": "jupyter-js-widgets",
      "model_module_version": "~2.1.4",
      "model_name": "HTMLModel",
      "state": {
       "_model_module_version": "~2.1.4",
       "_view_module_version": "~2.1.4",
       "layout": "IPY_MODEL_a7c59726592448f18ee34226230fc99f",
       "value": "\n<style>\nimg {\n    width: 100%;\n    clip-path: circle(50px);\n}\n</style>\n<img src=\"bp_solution.png\">\n"
      }
     },
     "10e686ba752a4def825f8adc697463f9": {
      "model_module": "jupyter-js-widgets",
      "model_module_version": "~2.1.4",
      "model_name": "ButtonStyleModel",
      "state": {
       "_model_module_version": "~2.1.4",
       "_view_module_version": "~2.1.4"
      }
     },
     "113808b3f2274975bed300f6bbbfeaf6": {
      "model_module": "jupyter-js-widgets",
      "model_module_version": "~2.1.4",
      "model_name": "ButtonStyleModel",
      "state": {
       "_model_module_version": "~2.1.4",
       "_view_module_version": "~2.1.4"
      }
     },
     "1148c81b4e834ef0a430ef3dd589adc6": {
      "model_module": "jupyter-js-widgets",
      "model_module_version": "~2.1.4",
      "model_name": "ButtonStyleModel",
      "state": {
       "_model_module_version": "~2.1.4",
       "_view_module_version": "~2.1.4"
      }
     },
     "118ef176235d479c8c9ada43c6bc0d24": {
      "model_module": "jupyter-js-widgets",
      "model_module_version": "~2.1.4",
      "model_name": "LayoutModel",
      "state": {
       "_model_module_version": "~2.1.4",
       "_view_module_version": "~2.1.4"
      }
     },
     "11a9c16fb1be44f980aebb8dd49a54cd": {
      "model_module": "jupyter-js-widgets",
      "model_module_version": "~2.1.4",
      "model_name": "ButtonStyleModel",
      "state": {
       "_model_module_version": "~2.1.4",
       "_view_module_version": "~2.1.4"
      }
     },
     "11beff4c3a5546e6bb7128314d4475da": {
      "model_module": "jupyter-js-widgets",
      "model_module_version": "~2.1.4",
      "model_name": "ButtonStyleModel",
      "state": {
       "_model_module_version": "~2.1.4",
       "_view_module_version": "~2.1.4"
      }
     },
     "11da0dcaa3a34ac683b4288dfc2462cb": {
      "model_module": "jupyter-js-widgets",
      "model_module_version": "~2.1.4",
      "model_name": "ButtonStyleModel",
      "state": {
       "_model_module_version": "~2.1.4",
       "_view_module_version": "~2.1.4"
      }
     },
     "120c9eba93ca46acb616a3f65cf8b330": {
      "model_module": "jupyter-js-widgets",
      "model_module_version": "~2.1.4",
      "model_name": "LayoutModel",
      "state": {
       "_model_module_version": "~2.1.4",
       "_view_module_version": "~2.1.4"
      }
     },
     "1239b50b8ddd4dfe92afcab72a2b7723": {
      "model_module": "jupyter-js-widgets",
      "model_module_version": "~2.1.4",
      "model_name": "LayoutModel",
      "state": {
       "_model_module_version": "~2.1.4",
       "_view_module_version": "~2.1.4"
      }
     },
     "126b6e602d824975bcc6c6f32aa384f4": {
      "model_module": "jupyter-js-widgets",
      "model_module_version": "~2.1.4",
      "model_name": "LayoutModel",
      "state": {
       "_model_module_version": "~2.1.4",
       "_view_module_version": "~2.1.4"
      }
     },
     "126e44b6fc1e4113bb96c003342aab59": {
      "model_module": "jupyter-js-widgets",
      "model_module_version": "~2.1.4",
      "model_name": "ButtonStyleModel",
      "state": {
       "_model_module_version": "~2.1.4",
       "_view_module_version": "~2.1.4"
      }
     },
     "12a51eca739f4d4aa97365bfab8e8891": {
      "model_module": "jupyter-js-widgets",
      "model_module_version": "~2.1.4",
      "model_name": "LayoutModel",
      "state": {
       "_model_module_version": "~2.1.4",
       "_view_module_version": "~2.1.4"
      }
     },
     "12bb17e1b7bb4bbf9f3d58562c619cc1": {
      "model_module": "jupyter-js-widgets",
      "model_module_version": "~2.1.4",
      "model_name": "ButtonStyleModel",
      "state": {
       "_model_module_version": "~2.1.4",
       "_view_module_version": "~2.1.4"
      }
     },
     "12bfb3d1c16543efaf17dbfb872ff515": {
      "model_module": "jupyter-js-widgets",
      "model_module_version": "~2.1.4",
      "model_name": "ButtonModel",
      "state": {
       "_model_module_version": "~2.1.4",
       "_view_module_version": "~2.1.4",
       "description": "Next",
       "layout": "IPY_MODEL_8f8876b16920467393a37e05c5d1f932",
       "style": "IPY_MODEL_69ef506ed13b46f8a8f33d510db43daa"
      }
     },
     "12d84043cc9b47f58dea421b6b1d7856": {
      "model_module": "jupyter-js-widgets",
      "model_module_version": "~2.1.4",
      "model_name": "HTMLModel",
      "state": {
       "_model_module_version": "~2.1.4",
       "_view_module_version": "~2.1.4",
       "layout": "IPY_MODEL_bc49a5954f1b4ce7879fe449b0bee509",
       "value": "<img src='mlp.png'/>"
      }
     },
     "12fb267760544c94a3450f041525f300": {
      "model_module": "jupyter-js-widgets",
      "model_module_version": "~2.1.4",
      "model_name": "LayoutModel",
      "state": {
       "_model_module_version": "~2.1.4",
       "_view_module_version": "~2.1.4"
      }
     },
     "131b41338c374c2da29fe30fe6b8b474": {
      "model_module": "jupyter-js-widgets",
      "model_module_version": "~2.1.4",
      "model_name": "LayoutModel",
      "state": {
       "_model_module_version": "~2.1.4",
       "_view_module_version": "~2.1.4"
      }
     },
     "1322c3c8609c4d199fbe77998fa08508": {
      "model_module": "jupyter-js-widgets",
      "model_module_version": "~2.1.4",
      "model_name": "ButtonStyleModel",
      "state": {
       "_model_module_version": "~2.1.4",
       "_view_module_version": "~2.1.4"
      }
     },
     "135d61cd83e54972ade79e594f26c5ec": {
      "model_module": "jupyter-js-widgets",
      "model_module_version": "~2.1.4",
      "model_name": "LayoutModel",
      "state": {
       "_model_module_version": "~2.1.4",
       "_view_module_version": "~2.1.4"
      }
     },
     "1384767a32994b5bac61e454dec2fe8d": {
      "model_module": "jupyter-js-widgets",
      "model_module_version": "~2.1.4",
      "model_name": "HTMLModel",
      "state": {
       "_model_module_version": "~2.1.4",
       "_view_module_version": "~2.1.4",
       "layout": "IPY_MODEL_131b41338c374c2da29fe30fe6b8b474",
       "value": "\n<svg width=0 height=100%>\n   <defs>\n    <clipPath id=\"mask\">\n      <rect x=0 y=0 width=\"100%\" height=\"600\">\n    </clipPath>\n  </defs>\n</svg>\n<style>\n\n.bp {\n    width: 100%;\n    -webkit-clip-path: circle(#mask);\n    clip-path: url(#mask);\n}\n</style>\n<img src=\"bp_solution.png\" class=bp>\n"
      }
     },
     "138bfc4bebd04fc0b068d1bf54d863aa": {
      "model_module": "jupyter-js-widgets",
      "model_module_version": "~2.1.4",
      "model_name": "LayoutModel",
      "state": {
       "_model_module_version": "~2.1.4",
       "_view_module_version": "~2.1.4"
      }
     },
     "1393772c7efb48f584b55f75255d3f3f": {
      "model_module": "jupyter-js-widgets",
      "model_module_version": "~2.1.4",
      "model_name": "LayoutModel",
      "state": {
       "_model_module_version": "~2.1.4",
       "_view_module_version": "~2.1.4"
      }
     },
     "139673f2d14e435da24e86afdba27082": {
      "model_module": "jupyter-js-widgets",
      "model_module_version": "~2.1.4",
      "model_name": "ButtonModel",
      "state": {
       "_model_module_version": "~2.1.4",
       "_view_module_version": "~2.1.4",
       "description": "Previous",
       "layout": "IPY_MODEL_a54f593782e945b6845567b28fa9576e",
       "style": "IPY_MODEL_9d0244a172484483b87ff09421d5c055"
      }
     },
     "13bc2cf1e1eb467c99245acf3b3b95ab": {
      "model_module": "jupyter-js-widgets",
      "model_module_version": "~2.1.4",
      "model_name": "ButtonModel",
      "state": {
       "_model_module_version": "~2.1.4",
       "_view_module_version": "~2.1.4",
       "description": "Previous",
       "icon": "check",
       "layout": "IPY_MODEL_55eea1bdffee4bfeb1b1ac1ff0121044",
       "style": "IPY_MODEL_49426e158e434322acd67ad902ac3ba5",
       "tooltip": "Click me"
      }
     },
     "13c23295c9e8419980f075f99baf1828": {
      "model_module": "jupyter-js-widgets",
      "model_module_version": "~2.1.4",
      "model_name": "LayoutModel",
      "state": {
       "_model_module_version": "~2.1.4",
       "_view_module_version": "~2.1.4"
      }
     },
     "13c5b73f862d4107bfb816e97fd8fd70": {
      "model_module": "jupyter-js-widgets",
      "model_module_version": "~2.1.4",
      "model_name": "ButtonModel",
      "state": {
       "_model_module_version": "~2.1.4",
       "_view_module_version": "~2.1.4",
       "description": "Previous",
       "layout": "IPY_MODEL_ac7e14ff11ff4f249f3fe42a47771e07",
       "style": "IPY_MODEL_652bd0e7f0d04d2bb0e307b220dd8997"
      }
     },
     "13f9b983cbb94b7586d99f81157081cb": {
      "model_module": "jupyter-js-widgets",
      "model_module_version": "~2.1.4",
      "model_name": "LayoutModel",
      "state": {
       "_model_module_version": "~2.1.4",
       "_view_module_version": "~2.1.4"
      }
     },
     "14299326bf35492cad42a3af32713021": {
      "model_module": "jupyter-js-widgets",
      "model_module_version": "~2.1.4",
      "model_name": "LayoutModel",
      "state": {
       "_model_module_version": "~2.1.4",
       "_view_module_version": "~2.1.4"
      }
     },
     "14337a52c9d442e98eed6f12e294d2de": {
      "model_module": "jupyter-js-widgets",
      "model_module_version": "~2.1.4",
      "model_name": "LayoutModel",
      "state": {
       "_model_module_version": "~2.1.4",
       "_view_module_version": "~2.1.4"
      }
     },
     "143f8e6d4d334eb5bc062017aa8aa006": {
      "model_module": "jupyter-js-widgets",
      "model_module_version": "~2.1.4",
      "model_name": "LayoutModel",
      "state": {
       "_model_module_version": "~2.1.4",
       "_view_module_version": "~2.1.4"
      }
     },
     "144672e420c2480b809b0769bc52c29b": {
      "model_module": "jupyter-js-widgets",
      "model_module_version": "~2.1.4",
      "model_name": "ButtonModel",
      "state": {
       "_model_module_version": "~2.1.4",
       "_view_module_version": "~2.1.4",
       "description": "Previous",
       "icon": "check",
       "layout": "IPY_MODEL_a58e5eedb29e4165b5055d8e63d475a8",
       "style": "IPY_MODEL_05c925a776204a348023f0e44ba32487",
       "tooltip": "Click me"
      }
     },
     "148ee9b7e7b24299b62d3de85d7954a4": {
      "model_module": "jupyter-js-widgets",
      "model_module_version": "~2.1.4",
      "model_name": "LayoutModel",
      "state": {
       "_model_module_version": "~2.1.4",
       "_view_module_version": "~2.1.4"
      }
     },
     "14d504ad094b4d7e8b45246724b45f51": {
      "model_module": "jupyter-js-widgets",
      "model_module_version": "~2.1.4",
      "model_name": "LayoutModel",
      "state": {
       "_model_module_version": "~2.1.4",
       "_view_module_version": "~2.1.4",
       "align_items": "stretch",
       "display": "flex",
       "flex_flow": "row",
       "justify_content": "center",
       "width": "100%"
      }
     },
     "14fec9fd33cd403488df7b0067172cfb": {
      "model_module": "jupyter-js-widgets",
      "model_module_version": "~2.1.4",
      "model_name": "LayoutModel",
      "state": {
       "_model_module_version": "~2.1.4",
       "_view_module_version": "~2.1.4"
      }
     },
     "1509e3868a7440bc8428b0fdb5ebf28b": {
      "model_module": "jupyter-js-widgets",
      "model_module_version": "~2.1.4",
      "model_name": "LayoutModel",
      "state": {
       "_model_module_version": "~2.1.4",
       "_view_module_version": "~2.1.4"
      }
     },
     "150cf7532a18409f8db3c47cc31f7cf5": {
      "model_module": "jupyter-js-widgets",
      "model_module_version": "~2.1.4",
      "model_name": "ButtonModel",
      "state": {
       "_model_module_version": "~2.1.4",
       "_view_module_version": "~2.1.4",
       "description": "Next",
       "icon": "check",
       "layout": "IPY_MODEL_3c94a149043f4718bc9be53e1c4a7a50",
       "style": "IPY_MODEL_65293e105e8f4d83a3cfa2863a6e14f9",
       "tooltip": "Click me"
      }
     },
     "15271fb01e75433688da9adf868ba8ea": {
      "model_module": "jupyter-js-widgets",
      "model_module_version": "~2.1.4",
      "model_name": "IntSliderModel",
      "state": {
       "_model_module_version": "~2.1.4",
       "_view_module_version": "~2.1.4",
       "layout": "IPY_MODEL_46e9c1c2a85e4303851064bc2cd5a074",
       "style": "IPY_MODEL_21157aaacdaa4b1da56cb8623d6c75e2"
      }
     },
     "15872d319b044acb832c486c1dd000e7": {
      "model_module": "jupyter-js-widgets",
      "model_module_version": "~2.1.4",
      "model_name": "ButtonStyleModel",
      "state": {
       "_model_module_version": "~2.1.4",
       "_view_module_version": "~2.1.4"
      }
     },
     "15ff0ccae418461c8a6172dccee0a0a0": {
      "model_module": "jupyter-js-widgets",
      "model_module_version": "~2.1.4",
      "model_name": "LayoutModel",
      "state": {
       "_model_module_version": "~2.1.4",
       "_view_module_version": "~2.1.4"
      }
     },
     "1638e94d99ea4d62a63c096098452aae": {
      "model_module": "jupyter-js-widgets",
      "model_module_version": "~2.1.4",
      "model_name": "HTMLModel",
      "state": {
       "_model_module_version": "~2.1.4",
       "_view_module_version": "~2.1.4",
       "layout": "IPY_MODEL_3ca4d3c3b80641799ae558f17f3eab48",
       "value": "bla"
      }
     },
     "168721c46be741de90462d0fe916dfd2": {
      "model_module": "jupyter-js-widgets",
      "model_module_version": "~2.1.4",
      "model_name": "ButtonStyleModel",
      "state": {
       "_model_module_version": "~2.1.4",
       "_view_module_version": "~2.1.4"
      }
     },
     "168f451b30094e939d7dca62614e7ee3": {
      "model_module": "jupyter-js-widgets",
      "model_module_version": "~2.1.4",
      "model_name": "ButtonModel",
      "state": {
       "_model_module_version": "~2.1.4",
       "_view_module_version": "~2.1.4",
       "description": "Next",
       "icon": "check",
       "layout": "IPY_MODEL_8700101680ec4e808b8fb40744f1329a",
       "style": "IPY_MODEL_7d02d5afe1b94f6c8dddcee66cee6273",
       "tooltip": "Click me"
      }
     },
     "16bd28437e9c4164b1902804b2984a51": {
      "model_module": "jupyter-js-widgets",
      "model_module_version": "~2.1.4",
      "model_name": "LayoutModel",
      "state": {
       "_model_module_version": "~2.1.4",
       "_view_module_version": "~2.1.4"
      }
     },
     "16e6d9f29d764d4f9131433a8f46bf67": {
      "model_module": "jupyter-js-widgets",
      "model_module_version": "~2.1.4",
      "model_name": "IntSliderModel",
      "state": {
       "_model_module_version": "~2.1.4",
       "_view_module_version": "~2.1.4",
       "layout": "IPY_MODEL_448e891630504f2eb7de136b97f77c9f",
       "style": "IPY_MODEL_b3bbc3823f9d4edd8e34f88be82c66bc"
      }
     },
     "17030448ed7e4ac3a5a9613b9dee6ae8": {
      "model_module": "jupyter-js-widgets",
      "model_module_version": "~2.1.4",
      "model_name": "ButtonModel",
      "state": {
       "_model_module_version": "~2.1.4",
       "_view_module_version": "~2.1.4",
       "description": "Previous",
       "icon": "check",
       "layout": "IPY_MODEL_debc50a67a614cbc9d5faf98117f0100",
       "style": "IPY_MODEL_f8e61a3daf6147f5ab743b55b96fb024",
       "tooltip": "Click me"
      }
     },
     "1707d57386e54421a315bd06db35f8d8": {
      "model_module": "jupyter-js-widgets",
      "model_module_version": "~2.1.4",
      "model_name": "LayoutModel",
      "state": {
       "_model_module_version": "~2.1.4",
       "_view_module_version": "~2.1.4"
      }
     },
     "1713a227616641f19bf6293cf5666997": {
      "model_module": "jupyter-js-widgets",
      "model_module_version": "~2.1.4",
      "model_name": "LayoutModel",
      "state": {
       "_model_module_version": "~2.1.4",
       "_view_module_version": "~2.1.4"
      }
     },
     "17227f62ea5d4617a19b0339a04f7829": {
      "model_module": "jupyter-js-widgets",
      "model_module_version": "~2.1.4",
      "model_name": "LayoutModel",
      "state": {
       "_model_module_version": "~2.1.4",
       "_view_module_version": "~2.1.4"
      }
     },
     "1740599d8fb748e68aa96a44a5f87453": {
      "model_module": "jupyter-js-widgets",
      "model_module_version": "~2.1.4",
      "model_name": "LayoutModel",
      "state": {
       "_model_module_version": "~2.1.4",
       "_view_module_version": "~2.1.4"
      }
     },
     "17427d0b38b140c0bd47e0889db8b846": {
      "model_module": "jupyter-js-widgets",
      "model_module_version": "~2.1.4",
      "model_name": "ButtonStyleModel",
      "state": {
       "_model_module_version": "~2.1.4",
       "_view_module_version": "~2.1.4"
      }
     },
     "178bda39252f47f1950946a191ad21d5": {
      "model_module": "jupyter-js-widgets",
      "model_module_version": "~2.1.4",
      "model_name": "ButtonStyleModel",
      "state": {
       "_model_module_version": "~2.1.4",
       "_view_module_version": "~2.1.4"
      }
     },
     "178c7c0500e04111bf45b5c32ff15cbe": {
      "model_module": "jupyter-js-widgets",
      "model_module_version": "~2.1.4",
      "model_name": "HTMLModel",
      "state": {
       "_model_module_version": "~2.1.4",
       "_view_module_version": "~2.1.4",
       "layout": "IPY_MODEL_118ef176235d479c8c9ada43c6bc0d24",
       "value": "\n<svg width=\"100%\" height=0><defs><clipPath id=\"mask\">\n<rect x=0 y=110 width='28%' height='500' /><rect x=0 y=0 width='100%' height='50' />\n</clipPath></defs></svg>\n<style>\n.bp {\n    width: 100%;\n    -webkit-clip-path: circle(#mask);\n    clip-path: url(#mask);\n}\n</style>\n<img src=\"bp_solution.png\" class=bp>\n"
      }
     },
     "17c3686e1faa4767bd66f9446610dab7": {
      "model_module": "jupyter-js-widgets",
      "model_module_version": "~2.1.4",
      "model_name": "ButtonStyleModel",
      "state": {
       "_model_module_version": "~2.1.4",
       "_view_module_version": "~2.1.4"
      }
     },
     "17edbe2cfc664270a0caf1c49977034e": {
      "model_module": "jupyter-js-widgets",
      "model_module_version": "~2.1.4",
      "model_name": "ButtonModel",
      "state": {
       "_model_module_version": "~2.1.4",
       "_view_module_version": "~2.1.4",
       "description": "Next",
       "icon": "check",
       "layout": "IPY_MODEL_eafa3854202043f9a8a69f0bcb0391da",
       "style": "IPY_MODEL_f10b901002f84575a3948d5eda73af9a",
       "tooltip": "Click me"
      }
     },
     "17f4ff1da66d49f2a095381210d45cfd": {
      "model_module": "jupyter-js-widgets",
      "model_module_version": "~2.1.4",
      "model_name": "LayoutModel",
      "state": {
       "_model_module_version": "~2.1.4",
       "_view_module_version": "~2.1.4"
      }
     },
     "181724fb369a4b85a53af3b1f00003e0": {
      "model_module": "jupyter-js-widgets",
      "model_module_version": "~2.1.4",
      "model_name": "ButtonStyleModel",
      "state": {
       "_model_module_version": "~2.1.4",
       "_view_module_version": "~2.1.4"
      }
     },
     "1831bb196e4843d68ea5df88e11a01a3": {
      "model_module": "jupyter-js-widgets",
      "model_module_version": "~2.1.4",
      "model_name": "ButtonModel",
      "state": {
       "_model_module_version": "~2.1.4",
       "_view_module_version": "~2.1.4",
       "description": "Previous",
       "layout": "IPY_MODEL_5810e7e7978a4101b627c043a1b87588",
       "style": "IPY_MODEL_fd5a53057b3a49ca89db8c5145256258"
      }
     },
     "18344f3c0b88477fb63ce486a0bb0c29": {
      "model_module": "jupyter-js-widgets",
      "model_module_version": "~2.1.4",
      "model_name": "ButtonStyleModel",
      "state": {
       "_model_module_version": "~2.1.4",
       "_view_module_version": "~2.1.4"
      }
     },
     "188bf352cc76409881cd6dfe6b6ee87d": {
      "model_module": "jupyter-js-widgets",
      "model_module_version": "~2.1.4",
      "model_name": "ButtonModel",
      "state": {
       "_model_module_version": "~2.1.4",
       "_view_module_version": "~2.1.4",
       "description": "Previous",
       "icon": "check",
       "layout": "IPY_MODEL_664fd0e99d184424b53c26883d3cdb50",
       "style": "IPY_MODEL_abde3568d2684d5b80a1dbc88245749e",
       "tooltip": "Click me"
      }
     },
     "18a07459af894437a87b229ab05de97d": {
      "model_module": "jupyter-js-widgets",
      "model_module_version": "~2.1.4",
      "model_name": "ButtonStyleModel",
      "state": {
       "_model_module_version": "~2.1.4",
       "_view_module_version": "~2.1.4"
      }
     },
     "18ac6d2a07fb4ab5b1b9847707a08511": {
      "model_module": "jupyter-js-widgets",
      "model_module_version": "~2.1.4",
      "model_name": "LayoutModel",
      "state": {
       "_model_module_version": "~2.1.4",
       "_view_module_version": "~2.1.4"
      }
     },
     "18af05e55087490bbe5f9296ff4a1660": {
      "model_module": "jupyter-js-widgets",
      "model_module_version": "~2.1.4",
      "model_name": "HTMLModel",
      "state": {
       "_model_module_version": "~2.1.4",
       "_view_module_version": "~2.1.4",
       "layout": "IPY_MODEL_4114ea4c18674585903f5a3788a6679a",
       "value": "bla"
      }
     },
     "18bf67bdcccc42458281363b523a4bad": {
      "model_module": "jupyter-js-widgets",
      "model_module_version": "~2.1.4",
      "model_name": "ButtonStyleModel",
      "state": {
       "_model_module_version": "~2.1.4",
       "_view_module_version": "~2.1.4"
      }
     },
     "18ce1b156d85468c869a5bda9d94dbc1": {
      "model_module": "jupyter-js-widgets",
      "model_module_version": "~2.1.4",
      "model_name": "ButtonStyleModel",
      "state": {
       "_model_module_version": "~2.1.4",
       "_view_module_version": "~2.1.4"
      }
     },
     "18df76eb648d4c04ab0a99fe460f1d6a": {
      "model_module": "jupyter-js-widgets",
      "model_module_version": "~2.1.4",
      "model_name": "LayoutModel",
      "state": {
       "_model_module_version": "~2.1.4",
       "_view_module_version": "~2.1.4"
      }
     },
     "18e0ce8f928e454897c470c6068cde92": {
      "model_module": "jupyter-js-widgets",
      "model_module_version": "~2.1.4",
      "model_name": "ButtonModel",
      "state": {
       "_model_module_version": "~2.1.4",
       "_view_module_version": "~2.1.4",
       "description": "Previous",
       "icon": "check",
       "layout": "IPY_MODEL_64111ada6d96477cbfa0a4923469b877",
       "style": "IPY_MODEL_1dd5d938082f43aa949d6cb925d8bca6",
       "tooltip": "Click me"
      }
     },
     "18f443a57c024cc3af226d2c00f363c7": {
      "model_module": "jupyter-js-widgets",
      "model_module_version": "~2.1.4",
      "model_name": "LayoutModel",
      "state": {
       "_model_module_version": "~2.1.4",
       "_view_module_version": "~2.1.4"
      }
     },
     "192fb55a12f94045bbac7fb075bee751": {
      "model_module": "jupyter-js-widgets",
      "model_module_version": "~2.1.4",
      "model_name": "LayoutModel",
      "state": {
       "_model_module_version": "~2.1.4",
       "_view_module_version": "~2.1.4"
      }
     },
     "194b14fb409c4eee973ac76775d4a7b0": {
      "model_module": "jupyter-js-widgets",
      "model_module_version": "~2.1.4",
      "model_name": "ButtonStyleModel",
      "state": {
       "_model_module_version": "~2.1.4",
       "_view_module_version": "~2.1.4"
      }
     },
     "196998f0747441c2911a2d0385b1ae45": {
      "model_module": "jupyter-js-widgets",
      "model_module_version": "~2.1.4",
      "model_name": "ButtonStyleModel",
      "state": {
       "_model_module_version": "~2.1.4",
       "_view_module_version": "~2.1.4"
      }
     },
     "197fc2f92b764605bde8c8b3b44e2517": {
      "model_module": "jupyter-js-widgets",
      "model_module_version": "~2.1.4",
      "model_name": "HTMLModel",
      "state": {
       "_model_module_version": "~2.1.4",
       "_view_module_version": "~2.1.4",
       "layout": "IPY_MODEL_e1dd653f5f124c7dbe772319fb3461f4",
       "value": "\n<svg width=\"0\" height=\"0\">\n   <defs>\n    <clipPath id=\"mask\">\n      <rect x=20 y=20 width=50% height=50%>\n    </clipPath>\n  </defs>\n</svg>\n<style>\n.bp {\n    width: 100%;\n    -webkit-clip-path: circle(50px);\n    clip-path: url(#mask);\n}\n</style>\n<img src=\"bp_solution.png\" class=bp>\n"
      }
     },
     "19897891c2284624891e53d0491e2835": {
      "model_module": "jupyter-js-widgets",
      "model_module_version": "~2.1.4",
      "model_name": "ButtonModel",
      "state": {
       "_model_module_version": "~2.1.4",
       "_view_module_version": "~2.1.4",
       "description": "Next",
       "icon": "check",
       "layout": "IPY_MODEL_f47a5f5bdff047f789d8f64f21051d94",
       "style": "IPY_MODEL_abcaf14c6c0f49dba56e9e6580bea5a1",
       "tooltip": "Click me"
      }
     },
     "199d6f2923684ad18c6dab15cda5cb5a": {
      "model_module": "jupyter-js-widgets",
      "model_module_version": "~2.1.4",
      "model_name": "LayoutModel",
      "state": {
       "_model_module_version": "~2.1.4",
       "_view_module_version": "~2.1.4"
      }
     },
     "19e8daea74684a9d8ee7339d1733929b": {
      "model_module": "jupyter-js-widgets",
      "model_module_version": "~2.1.4",
      "model_name": "ButtonModel",
      "state": {
       "_model_module_version": "~2.1.4",
       "_view_module_version": "~2.1.4",
       "description": "Next",
       "icon": "check",
       "layout": "IPY_MODEL_0a477740d18b4813b3952718f043fb38",
       "style": "IPY_MODEL_9dbce56a1fd0485b950fe50f0fbd258a",
       "tooltip": "Click me"
      }
     },
     "19fb37e823a7452ca1702fbd87cfa7fe": {
      "model_module": "jupyter-js-widgets",
      "model_module_version": "~2.1.4",
      "model_name": "HTMLModel",
      "state": {
       "_model_module_version": "~2.1.4",
       "_view_module_version": "~2.1.4",
       "layout": "IPY_MODEL_2bab1eb610d44c919ab7677138b92f33",
       "value": "\n<svg width=\"0\" height=\"0\">\n   <defs>\n    <clipPath id=\"mask\">\n      <rect x=20 y=20 width=\"50\" height=100>\n    </clipPath>\n  </defs>\n</svg>\n<style>\n.bp {\n    width: 100%;\n    -webkit-clip-path: circle(50px);\n    clip-path: url(#mask);\n}\n</style>\n<img src=\"bp_solution.png\" class=bp>\n"
      }
     },
     "19fd6715d2064b1a85cbab3f16de491c": {
      "model_module": "jupyter-js-widgets",
      "model_module_version": "~2.1.4",
      "model_name": "LayoutModel",
      "state": {
       "_model_module_version": "~2.1.4",
       "_view_module_version": "~2.1.4"
      }
     },
     "1a391caf870843bd837340985c54e5dd": {
      "model_module": "jupyter-js-widgets",
      "model_module_version": "~2.1.4",
      "model_name": "LayoutModel",
      "state": {
       "_model_module_version": "~2.1.4",
       "_view_module_version": "~2.1.4"
      }
     },
     "1a473f0e912e49a5845d56a40b0e11b6": {
      "model_module": "jupyter-js-widgets",
      "model_module_version": "~2.1.4",
      "model_name": "LayoutModel",
      "state": {
       "_model_module_version": "~2.1.4",
       "_view_module_version": "~2.1.4"
      }
     },
     "1a5937fd862d4cb3acb78d38a4ceeff6": {
      "model_module": "jupyter-js-widgets",
      "model_module_version": "~2.1.4",
      "model_name": "HTMLModel",
      "state": {
       "_model_module_version": "~2.1.4",
       "_view_module_version": "~2.1.4",
       "layout": "IPY_MODEL_3758e7ebd8dc4a93914b0551c9586765",
       "value": "\n<svg width=100% height=100%>\n   <defs>\n    <clipPath id=\"mask\">\n      <rect x=20 y=20 width=\"100%\" height=100%>\n    </clipPath>\n  </defs>\n</svg>\n<style>\n\n.bp {\n    width: 100%;\n    -webkit-clip-path: circle(#mask);\n    clip-path: url(#mask);\n}\n</style>\n<img src=\"bp_solution.png\" class=bp>\n"
      }
     },
     "1a71880384ba40cf834a627466cb848f": {
      "model_module": "jupyter-js-widgets",
      "model_module_version": "~2.1.4",
      "model_name": "ButtonModel",
      "state": {
       "_model_module_version": "~2.1.4",
       "_view_module_version": "~2.1.4",
       "description": "Previous",
       "icon": "check",
       "layout": "IPY_MODEL_ee428a9c35674a90a8bfb358383e4036",
       "style": "IPY_MODEL_53e49fafc75f412799a0f25636eea8b6",
       "tooltip": "Click me"
      }
     },
     "1aa74f89caa74d5a8820532cb700cf3e": {
      "model_module": "jupyter-js-widgets",
      "model_module_version": "~2.1.4",
      "model_name": "ButtonModel",
      "state": {
       "_model_module_version": "~2.1.4",
       "_view_module_version": "~2.1.4",
       "description": "Next",
       "layout": "IPY_MODEL_cbb764582f924b819462ee876780a437",
       "style": "IPY_MODEL_c0c55ca489df4a67b499e94a03925031"
      }
     },
     "1aafd4d2ff4b4964bdb6454caef9d6b2": {
      "model_module": "jupyter-js-widgets",
      "model_module_version": "~2.1.4",
      "model_name": "HTMLModel",
      "state": {
       "_model_module_version": "~2.1.4",
       "_view_module_version": "~2.1.4",
       "layout": "IPY_MODEL_c308fb3d1c174ac79aa1203a1bf84fda",
       "value": "\n<svg width=\"100%\" height=0><defs><clipPath id=\"mask\">\n<rect x=0 y=0 width='100%' height='50' /><rect x=0 y=0 width='28%' height='500' /><rect x=0 y=0 width='72%' height='310' /><rect x='62%' y=0 width='100%' height='240' /><rect x='70%' y=0 width='100%' height='330' />\n</clipPath></defs></svg>\n<style>\n.bp {\n    width: 100%;\n    -webkit-clip-path: circle(#mask);\n    clip-path: url(#mask);\n}\n</style>\n<img src=\"bp_solution.png\" class=bp />\n"
      }
     },
     "1ab9463fabd74ff890f2b147f5760053": {
      "model_module": "jupyter-js-widgets",
      "model_module_version": "~2.1.4",
      "model_name": "ButtonStyleModel",
      "state": {
       "_model_module_version": "~2.1.4",
       "_view_module_version": "~2.1.4"
      }
     },
     "1af34a98ff244cda8c15ff7a92132cc1": {
      "model_module": "jupyter-js-widgets",
      "model_module_version": "~2.1.4",
      "model_name": "LayoutModel",
      "state": {
       "_model_module_version": "~2.1.4",
       "_view_module_version": "~2.1.4"
      }
     },
     "1b00ca3075ec458a8d972b690d67186e": {
      "model_module": "jupyter-js-widgets",
      "model_module_version": "~2.1.4",
      "model_name": "HTMLModel",
      "state": {
       "_model_module_version": "~2.1.4",
       "_view_module_version": "~2.1.4",
       "layout": "IPY_MODEL_7c57b0812bfa4157a81ae521529c75cd",
       "value": "\n<svg width=\"100%\" height=0><defs><clipPath id=\"mask\">\n<rect x=0 y=0 width='28%' height='500' /><rect x=0 y=50 width='50%' height='390' /><rect x=0 y=0 width='100%' height='50' />\n</clipPath></defs></svg>\n<style>\n.bp {\n    width: 100%;\n    -webkit-clip-path: circle(#mask);\n    clip-path: url(#mask);\n}\n</style>\n<img src=\"bp_solution.png\" class=bp>\n"
      }
     },
     "1b61d6f8aaf345f59dae5a495a4cdf67": {
      "model_module": "jupyter-js-widgets",
      "model_module_version": "~2.1.4",
      "model_name": "LayoutModel",
      "state": {
       "_model_module_version": "~2.1.4",
       "_view_module_version": "~2.1.4"
      }
     },
     "1bc7abce96774965aae094781effd9ec": {
      "model_module": "jupyter-js-widgets",
      "model_module_version": "~2.1.4",
      "model_name": "LayoutModel",
      "state": {
       "_model_module_version": "~2.1.4",
       "_view_module_version": "~2.1.4"
      }
     },
     "1c25dfe1b4c34bff9fc4a65c6e440309": {
      "model_module": "jupyter-js-widgets",
      "model_module_version": "~2.1.4",
      "model_name": "ButtonModel",
      "state": {
       "_model_module_version": "~2.1.4",
       "_view_module_version": "~2.1.4",
       "description": "Next",
       "icon": "check",
       "layout": "IPY_MODEL_2054dd595e1e4bc9a9bd8d4e1daa9c9b",
       "style": "IPY_MODEL_ddd38341e4fe4186bb11b5d7d9636ca0",
       "tooltip": "Click me"
      }
     },
     "1c594669b4a749ed9afbdbed5b296b6b": {
      "model_module": "jupyter-js-widgets",
      "model_module_version": "~2.1.4",
      "model_name": "ButtonModel",
      "state": {
       "_model_module_version": "~2.1.4",
       "_view_module_version": "~2.1.4",
       "description": "Next",
       "layout": "IPY_MODEL_47a1132efa75496aa645b6e217cfd4d3",
       "style": "IPY_MODEL_5bf353c35506415d99ef816845ccd5a8"
      }
     },
     "1c5c91e670a442569df12b9d1a4443a4": {
      "model_module": "jupyter-js-widgets",
      "model_module_version": "~2.1.4",
      "model_name": "ButtonModel",
      "state": {
       "_model_module_version": "~2.1.4",
       "_view_module_version": "~2.1.4",
       "description": "Previous",
       "layout": "IPY_MODEL_e20f44710099443eac902cf2b6d2748b",
       "style": "IPY_MODEL_ca0f6b9ec48f4f859121aab1f39c6f85"
      }
     },
     "1c63a9601b6243e6a911c4b327cbed74": {
      "model_module": "jupyter-js-widgets",
      "model_module_version": "~2.1.4",
      "model_name": "ButtonStyleModel",
      "state": {
       "_model_module_version": "~2.1.4",
       "_view_module_version": "~2.1.4"
      }
     },
     "1c861b8029ae42eea15df839e8f9245d": {
      "model_module": "jupyter-js-widgets",
      "model_module_version": "~2.1.4",
      "model_name": "ButtonStyleModel",
      "state": {
       "_model_module_version": "~2.1.4",
       "_view_module_version": "~2.1.4"
      }
     },
     "1cbe06bf06df437fb61503fe8b6fbb51": {
      "model_module": "jupyter-js-widgets",
      "model_module_version": "~2.1.4",
      "model_name": "LayoutModel",
      "state": {
       "_model_module_version": "~2.1.4",
       "_view_module_version": "~2.1.4"
      }
     },
     "1cc99dc1e2c94fceaeb1990805f1ae87": {
      "model_module": "jupyter-js-widgets",
      "model_module_version": "~2.1.4",
      "model_name": "HTMLModel",
      "state": {
       "_model_module_version": "~2.1.4",
       "_view_module_version": "~2.1.4",
       "layout": "IPY_MODEL_7c7bb0e8ecdd4874b8deb6f472ebad43",
       "value": "\n<svg width=100% height=100%>\n   <defs>\n    <clipPath id=\"mask\">\n      <rect x=0 y=0 width=\"100%\" height=\"600\">\n    </clipPath>\n  </defs>\n</svg>\n<style>\n\n.bp {\n    width: 100%;\n    -webkit-clip-path: circle(#mask);\n    clip-path: url(#mask);\n}\n</style>\n<img src=\"bp_solution.png\" class=bp>\n"
      }
     },
     "1ccb0d8e658d40d89c5a84bfca9d302d": {
      "model_module": "jupyter-js-widgets",
      "model_module_version": "~2.1.4",
      "model_name": "ButtonModel",
      "state": {
       "_model_module_version": "~2.1.4",
       "_view_module_version": "~2.1.4",
       "description": "Next",
       "icon": "check",
       "layout": "IPY_MODEL_39a1ef3c382d4b6d8f2aaad568881574",
       "style": "IPY_MODEL_8cfe4f60dec54272bde7a67cbabbcf5e",
       "tooltip": "Click me"
      }
     },
     "1d1687baa67d448aae9947c0709b9a21": {
      "model_module": "jupyter-js-widgets",
      "model_module_version": "~2.1.4",
      "model_name": "LayoutModel",
      "state": {
       "_model_module_version": "~2.1.4",
       "_view_module_version": "~2.1.4"
      }
     },
     "1d4f1083f7ba4508a9747d689bf91dbc": {
      "model_module": "jupyter-js-widgets",
      "model_module_version": "~2.1.4",
      "model_name": "LayoutModel",
      "state": {
       "_model_module_version": "~2.1.4",
       "_view_module_version": "~2.1.4"
      }
     },
     "1d6e61a335984084b82c4317b24548c7": {
      "model_module": "jupyter-js-widgets",
      "model_module_version": "~2.1.4",
      "model_name": "LayoutModel",
      "state": {
       "_model_module_version": "~2.1.4",
       "_view_module_version": "~2.1.4"
      }
     },
     "1da1681ec60e4ef19a0e75d1bbae7d52": {
      "model_module": "jupyter-js-widgets",
      "model_module_version": "~2.1.4",
      "model_name": "HTMLModel",
      "state": {
       "_model_module_version": "~2.1.4",
       "_view_module_version": "~2.1.4",
       "layout": "IPY_MODEL_a172c1325ad9490d90bd101b67a7146b",
       "value": "\n<style>\nimg {\n    width: 100%;\n    -webkit-clip-path: circle(5px);\n}\n</style>\n<img src=\"bp_solution.png\">\n"
      }
     },
     "1dba76f791034a36adcd474d7321ce54": {
      "model_module": "jupyter-js-widgets",
      "model_module_version": "~2.1.4",
      "model_name": "ButtonModel",
      "state": {
       "_model_module_version": "~2.1.4",
       "_view_module_version": "~2.1.4",
       "description": "Previous",
       "icon": "check",
       "layout": "IPY_MODEL_5792e0c9e0b94b51a18de08d334d96b9",
       "style": "IPY_MODEL_5511168303994d1f9ea9caf345e52dcf",
       "tooltip": "Click me"
      }
     },
     "1dd00a34327a4597a40367caa4ce61fa": {
      "model_module": "jupyter-js-widgets",
      "model_module_version": "~2.1.4",
      "model_name": "LayoutModel",
      "state": {
       "_model_module_version": "~2.1.4",
       "_view_module_version": "~2.1.4"
      }
     },
     "1dd5d938082f43aa949d6cb925d8bca6": {
      "model_module": "jupyter-js-widgets",
      "model_module_version": "~2.1.4",
      "model_name": "ButtonStyleModel",
      "state": {
       "_model_module_version": "~2.1.4",
       "_view_module_version": "~2.1.4"
      }
     },
     "1ddc3e4c8538435b9897204b1467a747": {
      "model_module": "jupyter-js-widgets",
      "model_module_version": "~2.1.4",
      "model_name": "LayoutModel",
      "state": {
       "_model_module_version": "~2.1.4",
       "_view_module_version": "~2.1.4"
      }
     },
     "1de06bb4ee10447d97ea5b0ba436b115": {
      "model_module": "jupyter-js-widgets",
      "model_module_version": "~2.1.4",
      "model_name": "LayoutModel",
      "state": {
       "_model_module_version": "~2.1.4",
       "_view_module_version": "~2.1.4"
      }
     },
     "1df92014cfd4428b80f7a74eeed6ffd1": {
      "model_module": "jupyter-js-widgets",
      "model_module_version": "~2.1.4",
      "model_name": "ButtonModel",
      "state": {
       "_model_module_version": "~2.1.4",
       "_view_module_version": "~2.1.4",
       "description": "Previous",
       "layout": "IPY_MODEL_1f13c26154984a45abbdf089be799546",
       "style": "IPY_MODEL_b01a21b8b1a64d2db0aba11a53dc9b9e"
      }
     },
     "1dfb4fd35d8c4e07a7c7adf226f35773": {
      "model_module": "jupyter-js-widgets",
      "model_module_version": "~2.1.4",
      "model_name": "ButtonModel",
      "state": {
       "_model_module_version": "~2.1.4",
       "_view_module_version": "~2.1.4",
       "description": "Next",
       "layout": "IPY_MODEL_456003b4753c460d9c4451d20ec1cd52",
       "style": "IPY_MODEL_9effe13a40b643589e9d0e8e94a6c573"
      }
     },
     "1e17c7eb822749a3bf1895e6f6ec6053": {
      "model_module": "jupyter-js-widgets",
      "model_module_version": "~2.1.4",
      "model_name": "HTMLModel",
      "state": {
       "_model_module_version": "~2.1.4",
       "_view_module_version": "~2.1.4",
       "layout": "IPY_MODEL_981e26f382fc411abd42b33aa7e88435",
       "value": "\n<svg width=\"100%\" height=0><defs><clipPath id=\"mask\">\n\n</clipPath></defs></svg>\n<style>\n.bp {\n    width: 100%;\n    -webkit-clip-path: circle(#mask);\n    clip-path: url(#mask);\n}\n</style>\n<img src=\"bp_solution.png\" class=bp>\n"
      }
     },
     "1e3515d9ab904438984ede0216be8bcd": {
      "model_module": "jupyter-js-widgets",
      "model_module_version": "~2.1.4",
      "model_name": "ButtonModel",
      "state": {
       "_model_module_version": "~2.1.4",
       "_view_module_version": "~2.1.4",
       "description": "Previous",
       "icon": "check",
       "layout": "IPY_MODEL_dc29c5caafb24e38a12b6e48dffcee92",
       "style": "IPY_MODEL_9834c9096a4242f493e39976acd85782",
       "tooltip": "Click me"
      }
     },
     "1e9299c504c1419dba985f1eef3b0f58": {
      "model_module": "jupyter-js-widgets",
      "model_module_version": "~2.1.4",
      "model_name": "ButtonModel",
      "state": {
       "_model_module_version": "~2.1.4",
       "_view_module_version": "~2.1.4",
       "description": "Next",
       "icon": "check",
       "layout": "IPY_MODEL_135d61cd83e54972ade79e594f26c5ec",
       "style": "IPY_MODEL_8e80dca14c1442d983b65e8227b33ee8",
       "tooltip": "Click me"
      }
     },
     "1ea884709c5047f386f3f8cc08e9385d": {
      "model_module": "jupyter-js-widgets",
      "model_module_version": "~2.1.4",
      "model_name": "ButtonStyleModel",
      "state": {
       "_model_module_version": "~2.1.4",
       "_view_module_version": "~2.1.4"
      }
     },
     "1ec4a1a841aa4fc3b159b995f01d908c": {
      "model_module": "jupyter-js-widgets",
      "model_module_version": "~2.1.4",
      "model_name": "ButtonStyleModel",
      "state": {
       "_model_module_version": "~2.1.4",
       "_view_module_version": "~2.1.4"
      }
     },
     "1f13c26154984a45abbdf089be799546": {
      "model_module": "jupyter-js-widgets",
      "model_module_version": "~2.1.4",
      "model_name": "LayoutModel",
      "state": {
       "_model_module_version": "~2.1.4",
       "_view_module_version": "~2.1.4"
      }
     },
     "1f34cad98e2946169f473d08c4cc49a6": {
      "model_module": "jupyter-js-widgets",
      "model_module_version": "~2.1.4",
      "model_name": "LayoutModel",
      "state": {
       "_model_module_version": "~2.1.4",
       "_view_module_version": "~2.1.4"
      }
     },
     "1f5bc04fa45a4615ae7365fed32ca385": {
      "model_module": "jupyter-js-widgets",
      "model_module_version": "~2.1.4",
      "model_name": "HTMLModel",
      "state": {
       "_model_module_version": "~2.1.4",
       "_view_module_version": "~2.1.4",
       "layout": "IPY_MODEL_2f8893138f75429b9074661826a05459",
       "value": "<img src='bp_solution.png'>"
      }
     },
     "1f9a27a96580457e88a35f0461b2df94": {
      "model_module": "jupyter-js-widgets",
      "model_module_version": "~2.1.4",
      "model_name": "LayoutModel",
      "state": {
       "_model_module_version": "~2.1.4",
       "_view_module_version": "~2.1.4"
      }
     },
     "1fb33ea245af491b8995d97452ecf873": {
      "model_module": "jupyter-js-widgets",
      "model_module_version": "~2.1.4",
      "model_name": "ButtonStyleModel",
      "state": {
       "_model_module_version": "~2.1.4",
       "_view_module_version": "~2.1.4"
      }
     },
     "1fb9115a489c452fb91fbb1258a0f394": {
      "model_module": "jupyter-js-widgets",
      "model_module_version": "~2.1.4",
      "model_name": "ButtonModel",
      "state": {
       "_model_module_version": "~2.1.4",
       "_view_module_version": "~2.1.4",
       "description": "Next",
       "icon": "check",
       "layout": "IPY_MODEL_1b61d6f8aaf345f59dae5a495a4cdf67",
       "style": "IPY_MODEL_12bb17e1b7bb4bbf9f3d58562c619cc1",
       "tooltip": "Click me"
      }
     },
     "1fd5bb2b8a334074b31499af33417b46": {
      "model_module": "jupyter-js-widgets",
      "model_module_version": "~2.1.4",
      "model_name": "LayoutModel",
      "state": {
       "_model_module_version": "~2.1.4",
       "_view_module_version": "~2.1.4"
      }
     },
     "204aae0f03f647f4b70f91ae54c4c158": {
      "model_module": "jupyter-js-widgets",
      "model_module_version": "~2.1.4",
      "model_name": "ButtonModel",
      "state": {
       "_model_module_version": "~2.1.4",
       "_view_module_version": "~2.1.4",
       "description": "Next",
       "layout": "IPY_MODEL_7b5700312c394977a611fb507b8633c8",
       "style": "IPY_MODEL_8cadebf8673141bda7e36986f8b1d645"
      }
     },
     "2054dd595e1e4bc9a9bd8d4e1daa9c9b": {
      "model_module": "jupyter-js-widgets",
      "model_module_version": "~2.1.4",
      "model_name": "LayoutModel",
      "state": {
       "_model_module_version": "~2.1.4",
       "_view_module_version": "~2.1.4"
      }
     },
     "20658b210df14c7db20c32bc0f2821e9": {
      "model_module": "jupyter-js-widgets",
      "model_module_version": "~2.1.4",
      "model_name": "ButtonModel",
      "state": {
       "_model_module_version": "~2.1.4",
       "_view_module_version": "~2.1.4",
       "description": "Next",
       "icon": "check",
       "layout": "IPY_MODEL_de16f367f4024e3588e3643bb18fd77b",
       "style": "IPY_MODEL_671888c0c61c491fb136965044523fac",
       "tooltip": "Click me"
      }
     },
     "20c9b0616eea4b259e3d4342ac53b85a": {
      "model_module": "jupyter-js-widgets",
      "model_module_version": "~2.1.4",
      "model_name": "ButtonStyleModel",
      "state": {
       "_model_module_version": "~2.1.4",
       "_view_module_version": "~2.1.4"
      }
     },
     "2111fe5d1989496bb7b19b4d4d6e65e0": {
      "model_module": "jupyter-js-widgets",
      "model_module_version": "~2.1.4",
      "model_name": "ButtonModel",
      "state": {
       "_model_module_version": "~2.1.4",
       "_view_module_version": "~2.1.4",
       "description": "Previous",
       "layout": "IPY_MODEL_c2315ba57e8646e4964a4b547ceb10a8",
       "style": "IPY_MODEL_31fbe72e30e24353abea7dfc18aace22"
      }
     },
     "21157aaacdaa4b1da56cb8623d6c75e2": {
      "model_module": "jupyter-js-widgets",
      "model_module_version": "~2.1.4",
      "model_name": "SliderStyleModel",
      "state": {
       "_model_module_version": "~2.1.4",
       "_view_module_version": "~2.1.4"
      }
     },
     "211e0ed4ff7040ffba106a29377f6557": {
      "model_module": "jupyter-js-widgets",
      "model_module_version": "~2.1.4",
      "model_name": "LayoutModel",
      "state": {
       "_model_module_version": "~2.1.4",
       "_view_module_version": "~2.1.4"
      }
     },
     "213de1afe4c84af9a1842c0721d84818": {
      "model_module": "jupyter-js-widgets",
      "model_module_version": "~2.1.4",
      "model_name": "LayoutModel",
      "state": {
       "_model_module_version": "~2.1.4",
       "_view_module_version": "~2.1.4"
      }
     },
     "215d6b31ae964d6086b0b9b3c1c1ceff": {
      "model_module": "jupyter-js-widgets",
      "model_module_version": "~2.1.4",
      "model_name": "ButtonModel",
      "state": {
       "_model_module_version": "~2.1.4",
       "_view_module_version": "~2.1.4",
       "description": "Next",
       "icon": "check",
       "layout": "IPY_MODEL_c04af34f4fb74a97a6d9c69a6cfaf37b",
       "style": "IPY_MODEL_ec3b9473fc1c4856ae2eedde9b9f2c9c",
       "tooltip": "Click me"
      }
     },
     "216e3c6fe14b42e6be00f559bdba88bf": {
      "model_module": "jupyter-js-widgets",
      "model_module_version": "~2.1.4",
      "model_name": "ButtonModel",
      "state": {
       "_model_module_version": "~2.1.4",
       "_view_module_version": "~2.1.4",
       "description": "Next",
       "icon": "check",
       "layout": "IPY_MODEL_072251c616864152a9abe6a635c95ead",
       "style": "IPY_MODEL_bbde10d309d74a418689161bae733bda",
       "tooltip": "Click me"
      }
     },
     "2179a42a2d0a4c82abc84d527d399fef": {
      "model_module": "jupyter-js-widgets",
      "model_module_version": "~2.1.4",
      "model_name": "LayoutModel",
      "state": {
       "_model_module_version": "~2.1.4",
       "_view_module_version": "~2.1.4"
      }
     },
     "217ae9bcc0cb4905a4dfe804ee2a00af": {
      "model_module": "jupyter-js-widgets",
      "model_module_version": "~2.1.4",
      "model_name": "LayoutModel",
      "state": {
       "_model_module_version": "~2.1.4",
       "_view_module_version": "~2.1.4"
      }
     },
     "21829821e9234b0f92338030d6bd15a2": {
      "model_module": "jupyter-js-widgets",
      "model_module_version": "~2.1.4",
      "model_name": "LayoutModel",
      "state": {
       "_model_module_version": "~2.1.4",
       "_view_module_version": "~2.1.4"
      }
     },
     "21b55d80347a4b609349ace680a53cfa": {
      "model_module": "jupyter-js-widgets",
      "model_module_version": "~2.1.4",
      "model_name": "LayoutModel",
      "state": {
       "_model_module_version": "~2.1.4",
       "_view_module_version": "~2.1.4"
      }
     },
     "21d783327e054061bda25f3102785190": {
      "model_module": "jupyter-js-widgets",
      "model_module_version": "~2.1.4",
      "model_name": "LayoutModel",
      "state": {
       "_model_module_version": "~2.1.4",
       "_view_module_version": "~2.1.4"
      }
     },
     "21e373706af043feb531c62857396d7e": {
      "model_module": "jupyter-js-widgets",
      "model_module_version": "~2.1.4",
      "model_name": "HTMLModel",
      "state": {
       "_model_module_version": "~2.1.4",
       "_view_module_version": "~2.1.4",
       "layout": "IPY_MODEL_a11da49dfbfa4598872f82d70938baa5",
       "value": "\n<svg width=\"100%\">\n   <defs>\n    <clipPath id=\"mask\">\n      <rect x=0 y=100 width=\"50%\" height=\"500\">\n    </clipPath>\n  </defs>\n</svg>\n<style>\n\n.bp {\n    width: 100%;\n    -webkit-clip-path: circle(#mask);\n    clip-path: url(#mask);\n}\n</style>\n<img src=\"bp_solution.png\" class=bp>\n"
      }
     },
     "21f877afbc2843d48dac9a0ef968f14e": {
      "model_module": "jupyter-js-widgets",
      "model_module_version": "~2.1.4",
      "model_name": "HTMLModel",
      "state": {
       "_model_module_version": "~2.1.4",
       "_view_module_version": "~2.1.4",
       "layout": "IPY_MODEL_c95a10bd48cf4a40bf32432b6bf88104",
       "value": "\n<svg width=\"100%\">\n   <defs>\n    <clipPath id=\"mask\">\n      <rect x=0 y=0 width=\"50%\" height=\"600\">\n    </clipPath>\n  </defs>\n</svg>\n<style>\n\n.bp {\n    width: 100%;\n    -webkit-clip-path: circle(#mask);\n    clip-path: url(#mask);\n}\n</style>\n<img src=\"bp_solution.png\" class=bp>\n"
      }
     },
     "22017130a73e42019f368c09ef283561": {
      "model_module": "jupyter-js-widgets",
      "model_module_version": "~2.1.4",
      "model_name": "ButtonModel",
      "state": {
       "_model_module_version": "~2.1.4",
       "_view_module_version": "~2.1.4",
       "description": "Previous",
       "layout": "IPY_MODEL_fc5f24a2f8f346409caeef52d252d474",
       "style": "IPY_MODEL_0b804553548c4a2ea436e2bc2cc7c176"
      }
     },
     "22253313ed5a4be89f29b130270171ad": {
      "model_module": "jupyter-js-widgets",
      "model_module_version": "~2.1.4",
      "model_name": "ButtonStyleModel",
      "state": {
       "_model_module_version": "~2.1.4",
       "_view_module_version": "~2.1.4"
      }
     },
     "2226367671e54e18aa989ef9cbd28f47": {
      "model_module": "jupyter-js-widgets",
      "model_module_version": "~2.1.4",
      "model_name": "HTMLModel",
      "state": {
       "_model_module_version": "~2.1.4",
       "_view_module_version": "~2.1.4",
       "layout": "IPY_MODEL_35b24d61ae86467d9f5208557c5891cb",
       "value": "\n<svg width=\"100%\" height=0><defs><clipPath id=\"mask\">\n<rect x=0 y=300 width='28%' height='350' /><rect x=0 y=0 width='100%' height='50' />\n</clipPath></defs></svg>\n<style>\n.bp {\n    width: 100%;\n    -webkit-clip-path: circle(#mask);\n    clip-path: url(#mask);\n}\n</style>\n<img src=\"bp_solution.png\" class=bp>\n"
      }
     },
     "2250e1fc437b461599bb2d93c40faed3": {
      "model_module": "jupyter-js-widgets",
      "model_module_version": "~2.1.4",
      "model_name": "ButtonStyleModel",
      "state": {
       "_model_module_version": "~2.1.4",
       "_view_module_version": "~2.1.4"
      }
     },
     "228531f9af1e42f38863a4be0bb08ae5": {
      "model_module": "jupyter-js-widgets",
      "model_module_version": "~2.1.4",
      "model_name": "ButtonStyleModel",
      "state": {
       "_model_module_version": "~2.1.4",
       "_view_module_version": "~2.1.4"
      }
     },
     "22ac21532cef4f49a5d6d0cc34151313": {
      "model_module": "jupyter-js-widgets",
      "model_module_version": "~2.1.4",
      "model_name": "LayoutModel",
      "state": {
       "_model_module_version": "~2.1.4",
       "_view_module_version": "~2.1.4"
      }
     },
     "22e563f2cd0b4848aaa3bc9205c39a46": {
      "model_module": "jupyter-js-widgets",
      "model_module_version": "~2.1.4",
      "model_name": "LayoutModel",
      "state": {
       "_model_module_version": "~2.1.4",
       "_view_module_version": "~2.1.4"
      }
     },
     "22fa1d6efda64a888716854d0b2d94c0": {
      "model_module": "jupyter-js-widgets",
      "model_module_version": "~2.1.4",
      "model_name": "LayoutModel",
      "state": {
       "_model_module_version": "~2.1.4",
       "_view_module_version": "~2.1.4"
      }
     },
     "2306565fea244eaebec198e131f2117f": {
      "model_module": "jupyter-js-widgets",
      "model_module_version": "~2.1.4",
      "model_name": "ButtonStyleModel",
      "state": {
       "_model_module_version": "~2.1.4",
       "_view_module_version": "~2.1.4"
      }
     },
     "230d586bb27c43f79cbc05b49653350a": {
      "model_module": "jupyter-js-widgets",
      "model_module_version": "~2.1.4",
      "model_name": "LayoutModel",
      "state": {
       "_model_module_version": "~2.1.4",
       "_view_module_version": "~2.1.4"
      }
     },
     "232aaa93753f401ea6755f56d26fc1bf": {
      "model_module": "jupyter-js-widgets",
      "model_module_version": "~2.1.4",
      "model_name": "ButtonStyleModel",
      "state": {
       "_model_module_version": "~2.1.4",
       "_view_module_version": "~2.1.4"
      }
     },
     "2395de7bbe04437db79a6a9278b9fe4b": {
      "model_module": "jupyter-js-widgets",
      "model_module_version": "~2.1.4",
      "model_name": "HTMLModel",
      "state": {
       "_model_module_version": "~2.1.4",
       "_view_module_version": "~2.1.4",
       "layout": "IPY_MODEL_5affe1834d034bbdb7efbbf534fb3c77",
       "value": "\n<svg width=\"100%\" height=0>\n   <defs>\n    <clipPath id=\"mask\">\n      <rect x=0 y=0 width=\"50%\" height=\"700\">\n    </clipPath>\n  </defs>\n</svg>\n<style>\n.bp {\n    width: 100%;\n    -webkit-clip-path: circle(#mask);\n    clip-path: url(#mask);\n}\n</style>\n<img src=\"bp_solution.png\" class=bp>\n"
      }
     },
     "239ca9300cf343978ce060c7692f7920": {
      "model_module": "jupyter-js-widgets",
      "model_module_version": "~2.1.4",
      "model_name": "ButtonStyleModel",
      "state": {
       "_model_module_version": "~2.1.4",
       "_view_module_version": "~2.1.4"
      }
     },
     "23eba457bf3046098f45621f65742f33": {
      "model_module": "jupyter-js-widgets",
      "model_module_version": "~2.1.4",
      "model_name": "LayoutModel",
      "state": {
       "_model_module_version": "~2.1.4",
       "_view_module_version": "~2.1.4"
      }
     },
     "23f912b29f304ac080cda06c5501e9d3": {
      "model_module": "jupyter-js-widgets",
      "model_module_version": "~2.1.4",
      "model_name": "LayoutModel",
      "state": {
       "_model_module_version": "~2.1.4",
       "_view_module_version": "~2.1.4"
      }
     },
     "23fbe9e00fa042c2b2654f947941dc33": {
      "model_module": "jupyter-js-widgets",
      "model_module_version": "~2.1.4",
      "model_name": "HTMLModel",
      "state": {
       "_model_module_version": "~2.1.4",
       "_view_module_version": "~2.1.4",
       "layout": "IPY_MODEL_60d08aa4a0d64151bb29d04d6233efa3",
       "value": "<img src='bp_solution.png' width='100%'>"
      }
     },
     "2406f4a9fe3e4f3794c0f20ea708be8a": {
      "model_module": "jupyter-js-widgets",
      "model_module_version": "~2.1.4",
      "model_name": "LayoutModel",
      "state": {
       "_model_module_version": "~2.1.4",
       "_view_module_version": "~2.1.4"
      }
     },
     "243a984d053149a988d0ce2469a94c25": {
      "model_module": "jupyter-js-widgets",
      "model_module_version": "~2.1.4",
      "model_name": "HTMLModel",
      "state": {
       "_model_module_version": "~2.1.4",
       "_view_module_version": "~2.1.4",
       "layout": "IPY_MODEL_89986b224e6547d99461d05c1d979f85",
       "value": "<img src='mlp.png' align='center'/>"
      }
     },
     "247da41266e140fdbd964d9c8def25e8": {
      "model_module": "jupyter-js-widgets",
      "model_module_version": "~2.1.4",
      "model_name": "ButtonStyleModel",
      "state": {
       "_model_module_version": "~2.1.4",
       "_view_module_version": "~2.1.4"
      }
     },
     "2493f9b18cad4a76a305080f5692141c": {
      "model_module": "jupyter-js-widgets",
      "model_module_version": "~2.1.4",
      "model_name": "ButtonModel",
      "state": {
       "_model_module_version": "~2.1.4",
       "_view_module_version": "~2.1.4",
       "description": "Previous",
       "layout": "IPY_MODEL_148ee9b7e7b24299b62d3de85d7954a4",
       "style": "IPY_MODEL_b55d3e43b9b24e669170c8a8ece30312"
      }
     },
     "24a298d05d944d06bcb70258dea279ee": {
      "model_module": "jupyter-js-widgets",
      "model_module_version": "~2.1.4",
      "model_name": "ButtonModel",
      "state": {
       "_model_module_version": "~2.1.4",
       "_view_module_version": "~2.1.4",
       "description": "Previous",
       "icon": "check",
       "layout": "IPY_MODEL_d07b2d5445ad417a81e81587ead768e2",
       "style": "IPY_MODEL_93d36640dd834fceae792413c7016532",
       "tooltip": "Click me"
      }
     },
     "24a711da8a9744aaab34b2fa76756eec": {
      "model_module": "jupyter-js-widgets",
      "model_module_version": "~2.1.4",
      "model_name": "LayoutModel",
      "state": {
       "_model_module_version": "~2.1.4",
       "_view_module_version": "~2.1.4"
      }
     },
     "24ced35c2e034194bdaa1e73a6aa4cf6": {
      "model_module": "jupyter-js-widgets",
      "model_module_version": "~2.1.4",
      "model_name": "LayoutModel",
      "state": {
       "_model_module_version": "~2.1.4",
       "_view_module_version": "~2.1.4"
      }
     },
     "24d7803e47114e22bd6a73ac55143a75": {
      "model_module": "jupyter-js-widgets",
      "model_module_version": "~2.1.4",
      "model_name": "ButtonStyleModel",
      "state": {
       "_model_module_version": "~2.1.4",
       "_view_module_version": "~2.1.4"
      }
     },
     "24daf4657549422284eba94bc4c48e05": {
      "model_module": "jupyter-js-widgets",
      "model_module_version": "~2.1.4",
      "model_name": "HTMLModel",
      "state": {
       "_model_module_version": "~2.1.4",
       "_view_module_version": "~2.1.4",
       "layout": "IPY_MODEL_1af34a98ff244cda8c15ff7a92132cc1",
       "value": "\n<svg width=\"100%\" height=0><defs><clipPath id=\"mask\">\n<rect x=0 y=0 width='100%' height='50' /><rect x=0 y=0 width='28%' height='500' /><rect x=0 y=0 width='72%' height='310' /><rect x='62%' y=0 width='100%' height='240' /><rect x='70%' y=0 width='100%' height='330' />\n</clipPath></defs></svg>\n<style>\n.bp {\n    width: 100%;\n    -webkit-clip-path: circle(#mask);\n    clip-path: url(#mask);\n}\n</style>\n<img src=\"bp_solution.png\" class=bp />\n"
      }
     },
     "2504c271c106405099b302239e4cdc48": {
      "model_module": "jupyter-js-widgets",
      "model_module_version": "~2.1.4",
      "model_name": "ButtonModel",
      "state": {
       "_model_module_version": "~2.1.4",
       "_view_module_version": "~2.1.4",
       "description": "Previous",
       "layout": "IPY_MODEL_9aeda7e87eab494fa90fd2746c8922b9",
       "style": "IPY_MODEL_533d6c765f754a10a8b363c09e8dde67"
      }
     },
     "2519d6e54a3a4ecb9f22d809ceb09401": {
      "model_module": "jupyter-js-widgets",
      "model_module_version": "~2.1.4",
      "model_name": "LayoutModel",
      "state": {
       "_model_module_version": "~2.1.4",
       "_view_module_version": "~2.1.4"
      }
     },
     "253983c8f9794825b59dec40824104c5": {
      "model_module": "jupyter-js-widgets",
      "model_module_version": "~2.1.4",
      "model_name": "LayoutModel",
      "state": {
       "_model_module_version": "~2.1.4",
       "_view_module_version": "~2.1.4"
      }
     },
     "25398a7da3e948da9fc1effe7122b329": {
      "model_module": "jupyter-js-widgets",
      "model_module_version": "~2.1.4",
      "model_name": "ButtonModel",
      "state": {
       "_model_module_version": "~2.1.4",
       "_view_module_version": "~2.1.4",
       "description": "Previous",
       "icon": "check",
       "layout": "IPY_MODEL_fe8d57fb7de549a0b421b5024b536acc",
       "style": "IPY_MODEL_41ccc2f01ffe48288de276acdfcb06d2",
       "tooltip": "Click me"
      }
     },
     "256685cabcd14c03810fa6b046a7b612": {
      "model_module": "jupyter-js-widgets",
      "model_module_version": "~2.1.4",
      "model_name": "ButtonStyleModel",
      "state": {
       "_model_module_version": "~2.1.4",
       "_view_module_version": "~2.1.4"
      }
     },
     "26178be0613a459b9a5f8ea7e73a1e6e": {
      "model_module": "jupyter-js-widgets",
      "model_module_version": "~2.1.4",
      "model_name": "ButtonModel",
      "state": {
       "_model_module_version": "~2.1.4",
       "_view_module_version": "~2.1.4",
       "description": "Next",
       "icon": "check",
       "layout": "IPY_MODEL_211e0ed4ff7040ffba106a29377f6557",
       "style": "IPY_MODEL_087fcc7d860b48859a94efe904a14d35",
       "tooltip": "Click me"
      }
     },
     "263c887541fb41dfb8306a2d1a272b98": {
      "model_module": "jupyter-js-widgets",
      "model_module_version": "~2.1.4",
      "model_name": "LayoutModel",
      "state": {
       "_model_module_version": "~2.1.4",
       "_view_module_version": "~2.1.4"
      }
     },
     "263db3cda9f94eb08733d92691cfc995": {
      "model_module": "jupyter-js-widgets",
      "model_module_version": "~2.1.4",
      "model_name": "LayoutModel",
      "state": {
       "_model_module_version": "~2.1.4",
       "_view_module_version": "~2.1.4"
      }
     },
     "2643b95da5e5491780a6ae360699fe54": {
      "model_module": "jupyter-js-widgets",
      "model_module_version": "~2.1.4",
      "model_name": "LayoutModel",
      "state": {
       "_model_module_version": "~2.1.4",
       "_view_module_version": "~2.1.4"
      }
     },
     "265bd197b9714a59844be78c479b314a": {
      "model_module": "jupyter-js-widgets",
      "model_module_version": "~2.1.4",
      "model_name": "HTMLModel",
      "state": {
       "_model_module_version": "~2.1.4",
       "_view_module_version": "~2.1.4",
       "layout": "IPY_MODEL_430238ed0da34609b44a03068d30cc5e",
       "value": "\n<svg width=\"100%\">\n   <defs>\n    <clipPath id=\"mask\">\n      <rect x=0 y=0 width=\"50%\" height=\"500\">\n    </clipPath>\n  </defs>\n</svg>\n<style>\n\n.bp {\n    y: 0;\n    width: 100%;\n    -webkit-clip-path: circle(#mask);\n    clip-path: url(#mask);\n}\n</style>\n<img src=\"bp_solution.png\" class=bp>\n"
      }
     },
     "266b9f9453fe473b8516e43dc8ce06c2": {
      "model_module": "jupyter-js-widgets",
      "model_module_version": "~2.1.4",
      "model_name": "LayoutModel",
      "state": {
       "_model_module_version": "~2.1.4",
       "_view_module_version": "~2.1.4"
      }
     },
     "2689941abc75410baaa6e516b3401501": {
      "model_module": "jupyter-js-widgets",
      "model_module_version": "~2.1.4",
      "model_name": "ButtonStyleModel",
      "state": {
       "_model_module_version": "~2.1.4",
       "_view_module_version": "~2.1.4"
      }
     },
     "269b207f7e5a45b5863982f72cda39af": {
      "model_module": "jupyter-js-widgets",
      "model_module_version": "~2.1.4",
      "model_name": "LayoutModel",
      "state": {
       "_model_module_version": "~2.1.4",
       "_view_module_version": "~2.1.4"
      }
     },
     "26c7b01fe9ea43c8be664c5f295e367f": {
      "model_module": "jupyter-js-widgets",
      "model_module_version": "~2.1.4",
      "model_name": "LayoutModel",
      "state": {
       "_model_module_version": "~2.1.4",
       "_view_module_version": "~2.1.4"
      }
     },
     "26c9603d8e6c4c7aa885b1bc015f6c83": {
      "model_module": "jupyter-js-widgets",
      "model_module_version": "~2.1.4",
      "model_name": "LayoutModel",
      "state": {
       "_model_module_version": "~2.1.4",
       "_view_module_version": "~2.1.4"
      }
     },
     "26ecb780d2f0477eabb40525e1c2bf8d": {
      "model_module": "jupyter-js-widgets",
      "model_module_version": "~2.1.4",
      "model_name": "ButtonModel",
      "state": {
       "_model_module_version": "~2.1.4",
       "_view_module_version": "~2.1.4",
       "description": "Previous",
       "icon": "check",
       "layout": "IPY_MODEL_86243190c3c3465d92e783b3f2c87557",
       "style": "IPY_MODEL_fc442b50ace74eecb07da67b9a994183",
       "tooltip": "Click me"
      }
     },
     "2702e5b57f084374b5e93d4727613e42": {
      "model_module": "jupyter-js-widgets",
      "model_module_version": "~2.1.4",
      "model_name": "ButtonModel",
      "state": {
       "_model_module_version": "~2.1.4",
       "_view_module_version": "~2.1.4",
       "description": "Next",
       "icon": "check",
       "layout": "IPY_MODEL_4b89e3098e6a42b095623db249bd2cc2",
       "style": "IPY_MODEL_288ca2bf898b4a34b7ac7cf2fe3aa747",
       "tooltip": "Click me"
      }
     },
     "270e53e0719e40ae9244e9b20a5558bd": {
      "model_module": "jupyter-js-widgets",
      "model_module_version": "~2.1.4",
      "model_name": "ButtonModel",
      "state": {
       "_model_module_version": "~2.1.4",
       "_view_module_version": "~2.1.4",
       "description": "Previous",
       "layout": "IPY_MODEL_10c06c9057504287b06c8c4af73fc8be",
       "style": "IPY_MODEL_a4db51a70d2f466dbc17b107cf1be283"
      }
     },
     "2736144f19b14090bf0489a65f00e5f7": {
      "model_module": "jupyter-js-widgets",
      "model_module_version": "~2.1.4",
      "model_name": "ButtonModel",
      "state": {
       "_model_module_version": "~2.1.4",
       "_view_module_version": "~2.1.4",
       "description": "Next",
       "layout": "IPY_MODEL_09f236c110a14227aab978d201cb1f94",
       "style": "IPY_MODEL_016879c498f84eeb81656039f9e70630"
      }
     },
     "2741a3a332a344f5b1d345052dbe2455": {
      "model_module": "jupyter-js-widgets",
      "model_module_version": "~2.1.4",
      "model_name": "ButtonStyleModel",
      "state": {
       "_model_module_version": "~2.1.4",
       "_view_module_version": "~2.1.4"
      }
     },
     "274a1bf1e7474a85bf12019261552c7e": {
      "model_module": "jupyter-js-widgets",
      "model_module_version": "~2.1.4",
      "model_name": "LayoutModel",
      "state": {
       "_model_module_version": "~2.1.4",
       "_view_module_version": "~2.1.4"
      }
     },
     "275dd989b4db41b7bca9ca8ca0393b9e": {
      "model_module": "jupyter-js-widgets",
      "model_module_version": "~2.1.4",
      "model_name": "ButtonModel",
      "state": {
       "_model_module_version": "~2.1.4",
       "_view_module_version": "~2.1.4",
       "description": "Next",
       "layout": "IPY_MODEL_703b0d95f83f4106a3f835aacb1afa6f",
       "style": "IPY_MODEL_dd460d6c7c5b49edb405691d223680fb"
      }
     },
     "276d76ac440e4796a11627b5e0c30920": {
      "model_module": "jupyter-js-widgets",
      "model_module_version": "~2.1.4",
      "model_name": "ButtonModel",
      "state": {
       "_model_module_version": "~2.1.4",
       "_view_module_version": "~2.1.4",
       "description": "Next",
       "icon": "check",
       "layout": "IPY_MODEL_6851814e05dc4e13ba432da0f58219f7",
       "style": "IPY_MODEL_9175ba3fc5574f0b9d92e5d5f799fbab",
       "tooltip": "Click me"
      }
     },
     "27e758ce9cb84f2084f1dd6d7d027a6e": {
      "model_module": "jupyter-js-widgets",
      "model_module_version": "~2.1.4",
      "model_name": "LayoutModel",
      "state": {
       "_model_module_version": "~2.1.4",
       "_view_module_version": "~2.1.4"
      }
     },
     "2843255a9e7445bfa4072b0296828010": {
      "model_module": "jupyter-js-widgets",
      "model_module_version": "~2.1.4",
      "model_name": "ButtonModel",
      "state": {
       "_model_module_version": "~2.1.4",
       "_view_module_version": "~2.1.4",
       "description": "Next",
       "icon": "check",
       "layout": "IPY_MODEL_d2ce4fd7d5254a0db20cbcf1b9b1f761",
       "style": "IPY_MODEL_196998f0747441c2911a2d0385b1ae45",
       "tooltip": "Click me"
      }
     },
     "2888416d0f6c4a2a99e68b1bacc4d966": {
      "model_module": "jupyter-js-widgets",
      "model_module_version": "~2.1.4",
      "model_name": "ButtonModel",
      "state": {
       "_model_module_version": "~2.1.4",
       "_view_module_version": "~2.1.4",
       "description": "Next",
       "icon": "check",
       "layout": "IPY_MODEL_312a813304024002a4bd06157402b5e5",
       "style": "IPY_MODEL_400d03cde4ce4e939c837803ec746389",
       "tooltip": "Click me"
      }
     },
     "288ca2bf898b4a34b7ac7cf2fe3aa747": {
      "model_module": "jupyter-js-widgets",
      "model_module_version": "~2.1.4",
      "model_name": "ButtonStyleModel",
      "state": {
       "_model_module_version": "~2.1.4",
       "_view_module_version": "~2.1.4"
      }
     },
     "28e8b205fe444a31a66c5697560ec49a": {
      "model_module": "jupyter-js-widgets",
      "model_module_version": "~2.1.4",
      "model_name": "ButtonStyleModel",
      "state": {
       "_model_module_version": "~2.1.4",
       "_view_module_version": "~2.1.4"
      }
     },
     "292fbaa611fa4eb18b4e07a15d3f392f": {
      "model_module": "jupyter-js-widgets",
      "model_module_version": "~2.1.4",
      "model_name": "ButtonModel",
      "state": {
       "_model_module_version": "~2.1.4",
       "_view_module_version": "~2.1.4",
       "description": "Click me",
       "icon": "check",
       "layout": "IPY_MODEL_c62ec5fb030f4b35974a00b562db21b3",
       "style": "IPY_MODEL_fa9a0e7e4957433e98cf3bea5eea5618",
       "tooltip": "Click me"
      }
     },
     "2933561f0f0c40978bffb209afe21793": {
      "model_module": "jupyter-js-widgets",
      "model_module_version": "~2.1.4",
      "model_name": "HTMLModel",
      "state": {
       "_model_module_version": "~2.1.4",
       "_view_module_version": "~2.1.4",
       "layout": "IPY_MODEL_9f617f97dd36467e89bc437f3d92748d",
       "value": "\n<svg>\n   <defs>\n    <clipPath id=\"mask\">\n      <rect x=20 y=20 width=\"50%\" height=100>\n    </clipPath>\n  </defs>\n</svg>\n<style>\n.bp {\n    width: 100%;\n    -webkit-clip-path: circle(50px);\n    clip-path: url(#mask);\n}\n</style>\n<img src=\"bp_solution.png\" class=bp>\n"
      }
     },
     "293ab9f4c6774f1ebd95767cfaca697a": {
      "model_module": "jupyter-js-widgets",
      "model_module_version": "~2.1.4",
      "model_name": "ButtonModel",
      "state": {
       "_model_module_version": "~2.1.4",
       "_view_module_version": "~2.1.4",
       "description": "Next",
       "icon": "check",
       "layout": "IPY_MODEL_4be5c6aa93524f2a8e9e9cccdc1e3631",
       "style": "IPY_MODEL_90f5ddef08e74afcb1b009eca93b6d35",
       "tooltip": "Click me"
      }
     },
     "295db9a97a5b45c0ac1a23e9b0ec39fd": {
      "model_module": "jupyter-js-widgets",
      "model_module_version": "~2.1.4",
      "model_name": "ButtonStyleModel",
      "state": {
       "_model_module_version": "~2.1.4",
       "_view_module_version": "~2.1.4"
      }
     },
     "2979e212590a475aaf95fb0e700d02e6": {
      "model_module": "jupyter-js-widgets",
      "model_module_version": "~2.1.4",
      "model_name": "LayoutModel",
      "state": {
       "_model_module_version": "~2.1.4",
       "_view_module_version": "~2.1.4"
      }
     },
     "297ceeec6021411ebce192c13b310c4c": {
      "model_module": "jupyter-js-widgets",
      "model_module_version": "~2.1.4",
      "model_name": "HTMLModel",
      "state": {
       "_model_module_version": "~2.1.4",
       "_view_module_version": "~2.1.4",
       "layout": "IPY_MODEL_7222d85609464229b1dd98c549df5be9",
       "value": "\n<svg width=\"100%\" height=0><defs><clipPath id=\"mask\">\n<rect x=0 y=0 width='100%' height='50' /><rect x=0 y=0 width='28%' height='500' /><rect x=0 y=0 width='72%' height='310' /><rect x='62%' y=0 width='100%' height='240' /><rect x='70%' y=0 width='100%' height='330' />\n</clipPath></defs></svg>\n<style>\nimg {\n    text-align: center\n}\n.bp {\n    width: 100%;\n    -webkit-clip-path: circle(#mask);\n    clip-path: url(#mask);\n}\n</style>\n<img src=\"bp_solution.png\" class=bp />\n"
      }
     },
     "29d3c57c2d784830b2066b856e995b25": {
      "model_module": "jupyter-js-widgets",
      "model_module_version": "~2.1.4",
      "model_name": "LayoutModel",
      "state": {
       "_model_module_version": "~2.1.4",
       "_view_module_version": "~2.1.4"
      }
     },
     "29f3b434e1cf4a2b9da4e9502b077176": {
      "model_module": "jupyter-js-widgets",
      "model_module_version": "~2.1.4",
      "model_name": "ButtonStyleModel",
      "state": {
       "_model_module_version": "~2.1.4",
       "_view_module_version": "~2.1.4"
      }
     },
     "2a0b04bf22544a88946d74c19a6b7f4d": {
      "model_module": "jupyter-js-widgets",
      "model_module_version": "~2.1.4",
      "model_name": "ButtonModel",
      "state": {
       "_model_module_version": "~2.1.4",
       "_view_module_version": "~2.1.4",
       "description": "Previous",
       "icon": "check",
       "layout": "IPY_MODEL_ae53692c6af240efada97cf69b2dc19d",
       "style": "IPY_MODEL_3a60382200c94f92b776c90926a5079f",
       "tooltip": "Click me"
      }
     },
     "2a75c141382a46ff806e55b992dd5713": {
      "model_module": "jupyter-js-widgets",
      "model_module_version": "~2.1.4",
      "model_name": "LayoutModel",
      "state": {
       "_model_module_version": "~2.1.4",
       "_view_module_version": "~2.1.4"
      }
     },
     "2aa69cee91e4456b991b8d0eb1e59a18": {
      "model_module": "jupyter-js-widgets",
      "model_module_version": "~2.1.4",
      "model_name": "LayoutModel",
      "state": {
       "_model_module_version": "~2.1.4",
       "_view_module_version": "~2.1.4"
      }
     },
     "2ab021e1a53e4352b1cdb86e1a1e275c": {
      "model_module": "jupyter-js-widgets",
      "model_module_version": "~2.1.4",
      "model_name": "ButtonStyleModel",
      "state": {
       "_model_module_version": "~2.1.4",
       "_view_module_version": "~2.1.4"
      }
     },
     "2acba7e38ff04df3b7b078749005267f": {
      "model_module": "jupyter-js-widgets",
      "model_module_version": "~2.1.4",
      "model_name": "ButtonModel",
      "state": {
       "_model_module_version": "~2.1.4",
       "_view_module_version": "~2.1.4",
       "description": "Next",
       "layout": "IPY_MODEL_1a473f0e912e49a5845d56a40b0e11b6",
       "style": "IPY_MODEL_83fc776d1c99494da7c9a284c137fef8"
      }
     },
     "2ae7be4424a7469080a68b8182b555c7": {
      "model_module": "jupyter-js-widgets",
      "model_module_version": "~2.1.4",
      "model_name": "LayoutModel",
      "state": {
       "_model_module_version": "~2.1.4",
       "_view_module_version": "~2.1.4"
      }
     },
     "2b0625e0495e44d3811c394230e07a40": {
      "model_module": "jupyter-js-widgets",
      "model_module_version": "~2.1.4",
      "model_name": "HTMLModel",
      "state": {
       "_model_module_version": "~2.1.4",
       "_view_module_version": "~2.1.4",
       "layout": "IPY_MODEL_56546e38fa214643a4f7fce6dd785a14",
       "value": "<img src='bp_solution.png' width='100%' style='img{ clip_path: circle(100px)}'>"
      }
     },
     "2b0de9f97b5040e1ab8c93fdc75a8955": {
      "model_module": "jupyter-js-widgets",
      "model_module_version": "~2.1.4",
      "model_name": "LayoutModel",
      "state": {
       "_model_module_version": "~2.1.4",
       "_view_module_version": "~2.1.4"
      }
     },
     "2b200530a77b4b08a6b89cfbfbc69de2": {
      "model_module": "jupyter-js-widgets",
      "model_module_version": "~2.1.4",
      "model_name": "LayoutModel",
      "state": {
       "_model_module_version": "~2.1.4",
       "_view_module_version": "~2.1.4"
      }
     },
     "2b33ea4c9b5a4701b99942d91a287c38": {
      "model_module": "jupyter-js-widgets",
      "model_module_version": "~2.1.4",
      "model_name": "HTMLModel",
      "state": {
       "_model_module_version": "~2.1.4",
       "_view_module_version": "~2.1.4",
       "layout": "IPY_MODEL_655434a66b8149cb93724b4ac875cf81",
       "value": "\n<svg width=\"100%\" height=0><defs><clipPath id=\"mask\">\n<rect x=0 y=0 width='100%' height='50' /><rect x=0 y=0 width='28%' height='500' /><rect x=0 y=0 width='72%' height='310' /><rect x='62%' y=0 width='100%' height='240' /><rect x='70%' y=0 width='100%' height='330' />\n</clipPath></defs></svg>\n<style>\n.bp {\n    width: 100%;\n    -webkit-clip-path: circle(#mask);\n    clip-path: url(#mask);\n}\n</style>\n<img src=\"bp_solution.png\" class=bp />\n"
      }
     },
     "2b73acc4797e4d23a293caecc20193fe": {
      "model_module": "jupyter-js-widgets",
      "model_module_version": "~2.1.4",
      "model_name": "IntSliderModel",
      "state": {
       "_model_module_version": "~2.1.4",
       "_view_module_version": "~2.1.4",
       "layout": "IPY_MODEL_26c7b01fe9ea43c8be664c5f295e367f",
       "style": "IPY_MODEL_d7c9e6b2f98b4306aa8186ac8a8906bf"
      }
     },
     "2bab1eb610d44c919ab7677138b92f33": {
      "model_module": "jupyter-js-widgets",
      "model_module_version": "~2.1.4",
      "model_name": "LayoutModel",
      "state": {
       "_model_module_version": "~2.1.4",
       "_view_module_version": "~2.1.4"
      }
     },
     "2bde616461794072ae2e3861e801df19": {
      "model_module": "jupyter-js-widgets",
      "model_module_version": "~2.1.4",
      "model_name": "ButtonModel",
      "state": {
       "_model_module_version": "~2.1.4",
       "_view_module_version": "~2.1.4",
       "description": "Previous",
       "layout": "IPY_MODEL_63ee90d0a229487cb112cb6c7acc0a6b",
       "style": "IPY_MODEL_0baa188051844be786e54a6466d0f0af"
      }
     },
     "2be624c7057d4a5fb258d2ddddc63c0a": {
      "model_module": "jupyter-js-widgets",
      "model_module_version": "~2.1.4",
      "model_name": "ButtonStyleModel",
      "state": {
       "_model_module_version": "~2.1.4",
       "_view_module_version": "~2.1.4"
      }
     },
     "2c13233c73fd408988b7c7f60d31b97b": {
      "model_module": "jupyter-js-widgets",
      "model_module_version": "~2.1.4",
      "model_name": "ButtonStyleModel",
      "state": {
       "_model_module_version": "~2.1.4",
       "_view_module_version": "~2.1.4"
      }
     },
     "2c56c6b8a5d748589dc15a190665531f": {
      "model_module": "jupyter-js-widgets",
      "model_module_version": "~2.1.4",
      "model_name": "LayoutModel",
      "state": {
       "_model_module_version": "~2.1.4",
       "_view_module_version": "~2.1.4"
      }
     },
     "2c7a2f986a754cf581593046efa370b0": {
      "model_module": "jupyter-js-widgets",
      "model_module_version": "~2.1.4",
      "model_name": "LayoutModel",
      "state": {
       "_model_module_version": "~2.1.4",
       "_view_module_version": "~2.1.4"
      }
     },
     "2cb413b36c4c4b608270adb6e4083e25": {
      "model_module": "jupyter-js-widgets",
      "model_module_version": "~2.1.4",
      "model_name": "HTMLModel",
      "state": {
       "_model_module_version": "~2.1.4",
       "_view_module_version": "~2.1.4",
       "layout": "IPY_MODEL_e62649da4b0145a4966e3a609ddfade4"
      }
     },
     "2cd706de41ef48639310a31157204c3c": {
      "model_module": "jupyter-js-widgets",
      "model_module_version": "~2.1.4",
      "model_name": "ButtonStyleModel",
      "state": {
       "_model_module_version": "~2.1.4",
       "_view_module_version": "~2.1.4"
      }
     },
     "2d154e734edf4fcd81bb99a15d7fd561": {
      "model_module": "jupyter-js-widgets",
      "model_module_version": "~2.1.4",
      "model_name": "LayoutModel",
      "state": {
       "_model_module_version": "~2.1.4",
       "_view_module_version": "~2.1.4"
      }
     },
     "2d1a806664ad4769ba3b4e85041b9506": {
      "model_module": "jupyter-js-widgets",
      "model_module_version": "~2.1.4",
      "model_name": "HTMLModel",
      "state": {
       "_model_module_version": "~2.1.4",
       "_view_module_version": "~2.1.4",
       "layout": "IPY_MODEL_199d6f2923684ad18c6dab15cda5cb5a",
       "value": "\n<svg width=\"100%\" height=0><defs><clipPath id=\"mask\">\n<rect x=0 y=0 width='100%' height='50' /><rect x=0 y=0 width='28%' height='500' /><rect x=0 y=0 width='72%' height='310' /><rect x='62%' y=0 width='100%' height='240' /><rect x='70%' y=0 width='100%' height='330' />\n</clipPath></defs></svg>\n<style>\nimg {\n    text-align: center;\n}\n.bp {\n    width: 100%;\n    -webkit-clip-path: circle(#mask);\n    clip-path: url(#mask);\n}\n</style>\n<img src=\"bp_solution.png\" class=bp />\n"
      }
     },
     "2d3123143a9944aea6ecb633547d6582": {
      "model_module": "jupyter-js-widgets",
      "model_module_version": "~2.1.4",
      "model_name": "ButtonStyleModel",
      "state": {
       "_model_module_version": "~2.1.4",
       "_view_module_version": "~2.1.4"
      }
     },
     "2d3df6274b1e4411b74789292fcc9f3e": {
      "model_module": "jupyter-js-widgets",
      "model_module_version": "~2.1.4",
      "model_name": "LayoutModel",
      "state": {
       "_model_module_version": "~2.1.4",
       "_view_module_version": "~2.1.4"
      }
     },
     "2d46eee2cb7040589243f696ac849d53": {
      "model_module": "jupyter-js-widgets",
      "model_module_version": "~2.1.4",
      "model_name": "LayoutModel",
      "state": {
       "_model_module_version": "~2.1.4",
       "_view_module_version": "~2.1.4"
      }
     },
     "2d4c1311de2040d1befa8afa7ccf6952": {
      "model_module": "jupyter-js-widgets",
      "model_module_version": "~2.1.4",
      "model_name": "ButtonStyleModel",
      "state": {
       "_model_module_version": "~2.1.4",
       "_view_module_version": "~2.1.4"
      }
     },
     "2d72dc160a3d4180b60ce1b0ac605eda": {
      "model_module": "jupyter-js-widgets",
      "model_module_version": "~2.1.4",
      "model_name": "ButtonStyleModel",
      "state": {
       "_model_module_version": "~2.1.4",
       "_view_module_version": "~2.1.4"
      }
     },
     "2d88d3d3550a4f0192a8919c816bc726": {
      "model_module": "jupyter-js-widgets",
      "model_module_version": "~2.1.4",
      "model_name": "HTMLModel",
      "state": {
       "_model_module_version": "~2.1.4",
       "_view_module_version": "~2.1.4",
       "layout": "IPY_MODEL_0580febf5ddb40a398a4cfe3781ede28",
       "value": "<img src='bp_solution.png' width='100%' style='clip_path: circle(10px)'>"
      }
     },
     "2d9061809f484856b6546f602a220971": {
      "model_module": "jupyter-js-widgets",
      "model_module_version": "~2.1.4",
      "model_name": "LayoutModel",
      "state": {
       "_model_module_version": "~2.1.4",
       "_view_module_version": "~2.1.4"
      }
     },
     "2daf054af3154cb6928634ed5c308bd7": {
      "model_module": "jupyter-js-widgets",
      "model_module_version": "~2.1.4",
      "model_name": "ButtonModel",
      "state": {
       "_model_module_version": "~2.1.4",
       "_view_module_version": "~2.1.4",
       "description": "Previous",
       "layout": "IPY_MODEL_7745aa30e2324d88b6a7e24898d141b8",
       "style": "IPY_MODEL_6038e052ebac4622a464abf88c34a9cc"
      }
     },
     "2db728ea279f4ff68b6e670981a7c8ab": {
      "model_module": "jupyter-js-widgets",
      "model_module_version": "~2.1.4",
      "model_name": "ButtonStyleModel",
      "state": {
       "_model_module_version": "~2.1.4",
       "_view_module_version": "~2.1.4"
      }
     },
     "2dd8d56d54b741d5bd7e3b38b83a498e": {
      "model_module": "jupyter-js-widgets",
      "model_module_version": "~2.1.4",
      "model_name": "LayoutModel",
      "state": {
       "_model_module_version": "~2.1.4",
       "_view_module_version": "~2.1.4"
      }
     },
     "2df4ad3fe85d492eb18ca8b16fd6a4f3": {
      "model_module": "jupyter-js-widgets",
      "model_module_version": "~2.1.4",
      "model_name": "LayoutModel",
      "state": {
       "_model_module_version": "~2.1.4",
       "_view_module_version": "~2.1.4"
      }
     },
     "2e33c9d89d1449d09176c5cdc440dd7c": {
      "model_module": "jupyter-js-widgets",
      "model_module_version": "~2.1.4",
      "model_name": "ButtonModel",
      "state": {
       "_model_module_version": "~2.1.4",
       "_view_module_version": "~2.1.4",
       "description": "Next",
       "layout": "IPY_MODEL_f9be3a87bb164cde83900782efcfd278",
       "style": "IPY_MODEL_d1635b23c4ae46aa9c38f398e84a8dae"
      }
     },
     "2ebfda9887944557a822a984f32a3975": {
      "model_module": "jupyter-js-widgets",
      "model_module_version": "~2.1.4",
      "model_name": "LayoutModel",
      "state": {
       "_model_module_version": "~2.1.4",
       "_view_module_version": "~2.1.4"
      }
     },
     "2ee0a5d012934c6586a60560be872572": {
      "model_module": "jupyter-js-widgets",
      "model_module_version": "~2.1.4",
      "model_name": "LayoutModel",
      "state": {
       "_model_module_version": "~2.1.4",
       "_view_module_version": "~2.1.4"
      }
     },
     "2f0f7e13c35c43b2bb892e962117c322": {
      "model_module": "jupyter-js-widgets",
      "model_module_version": "~2.1.4",
      "model_name": "ButtonModel",
      "state": {
       "_model_module_version": "~2.1.4",
       "_view_module_version": "~2.1.4",
       "description": "Next",
       "layout": "IPY_MODEL_ba3fde6f2a564fdb841138e588cf0dd8",
       "style": "IPY_MODEL_a7086897d23947129bc44214eaf5f97b"
      }
     },
     "2f2b1747028b42bbb257bf540c7fc384": {
      "model_module": "jupyter-js-widgets",
      "model_module_version": "~2.1.4",
      "model_name": "LayoutModel",
      "state": {
       "_model_module_version": "~2.1.4",
       "_view_module_version": "~2.1.4"
      }
     },
     "2f50f28532ee4ebba9855c941d759f6b": {
      "model_module": "jupyter-js-widgets",
      "model_module_version": "~2.1.4",
      "model_name": "LayoutModel",
      "state": {
       "_model_module_version": "~2.1.4",
       "_view_module_version": "~2.1.4"
      }
     },
     "2f861a77416e4bcc9c2fe535bcbdbc5e": {
      "model_module": "jupyter-js-widgets",
      "model_module_version": "~2.1.4",
      "model_name": "LayoutModel",
      "state": {
       "_model_module_version": "~2.1.4",
       "_view_module_version": "~2.1.4"
      }
     },
     "2f8893138f75429b9074661826a05459": {
      "model_module": "jupyter-js-widgets",
      "model_module_version": "~2.1.4",
      "model_name": "LayoutModel",
      "state": {
       "_model_module_version": "~2.1.4",
       "_view_module_version": "~2.1.4"
      }
     },
     "2fa0ef28d2ee455baca229c504f229fe": {
      "model_module": "jupyter-js-widgets",
      "model_module_version": "~2.1.4",
      "model_name": "ButtonStyleModel",
      "state": {
       "_model_module_version": "~2.1.4",
       "_view_module_version": "~2.1.4"
      }
     },
     "2fa6df731280443b9aaaa8f3b30d0419": {
      "model_module": "jupyter-js-widgets",
      "model_module_version": "~2.1.4",
      "model_name": "ButtonModel",
      "state": {
       "_model_module_version": "~2.1.4",
       "_view_module_version": "~2.1.4",
       "description": "Next",
       "icon": "check",
       "layout": "IPY_MODEL_8a69a9e2a99a41e9a08ede000b4ac85a",
       "style": "IPY_MODEL_803ea2a10ddd454c9fde6af9efc860b2",
       "tooltip": "Click me"
      }
     },
     "2fc15ffa92124f0796715297fc8c687f": {
      "model_module": "jupyter-js-widgets",
      "model_module_version": "~2.1.4",
      "model_name": "LayoutModel",
      "state": {
       "_model_module_version": "~2.1.4",
       "_view_module_version": "~2.1.4"
      }
     },
     "2fcfd33b882749b5bc0be370cdb44dd5": {
      "model_module": "jupyter-js-widgets",
      "model_module_version": "~2.1.4",
      "model_name": "ButtonModel",
      "state": {
       "_model_module_version": "~2.1.4",
       "_view_module_version": "~2.1.4",
       "description": "Next",
       "layout": "IPY_MODEL_e0d9bcc13f464e49b63dd676f5284eb7",
       "style": "IPY_MODEL_18a07459af894437a87b229ab05de97d"
      }
     },
     "2fd4ef18dfa94716ab1ad52684031983": {
      "model_module": "jupyter-js-widgets",
      "model_module_version": "~2.1.4",
      "model_name": "ButtonModel",
      "state": {
       "_model_module_version": "~2.1.4",
       "_view_module_version": "~2.1.4",
       "description": "Previous",
       "icon": "check",
       "layout": "IPY_MODEL_d50fdba971f74bd28a7fbe6c5a0721c2",
       "style": "IPY_MODEL_3a7941d1eb964d3fbeea5aea48034bb3",
       "tooltip": "Click me"
      }
     },
     "2fd6521b5cdd4f6e88eef944bbedd1ba": {
      "model_module": "jupyter-js-widgets",
      "model_module_version": "~2.1.4",
      "model_name": "ButtonStyleModel",
      "state": {
       "_model_module_version": "~2.1.4",
       "_view_module_version": "~2.1.4"
      }
     },
     "3053d0fd7b004b0597e59ceeb186e989": {
      "model_module": "jupyter-js-widgets",
      "model_module_version": "~2.1.4",
      "model_name": "BoxModel",
      "state": {
       "_model_module_version": "~2.1.4",
       "_view_module_version": "~2.1.4",
       "children": [
        "IPY_MODEL_be12d00c783f4f03b0e0142111deb1fd",
        "IPY_MODEL_c48c9805ca3b48e19445d4be2a79503b"
       ],
       "layout": "IPY_MODEL_f2c8930793754ac4b783ee00d3541f01"
      }
     },
     "30598879acff4d49941a128ea530549d": {
      "model_module": "jupyter-js-widgets",
      "model_module_version": "~2.1.4",
      "model_name": "LayoutModel",
      "state": {
       "_model_module_version": "~2.1.4",
       "_view_module_version": "~2.1.4"
      }
     },
     "3080935d53824ee883a0867e7e55df76": {
      "model_module": "jupyter-js-widgets",
      "model_module_version": "~2.1.4",
      "model_name": "HTMLModel",
      "state": {
       "_model_module_version": "~2.1.4",
       "_view_module_version": "~2.1.4",
       "layout": "IPY_MODEL_00a8fcb8c8a44816b3c99c5104597ae2",
       "value": "\n<svg width=\"100%\" height=0><defs><clipPath id=\"mask\">\n\n</clipPath></defs></svg>\n<style>\n.bp {\n    width: 100%;\n    -webkit-clip-path: circle(#mask);\n    clip-path: url(#mask);\n}\n</style>\n<img src=\"bp_solution.png\" class=bp>\n"
      }
     },
     "30bf61745a064626b07df09c5e633a03": {
      "model_module": "jupyter-js-widgets",
      "model_module_version": "~2.1.4",
      "model_name": "ButtonStyleModel",
      "state": {
       "_model_module_version": "~2.1.4",
       "_view_module_version": "~2.1.4"
      }
     },
     "30c924cf81de4576abe78daf13285891": {
      "model_module": "jupyter-js-widgets",
      "model_module_version": "~2.1.4",
      "model_name": "LayoutModel",
      "state": {
       "_model_module_version": "~2.1.4",
       "_view_module_version": "~2.1.4"
      }
     },
     "30dc776a887947a4b4c8b97364c61362": {
      "model_module": "jupyter-js-widgets",
      "model_module_version": "~2.1.4",
      "model_name": "LayoutModel",
      "state": {
       "_model_module_version": "~2.1.4",
       "_view_module_version": "~2.1.4"
      }
     },
     "3111fb2c586847aaad44a632411e2ebb": {
      "model_module": "jupyter-js-widgets",
      "model_module_version": "~2.1.4",
      "model_name": "ButtonStyleModel",
      "state": {
       "_model_module_version": "~2.1.4",
       "_view_module_version": "~2.1.4"
      }
     },
     "312a813304024002a4bd06157402b5e5": {
      "model_module": "jupyter-js-widgets",
      "model_module_version": "~2.1.4",
      "model_name": "LayoutModel",
      "state": {
       "_model_module_version": "~2.1.4",
       "_view_module_version": "~2.1.4"
      }
     },
     "316be814037c4112ac9fce7f6b51818c": {
      "model_module": "jupyter-js-widgets",
      "model_module_version": "~2.1.4",
      "model_name": "ButtonStyleModel",
      "state": {
       "_model_module_version": "~2.1.4",
       "_view_module_version": "~2.1.4"
      }
     },
     "3183363dd88c4f48bc79cec25515c450": {
      "model_module": "jupyter-js-widgets",
      "model_module_version": "~2.1.4",
      "model_name": "LayoutModel",
      "state": {
       "_model_module_version": "~2.1.4",
       "_view_module_version": "~2.1.4",
       "align_items": "stretch",
       "display": "flex",
       "flex_flow": "row",
       "justify_content": "center",
       "width": "100%"
      }
     },
     "318b2318d3fa4cefb0881b1668f136e2": {
      "model_module": "jupyter-js-widgets",
      "model_module_version": "~2.1.4",
      "model_name": "LayoutModel",
      "state": {
       "_model_module_version": "~2.1.4",
       "_view_module_version": "~2.1.4"
      }
     },
     "31be6d6256954698b0770c65f1537489": {
      "model_module": "jupyter-js-widgets",
      "model_module_version": "~2.1.4",
      "model_name": "ButtonModel",
      "state": {
       "_model_module_version": "~2.1.4",
       "_view_module_version": "~2.1.4",
       "description": "Previous",
       "icon": "check",
       "layout": "IPY_MODEL_6846fa2709ec4273b8444d877750f3e6",
       "style": "IPY_MODEL_68a52bb037d942a5a015e2ec9a78f1c4",
       "tooltip": "Click me"
      }
     },
     "31c7fbd226444331942630dd1c6afcba": {
      "model_module": "jupyter-js-widgets",
      "model_module_version": "~2.1.4",
      "model_name": "ButtonModel",
      "state": {
       "_model_module_version": "~2.1.4",
       "_view_module_version": "~2.1.4",
       "description": "Next",
       "layout": "IPY_MODEL_18f443a57c024cc3af226d2c00f363c7",
       "style": "IPY_MODEL_3fb8e892afa9420d9c4cd6803f081c4d"
      }
     },
     "31cef9c676d84d4497bc630333434d13": {
      "model_module": "jupyter-js-widgets",
      "model_module_version": "~2.1.4",
      "model_name": "LayoutModel",
      "state": {
       "_model_module_version": "~2.1.4",
       "_view_module_version": "~2.1.4"
      }
     },
     "31df595f5ddd4f81aec4277d4b86c28a": {
      "model_module": "jupyter-js-widgets",
      "model_module_version": "~2.1.4",
      "model_name": "LayoutModel",
      "state": {
       "_model_module_version": "~2.1.4",
       "_view_module_version": "~2.1.4"
      }
     },
     "31fbe72e30e24353abea7dfc18aace22": {
      "model_module": "jupyter-js-widgets",
      "model_module_version": "~2.1.4",
      "model_name": "ButtonStyleModel",
      "state": {
       "_model_module_version": "~2.1.4",
       "_view_module_version": "~2.1.4"
      }
     },
     "324f8dc375f849158921921695e220a2": {
      "model_module": "jupyter-js-widgets",
      "model_module_version": "~2.1.4",
      "model_name": "LayoutModel",
      "state": {
       "_model_module_version": "~2.1.4",
       "_view_module_version": "~2.1.4"
      }
     },
     "326a9ad460744058ae873e74f1ff7047": {
      "model_module": "jupyter-js-widgets",
      "model_module_version": "~2.1.4",
      "model_name": "ButtonModel",
      "state": {
       "_model_module_version": "~2.1.4",
       "_view_module_version": "~2.1.4",
       "description": "Previous",
       "layout": "IPY_MODEL_d0994de1e732420987f8bbb695b4a2e6",
       "style": "IPY_MODEL_bf408cbc4f774740b3cd62f3b33667b8"
      }
     },
     "332bc5374b09444d8c5dc7059bd36e20": {
      "model_module": "jupyter-js-widgets",
      "model_module_version": "~2.1.4",
      "model_name": "ButtonModel",
      "state": {
       "_model_module_version": "~2.1.4",
       "_view_module_version": "~2.1.4",
       "description": "Next",
       "layout": "IPY_MODEL_8a9149725b554286a7b5b65125eb3b7a",
       "style": "IPY_MODEL_7257916bbb7e44f091d09b1b0f716209"
      }
     },
     "334adddd41e64a4e98db4626cdc9a662": {
      "model_module": "jupyter-js-widgets",
      "model_module_version": "~2.1.4",
      "model_name": "HTMLModel",
      "state": {
       "_model_module_version": "~2.1.4",
       "_view_module_version": "~2.1.4",
       "layout": "IPY_MODEL_bef4ba49c806490cb5811d16631a2fd5",
       "value": "\n<svg width=100% height=100%>\n   <defs>\n    <clipPath id=\"mask\">\n      <rect x=0 y=0 width=\"100%\" height=\"400\">\n    </clipPath>\n  </defs>\n</svg>\n<style>\n\n.bp {\n    width: 100%;\n    -webkit-clip-path: circle(#mask);\n    clip-path: url(#mask);\n}\n</style>\n<img src=\"bp_solution.png\" class=bp>\n"
      }
     },
     "338de8b7c22041cea39f781eb91c697f": {
      "model_module": "jupyter-js-widgets",
      "model_module_version": "~2.1.4",
      "model_name": "ButtonStyleModel",
      "state": {
       "_model_module_version": "~2.1.4",
       "_view_module_version": "~2.1.4"
      }
     },
     "33bd29eb96944eb2a05e6fb931abf9c8": {
      "model_module": "jupyter-js-widgets",
      "model_module_version": "~2.1.4",
      "model_name": "LayoutModel",
      "state": {
       "_model_module_version": "~2.1.4",
       "_view_module_version": "~2.1.4"
      }
     },
     "33c4ac02720f433483951de0f158b607": {
      "model_module": "jupyter-js-widgets",
      "model_module_version": "~2.1.4",
      "model_name": "LayoutModel",
      "state": {
       "_model_module_version": "~2.1.4",
       "_view_module_version": "~2.1.4"
      }
     },
     "33ea228ed93b49bb9ecebd841a9a483c": {
      "model_module": "jupyter-js-widgets",
      "model_module_version": "~2.1.4",
      "model_name": "LayoutModel",
      "state": {
       "_model_module_version": "~2.1.4",
       "_view_module_version": "~2.1.4"
      }
     },
     "33f275def8ed485f9f5e931e079c9c26": {
      "model_module": "jupyter-js-widgets",
      "model_module_version": "~2.1.4",
      "model_name": "ButtonStyleModel",
      "state": {
       "_model_module_version": "~2.1.4",
       "_view_module_version": "~2.1.4"
      }
     },
     "348f66fe1f664605a339fae11467d0ab": {
      "model_module": "jupyter-js-widgets",
      "model_module_version": "~2.1.4",
      "model_name": "ButtonStyleModel",
      "state": {
       "_model_module_version": "~2.1.4",
       "_view_module_version": "~2.1.4"
      }
     },
     "3499b638aca74a3ba804f68b8a3de3e3": {
      "model_module": "jupyter-js-widgets",
      "model_module_version": "~2.1.4",
      "model_name": "ButtonModel",
      "state": {
       "_model_module_version": "~2.1.4",
       "_view_module_version": "~2.1.4",
       "description": "Next",
       "icon": "check",
       "layout": "IPY_MODEL_f41718be8c724effb1e154a51870923d",
       "style": "IPY_MODEL_b487553db2e940e58404afc69b42cedd",
       "tooltip": "Click me"
      }
     },
     "34e0b2ceea8f48dface142ebad126be8": {
      "model_module": "jupyter-js-widgets",
      "model_module_version": "~2.1.4",
      "model_name": "LayoutModel",
      "state": {
       "_model_module_version": "~2.1.4",
       "_view_module_version": "~2.1.4"
      }
     },
     "34ffcab5018044769f002b9582eb7585": {
      "model_module": "jupyter-js-widgets",
      "model_module_version": "~2.1.4",
      "model_name": "HTMLModel",
      "state": {
       "_model_module_version": "~2.1.4",
       "_view_module_version": "~2.1.4",
       "layout": "IPY_MODEL_9d18bca9b3f741b996613e1711ca08af",
       "value": "\n<svg width=\"100%\" height=0><defs><clipPath id=\"mask\">\n<rect x=0 y=0 width='100%' height='50' /><rect x=0 y=0 width='28%' height='500' /><rect x=0 y=0 width='72%' height='310' /><rect x='62%' y=0 width='100%' height='240' /><rect x='70%' y=0 width='100%' height='330' />\n</clipPath></defs></svg>\n<style>\n.bp {\n    width: 100%;\n    -webkit-clip-path: circle(#mask);\n    clip-path: url(#mask);\n}\n</style>\n<img src=\"bp_solution.png\" class=bp>\n"
      }
     },
     "3585dec00717404d8a8187369e7f06af": {
      "model_module": "jupyter-js-widgets",
      "model_module_version": "~2.1.4",
      "model_name": "ButtonStyleModel",
      "state": {
       "_model_module_version": "~2.1.4",
       "_view_module_version": "~2.1.4"
      }
     },
     "35b24d61ae86467d9f5208557c5891cb": {
      "model_module": "jupyter-js-widgets",
      "model_module_version": "~2.1.4",
      "model_name": "LayoutModel",
      "state": {
       "_model_module_version": "~2.1.4",
       "_view_module_version": "~2.1.4"
      }
     },
     "364562ed0a0a4399aa3940469b4bfb6b": {
      "model_module": "jupyter-js-widgets",
      "model_module_version": "~2.1.4",
      "model_name": "ButtonStyleModel",
      "state": {
       "_model_module_version": "~2.1.4",
       "_view_module_version": "~2.1.4"
      }
     },
     "3660636b5c494ef4b961767a205bd602": {
      "model_module": "jupyter-js-widgets",
      "model_module_version": "~2.1.4",
      "model_name": "HTMLModel",
      "state": {
       "_model_module_version": "~2.1.4",
       "_view_module_version": "~2.1.4",
       "layout": "IPY_MODEL_4bddff18cc7b4f94993c96f71e640208",
       "value": "\n<svg width=\"100%\" height=0><defs><clipPath id=\"mask\">\n<rect x=0 y=310 width='28%' height='350'><rect x=0 y=0 width='28%' height='350'>\n</clipPath></defs></svg>\n<style>\n.bp {\n    width: 100%;\n    -webkit-clip-path: circle(#mask);\n    clip-path: url(#mask);\n}\n</style>\n<img src=\"bp_solution.png\" class=bp>\n"
      }
     },
     "366bcc30db024d07bed6d52ee993f466": {
      "model_module": "jupyter-js-widgets",
      "model_module_version": "~2.1.4",
      "model_name": "LayoutModel",
      "state": {
       "_model_module_version": "~2.1.4",
       "_view_module_version": "~2.1.4"
      }
     },
     "3695d8d40695496cadf276c33acc48a0": {
      "model_module": "jupyter-js-widgets",
      "model_module_version": "~2.1.4",
      "model_name": "ButtonModel",
      "state": {
       "_model_module_version": "~2.1.4",
       "_view_module_version": "~2.1.4",
       "description": "Next",
       "icon": "check",
       "layout": "IPY_MODEL_0f17a360350847a19a8ab1dd2ec6cf78",
       "style": "IPY_MODEL_aa5e02bf85134470b5f217f1ea52e7af",
       "tooltip": "Click me"
      }
     },
     "36a084f335e34f9cb851cec72eeea807": {
      "model_module": "jupyter-js-widgets",
      "model_module_version": "~2.1.4",
      "model_name": "ButtonStyleModel",
      "state": {
       "_model_module_version": "~2.1.4",
       "_view_module_version": "~2.1.4"
      }
     },
     "36ae829ca0f54d99936f7c0c6088145c": {
      "model_module": "jupyter-js-widgets",
      "model_module_version": "~2.1.4",
      "model_name": "HTMLModel",
      "state": {
       "_model_module_version": "~2.1.4",
       "_view_module_version": "~2.1.4",
       "layout": "IPY_MODEL_5b5c20e5eb224a60a7d51ba49e592161",
       "value": "\n<svg width=\"100%\" height=0><defs><clipPath id=\"mask\">\n<rect x=0 y=0 width='28%' height='500'>\n</clipPath></defs></svg>\n<style>\n.bp {\n    width: 100%;\n    -webkit-clip-path: circle(#mask);\n    clip-path: url(#mask);\n}\n</style>\n<img src=\"bp_solution.png\" class=bp>\n"
      }
     },
     "36c79759d61c4bb08af571b4198fd553": {
      "model_module": "jupyter-js-widgets",
      "model_module_version": "~2.1.4",
      "model_name": "ButtonStyleModel",
      "state": {
       "_model_module_version": "~2.1.4",
       "_view_module_version": "~2.1.4"
      }
     },
     "36d277d64466403ab0da5ae9d146c664": {
      "model_module": "jupyter-js-widgets",
      "model_module_version": "~2.1.4",
      "model_name": "SliderStyleModel",
      "state": {
       "_model_module_version": "~2.1.4",
       "_view_module_version": "~2.1.4"
      }
     },
     "36d51d4c3c254b4d8c1cf3fd09e1edf9": {
      "model_module": "jupyter-js-widgets",
      "model_module_version": "~2.1.4",
      "model_name": "LayoutModel",
      "state": {
       "_model_module_version": "~2.1.4",
       "_view_module_version": "~2.1.4"
      }
     },
     "36d84fa514e7411bad1aad2926b9b1aa": {
      "model_module": "jupyter-js-widgets",
      "model_module_version": "~2.1.4",
      "model_name": "LayoutModel",
      "state": {
       "_model_module_version": "~2.1.4",
       "_view_module_version": "~2.1.4"
      }
     },
     "373340b5c1b84e67be1198da76aec354": {
      "model_module": "jupyter-js-widgets",
      "model_module_version": "~2.1.4",
      "model_name": "ButtonModel",
      "state": {
       "_model_module_version": "~2.1.4",
       "_view_module_version": "~2.1.4",
       "description": "Click me",
       "icon": "check",
       "layout": "IPY_MODEL_86f9d2cbff8d4582942b2c5dfe2c8ae1",
       "style": "IPY_MODEL_d880e0c2f0684fac8f53c3679a7f51d7",
       "tooltip": "Click me"
      }
     },
     "3758e7ebd8dc4a93914b0551c9586765": {
      "model_module": "jupyter-js-widgets",
      "model_module_version": "~2.1.4",
      "model_name": "LayoutModel",
      "state": {
       "_model_module_version": "~2.1.4",
       "_view_module_version": "~2.1.4"
      }
     },
     "376ae70099f943d9b7bf1c0820731c11": {
      "model_module": "jupyter-js-widgets",
      "model_module_version": "~2.1.4",
      "model_name": "LayoutModel",
      "state": {
       "_model_module_version": "~2.1.4",
       "_view_module_version": "~2.1.4"
      }
     },
     "379370374d91440e8eeb3ad6201e2199": {
      "model_module": "jupyter-js-widgets",
      "model_module_version": "~2.1.4",
      "model_name": "ButtonStyleModel",
      "state": {
       "_model_module_version": "~2.1.4",
       "_view_module_version": "~2.1.4"
      }
     },
     "37a8320ad1cd4d6d883cbc781a9efe60": {
      "model_module": "jupyter-js-widgets",
      "model_module_version": "~2.1.4",
      "model_name": "HTMLModel",
      "state": {
       "_model_module_version": "~2.1.4",
       "_view_module_version": "~2.1.4",
       "layout": "IPY_MODEL_8d4fc95b78474b208848503f49f2659a",
       "value": "\n<svg width=\"100%\" height=0><defs><clipPath id=\"mask\">\n<rect x=0 y=320 width='28%' height='500' /><rect x=0 y=0 width='100%' height='50' />\n</clipPath></defs></svg>\n<style>\n.bp {\n    width: 100%;\n    -webkit-clip-path: circle(#mask);\n    clip-path: url(#mask);\n}\n</style>\n<img src=\"bp_solution.png\" class=bp>\n"
      }
     },
     "380817f0c35c4dcb9d252711860ab0e0": {
      "model_module": "jupyter-js-widgets",
      "model_module_version": "~2.1.4",
      "model_name": "ButtonStyleModel",
      "state": {
       "_model_module_version": "~2.1.4",
       "_view_module_version": "~2.1.4"
      }
     },
     "38300dec865c4a008d12701be1950762": {
      "model_module": "jupyter-js-widgets",
      "model_module_version": "~2.1.4",
      "model_name": "ButtonStyleModel",
      "state": {
       "_model_module_version": "~2.1.4",
       "_view_module_version": "~2.1.4"
      }
     },
     "38589104f73045a1b766ffd8a484889e": {
      "model_module": "jupyter-js-widgets",
      "model_module_version": "~2.1.4",
      "model_name": "ButtonStyleModel",
      "state": {
       "_model_module_version": "~2.1.4",
       "_view_module_version": "~2.1.4"
      }
     },
     "385b8abee54f468489f3974ba262153c": {
      "model_module": "jupyter-js-widgets",
      "model_module_version": "~2.1.4",
      "model_name": "SliderStyleModel",
      "state": {
       "_model_module_version": "~2.1.4",
       "_view_module_version": "~2.1.4"
      }
     },
     "385f1a7700a4426ea7ce9a208657b4ff": {
      "model_module": "jupyter-js-widgets",
      "model_module_version": "~2.1.4",
      "model_name": "HTMLModel",
      "state": {
       "_model_module_version": "~2.1.4",
       "_view_module_version": "~2.1.4",
       "layout": "IPY_MODEL_bcce687aa1e44529b91bc6d95f21614f",
       "value": "\n<svg width=\"100%\">\n   <defs>\n    <clipPath id=\"mask\">\n      <rect x=0 y=100 width=\"50%\" height=\"500\">\n    </clipPath>\n  </defs>\n</svg>\n<style>\n\n.bp {\n    width: 100%;\n    -webkit-clip-path: circle(#mask);\n    clip-path: url(#mask);\n}\n</style>\n<img src=\"bp_solution.png\" class=bp>\n"
      }
     },
     "387cd1b1d0cc422e947f52237cf9aea3": {
      "model_module": "jupyter-js-widgets",
      "model_module_version": "~2.1.4",
      "model_name": "LayoutModel",
      "state": {
       "_model_module_version": "~2.1.4",
       "_view_module_version": "~2.1.4"
      }
     },
     "38a172cdd47c4883b48c4a3701680a19": {
      "model_module": "jupyter-js-widgets",
      "model_module_version": "~2.1.4",
      "model_name": "ButtonModel",
      "state": {
       "_model_module_version": "~2.1.4",
       "_view_module_version": "~2.1.4",
       "description": "Previous",
       "icon": "check",
       "layout": "IPY_MODEL_192fb55a12f94045bbac7fb075bee751",
       "style": "IPY_MODEL_5578ef8cd38c4f21a7f7b92c9b876b7b",
       "tooltip": "Click me"
      }
     },
     "390c2f0e376649f98281f7b1b8903821": {
      "model_module": "jupyter-js-widgets",
      "model_module_version": "~2.1.4",
      "model_name": "HTMLModel",
      "state": {
       "_model_module_version": "~2.1.4",
       "_view_module_version": "~2.1.4",
       "layout": "IPY_MODEL_04335b3b964044aca6acd5f68047f238",
       "value": "\n<svg width=\"100%\" height=0>\n   <defs>\n    <clipPath id=\"mask\">\n      <rect x=0 y=0 width=\"50%\" height=\"700\">\n    </clipPath>\n  </defs>\n</svg>\n<style>\n.bp {\n    width: 100%;\n    -webkit-clip-path: circle(#mask);\n    clip-path: url(#mask);\n}\n</style>\n<img src=\"bp_solution.png\" class=bp>\n"
      }
     },
     "39232cc1b08a407682d24699ef993039": {
      "model_module": "jupyter-js-widgets",
      "model_module_version": "~2.1.4",
      "model_name": "ButtonModel",
      "state": {
       "_model_module_version": "~2.1.4",
       "_view_module_version": "~2.1.4",
       "description": "Previous",
       "icon": "check",
       "layout": "IPY_MODEL_b6d4360bc06440ce80c2d7cecc529cb3",
       "style": "IPY_MODEL_a05ecef480ba474781c1dd9501ada9d4",
       "tooltip": "Click me"
      }
     },
     "3973d49de26a43aa90ea268f958e0cc5": {
      "model_module": "jupyter-js-widgets",
      "model_module_version": "~2.1.4",
      "model_name": "LayoutModel",
      "state": {
       "_model_module_version": "~2.1.4",
       "_view_module_version": "~2.1.4"
      }
     },
     "397d5ba47fb3459a8783f68c4b962898": {
      "model_module": "jupyter-js-widgets",
      "model_module_version": "~2.1.4",
      "model_name": "HTMLModel",
      "state": {
       "_model_module_version": "~2.1.4",
       "_view_module_version": "~2.1.4",
       "layout": "IPY_MODEL_e7d0d76138f943b182cb8cfac856747f",
       "value": "\n<svg width=\"0\">\n   <defs>\n    <clipPath id=\"mask\">\n      <rect x=0 y=0 width=\"100%\" height=\"600\">\n    </clipPath>\n  </defs>\n</svg>\n<style>\n\n.bp {\n    width: 100%;\n    -webkit-clip-path: circle(#mask);\n    clip-path: url(#mask);\n}\n</style>\n<img src=\"bp_solution.png\" class=bp>\n"
      }
     },
     "39a1ef3c382d4b6d8f2aaad568881574": {
      "model_module": "jupyter-js-widgets",
      "model_module_version": "~2.1.4",
      "model_name": "LayoutModel",
      "state": {
       "_model_module_version": "~2.1.4",
       "_view_module_version": "~2.1.4"
      }
     },
     "39a9b8ade5c146079134395f99f1c0d5": {
      "model_module": "jupyter-js-widgets",
      "model_module_version": "~2.1.4",
      "model_name": "HTMLModel",
      "state": {
       "_model_module_version": "~2.1.4",
       "_view_module_version": "~2.1.4",
       "layout": "IPY_MODEL_671339e3d9774618a954543182200191",
       "value": "\n<img src=\"bp_solution.png\" width=\"100%\">\n"
      }
     },
     "39c7fc71dc874d2ab03d1e7141d9ae49": {
      "model_module": "jupyter-js-widgets",
      "model_module_version": "~2.1.4",
      "model_name": "LayoutModel",
      "state": {
       "_model_module_version": "~2.1.4",
       "_view_module_version": "~2.1.4"
      }
     },
     "39d35cfc8f024038accaf315129211bb": {
      "model_module": "jupyter-js-widgets",
      "model_module_version": "~2.1.4",
      "model_name": "ButtonStyleModel",
      "state": {
       "_model_module_version": "~2.1.4",
       "_view_module_version": "~2.1.4"
      }
     },
     "3a1a8b5351d8411fa3e4eac7631487a3": {
      "model_module": "jupyter-js-widgets",
      "model_module_version": "~2.1.4",
      "model_name": "ButtonStyleModel",
      "state": {
       "_model_module_version": "~2.1.4",
       "_view_module_version": "~2.1.4"
      }
     },
     "3a36075e91504a8587e0f26c00fec642": {
      "model_module": "jupyter-js-widgets",
      "model_module_version": "~2.1.4",
      "model_name": "HTMLModel",
      "state": {
       "_model_module_version": "~2.1.4",
       "_view_module_version": "~2.1.4",
       "layout": "IPY_MODEL_4b0304931a73458f98cf6747db12b262",
       "value": "\n<svg width=\"100%\" height=0><defs><clipPath id=\"mask\">\n<rect x=0 y=390 width='28%' height='500' /><rect x=0 y=0 width='100%' height='50' />\n</clipPath></defs></svg>\n<style>\n.bp {\n    width: 100%;\n    -webkit-clip-path: circle(#mask);\n    clip-path: url(#mask);\n}\n</style>\n<img src=\"bp_solution.png\" class=bp>\n"
      }
     },
     "3a4e2c8f301b4e828fbe3e24aabb78e9": {
      "model_module": "jupyter-js-widgets",
      "model_module_version": "~2.1.4",
      "model_name": "ButtonModel",
      "state": {
       "_model_module_version": "~2.1.4",
       "_view_module_version": "~2.1.4",
       "description": "Previous",
       "icon": "check",
       "layout": "IPY_MODEL_2aa69cee91e4456b991b8d0eb1e59a18",
       "style": "IPY_MODEL_539e110f5d8c44a192c6bd045698ecc6",
       "tooltip": "Click me"
      }
     },
     "3a60382200c94f92b776c90926a5079f": {
      "model_module": "jupyter-js-widgets",
      "model_module_version": "~2.1.4",
      "model_name": "ButtonStyleModel",
      "state": {
       "_model_module_version": "~2.1.4",
       "_view_module_version": "~2.1.4"
      }
     },
     "3a6a6d8c7b3840bea361498285298149": {
      "model_module": "jupyter-js-widgets",
      "model_module_version": "~2.1.4",
      "model_name": "HTMLModel",
      "state": {
       "_model_module_version": "~2.1.4",
       "_view_module_version": "~2.1.4",
       "layout": "IPY_MODEL_e8d654f6280449db8948a1fcf9331a62",
       "value": "\n<svg width=\"100%\" height=0><defs><clipPath id=\"mask\">\n<rect x=0 y=0 width='28%' height='500' /><rect x=0 y=0 width='100%' height='50'>\n</clipPath></defs></svg>\n<style>\n.bp {\n    width: 100%;\n    -webkit-clip-path: circle(#mask);\n    clip-path: url(#mask);\n}\n</style>\n<img src=\"bp_solution.png\" class=bp>\n"
      }
     },
     "3a78d31904854585a2c5c32fec3101b4": {
      "model_module": "jupyter-js-widgets",
      "model_module_version": "~2.1.4",
      "model_name": "ButtonStyleModel",
      "state": {
       "_model_module_version": "~2.1.4",
       "_view_module_version": "~2.1.4"
      }
     },
     "3a7941d1eb964d3fbeea5aea48034bb3": {
      "model_module": "jupyter-js-widgets",
      "model_module_version": "~2.1.4",
      "model_name": "ButtonStyleModel",
      "state": {
       "_model_module_version": "~2.1.4",
       "_view_module_version": "~2.1.4"
      }
     },
     "3abb01e40143440f9091490ad6026495": {
      "model_module": "jupyter-js-widgets",
      "model_module_version": "~2.1.4",
      "model_name": "LayoutModel",
      "state": {
       "_model_module_version": "~2.1.4",
       "_view_module_version": "~2.1.4"
      }
     },
     "3ad8c552172a4d1a9045ebb2140385d6": {
      "model_module": "jupyter-js-widgets",
      "model_module_version": "~2.1.4",
      "model_name": "LayoutModel",
      "state": {
       "_model_module_version": "~2.1.4",
       "_view_module_version": "~2.1.4"
      }
     },
     "3adecc18b21942aea396382b8a5ba88a": {
      "model_module": "jupyter-js-widgets",
      "model_module_version": "~2.1.4",
      "model_name": "LayoutModel",
      "state": {
       "_model_module_version": "~2.1.4",
       "_view_module_version": "~2.1.4"
      }
     },
     "3ae385c95bf54e7bba63c6937df7e8be": {
      "model_module": "jupyter-js-widgets",
      "model_module_version": "~2.1.4",
      "model_name": "ButtonStyleModel",
      "state": {
       "_model_module_version": "~2.1.4",
       "_view_module_version": "~2.1.4"
      }
     },
     "3b2f4d9cbb8440b589ca9b6b963e43cf": {
      "model_module": "jupyter-js-widgets",
      "model_module_version": "~2.1.4",
      "model_name": "ButtonStyleModel",
      "state": {
       "_model_module_version": "~2.1.4",
       "_view_module_version": "~2.1.4"
      }
     },
     "3b410272d2c34cbdbb60d22d9c22bd13": {
      "model_module": "jupyter-js-widgets",
      "model_module_version": "~2.1.4",
      "model_name": "IntSliderModel",
      "state": {
       "_model_module_version": "~2.1.4",
       "_view_module_version": "~2.1.4",
       "layout": "IPY_MODEL_6cd7b8a84b1b4a2b85b35324655d6bd0",
       "style": "IPY_MODEL_0dd027b38dd44158824fc5e3b3e6a0bf"
      }
     },
     "3b47a74f4f1b40e582f60df00c239ebc": {
      "model_module": "jupyter-js-widgets",
      "model_module_version": "~2.1.4",
      "model_name": "HTMLModel",
      "state": {
       "_model_module_version": "~2.1.4",
       "_view_module_version": "~2.1.4",
       "layout": "IPY_MODEL_da114bcfec24494e87d3b869ce8c0d33",
       "value": "\n<svg width=\"100%\" height=0><defs><clipPath id=\"mask\">\n<rect x=0 y=0 width='100%' height='50' /><rect x=0 y=0 width='28%' height='500' /><rect x=0 y=0 width='72%' height='310' /><rect x='62%' y=0 width='100%' height='240' /><rect x='70%' y=0 width='100%' height='330' />\n</clipPath></defs></svg>\n<style>\n.bp {\n    width: 100%;\n    -webkit-clip-path: circle(#mask);\n    clip-path: url(#mask);\n}\n</style>\n<img src=\"bp_solution.png\" class=bp />\n"
      }
     },
     "3b532417292c4d0cab2cb468b07c2637": {
      "model_module": "jupyter-js-widgets",
      "model_module_version": "~2.1.4",
      "model_name": "LayoutModel",
      "state": {
       "_model_module_version": "~2.1.4",
       "_view_module_version": "~2.1.4"
      }
     },
     "3b726a2d30424a4da63297de232b9272": {
      "model_module": "jupyter-js-widgets",
      "model_module_version": "~2.1.4",
      "model_name": "ButtonStyleModel",
      "state": {
       "_model_module_version": "~2.1.4",
       "_view_module_version": "~2.1.4"
      }
     },
     "3be66292ea4c4ce8997af231499c9d52": {
      "model_module": "jupyter-js-widgets",
      "model_module_version": "~2.1.4",
      "model_name": "ButtonStyleModel",
      "state": {
       "_model_module_version": "~2.1.4",
       "_view_module_version": "~2.1.4"
      }
     },
     "3c0328656be54e82ad248a914a6b647f": {
      "model_module": "jupyter-js-widgets",
      "model_module_version": "~2.1.4",
      "model_name": "LayoutModel",
      "state": {
       "_model_module_version": "~2.1.4",
       "_view_module_version": "~2.1.4"
      }
     },
     "3c1ce49c42cf4576a39ec4194059a58c": {
      "model_module": "jupyter-js-widgets",
      "model_module_version": "~2.1.4",
      "model_name": "ButtonModel",
      "state": {
       "_model_module_version": "~2.1.4",
       "_view_module_version": "~2.1.4",
       "description": "Next",
       "icon": "check",
       "layout": "IPY_MODEL_0ff642e5a0ae4942be037e8c139047b7",
       "style": "IPY_MODEL_f340832581654969ba495754008bae91",
       "tooltip": "Click me"
      }
     },
     "3c575fe9b014482894e358d1957b23fd": {
      "model_module": "jupyter-js-widgets",
      "model_module_version": "~2.1.4",
      "model_name": "LayoutModel",
      "state": {
       "_model_module_version": "~2.1.4",
       "_view_module_version": "~2.1.4"
      }
     },
     "3c58c553fce6436dbf894bdfced50119": {
      "model_module": "jupyter-js-widgets",
      "model_module_version": "~2.1.4",
      "model_name": "LayoutModel",
      "state": {
       "_model_module_version": "~2.1.4",
       "_view_module_version": "~2.1.4"
      }
     },
     "3c70a4f8a2e24eb5947e7da6a31ec3d2": {
      "model_module": "jupyter-js-widgets",
      "model_module_version": "~2.1.4",
      "model_name": "LayoutModel",
      "state": {
       "_model_module_version": "~2.1.4",
       "_view_module_version": "~2.1.4"
      }
     },
     "3c7c8fe6482b4b388466723980741880": {
      "model_module": "jupyter-js-widgets",
      "model_module_version": "~2.1.4",
      "model_name": "HTMLModel",
      "state": {
       "_model_module_version": "~2.1.4",
       "_view_module_version": "~2.1.4",
       "layout": "IPY_MODEL_988917c9b06a429cb821df7a8d9552d1",
       "value": "\n<svg width=\"100%\" height=0><defs><clipPath id=\"mask\">\n<rect x=0 y=0 width='100%' height='50' /><rect x=0 y=0 width='28%' height='500' /><rect x=0 y=0 width='72%' height='310' /><rect x='62%' y=0 width='100%' height='240' /><rect x='70%' y=0 width='100%' height='330' />\n</clipPath></defs></svg>\n<style>\nimg {\n    display: block;\n    margin: 0 auto;\n}\n.bp {\n    width: 100%;\n    -webkit-clip-path: circle(#mask);\n    clip-path: url(#mask);\n}\n</style>\n<img src=\"bp_solution.png\" class=bp />\n"
      }
     },
     "3c7ed22613704ad19b42da7ef6dbb4e8": {
      "model_module": "jupyter-js-widgets",
      "model_module_version": "~2.1.4",
      "model_name": "ButtonStyleModel",
      "state": {
       "_model_module_version": "~2.1.4",
       "_view_module_version": "~2.1.4"
      }
     },
     "3c90520a9130458b8427b4244a4be668": {
      "model_module": "jupyter-js-widgets",
      "model_module_version": "~2.1.4",
      "model_name": "LayoutModel",
      "state": {
       "_model_module_version": "~2.1.4",
       "_view_module_version": "~2.1.4"
      }
     },
     "3c94a149043f4718bc9be53e1c4a7a50": {
      "model_module": "jupyter-js-widgets",
      "model_module_version": "~2.1.4",
      "model_name": "LayoutModel",
      "state": {
       "_model_module_version": "~2.1.4",
       "_view_module_version": "~2.1.4"
      }
     },
     "3ca4d3c3b80641799ae558f17f3eab48": {
      "model_module": "jupyter-js-widgets",
      "model_module_version": "~2.1.4",
      "model_name": "LayoutModel",
      "state": {
       "_model_module_version": "~2.1.4",
       "_view_module_version": "~2.1.4"
      }
     },
     "3ca4d4ef5ac14009874e0cd900c7ae1a": {
      "model_module": "jupyter-js-widgets",
      "model_module_version": "~2.1.4",
      "model_name": "LayoutModel",
      "state": {
       "_model_module_version": "~2.1.4",
       "_view_module_version": "~2.1.4"
      }
     },
     "3cce58ef21b546d6b09cb91144859024": {
      "model_module": "jupyter-js-widgets",
      "model_module_version": "~2.1.4",
      "model_name": "HTMLModel",
      "state": {
       "_model_module_version": "~2.1.4",
       "_view_module_version": "~2.1.4",
       "layout": "IPY_MODEL_55799e57d7cd468eb215859f4e01b265",
       "value": "\n<svg width=\"0\" height=\"0\">\n   <defs>\n    <clipPath id=\"mask\">\n      <rect x=20 y=20 width=\"50\">\n    </clipPath>\n  </defs>\n</svg>\n<style>\n.bp {\n    width: 100%;\n    -webkit-clip-path: circle(50px);\n    clip-path: url(#mask);\n}\n</style>\n<img src=\"bp_solution.png\" class=bp>\n"
      }
     },
     "3cdbda3bd3844f3e93a6fd9e5cd5b1e3": {
      "model_module": "jupyter-js-widgets",
      "model_module_version": "~2.1.4",
      "model_name": "ButtonModel",
      "state": {
       "_model_module_version": "~2.1.4",
       "_view_module_version": "~2.1.4",
       "description": "Previous",
       "icon": "check",
       "layout": "IPY_MODEL_ff1d0369cd7b46e69a7a7278a13775de",
       "style": "IPY_MODEL_d6cd028eddda4771b4d10fe21bbf92eb",
       "tooltip": "Click me"
      }
     },
     "3cf919ded0704073a9116cb2d9bad923": {
      "model_module": "jupyter-js-widgets",
      "model_module_version": "~2.1.4",
      "model_name": "LayoutModel",
      "state": {
       "_model_module_version": "~2.1.4",
       "_view_module_version": "~2.1.4",
       "align_items": "stretch",
       "display": "flex",
       "flex_flow": "row",
       "justify_content": "center",
       "width": "100%"
      }
     },
     "3d4feecdd4d847f590c2692e48e064b0": {
      "model_module": "jupyter-js-widgets",
      "model_module_version": "~2.1.4",
      "model_name": "IntSliderModel",
      "state": {
       "_model_module_version": "~2.1.4",
       "_view_module_version": "~2.1.4",
       "layout": "IPY_MODEL_9b74fed66cd841b3a6a0f5b941a58b5e",
       "style": "IPY_MODEL_61de3ce6dfab4c588cc3342501ba240e"
      }
     },
     "3d7451ec911d4fbeae77fde8bd041094": {
      "model_module": "jupyter-js-widgets",
      "model_module_version": "~2.1.4",
      "model_name": "ButtonModel",
      "state": {
       "_model_module_version": "~2.1.4",
       "_view_module_version": "~2.1.4",
       "description": "Next",
       "icon": "check",
       "layout": "IPY_MODEL_c3e2326d907d436c8c998ad043b290fb",
       "style": "IPY_MODEL_f073bcc1cef545699731ed0eccc0fff0",
       "tooltip": "Click me"
      }
     },
     "3d87c3bcd84347c9bbb6792d6280385b": {
      "model_module": "jupyter-js-widgets",
      "model_module_version": "~2.1.4",
      "model_name": "SliderStyleModel",
      "state": {
       "_model_module_version": "~2.1.4",
       "_view_module_version": "~2.1.4"
      }
     },
     "3da1896b8af445c8bbf43dfc3069570b": {
      "model_module": "jupyter-js-widgets",
      "model_module_version": "~2.1.4",
      "model_name": "ButtonModel",
      "state": {
       "_model_module_version": "~2.1.4",
       "_view_module_version": "~2.1.4",
       "description": "Next",
       "layout": "IPY_MODEL_ff0c75ba09754c6ab12c57d9ae4eb830",
       "style": "IPY_MODEL_cba0c413bb3a4cebaed0039026f5ef45"
      }
     },
     "3da34c620ed4423eb96fc103c13d3c80": {
      "model_module": "jupyter-js-widgets",
      "model_module_version": "~2.1.4",
      "model_name": "ButtonModel",
      "state": {
       "_model_module_version": "~2.1.4",
       "_view_module_version": "~2.1.4",
       "description": "Next",
       "icon": "check",
       "layout": "IPY_MODEL_80e9b7de57d444a5984c87479c35337e",
       "style": "IPY_MODEL_f72783e8b83e499795f48c2e2d87e5d0",
       "tooltip": "Click me"
      }
     },
     "3db36da1f7bc45a58adad5f94281cb60": {
      "model_module": "jupyter-js-widgets",
      "model_module_version": "~2.1.4",
      "model_name": "HTMLModel",
      "state": {
       "_model_module_version": "~2.1.4",
       "_view_module_version": "~2.1.4",
       "layout": "IPY_MODEL_df41b09a6ea14fff8c1385768c773618",
       "value": "\n<svg width=\"100%\" height=0><defs><clipPath id=\"mask\">\n<rect x=0 y=0 width='28%' height='500' /><rect x=0 y=0 width='70%' height='450' /><rect x=0 y=0 width='100%' height='50' />\n</clipPath></defs></svg>\n<style>\n.bp {\n    width: 100%;\n    -webkit-clip-path: circle(#mask);\n    clip-path: url(#mask);\n}\n</style>\n<img src=\"bp_solution.png\" class=bp>\n"
      }
     },
     "3dbc58c89f414a979030db58f8e73a33": {
      "model_module": "jupyter-js-widgets",
      "model_module_version": "~2.1.4",
      "model_name": "LayoutModel",
      "state": {
       "_model_module_version": "~2.1.4",
       "_view_module_version": "~2.1.4"
      }
     },
     "3dcc8a4079134bbabe61d2c1279a342d": {
      "model_module": "jupyter-js-widgets",
      "model_module_version": "~2.1.4",
      "model_name": "ButtonStyleModel",
      "state": {
       "_model_module_version": "~2.1.4",
       "_view_module_version": "~2.1.4"
      }
     },
     "3dede087bfcd42a79c6eced07c85b0f1": {
      "model_module": "jupyter-js-widgets",
      "model_module_version": "~2.1.4",
      "model_name": "LayoutModel",
      "state": {
       "_model_module_version": "~2.1.4",
       "_view_module_version": "~2.1.4"
      }
     },
     "3e1d3ed6bb3847639f21ab78bb69e078": {
      "model_module": "jupyter-js-widgets",
      "model_module_version": "~2.1.4",
      "model_name": "ButtonModel",
      "state": {
       "_model_module_version": "~2.1.4",
       "_view_module_version": "~2.1.4",
       "description": "Previous",
       "icon": "check",
       "layout": "IPY_MODEL_2b200530a77b4b08a6b89cfbfbc69de2",
       "style": "IPY_MODEL_5cf04c997db149e8b9bca8e38921f4d5",
       "tooltip": "Click me"
      }
     },
     "3e1d78589bb64ca383d824615aec7702": {
      "model_module": "jupyter-js-widgets",
      "model_module_version": "~2.1.4",
      "model_name": "LayoutModel",
      "state": {
       "_model_module_version": "~2.1.4",
       "_view_module_version": "~2.1.4"
      }
     },
     "3e91e44ec820491cafee5cd0fd06ce59": {
      "model_module": "jupyter-js-widgets",
      "model_module_version": "~2.1.4",
      "model_name": "ButtonModel",
      "state": {
       "_model_module_version": "~2.1.4",
       "_view_module_version": "~2.1.4",
       "description": "Previous",
       "layout": "IPY_MODEL_8351d692b74a4dd2b22736a4687b9000",
       "style": "IPY_MODEL_a2a3e2c539f248949fc1dffd54eae01a"
      }
     },
     "3ec78b5a5805410dbb43f3134a458ce5": {
      "model_module": "jupyter-js-widgets",
      "model_module_version": "~2.1.4",
      "model_name": "ButtonStyleModel",
      "state": {
       "_model_module_version": "~2.1.4",
       "_view_module_version": "~2.1.4"
      }
     },
     "3edf295c188d4e92a8712ae5680ffb98": {
      "model_module": "jupyter-js-widgets",
      "model_module_version": "~2.1.4",
      "model_name": "LayoutModel",
      "state": {
       "_model_module_version": "~2.1.4",
       "_view_module_version": "~2.1.4"
      }
     },
     "3f12aa87aef646339bec67c663a464d7": {
      "model_module": "jupyter-js-widgets",
      "model_module_version": "~2.1.4",
      "model_name": "LayoutModel",
      "state": {
       "_model_module_version": "~2.1.4",
       "_view_module_version": "~2.1.4"
      }
     },
     "3f94951776f2498e817ad7278afe1c2e": {
      "model_module": "jupyter-js-widgets",
      "model_module_version": "~2.1.4",
      "model_name": "LayoutModel",
      "state": {
       "_model_module_version": "~2.1.4",
       "_view_module_version": "~2.1.4"
      }
     },
     "3fb8e892afa9420d9c4cd6803f081c4d": {
      "model_module": "jupyter-js-widgets",
      "model_module_version": "~2.1.4",
      "model_name": "ButtonStyleModel",
      "state": {
       "_model_module_version": "~2.1.4",
       "_view_module_version": "~2.1.4"
      }
     },
     "3fef412f10f145cfba038230528effcc": {
      "model_module": "jupyter-js-widgets",
      "model_module_version": "~2.1.4",
      "model_name": "SliderStyleModel",
      "state": {
       "_model_module_version": "~2.1.4",
       "_view_module_version": "~2.1.4"
      }
     },
     "400d03cde4ce4e939c837803ec746389": {
      "model_module": "jupyter-js-widgets",
      "model_module_version": "~2.1.4",
      "model_name": "ButtonStyleModel",
      "state": {
       "_model_module_version": "~2.1.4",
       "_view_module_version": "~2.1.4"
      }
     },
     "406f02c059be42c09ad1342d8aa0c6e9": {
      "model_module": "jupyter-js-widgets",
      "model_module_version": "~2.1.4",
      "model_name": "LayoutModel",
      "state": {
       "_model_module_version": "~2.1.4",
       "_view_module_version": "~2.1.4"
      }
     },
     "407e2dc665b34dcbb93289b447420085": {
      "model_module": "jupyter-js-widgets",
      "model_module_version": "~2.1.4",
      "model_name": "LayoutModel",
      "state": {
       "_model_module_version": "~2.1.4",
       "_view_module_version": "~2.1.4"
      }
     },
     "408e99cf8d0740e5a1de23589baeb1bc": {
      "model_module": "jupyter-js-widgets",
      "model_module_version": "~2.1.4",
      "model_name": "ButtonModel",
      "state": {
       "_model_module_version": "~2.1.4",
       "_view_module_version": "~2.1.4",
       "description": "Next",
       "icon": "check",
       "layout": "IPY_MODEL_f19c6c9422704de49942824f0d9bedd4",
       "style": "IPY_MODEL_a2862b3de0c24a5d847eff03bc834b76",
       "tooltip": "Click me"
      }
     },
     "40a291c7f6f1407bbc8528dbca6b4f6a": {
      "model_module": "jupyter-js-widgets",
      "model_module_version": "~2.1.4",
      "model_name": "ButtonModel",
      "state": {
       "_model_module_version": "~2.1.4",
       "_view_module_version": "~2.1.4",
       "description": "Previous",
       "layout": "IPY_MODEL_dc6fcaaa9f0d4c3b985e2ad122a1f6d5",
       "style": "IPY_MODEL_239ca9300cf343978ce060c7692f7920"
      }
     },
     "40a344bb73804fdf9720e96ed5c83bfa": {
      "model_module": "jupyter-js-widgets",
      "model_module_version": "~2.1.4",
      "model_name": "HTMLModel",
      "state": {
       "_model_module_version": "~2.1.4",
       "_view_module_version": "~2.1.4",
       "layout": "IPY_MODEL_3c90520a9130458b8427b4244a4be668",
       "value": "\n<style>\nimg {\n    width: 100%;\n    -webkit-clip-path: circle(50px);\n    clip-path: circle(50px);\n}\n</style>\n<img src=\"bp_solution.png\">\n"
      }
     },
     "40bdfab80ca2482289e82a75acca7fd5": {
      "model_module": "jupyter-js-widgets",
      "model_module_version": "~2.1.4",
      "model_name": "LayoutModel",
      "state": {
       "_model_module_version": "~2.1.4",
       "_view_module_version": "~2.1.4"
      }
     },
     "40dae08bee4c4448a7b737b6aa770d04": {
      "model_module": "jupyter-js-widgets",
      "model_module_version": "~2.1.4",
      "model_name": "LayoutModel",
      "state": {
       "_model_module_version": "~2.1.4",
       "_view_module_version": "~2.1.4"
      }
     },
     "40f2b2094b9d4c61b58aae3e2c55f80d": {
      "model_module": "jupyter-js-widgets",
      "model_module_version": "~2.1.4",
      "model_name": "HTMLModel",
      "state": {
       "_model_module_version": "~2.1.4",
       "_view_module_version": "~2.1.4",
       "layout": "IPY_MODEL_a2be4aa7d0f743038d89b1b0d4fe66e3",
       "value": "<img src='bp_solution.png'>"
      }
     },
     "40f55d01683842e9b979e8372945ea39": {
      "model_module": "jupyter-js-widgets",
      "model_module_version": "~2.1.4",
      "model_name": "ButtonStyleModel",
      "state": {
       "_model_module_version": "~2.1.4",
       "_view_module_version": "~2.1.4"
      }
     },
     "41005fb8d1364532a9f0e4a0ca7bd58f": {
      "model_module": "jupyter-js-widgets",
      "model_module_version": "~2.1.4",
      "model_name": "ButtonModel",
      "state": {
       "_model_module_version": "~2.1.4",
       "_view_module_version": "~2.1.4",
       "description": "Click me",
       "icon": "check",
       "layout": "IPY_MODEL_0c4a02e6c14d4cdf933d070b64323cff",
       "style": "IPY_MODEL_2d3123143a9944aea6ecb633547d6582",
       "tooltip": "Click me"
      }
     },
     "4114ea4c18674585903f5a3788a6679a": {
      "model_module": "jupyter-js-widgets",
      "model_module_version": "~2.1.4",
      "model_name": "LayoutModel",
      "state": {
       "_model_module_version": "~2.1.4",
       "_view_module_version": "~2.1.4"
      }
     },
     "4153f89c639544dd80edfbc1bbf168d3": {
      "model_module": "jupyter-js-widgets",
      "model_module_version": "~2.1.4",
      "model_name": "ButtonModel",
      "state": {
       "_model_module_version": "~2.1.4",
       "_view_module_version": "~2.1.4",
       "description": "Next",
       "icon": "check",
       "layout": "IPY_MODEL_8b49eee1b7424ec9b231f24f6a97372b",
       "style": "IPY_MODEL_fd3c2b23af5d40218d2ab4864b68635f",
       "tooltip": "Click me"
      }
     },
     "419379ea35d849f7b47b1e680313ed73": {
      "model_module": "jupyter-js-widgets",
      "model_module_version": "~2.1.4",
      "model_name": "LayoutModel",
      "state": {
       "_model_module_version": "~2.1.4",
       "_view_module_version": "~2.1.4"
      }
     },
     "41b094bb9ec34104bd3ad605cba4cfc3": {
      "model_module": "jupyter-js-widgets",
      "model_module_version": "~2.1.4",
      "model_name": "LayoutModel",
      "state": {
       "_model_module_version": "~2.1.4",
       "_view_module_version": "~2.1.4"
      }
     },
     "41c1902d92f348428e655ffa9ebac743": {
      "model_module": "jupyter-js-widgets",
      "model_module_version": "~2.1.4",
      "model_name": "HTMLModel",
      "state": {
       "_model_module_version": "~2.1.4",
       "_view_module_version": "~2.1.4",
       "layout": "IPY_MODEL_9365777530c8484498a0036bc67f34ed",
       "value": "\n<svg width=\"100%\" height=0><defs><clipPath id=\"mask\">\n<rect x=0 y=0 width='100%' height='50' />\n</clipPath></defs></svg>\n<style>\n.bp {\n    width: 100%;\n    -webkit-clip-path: circle(#mask);\n    clip-path: url(#mask);\n}\n</style>\n<img src=\"bp_solution.png\" class=bp>\n"
      }
     },
     "41c46845985e4e9198e6f18bc6080f6f": {
      "model_module": "jupyter-js-widgets",
      "model_module_version": "~2.1.4",
      "model_name": "ButtonStyleModel",
      "state": {
       "_model_module_version": "~2.1.4",
       "_view_module_version": "~2.1.4"
      }
     },
     "41ccc2f01ffe48288de276acdfcb06d2": {
      "model_module": "jupyter-js-widgets",
      "model_module_version": "~2.1.4",
      "model_name": "ButtonStyleModel",
      "state": {
       "_model_module_version": "~2.1.4",
       "_view_module_version": "~2.1.4"
      }
     },
     "41d6e77562924d7f9c25361501f1e9da": {
      "model_module": "jupyter-js-widgets",
      "model_module_version": "~2.1.4",
      "model_name": "LayoutModel",
      "state": {
       "_model_module_version": "~2.1.4",
       "_view_module_version": "~2.1.4"
      }
     },
     "41ea23d69f9342739b2e2848a9f33d9b": {
      "model_module": "jupyter-js-widgets",
      "model_module_version": "~2.1.4",
      "model_name": "ButtonModel",
      "state": {
       "_model_module_version": "~2.1.4",
       "_view_module_version": "~2.1.4",
       "description": "Next",
       "layout": "IPY_MODEL_661ca7f0affe476991d19d469202e7c8",
       "style": "IPY_MODEL_0d733d4a3f9b43f7a4b1d8a9ee58619e"
      }
     },
     "41f7ce72a41e46449a3e431881ba3ef5": {
      "model_module": "jupyter-js-widgets",
      "model_module_version": "~2.1.4",
      "model_name": "HTMLModel",
      "state": {
       "_model_module_version": "~2.1.4",
       "_view_module_version": "~2.1.4",
       "layout": "IPY_MODEL_da9f222380114ec0a4e5019843fc7e2d",
       "value": "\n<svg width=\"100%\" height=0><defs><clipPath id=\"mask\">\n<rect x=0 y=0 width='28%' height='500' /><rect x=0 y=0 width='100%' height='50' />\n</clipPath></defs></svg>\n<style>\n.bp {\n    width: 100%;\n    -webkit-clip-path: circle(#mask);\n    clip-path: url(#mask);\n}\n</style>\n<img src=\"bp_solution.png\" class=bp>\n"
      }
     },
     "41f8d531d5dc4d48a0a8a31712e8a37f": {
      "model_module": "jupyter-js-widgets",
      "model_module_version": "~2.1.4",
      "model_name": "LayoutModel",
      "state": {
       "_model_module_version": "~2.1.4",
       "_view_module_version": "~2.1.4"
      }
     },
     "42466d4825e047fb9a7d6ae7e4bd5785": {
      "model_module": "jupyter-js-widgets",
      "model_module_version": "~2.1.4",
      "model_name": "ButtonStyleModel",
      "state": {
       "_model_module_version": "~2.1.4",
       "_view_module_version": "~2.1.4"
      }
     },
     "424a1158c24f4ff4828ce882426da1dd": {
      "model_module": "jupyter-js-widgets",
      "model_module_version": "~2.1.4",
      "model_name": "LayoutModel",
      "state": {
       "_model_module_version": "~2.1.4",
       "_view_module_version": "~2.1.4"
      }
     },
     "42577580ed454a7e9a0481e55b7ff771": {
      "model_module": "jupyter-js-widgets",
      "model_module_version": "~2.1.4",
      "model_name": "LayoutModel",
      "state": {
       "_model_module_version": "~2.1.4",
       "_view_module_version": "~2.1.4"
      }
     },
     "42769cfce9bb44c7ac38b7d9c81d6465": {
      "model_module": "jupyter-js-widgets",
      "model_module_version": "~2.1.4",
      "model_name": "ButtonStyleModel",
      "state": {
       "_model_module_version": "~2.1.4",
       "_view_module_version": "~2.1.4"
      }
     },
     "427a87a776234722b9dfbad73632ac98": {
      "model_module": "jupyter-js-widgets",
      "model_module_version": "~2.1.4",
      "model_name": "ButtonStyleModel",
      "state": {
       "_model_module_version": "~2.1.4",
       "_view_module_version": "~2.1.4"
      }
     },
     "427e957956f74b79a3cc9b93d6ceb8bf": {
      "model_module": "jupyter-js-widgets",
      "model_module_version": "~2.1.4",
      "model_name": "LayoutModel",
      "state": {
       "_model_module_version": "~2.1.4",
       "_view_module_version": "~2.1.4"
      }
     },
     "42b456e5439c4f93a5a00b8a46b3577a": {
      "model_module": "jupyter-js-widgets",
      "model_module_version": "~2.1.4",
      "model_name": "HTMLModel",
      "state": {
       "_model_module_version": "~2.1.4",
       "_view_module_version": "~2.1.4",
       "layout": "IPY_MODEL_a69dd2948b444e2c912f0b9fcb6f1273",
       "value": "\n<svg width=\"100%\" height=0><defs><clipPath id=\"mask\">\n<rect x=0 y=0 width='100%' height='500' />\n</clipPath></defs></svg>\n<style>\n.bp {\n    width: 100%;\n    -webkit-clip-path: circle(#mask);\n    clip-path: url(#mask);\n}\n</style>\n<img src=\"bp_solution.png\" class=bp />\n"
      }
     },
     "42ec030484604051b92d7d464cb9c5ba": {
      "model_module": "jupyter-js-widgets",
      "model_module_version": "~2.1.4",
      "model_name": "LayoutModel",
      "state": {
       "_model_module_version": "~2.1.4",
       "_view_module_version": "~2.1.4"
      }
     },
     "430238ed0da34609b44a03068d30cc5e": {
      "model_module": "jupyter-js-widgets",
      "model_module_version": "~2.1.4",
      "model_name": "LayoutModel",
      "state": {
       "_model_module_version": "~2.1.4",
       "_view_module_version": "~2.1.4"
      }
     },
     "430d494a3caf4c0d95fa91a4ecb55f29": {
      "model_module": "jupyter-js-widgets",
      "model_module_version": "~2.1.4",
      "model_name": "ButtonModel",
      "state": {
       "_model_module_version": "~2.1.4",
       "_view_module_version": "~2.1.4",
       "description": "Previous",
       "icon": "check",
       "layout": "IPY_MODEL_ef5f8b71232f4dfa8b15a421e0eb8580",
       "style": "IPY_MODEL_0b33271d2b4d4861965a94048bb2cb91",
       "tooltip": "Click me"
      }
     },
     "434ca072870e475f91b89da97953c508": {
      "model_module": "jupyter-js-widgets",
      "model_module_version": "~2.1.4",
      "model_name": "LayoutModel",
      "state": {
       "_model_module_version": "~2.1.4",
       "_view_module_version": "~2.1.4"
      }
     },
     "434edc26339345cca44598330843d405": {
      "model_module": "jupyter-js-widgets",
      "model_module_version": "~2.1.4",
      "model_name": "LayoutModel",
      "state": {
       "_model_module_version": "~2.1.4",
       "_view_module_version": "~2.1.4"
      }
     },
     "435ec961f3604be39cf90759e2b1b821": {
      "model_module": "jupyter-js-widgets",
      "model_module_version": "~2.1.4",
      "model_name": "ButtonStyleModel",
      "state": {
       "_model_module_version": "~2.1.4",
       "_view_module_version": "~2.1.4"
      }
     },
     "4376827a629942c49564823b3a8e67fb": {
      "model_module": "jupyter-js-widgets",
      "model_module_version": "~2.1.4",
      "model_name": "ButtonStyleModel",
      "state": {
       "_model_module_version": "~2.1.4",
       "_view_module_version": "~2.1.4"
      }
     },
     "4376dfa487cf4b49a2ef80f03128e7b0": {
      "model_module": "jupyter-js-widgets",
      "model_module_version": "~2.1.4",
      "model_name": "LayoutModel",
      "state": {
       "_model_module_version": "~2.1.4",
       "_view_module_version": "~2.1.4"
      }
     },
     "4399c21e5afa430ab4d39f4ba87794a5": {
      "model_module": "jupyter-js-widgets",
      "model_module_version": "~2.1.4",
      "model_name": "ButtonModel",
      "state": {
       "_model_module_version": "~2.1.4",
       "_view_module_version": "~2.1.4",
       "description": "Previous",
       "layout": "IPY_MODEL_4d33716291c4488d9c56b512be44f64a",
       "style": "IPY_MODEL_10e686ba752a4def825f8adc697463f9"
      }
     },
     "439bd6e6effa44a8ad3c302e36634b63": {
      "model_module": "jupyter-js-widgets",
      "model_module_version": "~2.1.4",
      "model_name": "LayoutModel",
      "state": {
       "_model_module_version": "~2.1.4",
       "_view_module_version": "~2.1.4"
      }
     },
     "43eb3de8f87c44a5a6347bd874002702": {
      "model_module": "jupyter-js-widgets",
      "model_module_version": "~2.1.4",
      "model_name": "VBoxModel",
      "state": {
       "_dom_classes": [
        "widget-interact"
       ],
       "_model_module_version": "~2.1.4",
       "_view_module_version": "~2.1.4",
       "layout": "IPY_MODEL_bfe405ec35ed4091b9cf575042d91afa"
      }
     },
     "442bd87a99694e2fb9240dc21a10ab0c": {
      "model_module": "jupyter-js-widgets",
      "model_module_version": "~2.1.4",
      "model_name": "HTMLModel",
      "state": {
       "_model_module_version": "~2.1.4",
       "_view_module_version": "~2.1.4",
       "layout": "IPY_MODEL_6f0fcc1951074e4d880fc421eeafb127",
       "value": "<img src='mlp.png' text-align='center'>"
      }
     },
     "445f3d5bd2bb404ea623bc2784a3d413": {
      "model_module": "jupyter-js-widgets",
      "model_module_version": "~2.1.4",
      "model_name": "ButtonStyleModel",
      "state": {
       "_model_module_version": "~2.1.4",
       "_view_module_version": "~2.1.4"
      }
     },
     "446cc025a9224dbaa669870710f3c76c": {
      "model_module": "jupyter-js-widgets",
      "model_module_version": "~2.1.4",
      "model_name": "ButtonModel",
      "state": {
       "_model_module_version": "~2.1.4",
       "_view_module_version": "~2.1.4",
       "description": "Previous",
       "icon": "check",
       "layout": "IPY_MODEL_9d1e9e64ecf04e5db836e4e83f3a3ee8",
       "style": "IPY_MODEL_b1726c6a83df41da918163a813336a32",
       "tooltip": "Click me"
      }
     },
     "44866e857db849d7b22168ecc24cdc6a": {
      "model_module": "jupyter-js-widgets",
      "model_module_version": "~2.1.4",
      "model_name": "HTMLModel",
      "state": {
       "_model_module_version": "~2.1.4",
       "_view_module_version": "~2.1.4",
       "layout": "IPY_MODEL_f8fb1b9748f04512abc61c72629ce5b5",
       "value": "\n<svg width=\"100%\" height=0><defs><clipPath id=\"mask\">\n<rect x=0 y=350 width='28%' height='500' /><rect x=0 y=0 width='100%' height='50' />\n</clipPath></defs></svg>\n<style>\n.bp {\n    width: 100%;\n    -webkit-clip-path: circle(#mask);\n    clip-path: url(#mask);\n}\n</style>\n<img src=\"bp_solution.png\" class=bp>\n"
      }
     },
     "448e891630504f2eb7de136b97f77c9f": {
      "model_module": "jupyter-js-widgets",
      "model_module_version": "~2.1.4",
      "model_name": "LayoutModel",
      "state": {
       "_model_module_version": "~2.1.4",
       "_view_module_version": "~2.1.4"
      }
     },
     "44980ff120dc4225851deb9a7d28e5a9": {
      "model_module": "jupyter-js-widgets",
      "model_module_version": "~2.1.4",
      "model_name": "LayoutModel",
      "state": {
       "_model_module_version": "~2.1.4",
       "_view_module_version": "~2.1.4"
      }
     },
     "44c12b0027f24ab4b7dd6cb934fbc12f": {
      "model_module": "jupyter-js-widgets",
      "model_module_version": "~2.1.4",
      "model_name": "LayoutModel",
      "state": {
       "_model_module_version": "~2.1.4",
       "_view_module_version": "~2.1.4"
      }
     },
     "44d7eae636fc4b3da7f602e20606ad9b": {
      "model_module": "jupyter-js-widgets",
      "model_module_version": "~2.1.4",
      "model_name": "LayoutModel",
      "state": {
       "_model_module_version": "~2.1.4",
       "_view_module_version": "~2.1.4"
      }
     },
     "44ece3bd476f4e16a4dd639f1d13d525": {
      "model_module": "jupyter-js-widgets",
      "model_module_version": "~2.1.4",
      "model_name": "ButtonModel",
      "state": {
       "_model_module_version": "~2.1.4",
       "_view_module_version": "~2.1.4",
       "description": "Previous",
       "icon": "check",
       "layout": "IPY_MODEL_6865fa917da14d28a0ca083ffde74b86",
       "style": "IPY_MODEL_f45c15a8a5fb4e1eb6f73b5c2ab7600b",
       "tooltip": "Click me"
      }
     },
     "44fd9b6d019f4509a0f1683fcf25394a": {
      "model_module": "jupyter-js-widgets",
      "model_module_version": "~2.1.4",
      "model_name": "LayoutModel",
      "state": {
       "_model_module_version": "~2.1.4",
       "_view_module_version": "~2.1.4"
      }
     },
     "451ce398415944ffafaf4203e0fa9a40": {
      "model_module": "jupyter-js-widgets",
      "model_module_version": "~2.1.4",
      "model_name": "ButtonStyleModel",
      "state": {
       "_model_module_version": "~2.1.4",
       "_view_module_version": "~2.1.4"
      }
     },
     "455cd108387c4163b36d4dffa12e5aa8": {
      "model_module": "jupyter-js-widgets",
      "model_module_version": "~2.1.4",
      "model_name": "ButtonModel",
      "state": {
       "_model_module_version": "~2.1.4",
       "_view_module_version": "~2.1.4",
       "description": "Previous",
       "icon": "check",
       "layout": "IPY_MODEL_2ebfda9887944557a822a984f32a3975",
       "style": "IPY_MODEL_82996057a8974d17967f01afda12d68a",
       "tooltip": "Click me"
      }
     },
     "456003b4753c460d9c4451d20ec1cd52": {
      "model_module": "jupyter-js-widgets",
      "model_module_version": "~2.1.4",
      "model_name": "LayoutModel",
      "state": {
       "_model_module_version": "~2.1.4",
       "_view_module_version": "~2.1.4"
      }
     },
     "456e3c37894149cabf96c519b2a72503": {
      "model_module": "jupyter-js-widgets",
      "model_module_version": "~2.1.4",
      "model_name": "ButtonModel",
      "state": {
       "_model_module_version": "~2.1.4",
       "_view_module_version": "~2.1.4",
       "description": "Next",
       "layout": "IPY_MODEL_75282e72eaf548f284a68c77bf796c77",
       "style": "IPY_MODEL_2fa0ef28d2ee455baca229c504f229fe"
      }
     },
     "458d2f3d54944355964099431be95af3": {
      "model_module": "jupyter-js-widgets",
      "model_module_version": "~2.1.4",
      "model_name": "ButtonModel",
      "state": {
       "_model_module_version": "~2.1.4",
       "_view_module_version": "~2.1.4",
       "description": "Next",
       "layout": "IPY_MODEL_69092779ee8e4e52acaa84ec82b7eb4f",
       "style": "IPY_MODEL_b23895b62ccd4317a4042db01db2588c"
      }
     },
     "458f7916ee2e438291c81b5d8059e186": {
      "model_module": "jupyter-js-widgets",
      "model_module_version": "~2.1.4",
      "model_name": "ButtonModel",
      "state": {
       "_model_module_version": "~2.1.4",
       "_view_module_version": "~2.1.4",
       "description": "Previous",
       "icon": "check",
       "layout": "IPY_MODEL_e42446c8a9f14bd994e592b547cc5c5a",
       "style": "IPY_MODEL_c4d463301c3f4217835972b9cf55bb2c",
       "tooltip": "Click me"
      }
     },
     "4595960174be400b89d1a73be1fcc78b": {
      "model_module": "jupyter-js-widgets",
      "model_module_version": "~2.1.4",
      "model_name": "ButtonStyleModel",
      "state": {
       "_model_module_version": "~2.1.4",
       "_view_module_version": "~2.1.4"
      }
     },
     "459df047352d4b678381f590cd9c5092": {
      "model_module": "jupyter-js-widgets",
      "model_module_version": "~2.1.4",
      "model_name": "BoxModel",
      "state": {
       "_model_module_version": "~2.1.4",
       "_view_module_version": "~2.1.4",
       "children": [
        "IPY_MODEL_6e8a5547cc394b96bf008d4c50eac08c",
        "IPY_MODEL_2acba7e38ff04df3b7b078749005267f"
       ],
       "layout": "IPY_MODEL_e0ea48c2ade048899e2a15e49c75665d"
      }
     },
     "45a8f5be62164fa2a195e247e60996a5": {
      "model_module": "jupyter-js-widgets",
      "model_module_version": "~2.1.4",
      "model_name": "ButtonStyleModel",
      "state": {
       "_model_module_version": "~2.1.4",
       "_view_module_version": "~2.1.4"
      }
     },
     "45ca8d50d7b4497c8565f878469e3efc": {
      "model_module": "jupyter-js-widgets",
      "model_module_version": "~2.1.4",
      "model_name": "LayoutModel",
      "state": {
       "_model_module_version": "~2.1.4",
       "_view_module_version": "~2.1.4"
      }
     },
     "45e09e6e708b404292198f7cac5afed6": {
      "model_module": "jupyter-js-widgets",
      "model_module_version": "~2.1.4",
      "model_name": "ButtonStyleModel",
      "state": {
       "_model_module_version": "~2.1.4",
       "_view_module_version": "~2.1.4"
      }
     },
     "4627ee95445c4247a4c13e786dd3a351": {
      "model_module": "jupyter-js-widgets",
      "model_module_version": "~2.1.4",
      "model_name": "ButtonStyleModel",
      "state": {
       "_model_module_version": "~2.1.4",
       "_view_module_version": "~2.1.4"
      }
     },
     "46e4f4e42c5842b1abf2e7d0a7226814": {
      "model_module": "jupyter-js-widgets",
      "model_module_version": "~2.1.4",
      "model_name": "LayoutModel",
      "state": {
       "_model_module_version": "~2.1.4",
       "_view_module_version": "~2.1.4"
      }
     },
     "46e9c1c2a85e4303851064bc2cd5a074": {
      "model_module": "jupyter-js-widgets",
      "model_module_version": "~2.1.4",
      "model_name": "LayoutModel",
      "state": {
       "_model_module_version": "~2.1.4",
       "_view_module_version": "~2.1.4"
      }
     },
     "47033ff8325a47b5923d0ecef8e59c53": {
      "model_module": "jupyter-js-widgets",
      "model_module_version": "~2.1.4",
      "model_name": "LayoutModel",
      "state": {
       "_model_module_version": "~2.1.4",
       "_view_module_version": "~2.1.4"
      }
     },
     "472c56e53ad74ccd9715fb3c1413f000": {
      "model_module": "jupyter-js-widgets",
      "model_module_version": "~2.1.4",
      "model_name": "LayoutModel",
      "state": {
       "_model_module_version": "~2.1.4",
       "_view_module_version": "~2.1.4"
      }
     },
     "473fb5400af440429f72da6b9e9bc552": {
      "model_module": "jupyter-js-widgets",
      "model_module_version": "~2.1.4",
      "model_name": "HTMLModel",
      "state": {
       "_model_module_version": "~2.1.4",
       "_view_module_version": "~2.1.4",
       "layout": "IPY_MODEL_73c40fe0782445028eb062e5a33e37ce",
       "value": "<img src='bp_solution.png' width='100%'>"
      }
     },
     "47609c01d3bc47af8461451f5b251d5a": {
      "model_module": "jupyter-js-widgets",
      "model_module_version": "~2.1.4",
      "model_name": "ButtonStyleModel",
      "state": {
       "_model_module_version": "~2.1.4",
       "_view_module_version": "~2.1.4"
      }
     },
     "47a1132efa75496aa645b6e217cfd4d3": {
      "model_module": "jupyter-js-widgets",
      "model_module_version": "~2.1.4",
      "model_name": "LayoutModel",
      "state": {
       "_model_module_version": "~2.1.4",
       "_view_module_version": "~2.1.4"
      }
     },
     "47c1220b71a3457b906c2f41cfa773df": {
      "model_module": "jupyter-js-widgets",
      "model_module_version": "~2.1.4",
      "model_name": "LayoutModel",
      "state": {
       "_model_module_version": "~2.1.4",
       "_view_module_version": "~2.1.4"
      }
     },
     "4812a1bfc84740bb9dedd4ad237e1726": {
      "model_module": "jupyter-js-widgets",
      "model_module_version": "~2.1.4",
      "model_name": "LayoutModel",
      "state": {
       "_model_module_version": "~2.1.4",
       "_view_module_version": "~2.1.4"
      }
     },
     "481ed9b01e34465697f3c4d0bca7b584": {
      "model_module": "jupyter-js-widgets",
      "model_module_version": "~2.1.4",
      "model_name": "ButtonModel",
      "state": {
       "_model_module_version": "~2.1.4",
       "_view_module_version": "~2.1.4",
       "description": "Click me",
       "icon": "check",
       "layout": "IPY_MODEL_716d183b27c943da8620a9d3ab8b31d6",
       "style": "IPY_MODEL_228531f9af1e42f38863a4be0bb08ae5",
       "tooltip": "Click me"
      }
     },
     "485f7126ab7b4b768d83705b4ac20ca9": {
      "model_module": "jupyter-js-widgets",
      "model_module_version": "~2.1.4",
      "model_name": "ButtonStyleModel",
      "state": {
       "_model_module_version": "~2.1.4",
       "_view_module_version": "~2.1.4"
      }
     },
     "48654533929145c18dbb09eb9f67d9d6": {
      "model_module": "jupyter-js-widgets",
      "model_module_version": "~2.1.4",
      "model_name": "ButtonStyleModel",
      "state": {
       "_model_module_version": "~2.1.4",
       "_view_module_version": "~2.1.4"
      }
     },
     "489005ef41e64aaebfe4d5b01aed202a": {
      "model_module": "jupyter-js-widgets",
      "model_module_version": "~2.1.4",
      "model_name": "ButtonModel",
      "state": {
       "_model_module_version": "~2.1.4",
       "_view_module_version": "~2.1.4",
       "description": "Next",
       "layout": "IPY_MODEL_eb466b65e7b54e57ad98119507b9765a",
       "style": "IPY_MODEL_f998cda5a2ee471e9ddd00f97168a49b"
      }
     },
     "48f09a6adc924e0ab49cb18104f5fcd4": {
      "model_module": "jupyter-js-widgets",
      "model_module_version": "~2.1.4",
      "model_name": "HTMLModel",
      "state": {
       "_model_module_version": "~2.1.4",
       "_view_module_version": "~2.1.4",
       "layout": "IPY_MODEL_59ea361ea4a24ca1acdcd203e392e6ed",
       "value": "<img src='bp_solution.png' width='100%' style='img{ height: 10% }'>"
      }
     },
     "49426e158e434322acd67ad902ac3ba5": {
      "model_module": "jupyter-js-widgets",
      "model_module_version": "~2.1.4",
      "model_name": "ButtonStyleModel",
      "state": {
       "_model_module_version": "~2.1.4",
       "_view_module_version": "~2.1.4"
      }
     },
     "49e1fabc1861408cb341cf870a767dab": {
      "model_module": "jupyter-js-widgets",
      "model_module_version": "~2.1.4",
      "model_name": "ButtonModel",
      "state": {
       "_model_module_version": "~2.1.4",
       "_view_module_version": "~2.1.4",
       "description": "Next",
       "icon": "check",
       "layout": "IPY_MODEL_0ccd77837a3344258dc2189ce3b4c0db",
       "style": "IPY_MODEL_e3ed16630d9542afacce31635897ddad",
       "tooltip": "Click me"
      }
     },
     "4a4ec3f20cc74a9a887d567640600267": {
      "model_module": "jupyter-js-widgets",
      "model_module_version": "~2.1.4",
      "model_name": "LayoutModel",
      "state": {
       "_model_module_version": "~2.1.4",
       "_view_module_version": "~2.1.4"
      }
     },
     "4a67a96035f347ae8e5f4eafac971529": {
      "model_module": "jupyter-js-widgets",
      "model_module_version": "~2.1.4",
      "model_name": "HTMLModel",
      "state": {
       "_model_module_version": "~2.1.4",
       "_view_module_version": "~2.1.4",
       "layout": "IPY_MODEL_d1fb8c5318cf4fa0b7ac335177fd449b",
       "value": "<img src='bp_solution.png' width='100%'>"
      }
     },
     "4aaa282955f344e0ae08e80aa9ed9591": {
      "model_module": "jupyter-js-widgets",
      "model_module_version": "~2.1.4",
      "model_name": "LayoutModel",
      "state": {
       "_model_module_version": "~2.1.4",
       "_view_module_version": "~2.1.4"
      }
     },
     "4af10a36828e4261b89cb4634dd95203": {
      "model_module": "jupyter-js-widgets",
      "model_module_version": "~2.1.4",
      "model_name": "HTMLModel",
      "state": {
       "_model_module_version": "~2.1.4",
       "_view_module_version": "~2.1.4",
       "layout": "IPY_MODEL_0991f92d42ae4d6c81792d1674e1a37a",
       "value": "\n<svg width=\"100%\" height=0><defs><clipPath id=\"mask\">\n<rect x=0 y=0 width='28%' height='500' /><rect x=0 y=0 width='75%' height='380' /><rect x=0 y=0 width='100%' height='50' />\n</clipPath></defs></svg>\n<style>\n.bp {\n    width: 100%;\n    -webkit-clip-path: circle(#mask);\n    clip-path: url(#mask);\n}\n</style>\n<img src=\"bp_solution.png\" class=bp>\n"
      }
     },
     "4afe61fa03b14fd4b33da1ec60f7ab91": {
      "model_module": "jupyter-js-widgets",
      "model_module_version": "~2.1.4",
      "model_name": "LayoutModel",
      "state": {
       "_model_module_version": "~2.1.4",
       "_view_module_version": "~2.1.4"
      }
     },
     "4b0304931a73458f98cf6747db12b262": {
      "model_module": "jupyter-js-widgets",
      "model_module_version": "~2.1.4",
      "model_name": "LayoutModel",
      "state": {
       "_model_module_version": "~2.1.4",
       "_view_module_version": "~2.1.4"
      }
     },
     "4b1c09e8b747466b9b16e27c01c1da0b": {
      "model_module": "jupyter-js-widgets",
      "model_module_version": "~2.1.4",
      "model_name": "HTMLModel",
      "state": {
       "_model_module_version": "~2.1.4",
       "_view_module_version": "~2.1.4",
       "layout": "IPY_MODEL_8b085eeaf9c84194be54f0ab59a6d857",
       "value": "\n<svg width=\"100%\">\n   <defs>\n    <clipPath id=\"mask\">\n      <rect x=0 y=100 width=\"50%\" height=\"500\">\n    </clipPath>\n  </defs>\n</svg>\n<style>\n\n.bp {\n    width: 100%;\n    -webkit-clip-path: circle(#mask);\n    clip-path: url(#mask);\n}\n</style>\n<img src=\"bp_solution.png\" class=bp>\n"
      }
     },
     "4b25828e030b482cb5404d481159a061": {
      "model_module": "jupyter-js-widgets",
      "model_module_version": "~2.1.4",
      "model_name": "ButtonModel",
      "state": {
       "_model_module_version": "~2.1.4",
       "_view_module_version": "~2.1.4",
       "description": "Previous",
       "icon": "check",
       "layout": "IPY_MODEL_87f7fd5d0bc541da91382f91f1b14f3b",
       "style": "IPY_MODEL_df76e6b26cff4c9e87dcde803f15cb3b",
       "tooltip": "Click me"
      }
     },
     "4b38f3fe0c9b498b99cfcfa846ea7f89": {
      "model_module": "jupyter-js-widgets",
      "model_module_version": "~2.1.4",
      "model_name": "LayoutModel",
      "state": {
       "_model_module_version": "~2.1.4",
       "_view_module_version": "~2.1.4"
      }
     },
     "4b3af595cf134cd4ac98c57ea861b138": {
      "model_module": "jupyter-js-widgets",
      "model_module_version": "~2.1.4",
      "model_name": "LayoutModel",
      "state": {
       "_model_module_version": "~2.1.4",
       "_view_module_version": "~2.1.4"
      }
     },
     "4b603939c080465eb2afe22493e3ed3b": {
      "model_module": "jupyter-js-widgets",
      "model_module_version": "~2.1.4",
      "model_name": "ButtonStyleModel",
      "state": {
       "_model_module_version": "~2.1.4",
       "_view_module_version": "~2.1.4"
      }
     },
     "4b6623a8fb6841038fbb24c54ecd7889": {
      "model_module": "jupyter-js-widgets",
      "model_module_version": "~2.1.4",
      "model_name": "LayoutModel",
      "state": {
       "_model_module_version": "~2.1.4",
       "_view_module_version": "~2.1.4"
      }
     },
     "4b7951fb8a5d4de58271c4542502f879": {
      "model_module": "jupyter-js-widgets",
      "model_module_version": "~2.1.4",
      "model_name": "ButtonStyleModel",
      "state": {
       "_model_module_version": "~2.1.4",
       "_view_module_version": "~2.1.4"
      }
     },
     "4b8432dfd63842009b12b21a07d97ace": {
      "model_module": "jupyter-js-widgets",
      "model_module_version": "~2.1.4",
      "model_name": "LayoutModel",
      "state": {
       "_model_module_version": "~2.1.4",
       "_view_module_version": "~2.1.4"
      }
     },
     "4b87e9e87ef540788ba1fe072f88ab9f": {
      "model_module": "jupyter-js-widgets",
      "model_module_version": "~2.1.4",
      "model_name": "ButtonModel",
      "state": {
       "_model_module_version": "~2.1.4",
       "_view_module_version": "~2.1.4",
       "description": "Next",
       "layout": "IPY_MODEL_3dede087bfcd42a79c6eced07c85b0f1",
       "style": "IPY_MODEL_3b726a2d30424a4da63297de232b9272"
      }
     },
     "4b89e3098e6a42b095623db249bd2cc2": {
      "model_module": "jupyter-js-widgets",
      "model_module_version": "~2.1.4",
      "model_name": "LayoutModel",
      "state": {
       "_model_module_version": "~2.1.4",
       "_view_module_version": "~2.1.4"
      }
     },
     "4bb39154929b4bb598b2c57b8d5e4109": {
      "model_module": "jupyter-js-widgets",
      "model_module_version": "~2.1.4",
      "model_name": "HTMLModel",
      "state": {
       "_model_module_version": "~2.1.4",
       "_view_module_version": "~2.1.4",
       "layout": "IPY_MODEL_7811e8790eac4349895cd90509c4d211",
       "value": "<img src='mlp.png' text-align='center'>"
      }
     },
     "4bddff18cc7b4f94993c96f71e640208": {
      "model_module": "jupyter-js-widgets",
      "model_module_version": "~2.1.4",
      "model_name": "LayoutModel",
      "state": {
       "_model_module_version": "~2.1.4",
       "_view_module_version": "~2.1.4"
      }
     },
     "4be5c6aa93524f2a8e9e9cccdc1e3631": {
      "model_module": "jupyter-js-widgets",
      "model_module_version": "~2.1.4",
      "model_name": "LayoutModel",
      "state": {
       "_model_module_version": "~2.1.4",
       "_view_module_version": "~2.1.4"
      }
     },
     "4c3bf91b6c924aa7ab0bde37fa88d48d": {
      "model_module": "jupyter-js-widgets",
      "model_module_version": "~2.1.4",
      "model_name": "ButtonModel",
      "state": {
       "_model_module_version": "~2.1.4",
       "_view_module_version": "~2.1.4",
       "description": "Previous",
       "icon": "check",
       "layout": "IPY_MODEL_68788fc4f072415b9ad8db5be807cbc3",
       "style": "IPY_MODEL_113808b3f2274975bed300f6bbbfeaf6",
       "tooltip": "Click me"
      }
     },
     "4c7f1772290141a0942b59701eddaf8a": {
      "model_module": "jupyter-js-widgets",
      "model_module_version": "~2.1.4",
      "model_name": "ButtonStyleModel",
      "state": {
       "_model_module_version": "~2.1.4",
       "_view_module_version": "~2.1.4"
      }
     },
     "4c93b61b113c45318bd703a0ba642348": {
      "model_module": "jupyter-js-widgets",
      "model_module_version": "~2.1.4",
      "model_name": "ButtonStyleModel",
      "state": {
       "_model_module_version": "~2.1.4",
       "_view_module_version": "~2.1.4"
      }
     },
     "4ccca3a848c0476daeb7cb8a8ed20d58": {
      "model_module": "jupyter-js-widgets",
      "model_module_version": "~2.1.4",
      "model_name": "HTMLModel",
      "state": {
       "_model_module_version": "~2.1.4",
       "_view_module_version": "~2.1.4",
       "layout": "IPY_MODEL_54614609b63e42e3b47923a5717bb449",
       "value": "\n<svg width=\"100%\" height=0><defs><clipPath id=\"mask\">\n<rect x=0 y=390 width='28%' height='500' /><rect x=0 y=0 width='100%' height='50' />\n</clipPath></defs></svg>\n<style>\n.bp {\n    width: 100%;\n    -webkit-clip-path: circle(#mask);\n    clip-path: url(#mask);\n}\n</style>\n<img src=\"bp_solution.png\" class=bp>\n"
      }
     },
     "4cde6c767f7b459b940e149c7968e9c1": {
      "model_module": "jupyter-js-widgets",
      "model_module_version": "~2.1.4",
      "model_name": "ButtonModel",
      "state": {
       "_model_module_version": "~2.1.4",
       "_view_module_version": "~2.1.4",
       "description": "Next",
       "layout": "IPY_MODEL_af4bcf90c67846e0b9481257fc0d8b70",
       "style": "IPY_MODEL_2d4c1311de2040d1befa8afa7ccf6952"
      }
     },
     "4cf3f5a3541a4b7a9c155fcda59068f9": {
      "model_module": "jupyter-js-widgets",
      "model_module_version": "~2.1.4",
      "model_name": "HTMLModel",
      "state": {
       "_model_module_version": "~2.1.4",
       "_view_module_version": "~2.1.4",
       "layout": "IPY_MODEL_44fd9b6d019f4509a0f1683fcf25394a",
       "value": "\n<svg width=\"100%\" height=0><defs><clipPath id=\"mask\">\n<rect x=0 y=500 width='28%' height='50'><rect x=0 y=0 width='28%' height='500'>\n</clipPath></defs></svg>\n<style>\n.bp {\n    width: 100%;\n    -webkit-clip-path: circle(#mask);\n    clip-path: url(#mask);\n}\n</style>\n<img src=\"bp_solution.png\" class=bp>\n"
      }
     },
     "4d06bca3f5ff43deba6cea741dfbf2c7": {
      "model_module": "jupyter-js-widgets",
      "model_module_version": "~2.1.4",
      "model_name": "ButtonStyleModel",
      "state": {
       "_model_module_version": "~2.1.4",
       "_view_module_version": "~2.1.4"
      }
     },
     "4d22e485fc92485884a0712a251d2d9c": {
      "model_module": "jupyter-js-widgets",
      "model_module_version": "~2.1.4",
      "model_name": "ButtonModel",
      "state": {
       "_model_module_version": "~2.1.4",
       "_view_module_version": "~2.1.4",
       "description": "Click me",
       "icon": "check",
       "layout": "IPY_MODEL_4aaa282955f344e0ae08e80aa9ed9591",
       "style": "IPY_MODEL_5d407e25203142749b34154db906d5a6",
       "tooltip": "Click me"
      }
     },
     "4d2beec5f1ab4724b461690877c92006": {
      "model_module": "jupyter-js-widgets",
      "model_module_version": "~2.1.4",
      "model_name": "ButtonStyleModel",
      "state": {
       "_model_module_version": "~2.1.4",
       "_view_module_version": "~2.1.4"
      }
     },
     "4d3259ad98274c73ad9a1736ce44f515": {
      "model_module": "jupyter-js-widgets",
      "model_module_version": "~2.1.4",
      "model_name": "ButtonModel",
      "state": {
       "_model_module_version": "~2.1.4",
       "_view_module_version": "~2.1.4",
       "description": "Previous",
       "layout": "IPY_MODEL_6628889acc48420fb42a137c3702c5a7",
       "style": "IPY_MODEL_9ce9ed63b19642aca37934b92bc4ad20"
      }
     },
     "4d33716291c4488d9c56b512be44f64a": {
      "model_module": "jupyter-js-widgets",
      "model_module_version": "~2.1.4",
      "model_name": "LayoutModel",
      "state": {
       "_model_module_version": "~2.1.4",
       "_view_module_version": "~2.1.4"
      }
     },
     "4d652ee6f2f74d909d551afba4b30d86": {
      "model_module": "jupyter-js-widgets",
      "model_module_version": "~2.1.4",
      "model_name": "ButtonStyleModel",
      "state": {
       "_model_module_version": "~2.1.4",
       "_view_module_version": "~2.1.4"
      }
     },
     "4d91c195ccc340bb9f9287d9e39f1f85": {
      "model_module": "jupyter-js-widgets",
      "model_module_version": "~2.1.4",
      "model_name": "LayoutModel",
      "state": {
       "_model_module_version": "~2.1.4",
       "_view_module_version": "~2.1.4"
      }
     },
     "4dd0983c9237419a9b148a001afc9867": {
      "model_module": "jupyter-js-widgets",
      "model_module_version": "~2.1.4",
      "model_name": "LayoutModel",
      "state": {
       "_model_module_version": "~2.1.4",
       "_view_module_version": "~2.1.4"
      }
     },
     "4e2797964e714608a7f18ffc31a27511": {
      "model_module": "jupyter-js-widgets",
      "model_module_version": "~2.1.4",
      "model_name": "ButtonStyleModel",
      "state": {
       "_model_module_version": "~2.1.4",
       "_view_module_version": "~2.1.4"
      }
     },
     "4e9d837ec4b6473d816b73ec5fc0ddb1": {
      "model_module": "jupyter-js-widgets",
      "model_module_version": "~2.1.4",
      "model_name": "ButtonModel",
      "state": {
       "_model_module_version": "~2.1.4",
       "_view_module_version": "~2.1.4",
       "description": "Next",
       "icon": "check",
       "layout": "IPY_MODEL_f313bf17170d4805ba8f327ad448222c",
       "style": "IPY_MODEL_15872d319b044acb832c486c1dd000e7",
       "tooltip": "Click me"
      }
     },
     "4ea037b465a24ffc91979e44a9c679a1": {
      "model_module": "jupyter-js-widgets",
      "model_module_version": "~2.1.4",
      "model_name": "ButtonStyleModel",
      "state": {
       "_model_module_version": "~2.1.4",
       "_view_module_version": "~2.1.4"
      }
     },
     "4efc93f3432944628e9006aac23854a8": {
      "model_module": "jupyter-js-widgets",
      "model_module_version": "~2.1.4",
      "model_name": "ButtonStyleModel",
      "state": {
       "_model_module_version": "~2.1.4",
       "_view_module_version": "~2.1.4"
      }
     },
     "4f04f8a752234aeb9bd3fdb118fb5e8f": {
      "model_module": "jupyter-js-widgets",
      "model_module_version": "~2.1.4",
      "model_name": "ButtonModel",
      "state": {
       "_model_module_version": "~2.1.4",
       "_view_module_version": "~2.1.4",
       "description": "Next",
       "icon": "check",
       "layout": "IPY_MODEL_1740599d8fb748e68aa96a44a5f87453",
       "style": "IPY_MODEL_c7bed950205a41bf86f8aed23d1fde59",
       "tooltip": "Click me"
      }
     },
     "4f786f8f7ac94404b2d4a9cd1a252688": {
      "model_module": "jupyter-js-widgets",
      "model_module_version": "~2.1.4",
      "model_name": "ButtonModel",
      "state": {
       "_model_module_version": "~2.1.4",
       "_view_module_version": "~2.1.4",
       "description": "Previous",
       "layout": "IPY_MODEL_fbe340160b0e462ab2547d715ebb302d",
       "style": "IPY_MODEL_561f14d5366747bd9da1bafebbb6cab7"
      }
     },
     "4fa25272b16b4babba378f7083a2fce2": {
      "model_module": "jupyter-js-widgets",
      "model_module_version": "~2.1.4",
      "model_name": "LayoutModel",
      "state": {
       "_model_module_version": "~2.1.4",
       "_view_module_version": "~2.1.4"
      }
     },
     "4fa276f806d34bf2bd780925506abbc6": {
      "model_module": "jupyter-js-widgets",
      "model_module_version": "~2.1.4",
      "model_name": "LayoutModel",
      "state": {
       "_model_module_version": "~2.1.4",
       "_view_module_version": "~2.1.4"
      }
     },
     "4fa8ad30b73e4f999253e53385ce572d": {
      "model_module": "jupyter-js-widgets",
      "model_module_version": "~2.1.4",
      "model_name": "HTMLModel",
      "state": {
       "_model_module_version": "~2.1.4",
       "_view_module_version": "~2.1.4",
       "layout": "IPY_MODEL_745461b3bf1848618132cfba278a503c",
       "value": "\n<img src=\"bp_solution.png\" width=\"100%\">\n"
      }
     },
     "4fab39912f484914b0185067bdc844b1": {
      "model_module": "jupyter-js-widgets",
      "model_module_version": "~2.1.4",
      "model_name": "LayoutModel",
      "state": {
       "_model_module_version": "~2.1.4",
       "_view_module_version": "~2.1.4"
      }
     },
     "4fb31784254648f0918b0e9cd66e16ea": {
      "model_module": "jupyter-js-widgets",
      "model_module_version": "~2.1.4",
      "model_name": "LayoutModel",
      "state": {
       "_model_module_version": "~2.1.4",
       "_view_module_version": "~2.1.4"
      }
     },
     "4fb56ffa2af0468288d74618d83f9366": {
      "model_module": "jupyter-js-widgets",
      "model_module_version": "~2.1.4",
      "model_name": "HTMLModel",
      "state": {
       "_model_module_version": "~2.1.4",
       "_view_module_version": "~2.1.4",
       "layout": "IPY_MODEL_1dd00a34327a4597a40367caa4ce61fa",
       "value": "\n<svg width=\"100%\" height=0><defs><clipPath id=\"mask\">\n<rect x=0 y=0 width='28%' height='500' /><rect x=0 y=0 width='72%' height='450' /><rect x=0 y=0 width='100%' height='50' />\n</clipPath></defs></svg>\n<style>\n.bp {\n    width: 100%;\n    -webkit-clip-path: circle(#mask);\n    clip-path: url(#mask);\n}\n</style>\n<img src=\"bp_solution.png\" class=bp>\n"
      }
     },
     "4fb9f580deb6416a8e7817de0f107fa7": {
      "model_module": "jupyter-js-widgets",
      "model_module_version": "~2.1.4",
      "model_name": "LayoutModel",
      "state": {
       "_model_module_version": "~2.1.4",
       "_view_module_version": "~2.1.4"
      }
     },
     "4fdfffcd2d8149f291359e5cc5ed65a0": {
      "model_module": "jupyter-js-widgets",
      "model_module_version": "~2.1.4",
      "model_name": "ButtonModel",
      "state": {
       "_model_module_version": "~2.1.4",
       "_view_module_version": "~2.1.4",
       "description": "Next",
       "icon": "check",
       "layout": "IPY_MODEL_a98516ef840c4faaa543eb27ab595b10",
       "style": "IPY_MODEL_787e063d52054eae9334d07a6c3ec79b",
       "tooltip": "Click me"
      }
     },
     "502f948923b24822ac48ce3b92f0af93": {
      "model_module": "jupyter-js-widgets",
      "model_module_version": "~2.1.4",
      "model_name": "ButtonStyleModel",
      "state": {
       "_model_module_version": "~2.1.4",
       "_view_module_version": "~2.1.4"
      }
     },
     "5034762eb0f04905b1ecf36092c46225": {
      "model_module": "jupyter-js-widgets",
      "model_module_version": "~2.1.4",
      "model_name": "LayoutModel",
      "state": {
       "_model_module_version": "~2.1.4",
       "_view_module_version": "~2.1.4"
      }
     },
     "507d00e18787494eb6af1838804165c8": {
      "model_module": "jupyter-js-widgets",
      "model_module_version": "~2.1.4",
      "model_name": "ButtonStyleModel",
      "state": {
       "_model_module_version": "~2.1.4",
       "_view_module_version": "~2.1.4"
      }
     },
     "507ef874b0cf48dca9f479f5315dafad": {
      "model_module": "jupyter-js-widgets",
      "model_module_version": "~2.1.4",
      "model_name": "ButtonModel",
      "state": {
       "_model_module_version": "~2.1.4",
       "_view_module_version": "~2.1.4",
       "description": "Previous",
       "icon": "check",
       "layout": "IPY_MODEL_d7df3aa7ecce4beaac32e82f815c3915",
       "style": "IPY_MODEL_deca28cc1aa24bc9af523060ceb9e8b2",
       "tooltip": "Click me"
      }
     },
     "50869247c31640f2afd9fdba1cfe8c8a": {
      "model_module": "jupyter-js-widgets",
      "model_module_version": "~2.1.4",
      "model_name": "LayoutModel",
      "state": {
       "_model_module_version": "~2.1.4",
       "_view_module_version": "~2.1.4"
      }
     },
     "509e573e7d7a462cbfc4d58f60e70ad8": {
      "model_module": "jupyter-js-widgets",
      "model_module_version": "~2.1.4",
      "model_name": "LayoutModel",
      "state": {
       "_model_module_version": "~2.1.4",
       "_view_module_version": "~2.1.4"
      }
     },
     "50c93a020c864998a43cd3641005032c": {
      "model_module": "jupyter-js-widgets",
      "model_module_version": "~2.1.4",
      "model_name": "SliderStyleModel",
      "state": {
       "_model_module_version": "~2.1.4",
       "_view_module_version": "~2.1.4"
      }
     },
     "50d5751f248d43a28f0f7f485fddcd98": {
      "model_module": "jupyter-js-widgets",
      "model_module_version": "~2.1.4",
      "model_name": "ButtonStyleModel",
      "state": {
       "_model_module_version": "~2.1.4",
       "_view_module_version": "~2.1.4"
      }
     },
     "50ecd3431a7d4661a486f8fc2cfa1238": {
      "model_module": "jupyter-js-widgets",
      "model_module_version": "~2.1.4",
      "model_name": "HTMLModel",
      "state": {
       "_model_module_version": "~2.1.4",
       "_view_module_version": "~2.1.4",
       "layout": "IPY_MODEL_b88c384cdddf41928cca54510d85cd2b",
       "value": "<img src='mlp.png'/>"
      }
     },
     "50f626e992a14309815b5b93d8631408": {
      "model_module": "jupyter-js-widgets",
      "model_module_version": "~2.1.4",
      "model_name": "LayoutModel",
      "state": {
       "_model_module_version": "~2.1.4",
       "_view_module_version": "~2.1.4"
      }
     },
     "512f1865831246beb504717d45bcb612": {
      "model_module": "jupyter-js-widgets",
      "model_module_version": "~2.1.4",
      "model_name": "LayoutModel",
      "state": {
       "_model_module_version": "~2.1.4",
       "_view_module_version": "~2.1.4"
      }
     },
     "5135bc33ad274b498c187952732bad47": {
      "model_module": "jupyter-js-widgets",
      "model_module_version": "~2.1.4",
      "model_name": "ButtonStyleModel",
      "state": {
       "_model_module_version": "~2.1.4",
       "_view_module_version": "~2.1.4"
      }
     },
     "514d7b4a464d4c30a10c3f08d26b7493": {
      "model_module": "jupyter-js-widgets",
      "model_module_version": "~2.1.4",
      "model_name": "ButtonStyleModel",
      "state": {
       "_model_module_version": "~2.1.4",
       "_view_module_version": "~2.1.4"
      }
     },
     "516e4822ac0c4b3d9c50a25d1d5c0568": {
      "model_module": "jupyter-js-widgets",
      "model_module_version": "~2.1.4",
      "model_name": "ButtonModel",
      "state": {
       "_model_module_version": "~2.1.4",
       "_view_module_version": "~2.1.4",
       "description": "Previous",
       "icon": "check",
       "layout": "IPY_MODEL_a05fb5600c4c46be97d3e5f4fdae4c43",
       "style": "IPY_MODEL_4d652ee6f2f74d909d551afba4b30d86",
       "tooltip": "Click me"
      }
     },
     "517187bc1915431fa5e7c2514005516c": {
      "model_module": "jupyter-js-widgets",
      "model_module_version": "~2.1.4",
      "model_name": "ButtonStyleModel",
      "state": {
       "_model_module_version": "~2.1.4",
       "_view_module_version": "~2.1.4"
      }
     },
     "51d136ff898c4cdea0132f79a7195b4a": {
      "model_module": "jupyter-js-widgets",
      "model_module_version": "~2.1.4",
      "model_name": "HTMLModel",
      "state": {
       "_model_module_version": "~2.1.4",
       "_view_module_version": "~2.1.4",
       "layout": "IPY_MODEL_cf2f73a24b4041eba571f342f5559672",
       "value": "\n<svg width=\"100%\" height=0><defs><clipPath id=\"mask\">\n<rect x=0 y=0 width='28%' height='500' /><rect x=0 y=0 width='72%' height='380' /><rect x='62%' y=0 width='100%' height='240' /><rect x=0 y=0 width='100%' height='50' />\n</clipPath></defs></svg>\n<style>\n.bp {\n    width: 100%;\n    -webkit-clip-path: circle(#mask);\n    clip-path: url(#mask);\n}\n</style>\n<img src=\"bp_solution.png\" class=bp>\n"
      }
     },
     "521a907c09be4199a76b037f9232b002": {
      "model_module": "jupyter-js-widgets",
      "model_module_version": "~2.1.4",
      "model_name": "ButtonModel",
      "state": {
       "_model_module_version": "~2.1.4",
       "_view_module_version": "~2.1.4",
       "description": "Next",
       "layout": "IPY_MODEL_597f31fa1c704bf7bb619bbbf6635521",
       "style": "IPY_MODEL_9e465f970eff44f19ec8e9f607719a9a"
      }
     },
     "527b55d4fe214514b51af013ed69ab9b": {
      "model_module": "jupyter-js-widgets",
      "model_module_version": "~2.1.4",
      "model_name": "HTMLModel",
      "state": {
       "_model_module_version": "~2.1.4",
       "_view_module_version": "~2.1.4",
       "layout": "IPY_MODEL_5c184bcfbb054ceaab8ec2eaa865c97e",
       "value": "\n<svg width=\"100%\" height=0><defs><clipPath id=\"mask\">\n<rect x=0 y=0 width='28%' height='350'><rect x=0 y=0 width='28%' height='350'>\n</clipPath></defs></svg>\n<style>\n.bp {\n    width: 100%;\n    -webkit-clip-path: circle(#mask);\n    clip-path: url(#mask);\n}\n</style>\n<img src=\"bp_solution.png\" class=bp>\n"
      }
     },
     "528ff9f9a8d14cd28da963049574aa01": {
      "model_module": "jupyter-js-widgets",
      "model_module_version": "~2.1.4",
      "model_name": "LayoutModel",
      "state": {
       "_model_module_version": "~2.1.4",
       "_view_module_version": "~2.1.4"
      }
     },
     "52a7142c130647d6b138778480ed8207": {
      "model_module": "jupyter-js-widgets",
      "model_module_version": "~2.1.4",
      "model_name": "BoxModel",
      "state": {
       "_model_module_version": "~2.1.4",
       "_view_module_version": "~2.1.4",
       "children": [
        "IPY_MODEL_b9c6e8bd98964bb5acd0554ebf7c35e4",
        "IPY_MODEL_3da1896b8af445c8bbf43dfc3069570b"
       ],
       "layout": "IPY_MODEL_14d504ad094b4d7e8b45246724b45f51"
      }
     },
     "52b23c6e3b854bebb69c70f4f2ccf8c0": {
      "model_module": "jupyter-js-widgets",
      "model_module_version": "~2.1.4",
      "model_name": "HTMLModel",
      "state": {
       "_model_module_version": "~2.1.4",
       "_view_module_version": "~2.1.4",
       "layout": "IPY_MODEL_0b1ec3fc588c481298c4b104b0414a0d",
       "value": "\n<svg width=\"100%\" height=0><defs><clipPath id=\"mask\">\n<rect x=0 y=250 width='28%' height='500' /><rect x=0 y=0 width='100%' height='50' />\n</clipPath></defs></svg>\n<style>\n.bp {\n    width: 100%;\n    -webkit-clip-path: circle(#mask);\n    clip-path: url(#mask);\n}\n</style>\n<img src=\"bp_solution.png\" class=bp>\n"
      }
     },
     "52eaa928919c438ca5c1cfce85138ce5": {
      "model_module": "jupyter-js-widgets",
      "model_module_version": "~2.1.4",
      "model_name": "ButtonStyleModel",
      "state": {
       "_model_module_version": "~2.1.4",
       "_view_module_version": "~2.1.4"
      }
     },
     "52f113bee92e421fa358ffaf6275ba0e": {
      "model_module": "jupyter-js-widgets",
      "model_module_version": "~2.1.4",
      "model_name": "LayoutModel",
      "state": {
       "_model_module_version": "~2.1.4",
       "_view_module_version": "~2.1.4"
      }
     },
     "531c422b137c483f9cf5fc8c0157e4cb": {
      "model_module": "jupyter-js-widgets",
      "model_module_version": "~2.1.4",
      "model_name": "ButtonModel",
      "state": {
       "_model_module_version": "~2.1.4",
       "_view_module_version": "~2.1.4",
       "description": "Next",
       "layout": "IPY_MODEL_266b9f9453fe473b8516e43dc8ce06c2",
       "style": "IPY_MODEL_9763872ee809409d9ab8459fe01e7e40"
      }
     },
     "532a9d0156fb42d8957f6bc6d3bd9349": {
      "model_module": "jupyter-js-widgets",
      "model_module_version": "~2.1.4",
      "model_name": "LayoutModel",
      "state": {
       "_model_module_version": "~2.1.4",
       "_view_module_version": "~2.1.4"
      }
     },
     "533d6c765f754a10a8b363c09e8dde67": {
      "model_module": "jupyter-js-widgets",
      "model_module_version": "~2.1.4",
      "model_name": "ButtonStyleModel",
      "state": {
       "_model_module_version": "~2.1.4",
       "_view_module_version": "~2.1.4"
      }
     },
     "5352d2ae70684b2a9056b60eb962844a": {
      "model_module": "jupyter-js-widgets",
      "model_module_version": "~2.1.4",
      "model_name": "ButtonStyleModel",
      "state": {
       "_model_module_version": "~2.1.4",
       "_view_module_version": "~2.1.4"
      }
     },
     "5361b8ea462d4f7e950b37b71eb867ba": {
      "model_module": "jupyter-js-widgets",
      "model_module_version": "~2.1.4",
      "model_name": "ButtonModel",
      "state": {
       "_model_module_version": "~2.1.4",
       "_view_module_version": "~2.1.4",
       "description": "Previous",
       "icon": "check",
       "layout": "IPY_MODEL_f6323d50efa246339ea43fc4b4dcd8f5",
       "style": "IPY_MODEL_c5cf4b6711b8478f8508a72223b3f6ea",
       "tooltip": "Click me"
      }
     },
     "538ca112b7d6447e82dd37876cd3e663": {
      "model_module": "jupyter-js-widgets",
      "model_module_version": "~2.1.4",
      "model_name": "LayoutModel",
      "state": {
       "_model_module_version": "~2.1.4",
       "_view_module_version": "~2.1.4"
      }
     },
     "539db1bc9b35412c9671a715b8442d14": {
      "model_module": "jupyter-js-widgets",
      "model_module_version": "~2.1.4",
      "model_name": "HTMLModel",
      "state": {
       "_model_module_version": "~2.1.4",
       "_view_module_version": "~2.1.4",
       "layout": "IPY_MODEL_a7526a4d54ee4d7ea9600565bae9ab2f",
       "value": "\n<svg width=\"100%\">\n   <defs>\n    <clipPath id=\"mask\">\n      <rect x=0 y=100 width=\"50%\" height=\"500\">\n    </clipPath>\n  </defs>\n</svg>\n<style>\n\n.bp {\n    width: 100%;\n    -webkit-clip-path: circle(#mask);\n    clip-path: url(#mask);\n}\n</style>\n<img src=\"bp_solution.png\" class=bp>\n"
      }
     },
     "539e110f5d8c44a192c6bd045698ecc6": {
      "model_module": "jupyter-js-widgets",
      "model_module_version": "~2.1.4",
      "model_name": "ButtonStyleModel",
      "state": {
       "_model_module_version": "~2.1.4",
       "_view_module_version": "~2.1.4"
      }
     },
     "53a7ae1756da4df7a82061809ff35b42": {
      "model_module": "jupyter-js-widgets",
      "model_module_version": "~2.1.4",
      "model_name": "LayoutModel",
      "state": {
       "_model_module_version": "~2.1.4",
       "_view_module_version": "~2.1.4"
      }
     },
     "53d3ef442b1642b1ac4e23a116a0b84d": {
      "model_module": "jupyter-js-widgets",
      "model_module_version": "~2.1.4",
      "model_name": "ButtonModel",
      "state": {
       "_model_module_version": "~2.1.4",
       "_view_module_version": "~2.1.4",
       "description": "Next",
       "icon": "check",
       "layout": "IPY_MODEL_31cef9c676d84d4497bc630333434d13",
       "style": "IPY_MODEL_67f68a505d74451180346d61b8367722",
       "tooltip": "Click me"
      }
     },
     "53e49fafc75f412799a0f25636eea8b6": {
      "model_module": "jupyter-js-widgets",
      "model_module_version": "~2.1.4",
      "model_name": "ButtonStyleModel",
      "state": {
       "_model_module_version": "~2.1.4",
       "_view_module_version": "~2.1.4"
      }
     },
     "53e59c1a09c949709d80a298d796e032": {
      "model_module": "jupyter-js-widgets",
      "model_module_version": "~2.1.4",
      "model_name": "LayoutModel",
      "state": {
       "_model_module_version": "~2.1.4",
       "_view_module_version": "~2.1.4"
      }
     },
     "53e9cbdd228d4178ac92b9bfe4f104cb": {
      "model_module": "jupyter-js-widgets",
      "model_module_version": "~2.1.4",
      "model_name": "ButtonModel",
      "state": {
       "_model_module_version": "~2.1.4",
       "_view_module_version": "~2.1.4",
       "description": "Next",
       "icon": "check",
       "layout": "IPY_MODEL_12fb267760544c94a3450f041525f300",
       "style": "IPY_MODEL_2689941abc75410baaa6e516b3401501",
       "tooltip": "Click me"
      }
     },
     "54614609b63e42e3b47923a5717bb449": {
      "model_module": "jupyter-js-widgets",
      "model_module_version": "~2.1.4",
      "model_name": "LayoutModel",
      "state": {
       "_model_module_version": "~2.1.4",
       "_view_module_version": "~2.1.4"
      }
     },
     "54f209c6491b4588a1aea261a0242273": {
      "model_module": "jupyter-js-widgets",
      "model_module_version": "~2.1.4",
      "model_name": "ButtonModel",
      "state": {
       "_model_module_version": "~2.1.4",
       "_view_module_version": "~2.1.4",
       "description": "Previous",
       "layout": "IPY_MODEL_387cd1b1d0cc422e947f52237cf9aea3",
       "style": "IPY_MODEL_99d0c8c4d4b145b9bd71c09734f4f524"
      }
     },
     "54f84a9f3e8e47e188943d35bb7bb151": {
      "model_module": "jupyter-js-widgets",
      "model_module_version": "~2.1.4",
      "model_name": "LayoutModel",
      "state": {
       "_model_module_version": "~2.1.4",
       "_view_module_version": "~2.1.4"
      }
     },
     "5501a34d0e8d41b494b7851d51593a9b": {
      "model_module": "jupyter-js-widgets",
      "model_module_version": "~2.1.4",
      "model_name": "LayoutModel",
      "state": {
       "_model_module_version": "~2.1.4",
       "_view_module_version": "~2.1.4"
      }
     },
     "5511168303994d1f9ea9caf345e52dcf": {
      "model_module": "jupyter-js-widgets",
      "model_module_version": "~2.1.4",
      "model_name": "ButtonStyleModel",
      "state": {
       "_model_module_version": "~2.1.4",
       "_view_module_version": "~2.1.4"
      }
     },
     "55443ff4b3be41a99c367d2d76919c04": {
      "model_module": "jupyter-js-widgets",
      "model_module_version": "~2.1.4",
      "model_name": "LayoutModel",
      "state": {
       "_model_module_version": "~2.1.4",
       "_view_module_version": "~2.1.4"
      }
     },
     "5578ef8cd38c4f21a7f7b92c9b876b7b": {
      "model_module": "jupyter-js-widgets",
      "model_module_version": "~2.1.4",
      "model_name": "ButtonStyleModel",
      "state": {
       "_model_module_version": "~2.1.4",
       "_view_module_version": "~2.1.4"
      }
     },
     "55799e57d7cd468eb215859f4e01b265": {
      "model_module": "jupyter-js-widgets",
      "model_module_version": "~2.1.4",
      "model_name": "LayoutModel",
      "state": {
       "_model_module_version": "~2.1.4",
       "_view_module_version": "~2.1.4"
      }
     },
     "558fe4f026804bed891ec6ad7e8ba9e1": {
      "model_module": "jupyter-js-widgets",
      "model_module_version": "~2.1.4",
      "model_name": "LayoutModel",
      "state": {
       "_model_module_version": "~2.1.4",
       "_view_module_version": "~2.1.4"
      }
     },
     "55b7a0b968f14c21aa2bb0fdee5bf04f": {
      "model_module": "jupyter-js-widgets",
      "model_module_version": "~2.1.4",
      "model_name": "SliderStyleModel",
      "state": {
       "_model_module_version": "~2.1.4",
       "_view_module_version": "~2.1.4"
      }
     },
     "55c7afd4af10431d94a2892d24670090": {
      "model_module": "jupyter-js-widgets",
      "model_module_version": "~2.1.4",
      "model_name": "LayoutModel",
      "state": {
       "_model_module_version": "~2.1.4",
       "_view_module_version": "~2.1.4"
      }
     },
     "55d42483351e4d049b1e5e74679b9362": {
      "model_module": "jupyter-js-widgets",
      "model_module_version": "~2.1.4",
      "model_name": "ButtonModel",
      "state": {
       "_model_module_version": "~2.1.4",
       "_view_module_version": "~2.1.4",
       "description": "Next",
       "layout": "IPY_MODEL_e920632be8c44ea7ac799b78c62f997b",
       "style": "IPY_MODEL_60521ae97a29416a96a173f11cd30a96"
      }
     },
     "55d7789a5299426bb99d98a64e2fc0c1": {
      "model_module": "jupyter-js-widgets",
      "model_module_version": "~2.1.4",
      "model_name": "LayoutModel",
      "state": {
       "_model_module_version": "~2.1.4",
       "_view_module_version": "~2.1.4"
      }
     },
     "55eea1bdffee4bfeb1b1ac1ff0121044": {
      "model_module": "jupyter-js-widgets",
      "model_module_version": "~2.1.4",
      "model_name": "LayoutModel",
      "state": {
       "_model_module_version": "~2.1.4",
       "_view_module_version": "~2.1.4"
      }
     },
     "561f14d5366747bd9da1bafebbb6cab7": {
      "model_module": "jupyter-js-widgets",
      "model_module_version": "~2.1.4",
      "model_name": "ButtonStyleModel",
      "state": {
       "_model_module_version": "~2.1.4",
       "_view_module_version": "~2.1.4"
      }
     },
     "5653ba2dc25c430b8526f16bc384e8f3": {
      "model_module": "jupyter-js-widgets",
      "model_module_version": "~2.1.4",
      "model_name": "LayoutModel",
      "state": {
       "_model_module_version": "~2.1.4",
       "_view_module_version": "~2.1.4"
      }
     },
     "56546e38fa214643a4f7fce6dd785a14": {
      "model_module": "jupyter-js-widgets",
      "model_module_version": "~2.1.4",
      "model_name": "LayoutModel",
      "state": {
       "_model_module_version": "~2.1.4",
       "_view_module_version": "~2.1.4"
      }
     },
     "566e31f6f62047699aa60aa40c5df396": {
      "model_module": "jupyter-js-widgets",
      "model_module_version": "~2.1.4",
      "model_name": "LayoutModel",
      "state": {
       "_model_module_version": "~2.1.4",
       "_view_module_version": "~2.1.4"
      }
     },
     "56749f22db3f438abab58e21a3fc6429": {
      "model_module": "jupyter-js-widgets",
      "model_module_version": "~2.1.4",
      "model_name": "ButtonStyleModel",
      "state": {
       "_model_module_version": "~2.1.4",
       "_view_module_version": "~2.1.4"
      }
     },
     "567b64ba60184acc88629295fed19f90": {
      "model_module": "jupyter-js-widgets",
      "model_module_version": "~2.1.4",
      "model_name": "ButtonModel",
      "state": {
       "_model_module_version": "~2.1.4",
       "_view_module_version": "~2.1.4",
       "description": "Next",
       "icon": "check",
       "layout": "IPY_MODEL_2ae7be4424a7469080a68b8182b555c7",
       "style": "IPY_MODEL_2be624c7057d4a5fb258d2ddddc63c0a",
       "tooltip": "Click me"
      }
     },
     "568a0ce0a29c442c9764dfa18334ebe8": {
      "model_module": "jupyter-js-widgets",
      "model_module_version": "~2.1.4",
      "model_name": "ButtonModel",
      "state": {
       "_model_module_version": "~2.1.4",
       "_view_module_version": "~2.1.4",
       "description": "Previous",
       "icon": "check",
       "layout": "IPY_MODEL_3b532417292c4d0cab2cb468b07c2637",
       "style": "IPY_MODEL_11beff4c3a5546e6bb7128314d4475da",
       "tooltip": "Click me"
      }
     },
     "5737625525bc4545bf6883877e385c34": {
      "model_module": "jupyter-js-widgets",
      "model_module_version": "~2.1.4",
      "model_name": "HTMLModel",
      "state": {
       "_model_module_version": "~2.1.4",
       "_view_module_version": "~2.1.4",
       "layout": "IPY_MODEL_e2e0b01e484046c3bea112260becce48",
       "value": "<img src='bp_solution.png' width='100%'>"
      }
     },
     "573abf0567dd44808b2b8436d13dbce1": {
      "model_module": "jupyter-js-widgets",
      "model_module_version": "~2.1.4",
      "model_name": "ButtonModel",
      "state": {
       "_model_module_version": "~2.1.4",
       "_view_module_version": "~2.1.4",
       "description": "Click me",
       "icon": "check",
       "layout": "IPY_MODEL_62cabd16556a46fba203000a7c60dcb6",
       "style": "IPY_MODEL_61db0b27e5e34f7c81be9468e4b67db1",
       "tooltip": "Click me"
      }
     },
     "5758e227b4874694a969f3855f261ef1": {
      "model_module": "jupyter-js-widgets",
      "model_module_version": "~2.1.4",
      "model_name": "ButtonStyleModel",
      "state": {
       "_model_module_version": "~2.1.4",
       "_view_module_version": "~2.1.4"
      }
     },
     "5778055575f640949882a3f3bfaba13f": {
      "model_module": "jupyter-js-widgets",
      "model_module_version": "~2.1.4",
      "model_name": "ButtonModel",
      "state": {
       "_model_module_version": "~2.1.4",
       "_view_module_version": "~2.1.4",
       "description": "Previous",
       "icon": "check",
       "layout": "IPY_MODEL_a49c6100c33e4be3b4f160116e3f3a4e",
       "style": "IPY_MODEL_c892a9f4528f4bd88126dd147456e0cf",
       "tooltip": "Click me"
      }
     },
     "5792e0c9e0b94b51a18de08d334d96b9": {
      "model_module": "jupyter-js-widgets",
      "model_module_version": "~2.1.4",
      "model_name": "LayoutModel",
      "state": {
       "_model_module_version": "~2.1.4",
       "_view_module_version": "~2.1.4"
      }
     },
     "57d54242428e4c67ad46993922caf5ea": {
      "model_module": "jupyter-js-widgets",
      "model_module_version": "~2.1.4",
      "model_name": "ButtonModel",
      "state": {
       "_model_module_version": "~2.1.4",
       "_view_module_version": "~2.1.4",
       "description": "Previous",
       "icon": "check",
       "layout": "IPY_MODEL_593501486dee4a0c83b7719f771f442d",
       "style": "IPY_MODEL_d1dc58748146460da5bbe9ffe8f638f1",
       "tooltip": "Click me"
      }
     },
     "57df6fa5feda4cae9c79af3f7b98407a": {
      "model_module": "jupyter-js-widgets",
      "model_module_version": "~2.1.4",
      "model_name": "LayoutModel",
      "state": {
       "_model_module_version": "~2.1.4",
       "_view_module_version": "~2.1.4"
      }
     },
     "57edbd125de44082bb1e6e8a329d4aa4": {
      "model_module": "jupyter-js-widgets",
      "model_module_version": "~2.1.4",
      "model_name": "LayoutModel",
      "state": {
       "_model_module_version": "~2.1.4",
       "_view_module_version": "~2.1.4"
      }
     },
     "57f3509349b04636a2d356668085787d": {
      "model_module": "jupyter-js-widgets",
      "model_module_version": "~2.1.4",
      "model_name": "ButtonStyleModel",
      "state": {
       "_model_module_version": "~2.1.4",
       "_view_module_version": "~2.1.4"
      }
     },
     "57f413294f454546be0319688d8418c1": {
      "model_module": "jupyter-js-widgets",
      "model_module_version": "~2.1.4",
      "model_name": "ButtonModel",
      "state": {
       "_model_module_version": "~2.1.4",
       "_view_module_version": "~2.1.4",
       "description": "Next",
       "icon": "check",
       "layout": "IPY_MODEL_5a30c606a5bf4f3a8bd07af1373481f0",
       "style": "IPY_MODEL_6d16c87919e54a9c84281781d5529c18",
       "tooltip": "Click me"
      }
     },
     "580af79e2caa409eb2765e0255eb08cf": {
      "model_module": "jupyter-js-widgets",
      "model_module_version": "~2.1.4",
      "model_name": "LayoutModel",
      "state": {
       "_model_module_version": "~2.1.4",
       "_view_module_version": "~2.1.4"
      }
     },
     "5810e7e7978a4101b627c043a1b87588": {
      "model_module": "jupyter-js-widgets",
      "model_module_version": "~2.1.4",
      "model_name": "LayoutModel",
      "state": {
       "_model_module_version": "~2.1.4",
       "_view_module_version": "~2.1.4"
      }
     },
     "58c139f937244ccca966522f7de780c8": {
      "model_module": "jupyter-js-widgets",
      "model_module_version": "~2.1.4",
      "model_name": "ButtonStyleModel",
      "state": {
       "_model_module_version": "~2.1.4",
       "_view_module_version": "~2.1.4"
      }
     },
     "58d0f0856e3842b9bb1ee4c4fd99ad5a": {
      "model_module": "jupyter-js-widgets",
      "model_module_version": "~2.1.4",
      "model_name": "HTMLModel",
      "state": {
       "_model_module_version": "~2.1.4",
       "_view_module_version": "~2.1.4",
       "layout": "IPY_MODEL_7437042a860441b5bc7b08cca8c8b6cb",
       "value": "\n<svg width=\"100%\" height=0><defs><clipPath id=\"mask\">\n<rect x=0 y=0 width='28%' height='500' /><rect x=0 y=0 width='50%' height='300' /><rect x=0 y=0 width='100%' height='50' />\n</clipPath></defs></svg>\n<style>\n.bp {\n    width: 100%;\n    -webkit-clip-path: circle(#mask);\n    clip-path: url(#mask);\n}\n</style>\n<img src=\"bp_solution.png\" class=bp>\n"
      }
     },
     "591e6729de7a4631a3d434402c78d368": {
      "model_module": "jupyter-js-widgets",
      "model_module_version": "~2.1.4",
      "model_name": "HTMLModel",
      "state": {
       "_model_module_version": "~2.1.4",
       "_view_module_version": "~2.1.4",
       "layout": "IPY_MODEL_6c4b28a05bbf4bcf8cc0d537fb175723",
       "value": "<img src='mlp.png'/>"
      }
     },
     "593501486dee4a0c83b7719f771f442d": {
      "model_module": "jupyter-js-widgets",
      "model_module_version": "~2.1.4",
      "model_name": "LayoutModel",
      "state": {
       "_model_module_version": "~2.1.4",
       "_view_module_version": "~2.1.4"
      }
     },
     "59470efefd1647dd8a37dc5b47ea0600": {
      "model_module": "jupyter-js-widgets",
      "model_module_version": "~2.1.4",
      "model_name": "LayoutModel",
      "state": {
       "_model_module_version": "~2.1.4",
       "_view_module_version": "~2.1.4"
      }
     },
     "594a32137bfb4a02a84da6c876c557b7": {
      "model_module": "jupyter-js-widgets",
      "model_module_version": "~2.1.4",
      "model_name": "LayoutModel",
      "state": {
       "_model_module_version": "~2.1.4",
       "_view_module_version": "~2.1.4"
      }
     },
     "5957b73e055d475c82268a73495d29d2": {
      "model_module": "jupyter-js-widgets",
      "model_module_version": "~2.1.4",
      "model_name": "ButtonModel",
      "state": {
       "_model_module_version": "~2.1.4",
       "_view_module_version": "~2.1.4",
       "description": "Previous",
       "layout": "IPY_MODEL_9a9d965b9e634615b98cac4c8c986676",
       "style": "IPY_MODEL_c71ac0053bf64d53b581026de711f2c8"
      }
     },
     "595a3711aa874e0f87bc9a1bebcd4377": {
      "model_module": "jupyter-js-widgets",
      "model_module_version": "~2.1.4",
      "model_name": "LayoutModel",
      "state": {
       "_model_module_version": "~2.1.4",
       "_view_module_version": "~2.1.4"
      }
     },
     "597f31fa1c704bf7bb619bbbf6635521": {
      "model_module": "jupyter-js-widgets",
      "model_module_version": "~2.1.4",
      "model_name": "LayoutModel",
      "state": {
       "_model_module_version": "~2.1.4",
       "_view_module_version": "~2.1.4"
      }
     },
     "59aced4b951e48c9ac972e3c6bbc73e8": {
      "model_module": "jupyter-js-widgets",
      "model_module_version": "~2.1.4",
      "model_name": "LayoutModel",
      "state": {
       "_model_module_version": "~2.1.4",
       "_view_module_version": "~2.1.4"
      }
     },
     "59d0daea08f94cbfbc8ce3b9e46f605a": {
      "model_module": "jupyter-js-widgets",
      "model_module_version": "~2.1.4",
      "model_name": "ButtonModel",
      "state": {
       "_model_module_version": "~2.1.4",
       "_view_module_version": "~2.1.4",
       "description": "Next",
       "icon": "check",
       "layout": "IPY_MODEL_ed4771358fc348a8b75070cf4fe8ec8c",
       "style": "IPY_MODEL_8cd53b2d805e4b3a893ac15186b972bf",
       "tooltip": "Click me"
      }
     },
     "59ea361ea4a24ca1acdcd203e392e6ed": {
      "model_module": "jupyter-js-widgets",
      "model_module_version": "~2.1.4",
      "model_name": "LayoutModel",
      "state": {
       "_model_module_version": "~2.1.4",
       "_view_module_version": "~2.1.4"
      }
     },
     "59f7cd5ce0e6488d807c441c4f8a0fde": {
      "model_module": "jupyter-js-widgets",
      "model_module_version": "~2.1.4",
      "model_name": "LayoutModel",
      "state": {
       "_model_module_version": "~2.1.4",
       "_view_module_version": "~2.1.4"
      }
     },
     "5a30c606a5bf4f3a8bd07af1373481f0": {
      "model_module": "jupyter-js-widgets",
      "model_module_version": "~2.1.4",
      "model_name": "LayoutModel",
      "state": {
       "_model_module_version": "~2.1.4",
       "_view_module_version": "~2.1.4"
      }
     },
     "5a32d33f70604316af628396ece022e6": {
      "model_module": "jupyter-js-widgets",
      "model_module_version": "~2.1.4",
      "model_name": "ButtonModel",
      "state": {
       "_model_module_version": "~2.1.4",
       "_view_module_version": "~2.1.4",
       "description": "Previous",
       "layout": "IPY_MODEL_bfb9016111684333b580ea7a1dc42e2f",
       "style": "IPY_MODEL_0185debf3ca34f9b978ababcb75e3839"
      }
     },
     "5aa288616900496289b3495f313df8df": {
      "model_module": "jupyter-js-widgets",
      "model_module_version": "~2.1.4",
      "model_name": "LayoutModel",
      "state": {
       "_model_module_version": "~2.1.4",
       "_view_module_version": "~2.1.4"
      }
     },
     "5abddbe4abf94151a4fcb5f51285f28a": {
      "model_module": "jupyter-js-widgets",
      "model_module_version": "~2.1.4",
      "model_name": "HTMLModel",
      "state": {
       "_model_module_version": "~2.1.4",
       "_view_module_version": "~2.1.4",
       "layout": "IPY_MODEL_3dbc58c89f414a979030db58f8e73a33",
       "value": "\n<svg width=\"100%\" height=0><defs><clipPath id=\"mask\">\n<rect x=0 y=0 width='28%' height='500' /><rect x=0 y=0 width='100%' height='50' />\n</clipPath></defs></svg>\n<style>\n.bp {\n    width: 100%;\n    -webkit-clip-path: circle(#mask);\n    clip-path: url(#mask);\n}\n</style>\n<img src=\"bp_solution.png\" class=bp>\n"
      }
     },
     "5affe1834d034bbdb7efbbf534fb3c77": {
      "model_module": "jupyter-js-widgets",
      "model_module_version": "~2.1.4",
      "model_name": "LayoutModel",
      "state": {
       "_model_module_version": "~2.1.4",
       "_view_module_version": "~2.1.4"
      }
     },
     "5b05ec447e744a88b7e393a8709f5532": {
      "model_module": "jupyter-js-widgets",
      "model_module_version": "~2.1.4",
      "model_name": "ButtonModel",
      "state": {
       "_model_module_version": "~2.1.4",
       "_view_module_version": "~2.1.4",
       "description": "Previous",
       "layout": "IPY_MODEL_5bc1755f527d46e0ab7bd178e3c1af12",
       "style": "IPY_MODEL_1c63a9601b6243e6a911c4b327cbed74"
      }
     },
     "5b5959797ea2475c926639aec6330962": {
      "model_module": "jupyter-js-widgets",
      "model_module_version": "~2.1.4",
      "model_name": "HTMLModel",
      "state": {
       "_model_module_version": "~2.1.4",
       "_view_module_version": "~2.1.4",
       "layout": "IPY_MODEL_8f43923ba5a64b56941b49764acedccc",
       "value": "\n<svg width=\"100%\">\n   <defs>\n    <clipPath id=\"mask\">\n      <rect x=0 y=100 width=\"50%\" height=\"500\">\n    </clipPath>\n  </defs>\n</svg>\n<style>\n.bp {\n    width: 100%;\n    -webkit-clip-path: circle(#mask);\n    clip-path: url(#mask);\n}\n</style>\n<img src=\"bp_solution.png\" class=bp>\n"
      }
     },
     "5b5c20e5eb224a60a7d51ba49e592161": {
      "model_module": "jupyter-js-widgets",
      "model_module_version": "~2.1.4",
      "model_name": "LayoutModel",
      "state": {
       "_model_module_version": "~2.1.4",
       "_view_module_version": "~2.1.4"
      }
     },
     "5b9da8f5bd2541d79eea957c2478778d": {
      "model_module": "jupyter-js-widgets",
      "model_module_version": "~2.1.4",
      "model_name": "HTMLModel",
      "state": {
       "_model_module_version": "~2.1.4",
       "_view_module_version": "~2.1.4",
       "layout": "IPY_MODEL_fc9e6310a1c44b53a5049733b4dc84b7",
       "value": "\n<svg width=\"100%\">\n   <defs>\n    <clipPath id=\"mask\">\n      <rect x=0 y=0 width=\"50%\" height=\"500\">\n    </clipPath>\n  </defs>\n</svg>\n<style>\n\n.bp {\n    \n    -webkit-clip-path: circle(#mask);\n    clip-path: url(#mask);\n}\n</style>\n<img src=\"bp_solution.png\" class=bp>\n"
      }
     },
     "5b9e4a1f58f44d5ca9ef44629a905697": {
      "model_module": "jupyter-js-widgets",
      "model_module_version": "~2.1.4",
      "model_name": "LayoutModel",
      "state": {
       "_model_module_version": "~2.1.4",
       "_view_module_version": "~2.1.4"
      }
     },
     "5bba416c281a405aa51ec165fd2d1191": {
      "model_module": "jupyter-js-widgets",
      "model_module_version": "~2.1.4",
      "model_name": "ButtonModel",
      "state": {
       "_model_module_version": "~2.1.4",
       "_view_module_version": "~2.1.4",
       "description": "Next",
       "layout": "IPY_MODEL_8b89f5a3e02f40d2a598621d3f7ec4e4",
       "style": "IPY_MODEL_f2fee77488fe465eb953f78b7efb169b"
      }
     },
     "5bc1755f527d46e0ab7bd178e3c1af12": {
      "model_module": "jupyter-js-widgets",
      "model_module_version": "~2.1.4",
      "model_name": "LayoutModel",
      "state": {
       "_model_module_version": "~2.1.4",
       "_view_module_version": "~2.1.4"
      }
     },
     "5bc5afc7cd1f484f973c2cdbd78fc75e": {
      "model_module": "jupyter-js-widgets",
      "model_module_version": "~2.1.4",
      "model_name": "LayoutModel",
      "state": {
       "_model_module_version": "~2.1.4",
       "_view_module_version": "~2.1.4"
      }
     },
     "5bf353c35506415d99ef816845ccd5a8": {
      "model_module": "jupyter-js-widgets",
      "model_module_version": "~2.1.4",
      "model_name": "ButtonStyleModel",
      "state": {
       "_model_module_version": "~2.1.4",
       "_view_module_version": "~2.1.4"
      }
     },
     "5c0064c8a4974b0092ca6d375162b310": {
      "model_module": "jupyter-js-widgets",
      "model_module_version": "~2.1.4",
      "model_name": "LayoutModel",
      "state": {
       "_model_module_version": "~2.1.4",
       "_view_module_version": "~2.1.4"
      }
     },
     "5c184bcfbb054ceaab8ec2eaa865c97e": {
      "model_module": "jupyter-js-widgets",
      "model_module_version": "~2.1.4",
      "model_name": "LayoutModel",
      "state": {
       "_model_module_version": "~2.1.4",
       "_view_module_version": "~2.1.4"
      }
     },
     "5c5467fe37bd48f28bd41365ba17b24b": {
      "model_module": "jupyter-js-widgets",
      "model_module_version": "~2.1.4",
      "model_name": "LayoutModel",
      "state": {
       "_model_module_version": "~2.1.4",
       "_view_module_version": "~2.1.4"
      }
     },
     "5cd7752806134650b71a967de4d1cd59": {
      "model_module": "jupyter-js-widgets",
      "model_module_version": "~2.1.4",
      "model_name": "ButtonModel",
      "state": {
       "_model_module_version": "~2.1.4",
       "_view_module_version": "~2.1.4",
       "description": "Previous",
       "icon": "check",
       "layout": "IPY_MODEL_42577580ed454a7e9a0481e55b7ff771",
       "style": "IPY_MODEL_18bf67bdcccc42458281363b523a4bad",
       "tooltip": "Click me"
      }
     },
     "5ce340f34ed44178ae2acc4986c6b789": {
      "model_module": "jupyter-js-widgets",
      "model_module_version": "~2.1.4",
      "model_name": "LayoutModel",
      "state": {
       "_model_module_version": "~2.1.4",
       "_view_module_version": "~2.1.4"
      }
     },
     "5cf04c997db149e8b9bca8e38921f4d5": {
      "model_module": "jupyter-js-widgets",
      "model_module_version": "~2.1.4",
      "model_name": "ButtonStyleModel",
      "state": {
       "_model_module_version": "~2.1.4",
       "_view_module_version": "~2.1.4"
      }
     },
     "5d165bbfd6394ca4b13c4bc8661df91b": {
      "model_module": "jupyter-js-widgets",
      "model_module_version": "~2.1.4",
      "model_name": "LayoutModel",
      "state": {
       "_model_module_version": "~2.1.4",
       "_view_module_version": "~2.1.4"
      }
     },
     "5d407e25203142749b34154db906d5a6": {
      "model_module": "jupyter-js-widgets",
      "model_module_version": "~2.1.4",
      "model_name": "ButtonStyleModel",
      "state": {
       "_model_module_version": "~2.1.4",
       "_view_module_version": "~2.1.4"
      }
     },
     "5d562ac5549f420cad0b6bfabbeb5dce": {
      "model_module": "jupyter-js-widgets",
      "model_module_version": "~2.1.4",
      "model_name": "LayoutModel",
      "state": {
       "_model_module_version": "~2.1.4",
       "_view_module_version": "~2.1.4"
      }
     },
     "5d59d0a8e790465c82c1b6163f936530": {
      "model_module": "jupyter-js-widgets",
      "model_module_version": "~2.1.4",
      "model_name": "VBoxModel",
      "state": {
       "_dom_classes": [
        "widget-interact"
       ],
       "_model_module_version": "~2.1.4",
       "_view_module_version": "~2.1.4",
       "layout": "IPY_MODEL_e222eb1e24a44971ad123ad278cefe3c"
      }
     },
     "5d703c3389f743b88b0afa74bfff3a66": {
      "model_module": "jupyter-js-widgets",
      "model_module_version": "~2.1.4",
      "model_name": "LayoutModel",
      "state": {
       "_model_module_version": "~2.1.4",
       "_view_module_version": "~2.1.4"
      }
     },
     "5dd7c1c44df3445ea3bcb2a9021b8e55": {
      "model_module": "jupyter-js-widgets",
      "model_module_version": "~2.1.4",
      "model_name": "ButtonModel",
      "state": {
       "_model_module_version": "~2.1.4",
       "_view_module_version": "~2.1.4",
       "description": "Next",
       "icon": "check",
       "layout": "IPY_MODEL_5d562ac5549f420cad0b6bfabbeb5dce",
       "style": "IPY_MODEL_f9772848e76a487786c05cd978705c95",
       "tooltip": "Click me"
      }
     },
     "5dff84dc9c064d0780f8f0c9d9495998": {
      "model_module": "jupyter-js-widgets",
      "model_module_version": "~2.1.4",
      "model_name": "ButtonModel",
      "state": {
       "_model_module_version": "~2.1.4",
       "_view_module_version": "~2.1.4",
       "description": "Next",
       "layout": "IPY_MODEL_269b207f7e5a45b5863982f72cda39af",
       "style": "IPY_MODEL_a99fdafb7d384f72820e361ce171fae8"
      }
     },
     "5e0844552f474bb2abbadf4614626d61": {
      "model_module": "jupyter-js-widgets",
      "model_module_version": "~2.1.4",
      "model_name": "ButtonStyleModel",
      "state": {
       "_model_module_version": "~2.1.4",
       "_view_module_version": "~2.1.4"
      }
     },
     "5e2089003ff046fba545ed9008fd6325": {
      "model_module": "jupyter-js-widgets",
      "model_module_version": "~2.1.4",
      "model_name": "HTMLModel",
      "state": {
       "_model_module_version": "~2.1.4",
       "_view_module_version": "~2.1.4",
       "layout": "IPY_MODEL_44c12b0027f24ab4b7dd6cb934fbc12f",
       "value": "<img src='bp_solution.png' width='100%' style='img{ height: 10%}'>"
      }
     },
     "5e4a0c981ff74301a372718e9149a80a": {
      "model_module": "jupyter-js-widgets",
      "model_module_version": "~2.1.4",
      "model_name": "LayoutModel",
      "state": {
       "_model_module_version": "~2.1.4",
       "_view_module_version": "~2.1.4"
      }
     },
     "5e51c0e54448438a87d9d0fde304b0cf": {
      "model_module": "jupyter-js-widgets",
      "model_module_version": "~2.1.4",
      "model_name": "ButtonStyleModel",
      "state": {
       "_model_module_version": "~2.1.4",
       "_view_module_version": "~2.1.4"
      }
     },
     "5e6cda482d57439f8c3b25ebbc25609e": {
      "model_module": "jupyter-js-widgets",
      "model_module_version": "~2.1.4",
      "model_name": "LayoutModel",
      "state": {
       "_model_module_version": "~2.1.4",
       "_view_module_version": "~2.1.4"
      }
     },
     "5ec429fc975a40428969c262c0e5b74d": {
      "model_module": "jupyter-js-widgets",
      "model_module_version": "~2.1.4",
      "model_name": "LayoutModel",
      "state": {
       "_model_module_version": "~2.1.4",
       "_view_module_version": "~2.1.4"
      }
     },
     "5f0f9c4ee7634053867605d6ea661c3a": {
      "model_module": "jupyter-js-widgets",
      "model_module_version": "~2.1.4",
      "model_name": "BoxModel",
      "state": {
       "_model_module_version": "~2.1.4",
       "_view_module_version": "~2.1.4",
       "children": [
        "IPY_MODEL_2bde616461794072ae2e3861e801df19",
        "IPY_MODEL_521a907c09be4199a76b037f9232b002"
       ],
       "layout": "IPY_MODEL_d5ac3c7f4bba43e096c5a1146b14d034"
      }
     },
     "5f660fdedc3948bc85c7754e3c19e4ff": {
      "model_module": "jupyter-js-widgets",
      "model_module_version": "~2.1.4",
      "model_name": "LayoutModel",
      "state": {
       "_model_module_version": "~2.1.4",
       "_view_module_version": "~2.1.4"
      }
     },
     "5fca6752ed034256b35a41e33f001389": {
      "model_module": "jupyter-js-widgets",
      "model_module_version": "~2.1.4",
      "model_name": "IntSliderModel",
      "state": {
       "_model_module_version": "~2.1.4",
       "_view_module_version": "~2.1.4",
       "layout": "IPY_MODEL_9ef2d62874634ea287edcb9b9247b027",
       "style": "IPY_MODEL_3d87c3bcd84347c9bbb6792d6280385b"
      }
     },
     "5ffa2604f63e4660ab77dbc64495a89e": {
      "model_module": "jupyter-js-widgets",
      "model_module_version": "~2.1.4",
      "model_name": "ButtonStyleModel",
      "state": {
       "_model_module_version": "~2.1.4",
       "_view_module_version": "~2.1.4"
      }
     },
     "6038e052ebac4622a464abf88c34a9cc": {
      "model_module": "jupyter-js-widgets",
      "model_module_version": "~2.1.4",
      "model_name": "ButtonStyleModel",
      "state": {
       "_model_module_version": "~2.1.4",
       "_view_module_version": "~2.1.4"
      }
     },
     "60521ae97a29416a96a173f11cd30a96": {
      "model_module": "jupyter-js-widgets",
      "model_module_version": "~2.1.4",
      "model_name": "ButtonStyleModel",
      "state": {
       "_model_module_version": "~2.1.4",
       "_view_module_version": "~2.1.4"
      }
     },
     "607a50cc33a945f88966001c20dc0be2": {
      "model_module": "jupyter-js-widgets",
      "model_module_version": "~2.1.4",
      "model_name": "HTMLModel",
      "state": {
       "_model_module_version": "~2.1.4",
       "_view_module_version": "~2.1.4",
       "layout": "IPY_MODEL_50869247c31640f2afd9fdba1cfe8c8a",
       "value": "\n<svg width=100% height=100%>\n   <defs>\n    <clipPath id=\"mask\">\n      <rect x=0 y=0 width=\"100%\" height=\"600>\n    </clipPath>\n  </defs>\n</svg>\n<style>\n\n.bp {\n    width: 100%;\n    -webkit-clip-path: circle(#mask);\n    clip-path: url(#mask);\n}\n</style>\n<img src=\"bp_solution.png\" class=bp>\n"
      }
     },
     "60889b545e29442c8219575a7606139a": {
      "model_module": "jupyter-js-widgets",
      "model_module_version": "~2.1.4",
      "model_name": "ButtonModel",
      "state": {
       "_model_module_version": "~2.1.4",
       "_view_module_version": "~2.1.4",
       "description": "Previous",
       "layout": "IPY_MODEL_f645ab539e374d31a5a19c1c443e61f3",
       "style": "IPY_MODEL_364562ed0a0a4399aa3940469b4bfb6b"
      }
     },
     "60a73e5b83b54deb98da37e3aa89b216": {
      "model_module": "jupyter-js-widgets",
      "model_module_version": "~2.1.4",
      "model_name": "ButtonStyleModel",
      "state": {
       "_model_module_version": "~2.1.4",
       "_view_module_version": "~2.1.4"
      }
     },
     "60b48fcacb0b4447860a055eb8fcce2b": {
      "model_module": "jupyter-js-widgets",
      "model_module_version": "~2.1.4",
      "model_name": "LayoutModel",
      "state": {
       "_model_module_version": "~2.1.4",
       "_view_module_version": "~2.1.4"
      }
     },
     "60d08aa4a0d64151bb29d04d6233efa3": {
      "model_module": "jupyter-js-widgets",
      "model_module_version": "~2.1.4",
      "model_name": "LayoutModel",
      "state": {
       "_model_module_version": "~2.1.4",
       "_view_module_version": "~2.1.4"
      }
     },
     "60d7d58f881748de8c4b3a9797b48957": {
      "model_module": "jupyter-js-widgets",
      "model_module_version": "~2.1.4",
      "model_name": "ButtonModel",
      "state": {
       "_model_module_version": "~2.1.4",
       "_view_module_version": "~2.1.4",
       "description": "Previous",
       "layout": "IPY_MODEL_b25d18df52b947b78fe190e8ce010a4c",
       "style": "IPY_MODEL_67df3dcb0ebd438e87564da5670593f5"
      }
     },
     "60dc5444de1845d88da1eb6c758b296b": {
      "model_module": "jupyter-js-widgets",
      "model_module_version": "~2.1.4",
      "model_name": "HTMLModel",
      "state": {
       "_model_module_version": "~2.1.4",
       "_view_module_version": "~2.1.4",
       "layout": "IPY_MODEL_b9d908bd24d248418ea360863de8e53a",
       "value": "\n<svg width=\"0\" height=\"0\">\n   <defs>\n    <clipPath id=\"mask\">\n      <rect x=20 y=20 width=100 height=100>\n    </clipPath>\n  </defs>\n</svg>\n<style>\n.bp {\n    width: 100%;\n    -webkit-clip-path: circle(50px);\n    clip-path: url(#mask);\n}\n</style>\n<img src=\"bp_solution.png\" class=bp>\n"
      }
     },
     "613c9708b0fa478dae4f4ea4174b6978": {
      "model_module": "jupyter-js-widgets",
      "model_module_version": "~2.1.4",
      "model_name": "HTMLModel",
      "state": {
       "_model_module_version": "~2.1.4",
       "_view_module_version": "~2.1.4",
       "layout": "IPY_MODEL_f4fa4d3cdb7547d0aeba52c3d12237a2",
       "value": "\n<svg width=\"100%\" height=0><defs><clipPath id=\"mask\">\n<rect x=0 y=380 width='28%' height='500' /><rect x=0 y=0 width='100%' height='50' />\n</clipPath></defs></svg>\n<style>\n.bp {\n    width: 100%;\n    -webkit-clip-path: circle(#mask);\n    clip-path: url(#mask);\n}\n</style>\n<img src=\"bp_solution.png\" class=bp>\n"
      }
     },
     "614b8380d4974e56b3c2a5fd3b2ca042": {
      "model_module": "jupyter-js-widgets",
      "model_module_version": "~2.1.4",
      "model_name": "ButtonModel",
      "state": {
       "_model_module_version": "~2.1.4",
       "_view_module_version": "~2.1.4",
       "description": "Next",
       "icon": "check",
       "layout": "IPY_MODEL_558fe4f026804bed891ec6ad7e8ba9e1",
       "style": "IPY_MODEL_b2ba09626055457dab571960c82cf1d8",
       "tooltip": "Click me"
      }
     },
     "616df918ec154691b9d504b430de8cb5": {
      "model_module": "jupyter-js-widgets",
      "model_module_version": "~2.1.4",
      "model_name": "LayoutModel",
      "state": {
       "_model_module_version": "~2.1.4",
       "_view_module_version": "~2.1.4"
      }
     },
     "61a8615d69164ffa863bf94936b0dfeb": {
      "model_module": "jupyter-js-widgets",
      "model_module_version": "~2.1.4",
      "model_name": "ButtonStyleModel",
      "state": {
       "_model_module_version": "~2.1.4",
       "_view_module_version": "~2.1.4"
      }
     },
     "61db0b27e5e34f7c81be9468e4b67db1": {
      "model_module": "jupyter-js-widgets",
      "model_module_version": "~2.1.4",
      "model_name": "ButtonStyleModel",
      "state": {
       "_model_module_version": "~2.1.4",
       "_view_module_version": "~2.1.4"
      }
     },
     "61de3ce6dfab4c588cc3342501ba240e": {
      "model_module": "jupyter-js-widgets",
      "model_module_version": "~2.1.4",
      "model_name": "SliderStyleModel",
      "state": {
       "_model_module_version": "~2.1.4",
       "_view_module_version": "~2.1.4"
      }
     },
     "61eedc20a7b745ef99488a233066ed7c": {
      "model_module": "jupyter-js-widgets",
      "model_module_version": "~2.1.4",
      "model_name": "ButtonModel",
      "state": {
       "_model_module_version": "~2.1.4",
       "_view_module_version": "~2.1.4",
       "description": "Previous",
       "icon": "check",
       "layout": "IPY_MODEL_4376dfa487cf4b49a2ef80f03128e7b0",
       "style": "IPY_MODEL_4376827a629942c49564823b3a8e67fb",
       "tooltip": "Click me"
      }
     },
     "620da766e67b4723a77ab3b169aa407b": {
      "model_module": "jupyter-js-widgets",
      "model_module_version": "~2.1.4",
      "model_name": "LayoutModel",
      "state": {
       "_model_module_version": "~2.1.4",
       "_view_module_version": "~2.1.4"
      }
     },
     "621fcfb973db4d1ea437d3b92ecda3e1": {
      "model_module": "jupyter-js-widgets",
      "model_module_version": "~2.1.4",
      "model_name": "LayoutModel",
      "state": {
       "_model_module_version": "~2.1.4",
       "_view_module_version": "~2.1.4"
      }
     },
     "62509f6f0f914ec9945c06677987fd98": {
      "model_module": "jupyter-js-widgets",
      "model_module_version": "~2.1.4",
      "model_name": "ButtonModel",
      "state": {
       "_model_module_version": "~2.1.4",
       "_view_module_version": "~2.1.4",
       "description": "Previous",
       "layout": "IPY_MODEL_9af18a57f0c843188bf1a16b003e9a9e",
       "style": "IPY_MODEL_897334674f2a402bb53f799da5da9b5b"
      }
     },
     "629169fdce444c6789f551953cbfb8b1": {
      "model_module": "jupyter-js-widgets",
      "model_module_version": "~2.1.4",
      "model_name": "LayoutModel",
      "state": {
       "_model_module_version": "~2.1.4",
       "_view_module_version": "~2.1.4"
      }
     },
     "62a65e6707804f2cbc6b3c3f233f92af": {
      "model_module": "jupyter-js-widgets",
      "model_module_version": "~2.1.4",
      "model_name": "ButtonModel",
      "state": {
       "_model_module_version": "~2.1.4",
       "_view_module_version": "~2.1.4",
       "description": "Previous",
       "icon": "check",
       "layout": "IPY_MODEL_44d7eae636fc4b3da7f602e20606ad9b",
       "style": "IPY_MODEL_9d4ba1257506493ab354d59e8fbfa62f",
       "tooltip": "Click me"
      }
     },
     "62c8eb437704480b89e16e66220081f6": {
      "model_module": "jupyter-js-widgets",
      "model_module_version": "~2.1.4",
      "model_name": "LayoutModel",
      "state": {
       "_model_module_version": "~2.1.4",
       "_view_module_version": "~2.1.4"
      }
     },
     "62cabd16556a46fba203000a7c60dcb6": {
      "model_module": "jupyter-js-widgets",
      "model_module_version": "~2.1.4",
      "model_name": "LayoutModel",
      "state": {
       "_model_module_version": "~2.1.4",
       "_view_module_version": "~2.1.4"
      }
     },
     "62f4d2d477af48209b0c85b2f91db2c5": {
      "model_module": "jupyter-js-widgets",
      "model_module_version": "~2.1.4",
      "model_name": "ButtonModel",
      "state": {
       "_model_module_version": "~2.1.4",
       "_view_module_version": "~2.1.4",
       "description": "Previous",
       "icon": "check",
       "layout": "IPY_MODEL_66c283350e8848b5ba91e874cbad6efc",
       "style": "IPY_MODEL_08c1dc60e361432799a4f4fbe77cbe46",
       "tooltip": "Click me"
      }
     },
     "63140ea50ab84f52a4655a9059f6f268": {
      "model_module": "jupyter-js-widgets",
      "model_module_version": "~2.1.4",
      "model_name": "ButtonModel",
      "state": {
       "_model_module_version": "~2.1.4",
       "_view_module_version": "~2.1.4",
       "description": "Next",
       "icon": "check",
       "layout": "IPY_MODEL_af8df57d11eb410e88eb3cba103ba3e6",
       "style": "IPY_MODEL_7968b206df7f4f5ab992c49dfe1cea52",
       "tooltip": "Click me"
      }
     },
     "63ee90d0a229487cb112cb6c7acc0a6b": {
      "model_module": "jupyter-js-widgets",
      "model_module_version": "~2.1.4",
      "model_name": "LayoutModel",
      "state": {
       "_model_module_version": "~2.1.4",
       "_view_module_version": "~2.1.4"
      }
     },
     "63ff8389cf94436c958c684b30d39694": {
      "model_module": "jupyter-js-widgets",
      "model_module_version": "~2.1.4",
      "model_name": "ButtonModel",
      "state": {
       "_model_module_version": "~2.1.4",
       "_view_module_version": "~2.1.4",
       "description": "Next",
       "icon": "check",
       "layout": "IPY_MODEL_dc2ca5fd4c4b4259be1a416056c5ef16",
       "style": "IPY_MODEL_bab88235cde145e58aac21da631667ef",
       "tooltip": "Click me"
      }
     },
     "64111ada6d96477cbfa0a4923469b877": {
      "model_module": "jupyter-js-widgets",
      "model_module_version": "~2.1.4",
      "model_name": "LayoutModel",
      "state": {
       "_model_module_version": "~2.1.4",
       "_view_module_version": "~2.1.4"
      }
     },
     "641eb3757288441fa07f51dd109f446a": {
      "model_module": "jupyter-js-widgets",
      "model_module_version": "~2.1.4",
      "model_name": "ButtonModel",
      "state": {
       "_model_module_version": "~2.1.4",
       "_view_module_version": "~2.1.4",
       "description": "Previous",
       "icon": "check",
       "layout": "IPY_MODEL_47033ff8325a47b5923d0ecef8e59c53",
       "style": "IPY_MODEL_2306565fea244eaebec198e131f2117f",
       "tooltip": "Click me"
      }
     },
     "6436a4aa81f04eb5a0e4011a051faeb4": {
      "model_module": "jupyter-js-widgets",
      "model_module_version": "~2.1.4",
      "model_name": "LayoutModel",
      "state": {
       "_model_module_version": "~2.1.4",
       "_view_module_version": "~2.1.4"
      }
     },
     "643e265f344340ebb81cebc81aec5d8d": {
      "model_module": "jupyter-js-widgets",
      "model_module_version": "~2.1.4",
      "model_name": "HTMLModel",
      "state": {
       "_model_module_version": "~2.1.4",
       "_view_module_version": "~2.1.4",
       "layout": "IPY_MODEL_274a1bf1e7474a85bf12019261552c7e",
       "value": "<img src='mlp.png'/>"
      }
     },
     "6442f918bd4e44debb6e7319b437486c": {
      "model_module": "jupyter-js-widgets",
      "model_module_version": "~2.1.4",
      "model_name": "LayoutModel",
      "state": {
       "_model_module_version": "~2.1.4",
       "_view_module_version": "~2.1.4"
      }
     },
     "64b3c872bcb94e78b1c9da4fdcf47383": {
      "model_module": "jupyter-js-widgets",
      "model_module_version": "~2.1.4",
      "model_name": "ButtonModel",
      "state": {
       "_model_module_version": "~2.1.4",
       "_view_module_version": "~2.1.4",
       "description": "Next",
       "layout": "IPY_MODEL_085e46f1aa2e4e6699852318ab482bf6",
       "style": "IPY_MODEL_a2662917222a4206b5b78769574ec1d7"
      }
     },
     "65026108b62c4448b0c4594dd98be83c": {
      "model_module": "jupyter-js-widgets",
      "model_module_version": "~2.1.4",
      "model_name": "ButtonModel",
      "state": {
       "_model_module_version": "~2.1.4",
       "_view_module_version": "~2.1.4",
       "description": "Previous",
       "icon": "check",
       "layout": "IPY_MODEL_45ca8d50d7b4497c8565f878469e3efc",
       "style": "IPY_MODEL_69865952e00249928c7307bd5cfd9ef9",
       "tooltip": "Click me"
      }
     },
     "65293e105e8f4d83a3cfa2863a6e14f9": {
      "model_module": "jupyter-js-widgets",
      "model_module_version": "~2.1.4",
      "model_name": "ButtonStyleModel",
      "state": {
       "_model_module_version": "~2.1.4",
       "_view_module_version": "~2.1.4"
      }
     },
     "652bd0e7f0d04d2bb0e307b220dd8997": {
      "model_module": "jupyter-js-widgets",
      "model_module_version": "~2.1.4",
      "model_name": "ButtonStyleModel",
      "state": {
       "_model_module_version": "~2.1.4",
       "_view_module_version": "~2.1.4"
      }
     },
     "654ef3b52e5046068f847740c12364bd": {
      "model_module": "jupyter-js-widgets",
      "model_module_version": "~2.1.4",
      "model_name": "ButtonModel",
      "state": {
       "_model_module_version": "~2.1.4",
       "_view_module_version": "~2.1.4",
       "description": "Next",
       "layout": "IPY_MODEL_620da766e67b4723a77ab3b169aa407b",
       "style": "IPY_MODEL_2cd706de41ef48639310a31157204c3c"
      }
     },
     "655434a66b8149cb93724b4ac875cf81": {
      "model_module": "jupyter-js-widgets",
      "model_module_version": "~2.1.4",
      "model_name": "LayoutModel",
      "state": {
       "_model_module_version": "~2.1.4",
       "_view_module_version": "~2.1.4"
      }
     },
     "65952af85dbe4bb0b56d4f99ab8f59b6": {
      "model_module": "jupyter-js-widgets",
      "model_module_version": "~2.1.4",
      "model_name": "LayoutModel",
      "state": {
       "_model_module_version": "~2.1.4",
       "_view_module_version": "~2.1.4"
      }
     },
     "65d690cf06f949f398394ed1e3e2c0a5": {
      "model_module": "jupyter-js-widgets",
      "model_module_version": "~2.1.4",
      "model_name": "ButtonModel",
      "state": {
       "_model_module_version": "~2.1.4",
       "_view_module_version": "~2.1.4",
       "description": "Next",
       "icon": "check",
       "layout": "IPY_MODEL_d2c2cf35cc594cc58dbdb3e2ad6c82a8",
       "style": "IPY_MODEL_4c93b61b113c45318bd703a0ba642348",
       "tooltip": "Click me"
      }
     },
     "65e5f0eb402144d4ae0d66cd2793d208": {
      "model_module": "jupyter-js-widgets",
      "model_module_version": "~2.1.4",
      "model_name": "HTMLModel",
      "state": {
       "_model_module_version": "~2.1.4",
       "_view_module_version": "~2.1.4",
       "layout": "IPY_MODEL_324f8dc375f849158921921695e220a2",
       "value": "<img src='bp_solution.png' width='50%'>"
      }
     },
     "6603ca456a0b433e942bac60e70ddca0": {
      "model_module": "jupyter-js-widgets",
      "model_module_version": "~2.1.4",
      "model_name": "LayoutModel",
      "state": {
       "_model_module_version": "~2.1.4",
       "_view_module_version": "~2.1.4"
      }
     },
     "661ca7f0affe476991d19d469202e7c8": {
      "model_module": "jupyter-js-widgets",
      "model_module_version": "~2.1.4",
      "model_name": "LayoutModel",
      "state": {
       "_model_module_version": "~2.1.4",
       "_view_module_version": "~2.1.4"
      }
     },
     "661d63fe1a664185b45ab2813eddc5f5": {
      "model_module": "jupyter-js-widgets",
      "model_module_version": "~2.1.4",
      "model_name": "ButtonModel",
      "state": {
       "_model_module_version": "~2.1.4",
       "_view_module_version": "~2.1.4",
       "description": "Previous",
       "icon": "check",
       "layout": "IPY_MODEL_376ae70099f943d9b7bf1c0820731c11",
       "style": "IPY_MODEL_2d72dc160a3d4180b60ce1b0ac605eda",
       "tooltip": "Click me"
      }
     },
     "6628889acc48420fb42a137c3702c5a7": {
      "model_module": "jupyter-js-widgets",
      "model_module_version": "~2.1.4",
      "model_name": "LayoutModel",
      "state": {
       "_model_module_version": "~2.1.4",
       "_view_module_version": "~2.1.4"
      }
     },
     "662d51964db940a08588fd495ab1402b": {
      "model_module": "jupyter-js-widgets",
      "model_module_version": "~2.1.4",
      "model_name": "LayoutModel",
      "state": {
       "_model_module_version": "~2.1.4",
       "_view_module_version": "~2.1.4"
      }
     },
     "66378d58c1e9402389011b8ccde62ff2": {
      "model_module": "jupyter-js-widgets",
      "model_module_version": "~2.1.4",
      "model_name": "LayoutModel",
      "state": {
       "_model_module_version": "~2.1.4",
       "_view_module_version": "~2.1.4"
      }
     },
     "664fd0e99d184424b53c26883d3cdb50": {
      "model_module": "jupyter-js-widgets",
      "model_module_version": "~2.1.4",
      "model_name": "LayoutModel",
      "state": {
       "_model_module_version": "~2.1.4",
       "_view_module_version": "~2.1.4"
      }
     },
     "666335824c744643888677f8facee817": {
      "model_module": "jupyter-js-widgets",
      "model_module_version": "~2.1.4",
      "model_name": "HTMLModel",
      "state": {
       "_model_module_version": "~2.1.4",
       "_view_module_version": "~2.1.4",
       "layout": "IPY_MODEL_427e957956f74b79a3cc9b93d6ceb8bf",
       "value": "<img src='bp_solution.png' width='100%'>"
      }
     },
     "6664a29f89794b2cbeac40dd7bd15490": {
      "model_module": "jupyter-js-widgets",
      "model_module_version": "~2.1.4",
      "model_name": "LayoutModel",
      "state": {
       "_model_module_version": "~2.1.4",
       "_view_module_version": "~2.1.4"
      }
     },
     "6677f126db4a489aac7676cdb2a885fc": {
      "model_module": "jupyter-js-widgets",
      "model_module_version": "~2.1.4",
      "model_name": "ButtonModel",
      "state": {
       "_model_module_version": "~2.1.4",
       "_view_module_version": "~2.1.4",
       "description": "Click me",
       "icon": "check",
       "layout": "IPY_MODEL_2406f4a9fe3e4f3794c0f20ea708be8a",
       "style": "IPY_MODEL_cd562664037240a9a81c7814abe0734c",
       "tooltip": "Click me"
      }
     },
     "6686e2d8d2d048fca9665644f2f14480": {
      "model_module": "jupyter-js-widgets",
      "model_module_version": "~2.1.4",
      "model_name": "ButtonModel",
      "state": {
       "_model_module_version": "~2.1.4",
       "_view_module_version": "~2.1.4",
       "description": "Previous",
       "layout": "IPY_MODEL_9874627755434fc89541ee2d29543caa",
       "style": "IPY_MODEL_38589104f73045a1b766ffd8a484889e"
      }
     },
     "66c283350e8848b5ba91e874cbad6efc": {
      "model_module": "jupyter-js-widgets",
      "model_module_version": "~2.1.4",
      "model_name": "LayoutModel",
      "state": {
       "_model_module_version": "~2.1.4",
       "_view_module_version": "~2.1.4"
      }
     },
     "66ff53580b444deab2877b001521ee27": {
      "model_module": "jupyter-js-widgets",
      "model_module_version": "~2.1.4",
      "model_name": "ButtonStyleModel",
      "state": {
       "_model_module_version": "~2.1.4",
       "_view_module_version": "~2.1.4"
      }
     },
     "671339e3d9774618a954543182200191": {
      "model_module": "jupyter-js-widgets",
      "model_module_version": "~2.1.4",
      "model_name": "LayoutModel",
      "state": {
       "_model_module_version": "~2.1.4",
       "_view_module_version": "~2.1.4"
      }
     },
     "671888c0c61c491fb136965044523fac": {
      "model_module": "jupyter-js-widgets",
      "model_module_version": "~2.1.4",
      "model_name": "ButtonStyleModel",
      "state": {
       "_model_module_version": "~2.1.4",
       "_view_module_version": "~2.1.4"
      }
     },
     "671b2bdb102a48deb324b8f4b737bd8f": {
      "model_module": "jupyter-js-widgets",
      "model_module_version": "~2.1.4",
      "model_name": "LayoutModel",
      "state": {
       "_model_module_version": "~2.1.4",
       "_view_module_version": "~2.1.4"
      }
     },
     "677e5dc5ae584cf494c3f6a9aa527d76": {
      "model_module": "jupyter-js-widgets",
      "model_module_version": "~2.1.4",
      "model_name": "LayoutModel",
      "state": {
       "_model_module_version": "~2.1.4",
       "_view_module_version": "~2.1.4"
      }
     },
     "678c1702adab4d0ca00163cf57f503cb": {
      "model_module": "jupyter-js-widgets",
      "model_module_version": "~2.1.4",
      "model_name": "ButtonModel",
      "state": {
       "_model_module_version": "~2.1.4",
       "_view_module_version": "~2.1.4",
       "description": "Previous",
       "layout": "IPY_MODEL_2d9061809f484856b6546f602a220971",
       "style": "IPY_MODEL_295db9a97a5b45c0ac1a23e9b0ec39fd"
      }
     },
     "67d66024a3e14433b40aee33c8747ca0": {
      "model_module": "jupyter-js-widgets",
      "model_module_version": "~2.1.4",
      "model_name": "ButtonModel",
      "state": {
       "_model_module_version": "~2.1.4",
       "_view_module_version": "~2.1.4",
       "description": "Next",
       "icon": "check",
       "layout": "IPY_MODEL_e8b51f66820143d5acea9dac99dda526",
       "style": "IPY_MODEL_f793a0df41cd4aac85baea0fe1244cf4",
       "tooltip": "Click me"
      }
     },
     "67df3dcb0ebd438e87564da5670593f5": {
      "model_module": "jupyter-js-widgets",
      "model_module_version": "~2.1.4",
      "model_name": "ButtonStyleModel",
      "state": {
       "_model_module_version": "~2.1.4",
       "_view_module_version": "~2.1.4"
      }
     },
     "67f68a505d74451180346d61b8367722": {
      "model_module": "jupyter-js-widgets",
      "model_module_version": "~2.1.4",
      "model_name": "ButtonStyleModel",
      "state": {
       "_model_module_version": "~2.1.4",
       "_view_module_version": "~2.1.4"
      }
     },
     "6831d4cff3fa485b88306974047c33d5": {
      "model_module": "jupyter-js-widgets",
      "model_module_version": "~2.1.4",
      "model_name": "HTMLModel",
      "state": {
       "_model_module_version": "~2.1.4",
       "_view_module_version": "~2.1.4",
       "layout": "IPY_MODEL_36d51d4c3c254b4d8c1cf3fd09e1edf9",
       "value": "<img src='bp_solution.png' width='100%' style='clip_path: circle(100 px)>"
      }
     },
     "6846fa2709ec4273b8444d877750f3e6": {
      "model_module": "jupyter-js-widgets",
      "model_module_version": "~2.1.4",
      "model_name": "LayoutModel",
      "state": {
       "_model_module_version": "~2.1.4",
       "_view_module_version": "~2.1.4"
      }
     },
     "6851814e05dc4e13ba432da0f58219f7": {
      "model_module": "jupyter-js-widgets",
      "model_module_version": "~2.1.4",
      "model_name": "LayoutModel",
      "state": {
       "_model_module_version": "~2.1.4",
       "_view_module_version": "~2.1.4"
      }
     },
     "68595f4004704e808d649b0682439eeb": {
      "model_module": "jupyter-js-widgets",
      "model_module_version": "~2.1.4",
      "model_name": "LayoutModel",
      "state": {
       "_model_module_version": "~2.1.4",
       "_view_module_version": "~2.1.4"
      }
     },
     "6865fa917da14d28a0ca083ffde74b86": {
      "model_module": "jupyter-js-widgets",
      "model_module_version": "~2.1.4",
      "model_name": "LayoutModel",
      "state": {
       "_model_module_version": "~2.1.4",
       "_view_module_version": "~2.1.4"
      }
     },
     "687713625a474ac6a960e39999bbd612": {
      "model_module": "jupyter-js-widgets",
      "model_module_version": "~2.1.4",
      "model_name": "HTMLModel",
      "state": {
       "_model_module_version": "~2.1.4",
       "_view_module_version": "~2.1.4",
       "layout": "IPY_MODEL_4dd0983c9237419a9b148a001afc9867",
       "value": "\n<svg width=\"100%\" height=0><defs><clipPath id=\"mask\">\n<rect x=0 y=0 width='100%' height='500' /><rect x=0 y=0 width='100%' height='50' />\n</clipPath></defs></svg>\n<style>\n.bp {\n    width: 100%;\n    -webkit-clip-path: circle(#mask);\n    clip-path: url(#mask);\n}\n</style>\n<img src=\"bp_solution.png\" class=bp>\n"
      }
     },
     "68788fc4f072415b9ad8db5be807cbc3": {
      "model_module": "jupyter-js-widgets",
      "model_module_version": "~2.1.4",
      "model_name": "LayoutModel",
      "state": {
       "_model_module_version": "~2.1.4",
       "_view_module_version": "~2.1.4"
      }
     },
     "68805122e98a4210b4e949e9c4425051": {
      "model_module": "jupyter-js-widgets",
      "model_module_version": "~2.1.4",
      "model_name": "HTMLModel",
      "state": {
       "_model_module_version": "~2.1.4",
       "_view_module_version": "~2.1.4",
       "layout": "IPY_MODEL_af43525006a84c7393193b91774034c7",
       "value": "\n<svg width=100% height=100%>\n   <defs>\n    <clipPath id=\"mask\">\n      <rect x=0 y=0 width=\"100%\" height=100%>\n    </clipPath>\n  </defs>\n</svg>\n<style>\n\n.bp {\n    width: 100%;\n    -webkit-clip-path: circle(#mask);\n    clip-path: url(#mask);\n}\n</style>\n<img src=\"bp_solution.png\" class=bp>\n"
      }
     },
     "68a338dbe24b401caef150d63d594ce0": {
      "model_module": "jupyter-js-widgets",
      "model_module_version": "~2.1.4",
      "model_name": "ButtonStyleModel",
      "state": {
       "_model_module_version": "~2.1.4",
       "_view_module_version": "~2.1.4"
      }
     },
     "68a52bb037d942a5a015e2ec9a78f1c4": {
      "model_module": "jupyter-js-widgets",
      "model_module_version": "~2.1.4",
      "model_name": "ButtonStyleModel",
      "state": {
       "_model_module_version": "~2.1.4",
       "_view_module_version": "~2.1.4"
      }
     },
     "68d87095e4e944698e42125bc3e8db14": {
      "model_module": "jupyter-js-widgets",
      "model_module_version": "~2.1.4",
      "model_name": "ButtonModel",
      "state": {
       "_model_module_version": "~2.1.4",
       "_view_module_version": "~2.1.4",
       "description": "Previous",
       "layout": "IPY_MODEL_512f1865831246beb504717d45bcb612",
       "style": "IPY_MODEL_502f948923b24822ac48ce3b92f0af93"
      }
     },
     "69092779ee8e4e52acaa84ec82b7eb4f": {
      "model_module": "jupyter-js-widgets",
      "model_module_version": "~2.1.4",
      "model_name": "LayoutModel",
      "state": {
       "_model_module_version": "~2.1.4",
       "_view_module_version": "~2.1.4"
      }
     },
     "696276fb33e941c695963b2caaee7d24": {
      "model_module": "jupyter-js-widgets",
      "model_module_version": "~2.1.4",
      "model_name": "HTMLModel",
      "state": {
       "_model_module_version": "~2.1.4",
       "_view_module_version": "~2.1.4",
       "layout": "IPY_MODEL_7319a0fd6fed445d84deb1b986b10dca",
       "value": "\n<style>\nimg {\n    width: 100%;\n    clip-path: circle(5px);\n}\n</style>\n<img src=\"bp_solution.png\">\n"
      }
     },
     "6975224f673b4602b1d029442345e606": {
      "model_module": "jupyter-js-widgets",
      "model_module_version": "~2.1.4",
      "model_name": "ButtonStyleModel",
      "state": {
       "_model_module_version": "~2.1.4",
       "_view_module_version": "~2.1.4"
      }
     },
     "697fdc5f169640f59af472064638be8c": {
      "model_module": "jupyter-js-widgets",
      "model_module_version": "~2.1.4",
      "model_name": "ButtonModel",
      "state": {
       "_model_module_version": "~2.1.4",
       "_view_module_version": "~2.1.4",
       "description": "Previous",
       "layout": "IPY_MODEL_594a32137bfb4a02a84da6c876c557b7",
       "style": "IPY_MODEL_42466d4825e047fb9a7d6ae7e4bd5785"
      }
     },
     "69865952e00249928c7307bd5cfd9ef9": {
      "model_module": "jupyter-js-widgets",
      "model_module_version": "~2.1.4",
      "model_name": "ButtonStyleModel",
      "state": {
       "_model_module_version": "~2.1.4",
       "_view_module_version": "~2.1.4"
      }
     },
     "6989052c6edd43129c7ffb7baa5a54c3": {
      "model_module": "jupyter-js-widgets",
      "model_module_version": "~2.1.4",
      "model_name": "ButtonStyleModel",
      "state": {
       "_model_module_version": "~2.1.4",
       "_view_module_version": "~2.1.4"
      }
     },
     "69d470045b614021aed1eaf949fcdfd6": {
      "model_module": "jupyter-js-widgets",
      "model_module_version": "~2.1.4",
      "model_name": "LayoutModel",
      "state": {
       "_model_module_version": "~2.1.4",
       "_view_module_version": "~2.1.4"
      }
     },
     "69d8870bef054935853218ad9e7e3b09": {
      "model_module": "jupyter-js-widgets",
      "model_module_version": "~2.1.4",
      "model_name": "ButtonModel",
      "state": {
       "_model_module_version": "~2.1.4",
       "_view_module_version": "~2.1.4",
       "description": "Previous",
       "icon": "check",
       "layout": "IPY_MODEL_dfb922fcb8ea40fc855d660a360bc806",
       "style": "IPY_MODEL_bfb22c9603e64295a44c51ee887be9e5",
       "tooltip": "Click me"
      }
     },
     "69e5441af60248429371035f7da88989": {
      "model_module": "jupyter-js-widgets",
      "model_module_version": "~2.1.4",
      "model_name": "ButtonModel",
      "state": {
       "_model_module_version": "~2.1.4",
       "_view_module_version": "~2.1.4",
       "description": "Next",
       "layout": "IPY_MODEL_972cf6bd1bcb4c76b7a39916c8f06695",
       "style": "IPY_MODEL_e063f702c4694b69824bb260d2525b8f"
      }
     },
     "69ef506ed13b46f8a8f33d510db43daa": {
      "model_module": "jupyter-js-widgets",
      "model_module_version": "~2.1.4",
      "model_name": "ButtonStyleModel",
      "state": {
       "_model_module_version": "~2.1.4",
       "_view_module_version": "~2.1.4"
      }
     },
     "69fdd7ab230348a3a90a1b30b574df33": {
      "model_module": "jupyter-js-widgets",
      "model_module_version": "~2.1.4",
      "model_name": "ButtonModel",
      "state": {
       "_model_module_version": "~2.1.4",
       "_view_module_version": "~2.1.4",
       "description": "Next",
       "layout": "IPY_MODEL_fbcece8864f744629615fabcb035c324",
       "style": "IPY_MODEL_acdf308c4cba45fc8b6054bdfa6b1685"
      }
     },
     "6a055d472771472fb50a9ed6b6f53da1": {
      "model_module": "jupyter-js-widgets",
      "model_module_version": "~2.1.4",
      "model_name": "HTMLModel",
      "state": {
       "_model_module_version": "~2.1.4",
       "_view_module_version": "~2.1.4",
       "layout": "IPY_MODEL_d910345fff944e1488c4e64103add078",
       "value": "\n<svg width=\"100%\" height=0><defs><clipPath id=\"mask\">\n<rect x=0 y=0 width='100%' height='50' /><rect x=0 y=0 width='28%' height='500' /><rect x=0 y=0 width='72%' height='310' /><rect x='62%' y=0 width='100%' height='240' /><rect x='70%' y=0 width='100%' height='330' />\n</clipPath></defs></svg>\n<style>\nimg {\n    display: block;\n    margin: 0 auto;\n}\n.bp {\n    width: 100%;\n    -webkit-clip-path: circle(#mask);\n    clip-path: url(#mask);\n}\n</style>\n<img src='mlp.png' text-align='center'>\n<img src=\"bp_solution.png\" class=bp />\n"
      }
     },
     "6a1b56ad362b44e4a6a0a6ac6c9b7e4c": {
      "model_module": "jupyter-js-widgets",
      "model_module_version": "~2.1.4",
      "model_name": "LayoutModel",
      "state": {
       "_model_module_version": "~2.1.4",
       "_view_module_version": "~2.1.4"
      }
     },
     "6a214f2a5ba44d3ea9c24978f4f3768b": {
      "model_module": "jupyter-js-widgets",
      "model_module_version": "~2.1.4",
      "model_name": "ButtonStyleModel",
      "state": {
       "_model_module_version": "~2.1.4",
       "_view_module_version": "~2.1.4"
      }
     },
     "6a2dad3a972e479193cc29acf41e911b": {
      "model_module": "jupyter-js-widgets",
      "model_module_version": "~2.1.4",
      "model_name": "ButtonStyleModel",
      "state": {
       "_model_module_version": "~2.1.4",
       "_view_module_version": "~2.1.4"
      }
     },
     "6a355c702fd945a0a5c7b5466710a54b": {
      "model_module": "jupyter-js-widgets",
      "model_module_version": "~2.1.4",
      "model_name": "ButtonStyleModel",
      "state": {
       "_model_module_version": "~2.1.4",
       "_view_module_version": "~2.1.4"
      }
     },
     "6a782d04f2c6419eafd289363c4ff17e": {
      "model_module": "jupyter-js-widgets",
      "model_module_version": "~2.1.4",
      "model_name": "HTMLModel",
      "state": {
       "_model_module_version": "~2.1.4",
       "_view_module_version": "~2.1.4",
       "layout": "IPY_MODEL_36d84fa514e7411bad1aad2926b9b1aa",
       "value": "\n<svg width=\"0\" height=\"0\">\n   <defs>\n    <clipPath id=\"mask\">\n      <rect x=20 y=20 width=\"50%\" height=\"50%\">\n    </clipPath>\n  </defs>\n</svg>\n<style>\n.bp {\n    width: 100%;\n    -webkit-clip-path: circle(50px);\n    clip-path: url(#mask);\n}\n</style>\n<img src=\"bp_solution.png\" class=bp>\n"
      }
     },
     "6a8913996d00406dbe36fcbac91368da": {
      "model_module": "jupyter-js-widgets",
      "model_module_version": "~2.1.4",
      "model_name": "ButtonStyleModel",
      "state": {
       "_model_module_version": "~2.1.4",
       "_view_module_version": "~2.1.4"
      }
     },
     "6a92b3bc78c84fe28197196a574c51af": {
      "model_module": "jupyter-js-widgets",
      "model_module_version": "~2.1.4",
      "model_name": "ButtonStyleModel",
      "state": {
       "_model_module_version": "~2.1.4",
       "_view_module_version": "~2.1.4"
      }
     },
     "6af6423c4e3f4baa85e9147259d4e48f": {
      "model_module": "jupyter-js-widgets",
      "model_module_version": "~2.1.4",
      "model_name": "LayoutModel",
      "state": {
       "_model_module_version": "~2.1.4",
       "_view_module_version": "~2.1.4"
      }
     },
     "6b19417614224bb29844c45d44dffd7e": {
      "model_module": "jupyter-js-widgets",
      "model_module_version": "~2.1.4",
      "model_name": "ButtonModel",
      "state": {
       "_model_module_version": "~2.1.4",
       "_view_module_version": "~2.1.4",
       "description": "Next",
       "layout": "IPY_MODEL_af2d7076995e43b7a374eb901bf46e67",
       "style": "IPY_MODEL_58c139f937244ccca966522f7de780c8"
      }
     },
     "6b363d4d391f4429bcf914088bcdc586": {
      "model_module": "jupyter-js-widgets",
      "model_module_version": "~2.1.4",
      "model_name": "ButtonStyleModel",
      "state": {
       "_model_module_version": "~2.1.4",
       "_view_module_version": "~2.1.4"
      }
     },
     "6b5b12306c69411f8e55fd39ed93631c": {
      "model_module": "jupyter-js-widgets",
      "model_module_version": "~2.1.4",
      "model_name": "ButtonStyleModel",
      "state": {
       "_model_module_version": "~2.1.4",
       "_view_module_version": "~2.1.4"
      }
     },
     "6b7abec968b44842a9c530e3a09df46c": {
      "model_module": "jupyter-js-widgets",
      "model_module_version": "~2.1.4",
      "model_name": "ButtonStyleModel",
      "state": {
       "_model_module_version": "~2.1.4",
       "_view_module_version": "~2.1.4"
      }
     },
     "6b9bfd785f56438f9c615489c31b34f5": {
      "model_module": "jupyter-js-widgets",
      "model_module_version": "~2.1.4",
      "model_name": "LayoutModel",
      "state": {
       "_model_module_version": "~2.1.4",
       "_view_module_version": "~2.1.4"
      }
     },
     "6baaf3cec9c144e587cf8d75b889d9a0": {
      "model_module": "jupyter-js-widgets",
      "model_module_version": "~2.1.4",
      "model_name": "ButtonStyleModel",
      "state": {
       "_model_module_version": "~2.1.4",
       "_view_module_version": "~2.1.4"
      }
     },
     "6bb6bc9d32ba47c7bae644b12fa64b99": {
      "model_module": "jupyter-js-widgets",
      "model_module_version": "~2.1.4",
      "model_name": "LayoutModel",
      "state": {
       "_model_module_version": "~2.1.4",
       "_view_module_version": "~2.1.4"
      }
     },
     "6be1c0452b884f43993eb4bc652cde8b": {
      "model_module": "jupyter-js-widgets",
      "model_module_version": "~2.1.4",
      "model_name": "HTMLModel",
      "state": {
       "_model_module_version": "~2.1.4",
       "_view_module_version": "~2.1.4",
       "layout": "IPY_MODEL_cbcd24e95f4e4bff964b0ebf813a35ba",
       "value": "\n<svg width=\"100%\" height=0><defs><clipPath id=\"mask\">\n<rect x=0 y=0 width='28%' height='500' /><rect x=0 y=0 width='72%' height='310' /><rect x='70%' y=0 width='30%' height='100' /><rect x=0 y=0 width='100%' height='50' />\n</clipPath></defs></svg>\n<style>\n.bp {\n    width: 100%;\n    -webkit-clip-path: circle(#mask);\n    clip-path: url(#mask);\n}\n</style>\n<img src=\"bp_solution.png\" class=bp>\n"
      }
     },
     "6bfb6e0a863640f99cac5402106288d3": {
      "model_module": "jupyter-js-widgets",
      "model_module_version": "~2.1.4",
      "model_name": "LayoutModel",
      "state": {
       "_model_module_version": "~2.1.4",
       "_view_module_version": "~2.1.4"
      }
     },
     "6c0375358e1a40448fe352797106177a": {
      "model_module": "jupyter-js-widgets",
      "model_module_version": "~2.1.4",
      "model_name": "ButtonModel",
      "state": {
       "_model_module_version": "~2.1.4",
       "_view_module_version": "~2.1.4",
       "description": "Previous",
       "icon": "check",
       "layout": "IPY_MODEL_2fc15ffa92124f0796715297fc8c687f",
       "style": "IPY_MODEL_74a6fddea9d2457eb4431c9bb5661c11",
       "tooltip": "Click me"
      }
     },
     "6c0e2911a25c41009501a0487aca9bd8": {
      "model_module": "jupyter-js-widgets",
      "model_module_version": "~2.1.4",
      "model_name": "ButtonStyleModel",
      "state": {
       "_model_module_version": "~2.1.4",
       "_view_module_version": "~2.1.4"
      }
     },
     "6c12e458e82d4cb38ba402876b00331a": {
      "model_module": "jupyter-js-widgets",
      "model_module_version": "~2.1.4",
      "model_name": "ButtonStyleModel",
      "state": {
       "_model_module_version": "~2.1.4",
       "_view_module_version": "~2.1.4"
      }
     },
     "6c3ca29422f4402ca7e5a8a3dd8c79e5": {
      "model_module": "jupyter-js-widgets",
      "model_module_version": "~2.1.4",
      "model_name": "LayoutModel",
      "state": {
       "_model_module_version": "~2.1.4",
       "_view_module_version": "~2.1.4"
      }
     },
     "6c4b28a05bbf4bcf8cc0d537fb175723": {
      "model_module": "jupyter-js-widgets",
      "model_module_version": "~2.1.4",
      "model_name": "LayoutModel",
      "state": {
       "_model_module_version": "~2.1.4",
       "_view_module_version": "~2.1.4"
      }
     },
     "6c6afe1c9f0c4372a7ae41bba74ac90f": {
      "model_module": "jupyter-js-widgets",
      "model_module_version": "~2.1.4",
      "model_name": "ButtonStyleModel",
      "state": {
       "_model_module_version": "~2.1.4",
       "_view_module_version": "~2.1.4"
      }
     },
     "6cbdb44f67e642c79d76390ffe82303a": {
      "model_module": "jupyter-js-widgets",
      "model_module_version": "~2.1.4",
      "model_name": "HTMLModel",
      "state": {
       "_model_module_version": "~2.1.4",
       "_view_module_version": "~2.1.4",
       "layout": "IPY_MODEL_9eb412ff76924caea492bd2ac791f4e7",
       "value": "<img src='bp_solution.png' width='100%'>"
      }
     },
     "6cd1faddd9ee480cbda793c3cc64cfe6": {
      "model_module": "jupyter-js-widgets",
      "model_module_version": "~2.1.4",
      "model_name": "LayoutModel",
      "state": {
       "_model_module_version": "~2.1.4",
       "_view_module_version": "~2.1.4"
      }
     },
     "6cd7b8a84b1b4a2b85b35324655d6bd0": {
      "model_module": "jupyter-js-widgets",
      "model_module_version": "~2.1.4",
      "model_name": "LayoutModel",
      "state": {
       "_model_module_version": "~2.1.4",
       "_view_module_version": "~2.1.4"
      }
     },
     "6cdb682a330545ddbc5596b05e8836c3": {
      "model_module": "jupyter-js-widgets",
      "model_module_version": "~2.1.4",
      "model_name": "ButtonModel",
      "state": {
       "_model_module_version": "~2.1.4",
       "_view_module_version": "~2.1.4",
       "description": "Click me",
       "icon": "check",
       "layout": "IPY_MODEL_77f6de73f0b544dab901350132f75cca",
       "style": "IPY_MODEL_b79e18e890074eafafd8017775394332",
       "tooltip": "Click me"
      }
     },
     "6ce7d3499e254ac4b90529397bf5e8c4": {
      "model_module": "jupyter-js-widgets",
      "model_module_version": "~2.1.4",
      "model_name": "LayoutModel",
      "state": {
       "_model_module_version": "~2.1.4",
       "_view_module_version": "~2.1.4"
      }
     },
     "6d16c87919e54a9c84281781d5529c18": {
      "model_module": "jupyter-js-widgets",
      "model_module_version": "~2.1.4",
      "model_name": "ButtonStyleModel",
      "state": {
       "_model_module_version": "~2.1.4",
       "_view_module_version": "~2.1.4"
      }
     },
     "6d8bf3ce088543cb87d560dcdff4188a": {
      "model_module": "jupyter-js-widgets",
      "model_module_version": "~2.1.4",
      "model_name": "LayoutModel",
      "state": {
       "_model_module_version": "~2.1.4",
       "_view_module_version": "~2.1.4"
      }
     },
     "6db299a2cd19453fbd4d3d740aca9ec4": {
      "model_module": "jupyter-js-widgets",
      "model_module_version": "~2.1.4",
      "model_name": "HTMLModel",
      "state": {
       "_model_module_version": "~2.1.4",
       "_view_module_version": "~2.1.4",
       "layout": "IPY_MODEL_53e59c1a09c949709d80a298d796e032",
       "value": "\n<svg width=\"100%\" height=0><defs><clipPath id=\"mask\">\n<rect x=0 y=340 width='28%' height='500' /><rect x=0 y=0 width='100%' height='50' />\n</clipPath></defs></svg>\n<style>\n.bp {\n    width: 100%;\n    -webkit-clip-path: circle(#mask);\n    clip-path: url(#mask);\n}\n</style>\n<img src=\"bp_solution.png\" class=bp>\n"
      }
     },
     "6db3d0c6a46f44ad911723432eda2cdd": {
      "model_module": "jupyter-js-widgets",
      "model_module_version": "~2.1.4",
      "model_name": "LayoutModel",
      "state": {
       "_model_module_version": "~2.1.4",
       "_view_module_version": "~2.1.4"
      }
     },
     "6de0867013524069bd354796a7e61a21": {
      "model_module": "jupyter-js-widgets",
      "model_module_version": "~2.1.4",
      "model_name": "LayoutModel",
      "state": {
       "_model_module_version": "~2.1.4",
       "_view_module_version": "~2.1.4"
      }
     },
     "6df1141f1fb942f7b109e842377c3351": {
      "model_module": "jupyter-js-widgets",
      "model_module_version": "~2.1.4",
      "model_name": "IntSliderModel",
      "state": {
       "_model_module_version": "~2.1.4",
       "_view_module_version": "~2.1.4",
       "layout": "IPY_MODEL_82679f7d96ac41149e457e053f685c38",
       "style": "IPY_MODEL_3fef412f10f145cfba038230528effcc"
      }
     },
     "6df32937de384ac5b570a7aaff7ae344": {
      "model_module": "jupyter-js-widgets",
      "model_module_version": "~2.1.4",
      "model_name": "ButtonModel",
      "state": {
       "_model_module_version": "~2.1.4",
       "_view_module_version": "~2.1.4",
       "description": "Next",
       "icon": "check",
       "layout": "IPY_MODEL_c60ca01b3a264839891672e81864de3e",
       "style": "IPY_MODEL_ea6c43ed587c457d9f26e8f0feaf2f69",
       "tooltip": "Click me"
      }
     },
     "6e46c80d00b64061b1f7012aa37f3eae": {
      "model_module": "jupyter-js-widgets",
      "model_module_version": "~2.1.4",
      "model_name": "ButtonModel",
      "state": {
       "_model_module_version": "~2.1.4",
       "_view_module_version": "~2.1.4",
       "description": "Next",
       "icon": "check",
       "layout": "IPY_MODEL_a6e1f9cdb136469daef90804ccb0a053",
       "style": "IPY_MODEL_08123b95347f4252a96254859176740b",
       "tooltip": "Click me"
      }
     },
     "6e59768042e24b28918f2d1fc61c0889": {
      "model_module": "jupyter-js-widgets",
      "model_module_version": "~2.1.4",
      "model_name": "ButtonStyleModel",
      "state": {
       "_model_module_version": "~2.1.4",
       "_view_module_version": "~2.1.4"
      }
     },
     "6e5be914c53440a48b2e0bcdc4793c07": {
      "model_module": "jupyter-js-widgets",
      "model_module_version": "~2.1.4",
      "model_name": "ButtonModel",
      "state": {
       "_model_module_version": "~2.1.4",
       "_view_module_version": "~2.1.4",
       "description": "Next",
       "layout": "IPY_MODEL_f50da3025d1d4c5f84448f1083aef9d0",
       "style": "IPY_MODEL_5e0844552f474bb2abbadf4614626d61"
      }
     },
     "6e8a5547cc394b96bf008d4c50eac08c": {
      "model_module": "jupyter-js-widgets",
      "model_module_version": "~2.1.4",
      "model_name": "ButtonModel",
      "state": {
       "_model_module_version": "~2.1.4",
       "_view_module_version": "~2.1.4",
       "description": "Previous",
       "layout": "IPY_MODEL_bc51e0dd181245359b8771e1f2cb8dec",
       "style": "IPY_MODEL_8d5870a167b448569d6e4926c0e5fcab"
      }
     },
     "6ed6fc598ea24efab949c5c701587950": {
      "model_module": "jupyter-js-widgets",
      "model_module_version": "~2.1.4",
      "model_name": "ButtonModel",
      "state": {
       "_model_module_version": "~2.1.4",
       "_view_module_version": "~2.1.4",
       "description": "Previous",
       "layout": "IPY_MODEL_def198b64feb491c8dc8b00264752511",
       "style": "IPY_MODEL_b9082bf9db5944519539ba6572425caf"
      }
     },
     "6f0fcc1951074e4d880fc421eeafb127": {
      "model_module": "jupyter-js-widgets",
      "model_module_version": "~2.1.4",
      "model_name": "LayoutModel",
      "state": {
       "_model_module_version": "~2.1.4",
       "_view_module_version": "~2.1.4"
      }
     },
     "6f4cd6366cb344dc83d82e3f350d38a9": {
      "model_module": "jupyter-js-widgets",
      "model_module_version": "~2.1.4",
      "model_name": "ButtonModel",
      "state": {
       "_model_module_version": "~2.1.4",
       "_view_module_version": "~2.1.4",
       "description": "Previous",
       "icon": "check",
       "layout": "IPY_MODEL_c17885efbd03487b8d7bc326df3a1028",
       "style": "IPY_MODEL_4b7951fb8a5d4de58271c4542502f879",
       "tooltip": "Click me"
      }
     },
     "6f715669ae0d4a8cbc54cac886556437": {
      "model_module": "jupyter-js-widgets",
      "model_module_version": "~2.1.4",
      "model_name": "ButtonStyleModel",
      "state": {
       "_model_module_version": "~2.1.4",
       "_view_module_version": "~2.1.4"
      }
     },
     "6fa1af851c75488783a654dffae876a1": {
      "model_module": "jupyter-js-widgets",
      "model_module_version": "~2.1.4",
      "model_name": "LayoutModel",
      "state": {
       "_model_module_version": "~2.1.4",
       "_view_module_version": "~2.1.4"
      }
     },
     "6fa7e9c4ce964a42a3c4ae34287f87f7": {
      "model_module": "jupyter-js-widgets",
      "model_module_version": "~2.1.4",
      "model_name": "ButtonStyleModel",
      "state": {
       "_model_module_version": "~2.1.4",
       "_view_module_version": "~2.1.4"
      }
     },
     "6fb99e53427f412086731b870bb02071": {
      "model_module": "jupyter-js-widgets",
      "model_module_version": "~2.1.4",
      "model_name": "ButtonStyleModel",
      "state": {
       "_model_module_version": "~2.1.4",
       "_view_module_version": "~2.1.4"
      }
     },
     "6fe8fb40567c46f0b671a421b09fbc22": {
      "model_module": "jupyter-js-widgets",
      "model_module_version": "~2.1.4",
      "model_name": "LayoutModel",
      "state": {
       "_model_module_version": "~2.1.4",
       "_view_module_version": "~2.1.4"
      }
     },
     "6ffa532dbc814fb8a2f2dfea9d98cbd3": {
      "model_module": "jupyter-js-widgets",
      "model_module_version": "~2.1.4",
      "model_name": "ButtonModel",
      "state": {
       "_model_module_version": "~2.1.4",
       "_view_module_version": "~2.1.4",
       "description": "Previous",
       "icon": "check",
       "layout": "IPY_MODEL_2979e212590a475aaf95fb0e700d02e6",
       "style": "IPY_MODEL_c6b9e2019bfa460caa3f50ba266db36d",
       "tooltip": "Click me"
      }
     },
     "6fff265001694ec2b1f34ac37e26d121": {
      "model_module": "jupyter-js-widgets",
      "model_module_version": "~2.1.4",
      "model_name": "LayoutModel",
      "state": {
       "_model_module_version": "~2.1.4",
       "_view_module_version": "~2.1.4"
      }
     },
     "70320d43ed434f47a3a10ce8ed32d2d3": {
      "model_module": "jupyter-js-widgets",
      "model_module_version": "~2.1.4",
      "model_name": "LayoutModel",
      "state": {
       "_model_module_version": "~2.1.4",
       "_view_module_version": "~2.1.4"
      }
     },
     "703a1313954f4904ac9612f1d98385c8": {
      "model_module": "jupyter-js-widgets",
      "model_module_version": "~2.1.4",
      "model_name": "ButtonModel",
      "state": {
       "_model_module_version": "~2.1.4",
       "_view_module_version": "~2.1.4",
       "description": "Click me",
       "icon": "check",
       "layout": "IPY_MODEL_e44a373c0f104404ad3515cdc1a5b764",
       "style": "IPY_MODEL_0c5df3f8996148e48743091af38ac8cf",
       "tooltip": "Click me"
      }
     },
     "703b0d95f83f4106a3f835aacb1afa6f": {
      "model_module": "jupyter-js-widgets",
      "model_module_version": "~2.1.4",
      "model_name": "LayoutModel",
      "state": {
       "_model_module_version": "~2.1.4",
       "_view_module_version": "~2.1.4"
      }
     },
     "703c79350f60455994371892ee3527d5": {
      "model_module": "jupyter-js-widgets",
      "model_module_version": "~2.1.4",
      "model_name": "ButtonStyleModel",
      "state": {
       "_model_module_version": "~2.1.4",
       "_view_module_version": "~2.1.4"
      }
     },
     "70405b939af54a418be61c810b058da0": {
      "model_module": "jupyter-js-widgets",
      "model_module_version": "~2.1.4",
      "model_name": "ButtonModel",
      "state": {
       "_model_module_version": "~2.1.4",
       "_view_module_version": "~2.1.4",
       "description": "Next",
       "icon": "check",
       "layout": "IPY_MODEL_95d0a904b6974b68822024759b01bc2b",
       "style": "IPY_MODEL_8dc969e8749d4a0088dc1698732f9b35",
       "tooltip": "Click me"
      }
     },
     "707865ed8e014684858b612b79396027": {
      "model_module": "jupyter-js-widgets",
      "model_module_version": "~2.1.4",
      "model_name": "ButtonStyleModel",
      "state": {
       "_model_module_version": "~2.1.4",
       "_view_module_version": "~2.1.4"
      }
     },
     "70b91410955a40e2a394de27a4c72c6c": {
      "model_module": "jupyter-js-widgets",
      "model_module_version": "~2.1.4",
      "model_name": "HTMLModel",
      "state": {
       "_model_module_version": "~2.1.4",
       "_view_module_version": "~2.1.4",
       "layout": "IPY_MODEL_8bc8a042227c4b75ae999872ba4db230",
       "value": "\n<svg width=\"100%\" height=0><defs><clipPath id=\"mask\">\n<rect x=0 y=0 width='28%' height='500' /><rect x=0 y=0 width='72%' height='170' /><rect x='65%' y=0 width='100%' height='250' /><rect x=0 y=0 width='100%' height='50' />\n</clipPath></defs></svg>\n<style>\n.bp {\n    width: 100%;\n    -webkit-clip-path: circle(#mask);\n    clip-path: url(#mask);\n}\n</style>\n<img src=\"bp_solution.png\" class=bp>\n"
      }
     },
     "70f14974874c43ada39626ffa7e0415f": {
      "model_module": "jupyter-js-widgets",
      "model_module_version": "~2.1.4",
      "model_name": "ButtonStyleModel",
      "state": {
       "_model_module_version": "~2.1.4",
       "_view_module_version": "~2.1.4"
      }
     },
     "70f9843a2b974f02bd0b43ec23e0b8f1": {
      "model_module": "jupyter-js-widgets",
      "model_module_version": "~2.1.4",
      "model_name": "HTMLModel",
      "state": {
       "_model_module_version": "~2.1.4",
       "_view_module_version": "~2.1.4",
       "layout": "IPY_MODEL_d874814dcd4b427c82250b1af431373a",
       "value": "<img src='bp_solution.png' width='100%'>"
      }
     },
     "7107fbfabbaa4908b0788be74901f40d": {
      "model_module": "jupyter-js-widgets",
      "model_module_version": "~2.1.4",
      "model_name": "LayoutModel",
      "state": {
       "_model_module_version": "~2.1.4",
       "_view_module_version": "~2.1.4"
      }
     },
     "7117893a62f5421ba669183d4ece5b67": {
      "model_module": "jupyter-js-widgets",
      "model_module_version": "~2.1.4",
      "model_name": "BoxModel",
      "state": {
       "_model_module_version": "~2.1.4",
       "_view_module_version": "~2.1.4",
       "children": [
        "IPY_MODEL_77cc5d4d68be487b8636f4b7cc784139",
        "IPY_MODEL_811c6e98a256448d88c5b1ad5a55de43"
       ],
       "layout": "IPY_MODEL_3cf919ded0704073a9116cb2d9bad923"
      }
     },
     "7138201114bc40058122c700c1dfe432": {
      "model_module": "jupyter-js-widgets",
      "model_module_version": "~2.1.4",
      "model_name": "LayoutModel",
      "state": {
       "_model_module_version": "~2.1.4",
       "_view_module_version": "~2.1.4"
      }
     },
     "716d183b27c943da8620a9d3ab8b31d6": {
      "model_module": "jupyter-js-widgets",
      "model_module_version": "~2.1.4",
      "model_name": "LayoutModel",
      "state": {
       "_model_module_version": "~2.1.4",
       "_view_module_version": "~2.1.4"
      }
     },
     "7170be55ecb14dc685e2a664b4597607": {
      "model_module": "jupyter-js-widgets",
      "model_module_version": "~2.1.4",
      "model_name": "HTMLModel",
      "state": {
       "_model_module_version": "~2.1.4",
       "_view_module_version": "~2.1.4",
       "layout": "IPY_MODEL_ae947fe68af74664b2570933a82c1a05",
       "value": "\n<img src=\"bp_solution.png\" width=\"10%\">\n"
      }
     },
     "7174d90688de4a45b10db16cd653ca1d": {
      "model_module": "jupyter-js-widgets",
      "model_module_version": "~2.1.4",
      "model_name": "LayoutModel",
      "state": {
       "_model_module_version": "~2.1.4",
       "_view_module_version": "~2.1.4"
      }
     },
     "718b04beb79e4b96b43bb99c70b66626": {
      "model_module": "jupyter-js-widgets",
      "model_module_version": "~2.1.4",
      "model_name": "HTMLModel",
      "state": {
       "_model_module_version": "~2.1.4",
       "_view_module_version": "~2.1.4",
       "layout": "IPY_MODEL_09e2c9fa1a8b4c768bbc6983e5115ae3",
       "value": "\n<style>\nimg {\n    width: 100%;\n    clip-path: circle(5px);\n}\n</style>\n<img src=\"bp_solution.png\">\n"
      }
     },
     "71affd95826c4c04a82b8d44de364ac7": {
      "model_module": "jupyter-js-widgets",
      "model_module_version": "~2.1.4",
      "model_name": "ButtonModel",
      "state": {
       "_model_module_version": "~2.1.4",
       "_view_module_version": "~2.1.4",
       "description": "Previous",
       "icon": "check",
       "layout": "IPY_MODEL_01399b5aae9049b1aa6e48c017a26f4d",
       "style": "IPY_MODEL_5352d2ae70684b2a9056b60eb962844a",
       "tooltip": "Click me"
      }
     },
     "71cd23c8658e45d28246a5b8c452f706": {
      "model_module": "jupyter-js-widgets",
      "model_module_version": "~2.1.4",
      "model_name": "ButtonModel",
      "state": {
       "_model_module_version": "~2.1.4",
       "_view_module_version": "~2.1.4",
       "description": "Previous",
       "icon": "check",
       "layout": "IPY_MODEL_a96d652740464b849fe340be0d6396c6",
       "style": "IPY_MODEL_b679d7e7145849c280fdb09dbb3113b5",
       "tooltip": "Click me"
      }
     },
     "71d4d0d5a2494487bdc423e01ecd3709": {
      "model_module": "jupyter-js-widgets",
      "model_module_version": "~2.1.4",
      "model_name": "HTMLModel",
      "state": {
       "_model_module_version": "~2.1.4",
       "_view_module_version": "~2.1.4",
       "layout": "IPY_MODEL_6bfb6e0a863640f99cac5402106288d3",
       "value": "\n<svg width=\"100%\" height=0><defs><clipPath id=\"mask\">\n<rect x=0 y=0 width='28%' height='500' /><rect x=0 y=0 width='50%' height='380' /><rect x=0 y=0 width='100%' height='50' />\n</clipPath></defs></svg>\n<style>\n.bp {\n    width: 100%;\n    -webkit-clip-path: circle(#mask);\n    clip-path: url(#mask);\n}\n</style>\n<img src=\"bp_solution.png\" class=bp>\n"
      }
     },
     "71e12667349f41249f550defb2eca690": {
      "model_module": "jupyter-js-widgets",
      "model_module_version": "~2.1.4",
      "model_name": "ButtonStyleModel",
      "state": {
       "_model_module_version": "~2.1.4",
       "_view_module_version": "~2.1.4"
      }
     },
     "71f559d45adb4e729089126ee81199d8": {
      "model_module": "jupyter-js-widgets",
      "model_module_version": "~2.1.4",
      "model_name": "ButtonModel",
      "state": {
       "_model_module_version": "~2.1.4",
       "_view_module_version": "~2.1.4",
       "description": "Previous",
       "icon": "check",
       "layout": "IPY_MODEL_580af79e2caa409eb2765e0255eb08cf",
       "style": "IPY_MODEL_f2ce413171fd4d62b4028e9e3f57367b",
       "tooltip": "Click me"
      }
     },
     "721b52ea966c4fc994c40e1a9d959484": {
      "model_module": "jupyter-js-widgets",
      "model_module_version": "~2.1.4",
      "model_name": "ButtonModel",
      "state": {
       "_model_module_version": "~2.1.4",
       "_view_module_version": "~2.1.4",
       "description": "Next",
       "icon": "check",
       "layout": "IPY_MODEL_7ed88f3810f5459ea3f0c66ebdc48884",
       "style": "IPY_MODEL_b1c0b787584b4ff1a949c6c9940ce9ab",
       "tooltip": "Click me"
      }
     },
     "721ea9edc35c4202bd121b0c8a1684d4": {
      "model_module": "jupyter-js-widgets",
      "model_module_version": "~2.1.4",
      "model_name": "LayoutModel",
      "state": {
       "_model_module_version": "~2.1.4",
       "_view_module_version": "~2.1.4"
      }
     },
     "7222d85609464229b1dd98c549df5be9": {
      "model_module": "jupyter-js-widgets",
      "model_module_version": "~2.1.4",
      "model_name": "LayoutModel",
      "state": {
       "_model_module_version": "~2.1.4",
       "_view_module_version": "~2.1.4"
      }
     },
     "722f4894340344bab51800213d6b532a": {
      "model_module": "jupyter-js-widgets",
      "model_module_version": "~2.1.4",
      "model_name": "LayoutModel",
      "state": {
       "_model_module_version": "~2.1.4",
       "_view_module_version": "~2.1.4"
      }
     },
     "7239745d23a64376b115f16e76f0f127": {
      "model_module": "jupyter-js-widgets",
      "model_module_version": "~2.1.4",
      "model_name": "ButtonModel",
      "state": {
       "_model_module_version": "~2.1.4",
       "_view_module_version": "~2.1.4",
       "description": "Next",
       "layout": "IPY_MODEL_9646e2caa475455189473e58350690cd",
       "style": "IPY_MODEL_e372dde53e0b4f548560bb05ef0a2fd9"
      }
     },
     "7257916bbb7e44f091d09b1b0f716209": {
      "model_module": "jupyter-js-widgets",
      "model_module_version": "~2.1.4",
      "model_name": "ButtonStyleModel",
      "state": {
       "_model_module_version": "~2.1.4",
       "_view_module_version": "~2.1.4"
      }
     },
     "729072ad0cd247afbdce594d8781ceaf": {
      "model_module": "jupyter-js-widgets",
      "model_module_version": "~2.1.4",
      "model_name": "ButtonModel",
      "state": {
       "_model_module_version": "~2.1.4",
       "_view_module_version": "~2.1.4",
       "description": "Previous",
       "icon": "check",
       "layout": "IPY_MODEL_6af6423c4e3f4baa85e9147259d4e48f",
       "style": "IPY_MODEL_3a1a8b5351d8411fa3e4eac7631487a3",
       "tooltip": "Click me"
      }
     },
     "72af2eef45c54ac6a3dfb0c29ac2bd5c": {
      "model_module": "jupyter-js-widgets",
      "model_module_version": "~2.1.4",
      "model_name": "LayoutModel",
      "state": {
       "_model_module_version": "~2.1.4",
       "_view_module_version": "~2.1.4"
      }
     },
     "72df71340663426cab77bc5edd5903a6": {
      "model_module": "jupyter-js-widgets",
      "model_module_version": "~2.1.4",
      "model_name": "ButtonStyleModel",
      "state": {
       "_model_module_version": "~2.1.4",
       "_view_module_version": "~2.1.4"
      }
     },
     "7319a0fd6fed445d84deb1b986b10dca": {
      "model_module": "jupyter-js-widgets",
      "model_module_version": "~2.1.4",
      "model_name": "LayoutModel",
      "state": {
       "_model_module_version": "~2.1.4",
       "_view_module_version": "~2.1.4"
      }
     },
     "7345e848ca644ebf98b7a2b95dfce168": {
      "model_module": "jupyter-js-widgets",
      "model_module_version": "~2.1.4",
      "model_name": "ButtonStyleModel",
      "state": {
       "_model_module_version": "~2.1.4",
       "_view_module_version": "~2.1.4"
      }
     },
     "735e1303b41f473b86d89669f2a8b8e8": {
      "model_module": "jupyter-js-widgets",
      "model_module_version": "~2.1.4",
      "model_name": "ButtonModel",
      "state": {
       "_model_module_version": "~2.1.4",
       "_view_module_version": "~2.1.4",
       "description": "Next",
       "icon": "check",
       "layout": "IPY_MODEL_1509e3868a7440bc8428b0fdb5ebf28b",
       "style": "IPY_MODEL_cc053d195ae74953afe6818e566f2538",
       "tooltip": "Click me"
      }
     },
     "7366839f4cea449e80efaa7c1e196b4b": {
      "model_module": "jupyter-js-widgets",
      "model_module_version": "~2.1.4",
      "model_name": "LayoutModel",
      "state": {
       "_model_module_version": "~2.1.4",
       "_view_module_version": "~2.1.4"
      }
     },
     "73742d13ab6a44c38d9aab26ac94a38d": {
      "model_module": "jupyter-js-widgets",
      "model_module_version": "~2.1.4",
      "model_name": "HTMLModel",
      "state": {
       "_model_module_version": "~2.1.4",
       "_view_module_version": "~2.1.4",
       "layout": "IPY_MODEL_0e5979534ed04975b04bae16d73f87d5",
       "value": "\n<svg width=\"100%\" height=0><defs><clipPath id=\"mask\">\n<rect x=0 y=0 width='100%' height='500' />\n</clipPath></defs></svg>\n<style>\n.bp {\n    width: 100%;\n    -webkit-clip-path: circle(#mask);\n    clip-path: url(#mask);\n}\n</style>\n<img src=\"bp_solution.png\" class=bp>\n"
      }
     },
     "7389d87d55c3452eaff877f89eb61f47": {
      "model_module": "jupyter-js-widgets",
      "model_module_version": "~2.1.4",
      "model_name": "ButtonStyleModel",
      "state": {
       "_model_module_version": "~2.1.4",
       "_view_module_version": "~2.1.4"
      }
     },
     "7389e0b0bdf24bb3b1fc5cfb3ceb9394": {
      "model_module": "jupyter-js-widgets",
      "model_module_version": "~2.1.4",
      "model_name": "LayoutModel",
      "state": {
       "_model_module_version": "~2.1.4",
       "_view_module_version": "~2.1.4"
      }
     },
     "73b0d739894f4428915e740d0e9ab731": {
      "model_module": "jupyter-js-widgets",
      "model_module_version": "~2.1.4",
      "model_name": "HTMLModel",
      "state": {
       "_model_module_version": "~2.1.4",
       "_view_module_version": "~2.1.4",
       "layout": "IPY_MODEL_e80eb447b34c4d73bacfdbcb93624642",
       "value": "\n<svg width=\"100%\" height=0><defs><clipPath id=\"mask\">\n<rect x=0 y=0 width='100%' height='50' /><rect x=0 y=390 width='28%' height='500' />\n</clipPath></defs></svg>\n<style>\nimg {\n    text-align: center;\n    display: block;\n    margin: 0 auto;\n}\n.bp {\n    width: 100%;\n    -webkit-clip-path: circle(#mask);\n    clip-path: url(#mask);\n}\n</style>\n<img src='mlp.png' text-align='center'>\n<img src=\"bp_solution.png\" class=bp />\n"
      }
     },
     "73b72a14d17849e1807da57d24dfb37c": {
      "model_module": "jupyter-js-widgets",
      "model_module_version": "~2.1.4",
      "model_name": "ButtonModel",
      "state": {
       "_model_module_version": "~2.1.4",
       "_view_module_version": "~2.1.4",
       "description": "Next",
       "layout": "IPY_MODEL_6bb6bc9d32ba47c7bae644b12fa64b99",
       "style": "IPY_MODEL_7e1e819151294c0eaf583632b141bc34"
      }
     },
     "73c40fe0782445028eb062e5a33e37ce": {
      "model_module": "jupyter-js-widgets",
      "model_module_version": "~2.1.4",
      "model_name": "LayoutModel",
      "state": {
       "_model_module_version": "~2.1.4",
       "_view_module_version": "~2.1.4"
      }
     },
     "73e650693acb4bd8be481785b2238ab7": {
      "model_module": "jupyter-js-widgets",
      "model_module_version": "~2.1.4",
      "model_name": "LayoutModel",
      "state": {
       "_model_module_version": "~2.1.4",
       "_view_module_version": "~2.1.4"
      }
     },
     "73fbfe5cdccb41d18f784514df8e64ff": {
      "model_module": "jupyter-js-widgets",
      "model_module_version": "~2.1.4",
      "model_name": "LayoutModel",
      "state": {
       "_model_module_version": "~2.1.4",
       "_view_module_version": "~2.1.4",
       "align_items": "stretch",
       "display": "flex",
       "flex_flow": "row",
       "justify_content": "center",
       "width": "100%"
      }
     },
     "741592b1f5bc48babd35d35ea5dc3716": {
      "model_module": "jupyter-js-widgets",
      "model_module_version": "~2.1.4",
      "model_name": "LayoutModel",
      "state": {
       "_model_module_version": "~2.1.4",
       "_view_module_version": "~2.1.4"
      }
     },
     "742b9c2d2436458d9420e7c8925c36d9": {
      "model_module": "jupyter-js-widgets",
      "model_module_version": "~2.1.4",
      "model_name": "ButtonStyleModel",
      "state": {
       "_model_module_version": "~2.1.4",
       "_view_module_version": "~2.1.4"
      }
     },
     "7436e699eb4147aca12b32494eb44259": {
      "model_module": "jupyter-js-widgets",
      "model_module_version": "~2.1.4",
      "model_name": "ButtonModel",
      "state": {
       "_model_module_version": "~2.1.4",
       "_view_module_version": "~2.1.4",
       "description": "Previous",
       "layout": "IPY_MODEL_e56761c66bdb436ebe492c5adbb13599",
       "style": "IPY_MODEL_c54bc8ee8f9a4cc7ae3ea79f2414b788"
      }
     },
     "7437042a860441b5bc7b08cca8c8b6cb": {
      "model_module": "jupyter-js-widgets",
      "model_module_version": "~2.1.4",
      "model_name": "LayoutModel",
      "state": {
       "_model_module_version": "~2.1.4",
       "_view_module_version": "~2.1.4"
      }
     },
     "743709f2d0574c6abc3fe50763db0d33": {
      "model_module": "jupyter-js-widgets",
      "model_module_version": "~2.1.4",
      "model_name": "LayoutModel",
      "state": {
       "_model_module_version": "~2.1.4",
       "_view_module_version": "~2.1.4"
      }
     },
     "7438ac1262d94913ad692709369c0af8": {
      "model_module": "jupyter-js-widgets",
      "model_module_version": "~2.1.4",
      "model_name": "LayoutModel",
      "state": {
       "_model_module_version": "~2.1.4",
       "_view_module_version": "~2.1.4"
      }
     },
     "744061d841de4dda9e0bcebc29e1e68d": {
      "model_module": "jupyter-js-widgets",
      "model_module_version": "~2.1.4",
      "model_name": "ButtonStyleModel",
      "state": {
       "_model_module_version": "~2.1.4",
       "_view_module_version": "~2.1.4"
      }
     },
     "745461b3bf1848618132cfba278a503c": {
      "model_module": "jupyter-js-widgets",
      "model_module_version": "~2.1.4",
      "model_name": "LayoutModel",
      "state": {
       "_model_module_version": "~2.1.4",
       "_view_module_version": "~2.1.4"
      }
     },
     "7455979cc261451f97329d62b5060e56": {
      "model_module": "jupyter-js-widgets",
      "model_module_version": "~2.1.4",
      "model_name": "LayoutModel",
      "state": {
       "_model_module_version": "~2.1.4",
       "_view_module_version": "~2.1.4"
      }
     },
     "74597241f89c460485641f512fc34c34": {
      "model_module": "jupyter-js-widgets",
      "model_module_version": "~2.1.4",
      "model_name": "ButtonModel",
      "state": {
       "_model_module_version": "~2.1.4",
       "_view_module_version": "~2.1.4",
       "description": "Next",
       "icon": "check",
       "layout": "IPY_MODEL_9fe84a83d9f34ceaab805f9a1b3af8ee",
       "style": "IPY_MODEL_ee7e3cf8012e422f8615689cdbca5796",
       "tooltip": "Click me"
      }
     },
     "7460db2b61164683a4ee2dd00dc0f2ef": {
      "model_module": "jupyter-js-widgets",
      "model_module_version": "~2.1.4",
      "model_name": "LayoutModel",
      "state": {
       "_model_module_version": "~2.1.4",
       "_view_module_version": "~2.1.4"
      }
     },
     "74688c2b23094649a3587bec6103fade": {
      "model_module": "jupyter-js-widgets",
      "model_module_version": "~2.1.4",
      "model_name": "LayoutModel",
      "state": {
       "_model_module_version": "~2.1.4",
       "_view_module_version": "~2.1.4"
      }
     },
     "74a6fddea9d2457eb4431c9bb5661c11": {
      "model_module": "jupyter-js-widgets",
      "model_module_version": "~2.1.4",
      "model_name": "ButtonStyleModel",
      "state": {
       "_model_module_version": "~2.1.4",
       "_view_module_version": "~2.1.4"
      }
     },
     "74bc8500c63b4bb1bff6e17bb5591cf8": {
      "model_module": "jupyter-js-widgets",
      "model_module_version": "~2.1.4",
      "model_name": "ButtonModel",
      "state": {
       "_model_module_version": "~2.1.4",
       "_view_module_version": "~2.1.4",
       "description": "Previous",
       "icon": "check",
       "layout": "IPY_MODEL_57df6fa5feda4cae9c79af3f7b98407a",
       "style": "IPY_MODEL_a83d02f18310456985b4ed4801f3a4e9",
       "tooltip": "Click me"
      }
     },
     "751d71bd696f4c7e98e1092cd2aeb20c": {
      "model_module": "jupyter-js-widgets",
      "model_module_version": "~2.1.4",
      "model_name": "ButtonStyleModel",
      "state": {
       "_model_module_version": "~2.1.4",
       "_view_module_version": "~2.1.4"
      }
     },
     "75282e72eaf548f284a68c77bf796c77": {
      "model_module": "jupyter-js-widgets",
      "model_module_version": "~2.1.4",
      "model_name": "LayoutModel",
      "state": {
       "_model_module_version": "~2.1.4",
       "_view_module_version": "~2.1.4"
      }
     },
     "7530954170b44ef9ac3985e52ebd487e": {
      "model_module": "jupyter-js-widgets",
      "model_module_version": "~2.1.4",
      "model_name": "ButtonModel",
      "state": {
       "_model_module_version": "~2.1.4",
       "_view_module_version": "~2.1.4",
       "description": "Previous",
       "icon": "check",
       "layout": "IPY_MODEL_5ec429fc975a40428969c262c0e5b74d",
       "style": "IPY_MODEL_707865ed8e014684858b612b79396027",
       "tooltip": "Click me"
      }
     },
     "7550c23cd7674783b7010dabe1f7af1b": {
      "model_module": "jupyter-js-widgets",
      "model_module_version": "~2.1.4",
      "model_name": "LayoutModel",
      "state": {
       "_model_module_version": "~2.1.4",
       "_view_module_version": "~2.1.4"
      }
     },
     "7570915855da455881693f7a19413e59": {
      "model_module": "jupyter-js-widgets",
      "model_module_version": "~2.1.4",
      "model_name": "LayoutModel",
      "state": {
       "_model_module_version": "~2.1.4",
       "_view_module_version": "~2.1.4"
      }
     },
     "75c00897fc4f49a4b61e36d52bdf5378": {
      "model_module": "jupyter-js-widgets",
      "model_module_version": "~2.1.4",
      "model_name": "ButtonModel",
      "state": {
       "_model_module_version": "~2.1.4",
       "_view_module_version": "~2.1.4",
       "description": "Previous",
       "layout": "IPY_MODEL_39c7fc71dc874d2ab03d1e7141d9ae49",
       "style": "IPY_MODEL_f470911556d94ff287698df1cf1d4977"
      }
     },
     "760e933962824de99d6d063167cb77f3": {
      "model_module": "jupyter-js-widgets",
      "model_module_version": "~2.1.4",
      "model_name": "ButtonModel",
      "state": {
       "_model_module_version": "~2.1.4",
       "_view_module_version": "~2.1.4",
       "description": "Next",
       "layout": "IPY_MODEL_d1845b34c1bb4cf885bc4d6ae8049e70",
       "style": "IPY_MODEL_0e34a26351e641219b762d9706403cb0"
      }
     },
     "765d452c7adc475994d479cf0de7daf4": {
      "model_module": "jupyter-js-widgets",
      "model_module_version": "~2.1.4",
      "model_name": "ButtonModel",
      "state": {
       "_model_module_version": "~2.1.4",
       "_view_module_version": "~2.1.4",
       "description": "Previous",
       "layout": "IPY_MODEL_3e1d78589bb64ca383d824615aec7702",
       "style": "IPY_MODEL_fecfe5959de04ce79d24ac4f65d01c80"
      }
     },
     "7665293111ac4ea793148643dc51c7c0": {
      "model_module": "jupyter-js-widgets",
      "model_module_version": "~2.1.4",
      "model_name": "ButtonStyleModel",
      "state": {
       "_model_module_version": "~2.1.4",
       "_view_module_version": "~2.1.4"
      }
     },
     "767453dbb8ab4b8a80ed2978dc4c1314": {
      "model_module": "jupyter-js-widgets",
      "model_module_version": "~2.1.4",
      "model_name": "ButtonStyleModel",
      "state": {
       "_model_module_version": "~2.1.4",
       "_view_module_version": "~2.1.4"
      }
     },
     "7694f5d6bd2c42e1ae0ca28f4a7b553b": {
      "model_module": "jupyter-js-widgets",
      "model_module_version": "~2.1.4",
      "model_name": "LayoutModel",
      "state": {
       "_model_module_version": "~2.1.4",
       "_view_module_version": "~2.1.4"
      }
     },
     "76979cc5b206424ea0c52e794c1c5d96": {
      "model_module": "jupyter-js-widgets",
      "model_module_version": "~2.1.4",
      "model_name": "HTMLModel",
      "state": {
       "_model_module_version": "~2.1.4",
       "_view_module_version": "~2.1.4",
       "layout": "IPY_MODEL_18ac6d2a07fb4ab5b1b9847707a08511",
       "value": "\n<svg width=100% height=100%>\n   <defs>\n    <clipPath id=\"mask\">\n      <rect x=0 y=0 width=\"100%\" height=\"100%\">\n    </clipPath>\n  </defs>\n</svg>\n<style>\n\n.bp {\n    width: 100%;\n    -webkit-clip-path: circle(#mask);\n    clip-path: url(#mask);\n}\n</style>\n<img src=\"bp_solution.png\" class=bp>\n"
      }
     },
     "769a1ec6148e471ebfa7cf7d8ce2a3cd": {
      "model_module": "jupyter-js-widgets",
      "model_module_version": "~2.1.4",
      "model_name": "BoxModel",
      "state": {
       "_model_module_version": "~2.1.4",
       "_view_module_version": "~2.1.4",
       "children": [
        "IPY_MODEL_ebe5928d02f845268705a1e391c82575",
        "IPY_MODEL_760e933962824de99d6d063167cb77f3"
       ],
       "layout": "IPY_MODEL_3183363dd88c4f48bc79cec25515c450"
      }
     },
     "76a7cd4fac3445da829170df8217ab17": {
      "model_module": "jupyter-js-widgets",
      "model_module_version": "~2.1.4",
      "model_name": "BoxModel",
      "state": {
       "_model_module_version": "~2.1.4",
       "_view_module_version": "~2.1.4",
       "children": [
        "IPY_MODEL_be7802ec1de742a38c5c5929a6aaa07a",
        "IPY_MODEL_db453142f7514b5b9ed9374db4de2734"
       ],
       "layout": "IPY_MODEL_b305a5e9d38d47638239b8694384846a"
      }
     },
     "76c51944213d45a7964edeadf337cecc": {
      "model_module": "jupyter-js-widgets",
      "model_module_version": "~2.1.4",
      "model_name": "LayoutModel",
      "state": {
       "_model_module_version": "~2.1.4",
       "_view_module_version": "~2.1.4"
      }
     },
     "76cdfddbd3b24183be307931d248cbaf": {
      "model_module": "jupyter-js-widgets",
      "model_module_version": "~2.1.4",
      "model_name": "HTMLModel",
      "state": {
       "_model_module_version": "~2.1.4",
       "_view_module_version": "~2.1.4",
       "layout": "IPY_MODEL_741592b1f5bc48babd35d35ea5dc3716",
       "value": "\n<svg width=\"100%\" height=0><defs><clipPath id=\"mask\">\n<rect x=0 y=400 width='28%' height='350' /><rect x=0 y=0 width='100%' height='50' />\n</clipPath></defs></svg>\n<style>\n.bp {\n    width: 100%;\n    -webkit-clip-path: circle(#mask);\n    clip-path: url(#mask);\n}\n</style>\n<img src=\"bp_solution.png\" class=bp>\n"
      }
     },
     "76ce8dde4448444a8126eb10693e72e9": {
      "model_module": "jupyter-js-widgets",
      "model_module_version": "~2.1.4",
      "model_name": "ButtonModel",
      "state": {
       "_model_module_version": "~2.1.4",
       "_view_module_version": "~2.1.4",
       "description": "Previous",
       "icon": "check",
       "layout": "IPY_MODEL_59470efefd1647dd8a37dc5b47ea0600",
       "style": "IPY_MODEL_52eaa928919c438ca5c1cfce85138ce5",
       "tooltip": "Click me"
      }
     },
     "7745aa30e2324d88b6a7e24898d141b8": {
      "model_module": "jupyter-js-widgets",
      "model_module_version": "~2.1.4",
      "model_name": "LayoutModel",
      "state": {
       "_model_module_version": "~2.1.4",
       "_view_module_version": "~2.1.4"
      }
     },
     "77be0cc159c74a0e80e35fb2cdd764fd": {
      "model_module": "jupyter-js-widgets",
      "model_module_version": "~2.1.4",
      "model_name": "HTMLModel",
      "state": {
       "_model_module_version": "~2.1.4",
       "_view_module_version": "~2.1.4",
       "layout": "IPY_MODEL_30c924cf81de4576abe78daf13285891",
       "value": "\n<svg width=\"100%\" height=0><defs><clipPath id=\"mask\">\n<rect x=0 y=0 width='50%' height='500'>\n            \n</clipPath></defs></svg>\n<style>\n.bp {\n    width: 100%;\n    -webkit-clip-path: circle(#mask);\n    clip-path: url(#mask);\n}\n</style>\n<img src=\"bp_solution.png\" class=bp>\n"
      }
     },
     "77c480db1a444e83b62296636cfb020e": {
      "model_module": "jupyter-js-widgets",
      "model_module_version": "~2.1.4",
      "model_name": "LayoutModel",
      "state": {
       "_model_module_version": "~2.1.4",
       "_view_module_version": "~2.1.4"
      }
     },
     "77cc5d4d68be487b8636f4b7cc784139": {
      "model_module": "jupyter-js-widgets",
      "model_module_version": "~2.1.4",
      "model_name": "ButtonModel",
      "state": {
       "_model_module_version": "~2.1.4",
       "_view_module_version": "~2.1.4",
       "description": "Previous",
       "layout": "IPY_MODEL_24ced35c2e034194bdaa1e73a6aa4cf6",
       "style": "IPY_MODEL_fcb368baf87c4d59a136ff74dafcf8fe"
      }
     },
     "77ef8f156ea3458a930071cd54821358": {
      "model_module": "jupyter-js-widgets",
      "model_module_version": "~2.1.4",
      "model_name": "HTMLModel",
      "state": {
       "_model_module_version": "~2.1.4",
       "_view_module_version": "~2.1.4",
       "layout": "IPY_MODEL_dd66f1f487f14200849c9a26cb45a74b",
       "value": "<img src='bp_solution.png' width='80%'>"
      }
     },
     "77f6de73f0b544dab901350132f75cca": {
      "model_module": "jupyter-js-widgets",
      "model_module_version": "~2.1.4",
      "model_name": "LayoutModel",
      "state": {
       "_model_module_version": "~2.1.4",
       "_view_module_version": "~2.1.4"
      }
     },
     "7811e8790eac4349895cd90509c4d211": {
      "model_module": "jupyter-js-widgets",
      "model_module_version": "~2.1.4",
      "model_name": "LayoutModel",
      "state": {
       "_model_module_version": "~2.1.4",
       "_view_module_version": "~2.1.4"
      }
     },
     "78439d1b65db4188bb83945c5e8a4805": {
      "model_module": "jupyter-js-widgets",
      "model_module_version": "~2.1.4",
      "model_name": "ButtonStyleModel",
      "state": {
       "_model_module_version": "~2.1.4",
       "_view_module_version": "~2.1.4"
      }
     },
     "784666e4a9094dca8a8eefa1d7a083ed": {
      "model_module": "jupyter-js-widgets",
      "model_module_version": "~2.1.4",
      "model_name": "LayoutModel",
      "state": {
       "_model_module_version": "~2.1.4",
       "_view_module_version": "~2.1.4"
      }
     },
     "78496580d29c4304a2e97780c36a6f7c": {
      "model_module": "jupyter-js-widgets",
      "model_module_version": "~2.1.4",
      "model_name": "LayoutModel",
      "state": {
       "_model_module_version": "~2.1.4",
       "_view_module_version": "~2.1.4"
      }
     },
     "7855a566363b4c7c92d2058c0b15686d": {
      "model_module": "jupyter-js-widgets",
      "model_module_version": "~2.1.4",
      "model_name": "ButtonModel",
      "state": {
       "_model_module_version": "~2.1.4",
       "_view_module_version": "~2.1.4",
       "description": "Next",
       "icon": "check",
       "layout": "IPY_MODEL_0553f19b748945ce935cd046bece7daf",
       "style": "IPY_MODEL_9c10c6e6291345d192da9b63659fed18",
       "tooltip": "Click me"
      }
     },
     "7861aa14657546a1b8c6f24c3d1f1328": {
      "model_module": "jupyter-js-widgets",
      "model_module_version": "~2.1.4",
      "model_name": "HTMLModel",
      "state": {
       "_model_module_version": "~2.1.4",
       "_view_module_version": "~2.1.4",
       "layout": "IPY_MODEL_7b3f410fd5574e7387603cb7db5e7221",
       "value": "<img src='bp_solution.png' width='100%'>"
      }
     },
     "787e063d52054eae9334d07a6c3ec79b": {
      "model_module": "jupyter-js-widgets",
      "model_module_version": "~2.1.4",
      "model_name": "ButtonStyleModel",
      "state": {
       "_model_module_version": "~2.1.4",
       "_view_module_version": "~2.1.4"
      }
     },
     "7882081cb5894656b778c95abbc62c19": {
      "model_module": "jupyter-js-widgets",
      "model_module_version": "~2.1.4",
      "model_name": "ButtonStyleModel",
      "state": {
       "_model_module_version": "~2.1.4",
       "_view_module_version": "~2.1.4"
      }
     },
     "78860ec98e1741888be017c00dab9fb5": {
      "model_module": "jupyter-js-widgets",
      "model_module_version": "~2.1.4",
      "model_name": "LayoutModel",
      "state": {
       "_model_module_version": "~2.1.4",
       "_view_module_version": "~2.1.4"
      }
     },
     "78e2e52493ea43cda9f309851069656e": {
      "model_module": "jupyter-js-widgets",
      "model_module_version": "~2.1.4",
      "model_name": "ButtonModel",
      "state": {
       "_model_module_version": "~2.1.4",
       "_view_module_version": "~2.1.4",
       "description": "Previous",
       "layout": "IPY_MODEL_17f4ff1da66d49f2a095381210d45cfd",
       "style": "IPY_MODEL_0205fc5479a44533b1f9d083a7fd1290"
      }
     },
     "790a85c0d2974835959ec49b7072c6f3": {
      "model_module": "jupyter-js-widgets",
      "model_module_version": "~2.1.4",
      "model_name": "ButtonModel",
      "state": {
       "_model_module_version": "~2.1.4",
       "_view_module_version": "~2.1.4",
       "description": "Next",
       "layout": "IPY_MODEL_7455979cc261451f97329d62b5060e56",
       "style": "IPY_MODEL_b5c6013b069f40c98dd407b1140ff842"
      }
     },
     "7924fab59ccf4e2c9a77f52551b70978": {
      "model_module": "jupyter-js-widgets",
      "model_module_version": "~2.1.4",
      "model_name": "ButtonModel",
      "state": {
       "_model_module_version": "~2.1.4",
       "_view_module_version": "~2.1.4",
       "description": "Next",
       "layout": "IPY_MODEL_d4bd91d9eabe4fb2817b291d38613da1",
       "style": "IPY_MODEL_7d71d4c1aad144ef84476cfd37cfa746"
      }
     },
     "79260ed3bcbb49ad89d25d5570bf6b44": {
      "model_module": "jupyter-js-widgets",
      "model_module_version": "~2.1.4",
      "model_name": "ButtonStyleModel",
      "state": {
       "_model_module_version": "~2.1.4",
       "_view_module_version": "~2.1.4"
      }
     },
     "795e455db3ce44aa979f9f3012af39cc": {
      "model_module": "jupyter-js-widgets",
      "model_module_version": "~2.1.4",
      "model_name": "ButtonStyleModel",
      "state": {
       "_model_module_version": "~2.1.4",
       "_view_module_version": "~2.1.4"
      }
     },
     "7968b206df7f4f5ab992c49dfe1cea52": {
      "model_module": "jupyter-js-widgets",
      "model_module_version": "~2.1.4",
      "model_name": "ButtonStyleModel",
      "state": {
       "_model_module_version": "~2.1.4",
       "_view_module_version": "~2.1.4"
      }
     },
     "796ae12a489b418997af604a6addba46": {
      "model_module": "jupyter-js-widgets",
      "model_module_version": "~2.1.4",
      "model_name": "ButtonModel",
      "state": {
       "_model_module_version": "~2.1.4",
       "_view_module_version": "~2.1.4",
       "description": "Previous",
       "icon": "check",
       "layout": "IPY_MODEL_046fba0eb84848eab4ed762a82035a7b",
       "style": "IPY_MODEL_0ca1c8bb455a41f6af860344dacdcba9",
       "tooltip": "Click me"
      }
     },
     "79b165772bad4af2a27b30f4aa47dcfb": {
      "model_module": "jupyter-js-widgets",
      "model_module_version": "~2.1.4",
      "model_name": "ButtonModel",
      "state": {
       "_model_module_version": "~2.1.4",
       "_view_module_version": "~2.1.4",
       "description": "Next",
       "layout": "IPY_MODEL_9d6b7577d3dc479cbcbac661e68b2588",
       "style": "IPY_MODEL_2db728ea279f4ff68b6e670981a7c8ab"
      }
     },
     "79bc9f9eb76b4465824e2476d3126710": {
      "model_module": "jupyter-js-widgets",
      "model_module_version": "~2.1.4",
      "model_name": "ButtonModel",
      "state": {
       "_model_module_version": "~2.1.4",
       "_view_module_version": "~2.1.4",
       "description": "Next",
       "icon": "check",
       "layout": "IPY_MODEL_aa2059cd5fe44b53b31e10cca0d2cb16",
       "style": "IPY_MODEL_56749f22db3f438abab58e21a3fc6429",
       "tooltip": "Click me"
      }
     },
     "79fc1394a4544b7d8916488bff670ee6": {
      "model_module": "jupyter-js-widgets",
      "model_module_version": "~2.1.4",
      "model_name": "HTMLModel",
      "state": {
       "_model_module_version": "~2.1.4",
       "_view_module_version": "~2.1.4",
       "layout": "IPY_MODEL_f73249fd970e488cb8265007c7c15e10",
       "value": "\n<svg width=\"100%\">\n   <defs>\n    <clipPath id=\"mask\">\n      <rect x=0 y=-100 width=\"50%\" height=\"700\">\n    </clipPath>\n  </defs>\n</svg>\n<style>\n.bp {\n    width: 100%;\n    -webkit-clip-path: circle(#mask);\n    clip-path: url(#mask);\n}\n</style>\n<img src=\"bp_solution.png\" class=bp>\n"
      }
     },
     "7a7369a565544bbb8122a2c00fd44b42": {
      "model_module": "jupyter-js-widgets",
      "model_module_version": "~2.1.4",
      "model_name": "HTMLModel",
      "state": {
       "_model_module_version": "~2.1.4",
       "_view_module_version": "~2.1.4",
       "layout": "IPY_MODEL_a046b2cb71bd495ca81a73527acfd31e",
       "value": "<img src='bp_solution.png' width='100%'>"
      }
     },
     "7a910442ad994da5adeedcb1b69e5187": {
      "model_module": "jupyter-js-widgets",
      "model_module_version": "~2.1.4",
      "model_name": "LayoutModel",
      "state": {
       "_model_module_version": "~2.1.4",
       "_view_module_version": "~2.1.4"
      }
     },
     "7aaf86563faa455087127913ecaf85ca": {
      "model_module": "jupyter-js-widgets",
      "model_module_version": "~2.1.4",
      "model_name": "LayoutModel",
      "state": {
       "_model_module_version": "~2.1.4",
       "_view_module_version": "~2.1.4"
      }
     },
     "7afa0fec9cfa43779fd93599f70667ee": {
      "model_module": "jupyter-js-widgets",
      "model_module_version": "~2.1.4",
      "model_name": "ButtonStyleModel",
      "state": {
       "_model_module_version": "~2.1.4",
       "_view_module_version": "~2.1.4"
      }
     },
     "7b1c2d9420824b33b67c5e0bbd1c3280": {
      "model_module": "jupyter-js-widgets",
      "model_module_version": "~2.1.4",
      "model_name": "LayoutModel",
      "state": {
       "_model_module_version": "~2.1.4",
       "_view_module_version": "~2.1.4"
      }
     },
     "7b1d650aee144579ac8e8bd324739a9e": {
      "model_module": "jupyter-js-widgets",
      "model_module_version": "~2.1.4",
      "model_name": "LayoutModel",
      "state": {
       "_model_module_version": "~2.1.4",
       "_view_module_version": "~2.1.4"
      }
     },
     "7b1ff355846d4c758e5533cd8e82227d": {
      "model_module": "jupyter-js-widgets",
      "model_module_version": "~2.1.4",
      "model_name": "LayoutModel",
      "state": {
       "_model_module_version": "~2.1.4",
       "_view_module_version": "~2.1.4"
      }
     },
     "7b341577f9a14a03ba5ea9522b66af9c": {
      "model_module": "jupyter-js-widgets",
      "model_module_version": "~2.1.4",
      "model_name": "ButtonModel",
      "state": {
       "_model_module_version": "~2.1.4",
       "_view_module_version": "~2.1.4",
       "description": "Previous",
       "icon": "check",
       "layout": "IPY_MODEL_6442f918bd4e44debb6e7319b437486c",
       "style": "IPY_MODEL_83510ef7258a430586d7f75b8dacbc60",
       "tooltip": "Click me"
      }
     },
     "7b3490ddf35e447b99e5717188040b99": {
      "model_module": "jupyter-js-widgets",
      "model_module_version": "~2.1.4",
      "model_name": "ButtonStyleModel",
      "state": {
       "_model_module_version": "~2.1.4",
       "_view_module_version": "~2.1.4"
      }
     },
     "7b3f410fd5574e7387603cb7db5e7221": {
      "model_module": "jupyter-js-widgets",
      "model_module_version": "~2.1.4",
      "model_name": "LayoutModel",
      "state": {
       "_model_module_version": "~2.1.4",
       "_view_module_version": "~2.1.4"
      }
     },
     "7b5700312c394977a611fb507b8633c8": {
      "model_module": "jupyter-js-widgets",
      "model_module_version": "~2.1.4",
      "model_name": "LayoutModel",
      "state": {
       "_model_module_version": "~2.1.4",
       "_view_module_version": "~2.1.4"
      }
     },
     "7ba19e558b704f90837e470cc6ac9b8b": {
      "model_module": "jupyter-js-widgets",
      "model_module_version": "~2.1.4",
      "model_name": "HTMLModel",
      "state": {
       "_model_module_version": "~2.1.4",
       "_view_module_version": "~2.1.4",
       "layout": "IPY_MODEL_69d470045b614021aed1eaf949fcdfd6",
       "value": "\n<svg>\n   <defs>\n    <clipPath id=\"mask\">\n      <rect x=20 y=20 width=\"50%\" height=100%>\n    </clipPath>\n  </defs>\n</svg>\n<style>\n.bp {\n    width: 100%;\n    -webkit-clip-path: circle(50px);\n    clip-path: url(#mask);\n}\n</style>\n<img src=\"bp_solution.png\" class=bp>\n"
      }
     },
     "7ba1e48236de4e0bb24ae7d4fd734e71": {
      "model_module": "jupyter-js-widgets",
      "model_module_version": "~2.1.4",
      "model_name": "ButtonModel",
      "state": {
       "_model_module_version": "~2.1.4",
       "_view_module_version": "~2.1.4",
       "description": "Next",
       "layout": "IPY_MODEL_8ba2847e5cf74543a5a76e99f737646e",
       "style": "IPY_MODEL_ec27e5be6100401bb5ed8ce11dca3b91"
      }
     },
     "7bac14b50b0844eea17b9178809f9f7f": {
      "model_module": "jupyter-js-widgets",
      "model_module_version": "~2.1.4",
      "model_name": "LayoutModel",
      "state": {
       "_model_module_version": "~2.1.4",
       "_view_module_version": "~2.1.4"
      }
     },
     "7c3378f42bb1449f9dbb118abe6225cd": {
      "model_module": "jupyter-js-widgets",
      "model_module_version": "~2.1.4",
      "model_name": "LayoutModel",
      "state": {
       "_model_module_version": "~2.1.4",
       "_view_module_version": "~2.1.4"
      }
     },
     "7c57b0812bfa4157a81ae521529c75cd": {
      "model_module": "jupyter-js-widgets",
      "model_module_version": "~2.1.4",
      "model_name": "LayoutModel",
      "state": {
       "_model_module_version": "~2.1.4",
       "_view_module_version": "~2.1.4"
      }
     },
     "7c5ea39b40ac434183179257476a073f": {
      "model_module": "jupyter-js-widgets",
      "model_module_version": "~2.1.4",
      "model_name": "ButtonStyleModel",
      "state": {
       "_model_module_version": "~2.1.4",
       "_view_module_version": "~2.1.4"
      }
     },
     "7c7bb0e8ecdd4874b8deb6f472ebad43": {
      "model_module": "jupyter-js-widgets",
      "model_module_version": "~2.1.4",
      "model_name": "LayoutModel",
      "state": {
       "_model_module_version": "~2.1.4",
       "_view_module_version": "~2.1.4"
      }
     },
     "7ca7c1f3555c4a4abc031084ce5afb0c": {
      "model_module": "jupyter-js-widgets",
      "model_module_version": "~2.1.4",
      "model_name": "ButtonStyleModel",
      "state": {
       "_model_module_version": "~2.1.4",
       "_view_module_version": "~2.1.4"
      }
     },
     "7cc8242ec12f4b40a28a1f0d01c3c561": {
      "model_module": "jupyter-js-widgets",
      "model_module_version": "~2.1.4",
      "model_name": "LayoutModel",
      "state": {
       "_model_module_version": "~2.1.4",
       "_view_module_version": "~2.1.4"
      }
     },
     "7cd65ae33e41490f9e0b6b5f7ac21b7f": {
      "model_module": "jupyter-js-widgets",
      "model_module_version": "~2.1.4",
      "model_name": "LayoutModel",
      "state": {
       "_model_module_version": "~2.1.4",
       "_view_module_version": "~2.1.4"
      }
     },
     "7d02d5afe1b94f6c8dddcee66cee6273": {
      "model_module": "jupyter-js-widgets",
      "model_module_version": "~2.1.4",
      "model_name": "ButtonStyleModel",
      "state": {
       "_model_module_version": "~2.1.4",
       "_view_module_version": "~2.1.4"
      }
     },
     "7d44473f3814400387c0a1aa5ea4e91e": {
      "model_module": "jupyter-js-widgets",
      "model_module_version": "~2.1.4",
      "model_name": "ButtonStyleModel",
      "state": {
       "_model_module_version": "~2.1.4",
       "_view_module_version": "~2.1.4"
      }
     },
     "7d59cc091fae4306aabf152dcbef2d8e": {
      "model_module": "jupyter-js-widgets",
      "model_module_version": "~2.1.4",
      "model_name": "HTMLModel",
      "state": {
       "_model_module_version": "~2.1.4",
       "_view_module_version": "~2.1.4",
       "layout": "IPY_MODEL_e3806a2ffa42468aa1c56d4436cc7b44",
       "value": "\n<svg width=\"100%\" height=0><defs><clipPath id=\"mask\">\n<rect x=0 y=310 width='28%' height='50'><rect x=0 y=0 width='28%' height='350'>\n</clipPath></defs></svg>\n<style>\n.bp {\n    width: 100%;\n    -webkit-clip-path: circle(#mask);\n    clip-path: url(#mask);\n}\n</style>\n<img src=\"bp_solution.png\" class=bp>\n"
      }
     },
     "7d71d4c1aad144ef84476cfd37cfa746": {
      "model_module": "jupyter-js-widgets",
      "model_module_version": "~2.1.4",
      "model_name": "ButtonStyleModel",
      "state": {
       "_model_module_version": "~2.1.4",
       "_view_module_version": "~2.1.4"
      }
     },
     "7d7c22abb3ce4d1bbd3ca87689de188d": {
      "model_module": "jupyter-js-widgets",
      "model_module_version": "~2.1.4",
      "model_name": "ButtonModel",
      "state": {
       "_model_module_version": "~2.1.4",
       "_view_module_version": "~2.1.4",
       "description": "Next",
       "icon": "check",
       "layout": "IPY_MODEL_7694f5d6bd2c42e1ae0ca28f4a7b553b",
       "style": "IPY_MODEL_9a1348dc63e14a228227e129a566d674",
       "tooltip": "Click me"
      }
     },
     "7d8541fc63704c1588247e07169c1de0": {
      "model_module": "jupyter-js-widgets",
      "model_module_version": "~2.1.4",
      "model_name": "ButtonStyleModel",
      "state": {
       "_model_module_version": "~2.1.4",
       "_view_module_version": "~2.1.4"
      }
     },
     "7db71747f6ca4b939e56283d4270cd92": {
      "model_module": "jupyter-js-widgets",
      "model_module_version": "~2.1.4",
      "model_name": "ButtonModel",
      "state": {
       "_model_module_version": "~2.1.4",
       "_view_module_version": "~2.1.4",
       "description": "Next",
       "icon": "check",
       "layout": "IPY_MODEL_c7242158f5f043e683fa35fd16350682",
       "style": "IPY_MODEL_b45d59d38bc848ed8b130af0b3497287",
       "tooltip": "Click me"
      }
     },
     "7dbbb413f5be444daa74987b728c0510": {
      "model_module": "jupyter-js-widgets",
      "model_module_version": "~2.1.4",
      "model_name": "ButtonModel",
      "state": {
       "_model_module_version": "~2.1.4",
       "_view_module_version": "~2.1.4",
       "description": "Next",
       "layout": "IPY_MODEL_eb19a67304da4d20bccc7780d18c0c6a",
       "style": "IPY_MODEL_1ec4a1a841aa4fc3b159b995f01d908c"
      }
     },
     "7e09f7de60894024b03db6ba303f1357": {
      "model_module": "jupyter-js-widgets",
      "model_module_version": "~2.1.4",
      "model_name": "HTMLModel",
      "state": {
       "_model_module_version": "~2.1.4",
       "_view_module_version": "~2.1.4",
       "layout": "IPY_MODEL_566e31f6f62047699aa60aa40c5df396",
       "value": "\n<svg width=100% height=100%>\n   <defs>\n    <clipPath id=\"mask\">\n      <rect x=0 y=0 width=\"100%\" height=\"400\">\n    </clipPath>\n  </defs>\n</svg>\n<style>\n\n.bp {\n    width: 100%;\n    heigth: 100%;\n    -webkit-clip-path: circle(#mask);\n    clip-path: url(#mask);\n}\n</style>\n<img src=\"bp_solution.png\" class=bp>\n"
      }
     },
     "7e1e819151294c0eaf583632b141bc34": {
      "model_module": "jupyter-js-widgets",
      "model_module_version": "~2.1.4",
      "model_name": "ButtonStyleModel",
      "state": {
       "_model_module_version": "~2.1.4",
       "_view_module_version": "~2.1.4"
      }
     },
     "7e69d6d70eb74f05baa0185f5dfd5bef": {
      "model_module": "jupyter-js-widgets",
      "model_module_version": "~2.1.4",
      "model_name": "ButtonModel",
      "state": {
       "_model_module_version": "~2.1.4",
       "_view_module_version": "~2.1.4",
       "description": "Next",
       "layout": "IPY_MODEL_472c56e53ad74ccd9715fb3c1413f000",
       "style": "IPY_MODEL_2250e1fc437b461599bb2d93c40faed3"
      }
     },
     "7ecd530c401a4b05af9ed538f7a33b13": {
      "model_module": "jupyter-js-widgets",
      "model_module_version": "~2.1.4",
      "model_name": "ButtonModel",
      "state": {
       "_model_module_version": "~2.1.4",
       "_view_module_version": "~2.1.4",
       "description": "Next",
       "icon": "check",
       "layout": "IPY_MODEL_c925fe9d5d7f4242a517e3e5082bb565",
       "style": "IPY_MODEL_57f3509349b04636a2d356668085787d",
       "tooltip": "Click me"
      }
     },
     "7ecfcfef81be4590b5679a433835d5f5": {
      "model_module": "jupyter-js-widgets",
      "model_module_version": "~2.1.4",
      "model_name": "BoxModel",
      "state": {
       "_model_module_version": "~2.1.4",
       "_view_module_version": "~2.1.4",
       "children": [
        "IPY_MODEL_8cb6d5c83c5e4f24a102ab4d567a0dda",
        "IPY_MODEL_ef48b2cb3f0242b5b2a8c366b20ca5e1"
       ],
       "layout": "IPY_MODEL_fc3e7d6531cd43628d97b05f5d89f7b0"
      }
     },
     "7ed88f3810f5459ea3f0c66ebdc48884": {
      "model_module": "jupyter-js-widgets",
      "model_module_version": "~2.1.4",
      "model_name": "LayoutModel",
      "state": {
       "_model_module_version": "~2.1.4",
       "_view_module_version": "~2.1.4"
      }
     },
     "7eee9afb1d304592901464ec552ae77a": {
      "model_module": "jupyter-js-widgets",
      "model_module_version": "~2.1.4",
      "model_name": "ButtonStyleModel",
      "state": {
       "_model_module_version": "~2.1.4",
       "_view_module_version": "~2.1.4"
      }
     },
     "7f4d266087f14057bb75a146af0b9e35": {
      "model_module": "jupyter-js-widgets",
      "model_module_version": "~2.1.4",
      "model_name": "ButtonModel",
      "state": {
       "_model_module_version": "~2.1.4",
       "_view_module_version": "~2.1.4",
       "description": "Previous",
       "icon": "check",
       "layout": "IPY_MODEL_ad78e9de0e9c45c483f438079bfb34d5",
       "style": "IPY_MODEL_9535cb16ab404247a43086f6bcea7e03",
       "tooltip": "Click me"
      }
     },
     "7fa04959c7104060a0271ec41edacada": {
      "model_module": "jupyter-js-widgets",
      "model_module_version": "~2.1.4",
      "model_name": "LayoutModel",
      "state": {
       "_model_module_version": "~2.1.4",
       "_view_module_version": "~2.1.4"
      }
     },
     "7faa25363d4d40cfa73d1cc81a82d2c4": {
      "model_module": "jupyter-js-widgets",
      "model_module_version": "~2.1.4",
      "model_name": "LayoutModel",
      "state": {
       "_model_module_version": "~2.1.4",
       "_view_module_version": "~2.1.4"
      }
     },
     "7fdbcd5481be47dcbf0047059933de6a": {
      "model_module": "jupyter-js-widgets",
      "model_module_version": "~2.1.4",
      "model_name": "LayoutModel",
      "state": {
       "_model_module_version": "~2.1.4",
       "_view_module_version": "~2.1.4"
      }
     },
     "7ff716fbd38440bd884e5ef0e1574d89": {
      "model_module": "jupyter-js-widgets",
      "model_module_version": "~2.1.4",
      "model_name": "HTMLModel",
      "state": {
       "_model_module_version": "~2.1.4",
       "_view_module_version": "~2.1.4",
       "layout": "IPY_MODEL_f315dec34a8b4070b1ff5cb8828c6585",
       "value": "\n<svg width=\"100%\" height=0><defs><clipPath id=\"mask\">\n<rect x=0 y=0 width='28%' height='500' /><rect x=0 y=0 width='72%' height='170' /><rect x='50%' y=0 width='100%' height='300' /><rect x=0 y=0 width='100%' height='50' />\n</clipPath></defs></svg>\n<style>\n.bp {\n    width: 100%;\n    -webkit-clip-path: circle(#mask);\n    clip-path: url(#mask);\n}\n</style>\n<img src=\"bp_solution.png\" class=bp>\n"
      }
     },
     "800767f4a8f243d29d85e864aff856fd": {
      "model_module": "jupyter-js-widgets",
      "model_module_version": "~2.1.4",
      "model_name": "ButtonModel",
      "state": {
       "_model_module_version": "~2.1.4",
       "_view_module_version": "~2.1.4",
       "description": "Next",
       "layout": "IPY_MODEL_5c0064c8a4974b0092ca6d375162b310",
       "style": "IPY_MODEL_fa7f444089b548f0a5ca6eaa9755764d"
      }
     },
     "803157e96541463a956ba1e57374ccfa": {
      "model_module": "jupyter-js-widgets",
      "model_module_version": "~2.1.4",
      "model_name": "ButtonStyleModel",
      "state": {
       "_model_module_version": "~2.1.4",
       "_view_module_version": "~2.1.4"
      }
     },
     "803ea2a10ddd454c9fde6af9efc860b2": {
      "model_module": "jupyter-js-widgets",
      "model_module_version": "~2.1.4",
      "model_name": "ButtonStyleModel",
      "state": {
       "_model_module_version": "~2.1.4",
       "_view_module_version": "~2.1.4"
      }
     },
     "8064614e65fe43539b86632b32086acc": {
      "model_module": "jupyter-js-widgets",
      "model_module_version": "~2.1.4",
      "model_name": "ButtonStyleModel",
      "state": {
       "_model_module_version": "~2.1.4",
       "_view_module_version": "~2.1.4"
      }
     },
     "8086750f0ecf40a18102ce4b33d3b252": {
      "model_module": "jupyter-js-widgets",
      "model_module_version": "~2.1.4",
      "model_name": "ButtonModel",
      "state": {
       "_model_module_version": "~2.1.4",
       "_view_module_version": "~2.1.4",
       "description": "Previous",
       "icon": "check",
       "layout": "IPY_MODEL_616df918ec154691b9d504b430de8cb5",
       "style": "IPY_MODEL_e7ce4956707d4014be44b2faf4b6db3d",
       "tooltip": "Click me"
      }
     },
     "80de9fad8e384c60a48576e696b488ae": {
      "model_module": "jupyter-js-widgets",
      "model_module_version": "~2.1.4",
      "model_name": "LayoutModel",
      "state": {
       "_model_module_version": "~2.1.4",
       "_view_module_version": "~2.1.4"
      }
     },
     "80e69f39cf59475a854daedc10d8791d": {
      "model_module": "jupyter-js-widgets",
      "model_module_version": "~2.1.4",
      "model_name": "ButtonStyleModel",
      "state": {
       "_model_module_version": "~2.1.4",
       "_view_module_version": "~2.1.4"
      }
     },
     "80e9b7de57d444a5984c87479c35337e": {
      "model_module": "jupyter-js-widgets",
      "model_module_version": "~2.1.4",
      "model_name": "LayoutModel",
      "state": {
       "_model_module_version": "~2.1.4",
       "_view_module_version": "~2.1.4"
      }
     },
     "811c6e98a256448d88c5b1ad5a55de43": {
      "model_module": "jupyter-js-widgets",
      "model_module_version": "~2.1.4",
      "model_name": "ButtonModel",
      "state": {
       "_model_module_version": "~2.1.4",
       "_view_module_version": "~2.1.4",
       "description": "Next",
       "layout": "IPY_MODEL_ecc75b29a2e142ffa58b3dc20f2ba969",
       "style": "IPY_MODEL_07fa83cbcfdd497495645de321124c98"
      }
     },
     "814f4e5101fa46868216b07b9487ea8b": {
      "model_module": "jupyter-js-widgets",
      "model_module_version": "~2.1.4",
      "model_name": "LayoutModel",
      "state": {
       "_model_module_version": "~2.1.4",
       "_view_module_version": "~2.1.4",
       "align_items": "stretch",
       "display": "flex",
       "flex_flow": "row",
       "justify_content": "center",
       "width": "100%"
      }
     },
     "81630dff63ab4bae8bb9816ae16e58d8": {
      "model_module": "jupyter-js-widgets",
      "model_module_version": "~2.1.4",
      "model_name": "ButtonModel",
      "state": {
       "_model_module_version": "~2.1.4",
       "_view_module_version": "~2.1.4",
       "description": "Previous",
       "icon": "check",
       "layout": "IPY_MODEL_677e5dc5ae584cf494c3f6a9aa527d76",
       "style": "IPY_MODEL_2ab021e1a53e4352b1cdb86e1a1e275c",
       "tooltip": "Click me"
      }
     },
     "81b3620b15c944c5a624c82c5ba9f9ed": {
      "model_module": "jupyter-js-widgets",
      "model_module_version": "~2.1.4",
      "model_name": "LayoutModel",
      "state": {
       "_model_module_version": "~2.1.4",
       "_view_module_version": "~2.1.4"
      }
     },
     "81ba29476a6e4cda8b503fc4888c41c0": {
      "model_module": "jupyter-js-widgets",
      "model_module_version": "~2.1.4",
      "model_name": "HTMLModel",
      "state": {
       "_model_module_version": "~2.1.4",
       "_view_module_version": "~2.1.4",
       "layout": "IPY_MODEL_1713a227616641f19bf6293cf5666997",
       "value": "\n<svg width=100%>\n   <defs>\n    <clipPath id=\"mask\">\n      <rect x=20 y=20 width=\"100%\" height=100%>\n    </clipPath>\n  </defs>\n</svg>\n<style>\n\n.bp {\n    width: 100%;\n    -webkit-clip-path: circle(#mask);\n    clip-path: url(#mask);\n}\n</style>\n<img src=\"bp_solution.png\" class=bp>\n"
      }
     },
     "81fff0bdb14a41d2a79dd6f488847882": {
      "model_module": "jupyter-js-widgets",
      "model_module_version": "~2.1.4",
      "model_name": "HTMLModel",
      "state": {
       "_model_module_version": "~2.1.4",
       "_view_module_version": "~2.1.4",
       "layout": "IPY_MODEL_aa49e94af276426287546a64775f52ba",
       "value": "\n<svg width=\"100%\" height=0><defs><clipPath id=\"mask\">\n<rect x=0 y=0 width='28%' height='500' /><rect x=0 y=0 width='72%' height='380' /><rect x='62%' y=0 width='100%' height='240' /><rect x=0 y=0 width='100%' height='50' />\n</clipPath></defs></svg>\n<style>\n.bp {\n    width: 100%;\n    -webkit-clip-path: circle(#mask);\n    clip-path: url(#mask);\n}\n</style>\n<img src=\"bp_solution.png\" class=bp>\n"
      }
     },
     "821003220c424e75826bfb238885868e": {
      "model_module": "jupyter-js-widgets",
      "model_module_version": "~2.1.4",
      "model_name": "LayoutModel",
      "state": {
       "_model_module_version": "~2.1.4",
       "_view_module_version": "~2.1.4"
      }
     },
     "822296cbe37e4739b4cee05290f8b297": {
      "model_module": "jupyter-js-widgets",
      "model_module_version": "~2.1.4",
      "model_name": "ButtonModel",
      "state": {
       "_model_module_version": "~2.1.4",
       "_view_module_version": "~2.1.4",
       "description": "Previous",
       "icon": "check",
       "layout": "IPY_MODEL_0b75670200884de3a0b71557928d0af2",
       "style": "IPY_MODEL_c143e57872cd46cebb3ef553e78b27a3",
       "tooltip": "Click me"
      }
     },
     "822526bcbdb34a0db491d64c71054c7c": {
      "model_module": "jupyter-js-widgets",
      "model_module_version": "~2.1.4",
      "model_name": "ButtonModel",
      "state": {
       "_model_module_version": "~2.1.4",
       "_view_module_version": "~2.1.4",
       "description": "Next",
       "icon": "check",
       "layout": "IPY_MODEL_d0ba0f9d34a3438f9165001817b737de",
       "style": "IPY_MODEL_e01519da781346a888302f3f3aa198be",
       "tooltip": "Click me"
      }
     },
     "823f78d3e6d54fc4a6675f76341e4318": {
      "model_module": "jupyter-js-widgets",
      "model_module_version": "~2.1.4",
      "model_name": "ButtonStyleModel",
      "state": {
       "_model_module_version": "~2.1.4",
       "_view_module_version": "~2.1.4"
      }
     },
     "82679f7d96ac41149e457e053f685c38": {
      "model_module": "jupyter-js-widgets",
      "model_module_version": "~2.1.4",
      "model_name": "LayoutModel",
      "state": {
       "_model_module_version": "~2.1.4",
       "_view_module_version": "~2.1.4"
      }
     },
     "8273d2c9108b4042b92f65234260c482": {
      "model_module": "jupyter-js-widgets",
      "model_module_version": "~2.1.4",
      "model_name": "ButtonStyleModel",
      "state": {
       "_model_module_version": "~2.1.4",
       "_view_module_version": "~2.1.4"
      }
     },
     "82895cf19dca462bb7b3dfc36010670d": {
      "model_module": "jupyter-js-widgets",
      "model_module_version": "~2.1.4",
      "model_name": "ButtonModel",
      "state": {
       "_model_module_version": "~2.1.4",
       "_view_module_version": "~2.1.4",
       "description": "Next",
       "layout": "IPY_MODEL_b12ac6b22a9545fd89cc0db2ac50a873",
       "style": "IPY_MODEL_d7a3b93ddaae4044ac1950b3ce08498e"
      }
     },
     "82996057a8974d17967f01afda12d68a": {
      "model_module": "jupyter-js-widgets",
      "model_module_version": "~2.1.4",
      "model_name": "ButtonStyleModel",
      "state": {
       "_model_module_version": "~2.1.4",
       "_view_module_version": "~2.1.4"
      }
     },
     "82c8f628ad8b49d09807bfddae67da7e": {
      "model_module": "jupyter-js-widgets",
      "model_module_version": "~2.1.4",
      "model_name": "LayoutModel",
      "state": {
       "_model_module_version": "~2.1.4",
       "_view_module_version": "~2.1.4"
      }
     },
     "82dbd449aef54a76b79506e23eac61d3": {
      "model_module": "jupyter-js-widgets",
      "model_module_version": "~2.1.4",
      "model_name": "LayoutModel",
      "state": {
       "_model_module_version": "~2.1.4",
       "_view_module_version": "~2.1.4"
      }
     },
     "830c8a7e8e934c8f8aa24d623e245a03": {
      "model_module": "jupyter-js-widgets",
      "model_module_version": "~2.1.4",
      "model_name": "ButtonStyleModel",
      "state": {
       "_model_module_version": "~2.1.4",
       "_view_module_version": "~2.1.4"
      }
     },
     "832e327a1a0b467d8938ce3f1d5f583a": {
      "model_module": "jupyter-js-widgets",
      "model_module_version": "~2.1.4",
      "model_name": "ButtonModel",
      "state": {
       "_model_module_version": "~2.1.4",
       "_view_module_version": "~2.1.4",
       "description": "Next",
       "layout": "IPY_MODEL_e154ef13d0dc49e19c8dc1cf00ca96c6",
       "style": "IPY_MODEL_ec7b49ec26604c7aaad2805ad98d11f2"
      }
     },
     "834fcaa590324c3ead9dd4b146cc39b1": {
      "model_module": "jupyter-js-widgets",
      "model_module_version": "~2.1.4",
      "model_name": "HTMLModel",
      "state": {
       "_model_module_version": "~2.1.4",
       "_view_module_version": "~2.1.4",
       "layout": "IPY_MODEL_c99380d63f00408a940cf04568fc01fe",
       "value": "\n<svg width=\"100%\" height=0><defs><clipPath id=\"mask\">\n\n<svg width=\"100%\" height=0><defs><clipPath id=\"mask\">\n<rect x=0 y=0 width='28%' height='500'>\n</clipPath></defs></svg>\n<style>\n.bp {\n    width: 100%;\n    -webkit-clip-path: circle(#mask);\n    clip-path: url(#mask);\n}\n</style>\n<img src=\"bp_solution.png\" class=bp>\n\n</clipPath></defs></svg>\n<style>\n.bp {\n    width: 100%;\n    -webkit-clip-path: circle(#mask);\n    clip-path: url(#mask);\n}\n</style>\n<img src=\"bp_solution.png\" class=bp>\n"
      }
     },
     "83510ef7258a430586d7f75b8dacbc60": {
      "model_module": "jupyter-js-widgets",
      "model_module_version": "~2.1.4",
      "model_name": "ButtonStyleModel",
      "state": {
       "_model_module_version": "~2.1.4",
       "_view_module_version": "~2.1.4"
      }
     },
     "8351d692b74a4dd2b22736a4687b9000": {
      "model_module": "jupyter-js-widgets",
      "model_module_version": "~2.1.4",
      "model_name": "LayoutModel",
      "state": {
       "_model_module_version": "~2.1.4",
       "_view_module_version": "~2.1.4"
      }
     },
     "838cc454a0f9447aa8f7c6173449b0e5": {
      "model_module": "jupyter-js-widgets",
      "model_module_version": "~2.1.4",
      "model_name": "LayoutModel",
      "state": {
       "_model_module_version": "~2.1.4",
       "_view_module_version": "~2.1.4"
      }
     },
     "83e936f1ec584c2da344f811588da186": {
      "model_module": "jupyter-js-widgets",
      "model_module_version": "~2.1.4",
      "model_name": "ButtonModel",
      "state": {
       "_model_module_version": "~2.1.4",
       "_view_module_version": "~2.1.4",
       "description": "Next",
       "icon": "check",
       "layout": "IPY_MODEL_2519d6e54a3a4ecb9f22d809ceb09401",
       "style": "IPY_MODEL_9e9c60ceb82740798a28ffe8ca7c9560",
       "tooltip": "Click me"
      }
     },
     "83fc776d1c99494da7c9a284c137fef8": {
      "model_module": "jupyter-js-widgets",
      "model_module_version": "~2.1.4",
      "model_name": "ButtonStyleModel",
      "state": {
       "_model_module_version": "~2.1.4",
       "_view_module_version": "~2.1.4"
      }
     },
     "83ffd082c1fa46d89ab43e88e4d67337": {
      "model_module": "jupyter-js-widgets",
      "model_module_version": "~2.1.4",
      "model_name": "ButtonModel",
      "state": {
       "_model_module_version": "~2.1.4",
       "_view_module_version": "~2.1.4",
       "description": "Next",
       "layout": "IPY_MODEL_a9f1b896a71141fbaff89b0b2ebbd3cb",
       "style": "IPY_MODEL_e4ef873cff5f439080ae5294bac81653"
      }
     },
     "84453be2f0ec460391a057015010c0a1": {
      "model_module": "jupyter-js-widgets",
      "model_module_version": "~2.1.4",
      "model_name": "HTMLModel",
      "state": {
       "_model_module_version": "~2.1.4",
       "_view_module_version": "~2.1.4",
       "layout": "IPY_MODEL_528ff9f9a8d14cd28da963049574aa01",
       "value": "\n<svg width=\"100%\" height=0><defs><clipPath id=\"mask\">\n<rect x=0 y=0 width='100%' height='100'>\n</clipPath></defs></svg>\n<style>\n.bp {\n    width: 100%;\n    -webkit-clip-path: circle(#mask);\n    clip-path: url(#mask);\n}\n</style>\n<img src=\"bp_solution.png\" class=bp>\n"
      }
     },
     "846527b030f84457a40d66f034d6572f": {
      "model_module": "jupyter-js-widgets",
      "model_module_version": "~2.1.4",
      "model_name": "ButtonStyleModel",
      "state": {
       "_model_module_version": "~2.1.4",
       "_view_module_version": "~2.1.4"
      }
     },
     "84acc68a6b694bc1995584d2165539fa": {
      "model_module": "jupyter-js-widgets",
      "model_module_version": "~2.1.4",
      "model_name": "ButtonModel",
      "state": {
       "_model_module_version": "~2.1.4",
       "_view_module_version": "~2.1.4",
       "description": "Next",
       "layout": "IPY_MODEL_6664a29f89794b2cbeac40dd7bd15490",
       "style": "IPY_MODEL_7389d87d55c3452eaff877f89eb61f47"
      }
     },
     "84b5ec59ab564dd0982805d1b21e1a25": {
      "model_module": "jupyter-js-widgets",
      "model_module_version": "~2.1.4",
      "model_name": "HTMLModel",
      "state": {
       "_model_module_version": "~2.1.4",
       "_view_module_version": "~2.1.4",
       "layout": "IPY_MODEL_4812a1bfc84740bb9dedd4ad237e1726",
       "value": "\n<svg width=\"100%\" height=0><defs><clipPath id=\"mask\">\n<rect x=0 y=0 width='30%' height='500'>\n</clipPath></defs></svg>\n<style>\n.bp {\n    width: 100%;\n    -webkit-clip-path: circle(#mask);\n    clip-path: url(#mask);\n}\n</style>\n<img src=\"bp_solution.png\" class=bp>\n"
      }
     },
     "84c07731fc184fcc93ce7ff5fb9d45ed": {
      "model_module": "jupyter-js-widgets",
      "model_module_version": "~2.1.4",
      "model_name": "LayoutModel",
      "state": {
       "_model_module_version": "~2.1.4",
       "_view_module_version": "~2.1.4"
      }
     },
     "84ed4b12957d4bb9b40485e45546e59c": {
      "model_module": "jupyter-js-widgets",
      "model_module_version": "~2.1.4",
      "model_name": "LayoutModel",
      "state": {
       "_model_module_version": "~2.1.4",
       "_view_module_version": "~2.1.4"
      }
     },
     "85c12024d9d44a7c817c25508d7cf50b": {
      "model_module": "jupyter-js-widgets",
      "model_module_version": "~2.1.4",
      "model_name": "ButtonModel",
      "state": {
       "_model_module_version": "~2.1.4",
       "_view_module_version": "~2.1.4",
       "description": "Previous",
       "layout": "IPY_MODEL_538ca112b7d6447e82dd37876cd3e663",
       "style": "IPY_MODEL_3585dec00717404d8a8187369e7f06af"
      }
     },
     "85e2d85579214e11b331f5ecf90560c4": {
      "model_module": "jupyter-js-widgets",
      "model_module_version": "~2.1.4",
      "model_name": "ButtonModel",
      "state": {
       "_model_module_version": "~2.1.4",
       "_view_module_version": "~2.1.4",
       "description": "Previous",
       "layout": "IPY_MODEL_f4c15ea119d1477bbc3e049755dfa08c",
       "style": "IPY_MODEL_507d00e18787494eb6af1838804165c8"
      }
     },
     "85ede3b137074c3284aca26081c3aee1": {
      "model_module": "jupyter-js-widgets",
      "model_module_version": "~2.1.4",
      "model_name": "HTMLModel",
      "state": {
       "_model_module_version": "~2.1.4",
       "_view_module_version": "~2.1.4",
       "layout": "IPY_MODEL_d8c5f28f23fe4c00b1f139f981cb1931",
       "value": "\n<svg width=\"100%\">\n   <defs>\n    <clipPath id=\"mask\">\n      <rect x=0 y=100 width=\"50%\" height=\"400\">\n    </clipPath>\n  </defs>\n</svg>\n<style>\n.bp {\n    width: 100%;\n    -webkit-clip-path: circle(#mask);\n    clip-path: url(#mask);\n}\n</style>\n<img src=\"bp_solution.png\" class=bp>\n"
      }
     },
     "86030d6eca424b04a74666205b6a4064": {
      "model_module": "jupyter-js-widgets",
      "model_module_version": "~2.1.4",
      "model_name": "ButtonModel",
      "state": {
       "_model_module_version": "~2.1.4",
       "_view_module_version": "~2.1.4",
       "description": "Previous",
       "layout": "IPY_MODEL_4b38f3fe0c9b498b99cfcfa846ea7f89",
       "style": "IPY_MODEL_a8b34f9cf37d49a194ed0234b52817d1"
      }
     },
     "86150c0f5ee548e788e02ef3d848e420": {
      "model_module": "jupyter-js-widgets",
      "model_module_version": "~2.1.4",
      "model_name": "ButtonModel",
      "state": {
       "_model_module_version": "~2.1.4",
       "_view_module_version": "~2.1.4",
       "description": "Next",
       "layout": "IPY_MODEL_ef1073ec701f49cabf7ead8ff46139e7",
       "style": "IPY_MODEL_72df71340663426cab77bc5edd5903a6"
      }
     },
     "86243190c3c3465d92e783b3f2c87557": {
      "model_module": "jupyter-js-widgets",
      "model_module_version": "~2.1.4",
      "model_name": "LayoutModel",
      "state": {
       "_model_module_version": "~2.1.4",
       "_view_module_version": "~2.1.4"
      }
     },
     "863b27afb73d4f19bccf5c7ce71faa4c": {
      "model_module": "jupyter-js-widgets",
      "model_module_version": "~2.1.4",
      "model_name": "ButtonModel",
      "state": {
       "_model_module_version": "~2.1.4",
       "_view_module_version": "~2.1.4",
       "description": "Previous",
       "layout": "IPY_MODEL_9278cac3d45c4daaa44c7fb594ec78e4",
       "style": "IPY_MODEL_af816c7ee6244f2fb1b78cd87f69d251"
      }
     },
     "865fab1aa1bb43a18c58882ee853a93e": {
      "model_module": "jupyter-js-widgets",
      "model_module_version": "~2.1.4",
      "model_name": "ButtonModel",
      "state": {
       "_model_module_version": "~2.1.4",
       "_view_module_version": "~2.1.4",
       "description": "Previous",
       "layout": "IPY_MODEL_5034762eb0f04905b1ecf36092c46225",
       "style": "IPY_MODEL_17427d0b38b140c0bd47e0889db8b846"
      }
     },
     "866e559c0c614d289a49ec6a7f502546": {
      "model_module": "jupyter-js-widgets",
      "model_module_version": "~2.1.4",
      "model_name": "HTMLModel",
      "state": {
       "_model_module_version": "~2.1.4",
       "_view_module_version": "~2.1.4",
       "layout": "IPY_MODEL_13c23295c9e8419980f075f99baf1828",
       "value": "bla"
      }
     },
     "86758d5200bc40a8804cd7b0608666cd": {
      "model_module": "jupyter-js-widgets",
      "model_module_version": "~2.1.4",
      "model_name": "ButtonStyleModel",
      "state": {
       "_model_module_version": "~2.1.4",
       "_view_module_version": "~2.1.4"
      }
     },
     "867ecbd293484845994c59c8f913458b": {
      "model_module": "jupyter-js-widgets",
      "model_module_version": "~2.1.4",
      "model_name": "HTMLModel",
      "state": {
       "_model_module_version": "~2.1.4",
       "_view_module_version": "~2.1.4",
       "layout": "IPY_MODEL_31df595f5ddd4f81aec4277d4b86c28a",
       "value": "<img src='bp_solution.png'>"
      }
     },
     "868f0843573f4c40930fee8441cb90b4": {
      "model_module": "jupyter-js-widgets",
      "model_module_version": "~2.1.4",
      "model_name": "LayoutModel",
      "state": {
       "_model_module_version": "~2.1.4",
       "_view_module_version": "~2.1.4"
      }
     },
     "8696cd10f765429ab8e0dc29b7812ff6": {
      "model_module": "jupyter-js-widgets",
      "model_module_version": "~2.1.4",
      "model_name": "ButtonModel",
      "state": {
       "_model_module_version": "~2.1.4",
       "_view_module_version": "~2.1.4",
       "description": "Next",
       "layout": "IPY_MODEL_923d4af447c54388a8bd554ee2af3ea3",
       "style": "IPY_MODEL_18344f3c0b88477fb63ce486a0bb0c29"
      }
     },
     "86baf75302ae4270be29e968a1baf86c": {
      "model_module": "jupyter-js-widgets",
      "model_module_version": "~2.1.4",
      "model_name": "ButtonModel",
      "state": {
       "_model_module_version": "~2.1.4",
       "_view_module_version": "~2.1.4",
       "description": "Next",
       "icon": "check",
       "layout": "IPY_MODEL_4fa276f806d34bf2bd780925506abbc6",
       "style": "IPY_MODEL_f039579e9e2d4286a3b902db43d9f397",
       "tooltip": "Click me"
      }
     },
     "86dc0fd3559747c4a8a2a2276ae72e05": {
      "model_module": "jupyter-js-widgets",
      "model_module_version": "~2.1.4",
      "model_name": "ButtonModel",
      "state": {
       "_model_module_version": "~2.1.4",
       "_view_module_version": "~2.1.4",
       "description": "Previous",
       "icon": "check",
       "layout": "IPY_MODEL_e8d505adbb7b4528bb987c93e5027e00",
       "style": "IPY_MODEL_b74aa0faa0fb43008ff188a81579f4c1",
       "tooltip": "Click me"
      }
     },
     "86eb9050e74c40d5a0b07b11d9b482e0": {
      "model_module": "jupyter-js-widgets",
      "model_module_version": "~2.1.4",
      "model_name": "LayoutModel",
      "state": {
       "_model_module_version": "~2.1.4",
       "_view_module_version": "~2.1.4"
      }
     },
     "86f242f4e0e14b158fced638cccd9642": {
      "model_module": "jupyter-js-widgets",
      "model_module_version": "~2.1.4",
      "model_name": "ButtonModel",
      "state": {
       "_model_module_version": "~2.1.4",
       "_view_module_version": "~2.1.4",
       "description": "Next",
       "icon": "check",
       "layout": "IPY_MODEL_965616ae53b14d908b1cc29b3b44a1b3",
       "style": "IPY_MODEL_4e2797964e714608a7f18ffc31a27511",
       "tooltip": "Click me"
      }
     },
     "86f9d2cbff8d4582942b2c5dfe2c8ae1": {
      "model_module": "jupyter-js-widgets",
      "model_module_version": "~2.1.4",
      "model_name": "LayoutModel",
      "state": {
       "_model_module_version": "~2.1.4",
       "_view_module_version": "~2.1.4"
      }
     },
     "8700101680ec4e808b8fb40744f1329a": {
      "model_module": "jupyter-js-widgets",
      "model_module_version": "~2.1.4",
      "model_name": "LayoutModel",
      "state": {
       "_model_module_version": "~2.1.4",
       "_view_module_version": "~2.1.4"
      }
     },
     "87455873dfee48c48d547709b2d1f7c0": {
      "model_module": "jupyter-js-widgets",
      "model_module_version": "~2.1.4",
      "model_name": "ButtonStyleModel",
      "state": {
       "_model_module_version": "~2.1.4",
       "_view_module_version": "~2.1.4"
      }
     },
     "876f896e6b6242f99f4bf40d9f94ba72": {
      "model_module": "jupyter-js-widgets",
      "model_module_version": "~2.1.4",
      "model_name": "HTMLModel",
      "state": {
       "_model_module_version": "~2.1.4",
       "_view_module_version": "~2.1.4",
       "layout": "IPY_MODEL_70320d43ed434f47a3a10ce8ed32d2d3",
       "value": "\n<svg width=\"100%\" height=500><defs><clipPath id=\"mask\">\n\n            <rect x=0 y=0 width=\"50%\" height=\"100\">\n</clipPath></defs></svg>\n<style>\n.bp {\n    width: 100%;\n    -webkit-clip-path: circle(#mask);\n    clip-path: url(#mask);\n}\n</style>\n<img src=\"bp_solution.png\" class=bp>\n"
      }
     },
     "8772ea2395b942d2a33ed0242614ca77": {
      "model_module": "jupyter-js-widgets",
      "model_module_version": "~2.1.4",
      "model_name": "HTMLModel",
      "state": {
       "_model_module_version": "~2.1.4",
       "_view_module_version": "~2.1.4",
       "layout": "IPY_MODEL_6c3ca29422f4402ca7e5a8a3dd8c79e5",
       "value": "\n<svg width=\"100%\" height=0><defs><clipPath id=\"mask\">\n<rect x=0 y=500 width='28%' height='200'><rect x=0 y=0 width='28%' height='500'>\n</clipPath></defs></svg>\n<style>\n.bp {\n    width: 100%;\n    -webkit-clip-path: circle(#mask);\n    clip-path: url(#mask);\n}\n</style>\n<img src=\"bp_solution.png\" class=bp>\n"
      }
     },
     "877b248c00d54e088545e03dce9711ec": {
      "model_module": "jupyter-js-widgets",
      "model_module_version": "~2.1.4",
      "model_name": "ButtonStyleModel",
      "state": {
       "_model_module_version": "~2.1.4",
       "_view_module_version": "~2.1.4"
      }
     },
     "87ab21388f5c4cb5847dba91b70b6ce7": {
      "model_module": "jupyter-js-widgets",
      "model_module_version": "~2.1.4",
      "model_name": "LayoutModel",
      "state": {
       "_model_module_version": "~2.1.4",
       "_view_module_version": "~2.1.4"
      }
     },
     "87aff9f3cb184ab08d11a724f6feaa83": {
      "model_module": "jupyter-js-widgets",
      "model_module_version": "~2.1.4",
      "model_name": "HTMLModel",
      "state": {
       "_model_module_version": "~2.1.4",
       "_view_module_version": "~2.1.4",
       "layout": "IPY_MODEL_230d586bb27c43f79cbc05b49653350a",
       "value": "\n<style>\nimg {\n    width: 100%\n    clip-path: circle(50px)\n}\n</style>\n<img src=\"bp_solution.png\">\n"
      }
     },
     "87d094fffd2d410ea8b0e52855a64ba5": {
      "model_module": "jupyter-js-widgets",
      "model_module_version": "~2.1.4",
      "model_name": "ButtonStyleModel",
      "state": {
       "_model_module_version": "~2.1.4",
       "_view_module_version": "~2.1.4"
      }
     },
     "87e8179c11bb4b98a4f03c6802ce6f00": {
      "model_module": "jupyter-js-widgets",
      "model_module_version": "~2.1.4",
      "model_name": "LayoutModel",
      "state": {
       "_model_module_version": "~2.1.4",
       "_view_module_version": "~2.1.4"
      }
     },
     "87f7fd5d0bc541da91382f91f1b14f3b": {
      "model_module": "jupyter-js-widgets",
      "model_module_version": "~2.1.4",
      "model_name": "LayoutModel",
      "state": {
       "_model_module_version": "~2.1.4",
       "_view_module_version": "~2.1.4"
      }
     },
     "88331c16317140dc8d17de598f4b40bc": {
      "model_module": "jupyter-js-widgets",
      "model_module_version": "~2.1.4",
      "model_name": "LayoutModel",
      "state": {
       "_model_module_version": "~2.1.4",
       "_view_module_version": "~2.1.4"
      }
     },
     "884054dedd664720af1287533871694d": {
      "model_module": "jupyter-js-widgets",
      "model_module_version": "~2.1.4",
      "model_name": "LayoutModel",
      "state": {
       "_model_module_version": "~2.1.4",
       "_view_module_version": "~2.1.4"
      }
     },
     "88629b3773614318b5b01b393d1d26c2": {
      "model_module": "jupyter-js-widgets",
      "model_module_version": "~2.1.4",
      "model_name": "ButtonStyleModel",
      "state": {
       "_model_module_version": "~2.1.4",
       "_view_module_version": "~2.1.4"
      }
     },
     "886b0a13b0004fb79bb779f531ce553c": {
      "model_module": "jupyter-js-widgets",
      "model_module_version": "~2.1.4",
      "model_name": "LayoutModel",
      "state": {
       "_model_module_version": "~2.1.4",
       "_view_module_version": "~2.1.4",
       "align_items": "stretch",
       "border": "solid",
       "display": "flex",
       "flex_flow": "row",
       "width": "50%"
      }
     },
     "886cc25e7e054f45bd27e1b21f18ab81": {
      "model_module": "jupyter-js-widgets",
      "model_module_version": "~2.1.4",
      "model_name": "ButtonStyleModel",
      "state": {
       "_model_module_version": "~2.1.4",
       "_view_module_version": "~2.1.4"
      }
     },
     "889d3742f68e40f0967b08a25b1a56b8": {
      "model_module": "jupyter-js-widgets",
      "model_module_version": "~2.1.4",
      "model_name": "ButtonStyleModel",
      "state": {
       "_model_module_version": "~2.1.4",
       "_view_module_version": "~2.1.4"
      }
     },
     "88b0bc890718413092727636dc29d0e5": {
      "model_module": "jupyter-js-widgets",
      "model_module_version": "~2.1.4",
      "model_name": "ButtonModel",
      "state": {
       "_model_module_version": "~2.1.4",
       "_view_module_version": "~2.1.4",
       "description": "Previous",
       "layout": "IPY_MODEL_1a391caf870843bd837340985c54e5dd",
       "style": "IPY_MODEL_91e19e2a20d7493488d42cc71d6b8287"
      }
     },
     "88cab27b73484ea1aa615bd27dffb518": {
      "model_module": "jupyter-js-widgets",
      "model_module_version": "~2.1.4",
      "model_name": "ButtonModel",
      "state": {
       "_model_module_version": "~2.1.4",
       "_view_module_version": "~2.1.4",
       "description": "Next",
       "icon": "check",
       "layout": "IPY_MODEL_ec6203dc57d1423180893a457198c2b3",
       "style": "IPY_MODEL_0126161f2a20486ea562244f4f402c56",
       "tooltip": "Click me"
      }
     },
     "88cd59ee4ceb4ac49fe083694eff10aa": {
      "model_module": "jupyter-js-widgets",
      "model_module_version": "~2.1.4",
      "model_name": "HTMLModel",
      "state": {
       "_model_module_version": "~2.1.4",
       "_view_module_version": "~2.1.4",
       "layout": "IPY_MODEL_33c4ac02720f433483951de0f158b607",
       "value": "<img src='bp_solution.png' width='100%' style='clip_path: circle(100 px)>"
      }
     },
     "88f8db8de8914d2eae9ed6d2cc64b01d": {
      "model_module": "jupyter-js-widgets",
      "model_module_version": "~2.1.4",
      "model_name": "HTMLModel",
      "state": {
       "_model_module_version": "~2.1.4",
       "_view_module_version": "~2.1.4",
       "layout": "IPY_MODEL_419379ea35d849f7b47b1e680313ed73",
       "value": "\n<svg>\n   <defs>\n    <clipPath id=\"mask\">\n      <rect x=20 y=20 width=\"50%\" height=100>\n    </clipPath>\n  </defs>\n</svg>\n<style>\n.bp {\n    width: 100%;\n    -webkit-clip-path: circle(50px);\n    clip-path: url(#mask);\n}\n</style>\n<img src=\"bp_solution.png\" class=bp>\n"
      }
     },
     "8917fcaa9033499fb1d47c93adceed49": {
      "model_module": "jupyter-js-widgets",
      "model_module_version": "~2.1.4",
      "model_name": "ButtonModel",
      "state": {
       "_model_module_version": "~2.1.4",
       "_view_module_version": "~2.1.4",
       "description": "Previous",
       "layout": "IPY_MODEL_103ce6fcbd0442f7a43e2af9365a991e",
       "style": "IPY_MODEL_68a338dbe24b401caef150d63d594ce0"
      }
     },
     "891e6be90e134e2cb6f974a660a69736": {
      "model_module": "jupyter-js-widgets",
      "model_module_version": "~2.1.4",
      "model_name": "ButtonStyleModel",
      "state": {
       "_model_module_version": "~2.1.4",
       "_view_module_version": "~2.1.4"
      }
     },
     "891feca829ba4923bf65b3b00dd23289": {
      "model_module": "jupyter-js-widgets",
      "model_module_version": "~2.1.4",
      "model_name": "ButtonModel",
      "state": {
       "_model_module_version": "~2.1.4",
       "_view_module_version": "~2.1.4",
       "description": "Previous",
       "icon": "check",
       "layout": "IPY_MODEL_a7df3e60eba145f8833818d1f9577be6",
       "style": "IPY_MODEL_dd074f3606304c3fb2cf965fc8008e7e",
       "tooltip": "Click me"
      }
     },
     "89560f9a538b4fa2a348e124bc0e1228": {
      "model_module": "jupyter-js-widgets",
      "model_module_version": "~2.1.4",
      "model_name": "HTMLModel",
      "state": {
       "_model_module_version": "~2.1.4",
       "_view_module_version": "~2.1.4",
       "layout": "IPY_MODEL_a65ba07d58904a808ed20930d3d4935f",
       "value": "\n<svg width=\"100%\" height=0><defs><clipPath id=\"mask\">\n<rect x=0 y=350 width='28%' height='500' /><rect x=0 y=0 width='100%' height='50' />\n</clipPath></defs></svg>\n<style>\n.bp {\n    width: 100%;\n    -webkit-clip-path: circle(#mask);\n    clip-path: url(#mask);\n}\n</style>\n<img src=\"bp_solution.png\" class=bp>\n"
      }
     },
     "89718d74885f4a33bcf0b5c459dac269": {
      "model_module": "jupyter-js-widgets",
      "model_module_version": "~2.1.4",
      "model_name": "ButtonModel",
      "state": {
       "_model_module_version": "~2.1.4",
       "_view_module_version": "~2.1.4",
       "description": "Next",
       "icon": "check",
       "layout": "IPY_MODEL_c98cf62af81e48c7901ffa1faae46987",
       "style": "IPY_MODEL_bd2d60616ae047f39f0cd3338e93d328",
       "tooltip": "Click me"
      }
     },
     "897334674f2a402bb53f799da5da9b5b": {
      "model_module": "jupyter-js-widgets",
      "model_module_version": "~2.1.4",
      "model_name": "ButtonStyleModel",
      "state": {
       "_model_module_version": "~2.1.4",
       "_view_module_version": "~2.1.4"
      }
     },
     "898a052afd3c4c0fb1908d963a365b3a": {
      "model_module": "jupyter-js-widgets",
      "model_module_version": "~2.1.4",
      "model_name": "LayoutModel",
      "state": {
       "_model_module_version": "~2.1.4",
       "_view_module_version": "~2.1.4"
      }
     },
     "89986b224e6547d99461d05c1d979f85": {
      "model_module": "jupyter-js-widgets",
      "model_module_version": "~2.1.4",
      "model_name": "LayoutModel",
      "state": {
       "_model_module_version": "~2.1.4",
       "_view_module_version": "~2.1.4"
      }
     },
     "89a6e8c497bc483db1d0fb90ee5fcf27": {
      "model_module": "jupyter-js-widgets",
      "model_module_version": "~2.1.4",
      "model_name": "HTMLModel",
      "state": {
       "_model_module_version": "~2.1.4",
       "_view_module_version": "~2.1.4",
       "layout": "IPY_MODEL_bfb3ad29245341dea1550899b952300a",
       "value": "\n<svg width=\"100%\">\n   <defs>\n    <clipPath id=\"mask\">\n      <rect x=0 y=100 width=\"50%\" height=\"500\">\n    </clipPath>\n  </defs>\n</svg>\n<style>\n\n.bp {\n    width: 100%;\n    -webkit-clip-path: circle(#mask);\n    clip-path: url(#mask);\n}\n</style>\n<img src=\"bp_solution.png\" class=bp>\n"
      }
     },
     "89c568d613e34292ac06a80c17aa45d8": {
      "model_module": "jupyter-js-widgets",
      "model_module_version": "~2.1.4",
      "model_name": "ButtonStyleModel",
      "state": {
       "_model_module_version": "~2.1.4",
       "_view_module_version": "~2.1.4"
      }
     },
     "89c5cbdc474c43028d3e8aca5609ca3d": {
      "model_module": "jupyter-js-widgets",
      "model_module_version": "~2.1.4",
      "model_name": "ButtonStyleModel",
      "state": {
       "_model_module_version": "~2.1.4",
       "_view_module_version": "~2.1.4"
      }
     },
     "8a69a9e2a99a41e9a08ede000b4ac85a": {
      "model_module": "jupyter-js-widgets",
      "model_module_version": "~2.1.4",
      "model_name": "LayoutModel",
      "state": {
       "_model_module_version": "~2.1.4",
       "_view_module_version": "~2.1.4"
      }
     },
     "8a8a145ca38746bab1bf2bd7325eabdd": {
      "model_module": "jupyter-js-widgets",
      "model_module_version": "~2.1.4",
      "model_name": "ButtonStyleModel",
      "state": {
       "_model_module_version": "~2.1.4",
       "_view_module_version": "~2.1.4"
      }
     },
     "8a9149725b554286a7b5b65125eb3b7a": {
      "model_module": "jupyter-js-widgets",
      "model_module_version": "~2.1.4",
      "model_name": "LayoutModel",
      "state": {
       "_model_module_version": "~2.1.4",
       "_view_module_version": "~2.1.4"
      }
     },
     "8ab0b82d7b4947f6a69c465d332acb06": {
      "model_module": "jupyter-js-widgets",
      "model_module_version": "~2.1.4",
      "model_name": "LayoutModel",
      "state": {
       "_model_module_version": "~2.1.4",
       "_view_module_version": "~2.1.4"
      }
     },
     "8abfcf85612a44ea8525ec8ba60817e5": {
      "model_module": "jupyter-js-widgets",
      "model_module_version": "~2.1.4",
      "model_name": "LayoutModel",
      "state": {
       "_model_module_version": "~2.1.4",
       "_view_module_version": "~2.1.4"
      }
     },
     "8ac8a962bcc744ecaeadfb802c5a3769": {
      "model_module": "jupyter-js-widgets",
      "model_module_version": "~2.1.4",
      "model_name": "ButtonModel",
      "state": {
       "_model_module_version": "~2.1.4",
       "_view_module_version": "~2.1.4",
       "description": "Previous",
       "layout": "IPY_MODEL_13f9b983cbb94b7586d99f81157081cb",
       "style": "IPY_MODEL_bd6c510844534b21a946dc7ae151ad33"
      }
     },
     "8ad56eb9d7ae4f188190cb864c5eff12": {
      "model_module": "jupyter-js-widgets",
      "model_module_version": "~2.1.4",
      "model_name": "ButtonModel",
      "state": {
       "_model_module_version": "~2.1.4",
       "_view_module_version": "~2.1.4",
       "description": "Previous",
       "layout": "IPY_MODEL_b5c8b62eb3504e72b8196f9a83c2fe4c",
       "style": "IPY_MODEL_42769cfce9bb44c7ac38b7d9c81d6465"
      }
     },
     "8b02369ab7e241d98d16a4839ab6fee0": {
      "model_module": "jupyter-js-widgets",
      "model_module_version": "~2.1.4",
      "model_name": "ButtonStyleModel",
      "state": {
       "_model_module_version": "~2.1.4",
       "_view_module_version": "~2.1.4"
      }
     },
     "8b085eeaf9c84194be54f0ab59a6d857": {
      "model_module": "jupyter-js-widgets",
      "model_module_version": "~2.1.4",
      "model_name": "LayoutModel",
      "state": {
       "_model_module_version": "~2.1.4",
       "_view_module_version": "~2.1.4"
      }
     },
     "8b170b3197374252a8aab5e19a52c89a": {
      "model_module": "jupyter-js-widgets",
      "model_module_version": "~2.1.4",
      "model_name": "PlayModel",
      "state": {
       "_model_module_version": "~2.1.4",
       "_view_module_version": "~2.1.4",
       "description": "Press play",
       "layout": "IPY_MODEL_e74e62ef8d074c7299274c1f72ecdfbb",
       "value": 50
      }
     },
     "8b49eee1b7424ec9b231f24f6a97372b": {
      "model_module": "jupyter-js-widgets",
      "model_module_version": "~2.1.4",
      "model_name": "LayoutModel",
      "state": {
       "_model_module_version": "~2.1.4",
       "_view_module_version": "~2.1.4"
      }
     },
     "8b4cfc712a474b04bc9de49d7f78fdb3": {
      "model_module": "jupyter-js-widgets",
      "model_module_version": "~2.1.4",
      "model_name": "LayoutModel",
      "state": {
       "_model_module_version": "~2.1.4",
       "_view_module_version": "~2.1.4"
      }
     },
     "8b89f5a3e02f40d2a598621d3f7ec4e4": {
      "model_module": "jupyter-js-widgets",
      "model_module_version": "~2.1.4",
      "model_name": "LayoutModel",
      "state": {
       "_model_module_version": "~2.1.4",
       "_view_module_version": "~2.1.4"
      }
     },
     "8ba2847e5cf74543a5a76e99f737646e": {
      "model_module": "jupyter-js-widgets",
      "model_module_version": "~2.1.4",
      "model_name": "LayoutModel",
      "state": {
       "_model_module_version": "~2.1.4",
       "_view_module_version": "~2.1.4"
      }
     },
     "8bc8a042227c4b75ae999872ba4db230": {
      "model_module": "jupyter-js-widgets",
      "model_module_version": "~2.1.4",
      "model_name": "LayoutModel",
      "state": {
       "_model_module_version": "~2.1.4",
       "_view_module_version": "~2.1.4"
      }
     },
     "8bea1997a3e64e5eab5344c7033901ac": {
      "model_module": "jupyter-js-widgets",
      "model_module_version": "~2.1.4",
      "model_name": "ButtonModel",
      "state": {
       "_model_module_version": "~2.1.4",
       "_view_module_version": "~2.1.4",
       "description": "Next",
       "icon": "check",
       "layout": "IPY_MODEL_0b33303201e946d3a47301de63f86fb3",
       "style": "IPY_MODEL_01059d78ca5f4d118a34bbd7f2a17379",
       "tooltip": "Click me"
      }
     },
     "8c140e64c00847a99ca885f077ee1c9a": {
      "model_module": "jupyter-js-widgets",
      "model_module_version": "~2.1.4",
      "model_name": "LayoutModel",
      "state": {
       "_model_module_version": "~2.1.4",
       "_view_module_version": "~2.1.4"
      }
     },
     "8c16b6d03eb740e79278a6d56e868a37": {
      "model_module": "jupyter-js-widgets",
      "model_module_version": "~2.1.4",
      "model_name": "ButtonModel",
      "state": {
       "_model_module_version": "~2.1.4",
       "_view_module_version": "~2.1.4",
       "description": "Next",
       "icon": "check",
       "layout": "IPY_MODEL_bb917cddbd1742f5a5ae50a1e3c1ad51",
       "style": "IPY_MODEL_7665293111ac4ea793148643dc51c7c0",
       "tooltip": "Click me"
      }
     },
     "8c5852f0aaf34697bb495592d54c052e": {
      "model_module": "jupyter-js-widgets",
      "model_module_version": "~2.1.4",
      "model_name": "LayoutModel",
      "state": {
       "_model_module_version": "~2.1.4",
       "_view_module_version": "~2.1.4"
      }
     },
     "8ca50ef2b66d42fb9750d342e0a6dc1c": {
      "model_module": "jupyter-js-widgets",
      "model_module_version": "~2.1.4",
      "model_name": "LayoutModel",
      "state": {
       "_model_module_version": "~2.1.4",
       "_view_module_version": "~2.1.4"
      }
     },
     "8cadebf8673141bda7e36986f8b1d645": {
      "model_module": "jupyter-js-widgets",
      "model_module_version": "~2.1.4",
      "model_name": "ButtonStyleModel",
      "state": {
       "_model_module_version": "~2.1.4",
       "_view_module_version": "~2.1.4"
      }
     },
     "8cb6d5c83c5e4f24a102ab4d567a0dda": {
      "model_module": "jupyter-js-widgets",
      "model_module_version": "~2.1.4",
      "model_name": "ButtonModel",
      "state": {
       "_model_module_version": "~2.1.4",
       "_view_module_version": "~2.1.4",
       "description": "Previous",
       "layout": "IPY_MODEL_26c9603d8e6c4c7aa885b1bc015f6c83",
       "style": "IPY_MODEL_07ffbfa53e8440f58cf48b5e7e15d64f"
      }
     },
     "8cb8cf9cb8ab4d6088fdf5a0a7b2059b": {
      "model_module": "jupyter-js-widgets",
      "model_module_version": "~2.1.4",
      "model_name": "SliderStyleModel",
      "state": {
       "_model_module_version": "~2.1.4",
       "_view_module_version": "~2.1.4"
      }
     },
     "8cc991e4da214728b05d44378138ef85": {
      "model_module": "jupyter-js-widgets",
      "model_module_version": "~2.1.4",
      "model_name": "ButtonModel",
      "state": {
       "_model_module_version": "~2.1.4",
       "_view_module_version": "~2.1.4",
       "description": "Previous",
       "icon": "check",
       "layout": "IPY_MODEL_f57235e7744f4faf8fa900af428cf06f",
       "style": "IPY_MODEL_b275bcb8d27a4720bffb1d5a0db6a284",
       "tooltip": "Click me"
      }
     },
     "8cd53b2d805e4b3a893ac15186b972bf": {
      "model_module": "jupyter-js-widgets",
      "model_module_version": "~2.1.4",
      "model_name": "ButtonStyleModel",
      "state": {
       "_model_module_version": "~2.1.4",
       "_view_module_version": "~2.1.4"
      }
     },
     "8ce8c56a93104ddd8b4ffab2fafc514f": {
      "model_module": "jupyter-js-widgets",
      "model_module_version": "~2.1.4",
      "model_name": "ButtonModel",
      "state": {
       "_model_module_version": "~2.1.4",
       "_view_module_version": "~2.1.4",
       "description": "Next",
       "icon": "check",
       "layout": "IPY_MODEL_b01cf77652fb42f2bebc4671650e4cca",
       "style": "IPY_MODEL_50d5751f248d43a28f0f7f485fddcd98",
       "tooltip": "Click me"
      }
     },
     "8cf6dcb0b5b54082a60c4625c8ff4399": {
      "model_module": "jupyter-js-widgets",
      "model_module_version": "~2.1.4",
      "model_name": "IntSliderModel",
      "state": {
       "_model_module_version": "~2.1.4",
       "_view_module_version": "~2.1.4",
       "layout": "IPY_MODEL_407e2dc665b34dcbb93289b447420085",
       "style": "IPY_MODEL_b1d02df3246947108d1db6f8e71b9caf"
      }
     },
     "8cfe4f60dec54272bde7a67cbabbcf5e": {
      "model_module": "jupyter-js-widgets",
      "model_module_version": "~2.1.4",
      "model_name": "ButtonStyleModel",
      "state": {
       "_model_module_version": "~2.1.4",
       "_view_module_version": "~2.1.4"
      }
     },
     "8d4c5b90c29140d69a693edf03fa7db5": {
      "model_module": "jupyter-js-widgets",
      "model_module_version": "~2.1.4",
      "model_name": "BoxModel",
      "state": {
       "_model_module_version": "~2.1.4",
       "_view_module_version": "~2.1.4",
       "children": [
        "IPY_MODEL_1df92014cfd4428b80f7a74eeed6ffd1",
        "IPY_MODEL_790a85c0d2974835959ec49b7072c6f3"
       ],
       "layout": "IPY_MODEL_73fbfe5cdccb41d18f784514df8e64ff"
      }
     },
     "8d4fc95b78474b208848503f49f2659a": {
      "model_module": "jupyter-js-widgets",
      "model_module_version": "~2.1.4",
      "model_name": "LayoutModel",
      "state": {
       "_model_module_version": "~2.1.4",
       "_view_module_version": "~2.1.4"
      }
     },
     "8d5870a167b448569d6e4926c0e5fcab": {
      "model_module": "jupyter-js-widgets",
      "model_module_version": "~2.1.4",
      "model_name": "ButtonStyleModel",
      "state": {
       "_model_module_version": "~2.1.4",
       "_view_module_version": "~2.1.4"
      }
     },
     "8d97bb5af3cd408895e36513a14a8769": {
      "model_module": "jupyter-js-widgets",
      "model_module_version": "~2.1.4",
      "model_name": "ButtonStyleModel",
      "state": {
       "_model_module_version": "~2.1.4",
       "_view_module_version": "~2.1.4"
      }
     },
     "8db8380870ec44b09222066ae0782fee": {
      "model_module": "jupyter-js-widgets",
      "model_module_version": "~2.1.4",
      "model_name": "ButtonStyleModel",
      "state": {
       "_model_module_version": "~2.1.4",
       "_view_module_version": "~2.1.4"
      }
     },
     "8dc969e8749d4a0088dc1698732f9b35": {
      "model_module": "jupyter-js-widgets",
      "model_module_version": "~2.1.4",
      "model_name": "ButtonStyleModel",
      "state": {
       "_model_module_version": "~2.1.4",
       "_view_module_version": "~2.1.4"
      }
     },
     "8ddb880fcfdc4076930d948ff465f3cb": {
      "model_module": "jupyter-js-widgets",
      "model_module_version": "~2.1.4",
      "model_name": "LayoutModel",
      "state": {
       "_model_module_version": "~2.1.4",
       "_view_module_version": "~2.1.4"
      }
     },
     "8e18041bea5047b78af264c92f338161": {
      "model_module": "jupyter-js-widgets",
      "model_module_version": "~2.1.4",
      "model_name": "HTMLModel",
      "state": {
       "_model_module_version": "~2.1.4",
       "_view_module_version": "~2.1.4",
       "layout": "IPY_MODEL_dcf6ac7080564589aead5d70eeea232d",
       "value": "<img src='bp_solution.png' width='100%' style='clip_path: circle(100px)'>"
      }
     },
     "8e2a07a5a103432fa5dc0380e0efbd53": {
      "model_module": "jupyter-js-widgets",
      "model_module_version": "~2.1.4",
      "model_name": "ButtonStyleModel",
      "state": {
       "_model_module_version": "~2.1.4",
       "_view_module_version": "~2.1.4"
      }
     },
     "8e49ff32b3e14f2190d2b6ae290d444e": {
      "model_module": "jupyter-js-widgets",
      "model_module_version": "~2.1.4",
      "model_name": "LayoutModel",
      "state": {
       "_model_module_version": "~2.1.4",
       "_view_module_version": "~2.1.4"
      }
     },
     "8e61ff0c48924eb1883479639fa917ab": {
      "model_module": "jupyter-js-widgets",
      "model_module_version": "~2.1.4",
      "model_name": "ButtonModel",
      "state": {
       "_model_module_version": "~2.1.4",
       "_view_module_version": "~2.1.4",
       "description": "Previous",
       "icon": "check",
       "layout": "IPY_MODEL_46e4f4e42c5842b1abf2e7d0a7226814",
       "style": "IPY_MODEL_bdfae459373f4c7898dc80fdf72d723b",
       "tooltip": "Click me"
      }
     },
     "8e80dca14c1442d983b65e8227b33ee8": {
      "model_module": "jupyter-js-widgets",
      "model_module_version": "~2.1.4",
      "model_name": "ButtonStyleModel",
      "state": {
       "_model_module_version": "~2.1.4",
       "_view_module_version": "~2.1.4"
      }
     },
     "8e9de47a639b413dad229720456769cf": {
      "model_module": "jupyter-js-widgets",
      "model_module_version": "~2.1.4",
      "model_name": "LayoutModel",
      "state": {
       "_model_module_version": "~2.1.4",
       "_view_module_version": "~2.1.4"
      }
     },
     "8e9eb5c9f2184e668e09b53c9846b633": {
      "model_module": "jupyter-js-widgets",
      "model_module_version": "~2.1.4",
      "model_name": "ButtonModel",
      "state": {
       "_model_module_version": "~2.1.4",
       "_view_module_version": "~2.1.4",
       "description": "Previous",
       "layout": "IPY_MODEL_2d46eee2cb7040589243f696ac849d53",
       "style": "IPY_MODEL_d9e65eac3e914a0fb6107b59a3a8df17"
      }
     },
     "8ebc8e15a5804c028d4b92b0c1ddbf41": {
      "model_module": "jupyter-js-widgets",
      "model_module_version": "~2.1.4",
      "model_name": "HTMLModel",
      "state": {
       "_model_module_version": "~2.1.4",
       "_view_module_version": "~2.1.4",
       "layout": "IPY_MODEL_7c3378f42bb1449f9dbb118abe6225cd",
       "value": "\n<svg width=\"0\" height=\"0\">\n   <defs>\n    <clipPath id=\"mask\">\n  <path d=\"M 40 0 L 0 40, 60 100, 0 160, 40 200, 100 140, 160 200, 200 160, 140 100, 200 40, 160 0, 100 60\">\n    </clipPath>\n  </defs>\n</svg>\n<style>\nimg {\n    width: 100%;\n    -webkit-clip-path: circle(50px);\n    clip-path: url(#mask);\n}\n</style>\n<img src=\"bp_solution.png\">\n"
      }
     },
     "8ec77cb072f247c0b1e5bfdefcd982a6": {
      "model_module": "jupyter-js-widgets",
      "model_module_version": "~2.1.4",
      "model_name": "ButtonStyleModel",
      "state": {
       "_model_module_version": "~2.1.4",
       "_view_module_version": "~2.1.4"
      }
     },
     "8f042146a4c948e285681770d51fdc52": {
      "model_module": "jupyter-js-widgets",
      "model_module_version": "~2.1.4",
      "model_name": "ButtonModel",
      "state": {
       "_model_module_version": "~2.1.4",
       "_view_module_version": "~2.1.4",
       "description": "Click me",
       "icon": "check",
       "layout": "IPY_MODEL_de4dafbda6f540d090577fe7b59870b4",
       "style": "IPY_MODEL_fcabf2c299624f34bb8216451712e5c4",
       "tooltip": "Click me"
      }
     },
     "8f3f3fb420dd4f32813aacc2735052b5": {
      "model_module": "jupyter-js-widgets",
      "model_module_version": "~2.1.4",
      "model_name": "LayoutModel",
      "state": {
       "_model_module_version": "~2.1.4",
       "_view_module_version": "~2.1.4"
      }
     },
     "8f43923ba5a64b56941b49764acedccc": {
      "model_module": "jupyter-js-widgets",
      "model_module_version": "~2.1.4",
      "model_name": "LayoutModel",
      "state": {
       "_model_module_version": "~2.1.4",
       "_view_module_version": "~2.1.4"
      }
     },
     "8f4444d6ad5d48e7929adff102cec2b7": {
      "model_module": "jupyter-js-widgets",
      "model_module_version": "~2.1.4",
      "model_name": "ButtonModel",
      "state": {
       "_model_module_version": "~2.1.4",
       "_view_module_version": "~2.1.4",
       "description": "Previous",
       "layout": "IPY_MODEL_6fa1af851c75488783a654dffae876a1",
       "style": "IPY_MODEL_3111fb2c586847aaad44a632411e2ebb"
      }
     },
     "8f8876b16920467393a37e05c5d1f932": {
      "model_module": "jupyter-js-widgets",
      "model_module_version": "~2.1.4",
      "model_name": "LayoutModel",
      "state": {
       "_model_module_version": "~2.1.4",
       "_view_module_version": "~2.1.4"
      }
     },
     "8fcc02d30c3f4e7b8e4eed32927f3aa4": {
      "model_module": "jupyter-js-widgets",
      "model_module_version": "~2.1.4",
      "model_name": "LayoutModel",
      "state": {
       "_model_module_version": "~2.1.4",
       "_view_module_version": "~2.1.4"
      }
     },
     "8ff20a52bc86453caebcbacef85f2e8d": {
      "model_module": "jupyter-js-widgets",
      "model_module_version": "~2.1.4",
      "model_name": "ButtonModel",
      "state": {
       "_model_module_version": "~2.1.4",
       "_view_module_version": "~2.1.4",
       "description": "Next",
       "icon": "check",
       "layout": "IPY_MODEL_03c9b4245cf24fe8a8a3a7af156ecfe2",
       "style": "IPY_MODEL_b93e8865eca54a20ac4a288696d8ab63",
       "tooltip": "Click me"
      }
     },
     "8ffc8f2b5b4748768b97080bfe86a552": {
      "model_module": "jupyter-js-widgets",
      "model_module_version": "~2.1.4",
      "model_name": "HTMLModel",
      "state": {
       "_model_module_version": "~2.1.4",
       "_view_module_version": "~2.1.4",
       "layout": "IPY_MODEL_dacbc283724b4301bf2fe04e185edffe",
       "value": "\n<svg width=\"100%\" height=0><defs><clipPath id=\"mask\">\n<rect x=0 y=0 width='28%' height='500' /><rect x=0 y=0 width='100%' height='50' />\n</clipPath></defs></svg>\n<style>\n.bp {\n    width: 100%;\n    -webkit-clip-path: circle(#mask);\n    clip-path: url(#mask);\n}\n</style>\n<img src=\"bp_solution.png\" class=bp>\n"
      }
     },
     "903a4f36ab424d3ea1d9621555443293": {
      "model_module": "jupyter-js-widgets",
      "model_module_version": "~2.1.4",
      "model_name": "LayoutModel",
      "state": {
       "_model_module_version": "~2.1.4",
       "_view_module_version": "~2.1.4"
      }
     },
     "90811b1b18774cc8b5a108bda8413938": {
      "model_module": "jupyter-js-widgets",
      "model_module_version": "~2.1.4",
      "model_name": "HTMLModel",
      "state": {
       "_model_module_version": "~2.1.4",
       "_view_module_version": "~2.1.4",
       "layout": "IPY_MODEL_b4d74e0ed2cc4c00aaa4c71eb5eb9e58",
       "value": "<img src='bp_solution.png' width='100%'>"
      }
     },
     "90e30b486f0446e88859e86841736547": {
      "model_module": "jupyter-js-widgets",
      "model_module_version": "~2.1.4",
      "model_name": "HTMLModel",
      "state": {
       "_model_module_version": "~2.1.4",
       "_view_module_version": "~2.1.4",
       "layout": "IPY_MODEL_884054dedd664720af1287533871694d",
       "value": "<img src='mlp.png'/>"
      }
     },
     "90ed9215a9ba4e9cbb1767fb945a2c1a": {
      "model_module": "jupyter-js-widgets",
      "model_module_version": "~2.1.4",
      "model_name": "HTMLModel",
      "state": {
       "_model_module_version": "~2.1.4",
       "_view_module_version": "~2.1.4",
       "layout": "IPY_MODEL_55d7789a5299426bb99d98a64e2fc0c1",
       "value": "\n<svg width=\"100%\" height=0><defs><clipPath id=\"mask\">\n<rect x=0 y=0 width='28%' height='500' /><rect x=0 y=0 width='72%' height='240' /><rect x='50%' y=0 width='100%' height='100' /><rect x=0 y=0 width='100%' height='50' />\n</clipPath></defs></svg>\n<style>\n.bp {\n    width: 100%;\n    -webkit-clip-path: circle(#mask);\n    clip-path: url(#mask);\n}\n</style>\n<img src=\"bp_solution.png\" class=bp>\n"
      }
     },
     "90f5ddef08e74afcb1b009eca93b6d35": {
      "model_module": "jupyter-js-widgets",
      "model_module_version": "~2.1.4",
      "model_name": "ButtonStyleModel",
      "state": {
       "_model_module_version": "~2.1.4",
       "_view_module_version": "~2.1.4"
      }
     },
     "9105cfcc51a44d4b9356ff41c68693ae": {
      "model_module": "jupyter-js-widgets",
      "model_module_version": "~2.1.4",
      "model_name": "ButtonModel",
      "state": {
       "_model_module_version": "~2.1.4",
       "_view_module_version": "~2.1.4",
       "description": "Next",
       "icon": "check",
       "layout": "IPY_MODEL_a713116d3fed4e76b1d56ecf41b694d1",
       "style": "IPY_MODEL_2c13233c73fd408988b7c7f60d31b97b",
       "tooltip": "Click me"
      }
     },
     "9114629c8ecc4317a39dc7e7315f418d": {
      "model_module": "jupyter-js-widgets",
      "model_module_version": "~2.1.4",
      "model_name": "ButtonModel",
      "state": {
       "_model_module_version": "~2.1.4",
       "_view_module_version": "~2.1.4",
       "description": "Previous",
       "layout": "IPY_MODEL_d27810f7df044e8fbb8184efb590fb28",
       "style": "IPY_MODEL_c11ffc09f5ae451cabac97140c9f723c"
      }
     },
     "911beec028654d33b66a2860a3726027": {
      "model_module": "jupyter-js-widgets",
      "model_module_version": "~2.1.4",
      "model_name": "ButtonModel",
      "state": {
       "_model_module_version": "~2.1.4",
       "_view_module_version": "~2.1.4",
       "description": "Next",
       "layout": "IPY_MODEL_fbfcbd446e6a4abc98e3d4b280d26d60",
       "style": "IPY_MODEL_d46ff897cccb442d8b549a272dcb9e3e"
      }
     },
     "91280a7e683f48368ae7a59d9f593a54": {
      "model_module": "jupyter-js-widgets",
      "model_module_version": "~2.1.4",
      "model_name": "HTMLModel",
      "state": {
       "_model_module_version": "~2.1.4",
       "_view_module_version": "~2.1.4",
       "layout": "IPY_MODEL_bd48aded7aa74a56965c5c1612f21e08",
       "value": "\n<svg width=\"100%\" height=0><defs><clipPath id=\"mask\">\n<rect x=0 y=0 width='100%' height='500' />\n</clipPath></defs></svg>\n<style>\n.bp {\n    width: 100%;\n    -webkit-clip-path: circle(#mask);\n    clip-path: url(#mask);\n}\n</style>\n<img src=\"bp_solution.png\" class=bp />\n"
      }
     },
     "9175ba3fc5574f0b9d92e5d5f799fbab": {
      "model_module": "jupyter-js-widgets",
      "model_module_version": "~2.1.4",
      "model_name": "ButtonStyleModel",
      "state": {
       "_model_module_version": "~2.1.4",
       "_view_module_version": "~2.1.4"
      }
     },
     "91e19e2a20d7493488d42cc71d6b8287": {
      "model_module": "jupyter-js-widgets",
      "model_module_version": "~2.1.4",
      "model_name": "ButtonStyleModel",
      "state": {
       "_model_module_version": "~2.1.4",
       "_view_module_version": "~2.1.4"
      }
     },
     "91f05eac078c406b9d347335dc1db6d8": {
      "model_module": "jupyter-js-widgets",
      "model_module_version": "~2.1.4",
      "model_name": "ButtonStyleModel",
      "state": {
       "_model_module_version": "~2.1.4",
       "_view_module_version": "~2.1.4"
      }
     },
     "92117ebe7911496dbc4bc9c87d5f5a99": {
      "model_module": "jupyter-js-widgets",
      "model_module_version": "~2.1.4",
      "model_name": "ButtonStyleModel",
      "state": {
       "_model_module_version": "~2.1.4",
       "_view_module_version": "~2.1.4"
      }
     },
     "922d38c957dc4e1f94967334fceb22d2": {
      "model_module": "jupyter-js-widgets",
      "model_module_version": "~2.1.4",
      "model_name": "HTMLModel",
      "state": {
       "_model_module_version": "~2.1.4",
       "_view_module_version": "~2.1.4",
       "layout": "IPY_MODEL_ac32e5dd11094ed7a917b34c0627d59b",
       "value": "<img src='bp_solution.png' width='100%' style='img \n{ height: 10% \n}'>"
      }
     },
     "923d4af447c54388a8bd554ee2af3ea3": {
      "model_module": "jupyter-js-widgets",
      "model_module_version": "~2.1.4",
      "model_name": "LayoutModel",
      "state": {
       "_model_module_version": "~2.1.4",
       "_view_module_version": "~2.1.4"
      }
     },
     "9248a2049abf406b8d9f5e1e7537b5cd": {
      "model_module": "jupyter-js-widgets",
      "model_module_version": "~2.1.4",
      "model_name": "IntSliderModel",
      "state": {
       "_model_module_version": "~2.1.4",
       "_view_module_version": "~2.1.4",
       "layout": "IPY_MODEL_5aa288616900496289b3495f313df8df",
       "style": "IPY_MODEL_8cb8cf9cb8ab4d6088fdf5a0a7b2059b"
      }
     },
     "924fdc163cc34ec691720a10e1b87bd9": {
      "model_module": "jupyter-js-widgets",
      "model_module_version": "~2.1.4",
      "model_name": "ButtonModel",
      "state": {
       "_model_module_version": "~2.1.4",
       "_view_module_version": "~2.1.4",
       "description": "Next",
       "layout": "IPY_MODEL_f05f47d92477456b85ca501a8f5b9927",
       "style": "IPY_MODEL_9f71bdf9acb4403b8b5c7ae437f43809"
      }
     },
     "926c1949ff4742fab5b28307b7c9fe27": {
      "model_module": "jupyter-js-widgets",
      "model_module_version": "~2.1.4",
      "model_name": "IntSliderModel",
      "state": {
       "_model_module_version": "~2.1.4",
       "_view_module_version": "~2.1.4",
       "layout": "IPY_MODEL_743709f2d0574c6abc3fe50763db0d33",
       "style": "IPY_MODEL_55b7a0b968f14c21aa2bb0fdee5bf04f"
      }
     },
     "9278cac3d45c4daaa44c7fb594ec78e4": {
      "model_module": "jupyter-js-widgets",
      "model_module_version": "~2.1.4",
      "model_name": "LayoutModel",
      "state": {
       "_model_module_version": "~2.1.4",
       "_view_module_version": "~2.1.4"
      }
     },
     "92aa708935ca41b9a91ef507d993675e": {
      "model_module": "jupyter-js-widgets",
      "model_module_version": "~2.1.4",
      "model_name": "ButtonModel",
      "state": {
       "_model_module_version": "~2.1.4",
       "_view_module_version": "~2.1.4",
       "description": "Next",
       "icon": "check",
       "layout": "IPY_MODEL_6db3d0c6a46f44ad911723432eda2cdd",
       "style": "IPY_MODEL_4c7f1772290141a0942b59701eddaf8a",
       "tooltip": "Click me"
      }
     },
     "92c94426dee3481f8c4ca23bef88ad72": {
      "model_module": "jupyter-js-widgets",
      "model_module_version": "~2.1.4",
      "model_name": "LayoutModel",
      "state": {
       "_model_module_version": "~2.1.4",
       "_view_module_version": "~2.1.4"
      }
     },
     "92cd17669d3f471398ef46557ff69e47": {
      "model_module": "jupyter-js-widgets",
      "model_module_version": "~2.1.4",
      "model_name": "LayoutModel",
      "state": {
       "_model_module_version": "~2.1.4",
       "_view_module_version": "~2.1.4"
      }
     },
     "92eb2b41a22f40978e4dc4c6ae3ae02f": {
      "model_module": "jupyter-js-widgets",
      "model_module_version": "~2.1.4",
      "model_name": "ButtonModel",
      "state": {
       "_model_module_version": "~2.1.4",
       "_view_module_version": "~2.1.4",
       "description": "Previous",
       "layout": "IPY_MODEL_9c6b77149803448992bce3e04ba4cbc7",
       "style": "IPY_MODEL_6a8913996d00406dbe36fcbac91368da"
      }
     },
     "935fc7bbe50142ddb99422534c81de79": {
      "model_module": "jupyter-js-widgets",
      "model_module_version": "~2.1.4",
      "model_name": "ButtonModel",
      "state": {
       "_model_module_version": "~2.1.4",
       "_view_module_version": "~2.1.4",
       "description": "Previous",
       "icon": "check",
       "layout": "IPY_MODEL_6ce7d3499e254ac4b90529397bf5e8c4",
       "style": "IPY_MODEL_ade14179f2fc4bf486a20f5cff87e067",
       "tooltip": "Click me"
      }
     },
     "9365777530c8484498a0036bc67f34ed": {
      "model_module": "jupyter-js-widgets",
      "model_module_version": "~2.1.4",
      "model_name": "LayoutModel",
      "state": {
       "_model_module_version": "~2.1.4",
       "_view_module_version": "~2.1.4"
      }
     },
     "936eea0384f0404cad79a97863015238": {
      "model_module": "jupyter-js-widgets",
      "model_module_version": "~2.1.4",
      "model_name": "LayoutModel",
      "state": {
       "_model_module_version": "~2.1.4",
       "_view_module_version": "~2.1.4"
      }
     },
     "93c7bb16161640ec80e5f8ef537a5e41": {
      "model_module": "jupyter-js-widgets",
      "model_module_version": "~2.1.4",
      "model_name": "ButtonModel",
      "state": {
       "_model_module_version": "~2.1.4",
       "_view_module_version": "~2.1.4",
       "description": "Previous",
       "icon": "check",
       "layout": "IPY_MODEL_f2ccf5b3cd1a451e952c0e1682942138",
       "style": "IPY_MODEL_05aafc11aa074023b3cfcfcd41a32533",
       "tooltip": "Click me"
      }
     },
     "93cf09b37e364aeea94d4f37b3a96c91": {
      "model_module": "jupyter-js-widgets",
      "model_module_version": "~2.1.4",
      "model_name": "BoxModel",
      "state": {
       "_model_module_version": "~2.1.4",
       "_view_module_version": "~2.1.4",
       "children": [
        "IPY_MODEL_fce4307a4f6e4765a41223f78d3ab3be",
        "IPY_MODEL_e03b5a8ca3b24f00b5c6f081e27d29ee"
       ],
       "layout": "IPY_MODEL_f96714c5e74d46eb8b1f3e4d9e2056ea"
      }
     },
     "93d36640dd834fceae792413c7016532": {
      "model_module": "jupyter-js-widgets",
      "model_module_version": "~2.1.4",
      "model_name": "ButtonStyleModel",
      "state": {
       "_model_module_version": "~2.1.4",
       "_view_module_version": "~2.1.4"
      }
     },
     "93ddd07c11c9447fa179cd514548f12d": {
      "model_module": "jupyter-js-widgets",
      "model_module_version": "~2.1.4",
      "model_name": "LayoutModel",
      "state": {
       "_model_module_version": "~2.1.4",
       "_view_module_version": "~2.1.4"
      }
     },
     "93e7b9d6c10e470ea91b22a3a495ef71": {
      "model_module": "jupyter-js-widgets",
      "model_module_version": "~2.1.4",
      "model_name": "HTMLModel",
      "state": {
       "_model_module_version": "~2.1.4",
       "_view_module_version": "~2.1.4",
       "layout": "IPY_MODEL_54f84a9f3e8e47e188943d35bb7bb151",
       "value": "\n<svg width=\"100%\" height=0><defs><clipPath id=\"mask\">\n<rect x=0 y=3950 width='28%' height='500' /><rect x=0 y=0 width='100%' height='50' />\n</clipPath></defs></svg>\n<style>\n.bp {\n    width: 100%;\n    -webkit-clip-path: circle(#mask);\n    clip-path: url(#mask);\n}\n</style>\n<img src=\"bp_solution.png\" class=bp>\n"
      }
     },
     "9404f873310f45bfa61f956a3d2e18f8": {
      "model_module": "jupyter-js-widgets",
      "model_module_version": "~2.1.4",
      "model_name": "ButtonModel",
      "state": {
       "_model_module_version": "~2.1.4",
       "_view_module_version": "~2.1.4",
       "description": "Next",
       "layout": "IPY_MODEL_e7254a877e6c4f8a8b07c84da7365273",
       "style": "IPY_MODEL_4d2beec5f1ab4724b461690877c92006"
      }
     },
     "9430b8f5bd9c47ed835670e4ff818c9c": {
      "model_module": "jupyter-js-widgets",
      "model_module_version": "~2.1.4",
      "model_name": "ButtonStyleModel",
      "state": {
       "_model_module_version": "~2.1.4",
       "_view_module_version": "~2.1.4"
      }
     },
     "943a41e36a874d97aa34bcb1d496e5e0": {
      "model_module": "jupyter-js-widgets",
      "model_module_version": "~2.1.4",
      "model_name": "ButtonStyleModel",
      "state": {
       "_model_module_version": "~2.1.4",
       "_view_module_version": "~2.1.4"
      }
     },
     "94ba8d66b9984925aa2ad56b51449a38": {
      "model_module": "jupyter-js-widgets",
      "model_module_version": "~2.1.4",
      "model_name": "ButtonModel",
      "state": {
       "_model_module_version": "~2.1.4",
       "_view_module_version": "~2.1.4",
       "description": "Previous",
       "icon": "check",
       "layout": "IPY_MODEL_5653ba2dc25c430b8526f16bc384e8f3",
       "style": "IPY_MODEL_d6b762f1ab5e46b3abd68a5d5d8fbd59",
       "tooltip": "Click me"
      }
     },
     "94ec6244f3f34797817f229f98239d24": {
      "model_module": "jupyter-js-widgets",
      "model_module_version": "~2.1.4",
      "model_name": "HTMLModel",
      "state": {
       "_model_module_version": "~2.1.4",
       "_view_module_version": "~2.1.4",
       "layout": "IPY_MODEL_e22c0acf1ff84617bd63be386ae6a86a",
       "value": "<img src='bp_solution.png' width='100%'>"
      }
     },
     "950b11073ed04317b591bd67d6f9cd4f": {
      "model_module": "jupyter-js-widgets",
      "model_module_version": "~2.1.4",
      "model_name": "ButtonModel",
      "state": {
       "_model_module_version": "~2.1.4",
       "_view_module_version": "~2.1.4",
       "description": "Next",
       "layout": "IPY_MODEL_3abb01e40143440f9091490ad6026495",
       "style": "IPY_MODEL_084936f20db64681b823c86c885ab2f8"
      }
     },
     "9535cb16ab404247a43086f6bcea7e03": {
      "model_module": "jupyter-js-widgets",
      "model_module_version": "~2.1.4",
      "model_name": "ButtonStyleModel",
      "state": {
       "_model_module_version": "~2.1.4",
       "_view_module_version": "~2.1.4"
      }
     },
     "954b7b38fc5c4f5585b841e5689274fb": {
      "model_module": "jupyter-js-widgets",
      "model_module_version": "~2.1.4",
      "model_name": "LayoutModel",
      "state": {
       "_model_module_version": "~2.1.4",
       "_view_module_version": "~2.1.4"
      }
     },
     "95d0a904b6974b68822024759b01bc2b": {
      "model_module": "jupyter-js-widgets",
      "model_module_version": "~2.1.4",
      "model_name": "LayoutModel",
      "state": {
       "_model_module_version": "~2.1.4",
       "_view_module_version": "~2.1.4"
      }
     },
     "95fa814f90184614b4cecd1d25126e0a": {
      "model_module": "jupyter-js-widgets",
      "model_module_version": "~2.1.4",
      "model_name": "ButtonModel",
      "state": {
       "_model_module_version": "~2.1.4",
       "_view_module_version": "~2.1.4",
       "description": "Previous",
       "layout": "IPY_MODEL_0fa99b4142664f8486e31011a7db4425",
       "style": "IPY_MODEL_943a41e36a874d97aa34bcb1d496e5e0"
      }
     },
     "9646e2caa475455189473e58350690cd": {
      "model_module": "jupyter-js-widgets",
      "model_module_version": "~2.1.4",
      "model_name": "LayoutModel",
      "state": {
       "_model_module_version": "~2.1.4",
       "_view_module_version": "~2.1.4"
      }
     },
     "964dffbfb7f147a0acf72082f6f00258": {
      "model_module": "jupyter-js-widgets",
      "model_module_version": "~2.1.4",
      "model_name": "HTMLModel",
      "state": {
       "_model_module_version": "~2.1.4",
       "_view_module_version": "~2.1.4",
       "layout": "IPY_MODEL_fe110f3035a84f22bb56c921c02c76d9",
       "value": "\n<svg width=\"0\" height=\"0\">\n   <defs>\n    <clipPath id=\"mask\">\n      <rect x=20 y=20 width=\"500\">\n    </clipPath>\n  </defs>\n</svg>\n<style>\n.bp {\n    width: 100%;\n    -webkit-clip-path: circle(50px);\n    clip-path: url(#mask);\n}\n</style>\n<img src=\"bp_solution.png\" class=bp>\n"
      }
     },
     "9655716da49a442fb38fd9469bae50f4": {
      "model_module": "jupyter-js-widgets",
      "model_module_version": "~2.1.4",
      "model_name": "HTMLModel",
      "state": {
       "_model_module_version": "~2.1.4",
       "_view_module_version": "~2.1.4",
       "layout": "IPY_MODEL_7fdbcd5481be47dcbf0047059933de6a",
       "value": "\n<svg width=\"100%\">\n   <defs>\n    <clipPath id=\"mask\">\n      <rect x=0 y=0 width=\"50%\" height=\"500\">\n    </clipPath>\n  </defs>\n</svg>\n<style>\n\n.bp {\n    width: 100%;\n    -webkit-clip-path: circle(#mask);\n    clip-path: url(#mask);\n}\n</style>\n<img src=\"bp_solution.png\" class=bp>\n"
      }
     },
     "965616ae53b14d908b1cc29b3b44a1b3": {
      "model_module": "jupyter-js-widgets",
      "model_module_version": "~2.1.4",
      "model_name": "LayoutModel",
      "state": {
       "_model_module_version": "~2.1.4",
       "_view_module_version": "~2.1.4"
      }
     },
     "96570c8d7eee47859cedd5fff3a0d9ea": {
      "model_module": "jupyter-js-widgets",
      "model_module_version": "~2.1.4",
      "model_name": "ButtonModel",
      "state": {
       "_model_module_version": "~2.1.4",
       "_view_module_version": "~2.1.4",
       "description": "Next",
       "icon": "check",
       "layout": "IPY_MODEL_7389e0b0bdf24bb3b1fc5cfb3ceb9394",
       "style": "IPY_MODEL_01b90d91fdf44afd9ccdfc2df607294e",
       "tooltip": "Click me"
      }
     },
     "965f19bcde04405fa89b1b2de3f53b83": {
      "model_module": "jupyter-js-widgets",
      "model_module_version": "~2.1.4",
      "model_name": "ButtonModel",
      "state": {
       "_model_module_version": "~2.1.4",
       "_view_module_version": "~2.1.4",
       "description": "Next",
       "icon": "check",
       "layout": "IPY_MODEL_cd7fc3aaacaa453eb343877c3ac9821d",
       "style": "IPY_MODEL_379370374d91440e8eeb3ad6201e2199",
       "tooltip": "Click me"
      }
     },
     "968d6bf3271e40b9a4a46bde0e32a9d1": {
      "model_module": "jupyter-js-widgets",
      "model_module_version": "~2.1.4",
      "model_name": "ButtonModel",
      "state": {
       "_model_module_version": "~2.1.4",
       "_view_module_version": "~2.1.4",
       "description": "Next",
       "layout": "IPY_MODEL_7b1d650aee144579ac8e8bd324739a9e",
       "style": "IPY_MODEL_3ec78b5a5805410dbb43f3134a458ce5"
      }
     },
     "96933b702be34b89a8557f7958e2c279": {
      "model_module": "jupyter-js-widgets",
      "model_module_version": "~2.1.4",
      "model_name": "LayoutModel",
      "state": {
       "_model_module_version": "~2.1.4",
       "_view_module_version": "~2.1.4"
      }
     },
     "96b87b87011748ec8dfbe7e856592e06": {
      "model_module": "jupyter-js-widgets",
      "model_module_version": "~2.1.4",
      "model_name": "ButtonStyleModel",
      "state": {
       "_model_module_version": "~2.1.4",
       "_view_module_version": "~2.1.4"
      }
     },
     "96e6525b5f454103aac17303ee797723": {
      "model_module": "jupyter-js-widgets",
      "model_module_version": "~2.1.4",
      "model_name": "ButtonStyleModel",
      "state": {
       "_model_module_version": "~2.1.4",
       "_view_module_version": "~2.1.4"
      }
     },
     "96ed40aac47f49009975501b56c08a61": {
      "model_module": "jupyter-js-widgets",
      "model_module_version": "~2.1.4",
      "model_name": "ButtonModel",
      "state": {
       "_model_module_version": "~2.1.4",
       "_view_module_version": "~2.1.4",
       "description": "Next",
       "icon": "check",
       "layout": "IPY_MODEL_c7bcb334d7e84b5e8d39f2a54ec50624",
       "style": "IPY_MODEL_4d06bca3f5ff43deba6cea741dfbf2c7",
       "tooltip": "Click me"
      }
     },
     "97016dcdb90c4b5997e800734e5b5298": {
      "model_module": "jupyter-js-widgets",
      "model_module_version": "~2.1.4",
      "model_name": "IntSliderModel",
      "state": {
       "_model_module_version": "~2.1.4",
       "_view_module_version": "~2.1.4",
       "layout": "IPY_MODEL_65952af85dbe4bb0b56d4f99ab8f59b6",
       "style": "IPY_MODEL_99fe506f3c6e486db1d161a48a827255"
      }
     },
     "97098f88d88c4e5794486139c0dcef6a": {
      "model_module": "jupyter-js-widgets",
      "model_module_version": "~2.1.4",
      "model_name": "LayoutModel",
      "state": {
       "_model_module_version": "~2.1.4",
       "_view_module_version": "~2.1.4"
      }
     },
     "9719911de72b4c578446a3c728e0c6a4": {
      "model_module": "jupyter-js-widgets",
      "model_module_version": "~2.1.4",
      "model_name": "ButtonModel",
      "state": {
       "_model_module_version": "~2.1.4",
       "_view_module_version": "~2.1.4",
       "description": "Previous",
       "icon": "check",
       "layout": "IPY_MODEL_2b0de9f97b5040e1ab8c93fdc75a8955",
       "style": "IPY_MODEL_c17a70b4d35745f6b4c20558a86b8cf7",
       "tooltip": "Click me"
      }
     },
     "972cf6bd1bcb4c76b7a39916c8f06695": {
      "model_module": "jupyter-js-widgets",
      "model_module_version": "~2.1.4",
      "model_name": "LayoutModel",
      "state": {
       "_model_module_version": "~2.1.4",
       "_view_module_version": "~2.1.4"
      }
     },
     "9763872ee809409d9ab8459fe01e7e40": {
      "model_module": "jupyter-js-widgets",
      "model_module_version": "~2.1.4",
      "model_name": "ButtonStyleModel",
      "state": {
       "_model_module_version": "~2.1.4",
       "_view_module_version": "~2.1.4"
      }
     },
     "97a6285d045b42d4a3a89ffd1877fdda": {
      "model_module": "jupyter-js-widgets",
      "model_module_version": "~2.1.4",
      "model_name": "ButtonStyleModel",
      "state": {
       "_model_module_version": "~2.1.4",
       "_view_module_version": "~2.1.4"
      }
     },
     "97b49eb900584434b6375f9bb617a0c3": {
      "model_module": "jupyter-js-widgets",
      "model_module_version": "~2.1.4",
      "model_name": "HTMLModel",
      "state": {
       "_model_module_version": "~2.1.4",
       "_view_module_version": "~2.1.4",
       "layout": "IPY_MODEL_a0e87be5739449a48efc064c6d8f92b4",
       "value": "<img src='bp_solution.png' width='100%'>"
      }
     },
     "97e1c3b537494132ada57d1aaeaf8446": {
      "model_module": "jupyter-js-widgets",
      "model_module_version": "~2.1.4",
      "model_name": "ButtonModel",
      "state": {
       "_model_module_version": "~2.1.4",
       "_view_module_version": "~2.1.4",
       "description": "Next",
       "icon": "check",
       "layout": "IPY_MODEL_898a052afd3c4c0fb1908d963a365b3a",
       "style": "IPY_MODEL_48654533929145c18dbb09eb9f67d9d6",
       "tooltip": "Click me"
      }
     },
     "97f6af9e76ac4a3ba2b86e68fdf0d13f": {
      "model_module": "jupyter-js-widgets",
      "model_module_version": "~2.1.4",
      "model_name": "ButtonModel",
      "state": {
       "_model_module_version": "~2.1.4",
       "_view_module_version": "~2.1.4",
       "description": "Next",
       "icon": "check",
       "layout": "IPY_MODEL_b7146dd9ef4b4d2f8cb9211e415b14f8",
       "style": "IPY_MODEL_05d688849cb44ad097ca1ed93d2505a5",
       "tooltip": "Click me"
      }
     },
     "981927128c8c47b9b6c29ce641ca8475": {
      "model_module": "jupyter-js-widgets",
      "model_module_version": "~2.1.4",
      "model_name": "ButtonModel",
      "state": {
       "_model_module_version": "~2.1.4",
       "_view_module_version": "~2.1.4",
       "description": "Previous",
       "icon": "check",
       "layout": "IPY_MODEL_5e6cda482d57439f8c3b25ebbc25609e",
       "style": "IPY_MODEL_86758d5200bc40a8804cd7b0608666cd",
       "tooltip": "Click me"
      }
     },
     "981e26f382fc411abd42b33aa7e88435": {
      "model_module": "jupyter-js-widgets",
      "model_module_version": "~2.1.4",
      "model_name": "LayoutModel",
      "state": {
       "_model_module_version": "~2.1.4",
       "_view_module_version": "~2.1.4"
      }
     },
     "9834c9096a4242f493e39976acd85782": {
      "model_module": "jupyter-js-widgets",
      "model_module_version": "~2.1.4",
      "model_name": "ButtonStyleModel",
      "state": {
       "_model_module_version": "~2.1.4",
       "_view_module_version": "~2.1.4"
      }
     },
     "984f5609fdcc4d3eb40335bda6ab2add": {
      "model_module": "jupyter-js-widgets",
      "model_module_version": "~2.1.4",
      "model_name": "ButtonStyleModel",
      "state": {
       "_model_module_version": "~2.1.4",
       "_view_module_version": "~2.1.4"
      }
     },
     "98552bc0b8de4f26ab6aba328f8304f9": {
      "model_module": "jupyter-js-widgets",
      "model_module_version": "~2.1.4",
      "model_name": "HTMLModel",
      "state": {
       "_model_module_version": "~2.1.4",
       "_view_module_version": "~2.1.4",
       "layout": "IPY_MODEL_f89fe8f7f9234406a5505c8a70ac2dac",
       "value": "<rect x=0 y=0 width='28%' height='500'>"
      }
     },
     "9868460181ff4d9da2023914aa89f317": {
      "model_module": "jupyter-js-widgets",
      "model_module_version": "~2.1.4",
      "model_name": "BoxModel",
      "state": {
       "_model_module_version": "~2.1.4",
       "_view_module_version": "~2.1.4",
       "children": [
        "IPY_MODEL_4f786f8f7ac94404b2d4a9cd1a252688",
        "IPY_MODEL_c20bffee86d14c81b3b2cbb0c15c8607"
       ],
       "layout": "IPY_MODEL_a809032cd762422a93fb163fcaa65d45"
      }
     },
     "9874627755434fc89541ee2d29543caa": {
      "model_module": "jupyter-js-widgets",
      "model_module_version": "~2.1.4",
      "model_name": "LayoutModel",
      "state": {
       "_model_module_version": "~2.1.4",
       "_view_module_version": "~2.1.4"
      }
     },
     "988917c9b06a429cb821df7a8d9552d1": {
      "model_module": "jupyter-js-widgets",
      "model_module_version": "~2.1.4",
      "model_name": "LayoutModel",
      "state": {
       "_model_module_version": "~2.1.4",
       "_view_module_version": "~2.1.4"
      }
     },
     "98aab6fd066143fcbc7a4a88896dc4cb": {
      "model_module": "jupyter-js-widgets",
      "model_module_version": "~2.1.4",
      "model_name": "LayoutModel",
      "state": {
       "_model_module_version": "~2.1.4",
       "_view_module_version": "~2.1.4"
      }
     },
     "98ad522ff13d426a930b7b4b525e9700": {
      "model_module": "jupyter-js-widgets",
      "model_module_version": "~2.1.4",
      "model_name": "LayoutModel",
      "state": {
       "_model_module_version": "~2.1.4",
       "_view_module_version": "~2.1.4"
      }
     },
     "98cefb2e0f6143bdaf4f84007675c263": {
      "model_module": "jupyter-js-widgets",
      "model_module_version": "~2.1.4",
      "model_name": "ButtonModel",
      "state": {
       "_model_module_version": "~2.1.4",
       "_view_module_version": "~2.1.4",
       "description": "Next",
       "icon": "check",
       "layout": "IPY_MODEL_b837a6d770584c92849b9d35cf3777b9",
       "style": "IPY_MODEL_71e12667349f41249f550defb2eca690",
       "tooltip": "Click me"
      }
     },
     "98eb927516b34a2bb1f9ffd64fb03665": {
      "model_module": "jupyter-js-widgets",
      "model_module_version": "~2.1.4",
      "model_name": "LayoutModel",
      "state": {
       "_model_module_version": "~2.1.4",
       "_view_module_version": "~2.1.4"
      }
     },
     "9912045db7ab41fe9cdeeef82415de4d": {
      "model_module": "jupyter-js-widgets",
      "model_module_version": "~2.1.4",
      "model_name": "ButtonModel",
      "state": {
       "_model_module_version": "~2.1.4",
       "_view_module_version": "~2.1.4",
       "description": "Previous",
       "icon": "check",
       "layout": "IPY_MODEL_27e758ce9cb84f2084f1dd6d7d027a6e",
       "style": "IPY_MODEL_0b7cd7af51824516a73900f3fa539b46",
       "tooltip": "Click me"
      }
     },
     "9943e3286e9046e5acb57e3acbf64de8": {
      "model_module": "jupyter-js-widgets",
      "model_module_version": "~2.1.4",
      "model_name": "ButtonModel",
      "state": {
       "_model_module_version": "~2.1.4",
       "_view_module_version": "~2.1.4",
       "description": "Next",
       "icon": "check",
       "layout": "IPY_MODEL_4b6623a8fb6841038fbb24c54ecd7889",
       "style": "IPY_MODEL_c5b678c937414a9e9efdcb4d58549777",
       "tooltip": "Click me"
      }
     },
     "99463b38283f4b30bf58ed7da0edf588": {
      "model_module": "jupyter-js-widgets",
      "model_module_version": "~2.1.4",
      "model_name": "ButtonStyleModel",
      "state": {
       "_model_module_version": "~2.1.4",
       "_view_module_version": "~2.1.4"
      }
     },
     "9973c5e87b4f447eab9fc29c57df527b": {
      "model_module": "jupyter-js-widgets",
      "model_module_version": "~2.1.4",
      "model_name": "ButtonModel",
      "state": {
       "_model_module_version": "~2.1.4",
       "_view_module_version": "~2.1.4",
       "description": "Next",
       "icon": "check",
       "layout": "IPY_MODEL_a41461b783894e249dac3063607356f1",
       "style": "IPY_MODEL_b494886c1a7f4037afeeb29c40220fb2",
       "tooltip": "Click me"
      }
     },
     "99946464aa234f7598ea9d1d00f52f91": {
      "model_module": "jupyter-js-widgets",
      "model_module_version": "~2.1.4",
      "model_name": "ButtonStyleModel",
      "state": {
       "_model_module_version": "~2.1.4",
       "_view_module_version": "~2.1.4"
      }
     },
     "99a442ae86de4d148dbd0fd963a864f7": {
      "model_module": "jupyter-js-widgets",
      "model_module_version": "~2.1.4",
      "model_name": "ButtonModel",
      "state": {
       "_model_module_version": "~2.1.4",
       "_view_module_version": "~2.1.4",
       "description": "Previous",
       "layout": "IPY_MODEL_33ea228ed93b49bb9ecebd841a9a483c",
       "style": "IPY_MODEL_4b603939c080465eb2afe22493e3ed3b"
      }
     },
     "99d0c8c4d4b145b9bd71c09734f4f524": {
      "model_module": "jupyter-js-widgets",
      "model_module_version": "~2.1.4",
      "model_name": "ButtonStyleModel",
      "state": {
       "_model_module_version": "~2.1.4",
       "_view_module_version": "~2.1.4"
      }
     },
     "99fe506f3c6e486db1d161a48a827255": {
      "model_module": "jupyter-js-widgets",
      "model_module_version": "~2.1.4",
      "model_name": "SliderStyleModel",
      "state": {
       "_model_module_version": "~2.1.4",
       "_view_module_version": "~2.1.4"
      }
     },
     "9a1348dc63e14a228227e129a566d674": {
      "model_module": "jupyter-js-widgets",
      "model_module_version": "~2.1.4",
      "model_name": "ButtonStyleModel",
      "state": {
       "_model_module_version": "~2.1.4",
       "_view_module_version": "~2.1.4"
      }
     },
     "9a23cc05ee6f4917ad0a241e5e9d1d26": {
      "model_module": "jupyter-js-widgets",
      "model_module_version": "~2.1.4",
      "model_name": "HTMLModel",
      "state": {
       "_model_module_version": "~2.1.4",
       "_view_module_version": "~2.1.4",
       "layout": "IPY_MODEL_005bb4afe63648cb9b931b48bd47b804",
       "value": "<img src='mlp.png'/>"
      }
     },
     "9a3ab0b968494eddb1578a981dba63ff": {
      "model_module": "jupyter-js-widgets",
      "model_module_version": "~2.1.4",
      "model_name": "ButtonModel",
      "state": {
       "_model_module_version": "~2.1.4",
       "_view_module_version": "~2.1.4",
       "description": "Next",
       "icon": "check",
       "layout": "IPY_MODEL_d20fe90043b4431a8eeff479593a4555",
       "style": "IPY_MODEL_88629b3773614318b5b01b393d1d26c2",
       "tooltip": "Click me"
      }
     },
     "9a821e6fbbd04efa9b9140e6d1508991": {
      "model_module": "jupyter-js-widgets",
      "model_module_version": "~2.1.4",
      "model_name": "ButtonModel",
      "state": {
       "_model_module_version": "~2.1.4",
       "_view_module_version": "~2.1.4",
       "description": "Next",
       "icon": "check",
       "layout": "IPY_MODEL_d29344c0660e4abd95a7bb7d3f96c0d7",
       "style": "IPY_MODEL_bb4ebb059fb2466db7e6f9511189229f",
       "tooltip": "Click me"
      }
     },
     "9a9d965b9e634615b98cac4c8c986676": {
      "model_module": "jupyter-js-widgets",
      "model_module_version": "~2.1.4",
      "model_name": "LayoutModel",
      "state": {
       "_model_module_version": "~2.1.4",
       "_view_module_version": "~2.1.4"
      }
     },
     "9aa85d901293468cbc3d130df1b686dc": {
      "model_module": "jupyter-js-widgets",
      "model_module_version": "~2.1.4",
      "model_name": "ButtonModel",
      "state": {
       "_model_module_version": "~2.1.4",
       "_view_module_version": "~2.1.4",
       "description": "Previous",
       "layout": "IPY_MODEL_d58f72ef07c24881a7368ae06ec68b50",
       "style": "IPY_MODEL_178bda39252f47f1950946a191ad21d5"
      }
     },
     "9aeda7e87eab494fa90fd2746c8922b9": {
      "model_module": "jupyter-js-widgets",
      "model_module_version": "~2.1.4",
      "model_name": "LayoutModel",
      "state": {
       "_model_module_version": "~2.1.4",
       "_view_module_version": "~2.1.4"
      }
     },
     "9af18a57f0c843188bf1a16b003e9a9e": {
      "model_module": "jupyter-js-widgets",
      "model_module_version": "~2.1.4",
      "model_name": "LayoutModel",
      "state": {
       "_model_module_version": "~2.1.4",
       "_view_module_version": "~2.1.4"
      }
     },
     "9b1e6ecefcc94baaa5e613b659fdaa07": {
      "model_module": "jupyter-js-widgets",
      "model_module_version": "~2.1.4",
      "model_name": "ButtonModel",
      "state": {
       "_model_module_version": "~2.1.4",
       "_view_module_version": "~2.1.4",
       "description": "Previous",
       "icon": "check",
       "layout": "IPY_MODEL_047a7c88fb9843caabfa30eff98990ad",
       "style": "IPY_MODEL_445f3d5bd2bb404ea623bc2784a3d413",
       "tooltip": "Click me"
      }
     },
     "9b6b742ee1d642df8598abcb980acd50": {
      "model_module": "jupyter-js-widgets",
      "model_module_version": "~2.1.4",
      "model_name": "HTMLModel",
      "state": {
       "_model_module_version": "~2.1.4",
       "_view_module_version": "~2.1.4",
       "layout": "IPY_MODEL_2c7a2f986a754cf581593046efa370b0",
       "value": "\n<svg width=\"100%\" height=0><defs><clipPath id=\"mask\">\n<rect x=0 y=0 width='28%' height='500' /><rect x=0 y=0 width='50%' height='500' /><rect x=0 y=0 width='100%' height='50' />\n</clipPath></defs></svg>\n<style>\n.bp {\n    width: 100%;\n    -webkit-clip-path: circle(#mask);\n    clip-path: url(#mask);\n}\n</style>\n<img src=\"bp_solution.png\" class=bp>\n"
      }
     },
     "9b74fed66cd841b3a6a0f5b941a58b5e": {
      "model_module": "jupyter-js-widgets",
      "model_module_version": "~2.1.4",
      "model_name": "LayoutModel",
      "state": {
       "_model_module_version": "~2.1.4",
       "_view_module_version": "~2.1.4"
      }
     },
     "9b79b20ee2ff44b89f42dea8ab388b3f": {
      "model_module": "jupyter-js-widgets",
      "model_module_version": "~2.1.4",
      "model_name": "LayoutModel",
      "state": {
       "_model_module_version": "~2.1.4",
       "_view_module_version": "~2.1.4"
      }
     },
     "9bcbb69065824a6c834ce5272f8456a1": {
      "model_module": "jupyter-js-widgets",
      "model_module_version": "~2.1.4",
      "model_name": "ButtonModel",
      "state": {
       "_model_module_version": "~2.1.4",
       "_view_module_version": "~2.1.4",
       "description": "Next",
       "layout": "IPY_MODEL_53a7ae1756da4df7a82061809ff35b42",
       "style": "IPY_MODEL_f9d3ec323aed4a71b121a19716c647a5"
      }
     },
     "9c0803cd97524c4f9a3ac9b9ed7171b9": {
      "model_module": "jupyter-js-widgets",
      "model_module_version": "~2.1.4",
      "model_name": "ButtonModel",
      "state": {
       "_model_module_version": "~2.1.4",
       "_view_module_version": "~2.1.4",
       "description": "Next",
       "layout": "IPY_MODEL_81b3620b15c944c5a624c82c5ba9f9ed",
       "style": "IPY_MODEL_a0ccc980a7a046cd9b560815670810b9"
      }
     },
     "9c0c087337524d42849427971f22ef59": {
      "model_module": "jupyter-js-widgets",
      "model_module_version": "~2.1.4",
      "model_name": "LayoutModel",
      "state": {
       "_model_module_version": "~2.1.4",
       "_view_module_version": "~2.1.4"
      }
     },
     "9c10c6e6291345d192da9b63659fed18": {
      "model_module": "jupyter-js-widgets",
      "model_module_version": "~2.1.4",
      "model_name": "ButtonStyleModel",
      "state": {
       "_model_module_version": "~2.1.4",
       "_view_module_version": "~2.1.4"
      }
     },
     "9c29c5208a6a45e08e2e64fc952fb354": {
      "model_module": "jupyter-js-widgets",
      "model_module_version": "~2.1.4",
      "model_name": "LayoutModel",
      "state": {
       "_model_module_version": "~2.1.4",
       "_view_module_version": "~2.1.4"
      }
     },
     "9c64e21bda9a4f5fa4d617df5856861c": {
      "model_module": "jupyter-js-widgets",
      "model_module_version": "~2.1.4",
      "model_name": "HTMLModel",
      "state": {
       "_model_module_version": "~2.1.4",
       "_view_module_version": "~2.1.4",
       "layout": "IPY_MODEL_30dc776a887947a4b4c8b97364c61362",
       "value": "\n<svg width=\"100%\" height=0><defs><clipPath id=\"mask\">\n<rect x=0 y=0 width='100%' height='50' /><rect x=0 y=0 width='28%' height='500' /><rect x=0 y=0 width='72%' height='310' /><rect x='62%' y=0 width='100%' height='240' /><rect x='70%' y=0 width='100%' height='330' />\n</clipPath></defs></svg>\n<style>\nimg {\n    display: block;\n    margin: 0 auto;\n}\n.bp {\n    width: 100%;\n    -webkit-clip-path: circle(#mask);\n    clip-path: url(#mask);\n}\n</style>\n<img src='mlp.png' text-align='center'>\n<img src=\"bp_solution.png\" class=bp />\n"
      }
     },
     "9c6b77149803448992bce3e04ba4cbc7": {
      "model_module": "jupyter-js-widgets",
      "model_module_version": "~2.1.4",
      "model_name": "LayoutModel",
      "state": {
       "_model_module_version": "~2.1.4",
       "_view_module_version": "~2.1.4"
      }
     },
     "9cafd5eb05e44ee0a08d1e71d4888e15": {
      "model_module": "jupyter-js-widgets",
      "model_module_version": "~2.1.4",
      "model_name": "ButtonModel",
      "state": {
       "_model_module_version": "~2.1.4",
       "_view_module_version": "~2.1.4",
       "description": "Next",
       "icon": "check",
       "layout": "IPY_MODEL_eae5cc91ebb1400a893daa8c624e9f6b",
       "style": "IPY_MODEL_9d331eee0d5646f7a7fe054857527efa",
       "tooltip": "Click me"
      }
     },
     "9ce9ed63b19642aca37934b92bc4ad20": {
      "model_module": "jupyter-js-widgets",
      "model_module_version": "~2.1.4",
      "model_name": "ButtonStyleModel",
      "state": {
       "_model_module_version": "~2.1.4",
       "_view_module_version": "~2.1.4"
      }
     },
     "9d0244a172484483b87ff09421d5c055": {
      "model_module": "jupyter-js-widgets",
      "model_module_version": "~2.1.4",
      "model_name": "ButtonStyleModel",
      "state": {
       "_model_module_version": "~2.1.4",
       "_view_module_version": "~2.1.4"
      }
     },
     "9d06148151b143968cb89d27c654adf3": {
      "model_module": "jupyter-js-widgets",
      "model_module_version": "~2.1.4",
      "model_name": "LayoutModel",
      "state": {
       "_model_module_version": "~2.1.4",
       "_view_module_version": "~2.1.4"
      }
     },
     "9d18bca9b3f741b996613e1711ca08af": {
      "model_module": "jupyter-js-widgets",
      "model_module_version": "~2.1.4",
      "model_name": "LayoutModel",
      "state": {
       "_model_module_version": "~2.1.4",
       "_view_module_version": "~2.1.4"
      }
     },
     "9d1e9e64ecf04e5db836e4e83f3a3ee8": {
      "model_module": "jupyter-js-widgets",
      "model_module_version": "~2.1.4",
      "model_name": "LayoutModel",
      "state": {
       "_model_module_version": "~2.1.4",
       "_view_module_version": "~2.1.4"
      }
     },
     "9d30497780364e1eaedccedec1e21838": {
      "model_module": "jupyter-js-widgets",
      "model_module_version": "~2.1.4",
      "model_name": "LayoutModel",
      "state": {
       "_model_module_version": "~2.1.4",
       "_view_module_version": "~2.1.4"
      }
     },
     "9d331eee0d5646f7a7fe054857527efa": {
      "model_module": "jupyter-js-widgets",
      "model_module_version": "~2.1.4",
      "model_name": "ButtonStyleModel",
      "state": {
       "_model_module_version": "~2.1.4",
       "_view_module_version": "~2.1.4"
      }
     },
     "9d4ba1257506493ab354d59e8fbfa62f": {
      "model_module": "jupyter-js-widgets",
      "model_module_version": "~2.1.4",
      "model_name": "ButtonStyleModel",
      "state": {
       "_model_module_version": "~2.1.4",
       "_view_module_version": "~2.1.4"
      }
     },
     "9d6b7577d3dc479cbcbac661e68b2588": {
      "model_module": "jupyter-js-widgets",
      "model_module_version": "~2.1.4",
      "model_name": "LayoutModel",
      "state": {
       "_model_module_version": "~2.1.4",
       "_view_module_version": "~2.1.4"
      }
     },
     "9dbce56a1fd0485b950fe50f0fbd258a": {
      "model_module": "jupyter-js-widgets",
      "model_module_version": "~2.1.4",
      "model_name": "ButtonStyleModel",
      "state": {
       "_model_module_version": "~2.1.4",
       "_view_module_version": "~2.1.4"
      }
     },
     "9e2d629697ad49e2a01e7bdac5d7484a": {
      "model_module": "jupyter-js-widgets",
      "model_module_version": "~2.1.4",
      "model_name": "ButtonModel",
      "state": {
       "_model_module_version": "~2.1.4",
       "_view_module_version": "~2.1.4",
       "description": "Next",
       "layout": "IPY_MODEL_424a1158c24f4ff4828ce882426da1dd",
       "style": "IPY_MODEL_e97d6d1af4864bebaafd913347d838b4"
      }
     },
     "9e45687b19674fd88b01bc2d8b79e6bf": {
      "model_module": "jupyter-js-widgets",
      "model_module_version": "~2.1.4",
      "model_name": "ButtonModel",
      "state": {
       "_model_module_version": "~2.1.4",
       "_view_module_version": "~2.1.4",
       "description": "Next",
       "icon": "check",
       "layout": "IPY_MODEL_434ca072870e475f91b89da97953c508",
       "style": "IPY_MODEL_9ef2e676943b4ea39cbc735a9b58eed9",
       "tooltip": "Click me"
      }
     },
     "9e465f970eff44f19ec8e9f607719a9a": {
      "model_module": "jupyter-js-widgets",
      "model_module_version": "~2.1.4",
      "model_name": "ButtonStyleModel",
      "state": {
       "_model_module_version": "~2.1.4",
       "_view_module_version": "~2.1.4"
      }
     },
     "9e8f4057d59d46c58cf2c5da22290749": {
      "model_module": "jupyter-js-widgets",
      "model_module_version": "~2.1.4",
      "model_name": "ButtonModel",
      "state": {
       "_model_module_version": "~2.1.4",
       "_view_module_version": "~2.1.4",
       "description": "Next",
       "layout": "IPY_MODEL_87e8179c11bb4b98a4f03c6802ce6f00",
       "style": "IPY_MODEL_47609c01d3bc47af8461451f5b251d5a"
      }
     },
     "9e9c60ceb82740798a28ffe8ca7c9560": {
      "model_module": "jupyter-js-widgets",
      "model_module_version": "~2.1.4",
      "model_name": "ButtonStyleModel",
      "state": {
       "_model_module_version": "~2.1.4",
       "_view_module_version": "~2.1.4"
      }
     },
     "9ea7ca8549474334b59acc06647d9ea4": {
      "model_module": "jupyter-js-widgets",
      "model_module_version": "~2.1.4",
      "model_name": "ButtonModel",
      "state": {
       "_model_module_version": "~2.1.4",
       "_view_module_version": "~2.1.4",
       "description": "Next",
       "icon": "check",
       "layout": "IPY_MODEL_f1bb205e6a86404f95516e543b61a7a4",
       "style": "IPY_MODEL_e64bf56e87e54cadb36ad14941987723",
       "tooltip": "Click me"
      }
     },
     "9eb412ff76924caea492bd2ac791f4e7": {
      "model_module": "jupyter-js-widgets",
      "model_module_version": "~2.1.4",
      "model_name": "LayoutModel",
      "state": {
       "_model_module_version": "~2.1.4",
       "_view_module_version": "~2.1.4"
      }
     },
     "9ef2d62874634ea287edcb9b9247b027": {
      "model_module": "jupyter-js-widgets",
      "model_module_version": "~2.1.4",
      "model_name": "LayoutModel",
      "state": {
       "_model_module_version": "~2.1.4",
       "_view_module_version": "~2.1.4"
      }
     },
     "9ef2e676943b4ea39cbc735a9b58eed9": {
      "model_module": "jupyter-js-widgets",
      "model_module_version": "~2.1.4",
      "model_name": "ButtonStyleModel",
      "state": {
       "_model_module_version": "~2.1.4",
       "_view_module_version": "~2.1.4"
      }
     },
     "9effe13a40b643589e9d0e8e94a6c573": {
      "model_module": "jupyter-js-widgets",
      "model_module_version": "~2.1.4",
      "model_name": "ButtonStyleModel",
      "state": {
       "_model_module_version": "~2.1.4",
       "_view_module_version": "~2.1.4"
      }
     },
     "9f26aa709fa240e7a51971168cfc50d5": {
      "model_module": "jupyter-js-widgets",
      "model_module_version": "~2.1.4",
      "model_name": "HTMLModel",
      "state": {
       "_model_module_version": "~2.1.4",
       "_view_module_version": "~2.1.4",
       "layout": "IPY_MODEL_3ad8c552172a4d1a9045ebb2140385d6",
       "value": "<img src='bp_solution.png' width='100%'>"
      }
     },
     "9f2800add88e4a1da311869f8b49fd2f": {
      "model_module": "jupyter-js-widgets",
      "model_module_version": "~2.1.4",
      "model_name": "ButtonStyleModel",
      "state": {
       "_model_module_version": "~2.1.4",
       "_view_module_version": "~2.1.4"
      }
     },
     "9f498eb1584e41faae6f4f3c71ceac0a": {
      "model_module": "jupyter-js-widgets",
      "model_module_version": "~2.1.4",
      "model_name": "ButtonModel",
      "state": {
       "_model_module_version": "~2.1.4",
       "_view_module_version": "~2.1.4",
       "description": "Next",
       "layout": "IPY_MODEL_72af2eef45c54ac6a3dfb0c29ac2bd5c",
       "style": "IPY_MODEL_df8fd6c30f984f1689853b9df280ef01"
      }
     },
     "9f617f97dd36467e89bc437f3d92748d": {
      "model_module": "jupyter-js-widgets",
      "model_module_version": "~2.1.4",
      "model_name": "LayoutModel",
      "state": {
       "_model_module_version": "~2.1.4",
       "_view_module_version": "~2.1.4"
      }
     },
     "9f71bdf9acb4403b8b5c7ae437f43809": {
      "model_module": "jupyter-js-widgets",
      "model_module_version": "~2.1.4",
      "model_name": "ButtonStyleModel",
      "state": {
       "_model_module_version": "~2.1.4",
       "_view_module_version": "~2.1.4"
      }
     },
     "9f8f5849d1544e58a997b1b123dea093": {
      "model_module": "jupyter-js-widgets",
      "model_module_version": "~2.1.4",
      "model_name": "ButtonStyleModel",
      "state": {
       "_model_module_version": "~2.1.4",
       "_view_module_version": "~2.1.4"
      }
     },
     "9fa483009ccd4246b23a0ee8a03fa249": {
      "model_module": "jupyter-js-widgets",
      "model_module_version": "~2.1.4",
      "model_name": "HTMLModel",
      "state": {
       "_model_module_version": "~2.1.4",
       "_view_module_version": "~2.1.4",
       "layout": "IPY_MODEL_16bd28437e9c4164b1902804b2984a51",
       "value": "\n<svg width=\"100%\" height=0><defs><clipPath id=\"mask\">\n<rect x=0 y=0 width='28%' height='500' /><rect x=0 y=0 width='50%' height='500' /><rect x=0 y=0 width='100%' height='50' />\n</clipPath></defs></svg>\n<style>\n.bp {\n    width: 100%;\n    -webkit-clip-path: circle(#mask);\n    clip-path: url(#mask);\n}\n</style>\n<img src=\"bp_solution.png\" class=bp>\n"
      }
     },
     "9fe84a83d9f34ceaab805f9a1b3af8ee": {
      "model_module": "jupyter-js-widgets",
      "model_module_version": "~2.1.4",
      "model_name": "LayoutModel",
      "state": {
       "_model_module_version": "~2.1.4",
       "_view_module_version": "~2.1.4"
      }
     },
     "9ff80d0e2a0f4ac6b18619a6ee7c5980": {
      "model_module": "jupyter-js-widgets",
      "model_module_version": "~2.1.4",
      "model_name": "ButtonModel",
      "state": {
       "_model_module_version": "~2.1.4",
       "_view_module_version": "~2.1.4",
       "description": "Next",
       "icon": "check",
       "layout": "IPY_MODEL_d0c0783dfed74b38a9fd19179c13020f",
       "style": "IPY_MODEL_60a73e5b83b54deb98da37e3aa89b216",
       "tooltip": "Click me"
      }
     },
     "a00ff6f831654f59841987244d7077c5": {
      "model_module": "jupyter-js-widgets",
      "model_module_version": "~2.1.4",
      "model_name": "ButtonStyleModel",
      "state": {
       "_model_module_version": "~2.1.4",
       "_view_module_version": "~2.1.4"
      }
     },
     "a046b2cb71bd495ca81a73527acfd31e": {
      "model_module": "jupyter-js-widgets",
      "model_module_version": "~2.1.4",
      "model_name": "LayoutModel",
      "state": {
       "_model_module_version": "~2.1.4",
       "_view_module_version": "~2.1.4"
      }
     },
     "a05ecef480ba474781c1dd9501ada9d4": {
      "model_module": "jupyter-js-widgets",
      "model_module_version": "~2.1.4",
      "model_name": "ButtonStyleModel",
      "state": {
       "_model_module_version": "~2.1.4",
       "_view_module_version": "~2.1.4"
      }
     },
     "a05fb5600c4c46be97d3e5f4fdae4c43": {
      "model_module": "jupyter-js-widgets",
      "model_module_version": "~2.1.4",
      "model_name": "LayoutModel",
      "state": {
       "_model_module_version": "~2.1.4",
       "_view_module_version": "~2.1.4"
      }
     },
     "a0622a78fd85449e93750a4fdedb67eb": {
      "model_module": "jupyter-js-widgets",
      "model_module_version": "~2.1.4",
      "model_name": "ButtonModel",
      "state": {
       "_model_module_version": "~2.1.4",
       "_view_module_version": "~2.1.4",
       "description": "Previous",
       "layout": "IPY_MODEL_de902e51f5234618a3aa3b3a77ac733e",
       "style": "IPY_MODEL_0173e35d02844418b37ef715cc83d3fc"
      }
     },
     "a0ad20bfe4be4e91a33e44c1e436a67c": {
      "model_module": "jupyter-js-widgets",
      "model_module_version": "~2.1.4",
      "model_name": "ButtonStyleModel",
      "state": {
       "_model_module_version": "~2.1.4",
       "_view_module_version": "~2.1.4"
      }
     },
     "a0ccc980a7a046cd9b560815670810b9": {
      "model_module": "jupyter-js-widgets",
      "model_module_version": "~2.1.4",
      "model_name": "ButtonStyleModel",
      "state": {
       "_model_module_version": "~2.1.4",
       "_view_module_version": "~2.1.4"
      }
     },
     "a0d907ef191448ca9920cfc5a187790b": {
      "model_module": "jupyter-js-widgets",
      "model_module_version": "~2.1.4",
      "model_name": "ButtonModel",
      "state": {
       "_model_module_version": "~2.1.4",
       "_view_module_version": "~2.1.4",
       "description": "Previous",
       "layout": "IPY_MODEL_fd610de94e74439092bbdee64961629c",
       "style": "IPY_MODEL_dc25aad2d0814fc3815abe845febe185"
      }
     },
     "a0e6124642dd4f39bcf1dc77b32def30": {
      "model_module": "jupyter-js-widgets",
      "model_module_version": "~2.1.4",
      "model_name": "ButtonModel",
      "state": {
       "_model_module_version": "~2.1.4",
       "_view_module_version": "~2.1.4",
       "description": "Previous",
       "layout": "IPY_MODEL_2a75c141382a46ff806e55b992dd5713",
       "style": "IPY_MODEL_338de8b7c22041cea39f781eb91c697f"
      }
     },
     "a0e87be5739449a48efc064c6d8f92b4": {
      "model_module": "jupyter-js-widgets",
      "model_module_version": "~2.1.4",
      "model_name": "LayoutModel",
      "state": {
       "_model_module_version": "~2.1.4",
       "_view_module_version": "~2.1.4"
      }
     },
     "a0ebc77a25a34e579116e7922d7d04be": {
      "model_module": "jupyter-js-widgets",
      "model_module_version": "~2.1.4",
      "model_name": "LayoutModel",
      "state": {
       "_model_module_version": "~2.1.4",
       "_view_module_version": "~2.1.4"
      }
     },
     "a10495b8321e4e79bcf4c3533481b05a": {
      "model_module": "jupyter-js-widgets",
      "model_module_version": "~2.1.4",
      "model_name": "LayoutModel",
      "state": {
       "_model_module_version": "~2.1.4",
       "_view_module_version": "~2.1.4"
      }
     },
     "a1148c2f0308447988cb1e445184be60": {
      "model_module": "jupyter-js-widgets",
      "model_module_version": "~2.1.4",
      "model_name": "ButtonStyleModel",
      "state": {
       "_model_module_version": "~2.1.4",
       "_view_module_version": "~2.1.4"
      }
     },
     "a11da49dfbfa4598872f82d70938baa5": {
      "model_module": "jupyter-js-widgets",
      "model_module_version": "~2.1.4",
      "model_name": "LayoutModel",
      "state": {
       "_model_module_version": "~2.1.4",
       "_view_module_version": "~2.1.4"
      }
     },
     "a172c1325ad9490d90bd101b67a7146b": {
      "model_module": "jupyter-js-widgets",
      "model_module_version": "~2.1.4",
      "model_name": "LayoutModel",
      "state": {
       "_model_module_version": "~2.1.4",
       "_view_module_version": "~2.1.4"
      }
     },
     "a1c5dfb6e64249a09050034b12afa981": {
      "model_module": "jupyter-js-widgets",
      "model_module_version": "~2.1.4",
      "model_name": "ButtonModel",
      "state": {
       "_model_module_version": "~2.1.4",
       "_view_module_version": "~2.1.4",
       "description": "Previous",
       "layout": "IPY_MODEL_c5974f7ee72c4f3381b33fbc06d813d8",
       "style": "IPY_MODEL_517187bc1915431fa5e7c2514005516c"
      }
     },
     "a2662917222a4206b5b78769574ec1d7": {
      "model_module": "jupyter-js-widgets",
      "model_module_version": "~2.1.4",
      "model_name": "ButtonStyleModel",
      "state": {
       "_model_module_version": "~2.1.4",
       "_view_module_version": "~2.1.4"
      }
     },
     "a2862b3de0c24a5d847eff03bc834b76": {
      "model_module": "jupyter-js-widgets",
      "model_module_version": "~2.1.4",
      "model_name": "ButtonStyleModel",
      "state": {
       "_model_module_version": "~2.1.4",
       "_view_module_version": "~2.1.4"
      }
     },
     "a2a3e2c539f248949fc1dffd54eae01a": {
      "model_module": "jupyter-js-widgets",
      "model_module_version": "~2.1.4",
      "model_name": "ButtonStyleModel",
      "state": {
       "_model_module_version": "~2.1.4",
       "_view_module_version": "~2.1.4"
      }
     },
     "a2bb769201b34268b273cacc6f50c7b4": {
      "model_module": "jupyter-js-widgets",
      "model_module_version": "~2.1.4",
      "model_name": "ButtonModel",
      "state": {
       "_model_module_version": "~2.1.4",
       "_view_module_version": "~2.1.4",
       "description": "Previous",
       "layout": "IPY_MODEL_18df76eb648d4c04ab0a99fe460f1d6a",
       "style": "IPY_MODEL_514d7b4a464d4c30a10c3f08d26b7493"
      }
     },
     "a2bbe96b4bf54197873ef680e9be6250": {
      "model_module": "jupyter-js-widgets",
      "model_module_version": "~2.1.4",
      "model_name": "ButtonModel",
      "state": {
       "_model_module_version": "~2.1.4",
       "_view_module_version": "~2.1.4",
       "description": "Previous",
       "layout": "IPY_MODEL_e4ef3f5031a347f9b3cd2fb3030e3905",
       "style": "IPY_MODEL_a6b5b94511ea475180bbb07c4dde6aca"
      }
     },
     "a2be4aa7d0f743038d89b1b0d4fe66e3": {
      "model_module": "jupyter-js-widgets",
      "model_module_version": "~2.1.4",
      "model_name": "LayoutModel",
      "state": {
       "_model_module_version": "~2.1.4",
       "_view_module_version": "~2.1.4"
      }
     },
     "a314db4b82ca46899cab89fdebd934ab": {
      "model_module": "jupyter-js-widgets",
      "model_module_version": "~2.1.4",
      "model_name": "LayoutModel",
      "state": {
       "_model_module_version": "~2.1.4",
       "_view_module_version": "~2.1.4"
      }
     },
     "a3c70b21129a4b14be2c74c19632902f": {
      "model_module": "jupyter-js-widgets",
      "model_module_version": "~2.1.4",
      "model_name": "ButtonStyleModel",
      "state": {
       "_model_module_version": "~2.1.4",
       "_view_module_version": "~2.1.4"
      }
     },
     "a41461b783894e249dac3063607356f1": {
      "model_module": "jupyter-js-widgets",
      "model_module_version": "~2.1.4",
      "model_name": "LayoutModel",
      "state": {
       "_model_module_version": "~2.1.4",
       "_view_module_version": "~2.1.4"
      }
     },
     "a42fcb52161844d08d856a8c0bf87dd4": {
      "model_module": "jupyter-js-widgets",
      "model_module_version": "~2.1.4",
      "model_name": "ButtonModel",
      "state": {
       "_model_module_version": "~2.1.4",
       "_view_module_version": "~2.1.4",
       "description": "Previous",
       "icon": "check",
       "layout": "IPY_MODEL_abfbf1b083ca4470a310cc5f68531617",
       "style": "IPY_MODEL_d1010479c6054e3787b635b698857aa3",
       "tooltip": "Click me"
      }
     },
     "a44d20aa7bb94d168d8f91382d616b2b": {
      "model_module": "jupyter-js-widgets",
      "model_module_version": "~2.1.4",
      "model_name": "LayoutModel",
      "state": {
       "_model_module_version": "~2.1.4",
       "_view_module_version": "~2.1.4"
      }
     },
     "a451f5903cbd4a8e937679bb4d113e50": {
      "model_module": "jupyter-js-widgets",
      "model_module_version": "~2.1.4",
      "model_name": "LayoutModel",
      "state": {
       "_model_module_version": "~2.1.4",
       "_view_module_version": "~2.1.4"
      }
     },
     "a455ab87dcd84477b1325a4fde67571f": {
      "model_module": "jupyter-js-widgets",
      "model_module_version": "~2.1.4",
      "model_name": "ButtonModel",
      "state": {
       "_model_module_version": "~2.1.4",
       "_view_module_version": "~2.1.4",
       "description": "Next",
       "icon": "check",
       "layout": "IPY_MODEL_c91683f4ae854d0384827515ba3a14e7",
       "style": "IPY_MODEL_dbeb32d0037747cf8e7e2cb60a466291",
       "tooltip": "Click me"
      }
     },
     "a4924773ff0e42348a68ce6b115ff713": {
      "model_module": "jupyter-js-widgets",
      "model_module_version": "~2.1.4",
      "model_name": "ButtonModel",
      "state": {
       "_model_module_version": "~2.1.4",
       "_view_module_version": "~2.1.4",
       "description": "Previous",
       "layout": "IPY_MODEL_8e49ff32b3e14f2190d2b6ae290d444e",
       "style": "IPY_MODEL_1092a58c280040afa38a6006b8ec2f2b"
      }
     },
     "a497f7e9621047bf938a634456db63cd": {
      "model_module": "jupyter-js-widgets",
      "model_module_version": "~2.1.4",
      "model_name": "ButtonStyleModel",
      "state": {
       "_model_module_version": "~2.1.4",
       "_view_module_version": "~2.1.4"
      }
     },
     "a49c6100c33e4be3b4f160116e3f3a4e": {
      "model_module": "jupyter-js-widgets",
      "model_module_version": "~2.1.4",
      "model_name": "LayoutModel",
      "state": {
       "_model_module_version": "~2.1.4",
       "_view_module_version": "~2.1.4"
      }
     },
     "a4db51a70d2f466dbc17b107cf1be283": {
      "model_module": "jupyter-js-widgets",
      "model_module_version": "~2.1.4",
      "model_name": "ButtonStyleModel",
      "state": {
       "_model_module_version": "~2.1.4",
       "_view_module_version": "~2.1.4"
      }
     },
     "a4f1ee4ba9bd4548a1b997f9e0a2fe00": {
      "model_module": "jupyter-js-widgets",
      "model_module_version": "~2.1.4",
      "model_name": "HTMLModel",
      "state": {
       "_model_module_version": "~2.1.4",
       "_view_module_version": "~2.1.4",
       "layout": "IPY_MODEL_cb9ddb3619d548c3a03b38ce1db6b9f3",
       "value": "\n<svg width=\"100%\" height=0><defs><clipPath id=\"mask\">\n<rect x=0 y=0 width='28%' height='500' /><rect x=0 y=390 width='50%' height='500' /><rect x=0 y=0 width='100%' height='50' />\n</clipPath></defs></svg>\n<style>\n.bp {\n    width: 100%;\n    -webkit-clip-path: circle(#mask);\n    clip-path: url(#mask);\n}\n</style>\n<img src=\"bp_solution.png\" class=bp>\n"
      }
     },
     "a5248f7dfbd344908d18bb90d3866c10": {
      "model_module": "jupyter-js-widgets",
      "model_module_version": "~2.1.4",
      "model_name": "LayoutModel",
      "state": {
       "_model_module_version": "~2.1.4",
       "_view_module_version": "~2.1.4"
      }
     },
     "a54f593782e945b6845567b28fa9576e": {
      "model_module": "jupyter-js-widgets",
      "model_module_version": "~2.1.4",
      "model_name": "LayoutModel",
      "state": {
       "_model_module_version": "~2.1.4",
       "_view_module_version": "~2.1.4"
      }
     },
     "a584e77b4a2744758efa47c2d795ce8a": {
      "model_module": "jupyter-js-widgets",
      "model_module_version": "~2.1.4",
      "model_name": "LayoutModel",
      "state": {
       "_model_module_version": "~2.1.4",
       "_view_module_version": "~2.1.4"
      }
     },
     "a58e5eedb29e4165b5055d8e63d475a8": {
      "model_module": "jupyter-js-widgets",
      "model_module_version": "~2.1.4",
      "model_name": "LayoutModel",
      "state": {
       "_model_module_version": "~2.1.4",
       "_view_module_version": "~2.1.4"
      }
     },
     "a5b9741debef41a2ae24d57db0659929": {
      "model_module": "jupyter-js-widgets",
      "model_module_version": "~2.1.4",
      "model_name": "HTMLModel",
      "state": {
       "_model_module_version": "~2.1.4",
       "_view_module_version": "~2.1.4",
       "layout": "IPY_MODEL_c1005842a94e432285e87bedf68ee3ba",
       "value": "\n<svg width=\"100%\" height=0><defs><clipPath id=\"mask\">\n<rect x=0 y=0 width='28%' height='500' /><rect x=0 y=0 width='50%' height='500' /><rect x=0 y=0 width='100%' height='50' />\n</clipPath></defs></svg>\n<style>\n.bp {\n    width: 100%;\n    -webkit-clip-path: circle(#mask);\n    clip-path: url(#mask);\n}\n</style>\n<img src=\"bp_solution.png\" class=bp>\n"
      }
     },
     "a63869d75a35475bbd828c7f4f8a9678": {
      "model_module": "jupyter-js-widgets",
      "model_module_version": "~2.1.4",
      "model_name": "BoxModel",
      "state": {
       "_model_module_version": "~2.1.4",
       "_view_module_version": "~2.1.4",
       "children": [
        "IPY_MODEL_8917fcaa9033499fb1d47c93adceed49",
        "IPY_MODEL_eb560553ed29400c80c4a5c727b75c0b"
       ],
       "layout": "IPY_MODEL_814f4e5101fa46868216b07b9487ea8b"
      }
     },
     "a65ba07d58904a808ed20930d3d4935f": {
      "model_module": "jupyter-js-widgets",
      "model_module_version": "~2.1.4",
      "model_name": "LayoutModel",
      "state": {
       "_model_module_version": "~2.1.4",
       "_view_module_version": "~2.1.4"
      }
     },
     "a69dd2948b444e2c912f0b9fcb6f1273": {
      "model_module": "jupyter-js-widgets",
      "model_module_version": "~2.1.4",
      "model_name": "LayoutModel",
      "state": {
       "_model_module_version": "~2.1.4",
       "_view_module_version": "~2.1.4"
      }
     },
     "a6b5b94511ea475180bbb07c4dde6aca": {
      "model_module": "jupyter-js-widgets",
      "model_module_version": "~2.1.4",
      "model_name": "ButtonStyleModel",
      "state": {
       "_model_module_version": "~2.1.4",
       "_view_module_version": "~2.1.4"
      }
     },
     "a6c347f76a314e1dbc87bb4ee5116614": {
      "model_module": "jupyter-js-widgets",
      "model_module_version": "~2.1.4",
      "model_name": "HTMLModel",
      "state": {
       "_model_module_version": "~2.1.4",
       "_view_module_version": "~2.1.4",
       "layout": "IPY_MODEL_cdeda34eeabf45639be1c2ea431e9993",
       "value": "<img src='bp_solution.png' width='100%' style='img{ color: black}'>"
      }
     },
     "a6c83112e91c4d66a696abe470548d4d": {
      "model_module": "jupyter-js-widgets",
      "model_module_version": "~2.1.4",
      "model_name": "HTMLModel",
      "state": {
       "_model_module_version": "~2.1.4",
       "_view_module_version": "~2.1.4",
       "layout": "IPY_MODEL_41b094bb9ec34104bd3ad605cba4cfc3",
       "value": "\n<svg width=\"10%0\">\n   <defs>\n    <clipPath id=\"mask\">\n      <rect x=0 y=0 width=\"50%\" height=\"600\">\n    </clipPath>\n  </defs>\n</svg>\n<style>\n\n.bp {\n    width: 100%;\n    -webkit-clip-path: circle(#mask);\n    clip-path: url(#mask);\n}\n</style>\n<img src=\"bp_solution.png\" class=bp>\n"
      }
     },
     "a6e1f9cdb136469daef90804ccb0a053": {
      "model_module": "jupyter-js-widgets",
      "model_module_version": "~2.1.4",
      "model_name": "LayoutModel",
      "state": {
       "_model_module_version": "~2.1.4",
       "_view_module_version": "~2.1.4"
      }
     },
     "a70082bbaec64521a1cd9b747e576b25": {
      "model_module": "jupyter-js-widgets",
      "model_module_version": "~2.1.4",
      "model_name": "LayoutModel",
      "state": {
       "_model_module_version": "~2.1.4",
       "_view_module_version": "~2.1.4"
      }
     },
     "a7086897d23947129bc44214eaf5f97b": {
      "model_module": "jupyter-js-widgets",
      "model_module_version": "~2.1.4",
      "model_name": "ButtonStyleModel",
      "state": {
       "_model_module_version": "~2.1.4",
       "_view_module_version": "~2.1.4"
      }
     },
     "a713116d3fed4e76b1d56ecf41b694d1": {
      "model_module": "jupyter-js-widgets",
      "model_module_version": "~2.1.4",
      "model_name": "LayoutModel",
      "state": {
       "_model_module_version": "~2.1.4",
       "_view_module_version": "~2.1.4"
      }
     },
     "a730584c320846f1a2cdcc793e381b54": {
      "model_module": "jupyter-js-widgets",
      "model_module_version": "~2.1.4",
      "model_name": "IntSliderModel",
      "state": {
       "_model_module_version": "~2.1.4",
       "_view_module_version": "~2.1.4",
       "layout": "IPY_MODEL_2643b95da5e5491780a6ae360699fe54",
       "style": "IPY_MODEL_50c93a020c864998a43cd3641005032c"
      }
     },
     "a7526a4d54ee4d7ea9600565bae9ab2f": {
      "model_module": "jupyter-js-widgets",
      "model_module_version": "~2.1.4",
      "model_name": "LayoutModel",
      "state": {
       "_model_module_version": "~2.1.4",
       "_view_module_version": "~2.1.4"
      }
     },
     "a764c086dfbf4c848cd44e6fcace8cc0": {
      "model_module": "jupyter-js-widgets",
      "model_module_version": "~2.1.4",
      "model_name": "SliderStyleModel",
      "state": {
       "_model_module_version": "~2.1.4",
       "_view_module_version": "~2.1.4"
      }
     },
     "a765be2aa0f942d09470b35dc00ec067": {
      "model_module": "jupyter-js-widgets",
      "model_module_version": "~2.1.4",
      "model_name": "LayoutModel",
      "state": {
       "_model_module_version": "~2.1.4",
       "_view_module_version": "~2.1.4"
      }
     },
     "a79d7012d4c24f628a50b3b45a3fe7d5": {
      "model_module": "jupyter-js-widgets",
      "model_module_version": "~2.1.4",
      "model_name": "ButtonStyleModel",
      "state": {
       "_model_module_version": "~2.1.4",
       "_view_module_version": "~2.1.4"
      }
     },
     "a7c59726592448f18ee34226230fc99f": {
      "model_module": "jupyter-js-widgets",
      "model_module_version": "~2.1.4",
      "model_name": "LayoutModel",
      "state": {
       "_model_module_version": "~2.1.4",
       "_view_module_version": "~2.1.4"
      }
     },
     "a7cdedb0b78642a18be12c9462348bcc": {
      "model_module": "jupyter-js-widgets",
      "model_module_version": "~2.1.4",
      "model_name": "ButtonModel",
      "state": {
       "_model_module_version": "~2.1.4",
       "_view_module_version": "~2.1.4",
       "description": "Previous",
       "layout": "IPY_MODEL_23f912b29f304ac080cda06c5501e9d3",
       "style": "IPY_MODEL_a3c70b21129a4b14be2c74c19632902f"
      }
     },
     "a7df3e60eba145f8833818d1f9577be6": {
      "model_module": "jupyter-js-widgets",
      "model_module_version": "~2.1.4",
      "model_name": "LayoutModel",
      "state": {
       "_model_module_version": "~2.1.4",
       "_view_module_version": "~2.1.4"
      }
     },
     "a7df99d4382844aa8102c30986a16fe3": {
      "model_module": "jupyter-js-widgets",
      "model_module_version": "~2.1.4",
      "model_name": "ButtonModel",
      "state": {
       "_model_module_version": "~2.1.4",
       "_view_module_version": "~2.1.4",
       "description": "Previous",
       "icon": "check",
       "layout": "IPY_MODEL_138bfc4bebd04fc0b068d1bf54d863aa",
       "style": "IPY_MODEL_4efc93f3432944628e9006aac23854a8",
       "tooltip": "Click me"
      }
     },
     "a7eb063cd89942d98577d5fc9416110f": {
      "model_module": "jupyter-js-widgets",
      "model_module_version": "~2.1.4",
      "model_name": "ButtonStyleModel",
      "state": {
       "_model_module_version": "~2.1.4",
       "_view_module_version": "~2.1.4"
      }
     },
     "a804c5dd48644f448a76897cbb3943f8": {
      "model_module": "jupyter-js-widgets",
      "model_module_version": "~2.1.4",
      "model_name": "LayoutModel",
      "state": {
       "_model_module_version": "~2.1.4",
       "_view_module_version": "~2.1.4"
      }
     },
     "a809032cd762422a93fb163fcaa65d45": {
      "model_module": "jupyter-js-widgets",
      "model_module_version": "~2.1.4",
      "model_name": "LayoutModel",
      "state": {
       "_model_module_version": "~2.1.4",
       "_view_module_version": "~2.1.4",
       "align_items": "stretch",
       "display": "flex",
       "flex_flow": "row",
       "justify_content": "center",
       "width": "100%"
      }
     },
     "a81f16f9fbc3429cacde0fb50bef3001": {
      "model_module": "jupyter-js-widgets",
      "model_module_version": "~2.1.4",
      "model_name": "ButtonModel",
      "state": {
       "_model_module_version": "~2.1.4",
       "_view_module_version": "~2.1.4",
       "description": "Previous",
       "icon": "check",
       "layout": "IPY_MODEL_4a4ec3f20cc74a9a887d567640600267",
       "style": "IPY_MODEL_5ffa2604f63e4660ab77dbc64495a89e",
       "tooltip": "Click me"
      }
     },
     "a839d7ef99bd4780ba8e96386e78c24f": {
      "model_module": "jupyter-js-widgets",
      "model_module_version": "~2.1.4",
      "model_name": "ButtonStyleModel",
      "state": {
       "_model_module_version": "~2.1.4",
       "_view_module_version": "~2.1.4"
      }
     },
     "a83d02f18310456985b4ed4801f3a4e9": {
      "model_module": "jupyter-js-widgets",
      "model_module_version": "~2.1.4",
      "model_name": "ButtonStyleModel",
      "state": {
       "_model_module_version": "~2.1.4",
       "_view_module_version": "~2.1.4"
      }
     },
     "a87ef2bc8fbb41cda1c5cf6b49549fea": {
      "model_module": "jupyter-js-widgets",
      "model_module_version": "~2.1.4",
      "model_name": "LayoutModel",
      "state": {
       "_model_module_version": "~2.1.4",
       "_view_module_version": "~2.1.4"
      }
     },
     "a8aca966e45147748ad09c0578bce424": {
      "model_module": "jupyter-js-widgets",
      "model_module_version": "~2.1.4",
      "model_name": "LayoutModel",
      "state": {
       "_model_module_version": "~2.1.4",
       "_view_module_version": "~2.1.4"
      }
     },
     "a8b34679bb0d47fd83eec94b901c6765": {
      "model_module": "jupyter-js-widgets",
      "model_module_version": "~2.1.4",
      "model_name": "ButtonStyleModel",
      "state": {
       "_model_module_version": "~2.1.4",
       "_view_module_version": "~2.1.4"
      }
     },
     "a8b34f9cf37d49a194ed0234b52817d1": {
      "model_module": "jupyter-js-widgets",
      "model_module_version": "~2.1.4",
      "model_name": "ButtonStyleModel",
      "state": {
       "_model_module_version": "~2.1.4",
       "_view_module_version": "~2.1.4"
      }
     },
     "a90908fa86664b22b8f4c7d5adeee49b": {
      "model_module": "jupyter-js-widgets",
      "model_module_version": "~2.1.4",
      "model_name": "ButtonModel",
      "state": {
       "_model_module_version": "~2.1.4",
       "_view_module_version": "~2.1.4",
       "description": "Next",
       "icon": "check",
       "layout": "IPY_MODEL_ecf98ecf07a64008b85754bd04f56fde",
       "style": "IPY_MODEL_80e69f39cf59475a854daedc10d8791d",
       "tooltip": "Click me"
      }
     },
     "a914efd325cf44318cd83445df897544": {
      "model_module": "jupyter-js-widgets",
      "model_module_version": "~2.1.4",
      "model_name": "ButtonModel",
      "state": {
       "_model_module_version": "~2.1.4",
       "_view_module_version": "~2.1.4",
       "description": "Previous",
       "icon": "check",
       "layout": "IPY_MODEL_15ff0ccae418461c8a6172dccee0a0a0",
       "style": "IPY_MODEL_c67b1203b865492696bb3d7c7dd089e7",
       "tooltip": "Click me"
      }
     },
     "a92b9bf0fbe14df08f98f9c6d1a6c315": {
      "model_module": "jupyter-js-widgets",
      "model_module_version": "~2.1.4",
      "model_name": "ButtonModel",
      "state": {
       "_model_module_version": "~2.1.4",
       "_view_module_version": "~2.1.4",
       "description": "Previous",
       "icon": "check",
       "layout": "IPY_MODEL_d9af86aaf54b4429bc49ac35ff2dbb1c",
       "style": "IPY_MODEL_1ab9463fabd74ff890f2b147f5760053",
       "tooltip": "Click me"
      }
     },
     "a933c90254ea4ceaa792d7174a66bbac": {
      "model_module": "jupyter-js-widgets",
      "model_module_version": "~2.1.4",
      "model_name": "ButtonModel",
      "state": {
       "_model_module_version": "~2.1.4",
       "_view_module_version": "~2.1.4",
       "description": "Next",
       "icon": "check",
       "layout": "IPY_MODEL_063dcf46af3940b99c3000ae7832edcc",
       "style": "IPY_MODEL_09a7e77ed4104da4b9f21c207081f306",
       "tooltip": "Click me"
      }
     },
     "a96d652740464b849fe340be0d6396c6": {
      "model_module": "jupyter-js-widgets",
      "model_module_version": "~2.1.4",
      "model_name": "LayoutModel",
      "state": {
       "_model_module_version": "~2.1.4",
       "_view_module_version": "~2.1.4"
      }
     },
     "a97328b5ecd04d03a5f63f5ed95058e9": {
      "model_module": "jupyter-js-widgets",
      "model_module_version": "~2.1.4",
      "model_name": "ButtonModel",
      "state": {
       "_model_module_version": "~2.1.4",
       "_view_module_version": "~2.1.4",
       "description": "Previous",
       "layout": "IPY_MODEL_d8905ef5ec574e8e9ae1ae9ac907f579",
       "style": "IPY_MODEL_6c12e458e82d4cb38ba402876b00331a"
      }
     },
     "a98516ef840c4faaa543eb27ab595b10": {
      "model_module": "jupyter-js-widgets",
      "model_module_version": "~2.1.4",
      "model_name": "LayoutModel",
      "state": {
       "_model_module_version": "~2.1.4",
       "_view_module_version": "~2.1.4"
      }
     },
     "a99fdafb7d384f72820e361ce171fae8": {
      "model_module": "jupyter-js-widgets",
      "model_module_version": "~2.1.4",
      "model_name": "ButtonStyleModel",
      "state": {
       "_model_module_version": "~2.1.4",
       "_view_module_version": "~2.1.4"
      }
     },
     "a9f1b896a71141fbaff89b0b2ebbd3cb": {
      "model_module": "jupyter-js-widgets",
      "model_module_version": "~2.1.4",
      "model_name": "LayoutModel",
      "state": {
       "_model_module_version": "~2.1.4",
       "_view_module_version": "~2.1.4"
      }
     },
     "aa2059cd5fe44b53b31e10cca0d2cb16": {
      "model_module": "jupyter-js-widgets",
      "model_module_version": "~2.1.4",
      "model_name": "LayoutModel",
      "state": {
       "_model_module_version": "~2.1.4",
       "_view_module_version": "~2.1.4"
      }
     },
     "aa23e3533cf746649c3c197ebd90e7dc": {
      "model_module": "jupyter-js-widgets",
      "model_module_version": "~2.1.4",
      "model_name": "SliderStyleModel",
      "state": {
       "_model_module_version": "~2.1.4",
       "_view_module_version": "~2.1.4"
      }
     },
     "aa49e94af276426287546a64775f52ba": {
      "model_module": "jupyter-js-widgets",
      "model_module_version": "~2.1.4",
      "model_name": "LayoutModel",
      "state": {
       "_model_module_version": "~2.1.4",
       "_view_module_version": "~2.1.4"
      }
     },
     "aa4ede4ce2ec42898b1b18233c85ad82": {
      "model_module": "jupyter-js-widgets",
      "model_module_version": "~2.1.4",
      "model_name": "ButtonModel",
      "state": {
       "_model_module_version": "~2.1.4",
       "_view_module_version": "~2.1.4",
       "description": "Previous",
       "layout": "IPY_MODEL_e421c1a544824364a74c82610a738e32",
       "style": "IPY_MODEL_20c9b0616eea4b259e3d4342ac53b85a"
      }
     },
     "aa5e02bf85134470b5f217f1ea52e7af": {
      "model_module": "jupyter-js-widgets",
      "model_module_version": "~2.1.4",
      "model_name": "ButtonStyleModel",
      "state": {
       "_model_module_version": "~2.1.4",
       "_view_module_version": "~2.1.4"
      }
     },
     "aac4bc9138694b35bc241269eac8f7e2": {
      "model_module": "jupyter-js-widgets",
      "model_module_version": "~2.1.4",
      "model_name": "ButtonStyleModel",
      "state": {
       "_model_module_version": "~2.1.4",
       "_view_module_version": "~2.1.4"
      }
     },
     "aad4e64cc90e40cc8ccef2d2ee076f48": {
      "model_module": "jupyter-js-widgets",
      "model_module_version": "~2.1.4",
      "model_name": "HTMLModel",
      "state": {
       "_model_module_version": "~2.1.4",
       "_view_module_version": "~2.1.4",
       "layout": "IPY_MODEL_92c94426dee3481f8c4ca23bef88ad72",
       "value": "\n<svg width=\"100%\" height=0><defs><clipPath id=\"mask\">\n<rect x=0 y=0 width='100%' height='50' /><rect x=0 y=0 width='28%' height='500' /><rect x=0 y=0 width='72%' height='240' /><rect x='62%' y=0 width='100%' height='240' />\n</clipPath></defs></svg>\n<style>\n.bp {\n    width: 100%;\n    -webkit-clip-path: circle(#mask);\n    clip-path: url(#mask);\n}\n</style>\n<img src=\"bp_solution.png\" class=bp />\n"
      }
     },
     "aad59231773140a489c14d57e5ab8a70": {
      "model_module": "jupyter-js-widgets",
      "model_module_version": "~2.1.4",
      "model_name": "LayoutModel",
      "state": {
       "_model_module_version": "~2.1.4",
       "_view_module_version": "~2.1.4"
      }
     },
     "aad5d1c0087243009a246be8031ad268": {
      "model_module": "jupyter-js-widgets",
      "model_module_version": "~2.1.4",
      "model_name": "HTMLModel",
      "state": {
       "_model_module_version": "~2.1.4",
       "_view_module_version": "~2.1.4",
       "layout": "IPY_MODEL_3ca4d4ef5ac14009874e0cd900c7ae1a",
       "value": "\n<svg width=0>\n   <defs>\n    <clipPath id=\"mask\">\n      <rect x=0 y=0 width=\"100%\" height=\"600\">\n    </clipPath>\n  </defs>\n</svg>\n<style>\n\n.bp {\n    width: 100%;\n    -webkit-clip-path: circle(#mask);\n    clip-path: url(#mask);\n}\n</style>\n<img src=\"bp_solution.png\" class=bp>\n"
      }
     },
     "ab23d7227cce43208668673b7b398d9e": {
      "model_module": "jupyter-js-widgets",
      "model_module_version": "~2.1.4",
      "model_name": "LayoutModel",
      "state": {
       "_model_module_version": "~2.1.4",
       "_view_module_version": "~2.1.4"
      }
     },
     "ab24c7c7f1a0458f9d30234c17f55d02": {
      "model_module": "jupyter-js-widgets",
      "model_module_version": "~2.1.4",
      "model_name": "LayoutModel",
      "state": {
       "_model_module_version": "~2.1.4",
       "_view_module_version": "~2.1.4"
      }
     },
     "abcaf14c6c0f49dba56e9e6580bea5a1": {
      "model_module": "jupyter-js-widgets",
      "model_module_version": "~2.1.4",
      "model_name": "ButtonStyleModel",
      "state": {
       "_model_module_version": "~2.1.4",
       "_view_module_version": "~2.1.4"
      }
     },
     "abd34c2914c844e589d1f5d014971586": {
      "model_module": "jupyter-js-widgets",
      "model_module_version": "~2.1.4",
      "model_name": "LayoutModel",
      "state": {
       "_model_module_version": "~2.1.4",
       "_view_module_version": "~2.1.4",
       "align_items": "stretch",
       "display": "flex",
       "flex_flow": "row",
       "width": "100%"
      }
     },
     "abde3568d2684d5b80a1dbc88245749e": {
      "model_module": "jupyter-js-widgets",
      "model_module_version": "~2.1.4",
      "model_name": "ButtonStyleModel",
      "state": {
       "_model_module_version": "~2.1.4",
       "_view_module_version": "~2.1.4"
      }
     },
     "abe9156c03b24caa88e78295b23c6a28": {
      "model_module": "jupyter-js-widgets",
      "model_module_version": "~2.1.4",
      "model_name": "ButtonModel",
      "state": {
       "_model_module_version": "~2.1.4",
       "_view_module_version": "~2.1.4",
       "description": "Next",
       "icon": "check",
       "layout": "IPY_MODEL_02a10bccb8434e82ae600e0daa87ab6f",
       "style": "IPY_MODEL_194b14fb409c4eee973ac76775d4a7b0",
       "tooltip": "Click me"
      }
     },
     "abfbf1b083ca4470a310cc5f68531617": {
      "model_module": "jupyter-js-widgets",
      "model_module_version": "~2.1.4",
      "model_name": "LayoutModel",
      "state": {
       "_model_module_version": "~2.1.4",
       "_view_module_version": "~2.1.4"
      }
     },
     "ac05635329c94558b6424467fff703da": {
      "model_module": "jupyter-js-widgets",
      "model_module_version": "~2.1.4",
      "model_name": "HTMLModel",
      "state": {
       "_model_module_version": "~2.1.4",
       "_view_module_version": "~2.1.4",
       "layout": "IPY_MODEL_821003220c424e75826bfb238885868e",
       "value": "<img src='bp_solution.png' width='100%' style='clip_path: circle(100 px)'>"
      }
     },
     "ac25cfe860714e2db975f165e1917ab8": {
      "model_module": "jupyter-js-widgets",
      "model_module_version": "~2.1.4",
      "model_name": "LayoutModel",
      "state": {
       "_model_module_version": "~2.1.4",
       "_view_module_version": "~2.1.4"
      }
     },
     "ac32e5dd11094ed7a917b34c0627d59b": {
      "model_module": "jupyter-js-widgets",
      "model_module_version": "~2.1.4",
      "model_name": "LayoutModel",
      "state": {
       "_model_module_version": "~2.1.4",
       "_view_module_version": "~2.1.4"
      }
     },
     "ac3dedad1e69475582c1c1ba764b13cb": {
      "model_module": "jupyter-js-widgets",
      "model_module_version": "~2.1.4",
      "model_name": "LayoutModel",
      "state": {
       "_model_module_version": "~2.1.4",
       "_view_module_version": "~2.1.4"
      }
     },
     "ac3eecc8e0e54ff5b19f78b197f58324": {
      "model_module": "jupyter-js-widgets",
      "model_module_version": "~2.1.4",
      "model_name": "ButtonModel",
      "state": {
       "_model_module_version": "~2.1.4",
       "_view_module_version": "~2.1.4",
       "description": "Previous",
       "layout": "IPY_MODEL_595a3711aa874e0f87bc9a1bebcd4377",
       "style": "IPY_MODEL_db9996a70ee84a6395699428f5ac96e5"
      }
     },
     "ac6a6ddc922d46b4b7256c3177821feb": {
      "model_module": "jupyter-js-widgets",
      "model_module_version": "~2.1.4",
      "model_name": "ButtonStyleModel",
      "state": {
       "_model_module_version": "~2.1.4",
       "_view_module_version": "~2.1.4"
      }
     },
     "ac7981533ba34c598311057395893a41": {
      "model_module": "jupyter-js-widgets",
      "model_module_version": "~2.1.4",
      "model_name": "ButtonModel",
      "state": {
       "_model_module_version": "~2.1.4",
       "_view_module_version": "~2.1.4",
       "description": "Previous",
       "icon": "check",
       "layout": "IPY_MODEL_097f86bf400246b0a35c5abc466f0a52",
       "style": "IPY_MODEL_2741a3a332a344f5b1d345052dbe2455",
       "tooltip": "Click me"
      }
     },
     "ac7e14ff11ff4f249f3fe42a47771e07": {
      "model_module": "jupyter-js-widgets",
      "model_module_version": "~2.1.4",
      "model_name": "LayoutModel",
      "state": {
       "_model_module_version": "~2.1.4",
       "_view_module_version": "~2.1.4"
      }
     },
     "ac8051ad5e704231a402130fdc715b59": {
      "model_module": "jupyter-js-widgets",
      "model_module_version": "~2.1.4",
      "model_name": "IntSliderModel",
      "state": {
       "_model_module_version": "~2.1.4",
       "_view_module_version": "~2.1.4",
       "layout": "IPY_MODEL_b9dc85250e124fbb8df4c6d28b96f85b",
       "style": "IPY_MODEL_aee09f670cb947f5abd9160c00c4ac98",
       "value": 54
      }
     },
     "acdf308c4cba45fc8b6054bdfa6b1685": {
      "model_module": "jupyter-js-widgets",
      "model_module_version": "~2.1.4",
      "model_name": "ButtonStyleModel",
      "state": {
       "_model_module_version": "~2.1.4",
       "_view_module_version": "~2.1.4"
      }
     },
     "ad0c42b2c3544f8d829b1bbeb6fd79f6": {
      "model_module": "jupyter-js-widgets",
      "model_module_version": "~2.1.4",
      "model_name": "LayoutModel",
      "state": {
       "_model_module_version": "~2.1.4",
       "_view_module_version": "~2.1.4"
      }
     },
     "ad155dd284304881a4376c78a54a78eb": {
      "model_module": "jupyter-js-widgets",
      "model_module_version": "~2.1.4",
      "model_name": "ButtonModel",
      "state": {
       "_model_module_version": "~2.1.4",
       "_view_module_version": "~2.1.4",
       "description": "Next",
       "layout": "IPY_MODEL_ac3dedad1e69475582c1c1ba764b13cb",
       "style": "IPY_MODEL_c101bf0d3e644b6a980790682af71ed4"
      }
     },
     "ad78e9de0e9c45c483f438079bfb34d5": {
      "model_module": "jupyter-js-widgets",
      "model_module_version": "~2.1.4",
      "model_name": "LayoutModel",
      "state": {
       "_model_module_version": "~2.1.4",
       "_view_module_version": "~2.1.4"
      }
     },
     "ad8e5f554af242bdb38be0593d6d96ff": {
      "model_module": "jupyter-js-widgets",
      "model_module_version": "~2.1.4",
      "model_name": "LayoutModel",
      "state": {
       "_model_module_version": "~2.1.4",
       "_view_module_version": "~2.1.4"
      }
     },
     "ada321513ff745b8bff2c7dd2e585722": {
      "model_module": "jupyter-js-widgets",
      "model_module_version": "~2.1.4",
      "model_name": "LayoutModel",
      "state": {
       "_model_module_version": "~2.1.4",
       "_view_module_version": "~2.1.4"
      }
     },
     "adbbf8d5539b4a888e741f8f45edb5c0": {
      "model_module": "jupyter-js-widgets",
      "model_module_version": "~2.1.4",
      "model_name": "ButtonModel",
      "state": {
       "_model_module_version": "~2.1.4",
       "_view_module_version": "~2.1.4",
       "description": "Previous",
       "icon": "check",
       "layout": "IPY_MODEL_2df4ad3fe85d492eb18ca8b16fd6a4f3",
       "style": "IPY_MODEL_247da41266e140fdbd964d9c8def25e8",
       "tooltip": "Click me"
      }
     },
     "adc3faa610e543048b8fea1741b6d4be": {
      "model_module": "jupyter-js-widgets",
      "model_module_version": "~2.1.4",
      "model_name": "LayoutModel",
      "state": {
       "_model_module_version": "~2.1.4",
       "_view_module_version": "~2.1.4"
      }
     },
     "ade14179f2fc4bf486a20f5cff87e067": {
      "model_module": "jupyter-js-widgets",
      "model_module_version": "~2.1.4",
      "model_name": "ButtonStyleModel",
      "state": {
       "_model_module_version": "~2.1.4",
       "_view_module_version": "~2.1.4"
      }
     },
     "ae0c0dc50d0441b886cda1e0bf2dc696": {
      "model_module": "jupyter-js-widgets",
      "model_module_version": "~2.1.4",
      "model_name": "ButtonModel",
      "state": {
       "_model_module_version": "~2.1.4",
       "_view_module_version": "~2.1.4",
       "description": "Previous",
       "layout": "IPY_MODEL_4b8432dfd63842009b12b21a07d97ace",
       "style": "IPY_MODEL_fcfbb875497840c880484e1717f1b382"
      }
     },
     "ae28fa4615b54949b1e58acc5b22a4ee": {
      "model_module": "jupyter-js-widgets",
      "model_module_version": "~2.1.4",
      "model_name": "ButtonModel",
      "state": {
       "_model_module_version": "~2.1.4",
       "_view_module_version": "~2.1.4",
       "description": "Next",
       "layout": "IPY_MODEL_ea9f86e1f89f4123b000673ffa6a90ee",
       "style": "IPY_MODEL_8273d2c9108b4042b92f65234260c482"
      }
     },
     "ae53692c6af240efada97cf69b2dc19d": {
      "model_module": "jupyter-js-widgets",
      "model_module_version": "~2.1.4",
      "model_name": "LayoutModel",
      "state": {
       "_model_module_version": "~2.1.4",
       "_view_module_version": "~2.1.4"
      }
     },
     "ae56645d1711426a953eeb929d31547f": {
      "model_module": "jupyter-js-widgets",
      "model_module_version": "~2.1.4",
      "model_name": "ButtonStyleModel",
      "state": {
       "_model_module_version": "~2.1.4",
       "_view_module_version": "~2.1.4"
      }
     },
     "ae6b0256c2a74514bdeb7248e0b7548a": {
      "model_module": "jupyter-js-widgets",
      "model_module_version": "~2.1.4",
      "model_name": "ButtonStyleModel",
      "state": {
       "_model_module_version": "~2.1.4",
       "_view_module_version": "~2.1.4"
      }
     },
     "ae947fe68af74664b2570933a82c1a05": {
      "model_module": "jupyter-js-widgets",
      "model_module_version": "~2.1.4",
      "model_name": "LayoutModel",
      "state": {
       "_model_module_version": "~2.1.4",
       "_view_module_version": "~2.1.4"
      }
     },
     "ae9ff8840bd343358352f77baded046a": {
      "model_module": "jupyter-js-widgets",
      "model_module_version": "~2.1.4",
      "model_name": "HTMLModel",
      "state": {
       "_model_module_version": "~2.1.4",
       "_view_module_version": "~2.1.4",
       "layout": "IPY_MODEL_253983c8f9794825b59dec40824104c5",
       "value": "\n<svg width=\"100%\" height=0><defs><clipPath id=\"mask\">\n<rect x=0 y=500 width='28%' height='500'><rect x=0 y=0 width='28%' height='500'>\n</clipPath></defs></svg>\n<style>\n.bp {\n    width: 100%;\n    -webkit-clip-path: circle(#mask);\n    clip-path: url(#mask);\n}\n</style>\n<img src=\"bp_solution.png\" class=bp>\n"
      }
     },
     "aea2c273c2f04405bba358db78fc19c8": {
      "model_module": "jupyter-js-widgets",
      "model_module_version": "~2.1.4",
      "model_name": "HTMLModel",
      "state": {
       "_model_module_version": "~2.1.4",
       "_view_module_version": "~2.1.4",
       "layout": "IPY_MODEL_06273d62141745e383fd15d70008a3a0",
       "value": "\n<svg width=\"100%\" height=0><defs><clipPath id=\"mask\">\n<rect x=0 y=0 width='28%' height='350'><rect x=0 y=0 width='100%' height='50'>\n</clipPath></defs></svg>\n<style>\n.bp {\n    width: 100%;\n    -webkit-clip-path: circle(#mask);\n    clip-path: url(#mask);\n}\n</style>\n<img src=\"bp_solution.png\" class=bp>\n"
      }
     },
     "aec02a3f6c3743498aba66e2d9275287": {
      "model_module": "jupyter-js-widgets",
      "model_module_version": "~2.1.4",
      "model_name": "ButtonModel",
      "state": {
       "_model_module_version": "~2.1.4",
       "_view_module_version": "~2.1.4",
       "description": "Next",
       "icon": "check",
       "layout": "IPY_MODEL_143f8e6d4d334eb5bc062017aa8aa006",
       "style": "IPY_MODEL_f17257fa248b4bb2bd264d6b67c721da",
       "tooltip": "Click me"
      }
     },
     "aee09f670cb947f5abd9160c00c4ac98": {
      "model_module": "jupyter-js-widgets",
      "model_module_version": "~2.1.4",
      "model_name": "SliderStyleModel",
      "state": {
       "_model_module_version": "~2.1.4",
       "_view_module_version": "~2.1.4"
      }
     },
     "af287519cb484870887aba2a30f9916a": {
      "model_module": "jupyter-js-widgets",
      "model_module_version": "~2.1.4",
      "model_name": "ButtonStyleModel",
      "state": {
       "_model_module_version": "~2.1.4",
       "_view_module_version": "~2.1.4"
      }
     },
     "af2d7076995e43b7a374eb901bf46e67": {
      "model_module": "jupyter-js-widgets",
      "model_module_version": "~2.1.4",
      "model_name": "LayoutModel",
      "state": {
       "_model_module_version": "~2.1.4",
       "_view_module_version": "~2.1.4"
      }
     },
     "af43525006a84c7393193b91774034c7": {
      "model_module": "jupyter-js-widgets",
      "model_module_version": "~2.1.4",
      "model_name": "LayoutModel",
      "state": {
       "_model_module_version": "~2.1.4",
       "_view_module_version": "~2.1.4"
      }
     },
     "af4bcf90c67846e0b9481257fc0d8b70": {
      "model_module": "jupyter-js-widgets",
      "model_module_version": "~2.1.4",
      "model_name": "LayoutModel",
      "state": {
       "_model_module_version": "~2.1.4",
       "_view_module_version": "~2.1.4"
      }
     },
     "af5675f68a6e4a27a9e21476edd3a4eb": {
      "model_module": "jupyter-js-widgets",
      "model_module_version": "~2.1.4",
      "model_name": "HTMLModel",
      "state": {
       "_model_module_version": "~2.1.4",
       "_view_module_version": "~2.1.4",
       "layout": "IPY_MODEL_f0d9b505108948b99555f75b7787252c",
       "value": "\n<svg width=\"100%\" height=0><defs><clipPath id=\"mask\">\n<rect x=0 y=50 width='28%' height='50'><rect x=0 y=0 width='28%' height='500'>\n</clipPath></defs></svg>\n<style>\n.bp {\n    width: 100%;\n    -webkit-clip-path: circle(#mask);\n    clip-path: url(#mask);\n}\n</style>\n<img src=\"bp_solution.png\" class=bp>\n"
      }
     },
     "af816c7ee6244f2fb1b78cd87f69d251": {
      "model_module": "jupyter-js-widgets",
      "model_module_version": "~2.1.4",
      "model_name": "ButtonStyleModel",
      "state": {
       "_model_module_version": "~2.1.4",
       "_view_module_version": "~2.1.4"
      }
     },
     "af8df57d11eb410e88eb3cba103ba3e6": {
      "model_module": "jupyter-js-widgets",
      "model_module_version": "~2.1.4",
      "model_name": "LayoutModel",
      "state": {
       "_model_module_version": "~2.1.4",
       "_view_module_version": "~2.1.4"
      }
     },
     "afb4f6c26ab942eca673cf05f08ba5fd": {
      "model_module": "jupyter-js-widgets",
      "model_module_version": "~2.1.4",
      "model_name": "HTMLModel",
      "state": {
       "_model_module_version": "~2.1.4",
       "_view_module_version": "~2.1.4",
       "layout": "IPY_MODEL_a44d20aa7bb94d168d8f91382d616b2b",
       "value": "\n<svg width=\"0\">\n   <defs>\n    <clipPath id=\"mask\">\n      <rect x=0 y=0 width=\"50%\" height=\"600\">\n    </clipPath>\n  </defs>\n</svg>\n<style>\n\n.bp {\n    width: 100%;\n    -webkit-clip-path: circle(#mask);\n    clip-path: url(#mask);\n}\n</style>\n<img src=\"bp_solution.png\" class=bp>\n"
      }
     },
     "afc1d7f57d9144f8a98e3f631e3bf83d": {
      "model_module": "jupyter-js-widgets",
      "model_module_version": "~2.1.4",
      "model_name": "ButtonModel",
      "state": {
       "_model_module_version": "~2.1.4",
       "_view_module_version": "~2.1.4",
       "description": "Previous",
       "icon": "check",
       "layout": "IPY_MODEL_0c38f3fdded84b78ac0334d6246a2bd2",
       "style": "IPY_MODEL_ca065007d81b4fdfa2dd65bba4074dc8",
       "tooltip": "Click me"
      }
     },
     "b01a21b8b1a64d2db0aba11a53dc9b9e": {
      "model_module": "jupyter-js-widgets",
      "model_module_version": "~2.1.4",
      "model_name": "ButtonStyleModel",
      "state": {
       "_model_module_version": "~2.1.4",
       "_view_module_version": "~2.1.4"
      }
     },
     "b01cf77652fb42f2bebc4671650e4cca": {
      "model_module": "jupyter-js-widgets",
      "model_module_version": "~2.1.4",
      "model_name": "LayoutModel",
      "state": {
       "_model_module_version": "~2.1.4",
       "_view_module_version": "~2.1.4"
      }
     },
     "b02fa45138244d569a28b1334e5b8f75": {
      "model_module": "jupyter-js-widgets",
      "model_module_version": "~2.1.4",
      "model_name": "LayoutModel",
      "state": {
       "_model_module_version": "~2.1.4",
       "_view_module_version": "~2.1.4"
      }
     },
     "b03d23aefaa64f9caf7194541947eac0": {
      "model_module": "jupyter-js-widgets",
      "model_module_version": "~2.1.4",
      "model_name": "ButtonStyleModel",
      "state": {
       "_model_module_version": "~2.1.4",
       "_view_module_version": "~2.1.4"
      }
     },
     "b0543e812e604fb998b0923b36f80650": {
      "model_module": "jupyter-js-widgets",
      "model_module_version": "~2.1.4",
      "model_name": "LayoutModel",
      "state": {
       "_model_module_version": "~2.1.4",
       "_view_module_version": "~2.1.4",
       "align_items": "stretch",
       "display": "flex",
       "flex_flow": "row",
       "justify_content": "center",
       "width": "100%"
      }
     },
     "b0687f138c5d425a9267a7731fe56c7f": {
      "model_module": "jupyter-js-widgets",
      "model_module_version": "~2.1.4",
      "model_name": "ButtonStyleModel",
      "state": {
       "_model_module_version": "~2.1.4",
       "_view_module_version": "~2.1.4"
      }
     },
     "b07343001c1e45c99b175ef6a6f163a0": {
      "model_module": "jupyter-js-widgets",
      "model_module_version": "~2.1.4",
      "model_name": "ButtonModel",
      "state": {
       "_model_module_version": "~2.1.4",
       "_view_module_version": "~2.1.4",
       "description": "Next",
       "layout": "IPY_MODEL_aad59231773140a489c14d57e5ab8a70",
       "style": "IPY_MODEL_009eaf031fb3416ebab181eda2d67d4e"
      }
     },
     "b08057afa97345c0bb2c3e055af89d32": {
      "model_module": "jupyter-js-widgets",
      "model_module_version": "~2.1.4",
      "model_name": "LayoutModel",
      "state": {
       "_model_module_version": "~2.1.4",
       "_view_module_version": "~2.1.4"
      }
     },
     "b0c00b19577b410a8d574a0d28bc8fc9": {
      "model_module": "jupyter-js-widgets",
      "model_module_version": "~2.1.4",
      "model_name": "ButtonModel",
      "state": {
       "_model_module_version": "~2.1.4",
       "_view_module_version": "~2.1.4",
       "description": "Next",
       "icon": "check",
       "layout": "IPY_MODEL_d83e70988aca4b7abd6eb72ed8b94441",
       "style": "IPY_MODEL_886cc25e7e054f45bd27e1b21f18ab81",
       "tooltip": "Click me"
      }
     },
     "b12ac6b22a9545fd89cc0db2ac50a873": {
      "model_module": "jupyter-js-widgets",
      "model_module_version": "~2.1.4",
      "model_name": "LayoutModel",
      "state": {
       "_model_module_version": "~2.1.4",
       "_view_module_version": "~2.1.4"
      }
     },
     "b1482b8a24fd481c9ec98bfd28f14544": {
      "model_module": "jupyter-js-widgets",
      "model_module_version": "~2.1.4",
      "model_name": "HTMLModel",
      "state": {
       "_model_module_version": "~2.1.4",
       "_view_module_version": "~2.1.4",
       "layout": "IPY_MODEL_98ad522ff13d426a930b7b4b525e9700",
       "value": "\n<svg width=\"100%\" height=0><defs><clipPath id=\"mask\">\n<rect x=0 y=395 width='28%' height='500' /><rect x=0 y=0 width='100%' height='50' />\n</clipPath></defs></svg>\n<style>\n.bp {\n    width: 100%;\n    -webkit-clip-path: circle(#mask);\n    clip-path: url(#mask);\n}\n</style>\n<img src=\"bp_solution.png\" class=bp>\n"
      }
     },
     "b162d7cfc985459cb3c3e4121fcba1a5": {
      "model_module": "jupyter-js-widgets",
      "model_module_version": "~2.1.4",
      "model_name": "LayoutModel",
      "state": {
       "_model_module_version": "~2.1.4",
       "_view_module_version": "~2.1.4"
      }
     },
     "b1726c6a83df41da918163a813336a32": {
      "model_module": "jupyter-js-widgets",
      "model_module_version": "~2.1.4",
      "model_name": "ButtonStyleModel",
      "state": {
       "_model_module_version": "~2.1.4",
       "_view_module_version": "~2.1.4"
      }
     },
     "b18a97f237d0456ba348c0ae920f5a19": {
      "model_module": "jupyter-js-widgets",
      "model_module_version": "~2.1.4",
      "model_name": "ButtonModel",
      "state": {
       "_model_module_version": "~2.1.4",
       "_view_module_version": "~2.1.4",
       "description": "Next",
       "layout": "IPY_MODEL_0c1be2b2176f4e45a6eb8fb926b02bb3",
       "style": "IPY_MODEL_36a084f335e34f9cb851cec72eeea807"
      }
     },
     "b1a9b47a461748f0898feec73b6a0aa5": {
      "model_module": "jupyter-js-widgets",
      "model_module_version": "~2.1.4",
      "model_name": "ButtonModel",
      "state": {
       "_model_module_version": "~2.1.4",
       "_view_module_version": "~2.1.4",
       "description": "Next",
       "layout": "IPY_MODEL_f2cb1ddee586465fa220099df6c18a74",
       "style": "IPY_MODEL_08eaa335605740aa84558fe9d77e7570"
      }
     },
     "b1c0b787584b4ff1a949c6c9940ce9ab": {
      "model_module": "jupyter-js-widgets",
      "model_module_version": "~2.1.4",
      "model_name": "ButtonStyleModel",
      "state": {
       "_model_module_version": "~2.1.4",
       "_view_module_version": "~2.1.4"
      }
     },
     "b1d02df3246947108d1db6f8e71b9caf": {
      "model_module": "jupyter-js-widgets",
      "model_module_version": "~2.1.4",
      "model_name": "SliderStyleModel",
      "state": {
       "_model_module_version": "~2.1.4",
       "_view_module_version": "~2.1.4"
      }
     },
     "b1f1a0a6c953453d95c693b6e0a0f3a1": {
      "model_module": "jupyter-js-widgets",
      "model_module_version": "~2.1.4",
      "model_name": "LayoutModel",
      "state": {
       "_model_module_version": "~2.1.4",
       "_view_module_version": "~2.1.4"
      }
     },
     "b217fe274f604f47b96606f5f94c0844": {
      "model_module": "jupyter-js-widgets",
      "model_module_version": "~2.1.4",
      "model_name": "LayoutModel",
      "state": {
       "_model_module_version": "~2.1.4",
       "_view_module_version": "~2.1.4"
      }
     },
     "b21825df26d94817b1c372be0adabacc": {
      "model_module": "jupyter-js-widgets",
      "model_module_version": "~2.1.4",
      "model_name": "LayoutModel",
      "state": {
       "_model_module_version": "~2.1.4",
       "_view_module_version": "~2.1.4"
      }
     },
     "b23895b62ccd4317a4042db01db2588c": {
      "model_module": "jupyter-js-widgets",
      "model_module_version": "~2.1.4",
      "model_name": "ButtonStyleModel",
      "state": {
       "_model_module_version": "~2.1.4",
       "_view_module_version": "~2.1.4"
      }
     },
     "b23f434594d64c2cbb68f78d0e04b597": {
      "model_module": "jupyter-js-widgets",
      "model_module_version": "~2.1.4",
      "model_name": "ButtonModel",
      "state": {
       "_model_module_version": "~2.1.4",
       "_view_module_version": "~2.1.4",
       "description": "Previous",
       "icon": "check",
       "layout": "IPY_MODEL_7bac14b50b0844eea17b9178809f9f7f",
       "style": "IPY_MODEL_ac6a6ddc922d46b4b7256c3177821feb",
       "tooltip": "Click me"
      }
     },
     "b255c2dfc9da4d89abaa6625be2f65df": {
      "model_module": "jupyter-js-widgets",
      "model_module_version": "~2.1.4",
      "model_name": "ButtonStyleModel",
      "state": {
       "_model_module_version": "~2.1.4",
       "_view_module_version": "~2.1.4"
      }
     },
     "b25d18df52b947b78fe190e8ce010a4c": {
      "model_module": "jupyter-js-widgets",
      "model_module_version": "~2.1.4",
      "model_name": "LayoutModel",
      "state": {
       "_model_module_version": "~2.1.4",
       "_view_module_version": "~2.1.4"
      }
     },
     "b275bcb8d27a4720bffb1d5a0db6a284": {
      "model_module": "jupyter-js-widgets",
      "model_module_version": "~2.1.4",
      "model_name": "ButtonStyleModel",
      "state": {
       "_model_module_version": "~2.1.4",
       "_view_module_version": "~2.1.4"
      }
     },
     "b2a0eea5dc42412a83d4bbf5aa494587": {
      "model_module": "jupyter-js-widgets",
      "model_module_version": "~2.1.4",
      "model_name": "LayoutModel",
      "state": {
       "_model_module_version": "~2.1.4",
       "_view_module_version": "~2.1.4"
      }
     },
     "b2b1617e73fd489497bef1f22e03deff": {
      "model_module": "jupyter-js-widgets",
      "model_module_version": "~2.1.4",
      "model_name": "ButtonModel",
      "state": {
       "_model_module_version": "~2.1.4",
       "_view_module_version": "~2.1.4",
       "description": "Next",
       "icon": "check",
       "layout": "IPY_MODEL_98aab6fd066143fcbc7a4a88896dc4cb",
       "style": "IPY_MODEL_22253313ed5a4be89f29b130270171ad",
       "tooltip": "Click me"
      }
     },
     "b2b53055ec444082b1bd426429ccacca": {
      "model_module": "jupyter-js-widgets",
      "model_module_version": "~2.1.4",
      "model_name": "ButtonModel",
      "state": {
       "_model_module_version": "~2.1.4",
       "_view_module_version": "~2.1.4",
       "description": "Previous",
       "icon": "check",
       "layout": "IPY_MODEL_509e573e7d7a462cbfc4d58f60e70ad8",
       "style": "IPY_MODEL_5758e227b4874694a969f3855f261ef1",
       "tooltip": "Click me"
      }
     },
     "b2ba09626055457dab571960c82cf1d8": {
      "model_module": "jupyter-js-widgets",
      "model_module_version": "~2.1.4",
      "model_name": "ButtonStyleModel",
      "state": {
       "_model_module_version": "~2.1.4",
       "_view_module_version": "~2.1.4"
      }
     },
     "b2cd7c596a6b4e2c93f651d24d60455f": {
      "model_module": "jupyter-js-widgets",
      "model_module_version": "~2.1.4",
      "model_name": "LayoutModel",
      "state": {
       "_model_module_version": "~2.1.4",
       "_view_module_version": "~2.1.4"
      }
     },
     "b2e3108077774bb98696d2eed78cc768": {
      "model_module": "jupyter-js-widgets",
      "model_module_version": "~2.1.4",
      "model_name": "ButtonModel",
      "state": {
       "_model_module_version": "~2.1.4",
       "_view_module_version": "~2.1.4",
       "description": "Next",
       "layout": "IPY_MODEL_d8e8980a00da4ff6b240039ba5215a78",
       "style": "IPY_MODEL_846527b030f84457a40d66f034d6572f"
      }
     },
     "b3011ec243c143f5ab4192ab88d4e3d1": {
      "model_module": "jupyter-js-widgets",
      "model_module_version": "~2.1.4",
      "model_name": "ButtonStyleModel",
      "state": {
       "_model_module_version": "~2.1.4",
       "_view_module_version": "~2.1.4"
      }
     },
     "b301a302617347e8a5c34588f28139e2": {
      "model_module": "jupyter-js-widgets",
      "model_module_version": "~2.1.4",
      "model_name": "LayoutModel",
      "state": {
       "_model_module_version": "~2.1.4",
       "_view_module_version": "~2.1.4"
      }
     },
     "b305a5e9d38d47638239b8694384846a": {
      "model_module": "jupyter-js-widgets",
      "model_module_version": "~2.1.4",
      "model_name": "LayoutModel",
      "state": {
       "_model_module_version": "~2.1.4",
       "_view_module_version": "~2.1.4",
       "align_items": "stretch",
       "border": "solid",
       "display": "flex",
       "flex_flow": "row",
       "width": "50%"
      }
     },
     "b3954d0ddad841798f5249c4875ca76f": {
      "model_module": "jupyter-js-widgets",
      "model_module_version": "~2.1.4",
      "model_name": "ButtonModel",
      "state": {
       "_model_module_version": "~2.1.4",
       "_view_module_version": "~2.1.4",
       "description": "Next",
       "icon": "check",
       "layout": "IPY_MODEL_f6e45457c8e049b99f94ad8d35260171",
       "style": "IPY_MODEL_b7c57200ba0c450e9abef4bdc76c2be4",
       "tooltip": "Click me"
      }
     },
     "b3a103fe274f44c5bcda9e4cdfae8adc": {
      "model_module": "jupyter-js-widgets",
      "model_module_version": "~2.1.4",
      "model_name": "HTMLModel",
      "state": {
       "_model_module_version": "~2.1.4",
       "_view_module_version": "~2.1.4",
       "layout": "IPY_MODEL_a804c5dd48644f448a76897cbb3943f8",
       "value": "\n<svg width=\"100%\" height=0><defs><clipPath id=\"mask\">\n<rect x=0 y=0 width='100%' height='50' /><rect x=0 y=390 width='28%' height='500' />\n</clipPath></defs></svg>\n<style>\n.bp {\n    width: 100%;\n    -webkit-clip-path: circle(#mask);\n    clip-path: url(#mask);\n}\n</style>\n<img src=\"bp_solution.png\" class=bp>\n"
      }
     },
     "b3b31b6ba3fc45e4b6b1ce48b8e92841": {
      "model_module": "jupyter-js-widgets",
      "model_module_version": "~2.1.4",
      "model_name": "LayoutModel",
      "state": {
       "_model_module_version": "~2.1.4",
       "_view_module_version": "~2.1.4"
      }
     },
     "b3bbc3823f9d4edd8e34f88be82c66bc": {
      "model_module": "jupyter-js-widgets",
      "model_module_version": "~2.1.4",
      "model_name": "SliderStyleModel",
      "state": {
       "_model_module_version": "~2.1.4",
       "_view_module_version": "~2.1.4"
      }
     },
     "b3c46071a99c479385db5ae7f54cbd32": {
      "model_module": "jupyter-js-widgets",
      "model_module_version": "~2.1.4",
      "model_name": "HTMLModel",
      "state": {
       "_model_module_version": "~2.1.4",
       "_view_module_version": "~2.1.4",
       "layout": "IPY_MODEL_59f7cd5ce0e6488d807c441c4f8a0fde",
       "value": "\n<svg width=\"0\" height=\"0\">\n   <defs>\n    <clipPath id=\"mask\">\n      <rect x=20 y=20 width=\"500\" height=100>\n    </clipPath>\n  </defs>\n</svg>\n<style>\n.bp {\n    width: 100%;\n    -webkit-clip-path: circle(50px);\n    clip-path: url(#mask);\n}\n</style>\n<img src=\"bp_solution.png\" class=bp>\n"
      }
     },
     "b3d3b27113fe4b9cbe5cef84012d95a4": {
      "model_module": "jupyter-js-widgets",
      "model_module_version": "~2.1.4",
      "model_name": "ButtonModel",
      "state": {
       "_model_module_version": "~2.1.4",
       "_view_module_version": "~2.1.4",
       "description": "Previous",
       "icon": "check",
       "layout": "IPY_MODEL_db6151687fbf4115b6d1242f6d4efaa2",
       "style": "IPY_MODEL_b255c2dfc9da4d89abaa6625be2f65df",
       "tooltip": "Click me"
      }
     },
     "b3d5a52b937c45b7b1082bdcfd77aedb": {
      "model_module": "jupyter-js-widgets",
      "model_module_version": "~2.1.4",
      "model_name": "IntSliderModel",
      "state": {
       "_model_module_version": "~2.1.4",
       "_view_module_version": "~2.1.4",
       "layout": "IPY_MODEL_2d3df6274b1e4411b74789292fcc9f3e",
       "style": "IPY_MODEL_385b8abee54f468489f3974ba262153c"
      }
     },
     "b3fd40f72dd14de483a2ba972ceab1fe": {
      "model_module": "jupyter-js-widgets",
      "model_module_version": "~2.1.4",
      "model_name": "LayoutModel",
      "state": {
       "_model_module_version": "~2.1.4",
       "_view_module_version": "~2.1.4"
      }
     },
     "b40d8ca4b48e4570b60df4bc7da5c2ca": {
      "model_module": "jupyter-js-widgets",
      "model_module_version": "~2.1.4",
      "model_name": "LayoutModel",
      "state": {
       "_model_module_version": "~2.1.4",
       "_view_module_version": "~2.1.4"
      }
     },
     "b4194d08c02d490fb5d6f60cb29d1121": {
      "model_module": "jupyter-js-widgets",
      "model_module_version": "~2.1.4",
      "model_name": "ButtonModel",
      "state": {
       "_model_module_version": "~2.1.4",
       "_view_module_version": "~2.1.4",
       "description": "Previous",
       "icon": "check",
       "layout": "IPY_MODEL_784666e4a9094dca8a8eefa1d7a083ed",
       "style": "IPY_MODEL_c3645bf3253245e19382c3dac829b715",
       "tooltip": "Click me"
      }
     },
     "b43717dc55064820bc3c9c5710b28c6e": {
      "model_module": "jupyter-js-widgets",
      "model_module_version": "~2.1.4",
      "model_name": "HTMLModel",
      "state": {
       "_model_module_version": "~2.1.4",
       "_view_module_version": "~2.1.4",
       "layout": "IPY_MODEL_ba26fc6d2c5f491aa88a2f771535a5ac",
       "value": "\n<svg width=\"100%\" height=0><defs><clipPath id=\"mask\">\n<rect x=0 y=200 width='28%' height='350' /><rect x=0 y=0 width='100%' height='50' />\n</clipPath></defs></svg>\n<style>\n.bp {\n    width: 100%;\n    -webkit-clip-path: circle(#mask);\n    clip-path: url(#mask);\n}\n</style>\n<img src=\"bp_solution.png\" class=bp>\n"
      }
     },
     "b45d59d38bc848ed8b130af0b3497287": {
      "model_module": "jupyter-js-widgets",
      "model_module_version": "~2.1.4",
      "model_name": "ButtonStyleModel",
      "state": {
       "_model_module_version": "~2.1.4",
       "_view_module_version": "~2.1.4"
      }
     },
     "b487553db2e940e58404afc69b42cedd": {
      "model_module": "jupyter-js-widgets",
      "model_module_version": "~2.1.4",
      "model_name": "ButtonStyleModel",
      "state": {
       "_model_module_version": "~2.1.4",
       "_view_module_version": "~2.1.4"
      }
     },
     "b494886c1a7f4037afeeb29c40220fb2": {
      "model_module": "jupyter-js-widgets",
      "model_module_version": "~2.1.4",
      "model_name": "ButtonStyleModel",
      "state": {
       "_model_module_version": "~2.1.4",
       "_view_module_version": "~2.1.4"
      }
     },
     "b4cd5c139691428384e2bf24ff8fad34": {
      "model_module": "jupyter-js-widgets",
      "model_module_version": "~2.1.4",
      "model_name": "ButtonStyleModel",
      "state": {
       "_model_module_version": "~2.1.4",
       "_view_module_version": "~2.1.4"
      }
     },
     "b4d74e0ed2cc4c00aaa4c71eb5eb9e58": {
      "model_module": "jupyter-js-widgets",
      "model_module_version": "~2.1.4",
      "model_name": "LayoutModel",
      "state": {
       "_model_module_version": "~2.1.4",
       "_view_module_version": "~2.1.4"
      }
     },
     "b4df70ef5ef4454c88069e658d8d88d6": {
      "model_module": "jupyter-js-widgets",
      "model_module_version": "~2.1.4",
      "model_name": "ButtonStyleModel",
      "state": {
       "_model_module_version": "~2.1.4",
       "_view_module_version": "~2.1.4"
      }
     },
     "b55d3e43b9b24e669170c8a8ece30312": {
      "model_module": "jupyter-js-widgets",
      "model_module_version": "~2.1.4",
      "model_name": "ButtonStyleModel",
      "state": {
       "_model_module_version": "~2.1.4",
       "_view_module_version": "~2.1.4"
      }
     },
     "b5601dcfc9d54608b9ca963d50ca5b2a": {
      "model_module": "jupyter-js-widgets",
      "model_module_version": "~2.1.4",
      "model_name": "ButtonModel",
      "state": {
       "_model_module_version": "~2.1.4",
       "_view_module_version": "~2.1.4",
       "description": "Next",
       "icon": "check",
       "layout": "IPY_MODEL_621fcfb973db4d1ea437d3b92ecda3e1",
       "style": "IPY_MODEL_3b2f4d9cbb8440b589ca9b6b963e43cf",
       "tooltip": "Click me"
      }
     },
     "b56610718fa04d2eaad1aa2c37242fdb": {
      "model_module": "jupyter-js-widgets",
      "model_module_version": "~2.1.4",
      "model_name": "ButtonModel",
      "state": {
       "_model_module_version": "~2.1.4",
       "_view_module_version": "~2.1.4",
       "description": "Previous",
       "layout": "IPY_MODEL_5f660fdedc3948bc85c7754e3c19e4ff",
       "style": "IPY_MODEL_c6568cf2fea94b04976aee89de46b326"
      }
     },
     "b597c381e5b14c9f839c9e802b7a4312": {
      "model_module": "jupyter-js-widgets",
      "model_module_version": "~2.1.4",
      "model_name": "ButtonStyleModel",
      "state": {
       "_model_module_version": "~2.1.4",
       "_view_module_version": "~2.1.4"
      }
     },
     "b5c6013b069f40c98dd407b1140ff842": {
      "model_module": "jupyter-js-widgets",
      "model_module_version": "~2.1.4",
      "model_name": "ButtonStyleModel",
      "state": {
       "_model_module_version": "~2.1.4",
       "_view_module_version": "~2.1.4"
      }
     },
     "b5c8b62eb3504e72b8196f9a83c2fe4c": {
      "model_module": "jupyter-js-widgets",
      "model_module_version": "~2.1.4",
      "model_name": "LayoutModel",
      "state": {
       "_model_module_version": "~2.1.4",
       "_view_module_version": "~2.1.4"
      }
     },
     "b5eaad7c65f843aaa79128b80a42e92b": {
      "model_module": "jupyter-js-widgets",
      "model_module_version": "~2.1.4",
      "model_name": "LayoutModel",
      "state": {
       "_model_module_version": "~2.1.4",
       "_view_module_version": "~2.1.4"
      }
     },
     "b60099ae59fd4be5848a5b61db0dda2e": {
      "model_module": "jupyter-js-widgets",
      "model_module_version": "~2.1.4",
      "model_name": "HTMLModel",
      "state": {
       "_model_module_version": "~2.1.4",
       "_view_module_version": "~2.1.4",
       "layout": "IPY_MODEL_9c0c087337524d42849427971f22ef59",
       "value": "<img src='bp_solution.png' width='100%'>"
      }
     },
     "b633994d499d4052bcc781a3918bde8f": {
      "model_module": "jupyter-js-widgets",
      "model_module_version": "~2.1.4",
      "model_name": "LayoutModel",
      "state": {
       "_model_module_version": "~2.1.4",
       "_view_module_version": "~2.1.4"
      }
     },
     "b661994ca4f149729de937f69fa6b0cc": {
      "model_module": "jupyter-js-widgets",
      "model_module_version": "~2.1.4",
      "model_name": "LayoutModel",
      "state": {
       "_model_module_version": "~2.1.4",
       "_view_module_version": "~2.1.4"
      }
     },
     "b67350cac65246f296108254bbaac9d1": {
      "model_module": "jupyter-js-widgets",
      "model_module_version": "~2.1.4",
      "model_name": "LayoutModel",
      "state": {
       "_model_module_version": "~2.1.4",
       "_view_module_version": "~2.1.4"
      }
     },
     "b678a017423c41f8a9379b61c04b3064": {
      "model_module": "jupyter-js-widgets",
      "model_module_version": "~2.1.4",
      "model_name": "ButtonStyleModel",
      "state": {
       "_model_module_version": "~2.1.4",
       "_view_module_version": "~2.1.4"
      }
     },
     "b679d7e7145849c280fdb09dbb3113b5": {
      "model_module": "jupyter-js-widgets",
      "model_module_version": "~2.1.4",
      "model_name": "ButtonStyleModel",
      "state": {
       "_model_module_version": "~2.1.4",
       "_view_module_version": "~2.1.4"
      }
     },
     "b69540e17b5b422e805cf60084bc265a": {
      "model_module": "jupyter-js-widgets",
      "model_module_version": "~2.1.4",
      "model_name": "ButtonModel",
      "state": {
       "_model_module_version": "~2.1.4",
       "_view_module_version": "~2.1.4",
       "description": "Previous",
       "icon": "check",
       "layout": "IPY_MODEL_629169fdce444c6789f551953cbfb8b1",
       "style": "IPY_MODEL_485f7126ab7b4b768d83705b4ac20ca9",
       "tooltip": "Click me"
      }
     },
     "b6d4360bc06440ce80c2d7cecc529cb3": {
      "model_module": "jupyter-js-widgets",
      "model_module_version": "~2.1.4",
      "model_name": "LayoutModel",
      "state": {
       "_model_module_version": "~2.1.4",
       "_view_module_version": "~2.1.4"
      }
     },
     "b6d99058db0e47e59997b77c708ac846": {
      "model_module": "jupyter-js-widgets",
      "model_module_version": "~2.1.4",
      "model_name": "HTMLModel",
      "state": {
       "_model_module_version": "~2.1.4",
       "_view_module_version": "~2.1.4",
       "layout": "IPY_MODEL_2c56c6b8a5d748589dc15a190665531f",
       "value": "\n<svg width=\"100%\" height=0><defs><clipPath id=\"mask\">\n<rect x=0 y=100 width='28%' height='350'><rect x=0 y=0 width='28%' height='350'>\n</clipPath></defs></svg>\n<style>\n.bp {\n    width: 100%;\n    -webkit-clip-path: circle(#mask);\n    clip-path: url(#mask);\n}\n</style>\n<img src=\"bp_solution.png\" class=bp>\n"
      }
     },
     "b70fa87c3ea14f3dad8433b9509f84bd": {
      "model_module": "jupyter-js-widgets",
      "model_module_version": "~2.1.4",
      "model_name": "LayoutModel",
      "state": {
       "_model_module_version": "~2.1.4",
       "_view_module_version": "~2.1.4"
      }
     },
     "b7146dd9ef4b4d2f8cb9211e415b14f8": {
      "model_module": "jupyter-js-widgets",
      "model_module_version": "~2.1.4",
      "model_name": "LayoutModel",
      "state": {
       "_model_module_version": "~2.1.4",
       "_view_module_version": "~2.1.4"
      }
     },
     "b71f021207cd4768b4e29699e84a36d1": {
      "model_module": "jupyter-js-widgets",
      "model_module_version": "~2.1.4",
      "model_name": "LayoutModel",
      "state": {
       "_model_module_version": "~2.1.4",
       "_view_module_version": "~2.1.4"
      }
     },
     "b74aa0faa0fb43008ff188a81579f4c1": {
      "model_module": "jupyter-js-widgets",
      "model_module_version": "~2.1.4",
      "model_name": "ButtonStyleModel",
      "state": {
       "_model_module_version": "~2.1.4",
       "_view_module_version": "~2.1.4"
      }
     },
     "b75bf1aa04c144e68875c8ac91704dce": {
      "model_module": "jupyter-js-widgets",
      "model_module_version": "~2.1.4",
      "model_name": "HTMLModel",
      "state": {
       "_model_module_version": "~2.1.4",
       "_view_module_version": "~2.1.4",
       "layout": "IPY_MODEL_6fff265001694ec2b1f34ac37e26d121",
       "value": "\n<svg width=\"100%\" height=0><defs><clipPath id=\"mask\">\n\n</clipPath></defs></svg>\n<style>\n.bp {\n    width: 100%;\n    -webkit-clip-path: circle(#mask);\n    clip-path: url(#mask);\n}\n</style>\n<img src=\"bp_solution.png\" class=bp>\n"
      }
     },
     "b787c46f4748436598f38e9a7e8ccb7e": {
      "model_module": "jupyter-js-widgets",
      "model_module_version": "~2.1.4",
      "model_name": "ButtonModel",
      "state": {
       "_model_module_version": "~2.1.4",
       "_view_module_version": "~2.1.4",
       "description": "Previous",
       "layout": "IPY_MODEL_1f34cad98e2946169f473d08c4cc49a6",
       "style": "IPY_MODEL_ba33d58ac3ba48d08d750c1fd7e96b61"
      }
     },
     "b788da6235664ec8bcfd821b86cee905": {
      "model_module": "jupyter-js-widgets",
      "model_module_version": "~2.1.4",
      "model_name": "ButtonModel",
      "state": {
       "_model_module_version": "~2.1.4",
       "_view_module_version": "~2.1.4",
       "description": "Next",
       "icon": "check",
       "layout": "IPY_MODEL_d01e516ba7e54d2ea1985d4d2ac9dec5",
       "style": "IPY_MODEL_4627ee95445c4247a4c13e786dd3a351",
       "tooltip": "Click me"
      }
     },
     "b78dc944a108427e9cb176af291cfde5": {
      "model_module": "jupyter-js-widgets",
      "model_module_version": "~2.1.4",
      "model_name": "LayoutModel",
      "state": {
       "_model_module_version": "~2.1.4",
       "_view_module_version": "~2.1.4"
      }
     },
     "b79e18e890074eafafd8017775394332": {
      "model_module": "jupyter-js-widgets",
      "model_module_version": "~2.1.4",
      "model_name": "ButtonStyleModel",
      "state": {
       "_model_module_version": "~2.1.4",
       "_view_module_version": "~2.1.4"
      }
     },
     "b7ab0996b0964e729c8def319a06f2d5": {
      "model_module": "jupyter-js-widgets",
      "model_module_version": "~2.1.4",
      "model_name": "HTMLModel",
      "state": {
       "_model_module_version": "~2.1.4",
       "_view_module_version": "~2.1.4",
       "layout": "IPY_MODEL_2dd8d56d54b741d5bd7e3b38b83a498e",
       "value": "\n<svg width=\"100%\" height=0><defs><clipPath id=\"mask\">\n\n            <rect x=0 y=0 width=\"50%\" height=\"500\">\n</clipPath></defs></svg>\n<style>\n.bp {\n    width: 100%;\n    -webkit-clip-path: circle(#mask);\n    clip-path: url(#mask);\n}\n</style>\n<img src=\"bp_solution.png\" class=bp>\n"
      }
     },
     "b7c57200ba0c450e9abef4bdc76c2be4": {
      "model_module": "jupyter-js-widgets",
      "model_module_version": "~2.1.4",
      "model_name": "ButtonStyleModel",
      "state": {
       "_model_module_version": "~2.1.4",
       "_view_module_version": "~2.1.4"
      }
     },
     "b837a6d770584c92849b9d35cf3777b9": {
      "model_module": "jupyter-js-widgets",
      "model_module_version": "~2.1.4",
      "model_name": "LayoutModel",
      "state": {
       "_model_module_version": "~2.1.4",
       "_view_module_version": "~2.1.4"
      }
     },
     "b87ae2d383394e1588f1d8b9eac94d5c": {
      "model_module": "jupyter-js-widgets",
      "model_module_version": "~2.1.4",
      "model_name": "ButtonModel",
      "state": {
       "_model_module_version": "~2.1.4",
       "_view_module_version": "~2.1.4",
       "description": "Next",
       "layout": "IPY_MODEL_d5d4389cbb79446ab5ee33d8008696fd",
       "style": "IPY_MODEL_87d094fffd2d410ea8b0e52855a64ba5"
      }
     },
     "b88c384cdddf41928cca54510d85cd2b": {
      "model_module": "jupyter-js-widgets",
      "model_module_version": "~2.1.4",
      "model_name": "LayoutModel",
      "state": {
       "_model_module_version": "~2.1.4",
       "_view_module_version": "~2.1.4"
      }
     },
     "b891be15f9944298bddfe4e04def5284": {
      "model_module": "jupyter-js-widgets",
      "model_module_version": "~2.1.4",
      "model_name": "LayoutModel",
      "state": {
       "_model_module_version": "~2.1.4",
       "_view_module_version": "~2.1.4"
      }
     },
     "b8a5c0aa683a47fc9750d4ca0e4ec62c": {
      "model_module": "jupyter-js-widgets",
      "model_module_version": "~2.1.4",
      "model_name": "LayoutModel",
      "state": {
       "_model_module_version": "~2.1.4",
       "_view_module_version": "~2.1.4"
      }
     },
     "b8bda288ae0341c79bbaacbe2d8b3437": {
      "model_module": "jupyter-js-widgets",
      "model_module_version": "~2.1.4",
      "model_name": "ButtonStyleModel",
      "state": {
       "_model_module_version": "~2.1.4",
       "_view_module_version": "~2.1.4"
      }
     },
     "b8dc3cfba94548198dad75fef741054b": {
      "model_module": "jupyter-js-widgets",
      "model_module_version": "~2.1.4",
      "model_name": "ButtonModel",
      "state": {
       "_model_module_version": "~2.1.4",
       "_view_module_version": "~2.1.4",
       "description": "Previous",
       "layout": "IPY_MODEL_22e563f2cd0b4848aaa3bc9205c39a46",
       "style": "IPY_MODEL_8a8a145ca38746bab1bf2bd7325eabdd"
      }
     },
     "b9082bf9db5944519539ba6572425caf": {
      "model_module": "jupyter-js-widgets",
      "model_module_version": "~2.1.4",
      "model_name": "ButtonStyleModel",
      "state": {
       "_model_module_version": "~2.1.4",
       "_view_module_version": "~2.1.4"
      }
     },
     "b93e8865eca54a20ac4a288696d8ab63": {
      "model_module": "jupyter-js-widgets",
      "model_module_version": "~2.1.4",
      "model_name": "ButtonStyleModel",
      "state": {
       "_model_module_version": "~2.1.4",
       "_view_module_version": "~2.1.4"
      }
     },
     "b95a7c2f2209453cb291de2b7355029f": {
      "model_module": "jupyter-js-widgets",
      "model_module_version": "~2.1.4",
      "model_name": "LayoutModel",
      "state": {
       "_model_module_version": "~2.1.4",
       "_view_module_version": "~2.1.4"
      }
     },
     "b96b6b25772d4e6f97343c29d4a086b3": {
      "model_module": "jupyter-js-widgets",
      "model_module_version": "~2.1.4",
      "model_name": "ButtonStyleModel",
      "state": {
       "_model_module_version": "~2.1.4",
       "_view_module_version": "~2.1.4"
      }
     },
     "b9b860e50c2147f78e6efc02a8455341": {
      "model_module": "jupyter-js-widgets",
      "model_module_version": "~2.1.4",
      "model_name": "ButtonStyleModel",
      "state": {
       "_model_module_version": "~2.1.4",
       "_view_module_version": "~2.1.4"
      }
     },
     "b9c6e8bd98964bb5acd0554ebf7c35e4": {
      "model_module": "jupyter-js-widgets",
      "model_module_version": "~2.1.4",
      "model_name": "ButtonModel",
      "state": {
       "_model_module_version": "~2.1.4",
       "_view_module_version": "~2.1.4",
       "description": "Previous",
       "layout": "IPY_MODEL_366bcc30db024d07bed6d52ee993f466",
       "style": "IPY_MODEL_c7c9bb5bd42141bda83591d2abaed318"
      }
     },
     "b9d908bd24d248418ea360863de8e53a": {
      "model_module": "jupyter-js-widgets",
      "model_module_version": "~2.1.4",
      "model_name": "LayoutModel",
      "state": {
       "_model_module_version": "~2.1.4",
       "_view_module_version": "~2.1.4"
      }
     },
     "b9dc85250e124fbb8df4c6d28b96f85b": {
      "model_module": "jupyter-js-widgets",
      "model_module_version": "~2.1.4",
      "model_name": "LayoutModel",
      "state": {
       "_model_module_version": "~2.1.4",
       "_view_module_version": "~2.1.4"
      }
     },
     "b9fe2cfe86a549c2adb29bc04fe5420c": {
      "model_module": "jupyter-js-widgets",
      "model_module_version": "~2.1.4",
      "model_name": "LayoutModel",
      "state": {
       "_model_module_version": "~2.1.4",
       "_view_module_version": "~2.1.4"
      }
     },
     "ba14536f0b0d45938762dc74668b290d": {
      "model_module": "jupyter-js-widgets",
      "model_module_version": "~2.1.4",
      "model_name": "LayoutModel",
      "state": {
       "_model_module_version": "~2.1.4",
       "_view_module_version": "~2.1.4"
      }
     },
     "ba26fc6d2c5f491aa88a2f771535a5ac": {
      "model_module": "jupyter-js-widgets",
      "model_module_version": "~2.1.4",
      "model_name": "LayoutModel",
      "state": {
       "_model_module_version": "~2.1.4",
       "_view_module_version": "~2.1.4"
      }
     },
     "ba33d58ac3ba48d08d750c1fd7e96b61": {
      "model_module": "jupyter-js-widgets",
      "model_module_version": "~2.1.4",
      "model_name": "ButtonStyleModel",
      "state": {
       "_model_module_version": "~2.1.4",
       "_view_module_version": "~2.1.4"
      }
     },
     "ba3fde6f2a564fdb841138e588cf0dd8": {
      "model_module": "jupyter-js-widgets",
      "model_module_version": "~2.1.4",
      "model_name": "LayoutModel",
      "state": {
       "_model_module_version": "~2.1.4",
       "_view_module_version": "~2.1.4"
      }
     },
     "ba4c8baf769d44e7aa0a7823c7137d8d": {
      "model_module": "jupyter-js-widgets",
      "model_module_version": "~2.1.4",
      "model_name": "LayoutModel",
      "state": {
       "_model_module_version": "~2.1.4",
       "_view_module_version": "~2.1.4"
      }
     },
     "ba50b7f14eef49c281fc2d2ee96fc3d2": {
      "model_module": "jupyter-js-widgets",
      "model_module_version": "~2.1.4",
      "model_name": "LayoutModel",
      "state": {
       "_model_module_version": "~2.1.4",
       "_view_module_version": "~2.1.4"
      }
     },
     "bab88235cde145e58aac21da631667ef": {
      "model_module": "jupyter-js-widgets",
      "model_module_version": "~2.1.4",
      "model_name": "ButtonStyleModel",
      "state": {
       "_model_module_version": "~2.1.4",
       "_view_module_version": "~2.1.4"
      }
     },
     "bb45d756372042388c7b864b5b04f747": {
      "model_module": "jupyter-js-widgets",
      "model_module_version": "~2.1.4",
      "model_name": "ButtonModel",
      "state": {
       "_model_module_version": "~2.1.4",
       "_view_module_version": "~2.1.4",
       "description": "Previous",
       "icon": "check",
       "layout": "IPY_MODEL_41d6e77562924d7f9c25361501f1e9da",
       "style": "IPY_MODEL_fc39631f3579464589d452fa4fd4b77e",
       "tooltip": "Click me"
      }
     },
     "bb4ebb059fb2466db7e6f9511189229f": {
      "model_module": "jupyter-js-widgets",
      "model_module_version": "~2.1.4",
      "model_name": "ButtonStyleModel",
      "state": {
       "_model_module_version": "~2.1.4",
       "_view_module_version": "~2.1.4"
      }
     },
     "bb8ae1acc123477bbeb708e8a1d64697": {
      "model_module": "jupyter-js-widgets",
      "model_module_version": "~2.1.4",
      "model_name": "HTMLModel",
      "state": {
       "_model_module_version": "~2.1.4",
       "_view_module_version": "~2.1.4",
       "layout": "IPY_MODEL_2f50f28532ee4ebba9855c941d759f6b",
       "value": "\n<style>\nimg {\n    width: 100%\n}\n</style>\n<img src=\"bp_solution.png\">\n"
      }
     },
     "bb917cddbd1742f5a5ae50a1e3c1ad51": {
      "model_module": "jupyter-js-widgets",
      "model_module_version": "~2.1.4",
      "model_name": "LayoutModel",
      "state": {
       "_model_module_version": "~2.1.4",
       "_view_module_version": "~2.1.4"
      }
     },
     "bbde10d309d74a418689161bae733bda": {
      "model_module": "jupyter-js-widgets",
      "model_module_version": "~2.1.4",
      "model_name": "ButtonStyleModel",
      "state": {
       "_model_module_version": "~2.1.4",
       "_view_module_version": "~2.1.4"
      }
     },
     "bc377fba709d46a49e99c3d420e45384": {
      "model_module": "jupyter-js-widgets",
      "model_module_version": "~2.1.4",
      "model_name": "LayoutModel",
      "state": {
       "_model_module_version": "~2.1.4",
       "_view_module_version": "~2.1.4"
      }
     },
     "bc49a5954f1b4ce7879fe449b0bee509": {
      "model_module": "jupyter-js-widgets",
      "model_module_version": "~2.1.4",
      "model_name": "LayoutModel",
      "state": {
       "_model_module_version": "~2.1.4",
       "_view_module_version": "~2.1.4"
      }
     },
     "bc51e0dd181245359b8771e1f2cb8dec": {
      "model_module": "jupyter-js-widgets",
      "model_module_version": "~2.1.4",
      "model_name": "LayoutModel",
      "state": {
       "_model_module_version": "~2.1.4",
       "_view_module_version": "~2.1.4"
      }
     },
     "bc91103535434d949af25fd9451d5653": {
      "model_module": "jupyter-js-widgets",
      "model_module_version": "~2.1.4",
      "model_name": "ButtonModel",
      "state": {
       "_model_module_version": "~2.1.4",
       "_view_module_version": "~2.1.4",
       "description": "Previous",
       "icon": "check",
       "layout": "IPY_MODEL_8ab0b82d7b4947f6a69c465d332acb06",
       "style": "IPY_MODEL_aac4bc9138694b35bc241269eac8f7e2",
       "tooltip": "Click me"
      }
     },
     "bcb842eb3d864c81bcb877cb5a7a2425": {
      "model_module": "jupyter-js-widgets",
      "model_module_version": "~2.1.4",
      "model_name": "HTMLModel",
      "state": {
       "_model_module_version": "~2.1.4",
       "_view_module_version": "~2.1.4",
       "layout": "IPY_MODEL_bef3eaa55c474c61bbde36e27e0c7c81",
       "value": "\n<svg width=\"100%\" height=0><defs><clipPath id=\"mask\">\n<rect x=0 y=0 width='28%' height='500' /><rect x=0 y=0 width='50%' height='390' /><rect x=0 y=0 width='100%' height='50' />\n</clipPath></defs></svg>\n<style>\n.bp {\n    width: 100%;\n    -webkit-clip-path: circle(#mask);\n    clip-path: url(#mask);\n}\n</style>\n<img src=\"bp_solution.png\" class=bp>\n"
      }
     },
     "bcce687aa1e44529b91bc6d95f21614f": {
      "model_module": "jupyter-js-widgets",
      "model_module_version": "~2.1.4",
      "model_name": "LayoutModel",
      "state": {
       "_model_module_version": "~2.1.4",
       "_view_module_version": "~2.1.4"
      }
     },
     "bd27abb54f8f4bc89607fa59149c90b5": {
      "model_module": "jupyter-js-widgets",
      "model_module_version": "~2.1.4",
      "model_name": "ButtonModel",
      "state": {
       "_model_module_version": "~2.1.4",
       "_view_module_version": "~2.1.4",
       "description": "Next",
       "layout": "IPY_MODEL_6d8bf3ce088543cb87d560dcdff4188a",
       "style": "IPY_MODEL_b8bda288ae0341c79bbaacbe2d8b3437"
      }
     },
     "bd2d60616ae047f39f0cd3338e93d328": {
      "model_module": "jupyter-js-widgets",
      "model_module_version": "~2.1.4",
      "model_name": "ButtonStyleModel",
      "state": {
       "_model_module_version": "~2.1.4",
       "_view_module_version": "~2.1.4"
      }
     },
     "bd48aded7aa74a56965c5c1612f21e08": {
      "model_module": "jupyter-js-widgets",
      "model_module_version": "~2.1.4",
      "model_name": "LayoutModel",
      "state": {
       "_model_module_version": "~2.1.4",
       "_view_module_version": "~2.1.4"
      }
     },
     "bd6c510844534b21a946dc7ae151ad33": {
      "model_module": "jupyter-js-widgets",
      "model_module_version": "~2.1.4",
      "model_name": "ButtonStyleModel",
      "state": {
       "_model_module_version": "~2.1.4",
       "_view_module_version": "~2.1.4"
      }
     },
     "bd7140b93aba43da888be4ebf74a7463": {
      "model_module": "jupyter-js-widgets",
      "model_module_version": "~2.1.4",
      "model_name": "ButtonStyleModel",
      "state": {
       "_model_module_version": "~2.1.4",
       "_view_module_version": "~2.1.4"
      }
     },
     "bd9c09b5c99b4064965629c9a9750a68": {
      "model_module": "jupyter-js-widgets",
      "model_module_version": "~2.1.4",
      "model_name": "ButtonModel",
      "state": {
       "_model_module_version": "~2.1.4",
       "_view_module_version": "~2.1.4",
       "description": "Previous",
       "layout": "IPY_MODEL_4fb31784254648f0918b0e9cd66e16ea",
       "style": "IPY_MODEL_ae56645d1711426a953eeb929d31547f"
      }
     },
     "bdfae459373f4c7898dc80fdf72d723b": {
      "model_module": "jupyter-js-widgets",
      "model_module_version": "~2.1.4",
      "model_name": "ButtonStyleModel",
      "state": {
       "_model_module_version": "~2.1.4",
       "_view_module_version": "~2.1.4"
      }
     },
     "be096b1174cd47c1b38b6aee113e965f": {
      "model_module": "jupyter-js-widgets",
      "model_module_version": "~2.1.4",
      "model_name": "ButtonStyleModel",
      "state": {
       "_model_module_version": "~2.1.4",
       "_view_module_version": "~2.1.4"
      }
     },
     "be12d00c783f4f03b0e0142111deb1fd": {
      "model_module": "jupyter-js-widgets",
      "model_module_version": "~2.1.4",
      "model_name": "ButtonModel",
      "state": {
       "_model_module_version": "~2.1.4",
       "_view_module_version": "~2.1.4",
       "description": "Previous",
       "layout": "IPY_MODEL_8ddb880fcfdc4076930d948ff465f3cb",
       "style": "IPY_MODEL_6b363d4d391f4429bcf914088bcdc586"
      }
     },
     "be254f7b820541eba6e18a0607200c17": {
      "model_module": "jupyter-js-widgets",
      "model_module_version": "~2.1.4",
      "model_name": "ButtonModel",
      "state": {
       "_model_module_version": "~2.1.4",
       "_view_module_version": "~2.1.4",
       "description": "Previous",
       "icon": "check",
       "layout": "IPY_MODEL_e4774daceb9347af9be3815a1554ed5e",
       "style": "IPY_MODEL_751d71bd696f4c7e98e1092cd2aeb20c",
       "tooltip": "Click me"
      }
     },
     "be7802ec1de742a38c5c5929a6aaa07a": {
      "model_module": "jupyter-js-widgets",
      "model_module_version": "~2.1.4",
      "model_name": "ButtonModel",
      "state": {
       "_model_module_version": "~2.1.4",
       "_view_module_version": "~2.1.4",
       "description": "Previous",
       "layout": "IPY_MODEL_22ac21532cef4f49a5d6d0cc34151313",
       "style": "IPY_MODEL_89c568d613e34292ac06a80c17aa45d8"
      }
     },
     "be7903a12fa942508305bf5635f5c732": {
      "model_module": "jupyter-js-widgets",
      "model_module_version": "~2.1.4",
      "model_name": "ButtonModel",
      "state": {
       "_model_module_version": "~2.1.4",
       "_view_module_version": "~2.1.4",
       "description": "Previous",
       "icon": "check",
       "layout": "IPY_MODEL_f469f77f0e5c4851b6408c2ee8924ab1",
       "style": "IPY_MODEL_01f513ff83614e3ea8d430e8a948d46e",
       "tooltip": "Click me"
      }
     },
     "bef08abc4c0647aab5b21934df418dc0": {
      "model_module": "jupyter-js-widgets",
      "model_module_version": "~2.1.4",
      "model_name": "ButtonModel",
      "state": {
       "_model_module_version": "~2.1.4",
       "_view_module_version": "~2.1.4",
       "description": "Previous",
       "layout": "IPY_MODEL_33bd29eb96944eb2a05e6fb931abf9c8",
       "style": "IPY_MODEL_a1148c2f0308447988cb1e445184be60"
      }
     },
     "bef3eaa55c474c61bbde36e27e0c7c81": {
      "model_module": "jupyter-js-widgets",
      "model_module_version": "~2.1.4",
      "model_name": "LayoutModel",
      "state": {
       "_model_module_version": "~2.1.4",
       "_view_module_version": "~2.1.4"
      }
     },
     "bef4ba49c806490cb5811d16631a2fd5": {
      "model_module": "jupyter-js-widgets",
      "model_module_version": "~2.1.4",
      "model_name": "LayoutModel",
      "state": {
       "_model_module_version": "~2.1.4",
       "_view_module_version": "~2.1.4"
      }
     },
     "bef86ec4bc094c52acf7abbdacdd7a55": {
      "model_module": "jupyter-js-widgets",
      "model_module_version": "~2.1.4",
      "model_name": "HTMLModel",
      "state": {
       "_model_module_version": "~2.1.4",
       "_view_module_version": "~2.1.4",
       "layout": "IPY_MODEL_d74d4e4fbb9341c4964735157ec223e5",
       "value": "<img src='bp_solution.png' width='100%'>"
      }
     },
     "bf00d49d6cdd4ae89c8da378989f5103": {
      "model_module": "jupyter-js-widgets",
      "model_module_version": "~2.1.4",
      "model_name": "HTMLModel",
      "state": {
       "_model_module_version": "~2.1.4",
       "_view_module_version": "~2.1.4",
       "layout": "IPY_MODEL_046a4ce8e9fe42d3989c7b87f9054cae",
       "value": "\n<svg width=\"100%\" height=0><defs><clipPath id=\"mask\">\n<rect x=0 y=0 width='28%' height='500' /><rect x=0 y=0 width='50%' height='200' /><rect x=0 y=0 width='100%' height='50' />\n</clipPath></defs></svg>\n<style>\n.bp {\n    width: 100%;\n    -webkit-clip-path: circle(#mask);\n    clip-path: url(#mask);\n}\n</style>\n<img src=\"bp_solution.png\" class=bp>\n"
      }
     },
     "bf380c1bffaf4ebaad269e0815d775a8": {
      "model_module": "jupyter-js-widgets",
      "model_module_version": "~2.1.4",
      "model_name": "ButtonModel",
      "state": {
       "_model_module_version": "~2.1.4",
       "_view_module_version": "~2.1.4",
       "description": "Next",
       "layout": "IPY_MODEL_9d06148151b143968cb89d27c654adf3",
       "style": "IPY_MODEL_6c0e2911a25c41009501a0487aca9bd8"
      }
     },
     "bf408cbc4f774740b3cd62f3b33667b8": {
      "model_module": "jupyter-js-widgets",
      "model_module_version": "~2.1.4",
      "model_name": "ButtonStyleModel",
      "state": {
       "_model_module_version": "~2.1.4",
       "_view_module_version": "~2.1.4"
      }
     },
     "bfb22c9603e64295a44c51ee887be9e5": {
      "model_module": "jupyter-js-widgets",
      "model_module_version": "~2.1.4",
      "model_name": "ButtonStyleModel",
      "state": {
       "_model_module_version": "~2.1.4",
       "_view_module_version": "~2.1.4"
      }
     },
     "bfb3ad29245341dea1550899b952300a": {
      "model_module": "jupyter-js-widgets",
      "model_module_version": "~2.1.4",
      "model_name": "LayoutModel",
      "state": {
       "_model_module_version": "~2.1.4",
       "_view_module_version": "~2.1.4"
      }
     },
     "bfb9016111684333b580ea7a1dc42e2f": {
      "model_module": "jupyter-js-widgets",
      "model_module_version": "~2.1.4",
      "model_name": "LayoutModel",
      "state": {
       "_model_module_version": "~2.1.4",
       "_view_module_version": "~2.1.4"
      }
     },
     "bfe405ec35ed4091b9cf575042d91afa": {
      "model_module": "jupyter-js-widgets",
      "model_module_version": "~2.1.4",
      "model_name": "LayoutModel",
      "state": {
       "_model_module_version": "~2.1.4",
       "_view_module_version": "~2.1.4"
      }
     },
     "bfe68e692f254e7d9f58c9a34a29b530": {
      "model_module": "jupyter-js-widgets",
      "model_module_version": "~2.1.4",
      "model_name": "LayoutModel",
      "state": {
       "_model_module_version": "~2.1.4",
       "_view_module_version": "~2.1.4"
      }
     },
     "c004e2aa49554e358885320f6845528f": {
      "model_module": "jupyter-js-widgets",
      "model_module_version": "~2.1.4",
      "model_name": "LayoutModel",
      "state": {
       "_model_module_version": "~2.1.4",
       "_view_module_version": "~2.1.4"
      }
     },
     "c01e78ecb2d94541917c036bd9097859": {
      "model_module": "jupyter-js-widgets",
      "model_module_version": "~2.1.4",
      "model_name": "HTMLModel",
      "state": {
       "_model_module_version": "~2.1.4",
       "_view_module_version": "~2.1.4",
       "layout": "IPY_MODEL_14fec9fd33cd403488df7b0067172cfb",
       "value": "\n<svg width=\"100%\" height=0><defs><clipPath id=\"mask\">\n\n<svg width=\"100%\" height=0><defs><clipPath id=\"mask\">\n\n</clipPath></defs></svg>\n<style>\n.bp {\n    width: 100%;\n    -webkit-clip-path: circle(#mask);\n    clip-path: url(#mask);\n}\n</style>\n<img src=\"bp_solution.png\" class=bp>\n\n</clipPath></defs></svg>\n<style>\n.bp {\n    width: 100%;\n    -webkit-clip-path: circle(#mask);\n    clip-path: url(#mask);\n}\n</style>\n<img src=\"bp_solution.png\" class=bp>\n"
      }
     },
     "c0296d18cbb24414a6c0a5af5bff6fe8": {
      "model_module": "jupyter-js-widgets",
      "model_module_version": "~2.1.4",
      "model_name": "ButtonModel",
      "state": {
       "_model_module_version": "~2.1.4",
       "_view_module_version": "~2.1.4",
       "description": "Previous",
       "layout": "IPY_MODEL_3f94951776f2498e817ad7278afe1c2e",
       "style": "IPY_MODEL_047efc5e32604cf0b75e29d497780318"
      }
     },
     "c046960de4b34e75b99306efa29c762e": {
      "model_module": "jupyter-js-widgets",
      "model_module_version": "~2.1.4",
      "model_name": "ButtonModel",
      "state": {
       "_model_module_version": "~2.1.4",
       "_view_module_version": "~2.1.4",
       "description": "Previous",
       "icon": "check",
       "layout": "IPY_MODEL_7aaf86563faa455087127913ecaf85ca",
       "style": "IPY_MODEL_6989052c6edd43129c7ffb7baa5a54c3",
       "tooltip": "Click me"
      }
     },
     "c04af34f4fb74a97a6d9c69a6cfaf37b": {
      "model_module": "jupyter-js-widgets",
      "model_module_version": "~2.1.4",
      "model_name": "LayoutModel",
      "state": {
       "_model_module_version": "~2.1.4",
       "_view_module_version": "~2.1.4"
      }
     },
     "c05712ebcba3466bba444bb259cc46f7": {
      "model_module": "jupyter-js-widgets",
      "model_module_version": "~2.1.4",
      "model_name": "LayoutModel",
      "state": {
       "_model_module_version": "~2.1.4",
       "_view_module_version": "~2.1.4"
      }
     },
     "c08bf151a2a44278964839b14b99a713": {
      "model_module": "jupyter-js-widgets",
      "model_module_version": "~2.1.4",
      "model_name": "ButtonStyleModel",
      "state": {
       "_model_module_version": "~2.1.4",
       "_view_module_version": "~2.1.4"
      }
     },
     "c0bbbf4fc98b49b0a9caa7cbfee969e2": {
      "model_module": "jupyter-js-widgets",
      "model_module_version": "~2.1.4",
      "model_name": "ButtonModel",
      "state": {
       "_model_module_version": "~2.1.4",
       "_view_module_version": "~2.1.4",
       "description": "Next",
       "icon": "check",
       "layout": "IPY_MODEL_936eea0384f0404cad79a97863015238",
       "style": "IPY_MODEL_d2c74979f7ce453aa9494b4dc376a4ba",
       "tooltip": "Click me"
      }
     },
     "c0c55ca489df4a67b499e94a03925031": {
      "model_module": "jupyter-js-widgets",
      "model_module_version": "~2.1.4",
      "model_name": "ButtonStyleModel",
      "state": {
       "_model_module_version": "~2.1.4",
       "_view_module_version": "~2.1.4"
      }
     },
     "c0e814eee0b54b98bd5028c697126a2b": {
      "model_module": "jupyter-js-widgets",
      "model_module_version": "~2.1.4",
      "model_name": "HTMLModel",
      "state": {
       "_model_module_version": "~2.1.4",
       "_view_module_version": "~2.1.4",
       "layout": "IPY_MODEL_17227f62ea5d4617a19b0339a04f7829",
       "value": "<img src='bp_solution.png' width='100%'>"
      }
     },
     "c1005842a94e432285e87bedf68ee3ba": {
      "model_module": "jupyter-js-widgets",
      "model_module_version": "~2.1.4",
      "model_name": "LayoutModel",
      "state": {
       "_model_module_version": "~2.1.4",
       "_view_module_version": "~2.1.4"
      }
     },
     "c101bf0d3e644b6a980790682af71ed4": {
      "model_module": "jupyter-js-widgets",
      "model_module_version": "~2.1.4",
      "model_name": "ButtonStyleModel",
      "state": {
       "_model_module_version": "~2.1.4",
       "_view_module_version": "~2.1.4"
      }
     },
     "c11ffc09f5ae451cabac97140c9f723c": {
      "model_module": "jupyter-js-widgets",
      "model_module_version": "~2.1.4",
      "model_name": "ButtonStyleModel",
      "state": {
       "_model_module_version": "~2.1.4",
       "_view_module_version": "~2.1.4"
      }
     },
     "c124ba3012b54954a2fbecf1e6bd85ca": {
      "model_module": "jupyter-js-widgets",
      "model_module_version": "~2.1.4",
      "model_name": "HTMLModel",
      "state": {
       "_model_module_version": "~2.1.4",
       "_view_module_version": "~2.1.4",
       "layout": "IPY_MODEL_78860ec98e1741888be017c00dab9fb5",
       "value": "\n<svg width=\"100%\" height=0><defs><clipPath id=\"mask\">\n<rect x=0 y=0 width='28%' height='500' /><rect x=0 y=0 width='72%' height='170' /><rect x='60%' y=0 width='100%' height='250' /><rect x=0 y=0 width='100%' height='50' />\n</clipPath></defs></svg>\n<style>\n.bp {\n    width: 100%;\n    -webkit-clip-path: circle(#mask);\n    clip-path: url(#mask);\n}\n</style>\n<img src=\"bp_solution.png\" class=bp>\n"
      }
     },
     "c143e57872cd46cebb3ef553e78b27a3": {
      "model_module": "jupyter-js-widgets",
      "model_module_version": "~2.1.4",
      "model_name": "ButtonStyleModel",
      "state": {
       "_model_module_version": "~2.1.4",
       "_view_module_version": "~2.1.4"
      }
     },
     "c1446db630c240b689c963e26dda145e": {
      "model_module": "jupyter-js-widgets",
      "model_module_version": "~2.1.4",
      "model_name": "ButtonModel",
      "state": {
       "_model_module_version": "~2.1.4",
       "_view_module_version": "~2.1.4",
       "description": "Next",
       "layout": "IPY_MODEL_03265edf636947ff9ff7638d76403efc",
       "style": "IPY_MODEL_232aaa93753f401ea6755f56d26fc1bf"
      }
     },
     "c17885efbd03487b8d7bc326df3a1028": {
      "model_module": "jupyter-js-widgets",
      "model_module_version": "~2.1.4",
      "model_name": "LayoutModel",
      "state": {
       "_model_module_version": "~2.1.4",
       "_view_module_version": "~2.1.4"
      }
     },
     "c17a70b4d35745f6b4c20558a86b8cf7": {
      "model_module": "jupyter-js-widgets",
      "model_module_version": "~2.1.4",
      "model_name": "ButtonStyleModel",
      "state": {
       "_model_module_version": "~2.1.4",
       "_view_module_version": "~2.1.4"
      }
     },
     "c19ca1224e5c47909d85effb30195d61": {
      "model_module": "jupyter-js-widgets",
      "model_module_version": "~2.1.4",
      "model_name": "ButtonModel",
      "state": {
       "_model_module_version": "~2.1.4",
       "_view_module_version": "~2.1.4",
       "description": "Next",
       "icon": "check",
       "layout": "IPY_MODEL_b71f021207cd4768b4e29699e84a36d1",
       "style": "IPY_MODEL_3c7ed22613704ad19b42da7ef6dbb4e8",
       "tooltip": "Click me"
      }
     },
     "c1ed3be32e9d4f8da9c99ef9250089d0": {
      "model_module": "jupyter-js-widgets",
      "model_module_version": "~2.1.4",
      "model_name": "ButtonStyleModel",
      "state": {
       "_model_module_version": "~2.1.4",
       "_view_module_version": "~2.1.4"
      }
     },
     "c1ff3ece1dbf4e189a76766d1238fb23": {
      "model_module": "jupyter-js-widgets",
      "model_module_version": "~2.1.4",
      "model_name": "ButtonModel",
      "state": {
       "_model_module_version": "~2.1.4",
       "_view_module_version": "~2.1.4",
       "description": "Next",
       "icon": "check",
       "layout": "IPY_MODEL_a87ef2bc8fbb41cda1c5cf6b49549fea",
       "style": "IPY_MODEL_a839d7ef99bd4780ba8e96386e78c24f",
       "tooltip": "Click me"
      }
     },
     "c20bffee86d14c81b3b2cbb0c15c8607": {
      "model_module": "jupyter-js-widgets",
      "model_module_version": "~2.1.4",
      "model_name": "ButtonModel",
      "state": {
       "_model_module_version": "~2.1.4",
       "_view_module_version": "~2.1.4",
       "description": "Next",
       "layout": "IPY_MODEL_f30a1a6bd2ae4734bdafd18485ed1d69",
       "style": "IPY_MODEL_6a2dad3a972e479193cc29acf41e911b"
      }
     },
     "c2315ba57e8646e4964a4b547ceb10a8": {
      "model_module": "jupyter-js-widgets",
      "model_module_version": "~2.1.4",
      "model_name": "LayoutModel",
      "state": {
       "_model_module_version": "~2.1.4",
       "_view_module_version": "~2.1.4"
      }
     },
     "c23b97fa8a764ce3b4ac650667341c4d": {
      "model_module": "jupyter-js-widgets",
      "model_module_version": "~2.1.4",
      "model_name": "ButtonModel",
      "state": {
       "_model_module_version": "~2.1.4",
       "_view_module_version": "~2.1.4",
       "description": "Next",
       "layout": "IPY_MODEL_b3fd40f72dd14de483a2ba972ceab1fe",
       "style": "IPY_MODEL_8db8380870ec44b09222066ae0782fee"
      }
     },
     "c253cdb561cc4bc0bc8859b84569e13a": {
      "model_module": "jupyter-js-widgets",
      "model_module_version": "~2.1.4",
      "model_name": "HTMLModel",
      "state": {
       "_model_module_version": "~2.1.4",
       "_view_module_version": "~2.1.4",
       "layout": "IPY_MODEL_5e4a0c981ff74301a372718e9149a80a",
       "value": "\n<svg width=\"100%\" height=0><defs><clipPath id=\"mask\">\n<rect x=0 y=0 width='28%' height='500' /><rect x=0 y=0 width='72%' height='170' /><rect x='60%' y=0 width='100%' height='200' /><rect x=0 y=0 width='100%' height='50' />\n</clipPath></defs></svg>\n<style>\n.bp {\n    width: 100%;\n    -webkit-clip-path: circle(#mask);\n    clip-path: url(#mask);\n}\n</style>\n<img src=\"bp_solution.png\" class=bp>\n"
      }
     },
     "c28c946eab784cb6ab2d4c1547b9aa0e": {
      "model_module": "jupyter-js-widgets",
      "model_module_version": "~2.1.4",
      "model_name": "HTMLModel",
      "state": {
       "_model_module_version": "~2.1.4",
       "_view_module_version": "~2.1.4",
       "layout": "IPY_MODEL_ef95dac66ee247baa54d31a872f7f87f",
       "value": "\n<svg width=\"100%\" height=0><defs><clipPath id=\"mask\">\n<rect x=0 y=0 width='27%' height='500'>\n</clipPath></defs></svg>\n<style>\n.bp {\n    width: 100%;\n    -webkit-clip-path: circle(#mask);\n    clip-path: url(#mask);\n}\n</style>\n<img src=\"bp_solution.png\" class=bp>\n"
      }
     },
     "c29d04d399ef438f8dff2f9936dfdf4c": {
      "model_module": "jupyter-js-widgets",
      "model_module_version": "~2.1.4",
      "model_name": "ButtonModel",
      "state": {
       "_model_module_version": "~2.1.4",
       "_view_module_version": "~2.1.4",
       "description": "Previous",
       "icon": "check",
       "layout": "IPY_MODEL_8abfcf85612a44ea8525ec8ba60817e5",
       "style": "IPY_MODEL_96e6525b5f454103aac17303ee797723",
       "tooltip": "Click me"
      }
     },
     "c308fb3d1c174ac79aa1203a1bf84fda": {
      "model_module": "jupyter-js-widgets",
      "model_module_version": "~2.1.4",
      "model_name": "LayoutModel",
      "state": {
       "_model_module_version": "~2.1.4",
       "_view_module_version": "~2.1.4"
      }
     },
     "c345a9deee0c4091b1cb281e32286b97": {
      "model_module": "jupyter-js-widgets",
      "model_module_version": "~2.1.4",
      "model_name": "ButtonStyleModel",
      "state": {
       "_model_module_version": "~2.1.4",
       "_view_module_version": "~2.1.4"
      }
     },
     "c3645bf3253245e19382c3dac829b715": {
      "model_module": "jupyter-js-widgets",
      "model_module_version": "~2.1.4",
      "model_name": "ButtonStyleModel",
      "state": {
       "_model_module_version": "~2.1.4",
       "_view_module_version": "~2.1.4"
      }
     },
     "c38525d3a3c04368930386cfd877662b": {
      "model_module": "jupyter-js-widgets",
      "model_module_version": "~2.1.4",
      "model_name": "ButtonStyleModel",
      "state": {
       "_model_module_version": "~2.1.4",
       "_view_module_version": "~2.1.4"
      }
     },
     "c3e0d0c9bba545d3a2c3d5c6347cde81": {
      "model_module": "jupyter-js-widgets",
      "model_module_version": "~2.1.4",
      "model_name": "ButtonStyleModel",
      "state": {
       "_model_module_version": "~2.1.4",
       "_view_module_version": "~2.1.4"
      }
     },
     "c3e2326d907d436c8c998ad043b290fb": {
      "model_module": "jupyter-js-widgets",
      "model_module_version": "~2.1.4",
      "model_name": "LayoutModel",
      "state": {
       "_model_module_version": "~2.1.4",
       "_view_module_version": "~2.1.4"
      }
     },
     "c3ef04059ea549e299bf9e68023a2f7e": {
      "model_module": "jupyter-js-widgets",
      "model_module_version": "~2.1.4",
      "model_name": "ButtonModel",
      "state": {
       "_model_module_version": "~2.1.4",
       "_view_module_version": "~2.1.4",
       "description": "Next",
       "layout": "IPY_MODEL_1d6e61a335984084b82c4317b24548c7",
       "style": "IPY_MODEL_cdced345bd3d458ca30103f359eecf22"
      }
     },
     "c41349de4e344efcb98bc48729833600": {
      "model_module": "jupyter-js-widgets",
      "model_module_version": "~2.1.4",
      "model_name": "LayoutModel",
      "state": {
       "_model_module_version": "~2.1.4",
       "_view_module_version": "~2.1.4"
      }
     },
     "c436f65c28dd4d72b65dff534849a9ad": {
      "model_module": "jupyter-js-widgets",
      "model_module_version": "~2.1.4",
      "model_name": "HTMLModel",
      "state": {
       "_model_module_version": "~2.1.4",
       "_view_module_version": "~2.1.4",
       "layout": "IPY_MODEL_92cd17669d3f471398ef46557ff69e47",
       "value": "\n<svg width=\"100%\" height=0><defs><clipPath id=\"mask\">\n<rect x=0 y=0 width='100%' height='50' /><rect x=0 y=0 width='28%' height='500' /><rect x=0 y=0 width='72%' height='310' /><rect x='62%' y=0 width='100%' height='240' /><rect x='70%' y=0 width='100%' height='330' />\n</clipPath></defs></svg>\n<style>\n.bp {\n    width: 100%;\n    -webkit-clip-path: circle(#mask);\n    clip-path: url(#mask);\n}\n</style>\n<img src=\"bp_solution.png\" class=bp />\n"
      }
     },
     "c4574d62fb324726bbe8345dd1143f1d": {
      "model_module": "jupyter-js-widgets",
      "model_module_version": "~2.1.4",
      "model_name": "ButtonStyleModel",
      "state": {
       "_model_module_version": "~2.1.4",
       "_view_module_version": "~2.1.4"
      }
     },
     "c462df03fe7448a88495cfee462950dc": {
      "model_module": "jupyter-js-widgets",
      "model_module_version": "~2.1.4",
      "model_name": "HTMLModel",
      "state": {
       "_model_module_version": "~2.1.4",
       "_view_module_version": "~2.1.4",
       "layout": "IPY_MODEL_ba14536f0b0d45938762dc74668b290d",
       "value": "\n<svg width=\"100%\" height=0><defs><clipPath id=\"mask\">\n<rect x=0 y=0 width='28%' height='500' /><rect x=0 y=0 width='72%' height='310' /><rect x='62%' y=0 width='100%' height='240' /><rect x='62%' y=0 width='100%' height='400' /><rect x=0 y=0 width='100%' height='50' />\n</clipPath></defs></svg>\n<style>\n.bp {\n    width: 100%;\n    -webkit-clip-path: circle(#mask);\n    clip-path: url(#mask);\n}\n</style>\n<img src=\"bp_solution.png\" class=bp>\n"
      }
     },
     "c47afc100efc49d798a6e4e141867fb6": {
      "model_module": "jupyter-js-widgets",
      "model_module_version": "~2.1.4",
      "model_name": "ButtonModel",
      "state": {
       "_model_module_version": "~2.1.4",
       "_view_module_version": "~2.1.4",
       "description": "Previous",
       "layout": "IPY_MODEL_f82c83bf69ca4f778a2020ebccaf0216",
       "style": "IPY_MODEL_c4574d62fb324726bbe8345dd1143f1d"
      }
     },
     "c48c9805ca3b48e19445d4be2a79503b": {
      "model_module": "jupyter-js-widgets",
      "model_module_version": "~2.1.4",
      "model_name": "ButtonModel",
      "state": {
       "_model_module_version": "~2.1.4",
       "_view_module_version": "~2.1.4",
       "description": "Next",
       "layout": "IPY_MODEL_7550c23cd7674783b7010dabe1f7af1b",
       "style": "IPY_MODEL_435ec961f3604be39cf90759e2b1b821"
      }
     },
     "c4acbe2e1a24402bac37f29e85b76b0d": {
      "model_module": "jupyter-js-widgets",
      "model_module_version": "~2.1.4",
      "model_name": "LayoutModel",
      "state": {
       "_model_module_version": "~2.1.4",
       "_view_module_version": "~2.1.4"
      }
     },
     "c4c9c86519b247ed9a7cdf394ca41ed0": {
      "model_module": "jupyter-js-widgets",
      "model_module_version": "~2.1.4",
      "model_name": "LayoutModel",
      "state": {
       "_model_module_version": "~2.1.4",
       "_view_module_version": "~2.1.4"
      }
     },
     "c4d463301c3f4217835972b9cf55bb2c": {
      "model_module": "jupyter-js-widgets",
      "model_module_version": "~2.1.4",
      "model_name": "ButtonStyleModel",
      "state": {
       "_model_module_version": "~2.1.4",
       "_view_module_version": "~2.1.4"
      }
     },
     "c515daa6663544d09d38eb2d40ea0ebf": {
      "model_module": "jupyter-js-widgets",
      "model_module_version": "~2.1.4",
      "model_name": "LayoutModel",
      "state": {
       "_model_module_version": "~2.1.4",
       "_view_module_version": "~2.1.4"
      }
     },
     "c54bc8ee8f9a4cc7ae3ea79f2414b788": {
      "model_module": "jupyter-js-widgets",
      "model_module_version": "~2.1.4",
      "model_name": "ButtonStyleModel",
      "state": {
       "_model_module_version": "~2.1.4",
       "_view_module_version": "~2.1.4"
      }
     },
     "c56607ccc6704fd69f0c64b847312ff0": {
      "model_module": "jupyter-js-widgets",
      "model_module_version": "~2.1.4",
      "model_name": "LayoutModel",
      "state": {
       "_model_module_version": "~2.1.4",
       "_view_module_version": "~2.1.4"
      }
     },
     "c58e10997ce7480e83ad7d155a4aa815": {
      "model_module": "jupyter-js-widgets",
      "model_module_version": "~2.1.4",
      "model_name": "ButtonModel",
      "state": {
       "_model_module_version": "~2.1.4",
       "_view_module_version": "~2.1.4",
       "description": "Previous",
       "icon": "check",
       "layout": "IPY_MODEL_5d703c3389f743b88b0afa74bfff3a66",
       "style": "IPY_MODEL_e9e870f5eafb4274b9a67dafd84f63ab",
       "tooltip": "Click me"
      }
     },
     "c5974f7ee72c4f3381b33fbc06d813d8": {
      "model_module": "jupyter-js-widgets",
      "model_module_version": "~2.1.4",
      "model_name": "LayoutModel",
      "state": {
       "_model_module_version": "~2.1.4",
       "_view_module_version": "~2.1.4"
      }
     },
     "c5a4e272a93646cba55de66cc6ba63fd": {
      "model_module": "jupyter-js-widgets",
      "model_module_version": "~2.1.4",
      "model_name": "HTMLModel",
      "state": {
       "_model_module_version": "~2.1.4",
       "_view_module_version": "~2.1.4",
       "layout": "IPY_MODEL_21829821e9234b0f92338030d6bd15a2",
       "value": "<img src='mlp.png'/>"
      }
     },
     "c5b678c937414a9e9efdcb4d58549777": {
      "model_module": "jupyter-js-widgets",
      "model_module_version": "~2.1.4",
      "model_name": "ButtonStyleModel",
      "state": {
       "_model_module_version": "~2.1.4",
       "_view_module_version": "~2.1.4"
      }
     },
     "c5cf4b6711b8478f8508a72223b3f6ea": {
      "model_module": "jupyter-js-widgets",
      "model_module_version": "~2.1.4",
      "model_name": "ButtonStyleModel",
      "state": {
       "_model_module_version": "~2.1.4",
       "_view_module_version": "~2.1.4"
      }
     },
     "c5e749c3aaa04120a9fbf2ed8b811402": {
      "model_module": "jupyter-js-widgets",
      "model_module_version": "~2.1.4",
      "model_name": "ButtonModel",
      "state": {
       "_model_module_version": "~2.1.4",
       "_view_module_version": "~2.1.4",
       "description": "Next",
       "icon": "check",
       "layout": "IPY_MODEL_a0ebc77a25a34e579116e7922d7d04be",
       "style": "IPY_MODEL_e0b9dcead14943849a84171b00196cc4",
       "tooltip": "Click me"
      }
     },
     "c60ca01b3a264839891672e81864de3e": {
      "model_module": "jupyter-js-widgets",
      "model_module_version": "~2.1.4",
      "model_name": "LayoutModel",
      "state": {
       "_model_module_version": "~2.1.4",
       "_view_module_version": "~2.1.4"
      }
     },
     "c6230ea6e68d4a40909348e5c75ee5a9": {
      "model_module": "jupyter-js-widgets",
      "model_module_version": "~2.1.4",
      "model_name": "ButtonModel",
      "state": {
       "_model_module_version": "~2.1.4",
       "_view_module_version": "~2.1.4",
       "description": "Next",
       "layout": "IPY_MODEL_fdd4f376181b47ae8619ca6761f458de",
       "style": "IPY_MODEL_3dcc8a4079134bbabe61d2c1279a342d"
      }
     },
     "c62ec5fb030f4b35974a00b562db21b3": {
      "model_module": "jupyter-js-widgets",
      "model_module_version": "~2.1.4",
      "model_name": "LayoutModel",
      "state": {
       "_model_module_version": "~2.1.4",
       "_view_module_version": "~2.1.4"
      }
     },
     "c6568cf2fea94b04976aee89de46b326": {
      "model_module": "jupyter-js-widgets",
      "model_module_version": "~2.1.4",
      "model_name": "ButtonStyleModel",
      "state": {
       "_model_module_version": "~2.1.4",
       "_view_module_version": "~2.1.4"
      }
     },
     "c67b1203b865492696bb3d7c7dd089e7": {
      "model_module": "jupyter-js-widgets",
      "model_module_version": "~2.1.4",
      "model_name": "ButtonStyleModel",
      "state": {
       "_model_module_version": "~2.1.4",
       "_view_module_version": "~2.1.4"
      }
     },
     "c6b9e2019bfa460caa3f50ba266db36d": {
      "model_module": "jupyter-js-widgets",
      "model_module_version": "~2.1.4",
      "model_name": "ButtonStyleModel",
      "state": {
       "_model_module_version": "~2.1.4",
       "_view_module_version": "~2.1.4"
      }
     },
     "c6cf04f22d884107bb37e03a2384b1a0": {
      "model_module": "jupyter-js-widgets",
      "model_module_version": "~2.1.4",
      "model_name": "ButtonModel",
      "state": {
       "_model_module_version": "~2.1.4",
       "_view_module_version": "~2.1.4",
       "description": "Next",
       "layout": "IPY_MODEL_f1e5460a523c4553aec1b7b2ed20805a",
       "style": "IPY_MODEL_b4cd5c139691428384e2bf24ff8fad34"
      }
     },
     "c71ac0053bf64d53b581026de711f2c8": {
      "model_module": "jupyter-js-widgets",
      "model_module_version": "~2.1.4",
      "model_name": "ButtonStyleModel",
      "state": {
       "_model_module_version": "~2.1.4",
       "_view_module_version": "~2.1.4"
      }
     },
     "c7242158f5f043e683fa35fd16350682": {
      "model_module": "jupyter-js-widgets",
      "model_module_version": "~2.1.4",
      "model_name": "LayoutModel",
      "state": {
       "_model_module_version": "~2.1.4",
       "_view_module_version": "~2.1.4"
      }
     },
     "c74d4aca7d004a72af48f07dcb2af901": {
      "model_module": "jupyter-js-widgets",
      "model_module_version": "~2.1.4",
      "model_name": "HTMLModel",
      "state": {
       "_model_module_version": "~2.1.4",
       "_view_module_version": "~2.1.4",
       "layout": "IPY_MODEL_f2d52f7133684e7e8b99df61079fb77e",
       "value": "<img src='bp_solution.png' width='100%'>"
      }
     },
     "c78c66bf0c9d4531a884eea80641275b": {
      "model_module": "jupyter-js-widgets",
      "model_module_version": "~2.1.4",
      "model_name": "ButtonModel",
      "state": {
       "_model_module_version": "~2.1.4",
       "_view_module_version": "~2.1.4",
       "description": "Previous",
       "icon": "check",
       "layout": "IPY_MODEL_cfa78687544b4a4bb3ee1edfda310062",
       "style": "IPY_MODEL_24d7803e47114e22bd6a73ac55143a75",
       "tooltip": "Click me"
      }
     },
     "c78cedfdbafa4de38dae0139533d8669": {
      "model_module": "jupyter-js-widgets",
      "model_module_version": "~2.1.4",
      "model_name": "LayoutModel",
      "state": {
       "_model_module_version": "~2.1.4",
       "_view_module_version": "~2.1.4"
      }
     },
     "c7bcb334d7e84b5e8d39f2a54ec50624": {
      "model_module": "jupyter-js-widgets",
      "model_module_version": "~2.1.4",
      "model_name": "LayoutModel",
      "state": {
       "_model_module_version": "~2.1.4",
       "_view_module_version": "~2.1.4"
      }
     },
     "c7bed950205a41bf86f8aed23d1fde59": {
      "model_module": "jupyter-js-widgets",
      "model_module_version": "~2.1.4",
      "model_name": "ButtonStyleModel",
      "state": {
       "_model_module_version": "~2.1.4",
       "_view_module_version": "~2.1.4"
      }
     },
     "c7c9bb5bd42141bda83591d2abaed318": {
      "model_module": "jupyter-js-widgets",
      "model_module_version": "~2.1.4",
      "model_name": "ButtonStyleModel",
      "state": {
       "_model_module_version": "~2.1.4",
       "_view_module_version": "~2.1.4"
      }
     },
     "c7e70972e40b461882b7841be517af3f": {
      "model_module": "jupyter-js-widgets",
      "model_module_version": "~2.1.4",
      "model_name": "ButtonModel",
      "state": {
       "_model_module_version": "~2.1.4",
       "_view_module_version": "~2.1.4",
       "description": "Previous",
       "icon": "check",
       "layout": "IPY_MODEL_e3d9a61dd1f0468785c71446eb08c77b",
       "style": "IPY_MODEL_70f14974874c43ada39626ffa7e0415f",
       "tooltip": "Click me"
      }
     },
     "c80a58f5ee43469cb2b9253c86f32dca": {
      "model_module": "jupyter-js-widgets",
      "model_module_version": "~2.1.4",
      "model_name": "LayoutModel",
      "state": {
       "_model_module_version": "~2.1.4",
       "_view_module_version": "~2.1.4"
      }
     },
     "c80ed2993c564045af80166a5ef33da2": {
      "model_module": "jupyter-js-widgets",
      "model_module_version": "~2.1.4",
      "model_name": "ButtonModel",
      "state": {
       "_model_module_version": "~2.1.4",
       "_view_module_version": "~2.1.4",
       "description": "Next",
       "layout": "IPY_MODEL_0d2c926456b347f6ac50371eada3d169",
       "style": "IPY_MODEL_4595960174be400b89d1a73be1fcc78b"
      }
     },
     "c82146a6069e48cf884dbb818df43ab2": {
      "model_module": "jupyter-js-widgets",
      "model_module_version": "~2.1.4",
      "model_name": "ButtonModel",
      "state": {
       "_model_module_version": "~2.1.4",
       "_view_module_version": "~2.1.4",
       "description": "Next",
       "layout": "IPY_MODEL_f69e47e127d941e2abb45a5b45d09147",
       "style": "IPY_MODEL_8d97bb5af3cd408895e36513a14a8769"
      }
     },
     "c8280c9047744f6e95acbeaa88794db8": {
      "model_module": "jupyter-js-widgets",
      "model_module_version": "~2.1.4",
      "model_name": "ButtonModel",
      "state": {
       "_model_module_version": "~2.1.4",
       "_view_module_version": "~2.1.4",
       "description": "Previous",
       "icon": "check",
       "layout": "IPY_MODEL_f3e2449f917d452599c37545e5d04865",
       "style": "IPY_MODEL_dce91013f03f4f4a9df851fec29f6217",
       "tooltip": "Click me"
      }
     },
     "c83efae4976649e98a318d186cd04eee": {
      "model_module": "jupyter-js-widgets",
      "model_module_version": "~2.1.4",
      "model_name": "LayoutModel",
      "state": {
       "_model_module_version": "~2.1.4",
       "_view_module_version": "~2.1.4"
      }
     },
     "c84db80b51084952bd88f45c84da2c59": {
      "model_module": "jupyter-js-widgets",
      "model_module_version": "~2.1.4",
      "model_name": "ButtonModel",
      "state": {
       "_model_module_version": "~2.1.4",
       "_view_module_version": "~2.1.4",
       "description": "Next",
       "icon": "check",
       "layout": "IPY_MODEL_c78cedfdbafa4de38dae0139533d8669",
       "style": "IPY_MODEL_f1a3788c07b642ee81752930a0bf38e1",
       "tooltip": "Click me"
      }
     },
     "c892a9f4528f4bd88126dd147456e0cf": {
      "model_module": "jupyter-js-widgets",
      "model_module_version": "~2.1.4",
      "model_name": "ButtonStyleModel",
      "state": {
       "_model_module_version": "~2.1.4",
       "_view_module_version": "~2.1.4"
      }
     },
     "c893e226828b4905a99f883079e4285a": {
      "model_module": "jupyter-js-widgets",
      "model_module_version": "~2.1.4",
      "model_name": "ButtonModel",
      "state": {
       "_model_module_version": "~2.1.4",
       "_view_module_version": "~2.1.4",
       "description": "Next",
       "icon": "check",
       "layout": "IPY_MODEL_b633994d499d4052bcc781a3918bde8f",
       "style": "IPY_MODEL_6b5b12306c69411f8e55fd39ed93631c",
       "tooltip": "Click me"
      }
     },
     "c91683f4ae854d0384827515ba3a14e7": {
      "model_module": "jupyter-js-widgets",
      "model_module_version": "~2.1.4",
      "model_name": "LayoutModel",
      "state": {
       "_model_module_version": "~2.1.4",
       "_view_module_version": "~2.1.4"
      }
     },
     "c925fe9d5d7f4242a517e3e5082bb565": {
      "model_module": "jupyter-js-widgets",
      "model_module_version": "~2.1.4",
      "model_name": "LayoutModel",
      "state": {
       "_model_module_version": "~2.1.4",
       "_view_module_version": "~2.1.4"
      }
     },
     "c95a10bd48cf4a40bf32432b6bf88104": {
      "model_module": "jupyter-js-widgets",
      "model_module_version": "~2.1.4",
      "model_name": "LayoutModel",
      "state": {
       "_model_module_version": "~2.1.4",
       "_view_module_version": "~2.1.4"
      }
     },
     "c96c8bc88ed94730b434fa4883c42a79": {
      "model_module": "jupyter-js-widgets",
      "model_module_version": "~2.1.4",
      "model_name": "ButtonModel",
      "state": {
       "_model_module_version": "~2.1.4",
       "_view_module_version": "~2.1.4",
       "description": "Previous",
       "layout": "IPY_MODEL_cd2cf36bbffd4e66b4aac2d617bb90a5",
       "style": "IPY_MODEL_6baaf3cec9c144e587cf8d75b889d9a0"
      }
     },
     "c98cf62af81e48c7901ffa1faae46987": {
      "model_module": "jupyter-js-widgets",
      "model_module_version": "~2.1.4",
      "model_name": "LayoutModel",
      "state": {
       "_model_module_version": "~2.1.4",
       "_view_module_version": "~2.1.4"
      }
     },
     "c99380d63f00408a940cf04568fc01fe": {
      "model_module": "jupyter-js-widgets",
      "model_module_version": "~2.1.4",
      "model_name": "LayoutModel",
      "state": {
       "_model_module_version": "~2.1.4",
       "_view_module_version": "~2.1.4"
      }
     },
     "c9db0bd6bd7d4f61bb4e83b3790180f0": {
      "model_module": "jupyter-js-widgets",
      "model_module_version": "~2.1.4",
      "model_name": "ButtonModel",
      "state": {
       "_model_module_version": "~2.1.4",
       "_view_module_version": "~2.1.4",
       "description": "Previous",
       "icon": "check",
       "layout": "IPY_MODEL_82c8f628ad8b49d09807bfddae67da7e",
       "style": "IPY_MODEL_8064614e65fe43539b86632b32086acc",
       "tooltip": "Click me"
      }
     },
     "c9efe118417f4c8bbfb71ad7f28e2654": {
      "model_module": "jupyter-js-widgets",
      "model_module_version": "~2.1.4",
      "model_name": "ButtonModel",
      "state": {
       "_model_module_version": "~2.1.4",
       "_view_module_version": "~2.1.4",
       "description": "Next",
       "layout": "IPY_MODEL_b1f1a0a6c953453d95c693b6e0a0f3a1",
       "style": "IPY_MODEL_efcb8bc0545b475f9387e0ee461219b9"
      }
     },
     "c9fe4610de8a40d29ed4c78894ee47d8": {
      "model_module": "jupyter-js-widgets",
      "model_module_version": "~2.1.4",
      "model_name": "ButtonModel",
      "state": {
       "_model_module_version": "~2.1.4",
       "_view_module_version": "~2.1.4",
       "description": "Previous",
       "icon": "check",
       "layout": "IPY_MODEL_3c575fe9b014482894e358d1957b23fd",
       "style": "IPY_MODEL_97a6285d045b42d4a3a89ffd1877fdda",
       "tooltip": "Click me"
      }
     },
     "ca065007d81b4fdfa2dd65bba4074dc8": {
      "model_module": "jupyter-js-widgets",
      "model_module_version": "~2.1.4",
      "model_name": "ButtonStyleModel",
      "state": {
       "_model_module_version": "~2.1.4",
       "_view_module_version": "~2.1.4"
      }
     },
     "ca0f1b593f624e63ac0c0773fee5a036": {
      "model_module": "jupyter-js-widgets",
      "model_module_version": "~2.1.4",
      "model_name": "ButtonStyleModel",
      "state": {
       "_model_module_version": "~2.1.4",
       "_view_module_version": "~2.1.4"
      }
     },
     "ca0f6b9ec48f4f859121aab1f39c6f85": {
      "model_module": "jupyter-js-widgets",
      "model_module_version": "~2.1.4",
      "model_name": "ButtonStyleModel",
      "state": {
       "_model_module_version": "~2.1.4",
       "_view_module_version": "~2.1.4"
      }
     },
     "ca2b662d4c9d4124a38b3e07dcf5a984": {
      "model_module": "jupyter-js-widgets",
      "model_module_version": "~2.1.4",
      "model_name": "ButtonModel",
      "state": {
       "_model_module_version": "~2.1.4",
       "_view_module_version": "~2.1.4",
       "description": "Next",
       "icon": "check",
       "layout": "IPY_MODEL_ac25cfe860714e2db975f165e1917ab8",
       "style": "IPY_MODEL_ca0f1b593f624e63ac0c0773fee5a036",
       "tooltip": "Click me"
      }
     },
     "cabd0941a9d04733b4a0a93f39f69ebd": {
      "model_module": "jupyter-js-widgets",
      "model_module_version": "~2.1.4",
      "model_name": "ButtonStyleModel",
      "state": {
       "_model_module_version": "~2.1.4",
       "_view_module_version": "~2.1.4"
      }
     },
     "cad9527db96344ebba44139f321ea3ad": {
      "model_module": "jupyter-js-widgets",
      "model_module_version": "~2.1.4",
      "model_name": "ButtonModel",
      "state": {
       "_model_module_version": "~2.1.4",
       "_view_module_version": "~2.1.4",
       "description": "Previous",
       "icon": "check",
       "layout": "IPY_MODEL_ada321513ff745b8bff2c7dd2e585722",
       "style": "IPY_MODEL_cdfd9f3016bf4064bf11b264891dfc40",
       "tooltip": "Click me"
      }
     },
     "cada0f8e39a14f0082aef429c7adfc71": {
      "model_module": "jupyter-js-widgets",
      "model_module_version": "~2.1.4",
      "model_name": "ButtonModel",
      "state": {
       "_model_module_version": "~2.1.4",
       "_view_module_version": "~2.1.4",
       "description": "Previous",
       "icon": "check",
       "layout": "IPY_MODEL_6cd1faddd9ee480cbda793c3cc64cfe6",
       "style": "IPY_MODEL_efdacc76394149ed935bdc8ef7cfd63e",
       "tooltip": "Click me"
      }
     },
     "cb1baa92bf5a45979d03949db332d3be": {
      "model_module": "jupyter-js-widgets",
      "model_module_version": "~2.1.4",
      "model_name": "ButtonModel",
      "state": {
       "_model_module_version": "~2.1.4",
       "_view_module_version": "~2.1.4",
       "description": "Next",
       "icon": "check",
       "layout": "IPY_MODEL_6b9bfd785f56438f9c615489c31b34f5",
       "style": "IPY_MODEL_96b87b87011748ec8dfbe7e856592e06",
       "tooltip": "Click me"
      }
     },
     "cb2bc99abe20472b931d9ede26318fd2": {
      "model_module": "jupyter-js-widgets",
      "model_module_version": "~2.1.4",
      "model_name": "ButtonStyleModel",
      "state": {
       "_model_module_version": "~2.1.4",
       "_view_module_version": "~2.1.4"
      }
     },
     "cb3ec9f85a8b43f789b179188cfcb28f": {
      "model_module": "jupyter-js-widgets",
      "model_module_version": "~2.1.4",
      "model_name": "LayoutModel",
      "state": {
       "_model_module_version": "~2.1.4",
       "_view_module_version": "~2.1.4"
      }
     },
     "cb8f2b16d9d84305b2758fd6b02f7f29": {
      "model_module": "jupyter-js-widgets",
      "model_module_version": "~2.1.4",
      "model_name": "LayoutModel",
      "state": {
       "_model_module_version": "~2.1.4",
       "_view_module_version": "~2.1.4"
      }
     },
     "cb9ddb3619d548c3a03b38ce1db6b9f3": {
      "model_module": "jupyter-js-widgets",
      "model_module_version": "~2.1.4",
      "model_name": "LayoutModel",
      "state": {
       "_model_module_version": "~2.1.4",
       "_view_module_version": "~2.1.4"
      }
     },
     "cba0c413bb3a4cebaed0039026f5ef45": {
      "model_module": "jupyter-js-widgets",
      "model_module_version": "~2.1.4",
      "model_name": "ButtonStyleModel",
      "state": {
       "_model_module_version": "~2.1.4",
       "_view_module_version": "~2.1.4"
      }
     },
     "cbb764582f924b819462ee876780a437": {
      "model_module": "jupyter-js-widgets",
      "model_module_version": "~2.1.4",
      "model_name": "LayoutModel",
      "state": {
       "_model_module_version": "~2.1.4",
       "_view_module_version": "~2.1.4"
      }
     },
     "cbcd24e95f4e4bff964b0ebf813a35ba": {
      "model_module": "jupyter-js-widgets",
      "model_module_version": "~2.1.4",
      "model_name": "LayoutModel",
      "state": {
       "_model_module_version": "~2.1.4",
       "_view_module_version": "~2.1.4"
      }
     },
     "cc053d195ae74953afe6818e566f2538": {
      "model_module": "jupyter-js-widgets",
      "model_module_version": "~2.1.4",
      "model_name": "ButtonStyleModel",
      "state": {
       "_model_module_version": "~2.1.4",
       "_view_module_version": "~2.1.4"
      }
     },
     "cc323a3f56184501bf325a60d4683a49": {
      "model_module": "jupyter-js-widgets",
      "model_module_version": "~2.1.4",
      "model_name": "LayoutModel",
      "state": {
       "_model_module_version": "~2.1.4",
       "_view_module_version": "~2.1.4"
      }
     },
     "cd10e60addac4e908bd5b72c8442fa90": {
      "model_module": "jupyter-js-widgets",
      "model_module_version": "~2.1.4",
      "model_name": "ButtonModel",
      "state": {
       "_model_module_version": "~2.1.4",
       "_view_module_version": "~2.1.4",
       "description": "Previous",
       "icon": "check",
       "layout": "IPY_MODEL_8c140e64c00847a99ca885f077ee1c9a",
       "style": "IPY_MODEL_889d3742f68e40f0967b08a25b1a56b8",
       "tooltip": "Click me"
      }
     },
     "cd2cf36bbffd4e66b4aac2d617bb90a5": {
      "model_module": "jupyter-js-widgets",
      "model_module_version": "~2.1.4",
      "model_name": "LayoutModel",
      "state": {
       "_model_module_version": "~2.1.4",
       "_view_module_version": "~2.1.4"
      }
     },
     "cd562664037240a9a81c7814abe0734c": {
      "model_module": "jupyter-js-widgets",
      "model_module_version": "~2.1.4",
      "model_name": "ButtonStyleModel",
      "state": {
       "_model_module_version": "~2.1.4",
       "_view_module_version": "~2.1.4"
      }
     },
     "cd7fc3aaacaa453eb343877c3ac9821d": {
      "model_module": "jupyter-js-widgets",
      "model_module_version": "~2.1.4",
      "model_name": "LayoutModel",
      "state": {
       "_model_module_version": "~2.1.4",
       "_view_module_version": "~2.1.4"
      }
     },
     "cdced345bd3d458ca30103f359eecf22": {
      "model_module": "jupyter-js-widgets",
      "model_module_version": "~2.1.4",
      "model_name": "ButtonStyleModel",
      "state": {
       "_model_module_version": "~2.1.4",
       "_view_module_version": "~2.1.4"
      }
     },
     "cdeda34eeabf45639be1c2ea431e9993": {
      "model_module": "jupyter-js-widgets",
      "model_module_version": "~2.1.4",
      "model_name": "LayoutModel",
      "state": {
       "_model_module_version": "~2.1.4",
       "_view_module_version": "~2.1.4"
      }
     },
     "cdfd9f3016bf4064bf11b264891dfc40": {
      "model_module": "jupyter-js-widgets",
      "model_module_version": "~2.1.4",
      "model_name": "ButtonStyleModel",
      "state": {
       "_model_module_version": "~2.1.4",
       "_view_module_version": "~2.1.4"
      }
     },
     "ce4bd490cb8a4ca4ba383672dd4bd8c9": {
      "model_module": "jupyter-js-widgets",
      "model_module_version": "~2.1.4",
      "model_name": "HTMLModel",
      "state": {
       "_model_module_version": "~2.1.4",
       "_view_module_version": "~2.1.4",
       "layout": "IPY_MODEL_7faa25363d4d40cfa73d1cc81a82d2c4",
       "value": "\n<svg width=\"0\" height=\"0\">\n   <defs>\n    <clipPath id=\"mask\">\n      <rect x=20 y=20 width=\"50%\" height=100>\n    </clipPath>\n  </defs>\n</svg>\n<style>\n.bp {\n    width: 100%;\n    -webkit-clip-path: circle(50px);\n    clip-path: url(#mask);\n}\n</style>\n<img src=\"bp_solution.png\" class=bp>\n"
      }
     },
     "ce553b44522f436d92ce3b34dc50e1ac": {
      "model_module": "jupyter-js-widgets",
      "model_module_version": "~2.1.4",
      "model_name": "ButtonStyleModel",
      "state": {
       "_model_module_version": "~2.1.4",
       "_view_module_version": "~2.1.4"
      }
     },
     "ce780d0ffb364a2095183c79b7de9963": {
      "model_module": "jupyter-js-widgets",
      "model_module_version": "~2.1.4",
      "model_name": "ButtonModel",
      "state": {
       "_model_module_version": "~2.1.4",
       "_view_module_version": "~2.1.4",
       "description": "Next",
       "layout": "IPY_MODEL_7174d90688de4a45b10db16cd653ca1d",
       "style": "IPY_MODEL_6fb99e53427f412086731b870bb02071"
      }
     },
     "ceb60eb0ecb542739efd844e6a1ee3f0": {
      "model_module": "jupyter-js-widgets",
      "model_module_version": "~2.1.4",
      "model_name": "ButtonModel",
      "state": {
       "_model_module_version": "~2.1.4",
       "_view_module_version": "~2.1.4",
       "description": "Previous",
       "icon": "check",
       "layout": "IPY_MODEL_8c5852f0aaf34697bb495592d54c052e",
       "style": "IPY_MODEL_33f275def8ed485f9f5e931e079c9c26",
       "tooltip": "Click me"
      }
     },
     "cf2f73a24b4041eba571f342f5559672": {
      "model_module": "jupyter-js-widgets",
      "model_module_version": "~2.1.4",
      "model_name": "LayoutModel",
      "state": {
       "_model_module_version": "~2.1.4",
       "_view_module_version": "~2.1.4"
      }
     },
     "cf54091db8f3443093afcbe5b18b355b": {
      "model_module": "jupyter-js-widgets",
      "model_module_version": "~2.1.4",
      "model_name": "ButtonModel",
      "state": {
       "_model_module_version": "~2.1.4",
       "_view_module_version": "~2.1.4",
       "description": "Next",
       "layout": "IPY_MODEL_7cc8242ec12f4b40a28a1f0d01c3c561",
       "style": "IPY_MODEL_1fb33ea245af491b8995d97452ecf873"
      }
     },
     "cfa78687544b4a4bb3ee1edfda310062": {
      "model_module": "jupyter-js-widgets",
      "model_module_version": "~2.1.4",
      "model_name": "LayoutModel",
      "state": {
       "_model_module_version": "~2.1.4",
       "_view_module_version": "~2.1.4"
      }
     },
     "d01e516ba7e54d2ea1985d4d2ac9dec5": {
      "model_module": "jupyter-js-widgets",
      "model_module_version": "~2.1.4",
      "model_name": "LayoutModel",
      "state": {
       "_model_module_version": "~2.1.4",
       "_view_module_version": "~2.1.4"
      }
     },
     "d02ce6dfacac45f4b8a67f0aaf99e5ab": {
      "model_module": "jupyter-js-widgets",
      "model_module_version": "~2.1.4",
      "model_name": "ButtonModel",
      "state": {
       "_model_module_version": "~2.1.4",
       "_view_module_version": "~2.1.4",
       "description": "Previous",
       "layout": "IPY_MODEL_6603ca456a0b433e942bac60e70ddca0",
       "style": "IPY_MODEL_e471b2ba60b54424934852183a8dc283"
      }
     },
     "d07b2d5445ad417a81e81587ead768e2": {
      "model_module": "jupyter-js-widgets",
      "model_module_version": "~2.1.4",
      "model_name": "LayoutModel",
      "state": {
       "_model_module_version": "~2.1.4",
       "_view_module_version": "~2.1.4"
      }
     },
     "d07d80465cb4486b8b15b155d30939fc": {
      "model_module": "jupyter-js-widgets",
      "model_module_version": "~2.1.4",
      "model_name": "ButtonStyleModel",
      "state": {
       "_model_module_version": "~2.1.4",
       "_view_module_version": "~2.1.4"
      }
     },
     "d0983802e8f44158bfa59b78a7e9d225": {
      "model_module": "jupyter-js-widgets",
      "model_module_version": "~2.1.4",
      "model_name": "LayoutModel",
      "state": {
       "_model_module_version": "~2.1.4",
       "_view_module_version": "~2.1.4"
      }
     },
     "d0994de1e732420987f8bbb695b4a2e6": {
      "model_module": "jupyter-js-widgets",
      "model_module_version": "~2.1.4",
      "model_name": "LayoutModel",
      "state": {
       "_model_module_version": "~2.1.4",
       "_view_module_version": "~2.1.4"
      }
     },
     "d0ba0f9d34a3438f9165001817b737de": {
      "model_module": "jupyter-js-widgets",
      "model_module_version": "~2.1.4",
      "model_name": "LayoutModel",
      "state": {
       "_model_module_version": "~2.1.4",
       "_view_module_version": "~2.1.4"
      }
     },
     "d0bbfb347cfe463abeef9894252e0354": {
      "model_module": "jupyter-js-widgets",
      "model_module_version": "~2.1.4",
      "model_name": "HTMLModel",
      "state": {
       "_model_module_version": "~2.1.4",
       "_view_module_version": "~2.1.4",
       "layout": "IPY_MODEL_14299326bf35492cad42a3af32713021",
       "value": "<img src='mlp.png' />"
      }
     },
     "d0c0783dfed74b38a9fd19179c13020f": {
      "model_module": "jupyter-js-widgets",
      "model_module_version": "~2.1.4",
      "model_name": "LayoutModel",
      "state": {
       "_model_module_version": "~2.1.4",
       "_view_module_version": "~2.1.4"
      }
     },
     "d1010479c6054e3787b635b698857aa3": {
      "model_module": "jupyter-js-widgets",
      "model_module_version": "~2.1.4",
      "model_name": "ButtonStyleModel",
      "state": {
       "_model_module_version": "~2.1.4",
       "_view_module_version": "~2.1.4"
      }
     },
     "d124784c3d574afbabfd1d5982d3c2ba": {
      "model_module": "jupyter-js-widgets",
      "model_module_version": "~2.1.4",
      "model_name": "ButtonModel",
      "state": {
       "_model_module_version": "~2.1.4",
       "_view_module_version": "~2.1.4",
       "description": "Next",
       "layout": "IPY_MODEL_7570915855da455881693f7a19413e59",
       "style": "IPY_MODEL_18ce1b156d85468c869a5bda9d94dbc1"
      }
     },
     "d1635b23c4ae46aa9c38f398e84a8dae": {
      "model_module": "jupyter-js-widgets",
      "model_module_version": "~2.1.4",
      "model_name": "ButtonStyleModel",
      "state": {
       "_model_module_version": "~2.1.4",
       "_view_module_version": "~2.1.4"
      }
     },
     "d1845b34c1bb4cf885bc4d6ae8049e70": {
      "model_module": "jupyter-js-widgets",
      "model_module_version": "~2.1.4",
      "model_name": "LayoutModel",
      "state": {
       "_model_module_version": "~2.1.4",
       "_view_module_version": "~2.1.4"
      }
     },
     "d1b059c9e1c5463786207a19709b6d17": {
      "model_module": "jupyter-js-widgets",
      "model_module_version": "~2.1.4",
      "model_name": "LayoutModel",
      "state": {
       "_model_module_version": "~2.1.4",
       "_view_module_version": "~2.1.4"
      }
     },
     "d1c75770bb7d401db4073a8f4681e4d3": {
      "model_module": "jupyter-js-widgets",
      "model_module_version": "~2.1.4",
      "model_name": "ButtonModel",
      "state": {
       "_model_module_version": "~2.1.4",
       "_view_module_version": "~2.1.4",
       "description": "Previous",
       "icon": "check",
       "layout": "IPY_MODEL_3f12aa87aef646339bec67c663a464d7",
       "style": "IPY_MODEL_87455873dfee48c48d547709b2d1f7c0",
       "tooltip": "Click me"
      }
     },
     "d1dc58748146460da5bbe9ffe8f638f1": {
      "model_module": "jupyter-js-widgets",
      "model_module_version": "~2.1.4",
      "model_name": "ButtonStyleModel",
      "state": {
       "_model_module_version": "~2.1.4",
       "_view_module_version": "~2.1.4"
      }
     },
     "d1fb8c5318cf4fa0b7ac335177fd449b": {
      "model_module": "jupyter-js-widgets",
      "model_module_version": "~2.1.4",
      "model_name": "LayoutModel",
      "state": {
       "_model_module_version": "~2.1.4",
       "_view_module_version": "~2.1.4"
      }
     },
     "d20fe90043b4431a8eeff479593a4555": {
      "model_module": "jupyter-js-widgets",
      "model_module_version": "~2.1.4",
      "model_name": "LayoutModel",
      "state": {
       "_model_module_version": "~2.1.4",
       "_view_module_version": "~2.1.4"
      }
     },
     "d21ecbd8c1684855ad324b1ace457278": {
      "model_module": "jupyter-js-widgets",
      "model_module_version": "~2.1.4",
      "model_name": "LayoutModel",
      "state": {
       "_model_module_version": "~2.1.4",
       "_view_module_version": "~2.1.4"
      }
     },
     "d222eeb584d849aebfb0f08a09199c47": {
      "model_module": "jupyter-js-widgets",
      "model_module_version": "~2.1.4",
      "model_name": "ButtonModel",
      "state": {
       "_model_module_version": "~2.1.4",
       "_view_module_version": "~2.1.4",
       "description": "Previous",
       "icon": "check",
       "layout": "IPY_MODEL_62c8eb437704480b89e16e66220081f6",
       "style": "IPY_MODEL_4ea037b465a24ffc91979e44a9c679a1",
       "tooltip": "Click me"
      }
     },
     "d22b1677cb6c4d649e72541e14bfe5d7": {
      "model_module": "jupyter-js-widgets",
      "model_module_version": "~2.1.4",
      "model_name": "HTMLModel",
      "state": {
       "_model_module_version": "~2.1.4",
       "_view_module_version": "~2.1.4",
       "layout": "IPY_MODEL_1ddc3e4c8538435b9897204b1467a747",
       "value": "<img src='mlp.png'/>"
      }
     },
     "d27810f7df044e8fbb8184efb590fb28": {
      "model_module": "jupyter-js-widgets",
      "model_module_version": "~2.1.4",
      "model_name": "LayoutModel",
      "state": {
       "_model_module_version": "~2.1.4",
       "_view_module_version": "~2.1.4"
      }
     },
     "d29344c0660e4abd95a7bb7d3f96c0d7": {
      "model_module": "jupyter-js-widgets",
      "model_module_version": "~2.1.4",
      "model_name": "LayoutModel",
      "state": {
       "_model_module_version": "~2.1.4",
       "_view_module_version": "~2.1.4"
      }
     },
     "d2b321b713cd4635ab321795d663ebda": {
      "model_module": "jupyter-js-widgets",
      "model_module_version": "~2.1.4",
      "model_name": "ButtonModel",
      "state": {
       "_model_module_version": "~2.1.4",
       "_view_module_version": "~2.1.4",
       "description": "Previous",
       "layout": "IPY_MODEL_4b3af595cf134cd4ac98c57ea861b138",
       "style": "IPY_MODEL_6a92b3bc78c84fe28197196a574c51af"
      }
     },
     "d2c2cf35cc594cc58dbdb3e2ad6c82a8": {
      "model_module": "jupyter-js-widgets",
      "model_module_version": "~2.1.4",
      "model_name": "LayoutModel",
      "state": {
       "_model_module_version": "~2.1.4",
       "_view_module_version": "~2.1.4"
      }
     },
     "d2c74979f7ce453aa9494b4dc376a4ba": {
      "model_module": "jupyter-js-widgets",
      "model_module_version": "~2.1.4",
      "model_name": "ButtonStyleModel",
      "state": {
       "_model_module_version": "~2.1.4",
       "_view_module_version": "~2.1.4"
      }
     },
     "d2ce4fd7d5254a0db20cbcf1b9b1f761": {
      "model_module": "jupyter-js-widgets",
      "model_module_version": "~2.1.4",
      "model_name": "LayoutModel",
      "state": {
       "_model_module_version": "~2.1.4",
       "_view_module_version": "~2.1.4"
      }
     },
     "d2d70d11e7ea476fa4e1c30a45afaabb": {
      "model_module": "jupyter-js-widgets",
      "model_module_version": "~2.1.4",
      "model_name": "ButtonModel",
      "state": {
       "_model_module_version": "~2.1.4",
       "_view_module_version": "~2.1.4",
       "description": "Next",
       "icon": "check",
       "layout": "IPY_MODEL_66378d58c1e9402389011b8ccde62ff2",
       "style": "IPY_MODEL_fadb9022eaae4186ad10ea6b2dce2108",
       "tooltip": "Click me"
      }
     },
     "d2e231f7782742cba8587cdb0e759cfd": {
      "model_module": "jupyter-js-widgets",
      "model_module_version": "~2.1.4",
      "model_name": "ButtonModel",
      "state": {
       "_model_module_version": "~2.1.4",
       "_view_module_version": "~2.1.4",
       "description": "Next",
       "icon": "check",
       "layout": "IPY_MODEL_7460db2b61164683a4ee2dd00dc0f2ef",
       "style": "IPY_MODEL_451ce398415944ffafaf4203e0fa9a40",
       "tooltip": "Click me"
      }
     },
     "d33fb786cba2461aad04198fe31ebe5c": {
      "model_module": "jupyter-js-widgets",
      "model_module_version": "~2.1.4",
      "model_name": "LayoutModel",
      "state": {
       "_model_module_version": "~2.1.4",
       "_view_module_version": "~2.1.4"
      }
     },
     "d3a9cb75150946e3b18c6dc1677eecd2": {
      "model_module": "jupyter-js-widgets",
      "model_module_version": "~2.1.4",
      "model_name": "HTMLModel",
      "state": {
       "_model_module_version": "~2.1.4",
       "_view_module_version": "~2.1.4",
       "layout": "IPY_MODEL_3edf295c188d4e92a8712ae5680ffb98",
       "value": "\n<svg width=\"100%\" height=0><defs><clipPath id=\"mask\">\n<rect x=0 y=0 width='28%' height='500' /><rect x=0 y=20 width='50%' height='390' /><rect x=0 y=0 width='100%' height='50' />\n</clipPath></defs></svg>\n<style>\n.bp {\n    width: 100%;\n    -webkit-clip-path: circle(#mask);\n    clip-path: url(#mask);\n}\n</style>\n<img src=\"bp_solution.png\" class=bp>\n"
      }
     },
     "d46ff897cccb442d8b549a272dcb9e3e": {
      "model_module": "jupyter-js-widgets",
      "model_module_version": "~2.1.4",
      "model_name": "ButtonStyleModel",
      "state": {
       "_model_module_version": "~2.1.4",
       "_view_module_version": "~2.1.4"
      }
     },
     "d4736fb948f04c638f854a0ae8061a72": {
      "model_module": "jupyter-js-widgets",
      "model_module_version": "~2.1.4",
      "model_name": "HTMLModel",
      "state": {
       "_model_module_version": "~2.1.4",
       "_view_module_version": "~2.1.4",
       "layout": "IPY_MODEL_721ea9edc35c4202bd121b0c8a1684d4",
       "value": "\n<svg width=\"100%\" height=0><defs><clipPath id=\"mask\">\n<rect x=0 y=0 width='28%' height='350'><rect x=0 y=0 width='100%' height='50'>\n</clipPath></defs></svg>\n<style>\n.bp {\n    width: 100%;\n    -webkit-clip-path: circle(#mask);\n    clip-path: url(#mask);\n}\n</style>\n<img src=\"bp_solution.png\" class=bp>\n"
      }
     },
     "d494f89d777f48fb9b9212e6ce37ed28": {
      "model_module": "jupyter-js-widgets",
      "model_module_version": "~2.1.4",
      "model_name": "HTMLModel",
      "state": {
       "_model_module_version": "~2.1.4",
       "_view_module_version": "~2.1.4",
       "layout": "IPY_MODEL_bfe68e692f254e7d9f58c9a34a29b530",
       "value": "\n<style>\nimg {\n    width: 100%\n}\n</style>\n<img src=\"bp_solution.png\">\n"
      }
     },
     "d4a9aa6234cc440cb212ac533087fdba": {
      "model_module": "jupyter-js-widgets",
      "model_module_version": "~2.1.4",
      "model_name": "LayoutModel",
      "state": {
       "_model_module_version": "~2.1.4",
       "_view_module_version": "~2.1.4"
      }
     },
     "d4b4ab9fdf714710b5c23a052789be91": {
      "model_module": "jupyter-js-widgets",
      "model_module_version": "~2.1.4",
      "model_name": "ButtonStyleModel",
      "state": {
       "_model_module_version": "~2.1.4",
       "_view_module_version": "~2.1.4"
      }
     },
     "d4bd91d9eabe4fb2817b291d38613da1": {
      "model_module": "jupyter-js-widgets",
      "model_module_version": "~2.1.4",
      "model_name": "LayoutModel",
      "state": {
       "_model_module_version": "~2.1.4",
       "_view_module_version": "~2.1.4"
      }
     },
     "d4f67421203543f0bd4da149f74142d0": {
      "model_module": "jupyter-js-widgets",
      "model_module_version": "~2.1.4",
      "model_name": "HTMLModel",
      "state": {
       "_model_module_version": "~2.1.4",
       "_view_module_version": "~2.1.4",
       "layout": "IPY_MODEL_c05712ebcba3466bba444bb259cc46f7",
       "value": "\n<svg width=100% height=100%>\n   <defs>\n    <clipPath id=\"mask\">\n      <rect x=0 y=0 width=\"100%\" height=\"100%\">\n    </clipPath>\n  </defs>\n</svg>\n<style>\n\n.bp {\n    width: 100%;\n    heigth: 100%;\n    -webkit-clip-path: circle(#mask);\n    clip-path: url(#mask);\n}\n</style>\n<img src=\"bp_solution.png\" class=bp>\n"
      }
     },
     "d50fdba971f74bd28a7fbe6c5a0721c2": {
      "model_module": "jupyter-js-widgets",
      "model_module_version": "~2.1.4",
      "model_name": "LayoutModel",
      "state": {
       "_model_module_version": "~2.1.4",
       "_view_module_version": "~2.1.4"
      }
     },
     "d561274ef0a94436abc712bbe98ff105": {
      "model_module": "jupyter-js-widgets",
      "model_module_version": "~2.1.4",
      "model_name": "LayoutModel",
      "state": {
       "_model_module_version": "~2.1.4",
       "_view_module_version": "~2.1.4"
      }
     },
     "d5746b95fc1747b3b81894e382a5101c": {
      "model_module": "jupyter-js-widgets",
      "model_module_version": "~2.1.4",
      "model_name": "LayoutModel",
      "state": {
       "_model_module_version": "~2.1.4",
       "_view_module_version": "~2.1.4"
      }
     },
     "d58f72ef07c24881a7368ae06ec68b50": {
      "model_module": "jupyter-js-widgets",
      "model_module_version": "~2.1.4",
      "model_name": "LayoutModel",
      "state": {
       "_model_module_version": "~2.1.4",
       "_view_module_version": "~2.1.4"
      }
     },
     "d5ac3c7f4bba43e096c5a1146b14d034": {
      "model_module": "jupyter-js-widgets",
      "model_module_version": "~2.1.4",
      "model_name": "LayoutModel",
      "state": {
       "_model_module_version": "~2.1.4",
       "_view_module_version": "~2.1.4",
       "align_items": "stretch",
       "border": "solid",
       "display": "flex",
       "flex_flow": "row",
       "width": "50%"
      }
     },
     "d5d4389cbb79446ab5ee33d8008696fd": {
      "model_module": "jupyter-js-widgets",
      "model_module_version": "~2.1.4",
      "model_name": "LayoutModel",
      "state": {
       "_model_module_version": "~2.1.4",
       "_view_module_version": "~2.1.4"
      }
     },
     "d61edf68587a46a59aa23f583d291f09": {
      "model_module": "jupyter-js-widgets",
      "model_module_version": "~2.1.4",
      "model_name": "HTMLModel",
      "state": {
       "_model_module_version": "~2.1.4",
       "_view_module_version": "~2.1.4",
       "layout": "IPY_MODEL_57edbd125de44082bb1e6e8a329d4aa4",
       "value": "\n<svg width=\"100%\" height=0>\n   <defs>\n    <clipPath id=\"mask\">\n      <rect x=0 y=0 width=\"50%\" height=\"700\">\n    </clipPath>\n  </defs>\n</svg>\n<style>\n.bp {\n    width: 100%;\n    -webkit-clip-path: circle(#mask);\n    clip-path: url(#mask);\n}\n</style>\n<img src=\"bp_solution.png\" class=bp>\n"
      }
     },
     "d632d1888b5947e898bf12c729596a71": {
      "model_module": "jupyter-js-widgets",
      "model_module_version": "~2.1.4",
      "model_name": "ButtonModel",
      "state": {
       "_model_module_version": "~2.1.4",
       "_view_module_version": "~2.1.4",
       "description": "Previous",
       "layout": "IPY_MODEL_24a711da8a9744aaab34b2fa76756eec",
       "style": "IPY_MODEL_a497f7e9621047bf938a634456db63cd"
      }
     },
     "d646b811d1d74b05a4edd6bab67090ec": {
      "model_module": "jupyter-js-widgets",
      "model_module_version": "~2.1.4",
      "model_name": "ButtonStyleModel",
      "state": {
       "_model_module_version": "~2.1.4",
       "_view_module_version": "~2.1.4"
      }
     },
     "d65ab3de63864aa7b1991c1ecfa43fd4": {
      "model_module": "jupyter-js-widgets",
      "model_module_version": "~2.1.4",
      "model_name": "BoxModel",
      "state": {
       "_model_module_version": "~2.1.4",
       "_view_module_version": "~2.1.4",
       "children": [
        "IPY_MODEL_86030d6eca424b04a74666205b6a4064",
        "IPY_MODEL_fa96502cdb8f4228bc7e102fa552579d"
       ],
       "layout": "IPY_MODEL_b0543e812e604fb998b0923b36f80650"
      }
     },
     "d692d9d275f84a0186e0e2d13ef882fb": {
      "model_module": "jupyter-js-widgets",
      "model_module_version": "~2.1.4",
      "model_name": "HTMLModel",
      "state": {
       "_model_module_version": "~2.1.4",
       "_view_module_version": "~2.1.4",
       "layout": "IPY_MODEL_23eba457bf3046098f45621f65742f33",
       "value": "\n<svg width=100% height=100%>\n   <defs>\n    <clipPath id=\"mask\">\n      <rect x=20 y=20 width=\"100%\" height=100%>\n    </clipPath>\n  </defs>\n</svg>\n<style>\n\n.bp {\n    width: 100%;\n    -webkit-clip-path: circle(#mask);\n    clip-path: url(#mask);\n}\n</style>\n<img src=\"bp_solution.png\" class=bp>\n"
      }
     },
     "d6b762f1ab5e46b3abd68a5d5d8fbd59": {
      "model_module": "jupyter-js-widgets",
      "model_module_version": "~2.1.4",
      "model_name": "ButtonStyleModel",
      "state": {
       "_model_module_version": "~2.1.4",
       "_view_module_version": "~2.1.4"
      }
     },
     "d6cd028eddda4771b4d10fe21bbf92eb": {
      "model_module": "jupyter-js-widgets",
      "model_module_version": "~2.1.4",
      "model_name": "ButtonStyleModel",
      "state": {
       "_model_module_version": "~2.1.4",
       "_view_module_version": "~2.1.4"
      }
     },
     "d6d4a11bbb7e40f78dba7c7be78dcefe": {
      "model_module": "jupyter-js-widgets",
      "model_module_version": "~2.1.4",
      "model_name": "HTMLModel",
      "state": {
       "_model_module_version": "~2.1.4",
       "_view_module_version": "~2.1.4",
       "layout": "IPY_MODEL_c41349de4e344efcb98bc48729833600",
       "value": "\n<svg width=\"100%\" height=0><defs><clipPath id=\"mask\">\n<rect x=0 y=0 width='28%' height='500' /><rect x=0 y=0 width='60%' height='450' /><rect x=0 y=0 width='100%' height='50' />\n</clipPath></defs></svg>\n<style>\n.bp {\n    width: 100%;\n    -webkit-clip-path: circle(#mask);\n    clip-path: url(#mask);\n}\n</style>\n<img src=\"bp_solution.png\" class=bp>\n"
      }
     },
     "d6f0978d3d61446088c96c916b8850e3": {
      "model_module": "jupyter-js-widgets",
      "model_module_version": "~2.1.4",
      "model_name": "ButtonModel",
      "state": {
       "_model_module_version": "~2.1.4",
       "_view_module_version": "~2.1.4",
       "description": "Previous",
       "icon": "check",
       "layout": "IPY_MODEL_a70082bbaec64521a1cd9b747e576b25",
       "style": "IPY_MODEL_edfdfa24cbd04181ba2859ea54cd0c89",
       "tooltip": "Click me"
      }
     },
     "d6f200da54544a2b8fedbec994c4a90b": {
      "model_module": "jupyter-js-widgets",
      "model_module_version": "~2.1.4",
      "model_name": "ButtonModel",
      "state": {
       "_model_module_version": "~2.1.4",
       "_view_module_version": "~2.1.4",
       "description": "Previous",
       "icon": "check",
       "layout": "IPY_MODEL_126b6e602d824975bcc6c6f32aa384f4",
       "style": "IPY_MODEL_40f55d01683842e9b979e8372945ea39",
       "tooltip": "Click me"
      }
     },
     "d727d3978a0b4d4386733675db2a8d0e": {
      "model_module": "jupyter-js-widgets",
      "model_module_version": "~2.1.4",
      "model_name": "ButtonStyleModel",
      "state": {
       "_model_module_version": "~2.1.4",
       "_view_module_version": "~2.1.4"
      }
     },
     "d73a017829544ef685e947e5d8b56dbd": {
      "model_module": "jupyter-js-widgets",
      "model_module_version": "~2.1.4",
      "model_name": "ButtonModel",
      "state": {
       "_model_module_version": "~2.1.4",
       "_view_module_version": "~2.1.4",
       "description": "Next",
       "layout": "IPY_MODEL_fb2b354d908946a782bfe2ef3355c803",
       "style": "IPY_MODEL_a8b34679bb0d47fd83eec94b901c6765"
      }
     },
     "d74d4e4fbb9341c4964735157ec223e5": {
      "model_module": "jupyter-js-widgets",
      "model_module_version": "~2.1.4",
      "model_name": "LayoutModel",
      "state": {
       "_model_module_version": "~2.1.4",
       "_view_module_version": "~2.1.4"
      }
     },
     "d775128d091642d0a23757574b8e0616": {
      "model_module": "jupyter-js-widgets",
      "model_module_version": "~2.1.4",
      "model_name": "ButtonModel",
      "state": {
       "_model_module_version": "~2.1.4",
       "_view_module_version": "~2.1.4",
       "description": "Previous",
       "layout": "IPY_MODEL_a451f5903cbd4a8e937679bb4d113e50",
       "style": "IPY_MODEL_8ec77cb072f247c0b1e5bfdefcd982a6"
      }
     },
     "d7996e2cc89d4e39aa0aeeefa0ba97fe": {
      "model_module": "jupyter-js-widgets",
      "model_module_version": "~2.1.4",
      "model_name": "HTMLModel",
      "state": {
       "_model_module_version": "~2.1.4",
       "_view_module_version": "~2.1.4",
       "layout": "IPY_MODEL_5ce340f34ed44178ae2acc4986c6b789",
       "value": "\n<svg width=\"100%\" height=0><defs><clipPath id=\"mask\">\n<rect x=0 y=0 width='28%' height='500' /><rect x=0 y=0 width='72%' height='310' /><rect x='62%' y=0 width='100%' height='240' /><rect x='62%' y=0 width='100%' height='330' /><rect x=0 y=0 width='100%' height='50' />\n</clipPath></defs></svg>\n<style>\n.bp {\n    width: 100%;\n    -webkit-clip-path: circle(#mask);\n    clip-path: url(#mask);\n}\n</style>\n<img src=\"bp_solution.png\" class=bp>\n"
      }
     },
     "d7a3b93ddaae4044ac1950b3ce08498e": {
      "model_module": "jupyter-js-widgets",
      "model_module_version": "~2.1.4",
      "model_name": "ButtonStyleModel",
      "state": {
       "_model_module_version": "~2.1.4",
       "_view_module_version": "~2.1.4"
      }
     },
     "d7c9e6b2f98b4306aa8186ac8a8906bf": {
      "model_module": "jupyter-js-widgets",
      "model_module_version": "~2.1.4",
      "model_name": "SliderStyleModel",
      "state": {
       "_model_module_version": "~2.1.4",
       "_view_module_version": "~2.1.4"
      }
     },
     "d7df3aa7ecce4beaac32e82f815c3915": {
      "model_module": "jupyter-js-widgets",
      "model_module_version": "~2.1.4",
      "model_name": "LayoutModel",
      "state": {
       "_model_module_version": "~2.1.4",
       "_view_module_version": "~2.1.4"
      }
     },
     "d83dfe3a12ef49a6b295369bd848daea": {
      "model_module": "jupyter-js-widgets",
      "model_module_version": "~2.1.4",
      "model_name": "ButtonModel",
      "state": {
       "_model_module_version": "~2.1.4",
       "_view_module_version": "~2.1.4",
       "description": "Next",
       "icon": "check",
       "layout": "IPY_MODEL_e6c78536cec54f9482e8d42265cdafec",
       "style": "IPY_MODEL_45e09e6e708b404292198f7cac5afed6",
       "tooltip": "Click me"
      }
     },
     "d83e70988aca4b7abd6eb72ed8b94441": {
      "model_module": "jupyter-js-widgets",
      "model_module_version": "~2.1.4",
      "model_name": "LayoutModel",
      "state": {
       "_model_module_version": "~2.1.4",
       "_view_module_version": "~2.1.4"
      }
     },
     "d8625f4fc98444c985895f7d171a21c5": {
      "model_module": "jupyter-js-widgets",
      "model_module_version": "~2.1.4",
      "model_name": "ButtonModel",
      "state": {
       "_model_module_version": "~2.1.4",
       "_view_module_version": "~2.1.4",
       "description": "Previous",
       "icon": "check",
       "layout": "IPY_MODEL_671b2bdb102a48deb324b8f4b737bd8f",
       "style": "IPY_MODEL_11da0dcaa3a34ac683b4288dfc2462cb",
       "tooltip": "Click me"
      }
     },
     "d874814dcd4b427c82250b1af431373a": {
      "model_module": "jupyter-js-widgets",
      "model_module_version": "~2.1.4",
      "model_name": "LayoutModel",
      "state": {
       "_model_module_version": "~2.1.4",
       "_view_module_version": "~2.1.4"
      }
     },
     "d880e0c2f0684fac8f53c3679a7f51d7": {
      "model_module": "jupyter-js-widgets",
      "model_module_version": "~2.1.4",
      "model_name": "ButtonStyleModel",
      "state": {
       "_model_module_version": "~2.1.4",
       "_view_module_version": "~2.1.4"
      }
     },
     "d88178cc8c6b4ef7ba6d2b23176baa9e": {
      "model_module": "jupyter-js-widgets",
      "model_module_version": "~2.1.4",
      "model_name": "ButtonModel",
      "state": {
       "_model_module_version": "~2.1.4",
       "_view_module_version": "~2.1.4",
       "description": "Next",
       "icon": "check",
       "layout": "IPY_MODEL_f00f71d4d6db493cb2b9047f987837d9",
       "style": "IPY_MODEL_fea63ed8b798427cb9f101bdf664e5bd",
       "tooltip": "Click me"
      }
     },
     "d8905ef5ec574e8e9ae1ae9ac907f579": {
      "model_module": "jupyter-js-widgets",
      "model_module_version": "~2.1.4",
      "model_name": "LayoutModel",
      "state": {
       "_model_module_version": "~2.1.4",
       "_view_module_version": "~2.1.4"
      }
     },
     "d8a12c714fb94317a38eff7ee289ca71": {
      "model_module": "jupyter-js-widgets",
      "model_module_version": "~2.1.4",
      "model_name": "ButtonModel",
      "state": {
       "_model_module_version": "~2.1.4",
       "_view_module_version": "~2.1.4",
       "description": "Next",
       "icon": "check",
       "layout": "IPY_MODEL_b21825df26d94817b1c372be0adabacc",
       "style": "IPY_MODEL_a0ad20bfe4be4e91a33e44c1e436a67c",
       "tooltip": "Click me"
      }
     },
     "d8c5f28f23fe4c00b1f139f981cb1931": {
      "model_module": "jupyter-js-widgets",
      "model_module_version": "~2.1.4",
      "model_name": "LayoutModel",
      "state": {
       "_model_module_version": "~2.1.4",
       "_view_module_version": "~2.1.4"
      }
     },
     "d8e8980a00da4ff6b240039ba5215a78": {
      "model_module": "jupyter-js-widgets",
      "model_module_version": "~2.1.4",
      "model_name": "LayoutModel",
      "state": {
       "_model_module_version": "~2.1.4",
       "_view_module_version": "~2.1.4"
      }
     },
     "d8efd3c512c54136b27d2c911722871d": {
      "model_module": "jupyter-js-widgets",
      "model_module_version": "~2.1.4",
      "model_name": "ButtonModel",
      "state": {
       "_model_module_version": "~2.1.4",
       "_view_module_version": "~2.1.4",
       "description": "Previous",
       "icon": "check",
       "layout": "IPY_MODEL_97098f88d88c4e5794486139c0dcef6a",
       "style": "IPY_MODEL_f3072c59d77c45abb51ec873eaf9cc43",
       "tooltip": "Click me"
      }
     },
     "d910345fff944e1488c4e64103add078": {
      "model_module": "jupyter-js-widgets",
      "model_module_version": "~2.1.4",
      "model_name": "LayoutModel",
      "state": {
       "_model_module_version": "~2.1.4",
       "_view_module_version": "~2.1.4"
      }
     },
     "d91f09f356664ccd9f448094749d2fee": {
      "model_module": "jupyter-js-widgets",
      "model_module_version": "~2.1.4",
      "model_name": "HTMLModel",
      "state": {
       "_model_module_version": "~2.1.4",
       "_view_module_version": "~2.1.4",
       "layout": "IPY_MODEL_1fd5bb2b8a334074b31499af33417b46",
       "value": "\n<style>\nimg {\n    width: 10%\n}\n</style>\n<img src=\"bp_solution.png\">\n"
      }
     },
     "d94080e34f6440f69ed8cbf004f2249d": {
      "model_module": "jupyter-js-widgets",
      "model_module_version": "~2.1.4",
      "model_name": "HTMLModel",
      "state": {
       "_model_module_version": "~2.1.4",
       "_view_module_version": "~2.1.4",
       "layout": "IPY_MODEL_4afe61fa03b14fd4b33da1ec60f7ab91",
       "value": "\n<svg width=\"100%\">\n   <defs>\n    <clipPath id=\"mask\">\n      <rect x=0 y=0 width=\"50%\" height=\"500\">\n    </clipPath>\n  </defs>\n</svg>\n<style>\n\n.bp {\n    y: -100px;\n    width: 100%;\n    -webkit-clip-path: circle(#mask);\n    clip-path: url(#mask);\n}\n</style>\n<img src=\"bp_solution.png\" class=bp>\n"
      }
     },
     "d945088220cb4545818f5cbd9450f446": {
      "model_module": "jupyter-js-widgets",
      "model_module_version": "~2.1.4",
      "model_name": "LayoutModel",
      "state": {
       "_model_module_version": "~2.1.4",
       "_view_module_version": "~2.1.4"
      }
     },
     "d98b6a1c92164ecdad06a74848f9d3da": {
      "model_module": "jupyter-js-widgets",
      "model_module_version": "~2.1.4",
      "model_name": "LayoutModel",
      "state": {
       "_model_module_version": "~2.1.4",
       "_view_module_version": "~2.1.4"
      }
     },
     "d9af86aaf54b4429bc49ac35ff2dbb1c": {
      "model_module": "jupyter-js-widgets",
      "model_module_version": "~2.1.4",
      "model_name": "LayoutModel",
      "state": {
       "_model_module_version": "~2.1.4",
       "_view_module_version": "~2.1.4"
      }
     },
     "d9e23716e8644e3583e1b990e1a70530": {
      "model_module": "jupyter-js-widgets",
      "model_module_version": "~2.1.4",
      "model_name": "ButtonModel",
      "state": {
       "_model_module_version": "~2.1.4",
       "_view_module_version": "~2.1.4",
       "description": "Next",
       "icon": "check",
       "layout": "IPY_MODEL_a10495b8321e4e79bcf4c3533481b05a",
       "style": "IPY_MODEL_744061d841de4dda9e0bcebc29e1e68d",
       "tooltip": "Click me"
      }
     },
     "d9e2ecd6527f46f894430f12730bdc14": {
      "model_module": "jupyter-js-widgets",
      "model_module_version": "~2.1.4",
      "model_name": "ButtonModel",
      "state": {
       "_model_module_version": "~2.1.4",
       "_view_module_version": "~2.1.4",
       "description": "Next",
       "icon": "check",
       "layout": "IPY_MODEL_1de06bb4ee10447d97ea5b0ba436b115",
       "style": "IPY_MODEL_0ce40abdaf02437b86fe9f32006471c5",
       "tooltip": "Click me"
      }
     },
     "d9e65eac3e914a0fb6107b59a3a8df17": {
      "model_module": "jupyter-js-widgets",
      "model_module_version": "~2.1.4",
      "model_name": "ButtonStyleModel",
      "state": {
       "_model_module_version": "~2.1.4",
       "_view_module_version": "~2.1.4"
      }
     },
     "da114bcfec24494e87d3b869ce8c0d33": {
      "model_module": "jupyter-js-widgets",
      "model_module_version": "~2.1.4",
      "model_name": "LayoutModel",
      "state": {
       "_model_module_version": "~2.1.4",
       "_view_module_version": "~2.1.4"
      }
     },
     "da7677d51b804b4fabb1b2248163b4c9": {
      "model_module": "jupyter-js-widgets",
      "model_module_version": "~2.1.4",
      "model_name": "HTMLModel",
      "state": {
       "_model_module_version": "~2.1.4",
       "_view_module_version": "~2.1.4",
       "layout": "IPY_MODEL_fb094ef4328940a88acada4b783a90ca",
       "value": "\n<svg width=\"100%\" height=0><defs><clipPath id=\"mask\">\n<rect x=0 y=0 width='28%' height='500'>\n</clipPath></defs></svg>\n<style>\n.bp {\n    width: 100%;\n    -webkit-clip-path: circle(#mask);\n    clip-path: url(#mask);\n}\n</style>\n<img src=\"bp_solution.png\" class=bp>\n"
      }
     },
     "da8787279e024ced9098f62f1076a3a9": {
      "model_module": "jupyter-js-widgets",
      "model_module_version": "~2.1.4",
      "model_name": "ButtonModel",
      "state": {
       "_model_module_version": "~2.1.4",
       "_view_module_version": "~2.1.4",
       "description": "Next",
       "layout": "IPY_MODEL_21d783327e054061bda25f3102785190",
       "style": "IPY_MODEL_7882081cb5894656b778c95abbc62c19"
      }
     },
     "da9731486367497e9d62768b7e2b11ca": {
      "model_module": "jupyter-js-widgets",
      "model_module_version": "~2.1.4",
      "model_name": "ButtonModel",
      "state": {
       "_model_module_version": "~2.1.4",
       "_view_module_version": "~2.1.4",
       "description": "Previous",
       "layout": "IPY_MODEL_a5248f7dfbd344908d18bb90d3866c10",
       "style": "IPY_MODEL_c345a9deee0c4091b1cb281e32286b97"
      }
     },
     "da9f222380114ec0a4e5019843fc7e2d": {
      "model_module": "jupyter-js-widgets",
      "model_module_version": "~2.1.4",
      "model_name": "LayoutModel",
      "state": {
       "_model_module_version": "~2.1.4",
       "_view_module_version": "~2.1.4"
      }
     },
     "dacbc283724b4301bf2fe04e185edffe": {
      "model_module": "jupyter-js-widgets",
      "model_module_version": "~2.1.4",
      "model_name": "LayoutModel",
      "state": {
       "_model_module_version": "~2.1.4",
       "_view_module_version": "~2.1.4"
      }
     },
     "daeea689dfd143d4bba37c4ed1f05dce": {
      "model_module": "jupyter-js-widgets",
      "model_module_version": "~2.1.4",
      "model_name": "ButtonModel",
      "state": {
       "_model_module_version": "~2.1.4",
       "_view_module_version": "~2.1.4",
       "description": "Next",
       "icon": "check",
       "layout": "IPY_MODEL_5c5467fe37bd48f28bd41365ba17b24b",
       "style": "IPY_MODEL_1ea884709c5047f386f3f8cc08e9385d",
       "tooltip": "Click me"
      }
     },
     "daf5423e8be147b1afd06f3cc9731a1a": {
      "model_module": "jupyter-js-widgets",
      "model_module_version": "~2.1.4",
      "model_name": "HTMLModel",
      "state": {
       "_model_module_version": "~2.1.4",
       "_view_module_version": "~2.1.4",
       "layout": "IPY_MODEL_6a1b56ad362b44e4a6a0a6ac6c9b7e4c",
       "value": "\n<svg width=\"100%\" height=0><defs><clipPath id=\"mask\">\n<rect x=0 y=0 width='100%' height='50' /><rect x=0 y=0 width='28%' height='500' /><rect x=0 y=0 width='72%' height='310' /><rect x='62%' y=0 width='100%' height='240' /><rect x='70%' y=0 width='100%' height='330' />\n</clipPath></defs></svg>\n<style>\nimg {\n    text-align: center;\n}\n.bp {\n    width: 100%;\n    -webkit-clip-path: circle(#mask);\n    clip-path: url(#mask);\n}\n</style>\n<img src='mlp.png' text-align='center'>\n<img src=\"bp_solution.png\" class=bp />\n"
      }
     },
     "db0200b85adf4663b85f9daaa60b8a01": {
      "model_module": "jupyter-js-widgets",
      "model_module_version": "~2.1.4",
      "model_name": "BoxModel",
      "state": {
       "_model_module_version": "~2.1.4",
       "_view_module_version": "~2.1.4",
       "children": [
        "IPY_MODEL_139673f2d14e435da24e86afdba27082",
        "IPY_MODEL_7dbbb413f5be444daa74987b728c0510"
       ],
       "layout": "IPY_MODEL_0ee5b554c15e4615bf59f8262b3ced63"
      }
     },
     "db453142f7514b5b9ed9374db4de2734": {
      "model_module": "jupyter-js-widgets",
      "model_module_version": "~2.1.4",
      "model_name": "ButtonModel",
      "state": {
       "_model_module_version": "~2.1.4",
       "_view_module_version": "~2.1.4",
       "description": "Next",
       "layout": "IPY_MODEL_b162d7cfc985459cb3c3e4121fcba1a5",
       "style": "IPY_MODEL_6c6afe1c9f0c4372a7ae41bba74ac90f"
      }
     },
     "db5763bb69e142e887f0ac11a682d841": {
      "model_module": "jupyter-js-widgets",
      "model_module_version": "~2.1.4",
      "model_name": "ButtonModel",
      "state": {
       "_model_module_version": "~2.1.4",
       "_view_module_version": "~2.1.4",
       "description": "Previous",
       "icon": "check",
       "layout": "IPY_MODEL_1d1687baa67d448aae9947c0709b9a21",
       "style": "IPY_MODEL_9430b8f5bd9c47ed835670e4ff818c9c",
       "tooltip": "Click me"
      }
     },
     "db6151687fbf4115b6d1242f6d4efaa2": {
      "model_module": "jupyter-js-widgets",
      "model_module_version": "~2.1.4",
      "model_name": "LayoutModel",
      "state": {
       "_model_module_version": "~2.1.4",
       "_view_module_version": "~2.1.4"
      }
     },
     "db6a166515c64b90982c8a365b795dab": {
      "model_module": "jupyter-js-widgets",
      "model_module_version": "~2.1.4",
      "model_name": "BoxModel",
      "state": {
       "_model_module_version": "~2.1.4",
       "_view_module_version": "~2.1.4",
       "children": [
        "IPY_MODEL_68d87095e4e944698e42125bc3e8db14",
        "IPY_MODEL_ce780d0ffb364a2095183c79b7de9963"
       ],
       "layout": "IPY_MODEL_abd34c2914c844e589d1f5d014971586"
      }
     },
     "db8e3aa6b4c74e7f875f5c086961babd": {
      "model_module": "jupyter-js-widgets",
      "model_module_version": "~2.1.4",
      "model_name": "ButtonModel",
      "state": {
       "_model_module_version": "~2.1.4",
       "_view_module_version": "~2.1.4",
       "description": "Next",
       "layout": "IPY_MODEL_74688c2b23094649a3587bec6103fade",
       "style": "IPY_MODEL_6a355c702fd945a0a5c7b5466710a54b"
      }
     },
     "db9996a70ee84a6395699428f5ac96e5": {
      "model_module": "jupyter-js-widgets",
      "model_module_version": "~2.1.4",
      "model_name": "ButtonStyleModel",
      "state": {
       "_model_module_version": "~2.1.4",
       "_view_module_version": "~2.1.4"
      }
     },
     "dbbb245777c04aab8809e1348b5dec6e": {
      "model_module": "jupyter-js-widgets",
      "model_module_version": "~2.1.4",
      "model_name": "ButtonModel",
      "state": {
       "_model_module_version": "~2.1.4",
       "_view_module_version": "~2.1.4",
       "description": "Next",
       "layout": "IPY_MODEL_838cc454a0f9447aa8f7c6173449b0e5",
       "style": "IPY_MODEL_78439d1b65db4188bb83945c5e8a4805"
      }
     },
     "dbeb32d0037747cf8e7e2cb60a466291": {
      "model_module": "jupyter-js-widgets",
      "model_module_version": "~2.1.4",
      "model_name": "ButtonStyleModel",
      "state": {
       "_model_module_version": "~2.1.4",
       "_view_module_version": "~2.1.4"
      }
     },
     "dc21de0563554c05975ac61fcd729507": {
      "model_module": "jupyter-js-widgets",
      "model_module_version": "~2.1.4",
      "model_name": "HTMLModel",
      "state": {
       "_model_module_version": "~2.1.4",
       "_view_module_version": "~2.1.4",
       "layout": "IPY_MODEL_73e650693acb4bd8be481785b2238ab7",
       "value": "\n<svg width=\"100%\" height=0><defs><clipPath id=\"mask\">\n<rect x=0 y=0 width='28%' height='500' /><rect x=0 y=0 width='72%' height='380' /><rect x='62%' y=0 width='100%' height='240' /><rect x='70%' y=0 width='100%' height='330' /><rect x=0 y=0 width='100%' height='50' />\n</clipPath></defs></svg>\n<style>\n.bp {\n    width: 100%;\n    -webkit-clip-path: circle(#mask);\n    clip-path: url(#mask);\n}\n</style>\n<img src=\"bp_solution.png\" class=bp>\n"
      }
     },
     "dc25aad2d0814fc3815abe845febe185": {
      "model_module": "jupyter-js-widgets",
      "model_module_version": "~2.1.4",
      "model_name": "ButtonStyleModel",
      "state": {
       "_model_module_version": "~2.1.4",
       "_view_module_version": "~2.1.4"
      }
     },
     "dc29c5caafb24e38a12b6e48dffcee92": {
      "model_module": "jupyter-js-widgets",
      "model_module_version": "~2.1.4",
      "model_name": "LayoutModel",
      "state": {
       "_model_module_version": "~2.1.4",
       "_view_module_version": "~2.1.4"
      }
     },
     "dc2ca5fd4c4b4259be1a416056c5ef16": {
      "model_module": "jupyter-js-widgets",
      "model_module_version": "~2.1.4",
      "model_name": "LayoutModel",
      "state": {
       "_model_module_version": "~2.1.4",
       "_view_module_version": "~2.1.4"
      }
     },
     "dc316f0c8ed04ff0bfbf0aaeaf09467c": {
      "model_module": "jupyter-js-widgets",
      "model_module_version": "~2.1.4",
      "model_name": "ButtonModel",
      "state": {
       "_model_module_version": "~2.1.4",
       "_view_module_version": "~2.1.4",
       "description": "Next",
       "icon": "check",
       "layout": "IPY_MODEL_406f02c059be42c09ad1342d8aa0c6e9",
       "style": "IPY_MODEL_803157e96541463a956ba1e57374ccfa",
       "tooltip": "Click me"
      }
     },
     "dc6fcaaa9f0d4c3b985e2ad122a1f6d5": {
      "model_module": "jupyter-js-widgets",
      "model_module_version": "~2.1.4",
      "model_name": "LayoutModel",
      "state": {
       "_model_module_version": "~2.1.4",
       "_view_module_version": "~2.1.4"
      }
     },
     "dce91013f03f4f4a9df851fec29f6217": {
      "model_module": "jupyter-js-widgets",
      "model_module_version": "~2.1.4",
      "model_name": "ButtonStyleModel",
      "state": {
       "_model_module_version": "~2.1.4",
       "_view_module_version": "~2.1.4"
      }
     },
     "dcf6ac7080564589aead5d70eeea232d": {
      "model_module": "jupyter-js-widgets",
      "model_module_version": "~2.1.4",
      "model_name": "LayoutModel",
      "state": {
       "_model_module_version": "~2.1.4",
       "_view_module_version": "~2.1.4"
      }
     },
     "dcf7bcf17a024a328830cdbe47b30e6b": {
      "model_module": "jupyter-js-widgets",
      "model_module_version": "~2.1.4",
      "model_name": "ButtonModel",
      "state": {
       "_model_module_version": "~2.1.4",
       "_view_module_version": "~2.1.4",
       "description": "Previous",
       "layout": "IPY_MODEL_8f3f3fb420dd4f32813aacc2735052b5",
       "style": "IPY_MODEL_316be814037c4112ac9fce7f6b51818c"
      }
     },
     "dd074f3606304c3fb2cf965fc8008e7e": {
      "model_module": "jupyter-js-widgets",
      "model_module_version": "~2.1.4",
      "model_name": "ButtonStyleModel",
      "state": {
       "_model_module_version": "~2.1.4",
       "_view_module_version": "~2.1.4"
      }
     },
     "dd2115307c8041de93710f62f02da10a": {
      "model_module": "jupyter-js-widgets",
      "model_module_version": "~2.1.4",
      "model_name": "ButtonModel",
      "state": {
       "_model_module_version": "~2.1.4",
       "_view_module_version": "~2.1.4",
       "description": "Next",
       "layout": "IPY_MODEL_77c480db1a444e83b62296636cfb020e",
       "style": "IPY_MODEL_b0687f138c5d425a9267a7731fe56c7f"
      }
     },
     "dd460d6c7c5b49edb405691d223680fb": {
      "model_module": "jupyter-js-widgets",
      "model_module_version": "~2.1.4",
      "model_name": "ButtonStyleModel",
      "state": {
       "_model_module_version": "~2.1.4",
       "_view_module_version": "~2.1.4"
      }
     },
     "dd66f1f487f14200849c9a26cb45a74b": {
      "model_module": "jupyter-js-widgets",
      "model_module_version": "~2.1.4",
      "model_name": "LayoutModel",
      "state": {
       "_model_module_version": "~2.1.4",
       "_view_module_version": "~2.1.4"
      }
     },
     "dd7017fc47dd4fb9a1db018f7fedf67e": {
      "model_module": "jupyter-js-widgets",
      "model_module_version": "~2.1.4",
      "model_name": "ButtonModel",
      "state": {
       "_model_module_version": "~2.1.4",
       "_view_module_version": "~2.1.4",
       "description": "Next",
       "icon": "check",
       "layout": "IPY_MODEL_f9e79e570207447bbd0e1ac7b2368a6a",
       "style": "IPY_MODEL_7ca7c1f3555c4a4abc031084ce5afb0c",
       "tooltip": "Click me"
      }
     },
     "dd823d3b38ab4bc2b944ee84f9b4a112": {
      "model_module": "jupyter-js-widgets",
      "model_module_version": "~2.1.4",
      "model_name": "ButtonModel",
      "state": {
       "_model_module_version": "~2.1.4",
       "_view_module_version": "~2.1.4",
       "description": "Next",
       "icon": "check",
       "layout": "IPY_MODEL_98eb927516b34a2bb1f9ffd64fb03665",
       "style": "IPY_MODEL_ae6b0256c2a74514bdeb7248e0b7548a",
       "tooltip": "Click me"
      }
     },
     "ddc1e5d62bfa46debbf7ad35896693da": {
      "model_module": "jupyter-js-widgets",
      "model_module_version": "~2.1.4",
      "model_name": "HTMLModel",
      "state": {
       "_model_module_version": "~2.1.4",
       "_view_module_version": "~2.1.4",
       "layout": "IPY_MODEL_78496580d29c4304a2e97780c36a6f7c",
       "value": "<img src='mlp.png'/>"
      }
     },
     "ddc1eccc78474232a1c0bbcccfc725e7": {
      "model_module": "jupyter-js-widgets",
      "model_module_version": "~2.1.4",
      "model_name": "ButtonStyleModel",
      "state": {
       "_model_module_version": "~2.1.4",
       "_view_module_version": "~2.1.4"
      }
     },
     "ddd38341e4fe4186bb11b5d7d9636ca0": {
      "model_module": "jupyter-js-widgets",
      "model_module_version": "~2.1.4",
      "model_name": "ButtonStyleModel",
      "state": {
       "_model_module_version": "~2.1.4",
       "_view_module_version": "~2.1.4"
      }
     },
     "ddd3f0c1f83848f8be69faebd57e4eda": {
      "model_module": "jupyter-js-widgets",
      "model_module_version": "~2.1.4",
      "model_name": "ButtonModel",
      "state": {
       "_model_module_version": "~2.1.4",
       "_view_module_version": "~2.1.4",
       "description": "Previous",
       "icon": "check",
       "layout": "IPY_MODEL_c56607ccc6704fd69f0c64b847312ff0",
       "style": "IPY_MODEL_3a78d31904854585a2c5c32fec3101b4",
       "tooltip": "Click me"
      }
     },
     "dded34050e924ff08b8b08eeb8cf3bd5": {
      "model_module": "jupyter-js-widgets",
      "model_module_version": "~2.1.4",
      "model_name": "HTMLModel",
      "state": {
       "_model_module_version": "~2.1.4",
       "_view_module_version": "~2.1.4",
       "layout": "IPY_MODEL_08ef2764c0c24943a9d5556f97af3dde",
       "value": "\n<svg width=\"100%\" height=0><defs><clipPath id=\"mask\">\n<rect x=0 y=0 width='28%' height='500' /><rect x=0 y=0 width='72%' height='450' /><rect x='62%' y=0 width='100%' height='240' /><rect x='70%' y=0 width='100%' height='330' /><rect x=0 y=0 width='100%' height='50' />\n</clipPath></defs></svg>\n<style>\n.bp {\n    width: 100%;\n    -webkit-clip-path: circle(#mask);\n    clip-path: url(#mask);\n}\n</style>\n<img src=\"bp_solution.png\" class=bp>\n"
      }
     },
     "de16b340073842a2bb91e87f8410af9a": {
      "model_module": "jupyter-js-widgets",
      "model_module_version": "~2.1.4",
      "model_name": "LayoutModel",
      "state": {
       "_model_module_version": "~2.1.4",
       "_view_module_version": "~2.1.4"
      }
     },
     "de16f367f4024e3588e3643bb18fd77b": {
      "model_module": "jupyter-js-widgets",
      "model_module_version": "~2.1.4",
      "model_name": "LayoutModel",
      "state": {
       "_model_module_version": "~2.1.4",
       "_view_module_version": "~2.1.4"
      }
     },
     "de32f3a10390432e9f0315f7fbdee71c": {
      "model_module": "jupyter-js-widgets",
      "model_module_version": "~2.1.4",
      "model_name": "HTMLModel",
      "state": {
       "_model_module_version": "~2.1.4",
       "_view_module_version": "~2.1.4",
       "layout": "IPY_MODEL_c4acbe2e1a24402bac37f29e85b76b0d",
       "value": "\n<svg width=\"0\" height=\"0\">\n   <defs>\n    <clipPath id=\"mask\">\n      <path d=\"M 40 0 L 0 40, 60 100, 0 160, 40 200, 100 140, 160 200, 200 160, 140 100, 200 40, 160 0, 100 60\">\n    </clipPath>\n  </defs>\n</svg>\n<style>\n.bp {\n    width: 100%;\n    -webkit-clip-path: circle(50px);\n    clip-path: url(#mask);\n}\n</style>\n<img src=\"bp_solution.png\" class=bp>\n"
      }
     },
     "de4dafbda6f540d090577fe7b59870b4": {
      "model_module": "jupyter-js-widgets",
      "model_module_version": "~2.1.4",
      "model_name": "LayoutModel",
      "state": {
       "_model_module_version": "~2.1.4",
       "_view_module_version": "~2.1.4"
      }
     },
     "de662af0e7f14bc4b7a035263b87f52e": {
      "model_module": "jupyter-js-widgets",
      "model_module_version": "~2.1.4",
      "model_name": "HTMLModel",
      "state": {
       "_model_module_version": "~2.1.4",
       "_view_module_version": "~2.1.4",
       "layout": "IPY_MODEL_0956236623504e72bb4b6ec4cdf36ad6",
       "value": "\n<svg width=\"100%\" height=0><defs><clipPath id=\"mask\">\n<rect x=0 y=0 width='28%' height='500'><rect x=0 y=0 width='100%' height='50'>\n</clipPath></defs></svg>\n<style>\n.bp {\n    width: 100%;\n    -webkit-clip-path: circle(#mask);\n    clip-path: url(#mask);\n}\n</style>\n<img src=\"bp_solution.png\" class=bp>\n"
      }
     },
     "de6d8f33e779403f9444827c57ca42a2": {
      "model_module": "jupyter-js-widgets",
      "model_module_version": "~2.1.4",
      "model_name": "ButtonModel",
      "state": {
       "_model_module_version": "~2.1.4",
       "_view_module_version": "~2.1.4",
       "description": "Previous",
       "icon": "check",
       "layout": "IPY_MODEL_b9fe2cfe86a549c2adb29bc04fe5420c",
       "style": "IPY_MODEL_e99538fdb3244cad8c17e0a2986668a9",
       "tooltip": "Click me"
      }
     },
     "de902e51f5234618a3aa3b3a77ac733e": {
      "model_module": "jupyter-js-widgets",
      "model_module_version": "~2.1.4",
      "model_name": "LayoutModel",
      "state": {
       "_model_module_version": "~2.1.4",
       "_view_module_version": "~2.1.4"
      }
     },
     "debc50a67a614cbc9d5faf98117f0100": {
      "model_module": "jupyter-js-widgets",
      "model_module_version": "~2.1.4",
      "model_name": "LayoutModel",
      "state": {
       "_model_module_version": "~2.1.4",
       "_view_module_version": "~2.1.4"
      }
     },
     "deca28cc1aa24bc9af523060ceb9e8b2": {
      "model_module": "jupyter-js-widgets",
      "model_module_version": "~2.1.4",
      "model_name": "ButtonStyleModel",
      "state": {
       "_model_module_version": "~2.1.4",
       "_view_module_version": "~2.1.4"
      }
     },
     "def198b64feb491c8dc8b00264752511": {
      "model_module": "jupyter-js-widgets",
      "model_module_version": "~2.1.4",
      "model_name": "LayoutModel",
      "state": {
       "_model_module_version": "~2.1.4",
       "_view_module_version": "~2.1.4"
      }
     },
     "df0eff708d504bcca6f8bb00b4489659": {
      "model_module": "jupyter-js-widgets",
      "model_module_version": "~2.1.4",
      "model_name": "LayoutModel",
      "state": {
       "_model_module_version": "~2.1.4",
       "_view_module_version": "~2.1.4"
      }
     },
     "df41b09a6ea14fff8c1385768c773618": {
      "model_module": "jupyter-js-widgets",
      "model_module_version": "~2.1.4",
      "model_name": "LayoutModel",
      "state": {
       "_model_module_version": "~2.1.4",
       "_view_module_version": "~2.1.4"
      }
     },
     "df5ba1e61e604523b06df8aef2be5b97": {
      "model_module": "jupyter-js-widgets",
      "model_module_version": "~2.1.4",
      "model_name": "LayoutModel",
      "state": {
       "_model_module_version": "~2.1.4",
       "_view_module_version": "~2.1.4"
      }
     },
     "df76e6b26cff4c9e87dcde803f15cb3b": {
      "model_module": "jupyter-js-widgets",
      "model_module_version": "~2.1.4",
      "model_name": "ButtonStyleModel",
      "state": {
       "_model_module_version": "~2.1.4",
       "_view_module_version": "~2.1.4"
      }
     },
     "df8a0d737a924b09ae111d0abebf1f60": {
      "model_module": "jupyter-js-widgets",
      "model_module_version": "~2.1.4",
      "model_name": "ButtonModel",
      "state": {
       "_model_module_version": "~2.1.4",
       "_view_module_version": "~2.1.4",
       "description": "Next",
       "icon": "check",
       "layout": "IPY_MODEL_50f626e992a14309815b5b93d8631408",
       "style": "IPY_MODEL_6e59768042e24b28918f2d1fc61c0889",
       "tooltip": "Click me"
      }
     },
     "df8fd6c30f984f1689853b9df280ef01": {
      "model_module": "jupyter-js-widgets",
      "model_module_version": "~2.1.4",
      "model_name": "ButtonStyleModel",
      "state": {
       "_model_module_version": "~2.1.4",
       "_view_module_version": "~2.1.4"
      }
     },
     "dfb922fcb8ea40fc855d660a360bc806": {
      "model_module": "jupyter-js-widgets",
      "model_module_version": "~2.1.4",
      "model_name": "LayoutModel",
      "state": {
       "_model_module_version": "~2.1.4",
       "_view_module_version": "~2.1.4"
      }
     },
     "dfe39903ea494ee9a83a2b8a99340b7b": {
      "model_module": "jupyter-js-widgets",
      "model_module_version": "~2.1.4",
      "model_name": "HTMLModel",
      "state": {
       "_model_module_version": "~2.1.4",
       "_view_module_version": "~2.1.4",
       "layout": "IPY_MODEL_b08057afa97345c0bb2c3e055af89d32",
       "value": "\n<svg width=\"100%\" height=0><defs><clipPath id=\"mask\">\n<rect x=0 y=0 width='28%' height='500' /><rect x=0 y=0 width='72%' height='170' /><rect x='60%' y=0 width='100%' height='230' /><rect x=0 y=0 width='100%' height='50' />\n</clipPath></defs></svg>\n<style>\n.bp {\n    width: 100%;\n    -webkit-clip-path: circle(#mask);\n    clip-path: url(#mask);\n}\n</style>\n<img src=\"bp_solution.png\" class=bp>\n"
      }
     },
     "e01096c6e88b4535855b63db16b39dee": {
      "model_module": "jupyter-js-widgets",
      "model_module_version": "~2.1.4",
      "model_name": "HTMLModel",
      "state": {
       "_model_module_version": "~2.1.4",
       "_view_module_version": "~2.1.4",
       "layout": "IPY_MODEL_1bc7abce96774965aae094781effd9ec",
       "value": "\n<svg width=\"100%\" height=0><defs><clipPath id=\"mask\">\n<rect x=0 y=0 width='28%' height='500' /><rect x=0 y=0 width='72%' height='170' /><rect x=0 y=0 width='100%' height='50' />\n</clipPath></defs></svg>\n<style>\n.bp {\n    width: 100%;\n    -webkit-clip-path: circle(#mask);\n    clip-path: url(#mask);\n}\n</style>\n<img src=\"bp_solution.png\" class=bp>\n"
      }
     },
     "e01519da781346a888302f3f3aa198be": {
      "model_module": "jupyter-js-widgets",
      "model_module_version": "~2.1.4",
      "model_name": "ButtonStyleModel",
      "state": {
       "_model_module_version": "~2.1.4",
       "_view_module_version": "~2.1.4"
      }
     },
     "e03b5a8ca3b24f00b5c6f081e27d29ee": {
      "model_module": "jupyter-js-widgets",
      "model_module_version": "~2.1.4",
      "model_name": "ButtonModel",
      "state": {
       "_model_module_version": "~2.1.4",
       "_view_module_version": "~2.1.4",
       "description": "Next",
       "layout": "IPY_MODEL_55443ff4b3be41a99c367d2d76919c04",
       "style": "IPY_MODEL_29f3b434e1cf4a2b9da4e9502b077176"
      }
     },
     "e05ef851405149f98c2c4ddda8651178": {
      "model_module": "jupyter-js-widgets",
      "model_module_version": "~2.1.4",
      "model_name": "ButtonStyleModel",
      "state": {
       "_model_module_version": "~2.1.4",
       "_view_module_version": "~2.1.4"
      }
     },
     "e063f702c4694b69824bb260d2525b8f": {
      "model_module": "jupyter-js-widgets",
      "model_module_version": "~2.1.4",
      "model_name": "ButtonStyleModel",
      "state": {
       "_model_module_version": "~2.1.4",
       "_view_module_version": "~2.1.4"
      }
     },
     "e0b9dcead14943849a84171b00196cc4": {
      "model_module": "jupyter-js-widgets",
      "model_module_version": "~2.1.4",
      "model_name": "ButtonStyleModel",
      "state": {
       "_model_module_version": "~2.1.4",
       "_view_module_version": "~2.1.4"
      }
     },
     "e0d9bcc13f464e49b63dd676f5284eb7": {
      "model_module": "jupyter-js-widgets",
      "model_module_version": "~2.1.4",
      "model_name": "LayoutModel",
      "state": {
       "_model_module_version": "~2.1.4",
       "_view_module_version": "~2.1.4"
      }
     },
     "e0ea48c2ade048899e2a15e49c75665d": {
      "model_module": "jupyter-js-widgets",
      "model_module_version": "~2.1.4",
      "model_name": "LayoutModel",
      "state": {
       "_model_module_version": "~2.1.4",
       "_view_module_version": "~2.1.4",
       "align_items": "stretch",
       "display": "flex",
       "flex_flow": "row",
       "justify_content": "center",
       "width": "100%"
      }
     },
     "e0f55228346b451c9be7a9356c4ecd39": {
      "model_module": "jupyter-js-widgets",
      "model_module_version": "~2.1.4",
      "model_name": "LayoutModel",
      "state": {
       "_model_module_version": "~2.1.4",
       "_view_module_version": "~2.1.4"
      }
     },
     "e12019f3916d42cb95fe294ea86cadb2": {
      "model_module": "jupyter-js-widgets",
      "model_module_version": "~2.1.4",
      "model_name": "ButtonModel",
      "state": {
       "_model_module_version": "~2.1.4",
       "_view_module_version": "~2.1.4",
       "description": "Previous",
       "layout": "IPY_MODEL_7438ac1262d94913ad692709369c0af8",
       "style": "IPY_MODEL_b96b6b25772d4e6f97343c29d4a086b3"
      }
     },
     "e13bf63b0c4e4178b770578f7b8566b6": {
      "model_module": "jupyter-js-widgets",
      "model_module_version": "~2.1.4",
      "model_name": "ButtonModel",
      "state": {
       "_model_module_version": "~2.1.4",
       "_view_module_version": "~2.1.4",
       "description": "Previous",
       "layout": "IPY_MODEL_76c51944213d45a7964edeadf337cecc",
       "style": "IPY_MODEL_1322c3c8609c4d199fbe77998fa08508"
      }
     },
     "e154ef13d0dc49e19c8dc1cf00ca96c6": {
      "model_module": "jupyter-js-widgets",
      "model_module_version": "~2.1.4",
      "model_name": "LayoutModel",
      "state": {
       "_model_module_version": "~2.1.4",
       "_view_module_version": "~2.1.4"
      }
     },
     "e163f635c29541318a666e6c0fc16550": {
      "model_module": "jupyter-js-widgets",
      "model_module_version": "~2.1.4",
      "model_name": "ButtonModel",
      "state": {
       "_model_module_version": "~2.1.4",
       "_view_module_version": "~2.1.4",
       "description": "Next",
       "layout": "IPY_MODEL_c83efae4976649e98a318d186cd04eee",
       "style": "IPY_MODEL_38300dec865c4a008d12701be1950762"
      }
     },
     "e1dd653f5f124c7dbe772319fb3461f4": {
      "model_module": "jupyter-js-widgets",
      "model_module_version": "~2.1.4",
      "model_name": "LayoutModel",
      "state": {
       "_model_module_version": "~2.1.4",
       "_view_module_version": "~2.1.4"
      }
     },
     "e20f44710099443eac902cf2b6d2748b": {
      "model_module": "jupyter-js-widgets",
      "model_module_version": "~2.1.4",
      "model_name": "LayoutModel",
      "state": {
       "_model_module_version": "~2.1.4",
       "_view_module_version": "~2.1.4"
      }
     },
     "e21bdacf96ed4f1eb5833096fc363665": {
      "model_module": "jupyter-js-widgets",
      "model_module_version": "~2.1.4",
      "model_name": "LayoutModel",
      "state": {
       "_model_module_version": "~2.1.4",
       "_view_module_version": "~2.1.4"
      }
     },
     "e222eb1e24a44971ad123ad278cefe3c": {
      "model_module": "jupyter-js-widgets",
      "model_module_version": "~2.1.4",
      "model_name": "LayoutModel",
      "state": {
       "_model_module_version": "~2.1.4",
       "_view_module_version": "~2.1.4"
      }
     },
     "e22c0acf1ff84617bd63be386ae6a86a": {
      "model_module": "jupyter-js-widgets",
      "model_module_version": "~2.1.4",
      "model_name": "LayoutModel",
      "state": {
       "_model_module_version": "~2.1.4",
       "_view_module_version": "~2.1.4"
      }
     },
     "e2900ad3474547978619ff093ca621ee": {
      "model_module": "jupyter-js-widgets",
      "model_module_version": "~2.1.4",
      "model_name": "ButtonModel",
      "state": {
       "_model_module_version": "~2.1.4",
       "_view_module_version": "~2.1.4",
       "description": "Next",
       "layout": "IPY_MODEL_ad0c42b2c3544f8d829b1bbeb6fd79f6",
       "style": "IPY_MODEL_f9121eb996b84bf5a4e13257fe7b8dc6"
      }
     },
     "e29ff2f5076b4d95ba6d9cceea46bfdc": {
      "model_module": "jupyter-js-widgets",
      "model_module_version": "~2.1.4",
      "model_name": "ButtonModel",
      "state": {
       "_model_module_version": "~2.1.4",
       "_view_module_version": "~2.1.4",
       "description": "Next",
       "icon": "check",
       "layout": "IPY_MODEL_213de1afe4c84af9a1842c0721d84818",
       "style": "IPY_MODEL_ed63a1d5610c42e99656198ae2da2b36",
       "tooltip": "Click me"
      }
     },
     "e2e0b01e484046c3bea112260becce48": {
      "model_module": "jupyter-js-widgets",
      "model_module_version": "~2.1.4",
      "model_name": "LayoutModel",
      "state": {
       "_model_module_version": "~2.1.4",
       "_view_module_version": "~2.1.4"
      }
     },
     "e2edfa0b58df4bc6ba61e3694c1d9102": {
      "model_module": "jupyter-js-widgets",
      "model_module_version": "~2.1.4",
      "model_name": "HTMLModel",
      "state": {
       "_model_module_version": "~2.1.4",
       "_view_module_version": "~2.1.4",
       "layout": "IPY_MODEL_f7cbf7f745834618a2a01959023abd8b",
       "value": "\n<svg width=\"0\" height=\"0\">\n   <defs>\n    <clipPath id=\"mask\">\n      <rect x=20 y=20 width=50 height=50>\n    </clipPath>\n  </defs>\n</svg>\n<style>\n.bp {\n    width: 100%;\n    -webkit-clip-path: circle(50px);\n    clip-path: url(#mask);\n}\n</style>\n<img src=\"bp_solution.png\" class=bp>\n"
      }
     },
     "e3091bdb5a6d4281a6772264658356a7": {
      "model_module": "jupyter-js-widgets",
      "model_module_version": "~2.1.4",
      "model_name": "ButtonModel",
      "state": {
       "_model_module_version": "~2.1.4",
       "_view_module_version": "~2.1.4",
       "description": "Next",
       "icon": "check",
       "layout": "IPY_MODEL_8e9de47a639b413dad229720456769cf",
       "style": "IPY_MODEL_91f05eac078c406b9d347335dc1db6d8",
       "tooltip": "Click me"
      }
     },
     "e323583a7e4a4991ad7ddeca9e8a762f": {
      "model_module": "jupyter-js-widgets",
      "model_module_version": "~2.1.4",
      "model_name": "ButtonStyleModel",
      "state": {
       "_model_module_version": "~2.1.4",
       "_view_module_version": "~2.1.4"
      }
     },
     "e372dde53e0b4f548560bb05ef0a2fd9": {
      "model_module": "jupyter-js-widgets",
      "model_module_version": "~2.1.4",
      "model_name": "ButtonStyleModel",
      "state": {
       "_model_module_version": "~2.1.4",
       "_view_module_version": "~2.1.4"
      }
     },
     "e3806a2ffa42468aa1c56d4436cc7b44": {
      "model_module": "jupyter-js-widgets",
      "model_module_version": "~2.1.4",
      "model_name": "LayoutModel",
      "state": {
       "_model_module_version": "~2.1.4",
       "_view_module_version": "~2.1.4"
      }
     },
     "e3b6556df92b4cc0ac751cfd03601158": {
      "model_module": "jupyter-js-widgets",
      "model_module_version": "~2.1.4",
      "model_name": "ButtonModel",
      "state": {
       "_model_module_version": "~2.1.4",
       "_view_module_version": "~2.1.4",
       "description": "Previous",
       "icon": "check",
       "layout": "IPY_MODEL_b67350cac65246f296108254bbaac9d1",
       "style": "IPY_MODEL_8b02369ab7e241d98d16a4839ab6fee0",
       "tooltip": "Click me"
      }
     },
     "e3bb87bf853b4b8e9b9e5d634ce00e86": {
      "model_module": "jupyter-js-widgets",
      "model_module_version": "~2.1.4",
      "model_name": "LayoutModel",
      "state": {
       "_model_module_version": "~2.1.4",
       "_view_module_version": "~2.1.4"
      }
     },
     "e3d9a61dd1f0468785c71446eb08c77b": {
      "model_module": "jupyter-js-widgets",
      "model_module_version": "~2.1.4",
      "model_name": "LayoutModel",
      "state": {
       "_model_module_version": "~2.1.4",
       "_view_module_version": "~2.1.4"
      }
     },
     "e3e32c8c317743ad9f9312e828329f74": {
      "model_module": "jupyter-js-widgets",
      "model_module_version": "~2.1.4",
      "model_name": "ButtonModel",
      "state": {
       "_model_module_version": "~2.1.4",
       "_view_module_version": "~2.1.4",
       "description": "Previous",
       "layout": "IPY_MODEL_ffd41a578de8446db532d09749bb951f",
       "style": "IPY_MODEL_c38525d3a3c04368930386cfd877662b"
      }
     },
     "e3ed16630d9542afacce31635897ddad": {
      "model_module": "jupyter-js-widgets",
      "model_module_version": "~2.1.4",
      "model_name": "ButtonStyleModel",
      "state": {
       "_model_module_version": "~2.1.4",
       "_view_module_version": "~2.1.4"
      }
     },
     "e3f20299a62342c29955f10a4ef85d86": {
      "model_module": "jupyter-js-widgets",
      "model_module_version": "~2.1.4",
      "model_name": "HTMLModel",
      "state": {
       "_model_module_version": "~2.1.4",
       "_view_module_version": "~2.1.4",
       "layout": "IPY_MODEL_40bdfab80ca2482289e82a75acca7fd5",
       "value": "\n<svg width=\"100%\" height=0><defs><clipPath id=\"mask\">\n<rect x=0 y=0 width='100%' height='50' /><rect x=0 y=0 width='28%' height='500' /><rect x=0 y=0 width='72%' height='310' /><rect x='62%' y=0 width='100%' height='240' /><rect x='70%' y=0 width='100%' height='330' />\n</clipPath></defs></svg>\n<style>\n.bp {\n    width: 100%;\n    -webkit-clip-path: circle(#mask);\n    clip-path: url(#mask);\n}\n</style>\n<img src=\"bp_solution.png\" class=bp />\n"
      }
     },
     "e3f8bdb7e73148428c0a69815b7d861e": {
      "model_module": "jupyter-js-widgets",
      "model_module_version": "~2.1.4",
      "model_name": "LayoutModel",
      "state": {
       "_model_module_version": "~2.1.4",
       "_view_module_version": "~2.1.4"
      }
     },
     "e421c1a544824364a74c82610a738e32": {
      "model_module": "jupyter-js-widgets",
      "model_module_version": "~2.1.4",
      "model_name": "LayoutModel",
      "state": {
       "_model_module_version": "~2.1.4",
       "_view_module_version": "~2.1.4"
      }
     },
     "e42446c8a9f14bd994e592b547cc5c5a": {
      "model_module": "jupyter-js-widgets",
      "model_module_version": "~2.1.4",
      "model_name": "LayoutModel",
      "state": {
       "_model_module_version": "~2.1.4",
       "_view_module_version": "~2.1.4"
      }
     },
     "e4279ded914e48a5ab2e7b9e57032e58": {
      "model_module": "jupyter-js-widgets",
      "model_module_version": "~2.1.4",
      "model_name": "HTMLModel",
      "state": {
       "_model_module_version": "~2.1.4",
       "_view_module_version": "~2.1.4",
       "layout": "IPY_MODEL_f23999a26348460cb58968b99b02bdc0",
       "value": "<img src='bp_solution.png' width='100%' style='clip_path: circle(100%)'>"
      }
     },
     "e428d9b1497b46328ad31aa5af937cf6": {
      "model_module": "jupyter-js-widgets",
      "model_module_version": "~2.1.4",
      "model_name": "ButtonModel",
      "state": {
       "_model_module_version": "~2.1.4",
       "_view_module_version": "~2.1.4",
       "description": "Next",
       "icon": "check",
       "layout": "IPY_MODEL_a314db4b82ca46899cab89fdebd934ab",
       "style": "IPY_MODEL_7c5ea39b40ac434183179257476a073f",
       "tooltip": "Click me"
      }
     },
     "e432888ffe64490db536c77b5259d09a": {
      "model_module": "jupyter-js-widgets",
      "model_module_version": "~2.1.4",
      "model_name": "ButtonStyleModel",
      "state": {
       "_model_module_version": "~2.1.4",
       "_view_module_version": "~2.1.4"
      }
     },
     "e44a373c0f104404ad3515cdc1a5b764": {
      "model_module": "jupyter-js-widgets",
      "model_module_version": "~2.1.4",
      "model_name": "LayoutModel",
      "state": {
       "_model_module_version": "~2.1.4",
       "_view_module_version": "~2.1.4"
      }
     },
     "e471b2ba60b54424934852183a8dc283": {
      "model_module": "jupyter-js-widgets",
      "model_module_version": "~2.1.4",
      "model_name": "ButtonStyleModel",
      "state": {
       "_model_module_version": "~2.1.4",
       "_view_module_version": "~2.1.4"
      }
     },
     "e474b21e17c5419489e70f8b71c60745": {
      "model_module": "jupyter-js-widgets",
      "model_module_version": "~2.1.4",
      "model_name": "ButtonModel",
      "state": {
       "_model_module_version": "~2.1.4",
       "_view_module_version": "~2.1.4",
       "description": "Previous",
       "layout": "IPY_MODEL_5d165bbfd6394ca4b13c4bc8661df91b",
       "style": "IPY_MODEL_a79d7012d4c24f628a50b3b45a3fe7d5"
      }
     },
     "e4774daceb9347af9be3815a1554ed5e": {
      "model_module": "jupyter-js-widgets",
      "model_module_version": "~2.1.4",
      "model_name": "LayoutModel",
      "state": {
       "_model_module_version": "~2.1.4",
       "_view_module_version": "~2.1.4"
      }
     },
     "e4ef3f5031a347f9b3cd2fb3030e3905": {
      "model_module": "jupyter-js-widgets",
      "model_module_version": "~2.1.4",
      "model_name": "LayoutModel",
      "state": {
       "_model_module_version": "~2.1.4",
       "_view_module_version": "~2.1.4"
      }
     },
     "e4ef873cff5f439080ae5294bac81653": {
      "model_module": "jupyter-js-widgets",
      "model_module_version": "~2.1.4",
      "model_name": "ButtonStyleModel",
      "state": {
       "_model_module_version": "~2.1.4",
       "_view_module_version": "~2.1.4"
      }
     },
     "e52f543fb50b4e63bc0907a2a9b88334": {
      "model_module": "jupyter-js-widgets",
      "model_module_version": "~2.1.4",
      "model_name": "HTMLModel",
      "state": {
       "_model_module_version": "~2.1.4",
       "_view_module_version": "~2.1.4",
       "layout": "IPY_MODEL_1393772c7efb48f584b55f75255d3f3f",
       "value": "\n<svg width=\"100%\" height=0><defs><clipPath id=\"mask\">\n<rect x=0 y=500 width='28%' height='100'><rect x=0 y=0 width='28%' height='500'>\n</clipPath></defs></svg>\n<style>\n.bp {\n    width: 100%;\n    -webkit-clip-path: circle(#mask);\n    clip-path: url(#mask);\n}\n</style>\n<img src=\"bp_solution.png\" class=bp>\n"
      }
     },
     "e56761c66bdb436ebe492c5adbb13599": {
      "model_module": "jupyter-js-widgets",
      "model_module_version": "~2.1.4",
      "model_name": "LayoutModel",
      "state": {
       "_model_module_version": "~2.1.4",
       "_view_module_version": "~2.1.4"
      }
     },
     "e57f91fac7ed4b1c9b5ac609d1745776": {
      "model_module": "jupyter-js-widgets",
      "model_module_version": "~2.1.4",
      "model_name": "ButtonModel",
      "state": {
       "_model_module_version": "~2.1.4",
       "_view_module_version": "~2.1.4",
       "description": "Next",
       "layout": "IPY_MODEL_0b890535458e4b6986b651ef6f8a7e25",
       "style": "IPY_MODEL_d646b811d1d74b05a4edd6bab67090ec"
      }
     },
     "e5c9a90c7686495498d007c8e56ef49b": {
      "model_module": "jupyter-js-widgets",
      "model_module_version": "~2.1.4",
      "model_name": "ButtonModel",
      "state": {
       "_model_module_version": "~2.1.4",
       "_view_module_version": "~2.1.4",
       "description": "Click me",
       "icon": "check",
       "layout": "IPY_MODEL_0851e75c7cfe4be2a8aa4032e04c5870",
       "style": "IPY_MODEL_30bf61745a064626b07df09c5e633a03",
       "tooltip": "Click me"
      }
     },
     "e5f10f6781fe40de8db13e055c2078c9": {
      "model_module": "jupyter-js-widgets",
      "model_module_version": "~2.1.4",
      "model_name": "ButtonModel",
      "state": {
       "_model_module_version": "~2.1.4",
       "_view_module_version": "~2.1.4",
       "description": "Next",
       "icon": "check",
       "layout": "IPY_MODEL_5b9e4a1f58f44d5ca9ef44629a905697",
       "style": "IPY_MODEL_f81f48fa78e04805b29c3dfebc5748aa",
       "tooltip": "Click me"
      }
     },
     "e61a9ee7e60f402486d29622f253b2a6": {
      "model_module": "jupyter-js-widgets",
      "model_module_version": "~2.1.4",
      "model_name": "LayoutModel",
      "state": {
       "_model_module_version": "~2.1.4",
       "_view_module_version": "~2.1.4"
      }
     },
     "e62260ac2724467ea8031a63a11c5282": {
      "model_module": "jupyter-js-widgets",
      "model_module_version": "~2.1.4",
      "model_name": "ButtonModel",
      "state": {
       "_model_module_version": "~2.1.4",
       "_view_module_version": "~2.1.4",
       "description": "Next",
       "icon": "check",
       "layout": "IPY_MODEL_14337a52c9d442e98eed6f12e294d2de",
       "style": "IPY_MODEL_11a9c16fb1be44f980aebb8dd49a54cd",
       "tooltip": "Click me"
      }
     },
     "e625f16daaf549428ae01c3bcf6dcac5": {
      "model_module": "jupyter-js-widgets",
      "model_module_version": "~2.1.4",
      "model_name": "ButtonModel",
      "state": {
       "_model_module_version": "~2.1.4",
       "_view_module_version": "~2.1.4",
       "description": "Previous",
       "icon": "check",
       "layout": "IPY_MODEL_de16b340073842a2bb91e87f8410af9a",
       "style": "IPY_MODEL_f1aa8a3820e6488a99492451a4eb5c81",
       "tooltip": "Click me"
      }
     },
     "e62649da4b0145a4966e3a609ddfade4": {
      "model_module": "jupyter-js-widgets",
      "model_module_version": "~2.1.4",
      "model_name": "LayoutModel",
      "state": {
       "_model_module_version": "~2.1.4",
       "_view_module_version": "~2.1.4"
      }
     },
     "e62dd219aca64094be96dda93f740a72": {
      "model_module": "jupyter-js-widgets",
      "model_module_version": "~2.1.4",
      "model_name": "HTMLModel",
      "state": {
       "_model_module_version": "~2.1.4",
       "_view_module_version": "~2.1.4",
       "layout": "IPY_MODEL_2179a42a2d0a4c82abc84d527d399fef",
       "value": "\n<svg width=\"100%\" height=0><defs><clipPath id=\"mask\">\n<rect x=0 y=350 width='28%' height='350' /><rect x=0 y=0 width='100%' height='50' />\n</clipPath></defs></svg>\n<style>\n.bp {\n    width: 100%;\n    -webkit-clip-path: circle(#mask);\n    clip-path: url(#mask);\n}\n</style>\n<img src=\"bp_solution.png\" class=bp>\n"
      }
     },
     "e64bf56e87e54cadb36ad14941987723": {
      "model_module": "jupyter-js-widgets",
      "model_module_version": "~2.1.4",
      "model_name": "ButtonStyleModel",
      "state": {
       "_model_module_version": "~2.1.4",
       "_view_module_version": "~2.1.4"
      }
     },
     "e66d5c5fec004e72b0414997ecbe6dec": {
      "model_module": "jupyter-js-widgets",
      "model_module_version": "~2.1.4",
      "model_name": "ButtonModel",
      "state": {
       "_model_module_version": "~2.1.4",
       "_view_module_version": "~2.1.4",
       "description": "Next",
       "icon": "check",
       "layout": "IPY_MODEL_7a910442ad994da5adeedcb1b69e5187",
       "style": "IPY_MODEL_d727d3978a0b4d4386733675db2a8d0e",
       "tooltip": "Click me"
      }
     },
     "e67797262d32415a825058cdb01d9b6e": {
      "model_module": "jupyter-js-widgets",
      "model_module_version": "~2.1.4",
      "model_name": "LayoutModel",
      "state": {
       "_model_module_version": "~2.1.4",
       "_view_module_version": "~2.1.4"
      }
     },
     "e6968ecd0b61488b92c3040a3341eee7": {
      "model_module": "jupyter-js-widgets",
      "model_module_version": "~2.1.4",
      "model_name": "HTMLModel",
      "state": {
       "_model_module_version": "~2.1.4",
       "_view_module_version": "~2.1.4",
       "layout": "IPY_MODEL_722f4894340344bab51800213d6b532a",
       "value": "\n<svg width=100% height=100%>\n   <defs>\n    <clipPath id=\"mask\">\n      <rect x=0 y=0 width=\"100%\">\n    </clipPath>\n  </defs>\n</svg>\n<style>\n\n.bp {\n    width: 100%;\n    -webkit-clip-path: circle(#mask);\n    clip-path: url(#mask);\n}\n</style>\n<img src=\"bp_solution.png\" class=bp>\n"
      }
     },
     "e69fb513830d4624a1729a30858efd56": {
      "model_module": "jupyter-js-widgets",
      "model_module_version": "~2.1.4",
      "model_name": "ButtonModel",
      "state": {
       "_model_module_version": "~2.1.4",
       "_view_module_version": "~2.1.4",
       "description": "Next",
       "icon": "check",
       "layout": "IPY_MODEL_ba4c8baf769d44e7aa0a7823c7137d8d",
       "style": "IPY_MODEL_126e44b6fc1e4113bb96c003342aab59",
       "tooltip": "Click me"
      }
     },
     "e6c0e2c97a724859a5ce3bb1b8325140": {
      "model_module": "jupyter-js-widgets",
      "model_module_version": "~2.1.4",
      "model_name": "HTMLModel",
      "state": {
       "_model_module_version": "~2.1.4",
       "_view_module_version": "~2.1.4",
       "layout": "IPY_MODEL_c515daa6663544d09d38eb2d40ea0ebf",
       "value": "<img src='bp_solution.png' width='100%'>"
      }
     },
     "e6c78536cec54f9482e8d42265cdafec": {
      "model_module": "jupyter-js-widgets",
      "model_module_version": "~2.1.4",
      "model_name": "LayoutModel",
      "state": {
       "_model_module_version": "~2.1.4",
       "_view_module_version": "~2.1.4"
      }
     },
     "e700332d3c2c441b8a6288e8e00f18c7": {
      "model_module": "jupyter-js-widgets",
      "model_module_version": "~2.1.4",
      "model_name": "ButtonModel",
      "state": {
       "_model_module_version": "~2.1.4",
       "_view_module_version": "~2.1.4",
       "description": "Previous",
       "icon": "check",
       "layout": "IPY_MODEL_a584e77b4a2744758efa47c2d795ce8a",
       "style": "IPY_MODEL_742b9c2d2436458d9420e7c8925c36d9",
       "tooltip": "Click me"
      }
     },
     "e7254a877e6c4f8a8b07c84da7365273": {
      "model_module": "jupyter-js-widgets",
      "model_module_version": "~2.1.4",
      "model_name": "LayoutModel",
      "state": {
       "_model_module_version": "~2.1.4",
       "_view_module_version": "~2.1.4"
      }
     },
     "e73c402fe20741938954fd39b2e27cce": {
      "model_module": "jupyter-js-widgets",
      "model_module_version": "~2.1.4",
      "model_name": "ButtonModel",
      "state": {
       "_model_module_version": "~2.1.4",
       "_view_module_version": "~2.1.4",
       "description": "Next",
       "layout": "IPY_MODEL_6436a4aa81f04eb5a0e4011a051faeb4",
       "style": "IPY_MODEL_7eee9afb1d304592901464ec552ae77a"
      }
     },
     "e74739714d934da28fffe12e7f2dddd6": {
      "model_module": "jupyter-js-widgets",
      "model_module_version": "~2.1.4",
      "model_name": "ButtonStyleModel",
      "state": {
       "_model_module_version": "~2.1.4",
       "_view_module_version": "~2.1.4"
      }
     },
     "e74e62ef8d074c7299274c1f72ecdfbb": {
      "model_module": "jupyter-js-widgets",
      "model_module_version": "~2.1.4",
      "model_name": "LayoutModel",
      "state": {
       "_model_module_version": "~2.1.4",
       "_view_module_version": "~2.1.4"
      }
     },
     "e79ef3abed854694aa11becdd4fe0fdf": {
      "model_module": "jupyter-js-widgets",
      "model_module_version": "~2.1.4",
      "model_name": "ButtonModel",
      "state": {
       "_model_module_version": "~2.1.4",
       "_view_module_version": "~2.1.4",
       "description": "Previous",
       "layout": "IPY_MODEL_e3bb87bf853b4b8e9b9e5d634ce00e86",
       "style": "IPY_MODEL_ddc1eccc78474232a1c0bbcccfc725e7"
      }
     },
     "e7ce4956707d4014be44b2faf4b6db3d": {
      "model_module": "jupyter-js-widgets",
      "model_module_version": "~2.1.4",
      "model_name": "ButtonStyleModel",
      "state": {
       "_model_module_version": "~2.1.4",
       "_view_module_version": "~2.1.4"
      }
     },
     "e7d0d76138f943b182cb8cfac856747f": {
      "model_module": "jupyter-js-widgets",
      "model_module_version": "~2.1.4",
      "model_name": "LayoutModel",
      "state": {
       "_model_module_version": "~2.1.4",
       "_view_module_version": "~2.1.4"
      }
     },
     "e80eb447b34c4d73bacfdbcb93624642": {
      "model_module": "jupyter-js-widgets",
      "model_module_version": "~2.1.4",
      "model_name": "LayoutModel",
      "state": {
       "_model_module_version": "~2.1.4",
       "_view_module_version": "~2.1.4"
      }
     },
     "e81cffdcfd1741afbcd06ee705c7f52a": {
      "model_module": "jupyter-js-widgets",
      "model_module_version": "~2.1.4",
      "model_name": "ButtonModel",
      "state": {
       "_model_module_version": "~2.1.4",
       "_view_module_version": "~2.1.4",
       "description": "Next",
       "icon": "check",
       "layout": "IPY_MODEL_01d027e6423b46348cee751807092a64",
       "style": "IPY_MODEL_b678a017423c41f8a9379b61c04b3064",
       "tooltip": "Click me"
      }
     },
     "e841f83c168940be9876cab7c7ed56f0": {
      "model_module": "jupyter-js-widgets",
      "model_module_version": "~2.1.4",
      "model_name": "HTMLModel",
      "state": {
       "_model_module_version": "~2.1.4",
       "_view_module_version": "~2.1.4",
       "layout": "IPY_MODEL_29d3c57c2d784830b2066b856e995b25",
       "value": "\n<svg width=\"100%\" height=0><defs><clipPath id=\"mask\">\n<rect x=0 y=310 width='28%' height='100'><rect x=0 y=0 width='28%' height='350'>\n</clipPath></defs></svg>\n<style>\n.bp {\n    width: 100%;\n    -webkit-clip-path: circle(#mask);\n    clip-path: url(#mask);\n}\n</style>\n<img src=\"bp_solution.png\" class=bp>\n"
      }
     },
     "e8a7d290570a4cc78bc2e1472a5a4113": {
      "model_module": "jupyter-js-widgets",
      "model_module_version": "~2.1.4",
      "model_name": "ButtonModel",
      "state": {
       "_model_module_version": "~2.1.4",
       "_view_module_version": "~2.1.4",
       "description": "Next",
       "icon": "check",
       "layout": "IPY_MODEL_5bc5afc7cd1f484f973c2cdbd78fc75e",
       "style": "IPY_MODEL_380817f0c35c4dcb9d252711860ab0e0",
       "tooltip": "Click me"
      }
     },
     "e8b51f66820143d5acea9dac99dda526": {
      "model_module": "jupyter-js-widgets",
      "model_module_version": "~2.1.4",
      "model_name": "LayoutModel",
      "state": {
       "_model_module_version": "~2.1.4",
       "_view_module_version": "~2.1.4"
      }
     },
     "e8d505adbb7b4528bb987c93e5027e00": {
      "model_module": "jupyter-js-widgets",
      "model_module_version": "~2.1.4",
      "model_name": "LayoutModel",
      "state": {
       "_model_module_version": "~2.1.4",
       "_view_module_version": "~2.1.4"
      }
     },
     "e8d654f6280449db8948a1fcf9331a62": {
      "model_module": "jupyter-js-widgets",
      "model_module_version": "~2.1.4",
      "model_name": "LayoutModel",
      "state": {
       "_model_module_version": "~2.1.4",
       "_view_module_version": "~2.1.4"
      }
     },
     "e8db1d53499947f4ad866280fc5dae3a": {
      "model_module": "jupyter-js-widgets",
      "model_module_version": "~2.1.4",
      "model_name": "HTMLModel",
      "state": {
       "_model_module_version": "~2.1.4",
       "_view_module_version": "~2.1.4",
       "layout": "IPY_MODEL_87ab21388f5c4cb5847dba91b70b6ce7",
       "value": "<img src='bp_solution.png'>"
      }
     },
     "e920632be8c44ea7ac799b78c62f997b": {
      "model_module": "jupyter-js-widgets",
      "model_module_version": "~2.1.4",
      "model_name": "LayoutModel",
      "state": {
       "_model_module_version": "~2.1.4",
       "_view_module_version": "~2.1.4"
      }
     },
     "e934a4fc476d4db08c307c97df757cb5": {
      "model_module": "jupyter-js-widgets",
      "model_module_version": "~2.1.4",
      "model_name": "ButtonModel",
      "state": {
       "_model_module_version": "~2.1.4",
       "_view_module_version": "~2.1.4",
       "description": "Previous",
       "icon": "check",
       "layout": "IPY_MODEL_3adecc18b21942aea396382b8a5ba88a",
       "style": "IPY_MODEL_ed82ce4049cf4273a4346ea10f81940d",
       "tooltip": "Click me"
      }
     },
     "e97d6d1af4864bebaafd913347d838b4": {
      "model_module": "jupyter-js-widgets",
      "model_module_version": "~2.1.4",
      "model_name": "ButtonStyleModel",
      "state": {
       "_model_module_version": "~2.1.4",
       "_view_module_version": "~2.1.4"
      }
     },
     "e982c23405d74529970526c83a195c57": {
      "model_module": "jupyter-js-widgets",
      "model_module_version": "~2.1.4",
      "model_name": "ButtonModel",
      "state": {
       "_model_module_version": "~2.1.4",
       "_view_module_version": "~2.1.4",
       "description": "Next",
       "icon": "check",
       "layout": "IPY_MODEL_eab0d5a42aba47958f3788944beabede",
       "style": "IPY_MODEL_ec489f1ddf8b45288afde66117bff1d1",
       "tooltip": "Click me"
      }
     },
     "e99538fdb3244cad8c17e0a2986668a9": {
      "model_module": "jupyter-js-widgets",
      "model_module_version": "~2.1.4",
      "model_name": "ButtonStyleModel",
      "state": {
       "_model_module_version": "~2.1.4",
       "_view_module_version": "~2.1.4"
      }
     },
     "e9a1c6bf72bc4aa689fce436f4576bec": {
      "model_module": "jupyter-js-widgets",
      "model_module_version": "~2.1.4",
      "model_name": "IntSliderModel",
      "state": {
       "_model_module_version": "~2.1.4",
       "_view_module_version": "~2.1.4",
       "layout": "IPY_MODEL_532a9d0156fb42d8957f6bc6d3bd9349",
       "style": "IPY_MODEL_a764c086dfbf4c848cd44e6fcace8cc0"
      }
     },
     "e9e870f5eafb4274b9a67dafd84f63ab": {
      "model_module": "jupyter-js-widgets",
      "model_module_version": "~2.1.4",
      "model_name": "ButtonStyleModel",
      "state": {
       "_model_module_version": "~2.1.4",
       "_view_module_version": "~2.1.4"
      }
     },
     "e9f10b01ab3e44ca867c5713bf5ae925": {
      "model_module": "jupyter-js-widgets",
      "model_module_version": "~2.1.4",
      "model_name": "HTMLModel",
      "state": {
       "_model_module_version": "~2.1.4",
       "_view_module_version": "~2.1.4",
       "layout": "IPY_MODEL_7b1ff355846d4c758e5533cd8e82227d",
       "value": "\n<svg width=\"100%\" height=0><defs><clipPath id=\"mask\">\n\n            <rect x=0 y=0 width=\"50%\" height=\"100\">\n</clipPath></defs></svg>\n<style>\n.bp {\n    width: 100%;\n    -webkit-clip-path: circle(#mask);\n    clip-path: url(#mask);\n}\n</style>\n<img src=\"bp_solution.png\" class=bp>\n"
      }
     },
     "e9fbed6250c04cfa804a5826d1ff4109": {
      "model_module": "jupyter-js-widgets",
      "model_module_version": "~2.1.4",
      "model_name": "ButtonModel",
      "state": {
       "_model_module_version": "~2.1.4",
       "_view_module_version": "~2.1.4",
       "description": "Previous",
       "layout": "IPY_MODEL_662d51964db940a08588fd495ab1402b",
       "style": "IPY_MODEL_61a8615d69164ffa863bf94936b0dfeb"
      }
     },
     "ea1b6da5e08240eba2fed3946c243b20": {
      "model_module": "jupyter-js-widgets",
      "model_module_version": "~2.1.4",
      "model_name": "HTMLModel",
      "state": {
       "_model_module_version": "~2.1.4",
       "_view_module_version": "~2.1.4",
       "layout": "IPY_MODEL_88331c16317140dc8d17de598f4b40bc",
       "value": "<img src='bp_solution.png' width='100%'>"
      }
     },
     "ea6c43ed587c457d9f26e8f0feaf2f69": {
      "model_module": "jupyter-js-widgets",
      "model_module_version": "~2.1.4",
      "model_name": "ButtonStyleModel",
      "state": {
       "_model_module_version": "~2.1.4",
       "_view_module_version": "~2.1.4"
      }
     },
     "ea9f86e1f89f4123b000673ffa6a90ee": {
      "model_module": "jupyter-js-widgets",
      "model_module_version": "~2.1.4",
      "model_name": "LayoutModel",
      "state": {
       "_model_module_version": "~2.1.4",
       "_view_module_version": "~2.1.4"
      }
     },
     "eaa4ca84c78a4fe5965cefdff4df5f94": {
      "model_module": "jupyter-js-widgets",
      "model_module_version": "~2.1.4",
      "model_name": "HTMLModel",
      "state": {
       "_model_module_version": "~2.1.4",
       "_view_module_version": "~2.1.4",
       "layout": "IPY_MODEL_0885cabc32d6447192f7e941c5d49893",
       "value": "<img src='bp_solution.png' width='100%'>"
      }
     },
     "eab0d5a42aba47958f3788944beabede": {
      "model_module": "jupyter-js-widgets",
      "model_module_version": "~2.1.4",
      "model_name": "LayoutModel",
      "state": {
       "_model_module_version": "~2.1.4",
       "_view_module_version": "~2.1.4"
      }
     },
     "eae5cc91ebb1400a893daa8c624e9f6b": {
      "model_module": "jupyter-js-widgets",
      "model_module_version": "~2.1.4",
      "model_name": "LayoutModel",
      "state": {
       "_model_module_version": "~2.1.4",
       "_view_module_version": "~2.1.4"
      }
     },
     "eafa3854202043f9a8a69f0bcb0391da": {
      "model_module": "jupyter-js-widgets",
      "model_module_version": "~2.1.4",
      "model_name": "LayoutModel",
      "state": {
       "_model_module_version": "~2.1.4",
       "_view_module_version": "~2.1.4"
      }
     },
     "eb045d14deb74c8fa1fc4d971fc483a9": {
      "model_module": "jupyter-js-widgets",
      "model_module_version": "~2.1.4",
      "model_name": "HTMLModel",
      "state": {
       "_model_module_version": "~2.1.4",
       "_view_module_version": "~2.1.4",
       "layout": "IPY_MODEL_40dae08bee4c4448a7b737b6aa770d04",
       "value": "\n<svg width=\"100%\">\n   <defs>\n    <clipPath id=\"mask\">\n      <rect x=0 y=100 width=\"50%\" height=\"500\">\n    </clipPath>\n  </defs>\n</svg>\n<style>\n\n.bp {\n    width: 100%;\n    -webkit-clip-path: circle(#mask);\n    clip-path: url(#mask);\n}\n</style>\n<img src=\"bp_solution.png\" class=bp>\n"
      }
     },
     "eb19a67304da4d20bccc7780d18c0c6a": {
      "model_module": "jupyter-js-widgets",
      "model_module_version": "~2.1.4",
      "model_name": "LayoutModel",
      "state": {
       "_model_module_version": "~2.1.4",
       "_view_module_version": "~2.1.4"
      }
     },
     "eb466b65e7b54e57ad98119507b9765a": {
      "model_module": "jupyter-js-widgets",
      "model_module_version": "~2.1.4",
      "model_name": "LayoutModel",
      "state": {
       "_model_module_version": "~2.1.4",
       "_view_module_version": "~2.1.4"
      }
     },
     "eb560553ed29400c80c4a5c727b75c0b": {
      "model_module": "jupyter-js-widgets",
      "model_module_version": "~2.1.4",
      "model_name": "ButtonModel",
      "state": {
       "_model_module_version": "~2.1.4",
       "_view_module_version": "~2.1.4",
       "description": "Next",
       "layout": "IPY_MODEL_b5eaad7c65f843aaa79128b80a42e92b",
       "style": "IPY_MODEL_6fa7e9c4ce964a42a3c4ae34287f87f7"
      }
     },
     "ebe5928d02f845268705a1e391c82575": {
      "model_module": "jupyter-js-widgets",
      "model_module_version": "~2.1.4",
      "model_name": "ButtonModel",
      "state": {
       "_model_module_version": "~2.1.4",
       "_view_module_version": "~2.1.4",
       "description": "Previous",
       "layout": "IPY_MODEL_f49490ce045a48d1938aa1b817b16e18",
       "style": "IPY_MODEL_af287519cb484870887aba2a30f9916a"
      }
     },
     "ec27e5be6100401bb5ed8ce11dca3b91": {
      "model_module": "jupyter-js-widgets",
      "model_module_version": "~2.1.4",
      "model_name": "ButtonStyleModel",
      "state": {
       "_model_module_version": "~2.1.4",
       "_view_module_version": "~2.1.4"
      }
     },
     "ec3b9473fc1c4856ae2eedde9b9f2c9c": {
      "model_module": "jupyter-js-widgets",
      "model_module_version": "~2.1.4",
      "model_name": "ButtonStyleModel",
      "state": {
       "_model_module_version": "~2.1.4",
       "_view_module_version": "~2.1.4"
      }
     },
     "ec3c2e55d01b495e835e27e577901a75": {
      "model_module": "jupyter-js-widgets",
      "model_module_version": "~2.1.4",
      "model_name": "ButtonModel",
      "state": {
       "_model_module_version": "~2.1.4",
       "_view_module_version": "~2.1.4",
       "description": "Previous",
       "icon": "check",
       "layout": "IPY_MODEL_12a51eca739f4d4aa97365bfab8e8891",
       "style": "IPY_MODEL_fb235f6c8d3247de906f0448e8d8efdc",
       "tooltip": "Click me"
      }
     },
     "ec489f1ddf8b45288afde66117bff1d1": {
      "model_module": "jupyter-js-widgets",
      "model_module_version": "~2.1.4",
      "model_name": "ButtonStyleModel",
      "state": {
       "_model_module_version": "~2.1.4",
       "_view_module_version": "~2.1.4"
      }
     },
     "ec6203dc57d1423180893a457198c2b3": {
      "model_module": "jupyter-js-widgets",
      "model_module_version": "~2.1.4",
      "model_name": "LayoutModel",
      "state": {
       "_model_module_version": "~2.1.4",
       "_view_module_version": "~2.1.4"
      }
     },
     "ec7b49ec26604c7aaad2805ad98d11f2": {
      "model_module": "jupyter-js-widgets",
      "model_module_version": "~2.1.4",
      "model_name": "ButtonStyleModel",
      "state": {
       "_model_module_version": "~2.1.4",
       "_view_module_version": "~2.1.4"
      }
     },
     "ecc75b29a2e142ffa58b3dc20f2ba969": {
      "model_module": "jupyter-js-widgets",
      "model_module_version": "~2.1.4",
      "model_name": "LayoutModel",
      "state": {
       "_model_module_version": "~2.1.4",
       "_view_module_version": "~2.1.4"
      }
     },
     "ecf98ecf07a64008b85754bd04f56fde": {
      "model_module": "jupyter-js-widgets",
      "model_module_version": "~2.1.4",
      "model_name": "LayoutModel",
      "state": {
       "_model_module_version": "~2.1.4",
       "_view_module_version": "~2.1.4"
      }
     },
     "ed4771358fc348a8b75070cf4fe8ec8c": {
      "model_module": "jupyter-js-widgets",
      "model_module_version": "~2.1.4",
      "model_name": "LayoutModel",
      "state": {
       "_model_module_version": "~2.1.4",
       "_view_module_version": "~2.1.4"
      }
     },
     "ed63a1d5610c42e99656198ae2da2b36": {
      "model_module": "jupyter-js-widgets",
      "model_module_version": "~2.1.4",
      "model_name": "ButtonStyleModel",
      "state": {
       "_model_module_version": "~2.1.4",
       "_view_module_version": "~2.1.4"
      }
     },
     "ed6b4d2cf82b4bf8979ffd5ca10a0241": {
      "model_module": "jupyter-js-widgets",
      "model_module_version": "~2.1.4",
      "model_name": "ButtonModel",
      "state": {
       "_model_module_version": "~2.1.4",
       "_view_module_version": "~2.1.4",
       "description": "Previous",
       "icon": "check",
       "layout": "IPY_MODEL_c80a58f5ee43469cb2b9253c86f32dca",
       "style": "IPY_MODEL_e432888ffe64490db536c77b5259d09a",
       "tooltip": "Click me"
      }
     },
     "ed82ce4049cf4273a4346ea10f81940d": {
      "model_module": "jupyter-js-widgets",
      "model_module_version": "~2.1.4",
      "model_name": "ButtonStyleModel",
      "state": {
       "_model_module_version": "~2.1.4",
       "_view_module_version": "~2.1.4"
      }
     },
     "edc83d9faa2b4998b1c7d143135b7fc9": {
      "model_module": "jupyter-js-widgets",
      "model_module_version": "~2.1.4",
      "model_name": "HTMLModel",
      "state": {
       "_model_module_version": "~2.1.4",
       "_view_module_version": "~2.1.4",
       "layout": "IPY_MODEL_b95a7c2f2209453cb291de2b7355029f",
       "value": "\n<svg width=\"100%\">\n   <defs>\n    <clipPath id=\"mask\">\n      <rect x=0 y=0 width=\"50%\" height=\"500\">\n    </clipPath>\n  </defs>\n</svg>\n<style>\n\n.bp {\n    width: 100%;\n    -webkit-clip-path: circle(#mask);\n    clip-path: url(#mask);\n}\n</style>\n<img src=\"bp_solution.png\" class=bp>\n"
      }
     },
     "edfdfa24cbd04181ba2859ea54cd0c89": {
      "model_module": "jupyter-js-widgets",
      "model_module_version": "~2.1.4",
      "model_name": "ButtonStyleModel",
      "state": {
       "_model_module_version": "~2.1.4",
       "_view_module_version": "~2.1.4"
      }
     },
     "ee428a9c35674a90a8bfb358383e4036": {
      "model_module": "jupyter-js-widgets",
      "model_module_version": "~2.1.4",
      "model_name": "LayoutModel",
      "state": {
       "_model_module_version": "~2.1.4",
       "_view_module_version": "~2.1.4"
      }
     },
     "ee7e3cf8012e422f8615689cdbca5796": {
      "model_module": "jupyter-js-widgets",
      "model_module_version": "~2.1.4",
      "model_name": "ButtonStyleModel",
      "state": {
       "_model_module_version": "~2.1.4",
       "_view_module_version": "~2.1.4"
      }
     },
     "ef1073ec701f49cabf7ead8ff46139e7": {
      "model_module": "jupyter-js-widgets",
      "model_module_version": "~2.1.4",
      "model_name": "LayoutModel",
      "state": {
       "_model_module_version": "~2.1.4",
       "_view_module_version": "~2.1.4"
      }
     },
     "ef291af79c5247e0a1be9fc17f7fd79e": {
      "model_module": "jupyter-js-widgets",
      "model_module_version": "~2.1.4",
      "model_name": "ButtonStyleModel",
      "state": {
       "_model_module_version": "~2.1.4",
       "_view_module_version": "~2.1.4"
      }
     },
     "ef48b2cb3f0242b5b2a8c366b20ca5e1": {
      "model_module": "jupyter-js-widgets",
      "model_module_version": "~2.1.4",
      "model_name": "ButtonModel",
      "state": {
       "_model_module_version": "~2.1.4",
       "_view_module_version": "~2.1.4",
       "description": "Next",
       "layout": "IPY_MODEL_a8aca966e45147748ad09c0578bce424",
       "style": "IPY_MODEL_04e682abcd3c46699ae15239531911fb"
      }
     },
     "ef4f2eb76d9f4ddc95e3c870bdb7d7f8": {
      "model_module": "jupyter-js-widgets",
      "model_module_version": "~2.1.4",
      "model_name": "IntSliderModel",
      "state": {
       "_model_module_version": "~2.1.4",
       "_view_module_version": "~2.1.4",
       "layout": "IPY_MODEL_e0f55228346b451c9be7a9356c4ecd39",
       "style": "IPY_MODEL_aa23e3533cf746649c3c197ebd90e7dc",
       "value": 53
      }
     },
     "ef5f8b71232f4dfa8b15a421e0eb8580": {
      "model_module": "jupyter-js-widgets",
      "model_module_version": "~2.1.4",
      "model_name": "LayoutModel",
      "state": {
       "_model_module_version": "~2.1.4",
       "_view_module_version": "~2.1.4"
      }
     },
     "ef8998c1cca948d5b78443f12e142022": {
      "model_module": "jupyter-js-widgets",
      "model_module_version": "~2.1.4",
      "model_name": "ButtonModel",
      "state": {
       "_model_module_version": "~2.1.4",
       "_view_module_version": "~2.1.4",
       "description": "Previous",
       "icon": "check",
       "layout": "IPY_MODEL_80de9fad8e384c60a48576e696b488ae",
       "style": "IPY_MODEL_cabd0941a9d04733b4a0a93f39f69ebd",
       "tooltip": "Click me"
      }
     },
     "ef95dac66ee247baa54d31a872f7f87f": {
      "model_module": "jupyter-js-widgets",
      "model_module_version": "~2.1.4",
      "model_name": "LayoutModel",
      "state": {
       "_model_module_version": "~2.1.4",
       "_view_module_version": "~2.1.4"
      }
     },
     "efb011a0f90f4e79943b8893484e3346": {
      "model_module": "jupyter-js-widgets",
      "model_module_version": "~2.1.4",
      "model_name": "HTMLModel",
      "state": {
       "_model_module_version": "~2.1.4",
       "_view_module_version": "~2.1.4",
       "layout": "IPY_MODEL_263c887541fb41dfb8306a2d1a272b98",
       "value": "\n<svg width=\"100%\">\n   <defs>\n    <clipPath id=\"mask\">\n      <rect x=0 y=100 width=\"50%\" height=\"500\">\n    </clipPath>\n  </defs>\n</svg>\n<style>\n\n.bp {\n    width: 100%;\n    -webkit-clip-path: circle(#mask);\n    clip-path: url(#mask);\n}\n</style>\n<img src=\"bp_solution.png\" class=bp>\n"
      }
     },
     "efcb8bc0545b475f9387e0ee461219b9": {
      "model_module": "jupyter-js-widgets",
      "model_module_version": "~2.1.4",
      "model_name": "ButtonStyleModel",
      "state": {
       "_model_module_version": "~2.1.4",
       "_view_module_version": "~2.1.4"
      }
     },
     "efdacc76394149ed935bdc8ef7cfd63e": {
      "model_module": "jupyter-js-widgets",
      "model_module_version": "~2.1.4",
      "model_name": "ButtonStyleModel",
      "state": {
       "_model_module_version": "~2.1.4",
       "_view_module_version": "~2.1.4"
      }
     },
     "f00f71d4d6db493cb2b9047f987837d9": {
      "model_module": "jupyter-js-widgets",
      "model_module_version": "~2.1.4",
      "model_name": "LayoutModel",
      "state": {
       "_model_module_version": "~2.1.4",
       "_view_module_version": "~2.1.4"
      }
     },
     "f039579e9e2d4286a3b902db43d9f397": {
      "model_module": "jupyter-js-widgets",
      "model_module_version": "~2.1.4",
      "model_name": "ButtonStyleModel",
      "state": {
       "_model_module_version": "~2.1.4",
       "_view_module_version": "~2.1.4"
      }
     },
     "f052b477b77e4eb8877dc1b9a5d95df3": {
      "model_module": "jupyter-js-widgets",
      "model_module_version": "~2.1.4",
      "model_name": "ButtonModel",
      "state": {
       "_model_module_version": "~2.1.4",
       "_view_module_version": "~2.1.4",
       "description": "Next",
       "icon": "check",
       "layout": "IPY_MODEL_df5ba1e61e604523b06df8aef2be5b97",
       "style": "IPY_MODEL_7345e848ca644ebf98b7a2b95dfce168",
       "tooltip": "Click me"
      }
     },
     "f05f47d92477456b85ca501a8f5b9927": {
      "model_module": "jupyter-js-widgets",
      "model_module_version": "~2.1.4",
      "model_name": "LayoutModel",
      "state": {
       "_model_module_version": "~2.1.4",
       "_view_module_version": "~2.1.4"
      }
     },
     "f073bcc1cef545699731ed0eccc0fff0": {
      "model_module": "jupyter-js-widgets",
      "model_module_version": "~2.1.4",
      "model_name": "ButtonStyleModel",
      "state": {
       "_model_module_version": "~2.1.4",
       "_view_module_version": "~2.1.4"
      }
     },
     "f0d9b505108948b99555f75b7787252c": {
      "model_module": "jupyter-js-widgets",
      "model_module_version": "~2.1.4",
      "model_name": "LayoutModel",
      "state": {
       "_model_module_version": "~2.1.4",
       "_view_module_version": "~2.1.4"
      }
     },
     "f104dec4317b4fe2a0f99552d502d15c": {
      "model_module": "jupyter-js-widgets",
      "model_module_version": "~2.1.4",
      "model_name": "ButtonModel",
      "state": {
       "_model_module_version": "~2.1.4",
       "_view_module_version": "~2.1.4",
       "description": "Next",
       "layout": "IPY_MODEL_b3b31b6ba3fc45e4b6b1ce48b8e92841",
       "style": "IPY_MODEL_be096b1174cd47c1b38b6aee113e965f"
      }
     },
     "f107e368bb274dd49e40427464aa158c": {
      "model_module": "jupyter-js-widgets",
      "model_module_version": "~2.1.4",
      "model_name": "ButtonStyleModel",
      "state": {
       "_model_module_version": "~2.1.4",
       "_view_module_version": "~2.1.4"
      }
     },
     "f10b901002f84575a3948d5eda73af9a": {
      "model_module": "jupyter-js-widgets",
      "model_module_version": "~2.1.4",
      "model_name": "ButtonStyleModel",
      "state": {
       "_model_module_version": "~2.1.4",
       "_view_module_version": "~2.1.4"
      }
     },
     "f128e9cb898447548fbc8a98b0d8eb78": {
      "model_module": "jupyter-js-widgets",
      "model_module_version": "~2.1.4",
      "model_name": "LayoutModel",
      "state": {
       "_model_module_version": "~2.1.4",
       "_view_module_version": "~2.1.4"
      }
     },
     "f17257fa248b4bb2bd264d6b67c721da": {
      "model_module": "jupyter-js-widgets",
      "model_module_version": "~2.1.4",
      "model_name": "ButtonStyleModel",
      "state": {
       "_model_module_version": "~2.1.4",
       "_view_module_version": "~2.1.4"
      }
     },
     "f19c6c9422704de49942824f0d9bedd4": {
      "model_module": "jupyter-js-widgets",
      "model_module_version": "~2.1.4",
      "model_name": "LayoutModel",
      "state": {
       "_model_module_version": "~2.1.4",
       "_view_module_version": "~2.1.4"
      }
     },
     "f1a3788c07b642ee81752930a0bf38e1": {
      "model_module": "jupyter-js-widgets",
      "model_module_version": "~2.1.4",
      "model_name": "ButtonStyleModel",
      "state": {
       "_model_module_version": "~2.1.4",
       "_view_module_version": "~2.1.4"
      }
     },
     "f1aa8a3820e6488a99492451a4eb5c81": {
      "model_module": "jupyter-js-widgets",
      "model_module_version": "~2.1.4",
      "model_name": "ButtonStyleModel",
      "state": {
       "_model_module_version": "~2.1.4",
       "_view_module_version": "~2.1.4"
      }
     },
     "f1b0a5b0fd2849e3b2d8a7f5e8930a43": {
      "model_module": "jupyter-js-widgets",
      "model_module_version": "~2.1.4",
      "model_name": "ButtonModel",
      "state": {
       "_model_module_version": "~2.1.4",
       "_view_module_version": "~2.1.4",
       "description": "Next",
       "icon": "check",
       "layout": "IPY_MODEL_21b55d80347a4b609349ace680a53cfa",
       "style": "IPY_MODEL_a00ff6f831654f59841987244d7077c5",
       "tooltip": "Click me"
      }
     },
     "f1bb205e6a86404f95516e543b61a7a4": {
      "model_module": "jupyter-js-widgets",
      "model_module_version": "~2.1.4",
      "model_name": "LayoutModel",
      "state": {
       "_model_module_version": "~2.1.4",
       "_view_module_version": "~2.1.4"
      }
     },
     "f1e5460a523c4553aec1b7b2ed20805a": {
      "model_module": "jupyter-js-widgets",
      "model_module_version": "~2.1.4",
      "model_name": "LayoutModel",
      "state": {
       "_model_module_version": "~2.1.4",
       "_view_module_version": "~2.1.4"
      }
     },
     "f23999a26348460cb58968b99b02bdc0": {
      "model_module": "jupyter-js-widgets",
      "model_module_version": "~2.1.4",
      "model_name": "LayoutModel",
      "state": {
       "_model_module_version": "~2.1.4",
       "_view_module_version": "~2.1.4"
      }
     },
     "f2693cfb073c4895960c83892296de90": {
      "model_module": "jupyter-js-widgets",
      "model_module_version": "~2.1.4",
      "model_name": "HTMLModel",
      "state": {
       "_model_module_version": "~2.1.4",
       "_view_module_version": "~2.1.4",
       "layout": "IPY_MODEL_4fb9f580deb6416a8e7817de0f107fa7",
       "value": "<img src='bp_solution.png' width='70%'>"
      }
     },
     "f28ab859c1034dd29b8f3d391f264e98": {
      "model_module": "jupyter-js-widgets",
      "model_module_version": "~2.1.4",
      "model_name": "LayoutModel",
      "state": {
       "_model_module_version": "~2.1.4",
       "_view_module_version": "~2.1.4"
      }
     },
     "f28fd3451dfa4fe2bc825e50261d661d": {
      "model_module": "jupyter-js-widgets",
      "model_module_version": "~2.1.4",
      "model_name": "ButtonModel",
      "state": {
       "_model_module_version": "~2.1.4",
       "_view_module_version": "~2.1.4",
       "description": "Next",
       "icon": "check",
       "layout": "IPY_MODEL_6de0867013524069bd354796a7e61a21",
       "style": "IPY_MODEL_168721c46be741de90462d0fe916dfd2",
       "tooltip": "Click me"
      }
     },
     "f29d8556c86c47f9bbc01545652c97cc": {
      "model_module": "jupyter-js-widgets",
      "model_module_version": "~2.1.4",
      "model_name": "HTMLModel",
      "state": {
       "_model_module_version": "~2.1.4",
       "_view_module_version": "~2.1.4",
       "layout": "IPY_MODEL_b40d8ca4b48e4570b60df4bc7da5c2ca",
       "value": "\n<svg width=\"100%\">\n   <defs>\n    <clipPath id=\"mask\">\n      <rect x=0 y=0 width=\"50%\" height=\"400\">\n    </clipPath>\n  </defs>\n</svg>\n<style>\n\n.bp {\n    width: 100%;\n    -webkit-clip-path: circle(#mask);\n    clip-path: url(#mask);\n}\n</style>\n<img src=\"bp_solution.png\" class=bp>\n"
      }
     },
     "f2bd4774933146939d25da400ed4424f": {
      "model_module": "jupyter-js-widgets",
      "model_module_version": "~2.1.4",
      "model_name": "HTMLModel",
      "state": {
       "_model_module_version": "~2.1.4",
       "_view_module_version": "~2.1.4",
       "layout": "IPY_MODEL_55c7afd4af10431d94a2892d24670090",
       "value": "\n<svg>\n   <defs>\n    <clipPath id=\"mask\">\n      <rect x=20 y=20 width=\"50%\" height=100%>\n    </clipPath>\n  </defs>\n</svg>\n<style>\n\n.bp {\n    width: 100%;\n    -webkit-clip-path: circle(#mask);\n    clip-path: url(#mask);\n}\n</style>\n<img src=\"bp_solution.png\" class=bp>\n"
      }
     },
     "f2c8930793754ac4b783ee00d3541f01": {
      "model_module": "jupyter-js-widgets",
      "model_module_version": "~2.1.4",
      "model_name": "LayoutModel",
      "state": {
       "_model_module_version": "~2.1.4",
       "_view_module_version": "~2.1.4",
       "align_items": "stretch",
       "display": "flex",
       "flex_flow": "row",
       "justify_content": "center",
       "width": "100%"
      }
     },
     "f2cb1ddee586465fa220099df6c18a74": {
      "model_module": "jupyter-js-widgets",
      "model_module_version": "~2.1.4",
      "model_name": "LayoutModel",
      "state": {
       "_model_module_version": "~2.1.4",
       "_view_module_version": "~2.1.4"
      }
     },
     "f2ccf5b3cd1a451e952c0e1682942138": {
      "model_module": "jupyter-js-widgets",
      "model_module_version": "~2.1.4",
      "model_name": "LayoutModel",
      "state": {
       "_model_module_version": "~2.1.4",
       "_view_module_version": "~2.1.4"
      }
     },
     "f2cd08390f13478c9e5d411a96def0c6": {
      "model_module": "jupyter-js-widgets",
      "model_module_version": "~2.1.4",
      "model_name": "ButtonModel",
      "state": {
       "_model_module_version": "~2.1.4",
       "_view_module_version": "~2.1.4",
       "description": "Previous",
       "layout": "IPY_MODEL_d4a9aa6234cc440cb212ac533087fdba",
       "style": "IPY_MODEL_5e51c0e54448438a87d9d0fde304b0cf"
      }
     },
     "f2ce413171fd4d62b4028e9e3f57367b": {
      "model_module": "jupyter-js-widgets",
      "model_module_version": "~2.1.4",
      "model_name": "ButtonStyleModel",
      "state": {
       "_model_module_version": "~2.1.4",
       "_view_module_version": "~2.1.4"
      }
     },
     "f2d52f7133684e7e8b99df61079fb77e": {
      "model_module": "jupyter-js-widgets",
      "model_module_version": "~2.1.4",
      "model_name": "LayoutModel",
      "state": {
       "_model_module_version": "~2.1.4",
       "_view_module_version": "~2.1.4"
      }
     },
     "f2fee77488fe465eb953f78b7efb169b": {
      "model_module": "jupyter-js-widgets",
      "model_module_version": "~2.1.4",
      "model_name": "ButtonStyleModel",
      "state": {
       "_model_module_version": "~2.1.4",
       "_view_module_version": "~2.1.4"
      }
     },
     "f3072c59d77c45abb51ec873eaf9cc43": {
      "model_module": "jupyter-js-widgets",
      "model_module_version": "~2.1.4",
      "model_name": "ButtonStyleModel",
      "state": {
       "_model_module_version": "~2.1.4",
       "_view_module_version": "~2.1.4"
      }
     },
     "f30a1a6bd2ae4734bdafd18485ed1d69": {
      "model_module": "jupyter-js-widgets",
      "model_module_version": "~2.1.4",
      "model_name": "LayoutModel",
      "state": {
       "_model_module_version": "~2.1.4",
       "_view_module_version": "~2.1.4"
      }
     },
     "f313bf17170d4805ba8f327ad448222c": {
      "model_module": "jupyter-js-widgets",
      "model_module_version": "~2.1.4",
      "model_name": "LayoutModel",
      "state": {
       "_model_module_version": "~2.1.4",
       "_view_module_version": "~2.1.4"
      }
     },
     "f315dec34a8b4070b1ff5cb8828c6585": {
      "model_module": "jupyter-js-widgets",
      "model_module_version": "~2.1.4",
      "model_name": "LayoutModel",
      "state": {
       "_model_module_version": "~2.1.4",
       "_view_module_version": "~2.1.4"
      }
     },
     "f322802c847b433b973cfaf23ff2dae3": {
      "model_module": "jupyter-js-widgets",
      "model_module_version": "~2.1.4",
      "model_name": "ButtonModel",
      "state": {
       "_model_module_version": "~2.1.4",
       "_view_module_version": "~2.1.4",
       "description": "Previous",
       "icon": "check",
       "layout": "IPY_MODEL_b78dc944a108427e9cb176af291cfde5",
       "style": "IPY_MODEL_7afa0fec9cfa43779fd93599f70667ee",
       "tooltip": "Click me"
      }
     },
     "f340832581654969ba495754008bae91": {
      "model_module": "jupyter-js-widgets",
      "model_module_version": "~2.1.4",
      "model_name": "ButtonStyleModel",
      "state": {
       "_model_module_version": "~2.1.4",
       "_view_module_version": "~2.1.4"
      }
     },
     "f3679c2ea1e94bdbab6afa2dca628e49": {
      "model_module": "jupyter-js-widgets",
      "model_module_version": "~2.1.4",
      "model_name": "HTMLModel",
      "state": {
       "_model_module_version": "~2.1.4",
       "_view_module_version": "~2.1.4",
       "layout": "IPY_MODEL_439bd6e6effa44a8ad3c302e36634b63",
       "value": "\n<svg width=\"0\" height=\"0\">\n   <defs>\n    <clipPath id=\"mask\">\n      <rect x=20 y=20 width=\"50%\">\n    </clipPath>\n  </defs>\n</svg>\n<style>\n.bp {\n    width: 100%;\n    -webkit-clip-path: circle(50px);\n    clip-path: url(#mask);\n}\n</style>\n<img src=\"bp_solution.png\" class=bp>\n"
      }
     },
     "f3a2b19cefc84c7aab9f4404e81c01a6": {
      "model_module": "jupyter-js-widgets",
      "model_module_version": "~2.1.4",
      "model_name": "ButtonStyleModel",
      "state": {
       "_model_module_version": "~2.1.4",
       "_view_module_version": "~2.1.4"
      }
     },
     "f3e2449f917d452599c37545e5d04865": {
      "model_module": "jupyter-js-widgets",
      "model_module_version": "~2.1.4",
      "model_name": "LayoutModel",
      "state": {
       "_model_module_version": "~2.1.4",
       "_view_module_version": "~2.1.4"
      }
     },
     "f3ef01aa682a42eb8ced99b06a32f4ac": {
      "model_module": "jupyter-js-widgets",
      "model_module_version": "~2.1.4",
      "model_name": "HTMLModel",
      "state": {
       "_model_module_version": "~2.1.4",
       "_view_module_version": "~2.1.4",
       "layout": "IPY_MODEL_1d4f1083f7ba4508a9747d689bf91dbc",
       "value": "\n<svg width=\"100%\" height=0><defs><clipPath id=\"mask\">\n<rect x=0 y=0 width='100%' height='50' /><rect x=0 y=0 width='28%' height='500' /><rect x=0 y=0 width='72%' height='310' /><rect x='62%' y=0 width='100%' height='240' /><rect x='70%' y=0 width='100%' height='330' />\n</clipPath></defs></svg>\n<style>\nimg {\n    display: block;\n    margin: 0 auto;\n}\n.bp {\n    width: 100%;\n    -webkit-clip-path: circle(#mask);\n    clip-path: url(#mask);\n}\n</style>\n<img src='mlp.png' text-align='center'>\n<img src=\"bp_solution.png\" class=bp />\n"
      }
     },
     "f3f59ac4754d46598800e33c34cf229f": {
      "model_module": "jupyter-js-widgets",
      "model_module_version": "~2.1.4",
      "model_name": "ButtonModel",
      "state": {
       "_model_module_version": "~2.1.4",
       "_view_module_version": "~2.1.4",
       "description": "Next",
       "icon": "check",
       "layout": "IPY_MODEL_b301a302617347e8a5c34588f28139e2",
       "style": "IPY_MODEL_181724fb369a4b85a53af3b1f00003e0",
       "tooltip": "Click me"
      }
     },
     "f41718be8c724effb1e154a51870923d": {
      "model_module": "jupyter-js-widgets",
      "model_module_version": "~2.1.4",
      "model_name": "LayoutModel",
      "state": {
       "_model_module_version": "~2.1.4",
       "_view_module_version": "~2.1.4"
      }
     },
     "f45c15a8a5fb4e1eb6f73b5c2ab7600b": {
      "model_module": "jupyter-js-widgets",
      "model_module_version": "~2.1.4",
      "model_name": "ButtonStyleModel",
      "state": {
       "_model_module_version": "~2.1.4",
       "_view_module_version": "~2.1.4"
      }
     },
     "f45dcf10be1940fb8f78fd57612c8fff": {
      "model_module": "jupyter-js-widgets",
      "model_module_version": "~2.1.4",
      "model_name": "IntSliderModel",
      "state": {
       "_model_module_version": "~2.1.4",
       "_view_module_version": "~2.1.4",
       "layout": "IPY_MODEL_a765be2aa0f942d09470b35dc00ec067",
       "style": "IPY_MODEL_36d277d64466403ab0da5ae9d146c664"
      }
     },
     "f46314db30694c0c8c7bc08698892b3f": {
      "model_module": "jupyter-js-widgets",
      "model_module_version": "~2.1.4",
      "model_name": "ButtonModel",
      "state": {
       "_model_module_version": "~2.1.4",
       "_view_module_version": "~2.1.4",
       "description": "Previous",
       "icon": "check",
       "layout": "IPY_MODEL_bc377fba709d46a49e99c3d420e45384",
       "style": "IPY_MODEL_7d44473f3814400387c0a1aa5ea4e91e",
       "tooltip": "Click me"
      }
     },
     "f469f77f0e5c4851b6408c2ee8924ab1": {
      "model_module": "jupyter-js-widgets",
      "model_module_version": "~2.1.4",
      "model_name": "LayoutModel",
      "state": {
       "_model_module_version": "~2.1.4",
       "_view_module_version": "~2.1.4"
      }
     },
     "f470911556d94ff287698df1cf1d4977": {
      "model_module": "jupyter-js-widgets",
      "model_module_version": "~2.1.4",
      "model_name": "ButtonStyleModel",
      "state": {
       "_model_module_version": "~2.1.4",
       "_view_module_version": "~2.1.4"
      }
     },
     "f47a5f5bdff047f789d8f64f21051d94": {
      "model_module": "jupyter-js-widgets",
      "model_module_version": "~2.1.4",
      "model_name": "LayoutModel",
      "state": {
       "_model_module_version": "~2.1.4",
       "_view_module_version": "~2.1.4"
      }
     },
     "f48f52eb2b7641048a74ab4ba5cbbcb8": {
      "model_module": "jupyter-js-widgets",
      "model_module_version": "~2.1.4",
      "model_name": "ButtonModel",
      "state": {
       "_model_module_version": "~2.1.4",
       "_view_module_version": "~2.1.4",
       "description": "Previous",
       "layout": "IPY_MODEL_34e0b2ceea8f48dface142ebad126be8",
       "style": "IPY_MODEL_f791e8eaa7814f488221d7b2cf2ea9f3"
      }
     },
     "f49490ce045a48d1938aa1b817b16e18": {
      "model_module": "jupyter-js-widgets",
      "model_module_version": "~2.1.4",
      "model_name": "LayoutModel",
      "state": {
       "_model_module_version": "~2.1.4",
       "_view_module_version": "~2.1.4"
      }
     },
     "f49bdea610f54ef7a83f914cf60b4980": {
      "model_module": "jupyter-js-widgets",
      "model_module_version": "~2.1.4",
      "model_name": "ButtonModel",
      "state": {
       "_model_module_version": "~2.1.4",
       "_view_module_version": "~2.1.4",
       "description": "Previous",
       "layout": "IPY_MODEL_2f2b1747028b42bbb257bf540c7fc384",
       "style": "IPY_MODEL_b03d23aefaa64f9caf7194541947eac0"
      }
     },
     "f4c15ea119d1477bbc3e049755dfa08c": {
      "model_module": "jupyter-js-widgets",
      "model_module_version": "~2.1.4",
      "model_name": "LayoutModel",
      "state": {
       "_model_module_version": "~2.1.4",
       "_view_module_version": "~2.1.4"
      }
     },
     "f4dec9b3ce86492ba535241e8e68b331": {
      "model_module": "jupyter-js-widgets",
      "model_module_version": "~2.1.4",
      "model_name": "LayoutModel",
      "state": {
       "_model_module_version": "~2.1.4",
       "_view_module_version": "~2.1.4"
      }
     },
     "f4fa4d3cdb7547d0aeba52c3d12237a2": {
      "model_module": "jupyter-js-widgets",
      "model_module_version": "~2.1.4",
      "model_name": "LayoutModel",
      "state": {
       "_model_module_version": "~2.1.4",
       "_view_module_version": "~2.1.4"
      }
     },
     "f50da3025d1d4c5f84448f1083aef9d0": {
      "model_module": "jupyter-js-widgets",
      "model_module_version": "~2.1.4",
      "model_name": "LayoutModel",
      "state": {
       "_model_module_version": "~2.1.4",
       "_view_module_version": "~2.1.4"
      }
     },
     "f55cf77d00234710b68cb839127ebdc9": {
      "model_module": "jupyter-js-widgets",
      "model_module_version": "~2.1.4",
      "model_name": "ButtonModel",
      "state": {
       "_model_module_version": "~2.1.4",
       "_view_module_version": "~2.1.4",
       "description": "Previous",
       "icon": "check",
       "layout": "IPY_MODEL_1f9a27a96580457e88a35f0461b2df94",
       "style": "IPY_MODEL_89c5cbdc474c43028d3e8aca5609ca3d",
       "tooltip": "Click me"
      }
     },
     "f57235e7744f4faf8fa900af428cf06f": {
      "model_module": "jupyter-js-widgets",
      "model_module_version": "~2.1.4",
      "model_name": "LayoutModel",
      "state": {
       "_model_module_version": "~2.1.4",
       "_view_module_version": "~2.1.4"
      }
     },
     "f58f71e20d4e412285a8fb0a8144a6ec": {
      "model_module": "jupyter-js-widgets",
      "model_module_version": "~2.1.4",
      "model_name": "ButtonModel",
      "state": {
       "_model_module_version": "~2.1.4",
       "_view_module_version": "~2.1.4",
       "description": "Previous",
       "icon": "check",
       "layout": "IPY_MODEL_9c29c5208a6a45e08e2e64fc952fb354",
       "style": "IPY_MODEL_e05ef851405149f98c2c4ddda8651178",
       "tooltip": "Click me"
      }
     },
     "f5957a57a8114d43b795816e27467ea8": {
      "model_module": "jupyter-js-widgets",
      "model_module_version": "~2.1.4",
      "model_name": "ButtonModel",
      "state": {
       "_model_module_version": "~2.1.4",
       "_view_module_version": "~2.1.4",
       "description": "Next",
       "layout": "IPY_MODEL_ad8e5f554af242bdb38be0593d6d96ff",
       "style": "IPY_MODEL_b9b860e50c2147f78e6efc02a8455341"
      }
     },
     "f5a8f68d85ad49fbb7b246c7c9c7ced3": {
      "model_module": "jupyter-js-widgets",
      "model_module_version": "~2.1.4",
      "model_name": "HTMLModel",
      "state": {
       "_model_module_version": "~2.1.4",
       "_view_module_version": "~2.1.4",
       "layout": "IPY_MODEL_60b48fcacb0b4447860a055eb8fcce2b",
       "value": "\n<svg width=\"100%\" height=0><defs><clipPath id=\"mask\">\n<rect x=0 y=300 width='28%' height='500'><rect x=0 y=0 width='28%' height='500'>\n</clipPath></defs></svg>\n<style>\n.bp {\n    width: 100%;\n    -webkit-clip-path: circle(#mask);\n    clip-path: url(#mask);\n}\n</style>\n<img src=\"bp_solution.png\" class=bp>\n"
      }
     },
     "f611f98b1c3b498fa71b685b30cdc2cc": {
      "model_module": "jupyter-js-widgets",
      "model_module_version": "~2.1.4",
      "model_name": "ButtonModel",
      "state": {
       "_model_module_version": "~2.1.4",
       "_view_module_version": "~2.1.4",
       "description": "Previous",
       "layout": "IPY_MODEL_7cd65ae33e41490f9e0b6b5f7ac21b7f",
       "style": "IPY_MODEL_92117ebe7911496dbc4bc9c87d5f5a99"
      }
     },
     "f6323d50efa246339ea43fc4b4dcd8f5": {
      "model_module": "jupyter-js-widgets",
      "model_module_version": "~2.1.4",
      "model_name": "LayoutModel",
      "state": {
       "_model_module_version": "~2.1.4",
       "_view_module_version": "~2.1.4"
      }
     },
     "f645ab539e374d31a5a19c1c443e61f3": {
      "model_module": "jupyter-js-widgets",
      "model_module_version": "~2.1.4",
      "model_name": "LayoutModel",
      "state": {
       "_model_module_version": "~2.1.4",
       "_view_module_version": "~2.1.4"
      }
     },
     "f64f30cc77524c4d88bc8dcf88e9ae40": {
      "model_module": "jupyter-js-widgets",
      "model_module_version": "~2.1.4",
      "model_name": "ButtonModel",
      "state": {
       "_model_module_version": "~2.1.4",
       "_view_module_version": "~2.1.4",
       "description": "Previous",
       "layout": "IPY_MODEL_47c1220b71a3457b906c2f41cfa773df",
       "style": "IPY_MODEL_b597c381e5b14c9f839c9e802b7a4312"
      }
     },
     "f69e47e127d941e2abb45a5b45d09147": {
      "model_module": "jupyter-js-widgets",
      "model_module_version": "~2.1.4",
      "model_name": "LayoutModel",
      "state": {
       "_model_module_version": "~2.1.4",
       "_view_module_version": "~2.1.4"
      }
     },
     "f6af4dd63c524fbdb9c33cd6634720b4": {
      "model_module": "jupyter-js-widgets",
      "model_module_version": "~2.1.4",
      "model_name": "ButtonModel",
      "state": {
       "_model_module_version": "~2.1.4",
       "_view_module_version": "~2.1.4",
       "description": "Next",
       "layout": "IPY_MODEL_b891be15f9944298bddfe4e04def5284",
       "style": "IPY_MODEL_ef291af79c5247e0a1be9fc17f7fd79e"
      }
     },
     "f6e45457c8e049b99f94ad8d35260171": {
      "model_module": "jupyter-js-widgets",
      "model_module_version": "~2.1.4",
      "model_name": "LayoutModel",
      "state": {
       "_model_module_version": "~2.1.4",
       "_view_module_version": "~2.1.4"
      }
     },
     "f72783e8b83e499795f48c2e2d87e5d0": {
      "model_module": "jupyter-js-widgets",
      "model_module_version": "~2.1.4",
      "model_name": "ButtonStyleModel",
      "state": {
       "_model_module_version": "~2.1.4",
       "_view_module_version": "~2.1.4"
      }
     },
     "f73249fd970e488cb8265007c7c15e10": {
      "model_module": "jupyter-js-widgets",
      "model_module_version": "~2.1.4",
      "model_name": "LayoutModel",
      "state": {
       "_model_module_version": "~2.1.4",
       "_view_module_version": "~2.1.4"
      }
     },
     "f791e8eaa7814f488221d7b2cf2ea9f3": {
      "model_module": "jupyter-js-widgets",
      "model_module_version": "~2.1.4",
      "model_name": "ButtonStyleModel",
      "state": {
       "_model_module_version": "~2.1.4",
       "_view_module_version": "~2.1.4"
      }
     },
     "f793a0df41cd4aac85baea0fe1244cf4": {
      "model_module": "jupyter-js-widgets",
      "model_module_version": "~2.1.4",
      "model_name": "ButtonStyleModel",
      "state": {
       "_model_module_version": "~2.1.4",
       "_view_module_version": "~2.1.4"
      }
     },
     "f7cbf7f745834618a2a01959023abd8b": {
      "model_module": "jupyter-js-widgets",
      "model_module_version": "~2.1.4",
      "model_name": "LayoutModel",
      "state": {
       "_model_module_version": "~2.1.4",
       "_view_module_version": "~2.1.4"
      }
     },
     "f7d0eddfcf20498887a6ecd2e65d2b3a": {
      "model_module": "jupyter-js-widgets",
      "model_module_version": "~2.1.4",
      "model_name": "LayoutModel",
      "state": {
       "_model_module_version": "~2.1.4",
       "_view_module_version": "~2.1.4"
      }
     },
     "f7d19d8981be45799194832fccf5ae39": {
      "model_module": "jupyter-js-widgets",
      "model_module_version": "~2.1.4",
      "model_name": "LayoutModel",
      "state": {
       "_model_module_version": "~2.1.4",
       "_view_module_version": "~2.1.4"
      }
     },
     "f7f4193dac2f48e4a4bb583535b3f295": {
      "model_module": "jupyter-js-widgets",
      "model_module_version": "~2.1.4",
      "model_name": "HTMLModel",
      "state": {
       "_model_module_version": "~2.1.4",
       "_view_module_version": "~2.1.4",
       "layout": "IPY_MODEL_1cbe06bf06df437fb61503fe8b6fbb51",
       "value": "\n<svg width=\"100%\" height=0><defs><clipPath id=\"mask\">\n\n<svg width=\"100%\" height=0><defs><clipPath id=\"mask\">\n\n</clipPath></defs></svg>\n<style>\n.bp {\n    width: 100%;\n    -webkit-clip-path: circle(#mask);\n    clip-path: url(#mask);\n}\n</style>\n<img src=\"bp_solution.png\" class=bp>\n\n</clipPath></defs></svg>\n<style>\n.bp {\n    width: 100%;\n    -webkit-clip-path: circle(#mask);\n    clip-path: url(#mask);\n}\n</style>\n<img src=\"bp_solution.png\" class=bp>\n"
      }
     },
     "f81f48fa78e04805b29c3dfebc5748aa": {
      "model_module": "jupyter-js-widgets",
      "model_module_version": "~2.1.4",
      "model_name": "ButtonStyleModel",
      "state": {
       "_model_module_version": "~2.1.4",
       "_view_module_version": "~2.1.4"
      }
     },
     "f82c83bf69ca4f778a2020ebccaf0216": {
      "model_module": "jupyter-js-widgets",
      "model_module_version": "~2.1.4",
      "model_name": "LayoutModel",
      "state": {
       "_model_module_version": "~2.1.4",
       "_view_module_version": "~2.1.4"
      }
     },
     "f857a950c84e4eb89f60196e55c9738c": {
      "model_module": "jupyter-js-widgets",
      "model_module_version": "~2.1.4",
      "model_name": "ButtonModel",
      "state": {
       "_model_module_version": "~2.1.4",
       "_view_module_version": "~2.1.4",
       "description": "Previous",
       "icon": "check",
       "layout": "IPY_MODEL_3c58c553fce6436dbf894bdfced50119",
       "style": "IPY_MODEL_79260ed3bcbb49ad89d25d5570bf6b44",
       "tooltip": "Click me"
      }
     },
     "f89d047926424b088057f974e762030f": {
      "model_module": "jupyter-js-widgets",
      "model_module_version": "~2.1.4",
      "model_name": "ButtonModel",
      "state": {
       "_model_module_version": "~2.1.4",
       "_view_module_version": "~2.1.4",
       "description": "Previous",
       "icon": "check",
       "layout": "IPY_MODEL_263db3cda9f94eb08733d92691cfc995",
       "style": "IPY_MODEL_41c46845985e4e9198e6f18bc6080f6f",
       "tooltip": "Click me"
      }
     },
     "f89fe8f7f9234406a5505c8a70ac2dac": {
      "model_module": "jupyter-js-widgets",
      "model_module_version": "~2.1.4",
      "model_name": "LayoutModel",
      "state": {
       "_model_module_version": "~2.1.4",
       "_view_module_version": "~2.1.4"
      }
     },
     "f8da99c3fffa48b59f2bfeb86200d708": {
      "model_module": "jupyter-js-widgets",
      "model_module_version": "~2.1.4",
      "model_name": "ButtonModel",
      "state": {
       "_model_module_version": "~2.1.4",
       "_view_module_version": "~2.1.4",
       "description": "Previous",
       "icon": "check",
       "layout": "IPY_MODEL_41f8d531d5dc4d48a0a8a31712e8a37f",
       "style": "IPY_MODEL_767453dbb8ab4b8a80ed2978dc4c1314",
       "tooltip": "Click me"
      }
     },
     "f8e61a3daf6147f5ab743b55b96fb024": {
      "model_module": "jupyter-js-widgets",
      "model_module_version": "~2.1.4",
      "model_name": "ButtonStyleModel",
      "state": {
       "_model_module_version": "~2.1.4",
       "_view_module_version": "~2.1.4"
      }
     },
     "f8fb1b9748f04512abc61c72629ce5b5": {
      "model_module": "jupyter-js-widgets",
      "model_module_version": "~2.1.4",
      "model_name": "LayoutModel",
      "state": {
       "_model_module_version": "~2.1.4",
       "_view_module_version": "~2.1.4"
      }
     },
     "f9121eb996b84bf5a4e13257fe7b8dc6": {
      "model_module": "jupyter-js-widgets",
      "model_module_version": "~2.1.4",
      "model_name": "ButtonStyleModel",
      "state": {
       "_model_module_version": "~2.1.4",
       "_view_module_version": "~2.1.4"
      }
     },
     "f91ade2a51f846eeb39883fddb0956a9": {
      "model_module": "jupyter-js-widgets",
      "model_module_version": "~2.1.4",
      "model_name": "ButtonModel",
      "state": {
       "_model_module_version": "~2.1.4",
       "_view_module_version": "~2.1.4",
       "description": "Next",
       "icon": "check",
       "layout": "IPY_MODEL_f7d19d8981be45799194832fccf5ae39",
       "style": "IPY_MODEL_3ae385c95bf54e7bba63c6937df7e8be",
       "tooltip": "Click me"
      }
     },
     "f96714c5e74d46eb8b1f3e4d9e2056ea": {
      "model_module": "jupyter-js-widgets",
      "model_module_version": "~2.1.4",
      "model_name": "LayoutModel",
      "state": {
       "_model_module_version": "~2.1.4",
       "_view_module_version": "~2.1.4",
       "align_items": "stretch",
       "display": "flex",
       "flex_flow": "row",
       "justify_content": "center",
       "width": "100%"
      }
     },
     "f9772848e76a487786c05cd978705c95": {
      "model_module": "jupyter-js-widgets",
      "model_module_version": "~2.1.4",
      "model_name": "ButtonStyleModel",
      "state": {
       "_model_module_version": "~2.1.4",
       "_view_module_version": "~2.1.4"
      }
     },
     "f97dfc1cf07f467ebc031d79b9e3424b": {
      "model_module": "jupyter-js-widgets",
      "model_module_version": "~2.1.4",
      "model_name": "ButtonModel",
      "state": {
       "_model_module_version": "~2.1.4",
       "_view_module_version": "~2.1.4",
       "description": "Previous",
       "layout": "IPY_MODEL_cb8f2b16d9d84305b2758fd6b02f7f29",
       "style": "IPY_MODEL_99463b38283f4b30bf58ed7da0edf588"
      }
     },
     "f998cda5a2ee471e9ddd00f97168a49b": {
      "model_module": "jupyter-js-widgets",
      "model_module_version": "~2.1.4",
      "model_name": "ButtonStyleModel",
      "state": {
       "_model_module_version": "~2.1.4",
       "_view_module_version": "~2.1.4"
      }
     },
     "f9be3a87bb164cde83900782efcfd278": {
      "model_module": "jupyter-js-widgets",
      "model_module_version": "~2.1.4",
      "model_name": "LayoutModel",
      "state": {
       "_model_module_version": "~2.1.4",
       "_view_module_version": "~2.1.4"
      }
     },
     "f9c5771916a04222aa2211b4b6e76111": {
      "model_module": "jupyter-js-widgets",
      "model_module_version": "~2.1.4",
      "model_name": "ButtonModel",
      "state": {
       "_model_module_version": "~2.1.4",
       "_view_module_version": "~2.1.4",
       "description": "Previous",
       "icon": "check",
       "layout": "IPY_MODEL_8b4cfc712a474b04bc9de49d7f78fdb3",
       "style": "IPY_MODEL_cb2bc99abe20472b931d9ede26318fd2",
       "tooltip": "Click me"
      }
     },
     "f9d3ec323aed4a71b121a19716c647a5": {
      "model_module": "jupyter-js-widgets",
      "model_module_version": "~2.1.4",
      "model_name": "ButtonStyleModel",
      "state": {
       "_model_module_version": "~2.1.4",
       "_view_module_version": "~2.1.4"
      }
     },
     "f9e79e570207447bbd0e1ac7b2368a6a": {
      "model_module": "jupyter-js-widgets",
      "model_module_version": "~2.1.4",
      "model_name": "LayoutModel",
      "state": {
       "_model_module_version": "~2.1.4",
       "_view_module_version": "~2.1.4"
      }
     },
     "f9f0c544e7d64c2c907e49e158f40a17": {
      "model_module": "jupyter-js-widgets",
      "model_module_version": "~2.1.4",
      "model_name": "LayoutModel",
      "state": {
       "_model_module_version": "~2.1.4",
       "_view_module_version": "~2.1.4"
      }
     },
     "fa62ae1d41fc41b889d44694ec81c7b2": {
      "model_module": "jupyter-js-widgets",
      "model_module_version": "~2.1.4",
      "model_name": "HTMLModel",
      "state": {
       "_model_module_version": "~2.1.4",
       "_view_module_version": "~2.1.4",
       "layout": "IPY_MODEL_cb3ec9f85a8b43f789b179188cfcb28f",
       "value": "\n<svg width=\"100%\" height=0><defs><clipPath id=\"mask\">\n<rect x=0 y=0 width='28%' height='500' /><rect x=0 y=0 width='72%' height='170' /><rect x='70%' y=0 width='100%' height='100' /><rect x=0 y=0 width='100%' height='50' />\n</clipPath></defs></svg>\n<style>\n.bp {\n    width: 100%;\n    -webkit-clip-path: circle(#mask);\n    clip-path: url(#mask);\n}\n</style>\n<img src=\"bp_solution.png\" class=bp>\n"
      }
     },
     "fa7f444089b548f0a5ca6eaa9755764d": {
      "model_module": "jupyter-js-widgets",
      "model_module_version": "~2.1.4",
      "model_name": "ButtonStyleModel",
      "state": {
       "_model_module_version": "~2.1.4",
       "_view_module_version": "~2.1.4"
      }
     },
     "fa96502cdb8f4228bc7e102fa552579d": {
      "model_module": "jupyter-js-widgets",
      "model_module_version": "~2.1.4",
      "model_name": "ButtonModel",
      "state": {
       "_model_module_version": "~2.1.4",
       "_view_module_version": "~2.1.4",
       "description": "Next",
       "layout": "IPY_MODEL_adc3faa610e543048b8fea1741b6d4be",
       "style": "IPY_MODEL_823f78d3e6d54fc4a6675f76341e4318"
      }
     },
     "fa9a0e7e4957433e98cf3bea5eea5618": {
      "model_module": "jupyter-js-widgets",
      "model_module_version": "~2.1.4",
      "model_name": "ButtonStyleModel",
      "state": {
       "_model_module_version": "~2.1.4",
       "_view_module_version": "~2.1.4"
      }
     },
     "fab0642d49dd4c9f9b469c7eac1427b9": {
      "model_module": "jupyter-js-widgets",
      "model_module_version": "~2.1.4",
      "model_name": "ButtonModel",
      "state": {
       "_model_module_version": "~2.1.4",
       "_view_module_version": "~2.1.4",
       "description": "Next",
       "layout": "IPY_MODEL_7b1c2d9420824b33b67c5e0bbd1c3280",
       "style": "IPY_MODEL_36c79759d61c4bb08af571b4198fd553"
      }
     },
     "fadb9022eaae4186ad10ea6b2dce2108": {
      "model_module": "jupyter-js-widgets",
      "model_module_version": "~2.1.4",
      "model_name": "ButtonStyleModel",
      "state": {
       "_model_module_version": "~2.1.4",
       "_view_module_version": "~2.1.4"
      }
     },
     "fae52f2a295748c1bccf74ca0ffc2d37": {
      "model_module": "jupyter-js-widgets",
      "model_module_version": "~2.1.4",
      "model_name": "HTMLModel",
      "state": {
       "_model_module_version": "~2.1.4",
       "_view_module_version": "~2.1.4",
       "layout": "IPY_MODEL_59aced4b951e48c9ac972e3c6bbc73e8",
       "value": "<img src='mlp.png' text-align='center'>"
      }
     },
     "fb094ef4328940a88acada4b783a90ca": {
      "model_module": "jupyter-js-widgets",
      "model_module_version": "~2.1.4",
      "model_name": "LayoutModel",
      "state": {
       "_model_module_version": "~2.1.4",
       "_view_module_version": "~2.1.4"
      }
     },
     "fb235f6c8d3247de906f0448e8d8efdc": {
      "model_module": "jupyter-js-widgets",
      "model_module_version": "~2.1.4",
      "model_name": "ButtonStyleModel",
      "state": {
       "_model_module_version": "~2.1.4",
       "_view_module_version": "~2.1.4"
      }
     },
     "fb2b354d908946a782bfe2ef3355c803": {
      "model_module": "jupyter-js-widgets",
      "model_module_version": "~2.1.4",
      "model_name": "LayoutModel",
      "state": {
       "_model_module_version": "~2.1.4",
       "_view_module_version": "~2.1.4"
      }
     },
     "fb337fe4dee0404a8f9015a954dfb2c7": {
      "model_module": "jupyter-js-widgets",
      "model_module_version": "~2.1.4",
      "model_name": "SliderStyleModel",
      "state": {
       "_model_module_version": "~2.1.4",
       "_view_module_version": "~2.1.4"
      }
     },
     "fb4a58aecc4548b0ade78f567730dcaa": {
      "model_module": "jupyter-js-widgets",
      "model_module_version": "~2.1.4",
      "model_name": "ButtonModel",
      "state": {
       "_model_module_version": "~2.1.4",
       "_view_module_version": "~2.1.4",
       "description": "Next",
       "layout": "IPY_MODEL_d1b059c9e1c5463786207a19709b6d17",
       "style": "IPY_MODEL_45a8f5be62164fa2a195e247e60996a5"
      }
     },
     "fbcece8864f744629615fabcb035c324": {
      "model_module": "jupyter-js-widgets",
      "model_module_version": "~2.1.4",
      "model_name": "LayoutModel",
      "state": {
       "_model_module_version": "~2.1.4",
       "_view_module_version": "~2.1.4"
      }
     },
     "fbda0d391d484de48714cd6f227b1f38": {
      "model_module": "jupyter-js-widgets",
      "model_module_version": "~2.1.4",
      "model_name": "ButtonStyleModel",
      "state": {
       "_model_module_version": "~2.1.4",
       "_view_module_version": "~2.1.4"
      }
     },
     "fbe340160b0e462ab2547d715ebb302d": {
      "model_module": "jupyter-js-widgets",
      "model_module_version": "~2.1.4",
      "model_name": "LayoutModel",
      "state": {
       "_model_module_version": "~2.1.4",
       "_view_module_version": "~2.1.4"
      }
     },
     "fbf525fd9b484d9f9e9987dd27250aca": {
      "model_module": "jupyter-js-widgets",
      "model_module_version": "~2.1.4",
      "model_name": "ButtonModel",
      "state": {
       "_model_module_version": "~2.1.4",
       "_view_module_version": "~2.1.4",
       "description": "Previous",
       "icon": "check",
       "layout": "IPY_MODEL_9b79b20ee2ff44b89f42dea8ab388b3f",
       "style": "IPY_MODEL_427a87a776234722b9dfbad73632ac98",
       "tooltip": "Click me"
      }
     },
     "fbfcbd446e6a4abc98e3d4b280d26d60": {
      "model_module": "jupyter-js-widgets",
      "model_module_version": "~2.1.4",
      "model_name": "LayoutModel",
      "state": {
       "_model_module_version": "~2.1.4",
       "_view_module_version": "~2.1.4"
      }
     },
     "fc39631f3579464589d452fa4fd4b77e": {
      "model_module": "jupyter-js-widgets",
      "model_module_version": "~2.1.4",
      "model_name": "ButtonStyleModel",
      "state": {
       "_model_module_version": "~2.1.4",
       "_view_module_version": "~2.1.4"
      }
     },
     "fc3e7d6531cd43628d97b05f5d89f7b0": {
      "model_module": "jupyter-js-widgets",
      "model_module_version": "~2.1.4",
      "model_name": "LayoutModel",
      "state": {
       "_model_module_version": "~2.1.4",
       "_view_module_version": "~2.1.4",
       "align_items": "stretch",
       "display": "flex",
       "flex_flow": "row",
       "justify_content": "center",
       "width": "100%"
      }
     },
     "fc442b50ace74eecb07da67b9a994183": {
      "model_module": "jupyter-js-widgets",
      "model_module_version": "~2.1.4",
      "model_name": "ButtonStyleModel",
      "state": {
       "_model_module_version": "~2.1.4",
       "_view_module_version": "~2.1.4"
      }
     },
     "fc5201de6a3a474f8bdec392caed17bf": {
      "model_module": "jupyter-js-widgets",
      "model_module_version": "~2.1.4",
      "model_name": "ButtonModel",
      "state": {
       "_model_module_version": "~2.1.4",
       "_view_module_version": "~2.1.4",
       "description": "Next",
       "layout": "IPY_MODEL_0e4de1f62fe445c4948d589843fe3f3b",
       "style": "IPY_MODEL_877b248c00d54e088545e03dce9711ec"
      }
     },
     "fc5f24a2f8f346409caeef52d252d474": {
      "model_module": "jupyter-js-widgets",
      "model_module_version": "~2.1.4",
      "model_name": "LayoutModel",
      "state": {
       "_model_module_version": "~2.1.4",
       "_view_module_version": "~2.1.4"
      }
     },
     "fc76cd4368a248d081e8047c5ca575b3": {
      "model_module": "jupyter-js-widgets",
      "model_module_version": "~2.1.4",
      "model_name": "LayoutModel",
      "state": {
       "_model_module_version": "~2.1.4",
       "_view_module_version": "~2.1.4"
      }
     },
     "fc8acb2f371a473aa070af24d21ec93f": {
      "model_module": "jupyter-js-widgets",
      "model_module_version": "~2.1.4",
      "model_name": "ButtonModel",
      "state": {
       "_model_module_version": "~2.1.4",
       "_view_module_version": "~2.1.4",
       "description": "Next",
       "layout": "IPY_MODEL_b70fa87c3ea14f3dad8433b9509f84bd",
       "style": "IPY_MODEL_17c3686e1faa4767bd66f9446610dab7"
      }
     },
     "fc9e6310a1c44b53a5049733b4dc84b7": {
      "model_module": "jupyter-js-widgets",
      "model_module_version": "~2.1.4",
      "model_name": "LayoutModel",
      "state": {
       "_model_module_version": "~2.1.4",
       "_view_module_version": "~2.1.4"
      }
     },
     "fcabf2c299624f34bb8216451712e5c4": {
      "model_module": "jupyter-js-widgets",
      "model_module_version": "~2.1.4",
      "model_name": "ButtonStyleModel",
      "state": {
       "_model_module_version": "~2.1.4",
       "_view_module_version": "~2.1.4"
      }
     },
     "fcb368baf87c4d59a136ff74dafcf8fe": {
      "model_module": "jupyter-js-widgets",
      "model_module_version": "~2.1.4",
      "model_name": "ButtonStyleModel",
      "state": {
       "_model_module_version": "~2.1.4",
       "_view_module_version": "~2.1.4"
      }
     },
     "fcc4e4aee5f446b499ae643e7b4145e6": {
      "model_module": "jupyter-js-widgets",
      "model_module_version": "~2.1.4",
      "model_name": "ButtonModel",
      "state": {
       "_model_module_version": "~2.1.4",
       "_view_module_version": "~2.1.4",
       "description": "Next",
       "icon": "check",
       "layout": "IPY_MODEL_d561274ef0a94436abc712bbe98ff105",
       "style": "IPY_MODEL_3be66292ea4c4ce8997af231499c9d52",
       "tooltip": "Click me"
      }
     },
     "fce4307a4f6e4765a41223f78d3ab3be": {
      "model_module": "jupyter-js-widgets",
      "model_module_version": "~2.1.4",
      "model_name": "ButtonModel",
      "state": {
       "_model_module_version": "~2.1.4",
       "_view_module_version": "~2.1.4",
       "description": "Previous",
       "layout": "IPY_MODEL_86eb9050e74c40d5a0b07b11d9b482e0",
       "style": "IPY_MODEL_2fd6521b5cdd4f6e88eef944bbedd1ba"
      }
     },
     "fcfbb875497840c880484e1717f1b382": {
      "model_module": "jupyter-js-widgets",
      "model_module_version": "~2.1.4",
      "model_name": "ButtonStyleModel",
      "state": {
       "_model_module_version": "~2.1.4",
       "_view_module_version": "~2.1.4"
      }
     },
     "fd1b7314c8dd43ec91787272d3dc97b6": {
      "model_module": "jupyter-js-widgets",
      "model_module_version": "~2.1.4",
      "model_name": "LayoutModel",
      "state": {
       "_model_module_version": "~2.1.4",
       "_view_module_version": "~2.1.4"
      }
     },
     "fd1d64bcc06b4a9f96f6b8ca42efc0da": {
      "model_module": "jupyter-js-widgets",
      "model_module_version": "~2.1.4",
      "model_name": "ButtonModel",
      "state": {
       "_model_module_version": "~2.1.4",
       "_view_module_version": "~2.1.4",
       "description": "Next",
       "icon": "check",
       "layout": "IPY_MODEL_fc76cd4368a248d081e8047c5ca575b3",
       "style": "IPY_MODEL_e323583a7e4a4991ad7ddeca9e8a762f",
       "tooltip": "Click me"
      }
     },
     "fd3c2b23af5d40218d2ab4864b68635f": {
      "model_module": "jupyter-js-widgets",
      "model_module_version": "~2.1.4",
      "model_name": "ButtonStyleModel",
      "state": {
       "_model_module_version": "~2.1.4",
       "_view_module_version": "~2.1.4"
      }
     },
     "fd5a53057b3a49ca89db8c5145256258": {
      "model_module": "jupyter-js-widgets",
      "model_module_version": "~2.1.4",
      "model_name": "ButtonStyleModel",
      "state": {
       "_model_module_version": "~2.1.4",
       "_view_module_version": "~2.1.4"
      }
     },
     "fd610de94e74439092bbdee64961629c": {
      "model_module": "jupyter-js-widgets",
      "model_module_version": "~2.1.4",
      "model_name": "LayoutModel",
      "state": {
       "_model_module_version": "~2.1.4",
       "_view_module_version": "~2.1.4"
      }
     },
     "fd87a3d106774ce380ae03b5deafa884": {
      "model_module": "jupyter-js-widgets",
      "model_module_version": "~2.1.4",
      "model_name": "ButtonModel",
      "state": {
       "_model_module_version": "~2.1.4",
       "_view_module_version": "~2.1.4",
       "description": "Previous",
       "icon": "check",
       "layout": "IPY_MODEL_e21bdacf96ed4f1eb5833096fc363665",
       "style": "IPY_MODEL_f3a2b19cefc84c7aab9f4404e81c01a6",
       "tooltip": "Click me"
      }
     },
     "fd9af6c7e8a84fc9b8591c08f31a99bb": {
      "model_module": "jupyter-js-widgets",
      "model_module_version": "~2.1.4",
      "model_name": "ButtonModel",
      "state": {
       "_model_module_version": "~2.1.4",
       "_view_module_version": "~2.1.4",
       "description": "Previous",
       "icon": "check",
       "layout": "IPY_MODEL_5501a34d0e8d41b494b7851d51593a9b",
       "style": "IPY_MODEL_e74739714d934da28fffe12e7f2dddd6",
       "tooltip": "Click me"
      }
     },
     "fda7d6ae9ecd4cd28214d11efa800a98": {
      "model_module": "jupyter-js-widgets",
      "model_module_version": "~2.1.4",
      "model_name": "HTMLModel",
      "state": {
       "_model_module_version": "~2.1.4",
       "_view_module_version": "~2.1.4",
       "layout": "IPY_MODEL_96933b702be34b89a8557f7958e2c279",
       "value": "\n<svg width=\"100%\" height=0><defs><clipPath id=\"mask\">\n<rect x=0 y=0 width='28%' height='500' /><rect x=0 y=0 width='100%' height='50' />\n</clipPath></defs></svg>\n<style>\n.bp {\n    width: 100%;\n    -webkit-clip-path: circle(#mask);\n    clip-path: url(#mask);\n}\n</style>\n<img src=\"bp_solution.png\" class=bp>\n"
      }
     },
     "fdd4f376181b47ae8619ca6761f458de": {
      "model_module": "jupyter-js-widgets",
      "model_module_version": "~2.1.4",
      "model_name": "LayoutModel",
      "state": {
       "_model_module_version": "~2.1.4",
       "_view_module_version": "~2.1.4"
      }
     },
     "fe110f3035a84f22bb56c921c02c76d9": {
      "model_module": "jupyter-js-widgets",
      "model_module_version": "~2.1.4",
      "model_name": "LayoutModel",
      "state": {
       "_model_module_version": "~2.1.4",
       "_view_module_version": "~2.1.4"
      }
     },
     "fe2f9b0bed8048b6bf8cfe301b2b72fb": {
      "model_module": "jupyter-js-widgets",
      "model_module_version": "~2.1.4",
      "model_name": "ButtonModel",
      "state": {
       "_model_module_version": "~2.1.4",
       "_view_module_version": "~2.1.4",
       "description": "Previous",
       "icon": "check",
       "layout": "IPY_MODEL_4fab39912f484914b0185067bdc844b1",
       "style": "IPY_MODEL_6f715669ae0d4a8cbc54cac886556437",
       "tooltip": "Click me"
      }
     },
     "fe420d2c57d14b49894856535246514c": {
      "model_module": "jupyter-js-widgets",
      "model_module_version": "~2.1.4",
      "model_name": "HTMLModel",
      "state": {
       "_model_module_version": "~2.1.4",
       "_view_module_version": "~2.1.4",
       "layout": "IPY_MODEL_318b2318d3fa4cefb0881b1668f136e2",
       "value": "bla"
      }
     },
     "fe6daa63e40b4a1ca992195e8e193170": {
      "model_module": "jupyter-js-widgets",
      "model_module_version": "~2.1.4",
      "model_name": "HTMLModel",
      "state": {
       "_model_module_version": "~2.1.4",
       "_view_module_version": "~2.1.4",
       "layout": "IPY_MODEL_e67797262d32415a825058cdb01d9b6e",
       "value": "\n<svg width=\"100%\" height=0><defs><clipPath id=\"mask\">\n<rect x=0 y=0 width='28%' height='350' /><rect x=0 y=0 width='100%' height='50' />\n</clipPath></defs></svg>\n<style>\n.bp {\n    width: 100%;\n    -webkit-clip-path: circle(#mask);\n    clip-path: url(#mask);\n}\n</style>\n<img src=\"bp_solution.png\" class=bp>\n"
      }
     },
     "fe8d57fb7de549a0b421b5024b536acc": {
      "model_module": "jupyter-js-widgets",
      "model_module_version": "~2.1.4",
      "model_name": "LayoutModel",
      "state": {
       "_model_module_version": "~2.1.4",
       "_view_module_version": "~2.1.4"
      }
     },
     "fe9aeb3dcc5c4472876fa8c811f09d4a": {
      "model_module": "jupyter-js-widgets",
      "model_module_version": "~2.1.4",
      "model_name": "ButtonModel",
      "state": {
       "_model_module_version": "~2.1.4",
       "_view_module_version": "~2.1.4",
       "description": "Next",
       "layout": "IPY_MODEL_f128e9cb898447548fbc8a98b0d8eb78",
       "style": "IPY_MODEL_d4b4ab9fdf714710b5c23a052789be91"
      }
     },
     "fea63ed8b798427cb9f101bdf664e5bd": {
      "model_module": "jupyter-js-widgets",
      "model_module_version": "~2.1.4",
      "model_name": "ButtonStyleModel",
      "state": {
       "_model_module_version": "~2.1.4",
       "_view_module_version": "~2.1.4"
      }
     },
     "fec80bc1f0cb4acc896152f7f7a3e5fe": {
      "model_module": "jupyter-js-widgets",
      "model_module_version": "~2.1.4",
      "model_name": "ButtonStyleModel",
      "state": {
       "_model_module_version": "~2.1.4",
       "_view_module_version": "~2.1.4"
      }
     },
     "fecfe5959de04ce79d24ac4f65d01c80": {
      "model_module": "jupyter-js-widgets",
      "model_module_version": "~2.1.4",
      "model_name": "ButtonStyleModel",
      "state": {
       "_model_module_version": "~2.1.4",
       "_view_module_version": "~2.1.4"
      }
     },
     "fee03779ce0d4f5bb786a45497290cb0": {
      "model_module": "jupyter-js-widgets",
      "model_module_version": "~2.1.4",
      "model_name": "HTMLModel",
      "state": {
       "_model_module_version": "~2.1.4",
       "_view_module_version": "~2.1.4",
       "layout": "IPY_MODEL_b217fe274f604f47b96606f5f94c0844",
       "value": "\n<svg width=\"100%\" height=0><defs><clipPath id=\"mask\">\n<rect x=0 y=0 width='28%' height='500' /><rect x=0 y=0 width='100%' height='50' />\n</clipPath></defs></svg>\n<style>\n.bp {\n    width: 100%;\n    -webkit-clip-path: circle(#mask);\n    clip-path: url(#mask);\n}\n</style>\n<img src=\"bp_solution.png\" class=bp>\n"
      }
     },
     "feeeea057b724631aaff1e9273ff4a35": {
      "model_module": "jupyter-js-widgets",
      "model_module_version": "~2.1.4",
      "model_name": "HTMLModel",
      "state": {
       "_model_module_version": "~2.1.4",
       "_view_module_version": "~2.1.4",
       "layout": "IPY_MODEL_4fa25272b16b4babba378f7083a2fce2",
       "value": "\n<svg width=\"100%\" height=0><defs><clipPath id=\"mask\">\n<rect x=0 y=0 width='28%' height='500' /><rect x=0 y=0 width='100%' height='50' />\n</clipPath></defs></svg>\n<style>\n.bp {\n    width: 100%;\n    -webkit-clip-path: circle(#mask);\n    clip-path: url(#mask);\n}\n</style>\n<img src=\"bp_solution.png\" class=bp>\n"
      }
     },
     "feefb1b40f794538bcda001014e1ae03": {
      "model_module": "jupyter-js-widgets",
      "model_module_version": "~2.1.4",
      "model_name": "ButtonModel",
      "state": {
       "_model_module_version": "~2.1.4",
       "_view_module_version": "~2.1.4",
       "description": "Previous",
       "layout": "IPY_MODEL_7107fbfabbaa4908b0788be74901f40d",
       "style": "IPY_MODEL_39d35cfc8f024038accaf315129211bb"
      }
     },
     "ff0c75ba09754c6ab12c57d9ae4eb830": {
      "model_module": "jupyter-js-widgets",
      "model_module_version": "~2.1.4",
      "model_name": "LayoutModel",
      "state": {
       "_model_module_version": "~2.1.4",
       "_view_module_version": "~2.1.4"
      }
     },
     "ff1d0369cd7b46e69a7a7278a13775de": {
      "model_module": "jupyter-js-widgets",
      "model_module_version": "~2.1.4",
      "model_name": "LayoutModel",
      "state": {
       "_model_module_version": "~2.1.4",
       "_view_module_version": "~2.1.4"
      }
     },
     "ff21ca0e72444851b3dfe7bf2a4e9bb3": {
      "model_module": "jupyter-js-widgets",
      "model_module_version": "~2.1.4",
      "model_name": "HTMLModel",
      "state": {
       "_model_module_version": "~2.1.4",
       "_view_module_version": "~2.1.4",
       "layout": "IPY_MODEL_d33fb786cba2461aad04198fe31ebe5c",
       "value": "\n<svg width=\"100%\">\n   <defs>\n    <clipPath id=\"mask\">\n      <rect x=0 y=0 width=\"50%\" height=\"500\">\n    </clipPath>\n  </defs>\n</svg>\n<style>\n\n.bp {\n    y: 100px;\n    width: 100%;\n    -webkit-clip-path: circle(#mask);\n    clip-path: url(#mask);\n}\n</style>\n<img src=\"bp_solution.png\" class=bp>\n"
      }
     },
     "ff231ad1dd014477a801ddd86b8b51c6": {
      "model_module": "jupyter-js-widgets",
      "model_module_version": "~2.1.4",
      "model_name": "HTMLModel",
      "state": {
       "_model_module_version": "~2.1.4",
       "_view_module_version": "~2.1.4",
       "layout": "IPY_MODEL_fd1b7314c8dd43ec91787272d3dc97b6",
       "value": "\n<svg width=\"0\" height=\"0\">\n   <defs>\n    <clipPath id=\"mask\">\n      <rect x=20 y=20 width=\"50\">\n    </clipPath>\n  </defs>\n</svg>\n<style>\n.bp {\n    width: 100%;\n    -webkit-clip-path: circle(50px);\n    clip-path: url(#mask);\n}\n</style>\n<img src=\"bp_solution.png\" class=bp>\n"
      }
     },
     "ff45053255fa4cd2a98852f8ab771359": {
      "model_module": "jupyter-js-widgets",
      "model_module_version": "~2.1.4",
      "model_name": "HTMLModel",
      "state": {
       "_model_module_version": "~2.1.4",
       "_view_module_version": "~2.1.4",
       "layout": "IPY_MODEL_f28ab859c1034dd29b8f3d391f264e98",
       "value": "\n<svg width=\"100%\">\n   <defs>\n    <clipPath id=\"mask\">\n      <rect x=0 y=100 width=\"50%\" height=\"500\">\n    </clipPath>\n  </defs>\n</svg>\n<style>\n\n.bp {\n    width: 100%;\n    -webkit-clip-path: circle(#mask);\n    clip-path: url(#mask);\n}\n</style>\n<img src=\"bp_solution.png\" class=bp>\n"
      }
     },
     "ff4a7cfc2a4749aca273cc24ae5b9393": {
      "model_module": "jupyter-js-widgets",
      "model_module_version": "~2.1.4",
      "model_name": "ButtonModel",
      "state": {
       "_model_module_version": "~2.1.4",
       "_view_module_version": "~2.1.4",
       "description": "Previous",
       "icon": "check",
       "layout": "IPY_MODEL_7fa04959c7104060a0271ec41edacada",
       "style": "IPY_MODEL_0ca0d80dfaaa46e093f021a5101e66cc",
       "tooltip": "Click me"
      }
     },
     "ff5b045d34ef42aaa28c63cc698edeaf": {
      "model_module": "jupyter-js-widgets",
      "model_module_version": "~2.1.4",
      "model_name": "ButtonModel",
      "state": {
       "_model_module_version": "~2.1.4",
       "_view_module_version": "~2.1.4",
       "description": "Previous",
       "icon": "check",
       "layout": "IPY_MODEL_2f861a77416e4bcc9c2fe535bcbdbc5e",
       "style": "IPY_MODEL_ce553b44522f436d92ce3b34dc50e1ac",
       "tooltip": "Click me"
      }
     },
     "ffd41a578de8446db532d09749bb951f": {
      "model_module": "jupyter-js-widgets",
      "model_module_version": "~2.1.4",
      "model_name": "LayoutModel",
      "state": {
       "_model_module_version": "~2.1.4",
       "_view_module_version": "~2.1.4"
      }
     }
    },
    "version_major": 1,
    "version_minor": 0
   }
  }
 },
 "nbformat": 4,
 "nbformat_minor": 1
}
