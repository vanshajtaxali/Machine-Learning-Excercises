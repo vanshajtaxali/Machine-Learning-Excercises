{
 "cells": [
  {
   "cell_type": "markdown",
   "metadata": {},
   "source": [
    "# Assignment 7: Kernel Methods \n",
    "\n",
    "------------------------------\n",
    "As a reminder of our syntax during the assignment, you will see __Tasks__ and __Questions__.\n",
    "\n",
    "__Tasks__ are the steps you should follow to find the solution.\n",
    "\n",
    "__Questions__ are important concepts of the lecture. Answers to Questions should be given in the notebook such that you can upload them together with your implementations to your git repository. If you provide the notebooks before Wednesday, June 20th\n",
    ", you maximize the probability to receive individual feedback about your solutions by our lecture assistants.\n"
   ]
  },
  {
   "cell_type": "markdown",
   "metadata": {},
   "source": [
    "## Exercise 1: Theory of Kernel Methods\n",
    "\n",
    "In this exercise, you should recap the fundamental defining properties of kernel functions and get some practice by deciding whether a given function is a kernel or not.\n",
    "\n",
    "[7.1 Theory of Kernel Methods](7.1 Theory of Kernels.ipynb)"
   ]
  },
  {
   "cell_type": "markdown",
   "metadata": {},
   "source": [
    "## Exercise 2: Kernel methods in practice\n",
    "\n",
    "In this hands-on exercise, you get 4 different data sets and your task is to find the best kernel and corresponding parameters to maximize the classification accuracy using a Kernel-SVM. Additionally, you will visually inspect the kernel mappings by using Kernel-PCA. \n",
    "\n",
    "[7.2 Kernel methods in practice](7.2 Kernel methods in practice.ipynb)"
   ]
  }
 ],
 "metadata": {
  "kernelspec": {
   "display_name": "Python 2",
   "language": "python",
   "name": "python2"
  },
  "language_info": {
   "codemirror_mode": {
    "name": "ipython",
    "version": 2
   },
   "file_extension": ".py",
   "mimetype": "text/x-python",
   "name": "python",
   "nbconvert_exporter": "python",
   "pygments_lexer": "ipython2",
   "version": "2.7.13"
  }
 },
 "nbformat": 4,
 "nbformat_minor": 1
}
