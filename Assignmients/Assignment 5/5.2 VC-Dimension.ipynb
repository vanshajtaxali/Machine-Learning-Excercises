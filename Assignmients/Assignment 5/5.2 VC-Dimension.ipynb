{
 "cells": [
  {
   "cell_type": "markdown",
   "metadata": {},
   "source": [
    "## 5.2 VC Dimension\n",
    "\n",
    "This exercise will let you explore the Vapnik-Chervonenkis dimension for logistic regression with polynomial features. We will test the shattering of datasets by fitting a classifier for every possible label combination. The samples will be arranged equally distant from each other on the unit circle.\n",
    "\n",
    "**Task a)**\n",
    "Implement fitting the [sklearn logistic regression classifier](http://scikit-learn.org/stable/modules/generated/sklearn.linear_model.LogisticRegression.html) in the loop for every label combination. Find a suitable criterion to decide if a particular label set has been solved, so you can decide if $n$ points have been shattered.\n",
    "\n",
    "**Q 5.2.1: You know from the lecture that linear models can shatter sets with 3 samples. Set the regularization penalty for logistic regression to 'l1' with C = 2 and n_samples = 3. What happens? Why?**\n",
    "\n",
    "---\n",
    "\n",
    "**Task b)**\n",
    "Transform the dataset with polynomial features of degree 3 as in exercise 5.1. Make sure to put the regularization back to 'l2' if you answered the previous question.\n",
    "\n",
    "**Q 5.2.2: The theoretical VC dimension for polynomial models of degree d with k input variables is $\\begin{pmatrix} d + k \\\\ d \\end{pmatrix}$. How many did you shatter? Why is it not the theoretical result?**\n"
   ]
  },
  {
   "cell_type": "code",
   "execution_count": 1,
   "metadata": {},
   "outputs": [],
   "source": [
    "%%capture\n",
    "%run '5.1 Bias-Variance Analysis.ipynb'\n",
    "# We silently run your solution to the first exercise to have\n",
    "# the previously defined functions and data available."
   ]
  },
  {
   "cell_type": "code",
   "execution_count": 2,
   "metadata": {},
   "outputs": [
    {
     "data": {
      "text/plain": [
       "<Figure size 432x288 with 0 Axes>"
      ]
     },
     "metadata": {},
     "output_type": "display_data"
    },
    {
     "data": {
      "image/png": "[encoded data removed]",
      "text/plain": [
       "<Figure size 576x576 with 1 Axes>"
      ]
     },
     "metadata": {},
     "output_type": "display_data"
    }
   ],
   "source": [
    "%matplotlib inline\n",
    "import itertools\n",
    "\n",
    "import numpy as np\n",
    "from sklearn.linear_model import LogisticRegression\n",
    "import matplotlib.pyplot as plt\n",
    "try:\n",
    "    import seaborn as sns\n",
    "    sns.set_context('talk')\n",
    "except ImportError: pass\n",
    "\n",
    "# We set up some stuff for plotting the decision functions\n",
    "plt.clf()\n",
    "fig, ax = plt.subplots(figsize=(8, 8))\n",
    "xx, yy = np.meshgrid(np.linspace(-1.2, 1.2, 100),\n",
    "                                np.linspace(-1.2, 1.2, 100))\n",
    "X_plot = np.c_[xx.ravel(), yy.ravel()]\n",
    "def plot_decision(logistic_regression):\n",
    "    if lr is None:\n",
    "        return\n",
    "    Z = logistic_regression.predict_proba(X_plot)\n",
    "    levels = np.linspace(0.47, 0.53, 6)\n",
    "    ax.contour(xx, yy, Z[:, 1].reshape(xx.shape),\n",
    "               levels, cmap=plt.cm.coolwarm,\n",
    "               alpha=0.8)\n",
    "\n",
    "# The number of samples in our training dataset\n",
    "# that determines the VC dimension.\n",
    "n_samples = 3\n",
    "\n",
    "# Create all samples on the unit circle\n",
    "theta = np.linspace(0.5 * np.pi, 2.5 * np.pi, n_samples, endpoint=False)\n",
    "X = np.vstack([np.cos(theta), np.sin(theta)]).T\n",
    "\n",
    "# TODO(Task b): Add polynomial features to X_train and X_plot\n",
    "X_train = X\n",
    "X_plot = X_plot\n",
    "\n",
    "# TODO(Task a)\n",
    "shattered = None\n",
    "\n",
    "# We loop over all possible target combinations to check if\n",
    "# all datasets of size n_samples can be shattered\n",
    "for i in itertools.product([-1, 1], repeat=n_samples):\n",
    "    y = np.array(i)\n",
    "    \n",
    "    # We ignore the trivial label sets, where each sample belongs\n",
    "    # to the same class\n",
    "    if np.sum(y) in [-n_samples, n_samples]:\n",
    "        continue\n",
    "    \n",
    "    # TODO(Task a): Fit a logistic regression classifier to the training set\n",
    "    # Choose a low regularization penalty first, i.e. high C (e.g. 100)\n",
    "    lr = None\n",
    "    \n",
    "    # Call the plotting function with the logistic regression classifier\n",
    "    # It draws the decision boundary with a gradient from blue to red for the two classes.\n",
    "    # If the computational load is to heavy, you can comment this out\n",
    "    plot_decision(lr)\n",
    "\n",
    "    # TODO(Task a): Implement a criterion to see if these labels were shattered\n",
    "    shattered = None\n",
    "\n",
    "ax.scatter(X[:, 0], X[:, 1], c='k')\n",
    "ax.set_aspect('equal')\n",
    "ax.set_xlim([-1.2, 1.2])\n",
    "ax.set_ylim([-1.2, 1.2])\n",
    "\n",
    "if shattered is not None:\n",
    "    print('Unit circle dataset with {:d} samples {:s}shattered!'.format(n_samples, '' if shattered else 'not '))"
   ]
  }
 ],
 "metadata": {
  "kernelspec": {
   "display_name": "Python 3",
   "language": "python",
   "name": "python3"
  },
  "language_info": {
   "codemirror_mode": {
    "name": "ipython",
    "version": 3
   },
   "file_extension": ".py",
   "mimetype": "text/x-python",
   "name": "python",
   "nbconvert_exporter": "python",
   "pygments_lexer": "ipython3",
   "version": "3.6.5"
  }
 },
 "nbformat": 4,
 "nbformat_minor": 2
}
